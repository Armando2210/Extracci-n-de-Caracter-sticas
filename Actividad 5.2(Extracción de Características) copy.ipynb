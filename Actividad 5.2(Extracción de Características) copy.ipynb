{
 "cells": [
  {
   "cell_type": "code",
   "execution_count": 1,
   "metadata": {},
   "outputs": [],
   "source": [
    "#Importamos las libreias pandas, numpy y matplolib respectivamente \n",
    "import pandas as pd\n",
    "import numpy as np\n",
    "import matplotlib.pyplot as plt\n",
    "from funpymodeling.exploratory import freq_tbl"
   ]
  },
  {
   "cell_type": "code",
   "execution_count": 2,
   "metadata": {},
   "outputs": [
    {
     "data": {
      "text/html": [
       "<div>\n",
       "<style scoped>\n",
       "    .dataframe tbody tr th:only-of-type {\n",
       "        vertical-align: middle;\n",
       "    }\n",
       "\n",
       "    .dataframe tbody tr th {\n",
       "        vertical-align: top;\n",
       "    }\n",
       "\n",
       "    .dataframe thead th {\n",
       "        text-align: right;\n",
       "    }\n",
       "</style>\n",
       "<table border=\"1\" class=\"dataframe\">\n",
       "  <thead>\n",
       "    <tr style=\"text-align: right;\">\n",
       "      <th></th>\n",
       "      <th>Unnamed: 0</th>\n",
       "      <th>id</th>\n",
       "      <th>listing_url</th>\n",
       "      <th>host_since</th>\n",
       "      <th>host_response_time</th>\n",
       "      <th>host_response_rate</th>\n",
       "      <th>host_acceptance_rate</th>\n",
       "      <th>host_is_superhost</th>\n",
       "      <th>host_verifications</th>\n",
       "      <th>neighbourhood_cleansed</th>\n",
       "      <th>...</th>\n",
       "      <th>review_scores_cleanliness</th>\n",
       "      <th>review_scores_checkin</th>\n",
       "      <th>review_scores_communication</th>\n",
       "      <th>review_scores_location</th>\n",
       "      <th>review_scores_value</th>\n",
       "      <th>calculated_host_listings_count</th>\n",
       "      <th>calculated_host_listings_count_entire_homes</th>\n",
       "      <th>calculated_host_listings_count_private_rooms</th>\n",
       "      <th>calculated_host_listings_count_shared_rooms</th>\n",
       "      <th>reviews_per_month</th>\n",
       "    </tr>\n",
       "  </thead>\n",
       "  <tbody>\n",
       "    <tr>\n",
       "      <th>0</th>\n",
       "      <td>0</td>\n",
       "      <td>97945.0</td>\n",
       "      <td>https://www.airbnb.com/rooms/97945</td>\n",
       "      <td>18/04/2011</td>\n",
       "      <td>a few days or more</td>\n",
       "      <td>0%</td>\n",
       "      <td>6%</td>\n",
       "      <td>f</td>\n",
       "      <td>['email', 'phone']</td>\n",
       "      <td>Hadern</td>\n",
       "      <td>...</td>\n",
       "      <td>4.81</td>\n",
       "      <td>4.90</td>\n",
       "      <td>4.93</td>\n",
       "      <td>4.78</td>\n",
       "      <td>4.73</td>\n",
       "      <td>2.0</td>\n",
       "      <td>2.0</td>\n",
       "      <td>0.0</td>\n",
       "      <td>0.0</td>\n",
       "      <td>0.80</td>\n",
       "    </tr>\n",
       "    <tr>\n",
       "      <th>1</th>\n",
       "      <td>1</td>\n",
       "      <td>114695.0</td>\n",
       "      <td>https://www.airbnb.com/rooms/114695</td>\n",
       "      <td>12/05/2011</td>\n",
       "      <td>within an hour</td>\n",
       "      <td>100%</td>\n",
       "      <td>99%</td>\n",
       "      <td>t</td>\n",
       "      <td>['email', 'phone']</td>\n",
       "      <td>Berg am Laim</td>\n",
       "      <td>...</td>\n",
       "      <td>4.95</td>\n",
       "      <td>4.97</td>\n",
       "      <td>5.00</td>\n",
       "      <td>4.66</td>\n",
       "      <td>4.61</td>\n",
       "      <td>3.0</td>\n",
       "      <td>1.3</td>\n",
       "      <td>0.0</td>\n",
       "      <td>0.0</td>\n",
       "      <td>0.46</td>\n",
       "    </tr>\n",
       "    <tr>\n",
       "      <th>2</th>\n",
       "      <td>2</td>\n",
       "      <td>127383.0</td>\n",
       "      <td>https://www.airbnb.com/rooms/127383</td>\n",
       "      <td>26/05/2011</td>\n",
       "      <td>within an hour</td>\n",
       "      <td>100%</td>\n",
       "      <td>92%</td>\n",
       "      <td>f</td>\n",
       "      <td>['email', 'phone', 'work_email']</td>\n",
       "      <td>Maxvorstadt</td>\n",
       "      <td>...</td>\n",
       "      <td>4.81</td>\n",
       "      <td>4.98</td>\n",
       "      <td>4.96</td>\n",
       "      <td>4.91</td>\n",
       "      <td>4.81</td>\n",
       "      <td>1.0</td>\n",
       "      <td>1.0</td>\n",
       "      <td>0.0</td>\n",
       "      <td>0.0</td>\n",
       "      <td>0.71</td>\n",
       "    </tr>\n",
       "    <tr>\n",
       "      <th>3</th>\n",
       "      <td>3</td>\n",
       "      <td>159634.0</td>\n",
       "      <td>https://www.airbnb.com/rooms/159634</td>\n",
       "      <td>01/07/2011</td>\n",
       "      <td>within an hour</td>\n",
       "      <td>100%</td>\n",
       "      <td>78%</td>\n",
       "      <td>f</td>\n",
       "      <td>['email', 'phone']</td>\n",
       "      <td>Pasing-Obermenzing</td>\n",
       "      <td>...</td>\n",
       "      <td>4.27</td>\n",
       "      <td>4.78</td>\n",
       "      <td>4.80</td>\n",
       "      <td>4.59</td>\n",
       "      <td>4.44</td>\n",
       "      <td>1.0</td>\n",
       "      <td>1.0</td>\n",
       "      <td>0.0</td>\n",
       "      <td>0.0</td>\n",
       "      <td>0.26</td>\n",
       "    </tr>\n",
       "    <tr>\n",
       "      <th>4</th>\n",
       "      <td>4</td>\n",
       "      <td>170154.0</td>\n",
       "      <td>https://www.airbnb.com/rooms/170154</td>\n",
       "      <td>14/04/2010</td>\n",
       "      <td>within a few hours</td>\n",
       "      <td>100%</td>\n",
       "      <td>100%</td>\n",
       "      <td>t</td>\n",
       "      <td>['email', 'phone']</td>\n",
       "      <td>Sendling-Westpark</td>\n",
       "      <td>...</td>\n",
       "      <td>4.99</td>\n",
       "      <td>4.99</td>\n",
       "      <td>4.98</td>\n",
       "      <td>4.77</td>\n",
       "      <td>4.91</td>\n",
       "      <td>1.0</td>\n",
       "      <td>0.0</td>\n",
       "      <td>1.0</td>\n",
       "      <td>0.0</td>\n",
       "      <td>1.00</td>\n",
       "    </tr>\n",
       "  </tbody>\n",
       "</table>\n",
       "<p>5 rows × 50 columns</p>\n",
       "</div>"
      ],
      "text/plain": [
       "   Unnamed: 0        id                          listing_url  host_since  \\\n",
       "0           0   97945.0   https://www.airbnb.com/rooms/97945  18/04/2011   \n",
       "1           1  114695.0  https://www.airbnb.com/rooms/114695  12/05/2011   \n",
       "2           2  127383.0  https://www.airbnb.com/rooms/127383  26/05/2011   \n",
       "3           3  159634.0  https://www.airbnb.com/rooms/159634  01/07/2011   \n",
       "4           4  170154.0  https://www.airbnb.com/rooms/170154  14/04/2010   \n",
       "\n",
       "   host_response_time host_response_rate host_acceptance_rate  \\\n",
       "0  a few days or more                 0%                   6%   \n",
       "1      within an hour               100%                  99%   \n",
       "2      within an hour               100%                  92%   \n",
       "3      within an hour               100%                  78%   \n",
       "4  within a few hours               100%                 100%   \n",
       "\n",
       "  host_is_superhost                host_verifications neighbourhood_cleansed  \\\n",
       "0                 f                ['email', 'phone']                 Hadern   \n",
       "1                 t                ['email', 'phone']           Berg am Laim   \n",
       "2                 f  ['email', 'phone', 'work_email']            Maxvorstadt   \n",
       "3                 f                ['email', 'phone']     Pasing-Obermenzing   \n",
       "4                 t                ['email', 'phone']      Sendling-Westpark   \n",
       "\n",
       "   ... review_scores_cleanliness review_scores_checkin  \\\n",
       "0  ...                      4.81                  4.90   \n",
       "1  ...                      4.95                  4.97   \n",
       "2  ...                      4.81                  4.98   \n",
       "3  ...                      4.27                  4.78   \n",
       "4  ...                      4.99                  4.99   \n",
       "\n",
       "  review_scores_communication review_scores_location review_scores_value  \\\n",
       "0                        4.93                   4.78                4.73   \n",
       "1                        5.00                   4.66                4.61   \n",
       "2                        4.96                   4.91                4.81   \n",
       "3                        4.80                   4.59                4.44   \n",
       "4                        4.98                   4.77                4.91   \n",
       "\n",
       "  calculated_host_listings_count calculated_host_listings_count_entire_homes  \\\n",
       "0                            2.0                                         2.0   \n",
       "1                            3.0                                         1.3   \n",
       "2                            1.0                                         1.0   \n",
       "3                            1.0                                         1.0   \n",
       "4                            1.0                                         0.0   \n",
       "\n",
       "  calculated_host_listings_count_private_rooms  \\\n",
       "0                                          0.0   \n",
       "1                                          0.0   \n",
       "2                                          0.0   \n",
       "3                                          0.0   \n",
       "4                                          1.0   \n",
       "\n",
       "  calculated_host_listings_count_shared_rooms  reviews_per_month  \n",
       "0                                         0.0               0.80  \n",
       "1                                         0.0               0.46  \n",
       "2                                         0.0               0.71  \n",
       "3                                         0.0               0.26  \n",
       "4                                         0.0               1.00  \n",
       "\n",
       "[5 rows x 50 columns]"
      ]
     },
     "execution_count": 2,
     "metadata": {},
     "output_type": "execute_result"
    }
   ],
   "source": [
    "#carga desde un archivo .csv sin indice \n",
    "Micro_Retailer = pd.read_csv('Datos_Limpios_pais.csv')\n",
    "Micro_Retailer.head(5)"
   ]
  },
  {
   "cell_type": "code",
   "execution_count": 4,
   "metadata": {},
   "outputs": [],
   "source": [
    "Micro_Retailer_1 = Micro_Retailer.drop(['Unnamed: 0'], axis=1)"
   ]
  },
  {
   "cell_type": "code",
   "execution_count": 5,
   "metadata": {},
   "outputs": [
    {
     "data": {
      "text/html": [
       "<div>\n",
       "<style scoped>\n",
       "    .dataframe tbody tr th:only-of-type {\n",
       "        vertical-align: middle;\n",
       "    }\n",
       "\n",
       "    .dataframe tbody tr th {\n",
       "        vertical-align: top;\n",
       "    }\n",
       "\n",
       "    .dataframe thead th {\n",
       "        text-align: right;\n",
       "    }\n",
       "</style>\n",
       "<table border=\"1\" class=\"dataframe\">\n",
       "  <thead>\n",
       "    <tr style=\"text-align: right;\">\n",
       "      <th></th>\n",
       "      <th>id</th>\n",
       "      <th>listing_url</th>\n",
       "      <th>host_since</th>\n",
       "      <th>host_response_time</th>\n",
       "      <th>host_response_rate</th>\n",
       "      <th>host_acceptance_rate</th>\n",
       "      <th>host_is_superhost</th>\n",
       "      <th>host_verifications</th>\n",
       "      <th>neighbourhood_cleansed</th>\n",
       "      <th>property_type</th>\n",
       "      <th>...</th>\n",
       "      <th>review_scores_cleanliness</th>\n",
       "      <th>review_scores_checkin</th>\n",
       "      <th>review_scores_communication</th>\n",
       "      <th>review_scores_location</th>\n",
       "      <th>review_scores_value</th>\n",
       "      <th>calculated_host_listings_count</th>\n",
       "      <th>calculated_host_listings_count_entire_homes</th>\n",
       "      <th>calculated_host_listings_count_private_rooms</th>\n",
       "      <th>calculated_host_listings_count_shared_rooms</th>\n",
       "      <th>reviews_per_month</th>\n",
       "    </tr>\n",
       "  </thead>\n",
       "  <tbody>\n",
       "    <tr>\n",
       "      <th>0</th>\n",
       "      <td>9.794500e+04</td>\n",
       "      <td>https://www.airbnb.com/rooms/97945</td>\n",
       "      <td>18/04/2011</td>\n",
       "      <td>a few days or more</td>\n",
       "      <td>0%</td>\n",
       "      <td>6%</td>\n",
       "      <td>f</td>\n",
       "      <td>['email', 'phone']</td>\n",
       "      <td>Hadern</td>\n",
       "      <td>Entire rental unit</td>\n",
       "      <td>...</td>\n",
       "      <td>4.81</td>\n",
       "      <td>4.90</td>\n",
       "      <td>4.93</td>\n",
       "      <td>4.78</td>\n",
       "      <td>4.73</td>\n",
       "      <td>2.0</td>\n",
       "      <td>2.0</td>\n",
       "      <td>0.0</td>\n",
       "      <td>0.0</td>\n",
       "      <td>0.80</td>\n",
       "    </tr>\n",
       "    <tr>\n",
       "      <th>1</th>\n",
       "      <td>1.146950e+05</td>\n",
       "      <td>https://www.airbnb.com/rooms/114695</td>\n",
       "      <td>12/05/2011</td>\n",
       "      <td>within an hour</td>\n",
       "      <td>100%</td>\n",
       "      <td>99%</td>\n",
       "      <td>t</td>\n",
       "      <td>['email', 'phone']</td>\n",
       "      <td>Berg am Laim</td>\n",
       "      <td>Entire rental unit</td>\n",
       "      <td>...</td>\n",
       "      <td>4.95</td>\n",
       "      <td>4.97</td>\n",
       "      <td>5.00</td>\n",
       "      <td>4.66</td>\n",
       "      <td>4.61</td>\n",
       "      <td>3.0</td>\n",
       "      <td>1.3</td>\n",
       "      <td>0.0</td>\n",
       "      <td>0.0</td>\n",
       "      <td>0.46</td>\n",
       "    </tr>\n",
       "    <tr>\n",
       "      <th>2</th>\n",
       "      <td>1.273830e+05</td>\n",
       "      <td>https://www.airbnb.com/rooms/127383</td>\n",
       "      <td>26/05/2011</td>\n",
       "      <td>within an hour</td>\n",
       "      <td>100%</td>\n",
       "      <td>92%</td>\n",
       "      <td>f</td>\n",
       "      <td>['email', 'phone', 'work_email']</td>\n",
       "      <td>Maxvorstadt</td>\n",
       "      <td>Entire rental unit</td>\n",
       "      <td>...</td>\n",
       "      <td>4.81</td>\n",
       "      <td>4.98</td>\n",
       "      <td>4.96</td>\n",
       "      <td>4.91</td>\n",
       "      <td>4.81</td>\n",
       "      <td>1.0</td>\n",
       "      <td>1.0</td>\n",
       "      <td>0.0</td>\n",
       "      <td>0.0</td>\n",
       "      <td>0.71</td>\n",
       "    </tr>\n",
       "    <tr>\n",
       "      <th>3</th>\n",
       "      <td>1.596340e+05</td>\n",
       "      <td>https://www.airbnb.com/rooms/159634</td>\n",
       "      <td>01/07/2011</td>\n",
       "      <td>within an hour</td>\n",
       "      <td>100%</td>\n",
       "      <td>78%</td>\n",
       "      <td>f</td>\n",
       "      <td>['email', 'phone']</td>\n",
       "      <td>Pasing-Obermenzing</td>\n",
       "      <td>Entire rental unit</td>\n",
       "      <td>...</td>\n",
       "      <td>4.27</td>\n",
       "      <td>4.78</td>\n",
       "      <td>4.80</td>\n",
       "      <td>4.59</td>\n",
       "      <td>4.44</td>\n",
       "      <td>1.0</td>\n",
       "      <td>1.0</td>\n",
       "      <td>0.0</td>\n",
       "      <td>0.0</td>\n",
       "      <td>0.26</td>\n",
       "    </tr>\n",
       "    <tr>\n",
       "      <th>4</th>\n",
       "      <td>1.701540e+05</td>\n",
       "      <td>https://www.airbnb.com/rooms/170154</td>\n",
       "      <td>14/04/2010</td>\n",
       "      <td>within a few hours</td>\n",
       "      <td>100%</td>\n",
       "      <td>100%</td>\n",
       "      <td>t</td>\n",
       "      <td>['email', 'phone']</td>\n",
       "      <td>Sendling-Westpark</td>\n",
       "      <td>Private room in home</td>\n",
       "      <td>...</td>\n",
       "      <td>4.99</td>\n",
       "      <td>4.99</td>\n",
       "      <td>4.98</td>\n",
       "      <td>4.77</td>\n",
       "      <td>4.91</td>\n",
       "      <td>1.0</td>\n",
       "      <td>0.0</td>\n",
       "      <td>1.0</td>\n",
       "      <td>0.0</td>\n",
       "      <td>1.00</td>\n",
       "    </tr>\n",
       "    <tr>\n",
       "      <th>...</th>\n",
       "      <td>...</td>\n",
       "      <td>...</td>\n",
       "      <td>...</td>\n",
       "      <td>...</td>\n",
       "      <td>...</td>\n",
       "      <td>...</td>\n",
       "      <td>...</td>\n",
       "      <td>...</td>\n",
       "      <td>...</td>\n",
       "      <td>...</td>\n",
       "      <td>...</td>\n",
       "      <td>...</td>\n",
       "      <td>...</td>\n",
       "      <td>...</td>\n",
       "      <td>...</td>\n",
       "      <td>...</td>\n",
       "      <td>...</td>\n",
       "      <td>...</td>\n",
       "      <td>...</td>\n",
       "      <td>...</td>\n",
       "      <td>...</td>\n",
       "    </tr>\n",
       "    <tr>\n",
       "      <th>8016</th>\n",
       "      <td>1.252200e+18</td>\n",
       "      <td>https://www.airbnb.com/rooms/1252204445878776998</td>\n",
       "      <td>05/07/2013</td>\n",
       "      <td>Estado de manera desconocida</td>\n",
       "      <td>100%</td>\n",
       "      <td>100%</td>\n",
       "      <td>f</td>\n",
       "      <td>['email', 'phone']</td>\n",
       "      <td>Maxvorstadt</td>\n",
       "      <td>Entire rental unit</td>\n",
       "      <td>...</td>\n",
       "      <td>5.00</td>\n",
       "      <td>4.80</td>\n",
       "      <td>5.00</td>\n",
       "      <td>4.90</td>\n",
       "      <td>5.00</td>\n",
       "      <td>1.0</td>\n",
       "      <td>1.0</td>\n",
       "      <td>0.0</td>\n",
       "      <td>0.0</td>\n",
       "      <td>1.00</td>\n",
       "    </tr>\n",
       "    <tr>\n",
       "      <th>8017</th>\n",
       "      <td>1.252220e+18</td>\n",
       "      <td>https://www.airbnb.com/rooms/1252221965097369365</td>\n",
       "      <td>23/09/2024</td>\n",
       "      <td>Estado de manera desconocida</td>\n",
       "      <td>100%</td>\n",
       "      <td>100%</td>\n",
       "      <td>f</td>\n",
       "      <td>['phone']</td>\n",
       "      <td>Obergiesing</td>\n",
       "      <td>Private room in bed and breakfast</td>\n",
       "      <td>...</td>\n",
       "      <td>5.00</td>\n",
       "      <td>4.80</td>\n",
       "      <td>5.00</td>\n",
       "      <td>4.90</td>\n",
       "      <td>5.00</td>\n",
       "      <td>1.0</td>\n",
       "      <td>0.0</td>\n",
       "      <td>1.0</td>\n",
       "      <td>0.0</td>\n",
       "      <td>1.00</td>\n",
       "    </tr>\n",
       "    <tr>\n",
       "      <th>8018</th>\n",
       "      <td>1.252240e+18</td>\n",
       "      <td>https://www.airbnb.com/rooms/1252243902096578406</td>\n",
       "      <td>23/09/2024</td>\n",
       "      <td>Estado de manera desconocida</td>\n",
       "      <td>100%</td>\n",
       "      <td>100%</td>\n",
       "      <td>f</td>\n",
       "      <td>['email', 'phone']</td>\n",
       "      <td>Milbertshofen-Am Hart</td>\n",
       "      <td>Entire rental unit</td>\n",
       "      <td>...</td>\n",
       "      <td>5.00</td>\n",
       "      <td>4.80</td>\n",
       "      <td>5.00</td>\n",
       "      <td>4.90</td>\n",
       "      <td>5.00</td>\n",
       "      <td>1.0</td>\n",
       "      <td>1.0</td>\n",
       "      <td>0.0</td>\n",
       "      <td>0.0</td>\n",
       "      <td>1.00</td>\n",
       "    </tr>\n",
       "    <tr>\n",
       "      <th>8019</th>\n",
       "      <td>1.252300e+18</td>\n",
       "      <td>https://www.airbnb.com/rooms/1252302783564354993</td>\n",
       "      <td>24/01/2018</td>\n",
       "      <td>Estado de manera desconocida</td>\n",
       "      <td>100%</td>\n",
       "      <td>100%</td>\n",
       "      <td>f</td>\n",
       "      <td>['email', 'phone']</td>\n",
       "      <td>Schwanthalerhöhe</td>\n",
       "      <td>Private room in rental unit</td>\n",
       "      <td>...</td>\n",
       "      <td>5.00</td>\n",
       "      <td>4.80</td>\n",
       "      <td>5.00</td>\n",
       "      <td>4.90</td>\n",
       "      <td>5.00</td>\n",
       "      <td>1.0</td>\n",
       "      <td>0.0</td>\n",
       "      <td>1.0</td>\n",
       "      <td>0.0</td>\n",
       "      <td>1.00</td>\n",
       "    </tr>\n",
       "    <tr>\n",
       "      <th>8020</th>\n",
       "      <td>1.252330e+18</td>\n",
       "      <td>https://www.airbnb.com/rooms/1252332854831287401</td>\n",
       "      <td>08/01/2024</td>\n",
       "      <td>Estado de manera desconocida</td>\n",
       "      <td>100%</td>\n",
       "      <td>100%</td>\n",
       "      <td>f</td>\n",
       "      <td>['email', 'phone']</td>\n",
       "      <td>Maxvorstadt</td>\n",
       "      <td>Private room in rental unit</td>\n",
       "      <td>...</td>\n",
       "      <td>5.00</td>\n",
       "      <td>4.80</td>\n",
       "      <td>5.00</td>\n",
       "      <td>4.90</td>\n",
       "      <td>5.00</td>\n",
       "      <td>1.0</td>\n",
       "      <td>0.0</td>\n",
       "      <td>1.0</td>\n",
       "      <td>0.0</td>\n",
       "      <td>1.00</td>\n",
       "    </tr>\n",
       "  </tbody>\n",
       "</table>\n",
       "<p>8021 rows × 49 columns</p>\n",
       "</div>"
      ],
      "text/plain": [
       "                id                                       listing_url  \\\n",
       "0     9.794500e+04                https://www.airbnb.com/rooms/97945   \n",
       "1     1.146950e+05               https://www.airbnb.com/rooms/114695   \n",
       "2     1.273830e+05               https://www.airbnb.com/rooms/127383   \n",
       "3     1.596340e+05               https://www.airbnb.com/rooms/159634   \n",
       "4     1.701540e+05               https://www.airbnb.com/rooms/170154   \n",
       "...            ...                                               ...   \n",
       "8016  1.252200e+18  https://www.airbnb.com/rooms/1252204445878776998   \n",
       "8017  1.252220e+18  https://www.airbnb.com/rooms/1252221965097369365   \n",
       "8018  1.252240e+18  https://www.airbnb.com/rooms/1252243902096578406   \n",
       "8019  1.252300e+18  https://www.airbnb.com/rooms/1252302783564354993   \n",
       "8020  1.252330e+18  https://www.airbnb.com/rooms/1252332854831287401   \n",
       "\n",
       "      host_since            host_response_time host_response_rate  \\\n",
       "0     18/04/2011            a few days or more                 0%   \n",
       "1     12/05/2011                within an hour               100%   \n",
       "2     26/05/2011                within an hour               100%   \n",
       "3     01/07/2011                within an hour               100%   \n",
       "4     14/04/2010            within a few hours               100%   \n",
       "...          ...                           ...                ...   \n",
       "8016  05/07/2013  Estado de manera desconocida               100%   \n",
       "8017  23/09/2024  Estado de manera desconocida               100%   \n",
       "8018  23/09/2024  Estado de manera desconocida               100%   \n",
       "8019  24/01/2018  Estado de manera desconocida               100%   \n",
       "8020  08/01/2024  Estado de manera desconocida               100%   \n",
       "\n",
       "     host_acceptance_rate host_is_superhost                host_verifications  \\\n",
       "0                      6%                 f                ['email', 'phone']   \n",
       "1                     99%                 t                ['email', 'phone']   \n",
       "2                     92%                 f  ['email', 'phone', 'work_email']   \n",
       "3                     78%                 f                ['email', 'phone']   \n",
       "4                    100%                 t                ['email', 'phone']   \n",
       "...                   ...               ...                               ...   \n",
       "8016                 100%                 f                ['email', 'phone']   \n",
       "8017                 100%                 f                         ['phone']   \n",
       "8018                 100%                 f                ['email', 'phone']   \n",
       "8019                 100%                 f                ['email', 'phone']   \n",
       "8020                 100%                 f                ['email', 'phone']   \n",
       "\n",
       "     neighbourhood_cleansed                      property_type  ...  \\\n",
       "0                    Hadern                 Entire rental unit  ...   \n",
       "1              Berg am Laim                 Entire rental unit  ...   \n",
       "2               Maxvorstadt                 Entire rental unit  ...   \n",
       "3        Pasing-Obermenzing                 Entire rental unit  ...   \n",
       "4         Sendling-Westpark               Private room in home  ...   \n",
       "...                     ...                                ...  ...   \n",
       "8016            Maxvorstadt                 Entire rental unit  ...   \n",
       "8017            Obergiesing  Private room in bed and breakfast  ...   \n",
       "8018  Milbertshofen-Am Hart                 Entire rental unit  ...   \n",
       "8019       Schwanthalerhöhe        Private room in rental unit  ...   \n",
       "8020            Maxvorstadt        Private room in rental unit  ...   \n",
       "\n",
       "     review_scores_cleanliness review_scores_checkin  \\\n",
       "0                         4.81                  4.90   \n",
       "1                         4.95                  4.97   \n",
       "2                         4.81                  4.98   \n",
       "3                         4.27                  4.78   \n",
       "4                         4.99                  4.99   \n",
       "...                        ...                   ...   \n",
       "8016                      5.00                  4.80   \n",
       "8017                      5.00                  4.80   \n",
       "8018                      5.00                  4.80   \n",
       "8019                      5.00                  4.80   \n",
       "8020                      5.00                  4.80   \n",
       "\n",
       "     review_scores_communication review_scores_location review_scores_value  \\\n",
       "0                           4.93                   4.78                4.73   \n",
       "1                           5.00                   4.66                4.61   \n",
       "2                           4.96                   4.91                4.81   \n",
       "3                           4.80                   4.59                4.44   \n",
       "4                           4.98                   4.77                4.91   \n",
       "...                          ...                    ...                 ...   \n",
       "8016                        5.00                   4.90                5.00   \n",
       "8017                        5.00                   4.90                5.00   \n",
       "8018                        5.00                   4.90                5.00   \n",
       "8019                        5.00                   4.90                5.00   \n",
       "8020                        5.00                   4.90                5.00   \n",
       "\n",
       "     calculated_host_listings_count  \\\n",
       "0                               2.0   \n",
       "1                               3.0   \n",
       "2                               1.0   \n",
       "3                               1.0   \n",
       "4                               1.0   \n",
       "...                             ...   \n",
       "8016                            1.0   \n",
       "8017                            1.0   \n",
       "8018                            1.0   \n",
       "8019                            1.0   \n",
       "8020                            1.0   \n",
       "\n",
       "     calculated_host_listings_count_entire_homes  \\\n",
       "0                                            2.0   \n",
       "1                                            1.3   \n",
       "2                                            1.0   \n",
       "3                                            1.0   \n",
       "4                                            0.0   \n",
       "...                                          ...   \n",
       "8016                                         1.0   \n",
       "8017                                         0.0   \n",
       "8018                                         1.0   \n",
       "8019                                         0.0   \n",
       "8020                                         0.0   \n",
       "\n",
       "     calculated_host_listings_count_private_rooms  \\\n",
       "0                                             0.0   \n",
       "1                                             0.0   \n",
       "2                                             0.0   \n",
       "3                                             0.0   \n",
       "4                                             1.0   \n",
       "...                                           ...   \n",
       "8016                                          0.0   \n",
       "8017                                          1.0   \n",
       "8018                                          0.0   \n",
       "8019                                          1.0   \n",
       "8020                                          1.0   \n",
       "\n",
       "      calculated_host_listings_count_shared_rooms  reviews_per_month  \n",
       "0                                             0.0               0.80  \n",
       "1                                             0.0               0.46  \n",
       "2                                             0.0               0.71  \n",
       "3                                             0.0               0.26  \n",
       "4                                             0.0               1.00  \n",
       "...                                           ...                ...  \n",
       "8016                                          0.0               1.00  \n",
       "8017                                          0.0               1.00  \n",
       "8018                                          0.0               1.00  \n",
       "8019                                          0.0               1.00  \n",
       "8020                                          0.0               1.00  \n",
       "\n",
       "[8021 rows x 49 columns]"
      ]
     },
     "execution_count": 5,
     "metadata": {},
     "output_type": "execute_result"
    }
   ],
   "source": [
    "#carga desde un archivo .csv sin indice \n",
    "Micro_Retailer_1"
   ]
  },
  {
   "cell_type": "code",
   "execution_count": 6,
   "metadata": {},
   "outputs": [
    {
     "name": "stdout",
     "output_type": "stream",
     "text": [
      "<class 'pandas.core.frame.DataFrame'>\n",
      "RangeIndex: 8021 entries, 0 to 8020\n",
      "Data columns (total 49 columns):\n",
      " #   Column                                        Non-Null Count  Dtype  \n",
      "---  ------                                        --------------  -----  \n",
      " 0   id                                            8021 non-null   float64\n",
      " 1   listing_url                                   8021 non-null   object \n",
      " 2   host_since                                    8021 non-null   object \n",
      " 3   host_response_time                            8021 non-null   object \n",
      " 4   host_response_rate                            8021 non-null   object \n",
      " 5   host_acceptance_rate                          8021 non-null   object \n",
      " 6   host_is_superhost                             8021 non-null   object \n",
      " 7   host_verifications                            8021 non-null   object \n",
      " 8   neighbourhood_cleansed                        8021 non-null   object \n",
      " 9   property_type                                 8021 non-null   object \n",
      " 10  room_type                                     8021 non-null   object \n",
      " 11  bathrooms_text                                8021 non-null   object \n",
      " 12  amenities                                     8021 non-null   object \n",
      " 13  price                                         8021 non-null   object \n",
      " 14  has_availability                              8021 non-null   object \n",
      " 15  first_review                                  8021 non-null   object \n",
      " 16  last_review                                   8021 non-null   object \n",
      " 17  instant_bookable                              8021 non-null   object \n",
      " 18  host_listings_count                           8021 non-null   float64\n",
      " 19  host_total_listings_count                     8021 non-null   float64\n",
      " 20  latitude                                      8021 non-null   float64\n",
      " 21  longitude                                     8021 non-null   float64\n",
      " 22  accommodates                                  8021 non-null   float64\n",
      " 23  bathrooms                                     8021 non-null   float64\n",
      " 24  bedrooms                                      8021 non-null   float64\n",
      " 25  beds                                          8021 non-null   float64\n",
      " 26  minimum_nights                                8021 non-null   float64\n",
      " 27  maximum_nights                                8021 non-null   float64\n",
      " 28  minimum_nights_avg_ntm                        8021 non-null   float64\n",
      " 29  maximum_nights_avg_ntm                        8021 non-null   float64\n",
      " 30  availability_30                               8021 non-null   int64  \n",
      " 31  availability_60                               8021 non-null   int64  \n",
      " 32  availability_90                               8021 non-null   int64  \n",
      " 33  availability_365                              8021 non-null   int64  \n",
      " 34  number_of_reviews                             8021 non-null   float64\n",
      " 35  number_of_reviews_ltm                         8021 non-null   float64\n",
      " 36  number_of_reviews_l30d                        8021 non-null   float64\n",
      " 37  review_scores_rating                          8021 non-null   float64\n",
      " 38  review_scores_accuracy                        8021 non-null   float64\n",
      " 39  review_scores_cleanliness                     8021 non-null   float64\n",
      " 40  review_scores_checkin                         8021 non-null   float64\n",
      " 41  review_scores_communication                   8021 non-null   float64\n",
      " 42  review_scores_location                        8021 non-null   float64\n",
      " 43  review_scores_value                           8021 non-null   float64\n",
      " 44  calculated_host_listings_count                8021 non-null   float64\n",
      " 45  calculated_host_listings_count_entire_homes   8021 non-null   float64\n",
      " 46  calculated_host_listings_count_private_rooms  8021 non-null   float64\n",
      " 47  calculated_host_listings_count_shared_rooms   8021 non-null   float64\n",
      " 48  reviews_per_month                             8021 non-null   float64\n",
      "dtypes: float64(28), int64(4), object(17)\n",
      "memory usage: 3.0+ MB\n"
     ]
    }
   ],
   "source": [
    "#Verificamos información del DataFrame\n",
    "Micro_Retailer_1.info()"
   ]
  },
  {
   "cell_type": "code",
   "execution_count": 7,
   "metadata": {},
   "outputs": [
    {
     "data": {
      "text/html": [
       "<div>\n",
       "<style scoped>\n",
       "    .dataframe tbody tr th:only-of-type {\n",
       "        vertical-align: middle;\n",
       "    }\n",
       "\n",
       "    .dataframe tbody tr th {\n",
       "        vertical-align: top;\n",
       "    }\n",
       "\n",
       "    .dataframe thead th {\n",
       "        text-align: right;\n",
       "    }\n",
       "</style>\n",
       "<table border=\"1\" class=\"dataframe\">\n",
       "  <thead>\n",
       "    <tr style=\"text-align: right;\">\n",
       "      <th></th>\n",
       "      <th>id</th>\n",
       "      <th>listing_url</th>\n",
       "      <th>host_since</th>\n",
       "      <th>host_response_time</th>\n",
       "      <th>host_response_rate</th>\n",
       "      <th>host_acceptance_rate</th>\n",
       "      <th>host_is_superhost</th>\n",
       "      <th>host_verifications</th>\n",
       "      <th>neighbourhood_cleansed</th>\n",
       "      <th>property_type</th>\n",
       "      <th>...</th>\n",
       "      <th>review_scores_cleanliness</th>\n",
       "      <th>review_scores_checkin</th>\n",
       "      <th>review_scores_communication</th>\n",
       "      <th>review_scores_location</th>\n",
       "      <th>review_scores_value</th>\n",
       "      <th>calculated_host_listings_count</th>\n",
       "      <th>calculated_host_listings_count_entire_homes</th>\n",
       "      <th>calculated_host_listings_count_private_rooms</th>\n",
       "      <th>calculated_host_listings_count_shared_rooms</th>\n",
       "      <th>reviews_per_month</th>\n",
       "    </tr>\n",
       "  </thead>\n",
       "  <tbody>\n",
       "    <tr>\n",
       "      <th>0</th>\n",
       "      <td>97945.0</td>\n",
       "      <td>https://www.airbnb.com/rooms/97945</td>\n",
       "      <td>18/04/2011</td>\n",
       "      <td>a few days or more</td>\n",
       "      <td>0%</td>\n",
       "      <td>6%</td>\n",
       "      <td>f</td>\n",
       "      <td>['email', 'phone']</td>\n",
       "      <td>Hadern</td>\n",
       "      <td>Entire rental unit</td>\n",
       "      <td>...</td>\n",
       "      <td>4.81</td>\n",
       "      <td>4.90</td>\n",
       "      <td>4.93</td>\n",
       "      <td>4.78</td>\n",
       "      <td>4.73</td>\n",
       "      <td>2.0</td>\n",
       "      <td>2.0</td>\n",
       "      <td>0.0</td>\n",
       "      <td>0.0</td>\n",
       "      <td>0.80</td>\n",
       "    </tr>\n",
       "    <tr>\n",
       "      <th>1</th>\n",
       "      <td>114695.0</td>\n",
       "      <td>https://www.airbnb.com/rooms/114695</td>\n",
       "      <td>12/05/2011</td>\n",
       "      <td>within an hour</td>\n",
       "      <td>100%</td>\n",
       "      <td>99%</td>\n",
       "      <td>t</td>\n",
       "      <td>['email', 'phone']</td>\n",
       "      <td>Berg am Laim</td>\n",
       "      <td>Entire rental unit</td>\n",
       "      <td>...</td>\n",
       "      <td>4.95</td>\n",
       "      <td>4.97</td>\n",
       "      <td>5.00</td>\n",
       "      <td>4.66</td>\n",
       "      <td>4.61</td>\n",
       "      <td>3.0</td>\n",
       "      <td>1.3</td>\n",
       "      <td>0.0</td>\n",
       "      <td>0.0</td>\n",
       "      <td>0.46</td>\n",
       "    </tr>\n",
       "    <tr>\n",
       "      <th>2</th>\n",
       "      <td>127383.0</td>\n",
       "      <td>https://www.airbnb.com/rooms/127383</td>\n",
       "      <td>26/05/2011</td>\n",
       "      <td>within an hour</td>\n",
       "      <td>100%</td>\n",
       "      <td>92%</td>\n",
       "      <td>f</td>\n",
       "      <td>['email', 'phone', 'work_email']</td>\n",
       "      <td>Maxvorstadt</td>\n",
       "      <td>Entire rental unit</td>\n",
       "      <td>...</td>\n",
       "      <td>4.81</td>\n",
       "      <td>4.98</td>\n",
       "      <td>4.96</td>\n",
       "      <td>4.91</td>\n",
       "      <td>4.81</td>\n",
       "      <td>1.0</td>\n",
       "      <td>1.0</td>\n",
       "      <td>0.0</td>\n",
       "      <td>0.0</td>\n",
       "      <td>0.71</td>\n",
       "    </tr>\n",
       "    <tr>\n",
       "      <th>3</th>\n",
       "      <td>159634.0</td>\n",
       "      <td>https://www.airbnb.com/rooms/159634</td>\n",
       "      <td>01/07/2011</td>\n",
       "      <td>within an hour</td>\n",
       "      <td>100%</td>\n",
       "      <td>78%</td>\n",
       "      <td>f</td>\n",
       "      <td>['email', 'phone']</td>\n",
       "      <td>Pasing-Obermenzing</td>\n",
       "      <td>Entire rental unit</td>\n",
       "      <td>...</td>\n",
       "      <td>4.27</td>\n",
       "      <td>4.78</td>\n",
       "      <td>4.80</td>\n",
       "      <td>4.59</td>\n",
       "      <td>4.44</td>\n",
       "      <td>1.0</td>\n",
       "      <td>1.0</td>\n",
       "      <td>0.0</td>\n",
       "      <td>0.0</td>\n",
       "      <td>0.26</td>\n",
       "    </tr>\n",
       "    <tr>\n",
       "      <th>4</th>\n",
       "      <td>170154.0</td>\n",
       "      <td>https://www.airbnb.com/rooms/170154</td>\n",
       "      <td>14/04/2010</td>\n",
       "      <td>within a few hours</td>\n",
       "      <td>100%</td>\n",
       "      <td>100%</td>\n",
       "      <td>t</td>\n",
       "      <td>['email', 'phone']</td>\n",
       "      <td>Sendling-Westpark</td>\n",
       "      <td>Private room in home</td>\n",
       "      <td>...</td>\n",
       "      <td>4.99</td>\n",
       "      <td>4.99</td>\n",
       "      <td>4.98</td>\n",
       "      <td>4.77</td>\n",
       "      <td>4.91</td>\n",
       "      <td>1.0</td>\n",
       "      <td>0.0</td>\n",
       "      <td>1.0</td>\n",
       "      <td>0.0</td>\n",
       "      <td>1.00</td>\n",
       "    </tr>\n",
       "  </tbody>\n",
       "</table>\n",
       "<p>5 rows × 49 columns</p>\n",
       "</div>"
      ],
      "text/plain": [
       "         id                          listing_url  host_since  \\\n",
       "0   97945.0   https://www.airbnb.com/rooms/97945  18/04/2011   \n",
       "1  114695.0  https://www.airbnb.com/rooms/114695  12/05/2011   \n",
       "2  127383.0  https://www.airbnb.com/rooms/127383  26/05/2011   \n",
       "3  159634.0  https://www.airbnb.com/rooms/159634  01/07/2011   \n",
       "4  170154.0  https://www.airbnb.com/rooms/170154  14/04/2010   \n",
       "\n",
       "   host_response_time host_response_rate host_acceptance_rate  \\\n",
       "0  a few days or more                 0%                   6%   \n",
       "1      within an hour               100%                  99%   \n",
       "2      within an hour               100%                  92%   \n",
       "3      within an hour               100%                  78%   \n",
       "4  within a few hours               100%                 100%   \n",
       "\n",
       "  host_is_superhost                host_verifications neighbourhood_cleansed  \\\n",
       "0                 f                ['email', 'phone']                 Hadern   \n",
       "1                 t                ['email', 'phone']           Berg am Laim   \n",
       "2                 f  ['email', 'phone', 'work_email']            Maxvorstadt   \n",
       "3                 f                ['email', 'phone']     Pasing-Obermenzing   \n",
       "4                 t                ['email', 'phone']      Sendling-Westpark   \n",
       "\n",
       "          property_type  ... review_scores_cleanliness review_scores_checkin  \\\n",
       "0    Entire rental unit  ...                      4.81                  4.90   \n",
       "1    Entire rental unit  ...                      4.95                  4.97   \n",
       "2    Entire rental unit  ...                      4.81                  4.98   \n",
       "3    Entire rental unit  ...                      4.27                  4.78   \n",
       "4  Private room in home  ...                      4.99                  4.99   \n",
       "\n",
       "  review_scores_communication review_scores_location review_scores_value  \\\n",
       "0                        4.93                   4.78                4.73   \n",
       "1                        5.00                   4.66                4.61   \n",
       "2                        4.96                   4.91                4.81   \n",
       "3                        4.80                   4.59                4.44   \n",
       "4                        4.98                   4.77                4.91   \n",
       "\n",
       "  calculated_host_listings_count calculated_host_listings_count_entire_homes  \\\n",
       "0                            2.0                                         2.0   \n",
       "1                            3.0                                         1.3   \n",
       "2                            1.0                                         1.0   \n",
       "3                            1.0                                         1.0   \n",
       "4                            1.0                                         0.0   \n",
       "\n",
       "  calculated_host_listings_count_private_rooms  \\\n",
       "0                                          0.0   \n",
       "1                                          0.0   \n",
       "2                                          0.0   \n",
       "3                                          0.0   \n",
       "4                                          1.0   \n",
       "\n",
       "   calculated_host_listings_count_shared_rooms  reviews_per_month  \n",
       "0                                          0.0               0.80  \n",
       "1                                          0.0               0.46  \n",
       "2                                          0.0               0.71  \n",
       "3                                          0.0               0.26  \n",
       "4                                          0.0               1.00  \n",
       "\n",
       "[5 rows x 49 columns]"
      ]
     },
     "execution_count": 7,
     "metadata": {},
     "output_type": "execute_result"
    }
   ],
   "source": [
    "#Imprimo los primeros cinco registros del DataFrame\n",
    "Micro_Retailer_1.head(5)"
   ]
  },
  {
   "cell_type": "code",
   "execution_count": 8,
   "metadata": {},
   "outputs": [
    {
     "name": "stdout",
     "output_type": "stream",
     "text": [
      "                                           listing_url  frequency  percentage  \\\n",
      "0                   https://www.airbnb.com/rooms/97945          1    0.000125   \n",
      "1      https://www.airbnb.com/rooms/981960706096511114          1    0.000125   \n",
      "2      https://www.airbnb.com/rooms/983040705145964653          1    0.000125   \n",
      "3      https://www.airbnb.com/rooms/983019993984355592          1    0.000125   \n",
      "4      https://www.airbnb.com/rooms/982990706851616291          1    0.000125   \n",
      "...                                                ...        ...         ...   \n",
      "8016             https://www.airbnb.com/rooms/50344164          1    0.000125   \n",
      "8017             https://www.airbnb.com/rooms/50335544          1    0.000125   \n",
      "8018             https://www.airbnb.com/rooms/50318161          1    0.000125   \n",
      "8019             https://www.airbnb.com/rooms/50317859          1    0.000125   \n",
      "8020  https://www.airbnb.com/rooms/1252332854831287401          1    0.000125   \n",
      "\n",
      "      cumulative_perc  \n",
      "0            0.000125  \n",
      "1            0.000249  \n",
      "2            0.000374  \n",
      "3            0.000499  \n",
      "4            0.000623  \n",
      "...               ...  \n",
      "8016         0.999501  \n",
      "8017         0.999626  \n",
      "8018         0.999751  \n",
      "8019         0.999875  \n",
      "8020         1.000000  \n",
      "\n",
      "[8021 rows x 4 columns]\n",
      "\n",
      "----------------------------------------------------------------\n",
      "\n",
      "      host_since  frequency  percentage  cumulative_perc\n",
      "0     25/11/2020         79    0.009849         0.009849\n",
      "1     29/07/2018         35    0.004364         0.014213\n",
      "2     30/08/2011         32    0.003990         0.018202\n",
      "3     17/12/2015         27    0.003366         0.021568\n",
      "4     07/04/2021         25    0.003117         0.024685\n",
      "...          ...        ...         ...              ...\n",
      "3213  13/11/2019          1    0.000125         0.999501\n",
      "3214  07/09/2019          1    0.000125         0.999626\n",
      "3215  14/06/2021          1    0.000125         0.999751\n",
      "3216  23/09/2021          1    0.000125         0.999875\n",
      "3217  05/07/2013          1    0.000125         1.000000\n",
      "\n",
      "[3218 rows x 4 columns]\n",
      "\n",
      "----------------------------------------------------------------\n",
      "\n",
      "             host_response_time  frequency  percentage  cumulative_perc\n",
      "0                within an hour       2743    0.341977         0.341977\n",
      "1  Estado de manera desconocida       2168    0.270290         0.612268\n",
      "2            within a few hours       1420    0.177035         0.789303\n",
      "3                  within a day       1098    0.136891         0.926194\n",
      "4            a few days or more        592    0.073806         1.000000\n",
      "\n",
      "----------------------------------------------------------------\n",
      "\n",
      "   host_response_rate  frequency  percentage  cumulative_perc\n",
      "0                100%       5357    0.667872         0.667872\n",
      "1                  0%        486    0.060591         0.728463\n",
      "2                 90%        274    0.034160         0.762623\n",
      "3                 80%        214    0.026680         0.789303\n",
      "4                 50%        145    0.018078         0.807381\n",
      "..                ...        ...         ...              ...\n",
      "67                12%          1    0.000125         0.999501\n",
      "68                29%          1    0.000125         0.999626\n",
      "69                 9%          1    0.000125         0.999751\n",
      "70                52%          1    0.000125         0.999875\n",
      "71                 3%          1    0.000125         1.000000\n",
      "\n",
      "[72 rows x 4 columns]\n",
      "\n",
      "----------------------------------------------------------------\n",
      "\n",
      "   host_acceptance_rate  frequency  percentage  cumulative_perc\n",
      "0                  100%       2189    0.272909         0.272909\n",
      "1                    0%        792    0.098741         0.371649\n",
      "2                   50%        297    0.037028         0.408677\n",
      "3                   99%        214    0.026680         0.435357\n",
      "4                   67%        181    0.022566         0.457923\n",
      "..                  ...        ...         ...              ...\n",
      "95                  12%          7    0.000873         0.997257\n",
      "96                   9%          7    0.000873         0.998130\n",
      "97                  16%          6    0.000748         0.998878\n",
      "98                   3%          5    0.000623         0.999501\n",
      "99                  34%          4    0.000499         1.000000\n",
      "\n",
      "[100 rows x 4 columns]\n",
      "\n",
      "----------------------------------------------------------------\n",
      "\n",
      "  host_is_superhost  frequency  percentage  cumulative_perc\n",
      "0                 f       6749    0.841416         0.841416\n",
      "1                 t       1203    0.149981         0.991398\n",
      "2   Sin identificar         69    0.008602         1.000000\n",
      "\n",
      "----------------------------------------------------------------\n",
      "\n",
      "                 host_verifications  frequency  percentage  cumulative_perc\n",
      "0                ['email', 'phone']       6274    0.782197         0.782197\n",
      "1                         ['phone']        898    0.111956         0.894153\n",
      "2  ['email', 'phone', 'work_email']        823    0.102606         0.996759\n",
      "3           ['phone', 'work_email']         18    0.002244         0.999003\n",
      "4                         ['email']          7    0.000873         0.999875\n",
      "5                                []          1    0.000125         1.000000\n",
      "\n",
      "----------------------------------------------------------------\n",
      "\n",
      "                               neighbourhood_cleansed  frequency  percentage  \\\n",
      "0                        Ludwigsvorstadt-Isarvorstadt       1004    0.125171   \n",
      "1                                         Maxvorstadt        641    0.079915   \n",
      "2                                       Au-Haidhausen        537    0.066949   \n",
      "3                                      Schwabing-West        500    0.062336   \n",
      "4                               Neuhausen-Nymphenburg        460    0.057349   \n",
      "5                                  Schwabing-Freimann        385    0.047999   \n",
      "6                                         Bogenhausen        359    0.044758   \n",
      "7                                  Ramersdorf-Perlach        351    0.043760   \n",
      "8                                            Sendling        304    0.037901   \n",
      "9                               Milbertshofen-Am Hart        299    0.037277   \n",
      "10                                  Sendling-Westpark        295    0.036778   \n",
      "11  Thalkirchen-Obersendling-Forstenried-Fürstenri...        287    0.035781   \n",
      "12                                   Schwanthalerhöhe        283    0.035282   \n",
      "13                                        Obergiesing        276    0.034410   \n",
      "14                                     Altstadt-Lehel        272    0.033911   \n",
      "15                                      Tudering-Riem        271    0.033786   \n",
      "16                                               Laim        265    0.033038   \n",
      "17                            Untergiesing-Harlaching        231    0.028799   \n",
      "18                                 Pasing-Obermenzing        215    0.026805   \n",
      "19                                            Moosach        174    0.021693   \n",
      "20                         Aubing-Lochhausen-Langwied        170    0.021194   \n",
      "21                                       Berg am Laim        148    0.018452   \n",
      "22                             Feldmoching-Hasenbergl        127    0.015833   \n",
      "23                                             Hadern         85    0.010597   \n",
      "24                                Allach-Untermenzing         82    0.010223   \n",
      "\n",
      "    cumulative_perc  \n",
      "0          0.125171  \n",
      "1          0.205087  \n",
      "2          0.272036  \n",
      "3          0.334372  \n",
      "4          0.391722  \n",
      "5          0.439721  \n",
      "6          0.484478  \n",
      "7          0.528238  \n",
      "8          0.566139  \n",
      "9          0.603416  \n",
      "10         0.640194  \n",
      "11         0.675976  \n",
      "12         0.711258  \n",
      "13         0.745668  \n",
      "14         0.779579  \n",
      "15         0.813365  \n",
      "16         0.846403  \n",
      "17         0.875203  \n",
      "18         0.902007  \n",
      "19         0.923700  \n",
      "20         0.944895  \n",
      "21         0.963346  \n",
      "22         0.979180  \n",
      "23         0.989777  \n",
      "24         1.000000  \n",
      "\n",
      "----------------------------------------------------------------\n",
      "\n",
      "                         property_type  frequency  percentage  cumulative_perc\n",
      "0                   Entire rental unit       4423    0.551428         0.551428\n",
      "1          Private room in rental unit       1761    0.219549         0.770976\n",
      "2                         Entire condo        418    0.052113         0.823089\n",
      "3                 Private room in home        277    0.034534         0.857624\n",
      "4            Entire serviced apartment        213    0.026555         0.884179\n",
      "5                Private room in condo        175    0.021818         0.905997\n",
      "6                        Room in hotel        135    0.016831         0.922828\n",
      "7                          Entire home         95    0.011844         0.934671\n",
      "8                          Entire loft         80    0.009974         0.944645\n",
      "9               Room in boutique hotel         73    0.009101         0.953746\n",
      "10           Private room in townhouse         60    0.007480         0.961227\n",
      "11          Shared room in rental unit         39    0.004862         0.966089\n",
      "12                  Room in aparthotel         33    0.004114         0.970203\n",
      "13   Private room in bed and breakfast         27    0.003366         0.973569\n",
      "14                    Entire townhouse         26    0.003241         0.976811\n",
      "15              Private room in hostel         23    0.002867         0.979678\n",
      "16  Private room in serviced apartment         17    0.002119         0.981798\n",
      "17          Private room in guesthouse         14    0.001745         0.983543\n",
      "18                Private room in loft         12    0.001496         0.985039\n",
      "19                           Camper/RV          9    0.001122         0.986161\n",
      "20                  Entire guest suite          9    0.001122         0.987283\n",
      "21                        Entire villa          8    0.000997         0.988281\n",
      "22                        Private room          8    0.000997         0.989278\n",
      "23                   Entire guesthouse          7    0.000873         0.990151\n",
      "24     Private room in casa particular          7    0.000873         0.991024\n",
      "25    Shared room in bed and breakfast          4    0.000499         0.991522\n",
      "26       Private room in vacation home          4    0.000499         0.992021\n",
      "27          Room in serviced apartment          4    0.000499         0.992520\n",
      "28                  Shipping container          4    0.000499         0.993018\n",
      "29                Entire vacation home          4    0.000499         0.993517\n",
      "30                 Shared room in home          3    0.000374         0.993891\n",
      "31                        Entire place          3    0.000374         0.994265\n",
      "32                           Tiny home          3    0.000374         0.994639\n",
      "33                Private room in tent          3    0.000374         0.995013\n",
      "34               Private room in villa          3    0.000374         0.995387\n",
      "35           Room in bed and breakfast          3    0.000374         0.995761\n",
      "36                Shared room in condo          3    0.000374         0.996135\n",
      "37                     Entire bungalow          3    0.000374         0.996509\n",
      "38         Private room in guest suite          3    0.000374         0.996883\n",
      "39                 Shared room in tent          2    0.000249         0.997133\n",
      "40               Shared room in hostel          2    0.000249         0.997382\n",
      "41                                Tent          2    0.000249         0.997631\n",
      "42                       Entire chalet          2    0.000249         0.997881\n",
      "43                     Entire home/apt          2    0.000249         0.998130\n",
      "44                        Entire cabin          2    0.000249         0.998379\n",
      "45            Shared room in tiny home          1    0.000125         0.998504\n",
      "46             Shared room in ice dome          1    0.000125         0.998629\n",
      "47           Private room in camper/rv          1    0.000125         0.998753\n",
      "48           Private room in farm stay          1    0.000125         0.998878\n",
      "49                      Shepherd’s hut          1    0.000125         0.999003\n",
      "50                         Shared room          1    0.000125         0.999127\n",
      "51            Private room in bungalow          1    0.000125         0.999252\n",
      "52                 Shared room in tipi          1    0.000125         0.999377\n",
      "53                 Shared room in loft          1    0.000125         0.999501\n",
      "54                             Pension          1    0.000125         0.999626\n",
      "55  Private room in shipping container          1    0.000125         0.999751\n",
      "56                                 Hut          1    0.000125         0.999875\n",
      "57         Shared room in earthen home          1    0.000125         1.000000\n",
      "\n",
      "----------------------------------------------------------------\n",
      "\n",
      "         room_type  frequency  percentage  cumulative_perc\n",
      "0  Entire home/apt       5331    0.664630         0.664630\n",
      "1     Private room       2599    0.324024         0.988655\n",
      "2      Shared room         59    0.007356         0.996010\n",
      "3       Hotel room         32    0.003990         1.000000\n",
      "\n",
      "----------------------------------------------------------------\n",
      "\n",
      "       bathrooms_text  frequency  percentage  cumulative_perc\n",
      "0              1 bath       4874    0.607655         0.607655\n",
      "1       1 shared bath       1138    0.141878         0.749532\n",
      "2           1.5 baths        532    0.066326         0.815858\n",
      "3      1 private bath        478    0.059594         0.875452\n",
      "4             2 baths        404    0.050368         0.925820\n",
      "5    1.5 shared baths        238    0.029672         0.955492\n",
      "6           2.5 baths         76    0.009475         0.964967\n",
      "7      2 shared baths         63    0.007854         0.972821\n",
      "8           Half-bath         51    0.006358         0.979180\n",
      "9    Shared half-bath         37    0.004613         0.983793\n",
      "10            3 baths         29    0.003616         0.987408\n",
      "11            0 baths         27    0.003366         0.990774\n",
      "12     3 shared baths         11    0.001371         0.992146\n",
      "13  Private half-bath         11    0.001371         0.993517\n",
      "14          3.5 baths         10    0.001247         0.994764\n",
      "15     0 shared baths         10    0.001247         0.996010\n",
      "16     4 shared baths          8    0.000997         0.997008\n",
      "17            4 baths          8    0.000997         0.998005\n",
      "18   2.5 shared baths          7    0.000873         0.998878\n",
      "19          4.5 baths          1    0.000125         0.999003\n",
      "20    10 shared baths          1    0.000125         0.999127\n",
      "21     8 shared baths          1    0.000125         0.999252\n",
      "22           12 baths          1    0.000125         0.999377\n",
      "23    27 shared baths          1    0.000125         0.999501\n",
      "24    26 shared baths          1    0.000125         0.999626\n",
      "25           23 baths          1    0.000125         0.999751\n",
      "26            5 baths          1    0.000125         0.999875\n",
      "27            8 baths          1    0.000125         1.000000\n",
      "\n",
      "----------------------------------------------------------------\n",
      "\n",
      "                                              amenities  frequency  \\\n",
      "0     [\"Smoke alarm\", \"TV\", \"Washer\", \"Kitchen\", \"Wi...         32   \n",
      "1     [\"Smoke alarm\", \"Dedicated workspace\", \"TV\", \"...         29   \n",
      "2     [\"Smoke alarm\", \"Dedicated workspace\", \"Washer...         28   \n",
      "3          [\"Smoke alarm\", \"Wifi\", \"Kitchen\", \"Washer\"]         25   \n",
      "4                   [\"Wifi\", \"TV\", \"Kitchen\", \"Washer\"]         23   \n",
      "...                                                 ...        ...   \n",
      "7310  [\"Shared backyard\", \"Hot water kettle\", \"Free ...          1   \n",
      "7311  [\"Heating\", \"Coffee maker\", \"Stove\", \"Bed line...          1   \n",
      "7312  [\"Luggage dropoff allowed\", \"Heating\", \"Hot wa...          1   \n",
      "7313  [\"Smoke alarm\", \"Dedicated workspace\", \"Hanger...          1   \n",
      "7314  [\"Heating\", \"Hot water kettle\", \"Coffee maker:...          1   \n",
      "\n",
      "      percentage  cumulative_perc  \n",
      "0       0.003990         0.003990  \n",
      "1       0.003616         0.007605  \n",
      "2       0.003491         0.011096  \n",
      "3       0.003117         0.014213  \n",
      "4       0.002867         0.017080  \n",
      "...          ...              ...  \n",
      "7310    0.000125         0.999501  \n",
      "7311    0.000125         0.999626  \n",
      "7312    0.000125         0.999751  \n",
      "7313    0.000125         0.999875  \n",
      "7314    0.000125         1.000000  \n",
      "\n",
      "[7315 rows x 4 columns]\n",
      "\n",
      "----------------------------------------------------------------\n",
      "\n",
      "         price  frequency  percentage  cumulative_perc\n",
      "0      $150.00        235    0.029298         0.029298\n",
      "1      $120.00        179    0.022316         0.051615\n",
      "2      $200.00        178    0.022192         0.073806\n",
      "3      $250.00        162    0.020197         0.094003\n",
      "4      $100.00        160    0.019948         0.113951\n",
      "..         ...        ...         ...              ...\n",
      "707    $495.00          1    0.000125         0.999501\n",
      "708  $1,357.00          1    0.000125         0.999626\n",
      "709  $1,906.00          1    0.000125         0.999751\n",
      "710    $593.00          1    0.000125         0.999875\n",
      "711    $512.00          1    0.000125         1.000000\n",
      "\n",
      "[712 rows x 4 columns]\n",
      "\n",
      "----------------------------------------------------------------\n",
      "\n",
      "  has_availability  frequency  percentage  cumulative_perc\n",
      "0                t       8014    0.999127         0.999127\n",
      "1                f          7    0.000873         1.000000\n",
      "\n",
      "----------------------------------------------------------------\n",
      "\n",
      "     first_review  frequency  percentage  cumulative_perc\n",
      "0      2011-06-19       2071    0.258197         0.258197\n",
      "1      24/09/2023         92    0.011470         0.269667\n",
      "2      22/09/2024         71    0.008852         0.278519\n",
      "3      17/09/2023         68    0.008478         0.286997\n",
      "4      25/09/2022         63    0.007854         0.294851\n",
      "...           ...        ...         ...              ...\n",
      "2032   11/05/2017          1    0.000125         0.999501\n",
      "2033   13/12/2020          1    0.000125         0.999626\n",
      "2034   22/12/2020          1    0.000125         0.999751\n",
      "2035   29/12/2020          1    0.000125         0.999875\n",
      "2036   03/10/2011          1    0.000125         1.000000\n",
      "\n",
      "[2037 rows x 4 columns]\n",
      "\n",
      "----------------------------------------------------------------\n",
      "\n",
      "     last_review  frequency  percentage  cumulative_perc\n",
      "0     2024-12-05       2071    0.258197         0.258197\n",
      "1     01/09/2024        333    0.041516         0.299713\n",
      "2     22/09/2024        301    0.037526         0.337240\n",
      "3     23/09/2024        232    0.028924         0.366164\n",
      "4     25/08/2024        171    0.021319         0.387483\n",
      "...          ...        ...         ...              ...\n",
      "1057  22/06/2023          1    0.000125         0.999501\n",
      "1058  02/03/2020          1    0.000125         0.999626\n",
      "1059  13/06/2021          1    0.000125         0.999751\n",
      "1060  28/10/2021          1    0.000125         0.999875\n",
      "1061  19/05/2024          1    0.000125         1.000000\n",
      "\n",
      "[1062 rows x 4 columns]\n",
      "\n",
      "----------------------------------------------------------------\n",
      "\n",
      "  instant_bookable  frequency  percentage  cumulative_perc\n",
      "0                f       6645     0.82845          0.82845\n",
      "1                t       1376     0.17155          1.00000\n",
      "\n",
      "----------------------------------------------------------------\n",
      "\n"
     ]
    }
   ],
   "source": [
    "#Obtengo un análisis univariado de las variables categóricas\n",
    "freq_tbl(Micro_Retailer_1)"
   ]
  },
  {
   "cell_type": "markdown",
   "metadata": {},
   "source": [
    "**Determicación de Clases para datos agrupados**"
   ]
  },
  {
   "cell_type": "code",
   "execution_count": 9,
   "metadata": {},
   "outputs": [
    {
     "data": {
      "text/plain": [
       "id                                              0\n",
       "listing_url                                     0\n",
       "host_since                                      0\n",
       "host_response_time                              0\n",
       "host_response_rate                              0\n",
       "host_acceptance_rate                            0\n",
       "host_is_superhost                               0\n",
       "host_verifications                              0\n",
       "neighbourhood_cleansed                          0\n",
       "property_type                                   0\n",
       "room_type                                       0\n",
       "bathrooms_text                                  0\n",
       "amenities                                       0\n",
       "price                                           0\n",
       "has_availability                                0\n",
       "first_review                                    0\n",
       "last_review                                     0\n",
       "instant_bookable                                0\n",
       "host_listings_count                             0\n",
       "host_total_listings_count                       0\n",
       "latitude                                        0\n",
       "longitude                                       0\n",
       "accommodates                                    0\n",
       "bathrooms                                       0\n",
       "bedrooms                                        0\n",
       "beds                                            0\n",
       "minimum_nights                                  0\n",
       "maximum_nights                                  0\n",
       "minimum_nights_avg_ntm                          0\n",
       "maximum_nights_avg_ntm                          0\n",
       "availability_30                                 0\n",
       "availability_60                                 0\n",
       "availability_90                                 0\n",
       "availability_365                                0\n",
       "number_of_reviews                               0\n",
       "number_of_reviews_ltm                           0\n",
       "number_of_reviews_l30d                          0\n",
       "review_scores_rating                            0\n",
       "review_scores_accuracy                          0\n",
       "review_scores_cleanliness                       0\n",
       "review_scores_checkin                           0\n",
       "review_scores_communication                     0\n",
       "review_scores_location                          0\n",
       "review_scores_value                             0\n",
       "calculated_host_listings_count                  0\n",
       "calculated_host_listings_count_entire_homes     0\n",
       "calculated_host_listings_count_private_rooms    0\n",
       "calculated_host_listings_count_shared_rooms     0\n",
       "reviews_per_month                               0\n",
       "dtype: int64"
      ]
     },
     "execution_count": 9,
     "metadata": {},
     "output_type": "execute_result"
    }
   ],
   "source": [
    "valores_nulos = Micro_Retailer_1.isnull().sum()\n",
    "valores_nulos"
   ]
  },
  {
   "cell_type": "code",
   "execution_count": 10,
   "metadata": {},
   "outputs": [],
   "source": [
    "# Eliminar % y convertir a número\n",
    "Micro_Retailer_1[\"host_response_rate\"] = Micro_Retailer_1[\"host_response_rate\"].str.replace('%', '', regex=True).astype(float) / 100  "
   ]
  },
  {
   "cell_type": "code",
   "execution_count": 12,
   "metadata": {},
   "outputs": [
    {
     "name": "stdout",
     "output_type": "stream",
     "text": [
      "<class 'pandas.core.series.Series'>\n",
      "RangeIndex: 8021 entries, 0 to 8020\n",
      "Series name: host_response_rate\n",
      "Non-Null Count  Dtype  \n",
      "--------------  -----  \n",
      "8021 non-null   float64\n",
      "dtypes: float64(1)\n",
      "memory usage: 62.8 KB\n"
     ]
    }
   ],
   "source": [
    "Micro_Retailer_1['host_response_rate'].info()\n",
    "n=8021"
   ]
  },
  {
   "cell_type": "code",
   "execution_count": 13,
   "metadata": {},
   "outputs": [
    {
     "data": {
      "text/plain": [
       "[0.0, 1.0]"
      ]
     },
     "execution_count": 13,
     "metadata": {},
     "output_type": "execute_result"
    }
   ],
   "source": [
    "Min = Micro_Retailer_1[\"host_response_rate\"].min()  \n",
    "Max = Micro_Retailer_1[\"host_response_rate\"].max()  \n",
    "Limites = [Min,Max]\n",
    "Limites"
   ]
  },
  {
   "cell_type": "code",
   "execution_count": 14,
   "metadata": {},
   "outputs": [
    {
     "data": {
      "text/plain": [
       "1.0"
      ]
     },
     "execution_count": 14,
     "metadata": {},
     "output_type": "execute_result"
    }
   ],
   "source": [
    "R = Max - Min\n",
    "R"
   ]
  },
  {
   "cell_type": "code",
   "execution_count": 15,
   "metadata": {},
   "outputs": [
    {
     "data": {
      "text/plain": [
       "13.96203867424906"
      ]
     },
     "execution_count": 15,
     "metadata": {},
     "output_type": "execute_result"
    }
   ],
   "source": [
    "ni = 1+3.32*np.log10(n)\n",
    "ni"
   ]
  },
  {
   "cell_type": "code",
   "execution_count": 16,
   "metadata": {},
   "outputs": [
    {
     "data": {
      "text/plain": [
       "0.07162277825833228"
      ]
     },
     "execution_count": 16,
     "metadata": {},
     "output_type": "execute_result"
    }
   ],
   "source": [
    "i = R/ni\n",
    "i"
   ]
  },
  {
   "cell_type": "markdown",
   "metadata": {},
   "source": [
    "**Creación de Categorias a partir de clases**"
   ]
  },
  {
   "cell_type": "code",
   "execution_count": 17,
   "metadata": {},
   "outputs": [
    {
     "data": {
      "text/plain": [
       "array([0.        , 0.08333333, 0.16666667, 0.25      , 0.33333333,\n",
       "       0.41666667, 0.5       , 0.58333333, 0.66666667, 0.75      ,\n",
       "       0.83333333, 0.91666667, 1.        ])"
      ]
     },
     "execution_count": 17,
     "metadata": {},
     "output_type": "execute_result"
    }
   ],
   "source": [
    "# Ver resultado\n",
    "intervalos = np.linspace(0.0, 1.0, 13) #Número de clases más uno\n",
    "intervalos"
   ]
  },
  {
   "cell_type": "code",
   "execution_count": 18,
   "metadata": {},
   "outputs": [],
   "source": [
    "categorias = [\"Categoría1\", \"Categoría2\", \"Categoría3\", \"Categoría4\",\n",
    "              \"Categoría5\", \"Categoría6\", \"Categoría7\", \"Categoría8\",\n",
    "              \"Categoría9\",\"Categoría10\",\"Categoría11\",\"Categoría12\",]"
   ]
  },
  {
   "cell_type": "code",
   "execution_count": 19,
   "metadata": {},
   "outputs": [
    {
     "data": {
      "text/plain": [
       "0               NaN\n",
       "1       Categoría12\n",
       "2       Categoría12\n",
       "3       Categoría12\n",
       "4       Categoría12\n",
       "           ...     \n",
       "8016    Categoría12\n",
       "8017    Categoría12\n",
       "8018    Categoría12\n",
       "8019    Categoría12\n",
       "8020    Categoría12\n",
       "Name: host_response_rate, Length: 8021, dtype: category\n",
       "Categories (12, object): ['Categoría1' < 'Categoría2' < 'Categoría3' < 'Categoría4' ... 'Categoría9' < 'Categoría10' < 'Categoría11' < 'Categoría12']"
      ]
     },
     "execution_count": 19,
     "metadata": {},
     "output_type": "execute_result"
    }
   ],
   "source": [
    "Micro_Retailer_1[\"host_response_rate\"] = pd.cut(x = Micro_Retailer_1[\"host_response_rate\"], bins = intervalos, labels = categorias)\n",
    "Micro_Retailer_1[\"host_response_rate\"]"
   ]
  },
  {
   "cell_type": "code",
   "execution_count": 20,
   "metadata": {},
   "outputs": [
    {
     "data": {
      "text/html": [
       "<div>\n",
       "<style scoped>\n",
       "    .dataframe tbody tr th:only-of-type {\n",
       "        vertical-align: middle;\n",
       "    }\n",
       "\n",
       "    .dataframe tbody tr th {\n",
       "        vertical-align: top;\n",
       "    }\n",
       "\n",
       "    .dataframe thead th {\n",
       "        text-align: right;\n",
       "    }\n",
       "</style>\n",
       "<table border=\"1\" class=\"dataframe\">\n",
       "  <thead>\n",
       "    <tr style=\"text-align: right;\">\n",
       "      <th></th>\n",
       "      <th>host_response_rate</th>\n",
       "      <th>frequency</th>\n",
       "      <th>percentage</th>\n",
       "      <th>cumulative_perc</th>\n",
       "    </tr>\n",
       "  </thead>\n",
       "  <tbody>\n",
       "    <tr>\n",
       "      <th>0</th>\n",
       "      <td>Categoría12</td>\n",
       "      <td>5774</td>\n",
       "      <td>0.719860</td>\n",
       "      <td>0.766291</td>\n",
       "    </tr>\n",
       "    <tr>\n",
       "      <th>1</th>\n",
       "      <td>Categoría11</td>\n",
       "      <td>503</td>\n",
       "      <td>0.062710</td>\n",
       "      <td>0.833046</td>\n",
       "    </tr>\n",
       "    <tr>\n",
       "      <th>2</th>\n",
       "      <td>Categoría10</td>\n",
       "      <td>327</td>\n",
       "      <td>0.040768</td>\n",
       "      <td>0.876443</td>\n",
       "    </tr>\n",
       "    <tr>\n",
       "      <th>3</th>\n",
       "      <td>Categoría9</td>\n",
       "      <td>309</td>\n",
       "      <td>0.038524</td>\n",
       "      <td>0.917452</td>\n",
       "    </tr>\n",
       "    <tr>\n",
       "      <th>4</th>\n",
       "      <td>Categoría6</td>\n",
       "      <td>167</td>\n",
       "      <td>0.020820</td>\n",
       "      <td>0.939615</td>\n",
       "    </tr>\n",
       "    <tr>\n",
       "      <th>5</th>\n",
       "      <td>Categoría8</td>\n",
       "      <td>124</td>\n",
       "      <td>0.015459</td>\n",
       "      <td>0.956072</td>\n",
       "    </tr>\n",
       "    <tr>\n",
       "      <th>6</th>\n",
       "      <td>Categoría3</td>\n",
       "      <td>100</td>\n",
       "      <td>0.012467</td>\n",
       "      <td>0.969343</td>\n",
       "    </tr>\n",
       "    <tr>\n",
       "      <th>7</th>\n",
       "      <td>Categoría4</td>\n",
       "      <td>93</td>\n",
       "      <td>0.011595</td>\n",
       "      <td>0.981685</td>\n",
       "    </tr>\n",
       "    <tr>\n",
       "      <th>8</th>\n",
       "      <td>Categoría5</td>\n",
       "      <td>66</td>\n",
       "      <td>0.008228</td>\n",
       "      <td>0.990445</td>\n",
       "    </tr>\n",
       "    <tr>\n",
       "      <th>9</th>\n",
       "      <td>Categoría2</td>\n",
       "      <td>49</td>\n",
       "      <td>0.006109</td>\n",
       "      <td>0.996948</td>\n",
       "    </tr>\n",
       "    <tr>\n",
       "      <th>10</th>\n",
       "      <td>Categoría7</td>\n",
       "      <td>18</td>\n",
       "      <td>0.002244</td>\n",
       "      <td>0.999336</td>\n",
       "    </tr>\n",
       "    <tr>\n",
       "      <th>11</th>\n",
       "      <td>Categoría1</td>\n",
       "      <td>5</td>\n",
       "      <td>0.000623</td>\n",
       "      <td>1.000000</td>\n",
       "    </tr>\n",
       "  </tbody>\n",
       "</table>\n",
       "</div>"
      ],
      "text/plain": [
       "   host_response_rate  frequency  percentage  cumulative_perc\n",
       "0         Categoría12       5774    0.719860         0.766291\n",
       "1         Categoría11        503    0.062710         0.833046\n",
       "2         Categoría10        327    0.040768         0.876443\n",
       "3          Categoría9        309    0.038524         0.917452\n",
       "4          Categoría6        167    0.020820         0.939615\n",
       "5          Categoría8        124    0.015459         0.956072\n",
       "6          Categoría3        100    0.012467         0.969343\n",
       "7          Categoría4         93    0.011595         0.981685\n",
       "8          Categoría5         66    0.008228         0.990445\n",
       "9          Categoría2         49    0.006109         0.996948\n",
       "10         Categoría7         18    0.002244         0.999336\n",
       "11         Categoría1          5    0.000623         1.000000"
      ]
     },
     "execution_count": 20,
     "metadata": {},
     "output_type": "execute_result"
    }
   ],
   "source": [
    "#Obtengo un análisis univariado de una variable categórica en específico  \n",
    "table1 = freq_tbl(Micro_Retailer_1[\"host_response_rate\"])\n",
    "table1"
   ]
  },
  {
   "cell_type": "code",
   "execution_count": 21,
   "metadata": {},
   "outputs": [
    {
     "data": {
      "text/html": [
       "<div>\n",
       "<style scoped>\n",
       "    .dataframe tbody tr th:only-of-type {\n",
       "        vertical-align: middle;\n",
       "    }\n",
       "\n",
       "    .dataframe tbody tr th {\n",
       "        vertical-align: top;\n",
       "    }\n",
       "\n",
       "    .dataframe thead th {\n",
       "        text-align: right;\n",
       "    }\n",
       "</style>\n",
       "<table border=\"1\" class=\"dataframe\">\n",
       "  <thead>\n",
       "    <tr style=\"text-align: right;\">\n",
       "      <th></th>\n",
       "      <th>host_response_rate</th>\n",
       "      <th>frequency</th>\n",
       "    </tr>\n",
       "  </thead>\n",
       "  <tbody>\n",
       "    <tr>\n",
       "      <th>0</th>\n",
       "      <td>Categoría12</td>\n",
       "      <td>5774</td>\n",
       "    </tr>\n",
       "    <tr>\n",
       "      <th>1</th>\n",
       "      <td>Categoría11</td>\n",
       "      <td>503</td>\n",
       "    </tr>\n",
       "    <tr>\n",
       "      <th>2</th>\n",
       "      <td>Categoría10</td>\n",
       "      <td>327</td>\n",
       "    </tr>\n",
       "    <tr>\n",
       "      <th>3</th>\n",
       "      <td>Categoría9</td>\n",
       "      <td>309</td>\n",
       "    </tr>\n",
       "    <tr>\n",
       "      <th>4</th>\n",
       "      <td>Categoría6</td>\n",
       "      <td>167</td>\n",
       "    </tr>\n",
       "    <tr>\n",
       "      <th>5</th>\n",
       "      <td>Categoría8</td>\n",
       "      <td>124</td>\n",
       "    </tr>\n",
       "    <tr>\n",
       "      <th>6</th>\n",
       "      <td>Categoría3</td>\n",
       "      <td>100</td>\n",
       "    </tr>\n",
       "    <tr>\n",
       "      <th>7</th>\n",
       "      <td>Categoría4</td>\n",
       "      <td>93</td>\n",
       "    </tr>\n",
       "    <tr>\n",
       "      <th>8</th>\n",
       "      <td>Categoría5</td>\n",
       "      <td>66</td>\n",
       "    </tr>\n",
       "    <tr>\n",
       "      <th>9</th>\n",
       "      <td>Categoría2</td>\n",
       "      <td>49</td>\n",
       "    </tr>\n",
       "    <tr>\n",
       "      <th>10</th>\n",
       "      <td>Categoría7</td>\n",
       "      <td>18</td>\n",
       "    </tr>\n",
       "    <tr>\n",
       "      <th>11</th>\n",
       "      <td>Categoría1</td>\n",
       "      <td>5</td>\n",
       "    </tr>\n",
       "  </tbody>\n",
       "</table>\n",
       "</div>"
      ],
      "text/plain": [
       "   host_response_rate  frequency\n",
       "0         Categoría12       5774\n",
       "1         Categoría11        503\n",
       "2         Categoría10        327\n",
       "3          Categoría9        309\n",
       "4          Categoría6        167\n",
       "5          Categoría8        124\n",
       "6          Categoría3        100\n",
       "7          Categoría4         93\n",
       "8          Categoría5         66\n",
       "9          Categoría2         49\n",
       "10         Categoría7         18\n",
       "11         Categoría1          5"
      ]
     },
     "execution_count": 21,
     "metadata": {},
     "output_type": "execute_result"
    }
   ],
   "source": [
    "#Elimino las columnas \"procentage\" y \"cumulative_perc\" para trabajar con las fecuencias\n",
    "table2 = table1.drop(['percentage', 'cumulative_perc'], axis=1)\n",
    "table2"
   ]
  },
  {
   "cell_type": "code",
   "execution_count": 22,
   "metadata": {},
   "outputs": [
    {
     "data": {
      "text/html": [
       "<div>\n",
       "<style scoped>\n",
       "    .dataframe tbody tr th:only-of-type {\n",
       "        vertical-align: middle;\n",
       "    }\n",
       "\n",
       "    .dataframe tbody tr th {\n",
       "        vertical-align: top;\n",
       "    }\n",
       "\n",
       "    .dataframe thead th {\n",
       "        text-align: right;\n",
       "    }\n",
       "</style>\n",
       "<table border=\"1\" class=\"dataframe\">\n",
       "  <thead>\n",
       "    <tr style=\"text-align: right;\">\n",
       "      <th></th>\n",
       "      <th>host_response_rate</th>\n",
       "      <th>frequency</th>\n",
       "    </tr>\n",
       "  </thead>\n",
       "  <tbody>\n",
       "    <tr>\n",
       "      <th>0</th>\n",
       "      <td>Categoría12</td>\n",
       "      <td>5774</td>\n",
       "    </tr>\n",
       "    <tr>\n",
       "      <th>1</th>\n",
       "      <td>Categoría11</td>\n",
       "      <td>503</td>\n",
       "    </tr>\n",
       "    <tr>\n",
       "      <th>2</th>\n",
       "      <td>Categoría10</td>\n",
       "      <td>327</td>\n",
       "    </tr>\n",
       "    <tr>\n",
       "      <th>3</th>\n",
       "      <td>Categoría9</td>\n",
       "      <td>309</td>\n",
       "    </tr>\n",
       "    <tr>\n",
       "      <th>4</th>\n",
       "      <td>Categoría6</td>\n",
       "      <td>167</td>\n",
       "    </tr>\n",
       "    <tr>\n",
       "      <th>5</th>\n",
       "      <td>Categoría8</td>\n",
       "      <td>124</td>\n",
       "    </tr>\n",
       "  </tbody>\n",
       "</table>\n",
       "</div>"
      ],
      "text/plain": [
       "  host_response_rate  frequency\n",
       "0        Categoría12       5774\n",
       "1        Categoría11        503\n",
       "2        Categoría10        327\n",
       "3         Categoría9        309\n",
       "4         Categoría6        167\n",
       "5         Categoría8        124"
      ]
     },
     "execution_count": 22,
     "metadata": {},
     "output_type": "execute_result"
    }
   ],
   "source": [
    "filtro = table2[table2['frequency'] > 100]\n",
    "filtro"
   ]
  },
  {
   "cell_type": "code",
   "execution_count": 23,
   "metadata": {},
   "outputs": [
    {
     "data": {
      "text/html": [
       "<div>\n",
       "<style scoped>\n",
       "    .dataframe tbody tr th:only-of-type {\n",
       "        vertical-align: middle;\n",
       "    }\n",
       "\n",
       "    .dataframe tbody tr th {\n",
       "        vertical-align: top;\n",
       "    }\n",
       "\n",
       "    .dataframe thead th {\n",
       "        text-align: right;\n",
       "    }\n",
       "</style>\n",
       "<table border=\"1\" class=\"dataframe\">\n",
       "  <thead>\n",
       "    <tr style=\"text-align: right;\">\n",
       "      <th></th>\n",
       "      <th>frequency</th>\n",
       "    </tr>\n",
       "    <tr>\n",
       "      <th>host_response_rate</th>\n",
       "      <th></th>\n",
       "    </tr>\n",
       "  </thead>\n",
       "  <tbody>\n",
       "    <tr>\n",
       "      <th>Categoría12</th>\n",
       "      <td>5774</td>\n",
       "    </tr>\n",
       "    <tr>\n",
       "      <th>Categoría11</th>\n",
       "      <td>503</td>\n",
       "    </tr>\n",
       "    <tr>\n",
       "      <th>Categoría10</th>\n",
       "      <td>327</td>\n",
       "    </tr>\n",
       "    <tr>\n",
       "      <th>Categoría9</th>\n",
       "      <td>309</td>\n",
       "    </tr>\n",
       "    <tr>\n",
       "      <th>Categoría6</th>\n",
       "      <td>167</td>\n",
       "    </tr>\n",
       "    <tr>\n",
       "      <th>Categoría8</th>\n",
       "      <td>124</td>\n",
       "    </tr>\n",
       "  </tbody>\n",
       "</table>\n",
       "</div>"
      ],
      "text/plain": [
       "                    frequency\n",
       "host_response_rate           \n",
       "Categoría12              5774\n",
       "Categoría11               503\n",
       "Categoría10               327\n",
       "Categoría9                309\n",
       "Categoría6                167\n",
       "Categoría8                124"
      ]
     },
     "execution_count": 23,
     "metadata": {},
     "output_type": "execute_result"
    }
   ],
   "source": [
    "#Ajusto el indice de mi DataFrame\n",
    "Filtro_index = filtro.set_index(\"host_response_rate\")\n",
    "Filtro_index"
   ]
  },
  {
   "cell_type": "code",
   "execution_count": 24,
   "metadata": {},
   "outputs": [
    {
     "data": {
      "text/plain": [
       "Text(0, 0.5, 'Frecuencia')"
      ]
     },
     "execution_count": 24,
     "metadata": {},
     "output_type": "execute_result"
    },
    {
     "data": {
      "image/png": "[encoded data removed]",
      "text/plain": [
       "<Figure size 1000x400 with 1 Axes>"
      ]
     },
     "metadata": {},
     "output_type": "display_data"
    }
   ],
   "source": [
    "#Realizamos grafico de barras del Dataframe filtrado\n",
    "Filtro_index.plot(kind = 'bar', width=0.8, figsize=(10,4), color = \"red\")\n",
    "plt.title('Tiempo de respuesta del host')\n",
    "plt.xlabel('Categoria')\n",
    "plt.ylabel('Frecuencia')"
   ]
  },
  {
   "cell_type": "markdown",
   "metadata": {},
   "source": [
    "**Variable 2**"
   ]
  },
  {
   "cell_type": "markdown",
   "metadata": {},
   "source": [
    "**Determicación de Clases para datos agrupados**"
   ]
  },
  {
   "cell_type": "code",
   "execution_count": null,
   "metadata": {},
   "outputs": [],
   "source": [
    "# Eliminar % y convertir a número\n",
    "Micro_Retailer_1[\"host_acceptance_rate\"] = Micro_Retailer_1[\"host_acceptance_rate\"].str.replace('%', '', regex=True).astype(float) / 100 "
   ]
  },
  {
   "cell_type": "code",
   "execution_count": 27,
   "metadata": {},
   "outputs": [
    {
     "name": "stdout",
     "output_type": "stream",
     "text": [
      "<class 'pandas.core.series.Series'>\n",
      "RangeIndex: 8021 entries, 0 to 8020\n",
      "Series name: host_acceptance_rate\n",
      "Non-Null Count  Dtype  \n",
      "--------------  -----  \n",
      "8021 non-null   float64\n",
      "dtypes: float64(1)\n",
      "memory usage: 62.8 KB\n"
     ]
    }
   ],
   "source": [
    "Micro_Retailer_1['host_acceptance_rate'].info()\n",
    "n = 8021"
   ]
  },
  {
   "cell_type": "code",
   "execution_count": 31,
   "metadata": {},
   "outputs": [
    {
     "data": {
      "text/plain": [
       "[0.0, 1.0]"
      ]
     },
     "execution_count": 31,
     "metadata": {},
     "output_type": "execute_result"
    }
   ],
   "source": [
    "Min = Micro_Retailer_1[\"host_acceptance_rate\"].min()  \n",
    "Max = Micro_Retailer_1[\"host_acceptance_rate\"].max()  \n",
    "Limites = [Min,Max]\n",
    "Limites"
   ]
  },
  {
   "cell_type": "code",
   "execution_count": 33,
   "metadata": {},
   "outputs": [
    {
     "data": {
      "text/plain": [
       "1.0"
      ]
     },
     "execution_count": 33,
     "metadata": {},
     "output_type": "execute_result"
    }
   ],
   "source": [
    "R = Max - Min\n",
    "R"
   ]
  },
  {
   "cell_type": "code",
   "execution_count": 34,
   "metadata": {},
   "outputs": [
    {
     "data": {
      "text/plain": [
       "1.0"
      ]
     },
     "execution_count": 34,
     "metadata": {},
     "output_type": "execute_result"
    }
   ],
   "source": [
    "#Calcula el rango\n",
    "R = Max - Min\n",
    "R"
   ]
  },
  {
   "cell_type": "code",
   "execution_count": 35,
   "metadata": {},
   "outputs": [
    {
     "data": {
      "text/plain": [
       "13.96203867424906"
      ]
     },
     "execution_count": 35,
     "metadata": {},
     "output_type": "execute_result"
    }
   ],
   "source": [
    "#Calcular el número de Intervalos de Clase (ni). Se aplica la regla de Sturges (Donde “n” el tamaño de la muestra.):\n",
    "ni = 1+3.32*np.log10(n)\n",
    "ni"
   ]
  },
  {
   "cell_type": "code",
   "execution_count": 36,
   "metadata": {},
   "outputs": [
    {
     "data": {
      "text/plain": [
       "0.07162277825833228"
      ]
     },
     "execution_count": 36,
     "metadata": {},
     "output_type": "execute_result"
    }
   ],
   "source": [
    "#Calcular el Ancho del Intervalo ( i )\n",
    "i = R/ni\n",
    "i"
   ]
  },
  {
   "cell_type": "code",
   "execution_count": 38,
   "metadata": {},
   "outputs": [
    {
     "data": {
      "text/plain": [
       "array([0.        , 0.08333333, 0.16666667, 0.25      , 0.33333333,\n",
       "       0.41666667, 0.5       , 0.58333333, 0.66666667, 0.75      ,\n",
       "       0.83333333, 0.91666667, 1.        ])"
      ]
     },
     "execution_count": 38,
     "metadata": {},
     "output_type": "execute_result"
    }
   ],
   "source": [
    "# Ver resultado\n",
    "intervalos = np.linspace(0.0, 1.0, 13) #Número de clases más uno\n",
    "intervalos"
   ]
  },
  {
   "cell_type": "code",
   "execution_count": 39,
   "metadata": {},
   "outputs": [],
   "source": [
    "categorias = [\"Categoría1\", \"Categoría2\", \"Categoría3\", \"Categoría4\",\n",
    "              \"Categoría5\", \"Categoría6\", \"Categoría7\", \"Categoría8\",\n",
    "              \"Categoría9\",\"Categoría10\",\"Categoría11\",\"Categoría12\"]"
   ]
  },
  {
   "cell_type": "code",
   "execution_count": 40,
   "metadata": {},
   "outputs": [
    {
     "data": {
      "text/plain": [
       "0        Categoría1\n",
       "1       Categoría12\n",
       "2       Categoría12\n",
       "3       Categoría10\n",
       "4       Categoría12\n",
       "           ...     \n",
       "8016    Categoría12\n",
       "8017    Categoría12\n",
       "8018    Categoría12\n",
       "8019    Categoría12\n",
       "8020    Categoría12\n",
       "Name: host_acceptance_rate, Length: 8021, dtype: category\n",
       "Categories (12, object): ['Categoría1' < 'Categoría2' < 'Categoría3' < 'Categoría4' ... 'Categoría9' < 'Categoría10' < 'Categoría11' < 'Categoría12']"
      ]
     },
     "execution_count": 40,
     "metadata": {},
     "output_type": "execute_result"
    }
   ],
   "source": [
    "Micro_Retailer_1[\"host_acceptance_rate\"] = pd.cut(x = Micro_Retailer_1[\"host_acceptance_rate\"], bins = intervalos, labels = categorias)\n",
    "Micro_Retailer_1[\"host_acceptance_rate\"]"
   ]
  },
  {
   "cell_type": "code",
   "execution_count": 41,
   "metadata": {},
   "outputs": [
    {
     "data": {
      "text/html": [
       "<div>\n",
       "<style scoped>\n",
       "    .dataframe tbody tr th:only-of-type {\n",
       "        vertical-align: middle;\n",
       "    }\n",
       "\n",
       "    .dataframe tbody tr th {\n",
       "        vertical-align: top;\n",
       "    }\n",
       "\n",
       "    .dataframe thead th {\n",
       "        text-align: right;\n",
       "    }\n",
       "</style>\n",
       "<table border=\"1\" class=\"dataframe\">\n",
       "  <thead>\n",
       "    <tr style=\"text-align: right;\">\n",
       "      <th></th>\n",
       "      <th>host_acceptance_rate</th>\n",
       "      <th>frequency</th>\n",
       "      <th>percentage</th>\n",
       "      <th>cumulative_perc</th>\n",
       "    </tr>\n",
       "  </thead>\n",
       "  <tbody>\n",
       "    <tr>\n",
       "      <th>0</th>\n",
       "      <td>Categoría12</td>\n",
       "      <td>3166</td>\n",
       "      <td>0.394714</td>\n",
       "      <td>0.437958</td>\n",
       "    </tr>\n",
       "    <tr>\n",
       "      <th>1</th>\n",
       "      <td>Categoría11</td>\n",
       "      <td>705</td>\n",
       "      <td>0.087894</td>\n",
       "      <td>0.535482</td>\n",
       "    </tr>\n",
       "    <tr>\n",
       "      <th>2</th>\n",
       "      <td>Categoría9</td>\n",
       "      <td>625</td>\n",
       "      <td>0.077920</td>\n",
       "      <td>0.621939</td>\n",
       "    </tr>\n",
       "    <tr>\n",
       "      <th>3</th>\n",
       "      <td>Categoría6</td>\n",
       "      <td>513</td>\n",
       "      <td>0.063957</td>\n",
       "      <td>0.692904</td>\n",
       "    </tr>\n",
       "    <tr>\n",
       "      <th>4</th>\n",
       "      <td>Categoría10</td>\n",
       "      <td>511</td>\n",
       "      <td>0.063708</td>\n",
       "      <td>0.763591</td>\n",
       "    </tr>\n",
       "    <tr>\n",
       "      <th>5</th>\n",
       "      <td>Categoría4</td>\n",
       "      <td>357</td>\n",
       "      <td>0.044508</td>\n",
       "      <td>0.812976</td>\n",
       "    </tr>\n",
       "    <tr>\n",
       "      <th>6</th>\n",
       "      <td>Categoría3</td>\n",
       "      <td>354</td>\n",
       "      <td>0.044134</td>\n",
       "      <td>0.861945</td>\n",
       "    </tr>\n",
       "    <tr>\n",
       "      <th>7</th>\n",
       "      <td>Categoría8</td>\n",
       "      <td>295</td>\n",
       "      <td>0.036778</td>\n",
       "      <td>0.902753</td>\n",
       "    </tr>\n",
       "    <tr>\n",
       "      <th>8</th>\n",
       "      <td>Categoría7</td>\n",
       "      <td>260</td>\n",
       "      <td>0.032415</td>\n",
       "      <td>0.938719</td>\n",
       "    </tr>\n",
       "    <tr>\n",
       "      <th>9</th>\n",
       "      <td>Categoría5</td>\n",
       "      <td>218</td>\n",
       "      <td>0.027179</td>\n",
       "      <td>0.968875</td>\n",
       "    </tr>\n",
       "    <tr>\n",
       "      <th>10</th>\n",
       "      <td>Categoría2</td>\n",
       "      <td>124</td>\n",
       "      <td>0.015459</td>\n",
       "      <td>0.986028</td>\n",
       "    </tr>\n",
       "    <tr>\n",
       "      <th>11</th>\n",
       "      <td>Categoría1</td>\n",
       "      <td>101</td>\n",
       "      <td>0.012592</td>\n",
       "      <td>1.000000</td>\n",
       "    </tr>\n",
       "  </tbody>\n",
       "</table>\n",
       "</div>"
      ],
      "text/plain": [
       "   host_acceptance_rate  frequency  percentage  cumulative_perc\n",
       "0           Categoría12       3166    0.394714         0.437958\n",
       "1           Categoría11        705    0.087894         0.535482\n",
       "2            Categoría9        625    0.077920         0.621939\n",
       "3            Categoría6        513    0.063957         0.692904\n",
       "4           Categoría10        511    0.063708         0.763591\n",
       "5            Categoría4        357    0.044508         0.812976\n",
       "6            Categoría3        354    0.044134         0.861945\n",
       "7            Categoría8        295    0.036778         0.902753\n",
       "8            Categoría7        260    0.032415         0.938719\n",
       "9            Categoría5        218    0.027179         0.968875\n",
       "10           Categoría2        124    0.015459         0.986028\n",
       "11           Categoría1        101    0.012592         1.000000"
      ]
     },
     "execution_count": 41,
     "metadata": {},
     "output_type": "execute_result"
    }
   ],
   "source": [
    "#Obtengo un análisis univariado de una variable categórica en específico  \n",
    "table3 = freq_tbl(Micro_Retailer_1[\"host_acceptance_rate\"])\n",
    "table3"
   ]
  },
  {
   "cell_type": "code",
   "execution_count": 42,
   "metadata": {},
   "outputs": [
    {
     "data": {
      "text/html": [
       "<div>\n",
       "<style scoped>\n",
       "    .dataframe tbody tr th:only-of-type {\n",
       "        vertical-align: middle;\n",
       "    }\n",
       "\n",
       "    .dataframe tbody tr th {\n",
       "        vertical-align: top;\n",
       "    }\n",
       "\n",
       "    .dataframe thead th {\n",
       "        text-align: right;\n",
       "    }\n",
       "</style>\n",
       "<table border=\"1\" class=\"dataframe\">\n",
       "  <thead>\n",
       "    <tr style=\"text-align: right;\">\n",
       "      <th></th>\n",
       "      <th>host_acceptance_rate</th>\n",
       "      <th>frequency</th>\n",
       "    </tr>\n",
       "  </thead>\n",
       "  <tbody>\n",
       "    <tr>\n",
       "      <th>0</th>\n",
       "      <td>Categoría12</td>\n",
       "      <td>3166</td>\n",
       "    </tr>\n",
       "    <tr>\n",
       "      <th>1</th>\n",
       "      <td>Categoría11</td>\n",
       "      <td>705</td>\n",
       "    </tr>\n",
       "    <tr>\n",
       "      <th>2</th>\n",
       "      <td>Categoría9</td>\n",
       "      <td>625</td>\n",
       "    </tr>\n",
       "    <tr>\n",
       "      <th>3</th>\n",
       "      <td>Categoría6</td>\n",
       "      <td>513</td>\n",
       "    </tr>\n",
       "    <tr>\n",
       "      <th>4</th>\n",
       "      <td>Categoría10</td>\n",
       "      <td>511</td>\n",
       "    </tr>\n",
       "    <tr>\n",
       "      <th>5</th>\n",
       "      <td>Categoría4</td>\n",
       "      <td>357</td>\n",
       "    </tr>\n",
       "    <tr>\n",
       "      <th>6</th>\n",
       "      <td>Categoría3</td>\n",
       "      <td>354</td>\n",
       "    </tr>\n",
       "    <tr>\n",
       "      <th>7</th>\n",
       "      <td>Categoría8</td>\n",
       "      <td>295</td>\n",
       "    </tr>\n",
       "    <tr>\n",
       "      <th>8</th>\n",
       "      <td>Categoría7</td>\n",
       "      <td>260</td>\n",
       "    </tr>\n",
       "    <tr>\n",
       "      <th>9</th>\n",
       "      <td>Categoría5</td>\n",
       "      <td>218</td>\n",
       "    </tr>\n",
       "    <tr>\n",
       "      <th>10</th>\n",
       "      <td>Categoría2</td>\n",
       "      <td>124</td>\n",
       "    </tr>\n",
       "    <tr>\n",
       "      <th>11</th>\n",
       "      <td>Categoría1</td>\n",
       "      <td>101</td>\n",
       "    </tr>\n",
       "  </tbody>\n",
       "</table>\n",
       "</div>"
      ],
      "text/plain": [
       "   host_acceptance_rate  frequency\n",
       "0           Categoría12       3166\n",
       "1           Categoría11        705\n",
       "2            Categoría9        625\n",
       "3            Categoría6        513\n",
       "4           Categoría10        511\n",
       "5            Categoría4        357\n",
       "6            Categoría3        354\n",
       "7            Categoría8        295\n",
       "8            Categoría7        260\n",
       "9            Categoría5        218\n",
       "10           Categoría2        124\n",
       "11           Categoría1        101"
      ]
     },
     "execution_count": 42,
     "metadata": {},
     "output_type": "execute_result"
    }
   ],
   "source": [
    "#Elimino las columnas \"procentage\" y \"cumulative_perc\" para trabajar con las fecuencias\n",
    "table4 = table3.drop(['percentage', 'cumulative_perc'], axis=1)\n",
    "table4"
   ]
  },
  {
   "cell_type": "code",
   "execution_count": 43,
   "metadata": {},
   "outputs": [
    {
     "data": {
      "text/html": [
       "<div>\n",
       "<style scoped>\n",
       "    .dataframe tbody tr th:only-of-type {\n",
       "        vertical-align: middle;\n",
       "    }\n",
       "\n",
       "    .dataframe tbody tr th {\n",
       "        vertical-align: top;\n",
       "    }\n",
       "\n",
       "    .dataframe thead th {\n",
       "        text-align: right;\n",
       "    }\n",
       "</style>\n",
       "<table border=\"1\" class=\"dataframe\">\n",
       "  <thead>\n",
       "    <tr style=\"text-align: right;\">\n",
       "      <th></th>\n",
       "      <th>host_acceptance_rate</th>\n",
       "      <th>frequency</th>\n",
       "    </tr>\n",
       "  </thead>\n",
       "  <tbody>\n",
       "    <tr>\n",
       "      <th>0</th>\n",
       "      <td>Categoría12</td>\n",
       "      <td>3166</td>\n",
       "    </tr>\n",
       "    <tr>\n",
       "      <th>1</th>\n",
       "      <td>Categoría11</td>\n",
       "      <td>705</td>\n",
       "    </tr>\n",
       "    <tr>\n",
       "      <th>2</th>\n",
       "      <td>Categoría9</td>\n",
       "      <td>625</td>\n",
       "    </tr>\n",
       "    <tr>\n",
       "      <th>3</th>\n",
       "      <td>Categoría6</td>\n",
       "      <td>513</td>\n",
       "    </tr>\n",
       "    <tr>\n",
       "      <th>4</th>\n",
       "      <td>Categoría10</td>\n",
       "      <td>511</td>\n",
       "    </tr>\n",
       "    <tr>\n",
       "      <th>5</th>\n",
       "      <td>Categoría4</td>\n",
       "      <td>357</td>\n",
       "    </tr>\n",
       "    <tr>\n",
       "      <th>6</th>\n",
       "      <td>Categoría3</td>\n",
       "      <td>354</td>\n",
       "    </tr>\n",
       "  </tbody>\n",
       "</table>\n",
       "</div>"
      ],
      "text/plain": [
       "  host_acceptance_rate  frequency\n",
       "0          Categoría12       3166\n",
       "1          Categoría11        705\n",
       "2           Categoría9        625\n",
       "3           Categoría6        513\n",
       "4          Categoría10        511\n",
       "5           Categoría4        357\n",
       "6           Categoría3        354"
      ]
     },
     "execution_count": 43,
     "metadata": {},
     "output_type": "execute_result"
    }
   ],
   "source": [
    "filtro2 = table4[table4['frequency'] > 300]\n",
    "filtro2"
   ]
  },
  {
   "cell_type": "code",
   "execution_count": 44,
   "metadata": {},
   "outputs": [
    {
     "data": {
      "text/html": [
       "<div>\n",
       "<style scoped>\n",
       "    .dataframe tbody tr th:only-of-type {\n",
       "        vertical-align: middle;\n",
       "    }\n",
       "\n",
       "    .dataframe tbody tr th {\n",
       "        vertical-align: top;\n",
       "    }\n",
       "\n",
       "    .dataframe thead th {\n",
       "        text-align: right;\n",
       "    }\n",
       "</style>\n",
       "<table border=\"1\" class=\"dataframe\">\n",
       "  <thead>\n",
       "    <tr style=\"text-align: right;\">\n",
       "      <th></th>\n",
       "      <th>frequency</th>\n",
       "    </tr>\n",
       "    <tr>\n",
       "      <th>host_acceptance_rate</th>\n",
       "      <th></th>\n",
       "    </tr>\n",
       "  </thead>\n",
       "  <tbody>\n",
       "    <tr>\n",
       "      <th>Categoría12</th>\n",
       "      <td>3166</td>\n",
       "    </tr>\n",
       "    <tr>\n",
       "      <th>Categoría11</th>\n",
       "      <td>705</td>\n",
       "    </tr>\n",
       "    <tr>\n",
       "      <th>Categoría9</th>\n",
       "      <td>625</td>\n",
       "    </tr>\n",
       "    <tr>\n",
       "      <th>Categoría6</th>\n",
       "      <td>513</td>\n",
       "    </tr>\n",
       "    <tr>\n",
       "      <th>Categoría10</th>\n",
       "      <td>511</td>\n",
       "    </tr>\n",
       "    <tr>\n",
       "      <th>Categoría4</th>\n",
       "      <td>357</td>\n",
       "    </tr>\n",
       "    <tr>\n",
       "      <th>Categoría3</th>\n",
       "      <td>354</td>\n",
       "    </tr>\n",
       "  </tbody>\n",
       "</table>\n",
       "</div>"
      ],
      "text/plain": [
       "                      frequency\n",
       "host_acceptance_rate           \n",
       "Categoría12                3166\n",
       "Categoría11                 705\n",
       "Categoría9                  625\n",
       "Categoría6                  513\n",
       "Categoría10                 511\n",
       "Categoría4                  357\n",
       "Categoría3                  354"
      ]
     },
     "execution_count": 44,
     "metadata": {},
     "output_type": "execute_result"
    }
   ],
   "source": [
    "#Ajusto el indice de mi DataFrame\n",
    "Filtro_index1 = filtro2.set_index(\"host_acceptance_rate\")\n",
    "Filtro_index1"
   ]
  },
  {
   "cell_type": "code",
   "execution_count": 45,
   "metadata": {},
   "outputs": [
    {
     "data": {
      "text/plain": [
       "<Axes: xlabel='host_acceptance_rate'>"
      ]
     },
     "execution_count": 45,
     "metadata": {},
     "output_type": "execute_result"
    },
    {
     "data": {
      "image/png": "[encoded data removed]",
      "text/plain": [
       "<Figure size 1000x400 with 1 Axes>"
      ]
     },
     "metadata": {},
     "output_type": "display_data"
    }
   ],
   "source": [
    "#Realizamos grafico de área del dataframe filtrado\n",
    "Filtro_index1.plot(kind='area', figsize=(10,4), alpha = 0.5)"
   ]
  },
  {
   "cell_type": "code",
   "execution_count": 47,
   "metadata": {},
   "outputs": [
    {
     "name": "stdout",
     "output_type": "stream",
     "text": [
      "<class 'pandas.core.series.Series'>\n",
      "RangeIndex: 8021 entries, 0 to 8020\n",
      "Series name: host_total_listings_count\n",
      "Non-Null Count  Dtype  \n",
      "--------------  -----  \n",
      "8021 non-null   float64\n",
      "dtypes: float64(1)\n",
      "memory usage: 62.8 KB\n"
     ]
    }
   ],
   "source": [
    "Micro_Retailer_1['host_total_listings_count'].info()\n",
    "n = 8021"
   ]
  },
  {
   "cell_type": "code",
   "execution_count": 48,
   "metadata": {},
   "outputs": [
    {
     "data": {
      "text/plain": [
       "[1.0, 6.0]"
      ]
     },
     "execution_count": 48,
     "metadata": {},
     "output_type": "execute_result"
    }
   ],
   "source": [
    "Min = Micro_Retailer_1[\"host_total_listings_count\"].min()  \n",
    "Max = Micro_Retailer_1[\"host_total_listings_count\"].max()  \n",
    "Limites = [Min,Max]\n",
    "Limites"
   ]
  },
  {
   "cell_type": "code",
   "execution_count": 49,
   "metadata": {},
   "outputs": [
    {
     "data": {
      "text/plain": [
       "5.0"
      ]
     },
     "execution_count": 49,
     "metadata": {},
     "output_type": "execute_result"
    }
   ],
   "source": [
    "#Calcula el rango\n",
    "R = Max - Min\n",
    "R"
   ]
  },
  {
   "cell_type": "code",
   "execution_count": 50,
   "metadata": {},
   "outputs": [
    {
     "data": {
      "text/plain": [
       "13.96203867424906"
      ]
     },
     "execution_count": 50,
     "metadata": {},
     "output_type": "execute_result"
    }
   ],
   "source": [
    "#Calcular el número de Intervalos de Clase (ni). Se aplica la regla de Sturges (Donde “n” el tamaño de la muestra.):\n",
    "ni = 1+3.32*np.log10(n)\n",
    "ni"
   ]
  },
  {
   "cell_type": "code",
   "execution_count": 51,
   "metadata": {},
   "outputs": [
    {
     "data": {
      "text/plain": [
       "0.3581138912916614"
      ]
     },
     "execution_count": 51,
     "metadata": {},
     "output_type": "execute_result"
    }
   ],
   "source": [
    "#Calcular el Ancho del Intervalo ( i )\n",
    "i = R/ni\n",
    "i"
   ]
  },
  {
   "cell_type": "code",
   "execution_count": 57,
   "metadata": {},
   "outputs": [
    {
     "data": {
      "text/plain": [
       "array([1.        , 1.41666667, 1.83333333, 2.25      , 2.66666667,\n",
       "       3.08333333, 3.5       , 3.91666667, 4.33333333, 4.75      ,\n",
       "       5.16666667, 5.58333333, 6.        ])"
      ]
     },
     "execution_count": 57,
     "metadata": {},
     "output_type": "execute_result"
    }
   ],
   "source": [
    "# Ver resultado\n",
    "intervalos = np.linspace(1.0, 6.0, 13) #Número de clases más uno\n",
    "intervalos"
   ]
  },
  {
   "cell_type": "code",
   "execution_count": 58,
   "metadata": {},
   "outputs": [],
   "source": [
    "categorias = [\"Categoría1\", \"Categoría2\", \"Categoría3\", \"Categoría4\",\n",
    "              \"Categoría5\", \"Categoría6\", \"Categoría7\", \"Categoría8\",\n",
    "              \"Categoría9\",\"Categoría10\",\"Categoría11\",\"Categoría12\"]"
   ]
  },
  {
   "cell_type": "code",
   "execution_count": 59,
   "metadata": {},
   "outputs": [
    {
     "data": {
      "text/plain": [
       "0        Categoría5\n",
       "1        Categoría5\n",
       "2        Categoría3\n",
       "3               NaN\n",
       "4               NaN\n",
       "           ...     \n",
       "8016    Categoría10\n",
       "8017            NaN\n",
       "8018            NaN\n",
       "8019            NaN\n",
       "8020            NaN\n",
       "Name: host_total_listings_count, Length: 8021, dtype: category\n",
       "Categories (12, object): ['Categoría1' < 'Categoría2' < 'Categoría3' < 'Categoría4' ... 'Categoría9' < 'Categoría10' < 'Categoría11' < 'Categoría12']"
      ]
     },
     "execution_count": 59,
     "metadata": {},
     "output_type": "execute_result"
    }
   ],
   "source": [
    "Micro_Retailer_1[\"host_total_listings_count\"] = pd.cut(x = Micro_Retailer_1[\"host_total_listings_count\"], bins = intervalos, labels = categorias)\n",
    "Micro_Retailer_1[\"host_total_listings_count\"]"
   ]
  },
  {
   "cell_type": "code",
   "execution_count": 61,
   "metadata": {},
   "outputs": [
    {
     "data": {
      "text/html": [
       "<div>\n",
       "<style scoped>\n",
       "    .dataframe tbody tr th:only-of-type {\n",
       "        vertical-align: middle;\n",
       "    }\n",
       "\n",
       "    .dataframe tbody tr th {\n",
       "        vertical-align: top;\n",
       "    }\n",
       "\n",
       "    .dataframe thead th {\n",
       "        text-align: right;\n",
       "    }\n",
       "</style>\n",
       "<table border=\"1\" class=\"dataframe\">\n",
       "  <thead>\n",
       "    <tr style=\"text-align: right;\">\n",
       "      <th></th>\n",
       "      <th>host_total_listings_count</th>\n",
       "      <th>frequency</th>\n",
       "      <th>percentage</th>\n",
       "      <th>cumulative_perc</th>\n",
       "    </tr>\n",
       "  </thead>\n",
       "  <tbody>\n",
       "    <tr>\n",
       "      <th>0</th>\n",
       "      <td>Categoría3</td>\n",
       "      <td>1601</td>\n",
       "      <td>0.199601</td>\n",
       "      <td>0.381554</td>\n",
       "    </tr>\n",
       "    <tr>\n",
       "      <th>1</th>\n",
       "      <td>Categoría9</td>\n",
       "      <td>1021</td>\n",
       "      <td>0.127291</td>\n",
       "      <td>0.624881</td>\n",
       "    </tr>\n",
       "    <tr>\n",
       "      <th>2</th>\n",
       "      <td>Categoría5</td>\n",
       "      <td>710</td>\n",
       "      <td>0.088518</td>\n",
       "      <td>0.794090</td>\n",
       "    </tr>\n",
       "    <tr>\n",
       "      <th>3</th>\n",
       "      <td>Categoría8</td>\n",
       "      <td>388</td>\n",
       "      <td>0.048373</td>\n",
       "      <td>0.886559</td>\n",
       "    </tr>\n",
       "    <tr>\n",
       "      <th>4</th>\n",
       "      <td>Categoría10</td>\n",
       "      <td>311</td>\n",
       "      <td>0.038773</td>\n",
       "      <td>0.960677</td>\n",
       "    </tr>\n",
       "    <tr>\n",
       "      <th>5</th>\n",
       "      <td>Categoría12</td>\n",
       "      <td>165</td>\n",
       "      <td>0.020571</td>\n",
       "      <td>1.000000</td>\n",
       "    </tr>\n",
       "    <tr>\n",
       "      <th>6</th>\n",
       "      <td>Categoría1</td>\n",
       "      <td>0</td>\n",
       "      <td>0.000000</td>\n",
       "      <td>1.000000</td>\n",
       "    </tr>\n",
       "    <tr>\n",
       "      <th>7</th>\n",
       "      <td>Categoría2</td>\n",
       "      <td>0</td>\n",
       "      <td>0.000000</td>\n",
       "      <td>1.000000</td>\n",
       "    </tr>\n",
       "    <tr>\n",
       "      <th>8</th>\n",
       "      <td>Categoría4</td>\n",
       "      <td>0</td>\n",
       "      <td>0.000000</td>\n",
       "      <td>1.000000</td>\n",
       "    </tr>\n",
       "    <tr>\n",
       "      <th>9</th>\n",
       "      <td>Categoría6</td>\n",
       "      <td>0</td>\n",
       "      <td>0.000000</td>\n",
       "      <td>1.000000</td>\n",
       "    </tr>\n",
       "    <tr>\n",
       "      <th>10</th>\n",
       "      <td>Categoría7</td>\n",
       "      <td>0</td>\n",
       "      <td>0.000000</td>\n",
       "      <td>1.000000</td>\n",
       "    </tr>\n",
       "    <tr>\n",
       "      <th>11</th>\n",
       "      <td>Categoría11</td>\n",
       "      <td>0</td>\n",
       "      <td>0.000000</td>\n",
       "      <td>1.000000</td>\n",
       "    </tr>\n",
       "  </tbody>\n",
       "</table>\n",
       "</div>"
      ],
      "text/plain": [
       "   host_total_listings_count  frequency  percentage  cumulative_perc\n",
       "0                 Categoría3       1601    0.199601         0.381554\n",
       "1                 Categoría9       1021    0.127291         0.624881\n",
       "2                 Categoría5        710    0.088518         0.794090\n",
       "3                 Categoría8        388    0.048373         0.886559\n",
       "4                Categoría10        311    0.038773         0.960677\n",
       "5                Categoría12        165    0.020571         1.000000\n",
       "6                 Categoría1          0    0.000000         1.000000\n",
       "7                 Categoría2          0    0.000000         1.000000\n",
       "8                 Categoría4          0    0.000000         1.000000\n",
       "9                 Categoría6          0    0.000000         1.000000\n",
       "10                Categoría7          0    0.000000         1.000000\n",
       "11               Categoría11          0    0.000000         1.000000"
      ]
     },
     "execution_count": 61,
     "metadata": {},
     "output_type": "execute_result"
    }
   ],
   "source": [
    "#Obtengo un análisis univariado de una variable categórica en específico  \n",
    "table5 = freq_tbl(Micro_Retailer_1[\"host_total_listings_count\"])\n",
    "table5"
   ]
  },
  {
   "cell_type": "code",
   "execution_count": 62,
   "metadata": {},
   "outputs": [
    {
     "data": {
      "text/html": [
       "<div>\n",
       "<style scoped>\n",
       "    .dataframe tbody tr th:only-of-type {\n",
       "        vertical-align: middle;\n",
       "    }\n",
       "\n",
       "    .dataframe tbody tr th {\n",
       "        vertical-align: top;\n",
       "    }\n",
       "\n",
       "    .dataframe thead th {\n",
       "        text-align: right;\n",
       "    }\n",
       "</style>\n",
       "<table border=\"1\" class=\"dataframe\">\n",
       "  <thead>\n",
       "    <tr style=\"text-align: right;\">\n",
       "      <th></th>\n",
       "      <th>host_total_listings_count</th>\n",
       "      <th>frequency</th>\n",
       "    </tr>\n",
       "  </thead>\n",
       "  <tbody>\n",
       "    <tr>\n",
       "      <th>0</th>\n",
       "      <td>Categoría3</td>\n",
       "      <td>1601</td>\n",
       "    </tr>\n",
       "    <tr>\n",
       "      <th>1</th>\n",
       "      <td>Categoría9</td>\n",
       "      <td>1021</td>\n",
       "    </tr>\n",
       "    <tr>\n",
       "      <th>2</th>\n",
       "      <td>Categoría5</td>\n",
       "      <td>710</td>\n",
       "    </tr>\n",
       "    <tr>\n",
       "      <th>3</th>\n",
       "      <td>Categoría8</td>\n",
       "      <td>388</td>\n",
       "    </tr>\n",
       "    <tr>\n",
       "      <th>4</th>\n",
       "      <td>Categoría10</td>\n",
       "      <td>311</td>\n",
       "    </tr>\n",
       "    <tr>\n",
       "      <th>5</th>\n",
       "      <td>Categoría12</td>\n",
       "      <td>165</td>\n",
       "    </tr>\n",
       "    <tr>\n",
       "      <th>6</th>\n",
       "      <td>Categoría1</td>\n",
       "      <td>0</td>\n",
       "    </tr>\n",
       "    <tr>\n",
       "      <th>7</th>\n",
       "      <td>Categoría2</td>\n",
       "      <td>0</td>\n",
       "    </tr>\n",
       "    <tr>\n",
       "      <th>8</th>\n",
       "      <td>Categoría4</td>\n",
       "      <td>0</td>\n",
       "    </tr>\n",
       "    <tr>\n",
       "      <th>9</th>\n",
       "      <td>Categoría6</td>\n",
       "      <td>0</td>\n",
       "    </tr>\n",
       "    <tr>\n",
       "      <th>10</th>\n",
       "      <td>Categoría7</td>\n",
       "      <td>0</td>\n",
       "    </tr>\n",
       "    <tr>\n",
       "      <th>11</th>\n",
       "      <td>Categoría11</td>\n",
       "      <td>0</td>\n",
       "    </tr>\n",
       "  </tbody>\n",
       "</table>\n",
       "</div>"
      ],
      "text/plain": [
       "   host_total_listings_count  frequency\n",
       "0                 Categoría3       1601\n",
       "1                 Categoría9       1021\n",
       "2                 Categoría5        710\n",
       "3                 Categoría8        388\n",
       "4                Categoría10        311\n",
       "5                Categoría12        165\n",
       "6                 Categoría1          0\n",
       "7                 Categoría2          0\n",
       "8                 Categoría4          0\n",
       "9                 Categoría6          0\n",
       "10                Categoría7          0\n",
       "11               Categoría11          0"
      ]
     },
     "execution_count": 62,
     "metadata": {},
     "output_type": "execute_result"
    }
   ],
   "source": [
    "#Elimino las columnas \"procentage\" y \"cumulative_perc\" para trabajar con las fecuencias\n",
    "table6 = table5.drop(['percentage', 'cumulative_perc'], axis=1)\n",
    "table6"
   ]
  },
  {
   "cell_type": "code",
   "execution_count": 63,
   "metadata": {},
   "outputs": [
    {
     "data": {
      "text/html": [
       "<div>\n",
       "<style scoped>\n",
       "    .dataframe tbody tr th:only-of-type {\n",
       "        vertical-align: middle;\n",
       "    }\n",
       "\n",
       "    .dataframe tbody tr th {\n",
       "        vertical-align: top;\n",
       "    }\n",
       "\n",
       "    .dataframe thead th {\n",
       "        text-align: right;\n",
       "    }\n",
       "</style>\n",
       "<table border=\"1\" class=\"dataframe\">\n",
       "  <thead>\n",
       "    <tr style=\"text-align: right;\">\n",
       "      <th></th>\n",
       "      <th>host_total_listings_count</th>\n",
       "      <th>frequency</th>\n",
       "    </tr>\n",
       "  </thead>\n",
       "  <tbody>\n",
       "    <tr>\n",
       "      <th>0</th>\n",
       "      <td>Categoría3</td>\n",
       "      <td>1601</td>\n",
       "    </tr>\n",
       "    <tr>\n",
       "      <th>1</th>\n",
       "      <td>Categoría9</td>\n",
       "      <td>1021</td>\n",
       "    </tr>\n",
       "    <tr>\n",
       "      <th>2</th>\n",
       "      <td>Categoría5</td>\n",
       "      <td>710</td>\n",
       "    </tr>\n",
       "    <tr>\n",
       "      <th>3</th>\n",
       "      <td>Categoría8</td>\n",
       "      <td>388</td>\n",
       "    </tr>\n",
       "    <tr>\n",
       "      <th>4</th>\n",
       "      <td>Categoría10</td>\n",
       "      <td>311</td>\n",
       "    </tr>\n",
       "  </tbody>\n",
       "</table>\n",
       "</div>"
      ],
      "text/plain": [
       "  host_total_listings_count  frequency\n",
       "0                Categoría3       1601\n",
       "1                Categoría9       1021\n",
       "2                Categoría5        710\n",
       "3                Categoría8        388\n",
       "4               Categoría10        311"
      ]
     },
     "execution_count": 63,
     "metadata": {},
     "output_type": "execute_result"
    }
   ],
   "source": [
    "filtro3 = table6[table6['frequency'] > 165]\n",
    "filtro3"
   ]
  },
  {
   "cell_type": "code",
   "execution_count": 64,
   "metadata": {},
   "outputs": [
    {
     "data": {
      "text/html": [
       "<div>\n",
       "<style scoped>\n",
       "    .dataframe tbody tr th:only-of-type {\n",
       "        vertical-align: middle;\n",
       "    }\n",
       "\n",
       "    .dataframe tbody tr th {\n",
       "        vertical-align: top;\n",
       "    }\n",
       "\n",
       "    .dataframe thead th {\n",
       "        text-align: right;\n",
       "    }\n",
       "</style>\n",
       "<table border=\"1\" class=\"dataframe\">\n",
       "  <thead>\n",
       "    <tr style=\"text-align: right;\">\n",
       "      <th></th>\n",
       "      <th>frequency</th>\n",
       "    </tr>\n",
       "    <tr>\n",
       "      <th>host_total_listings_count</th>\n",
       "      <th></th>\n",
       "    </tr>\n",
       "  </thead>\n",
       "  <tbody>\n",
       "    <tr>\n",
       "      <th>Categoría3</th>\n",
       "      <td>1601</td>\n",
       "    </tr>\n",
       "    <tr>\n",
       "      <th>Categoría9</th>\n",
       "      <td>1021</td>\n",
       "    </tr>\n",
       "    <tr>\n",
       "      <th>Categoría5</th>\n",
       "      <td>710</td>\n",
       "    </tr>\n",
       "    <tr>\n",
       "      <th>Categoría8</th>\n",
       "      <td>388</td>\n",
       "    </tr>\n",
       "    <tr>\n",
       "      <th>Categoría10</th>\n",
       "      <td>311</td>\n",
       "    </tr>\n",
       "  </tbody>\n",
       "</table>\n",
       "</div>"
      ],
      "text/plain": [
       "                           frequency\n",
       "host_total_listings_count           \n",
       "Categoría3                      1601\n",
       "Categoría9                      1021\n",
       "Categoría5                       710\n",
       "Categoría8                       388\n",
       "Categoría10                      311"
      ]
     },
     "execution_count": 64,
     "metadata": {},
     "output_type": "execute_result"
    }
   ],
   "source": [
    "#Ajusto el indice de mi DataFrame\n",
    "Filtro_index2 = filtro3.set_index(\"host_total_listings_count\")\n",
    "Filtro_index2"
   ]
  },
  {
   "cell_type": "code",
   "execution_count": 65,
   "metadata": {},
   "outputs": [
    {
     "data": {
      "text/plain": [
       "<Axes: ylabel='frequency'>"
      ]
     },
     "execution_count": 65,
     "metadata": {},
     "output_type": "execute_result"
    },
    {
     "data": {
      "image/png": "[encoded data removed]",
      "text/plain": [
       "<Figure size 1000x500 with 1 Axes>"
      ]
     },
     "metadata": {},
     "output_type": "display_data"
    }
   ],
   "source": [
    "#Realizamos grafico de pastel del dataframe filtrado\n",
    "Filtro_index2[\"frequency\"].plot(kind='pie', figsize=(10,5), shadow=True, autopct=\"%0.1f %%\")"
   ]
  },
  {
   "cell_type": "markdown",
   "metadata": {},
   "source": [
    "**Variable 4**"
   ]
  },
  {
   "cell_type": "code",
   "execution_count": 66,
   "metadata": {},
   "outputs": [
    {
     "name": "stdout",
     "output_type": "stream",
     "text": [
      "<class 'pandas.core.series.Series'>\n",
      "RangeIndex: 8021 entries, 0 to 8020\n",
      "Series name: accommodates\n",
      "Non-Null Count  Dtype  \n",
      "--------------  -----  \n",
      "8021 non-null   float64\n",
      "dtypes: float64(1)\n",
      "memory usage: 62.8 KB\n"
     ]
    }
   ],
   "source": [
    "Micro_Retailer_1['accommodates'].info()\n",
    "n = 8021"
   ]
  },
  {
   "cell_type": "code",
   "execution_count": 67,
   "metadata": {},
   "outputs": [
    {
     "data": {
      "text/plain": [
       "[1.0, 7.0]"
      ]
     },
     "execution_count": 67,
     "metadata": {},
     "output_type": "execute_result"
    }
   ],
   "source": [
    "Min = Micro_Retailer_1[\"accommodates\"].min()  \n",
    "Max = Micro_Retailer_1[\"accommodates\"].max()  \n",
    "Limites = [Min,Max]\n",
    "Limites"
   ]
  },
  {
   "cell_type": "code",
   "execution_count": 68,
   "metadata": {},
   "outputs": [
    {
     "data": {
      "text/plain": [
       "6.0"
      ]
     },
     "execution_count": 68,
     "metadata": {},
     "output_type": "execute_result"
    }
   ],
   "source": [
    "#Calcula el rango\n",
    "R = Max - Min\n",
    "R"
   ]
  },
  {
   "cell_type": "code",
   "execution_count": 69,
   "metadata": {},
   "outputs": [
    {
     "data": {
      "text/plain": [
       "13.96203867424906"
      ]
     },
     "execution_count": 69,
     "metadata": {},
     "output_type": "execute_result"
    }
   ],
   "source": [
    "#Calcular el número de Intervalos de Clase (ni). Se aplica la regla de Sturges (Donde “n” el tamaño de la muestra.):\n",
    "ni = 1+3.32*np.log10(n)\n",
    "ni"
   ]
  },
  {
   "cell_type": "code",
   "execution_count": 70,
   "metadata": {},
   "outputs": [
    {
     "data": {
      "text/plain": [
       "0.4297366695499937"
      ]
     },
     "execution_count": 70,
     "metadata": {},
     "output_type": "execute_result"
    }
   ],
   "source": [
    "#Calcular el Ancho del Intervalo ( i )\n",
    "i = R/ni\n",
    "i"
   ]
  },
  {
   "cell_type": "code",
   "execution_count": 71,
   "metadata": {},
   "outputs": [
    {
     "data": {
      "text/plain": [
       "array([1. , 1.5, 2. , 2.5, 3. , 3.5, 4. , 4.5, 5. , 5.5, 6. , 6.5, 7. ])"
      ]
     },
     "execution_count": 71,
     "metadata": {},
     "output_type": "execute_result"
    }
   ],
   "source": [
    "# Ver resultado\n",
    "intervalos = np.linspace(1.0, 7.0, 13) #Número de clases más uno\n",
    "intervalos"
   ]
  },
  {
   "cell_type": "code",
   "execution_count": 72,
   "metadata": {},
   "outputs": [],
   "source": [
    "categorias = [\"Categoría1\", \"Categoría2\", \"Categoría3\", \"Categoría4\",\n",
    "              \"Categoría5\", \"Categoría6\", \"Categoría7\", \"Categoría8\",\n",
    "              \"Categoría9\",\"Categoría10\",\"Categoría11\",\"Categoría12\"]"
   ]
  },
  {
   "cell_type": "code",
   "execution_count": 73,
   "metadata": {},
   "outputs": [
    {
     "data": {
      "text/plain": [
       "0        Categoría2\n",
       "1       Categoría10\n",
       "2        Categoría6\n",
       "3        Categoría2\n",
       "4        Categoría6\n",
       "           ...     \n",
       "8016     Categoría2\n",
       "8017     Categoría6\n",
       "8018     Categoría2\n",
       "8019     Categoría2\n",
       "8020     Categoría2\n",
       "Name: accommodates, Length: 8021, dtype: category\n",
       "Categories (12, object): ['Categoría1' < 'Categoría2' < 'Categoría3' < 'Categoría4' ... 'Categoría9' < 'Categoría10' < 'Categoría11' < 'Categoría12']"
      ]
     },
     "execution_count": 73,
     "metadata": {},
     "output_type": "execute_result"
    }
   ],
   "source": [
    "Micro_Retailer_1[\"accommodates\"] = pd.cut(x = Micro_Retailer_1[\"accommodates\"], bins = intervalos, labels = categorias)\n",
    "Micro_Retailer_1[\"accommodates\"]"
   ]
  },
  {
   "cell_type": "code",
   "execution_count": 77,
   "metadata": {},
   "outputs": [
    {
     "data": {
      "text/html": [
       "<div>\n",
       "<style scoped>\n",
       "    .dataframe tbody tr th:only-of-type {\n",
       "        vertical-align: middle;\n",
       "    }\n",
       "\n",
       "    .dataframe tbody tr th {\n",
       "        vertical-align: top;\n",
       "    }\n",
       "\n",
       "    .dataframe thead th {\n",
       "        text-align: right;\n",
       "    }\n",
       "</style>\n",
       "<table border=\"1\" class=\"dataframe\">\n",
       "  <thead>\n",
       "    <tr style=\"text-align: right;\">\n",
       "      <th></th>\n",
       "      <th>accommodates</th>\n",
       "      <th>frequency</th>\n",
       "      <th>percentage</th>\n",
       "      <th>cumulative_perc</th>\n",
       "    </tr>\n",
       "  </thead>\n",
       "  <tbody>\n",
       "    <tr>\n",
       "      <th>0</th>\n",
       "      <td>Categoría2</td>\n",
       "      <td>3970</td>\n",
       "      <td>0.494951</td>\n",
       "      <td>0.558368</td>\n",
       "    </tr>\n",
       "    <tr>\n",
       "      <th>1</th>\n",
       "      <td>Categoría6</td>\n",
       "      <td>1386</td>\n",
       "      <td>0.172796</td>\n",
       "      <td>0.753305</td>\n",
       "    </tr>\n",
       "    <tr>\n",
       "      <th>2</th>\n",
       "      <td>Categoría4</td>\n",
       "      <td>1123</td>\n",
       "      <td>0.140007</td>\n",
       "      <td>0.911252</td>\n",
       "    </tr>\n",
       "    <tr>\n",
       "      <th>3</th>\n",
       "      <td>Categoría10</td>\n",
       "      <td>289</td>\n",
       "      <td>0.036030</td>\n",
       "      <td>0.951899</td>\n",
       "    </tr>\n",
       "    <tr>\n",
       "      <th>4</th>\n",
       "      <td>Categoría8</td>\n",
       "      <td>285</td>\n",
       "      <td>0.035532</td>\n",
       "      <td>0.991983</td>\n",
       "    </tr>\n",
       "    <tr>\n",
       "      <th>5</th>\n",
       "      <td>Categoría12</td>\n",
       "      <td>57</td>\n",
       "      <td>0.007106</td>\n",
       "      <td>1.000000</td>\n",
       "    </tr>\n",
       "    <tr>\n",
       "      <th>6</th>\n",
       "      <td>Categoría1</td>\n",
       "      <td>0</td>\n",
       "      <td>0.000000</td>\n",
       "      <td>1.000000</td>\n",
       "    </tr>\n",
       "    <tr>\n",
       "      <th>7</th>\n",
       "      <td>Categoría3</td>\n",
       "      <td>0</td>\n",
       "      <td>0.000000</td>\n",
       "      <td>1.000000</td>\n",
       "    </tr>\n",
       "    <tr>\n",
       "      <th>8</th>\n",
       "      <td>Categoría5</td>\n",
       "      <td>0</td>\n",
       "      <td>0.000000</td>\n",
       "      <td>1.000000</td>\n",
       "    </tr>\n",
       "    <tr>\n",
       "      <th>9</th>\n",
       "      <td>Categoría7</td>\n",
       "      <td>0</td>\n",
       "      <td>0.000000</td>\n",
       "      <td>1.000000</td>\n",
       "    </tr>\n",
       "    <tr>\n",
       "      <th>10</th>\n",
       "      <td>Categoría9</td>\n",
       "      <td>0</td>\n",
       "      <td>0.000000</td>\n",
       "      <td>1.000000</td>\n",
       "    </tr>\n",
       "    <tr>\n",
       "      <th>11</th>\n",
       "      <td>Categoría11</td>\n",
       "      <td>0</td>\n",
       "      <td>0.000000</td>\n",
       "      <td>1.000000</td>\n",
       "    </tr>\n",
       "  </tbody>\n",
       "</table>\n",
       "</div>"
      ],
      "text/plain": [
       "   accommodates  frequency  percentage  cumulative_perc\n",
       "0    Categoría2       3970    0.494951         0.558368\n",
       "1    Categoría6       1386    0.172796         0.753305\n",
       "2    Categoría4       1123    0.140007         0.911252\n",
       "3   Categoría10        289    0.036030         0.951899\n",
       "4    Categoría8        285    0.035532         0.991983\n",
       "5   Categoría12         57    0.007106         1.000000\n",
       "6    Categoría1          0    0.000000         1.000000\n",
       "7    Categoría3          0    0.000000         1.000000\n",
       "8    Categoría5          0    0.000000         1.000000\n",
       "9    Categoría7          0    0.000000         1.000000\n",
       "10   Categoría9          0    0.000000         1.000000\n",
       "11  Categoría11          0    0.000000         1.000000"
      ]
     },
     "execution_count": 77,
     "metadata": {},
     "output_type": "execute_result"
    }
   ],
   "source": [
    "#Obtengo un análisis univariado de una variable categórica en específico  \n",
    "table7 = freq_tbl(Micro_Retailer_1[\"accommodates\"])\n",
    "table7"
   ]
  },
  {
   "cell_type": "code",
   "execution_count": 79,
   "metadata": {},
   "outputs": [
    {
     "data": {
      "text/html": [
       "<div>\n",
       "<style scoped>\n",
       "    .dataframe tbody tr th:only-of-type {\n",
       "        vertical-align: middle;\n",
       "    }\n",
       "\n",
       "    .dataframe tbody tr th {\n",
       "        vertical-align: top;\n",
       "    }\n",
       "\n",
       "    .dataframe thead th {\n",
       "        text-align: right;\n",
       "    }\n",
       "</style>\n",
       "<table border=\"1\" class=\"dataframe\">\n",
       "  <thead>\n",
       "    <tr style=\"text-align: right;\">\n",
       "      <th></th>\n",
       "      <th>accommodates</th>\n",
       "      <th>frequency</th>\n",
       "    </tr>\n",
       "  </thead>\n",
       "  <tbody>\n",
       "    <tr>\n",
       "      <th>0</th>\n",
       "      <td>Categoría2</td>\n",
       "      <td>3970</td>\n",
       "    </tr>\n",
       "    <tr>\n",
       "      <th>1</th>\n",
       "      <td>Categoría6</td>\n",
       "      <td>1386</td>\n",
       "    </tr>\n",
       "    <tr>\n",
       "      <th>2</th>\n",
       "      <td>Categoría4</td>\n",
       "      <td>1123</td>\n",
       "    </tr>\n",
       "    <tr>\n",
       "      <th>3</th>\n",
       "      <td>Categoría10</td>\n",
       "      <td>289</td>\n",
       "    </tr>\n",
       "    <tr>\n",
       "      <th>4</th>\n",
       "      <td>Categoría8</td>\n",
       "      <td>285</td>\n",
       "    </tr>\n",
       "    <tr>\n",
       "      <th>5</th>\n",
       "      <td>Categoría12</td>\n",
       "      <td>57</td>\n",
       "    </tr>\n",
       "    <tr>\n",
       "      <th>6</th>\n",
       "      <td>Categoría1</td>\n",
       "      <td>0</td>\n",
       "    </tr>\n",
       "    <tr>\n",
       "      <th>7</th>\n",
       "      <td>Categoría3</td>\n",
       "      <td>0</td>\n",
       "    </tr>\n",
       "    <tr>\n",
       "      <th>8</th>\n",
       "      <td>Categoría5</td>\n",
       "      <td>0</td>\n",
       "    </tr>\n",
       "    <tr>\n",
       "      <th>9</th>\n",
       "      <td>Categoría7</td>\n",
       "      <td>0</td>\n",
       "    </tr>\n",
       "    <tr>\n",
       "      <th>10</th>\n",
       "      <td>Categoría9</td>\n",
       "      <td>0</td>\n",
       "    </tr>\n",
       "    <tr>\n",
       "      <th>11</th>\n",
       "      <td>Categoría11</td>\n",
       "      <td>0</td>\n",
       "    </tr>\n",
       "  </tbody>\n",
       "</table>\n",
       "</div>"
      ],
      "text/plain": [
       "   accommodates  frequency\n",
       "0    Categoría2       3970\n",
       "1    Categoría6       1386\n",
       "2    Categoría4       1123\n",
       "3   Categoría10        289\n",
       "4    Categoría8        285\n",
       "5   Categoría12         57\n",
       "6    Categoría1          0\n",
       "7    Categoría3          0\n",
       "8    Categoría5          0\n",
       "9    Categoría7          0\n",
       "10   Categoría9          0\n",
       "11  Categoría11          0"
      ]
     },
     "execution_count": 79,
     "metadata": {},
     "output_type": "execute_result"
    }
   ],
   "source": [
    "#Elimino las columnas \"procentage\" y \"cumulative_perc\" para trabajar con las fecuencias\n",
    "table8 = table7.drop(['percentage', 'cumulative_perc'], axis=1)\n",
    "table8"
   ]
  },
  {
   "cell_type": "code",
   "execution_count": 80,
   "metadata": {},
   "outputs": [
    {
     "data": {
      "text/html": [
       "<div>\n",
       "<style scoped>\n",
       "    .dataframe tbody tr th:only-of-type {\n",
       "        vertical-align: middle;\n",
       "    }\n",
       "\n",
       "    .dataframe tbody tr th {\n",
       "        vertical-align: top;\n",
       "    }\n",
       "\n",
       "    .dataframe thead th {\n",
       "        text-align: right;\n",
       "    }\n",
       "</style>\n",
       "<table border=\"1\" class=\"dataframe\">\n",
       "  <thead>\n",
       "    <tr style=\"text-align: right;\">\n",
       "      <th></th>\n",
       "      <th>accommodates</th>\n",
       "      <th>frequency</th>\n",
       "    </tr>\n",
       "  </thead>\n",
       "  <tbody>\n",
       "    <tr>\n",
       "      <th>0</th>\n",
       "      <td>Categoría2</td>\n",
       "      <td>3970</td>\n",
       "    </tr>\n",
       "    <tr>\n",
       "      <th>1</th>\n",
       "      <td>Categoría6</td>\n",
       "      <td>1386</td>\n",
       "    </tr>\n",
       "    <tr>\n",
       "      <th>2</th>\n",
       "      <td>Categoría4</td>\n",
       "      <td>1123</td>\n",
       "    </tr>\n",
       "    <tr>\n",
       "      <th>3</th>\n",
       "      <td>Categoría10</td>\n",
       "      <td>289</td>\n",
       "    </tr>\n",
       "    <tr>\n",
       "      <th>4</th>\n",
       "      <td>Categoría8</td>\n",
       "      <td>285</td>\n",
       "    </tr>\n",
       "  </tbody>\n",
       "</table>\n",
       "</div>"
      ],
      "text/plain": [
       "  accommodates  frequency\n",
       "0   Categoría2       3970\n",
       "1   Categoría6       1386\n",
       "2   Categoría4       1123\n",
       "3  Categoría10        289\n",
       "4   Categoría8        285"
      ]
     },
     "execution_count": 80,
     "metadata": {},
     "output_type": "execute_result"
    }
   ],
   "source": [
    "filtro4 = table8[table8['frequency'] > 100]\n",
    "filtro4"
   ]
  },
  {
   "cell_type": "code",
   "execution_count": 81,
   "metadata": {},
   "outputs": [
    {
     "data": {
      "text/html": [
       "<div>\n",
       "<style scoped>\n",
       "    .dataframe tbody tr th:only-of-type {\n",
       "        vertical-align: middle;\n",
       "    }\n",
       "\n",
       "    .dataframe tbody tr th {\n",
       "        vertical-align: top;\n",
       "    }\n",
       "\n",
       "    .dataframe thead th {\n",
       "        text-align: right;\n",
       "    }\n",
       "</style>\n",
       "<table border=\"1\" class=\"dataframe\">\n",
       "  <thead>\n",
       "    <tr style=\"text-align: right;\">\n",
       "      <th></th>\n",
       "      <th>frequency</th>\n",
       "    </tr>\n",
       "    <tr>\n",
       "      <th>accommodates</th>\n",
       "      <th></th>\n",
       "    </tr>\n",
       "  </thead>\n",
       "  <tbody>\n",
       "    <tr>\n",
       "      <th>Categoría2</th>\n",
       "      <td>3970</td>\n",
       "    </tr>\n",
       "    <tr>\n",
       "      <th>Categoría6</th>\n",
       "      <td>1386</td>\n",
       "    </tr>\n",
       "    <tr>\n",
       "      <th>Categoría4</th>\n",
       "      <td>1123</td>\n",
       "    </tr>\n",
       "    <tr>\n",
       "      <th>Categoría10</th>\n",
       "      <td>289</td>\n",
       "    </tr>\n",
       "    <tr>\n",
       "      <th>Categoría8</th>\n",
       "      <td>285</td>\n",
       "    </tr>\n",
       "  </tbody>\n",
       "</table>\n",
       "</div>"
      ],
      "text/plain": [
       "              frequency\n",
       "accommodates           \n",
       "Categoría2         3970\n",
       "Categoría6         1386\n",
       "Categoría4         1123\n",
       "Categoría10         289\n",
       "Categoría8          285"
      ]
     },
     "execution_count": 81,
     "metadata": {},
     "output_type": "execute_result"
    }
   ],
   "source": [
    "#Ajusto el indice de mi DataFrame\n",
    "Filtro_index3 = filtro4.set_index(\"accommodates\")\n",
    "Filtro_index3"
   ]
  },
  {
   "cell_type": "code",
   "execution_count": 83,
   "metadata": {},
   "outputs": [
    {
     "data": {
      "text/plain": [
       "<Axes: xlabel='accommodates'>"
      ]
     },
     "execution_count": 83,
     "metadata": {},
     "output_type": "execute_result"
    },
    {
     "data": {
      "image/png": "[encoded data removed]",
      "text/plain": [
       "<Figure size 1000x400 with 1 Axes>"
      ]
     },
     "metadata": {},
     "output_type": "display_data"
    }
   ],
   "source": [
    "#Realizamos grafico de área del dataframe filtrado\n",
    "Filtro_index3.plot(kind='area', figsize=(10,4), alpha = 0.5)"
   ]
  },
  {
   "cell_type": "code",
   "execution_count": null,
   "metadata": {},
   "outputs": [],
   "source": [
    "# # Convertir a numérico (eliminar NaN y errores)\n",
    "# Micro_Retailer_1[\"bathrooms_text\"] = pd.to_numeric(Micro_Retailer_1[\"bathrooms_text\"], errors=\"coerce\")\n",
    "# Micro_Retailer_1.head(2)\n",
    "# Extraer número de baños de bathrooms_text\n",
    "# Micro_Retailer[\"bathrooms_text\"] = Micro_Retailer[\"bathrooms_text\"].str.extract(\"(\\d+\\.?\\d*)\").astype(float)"
   ]
  },
  {
   "cell_type": "code",
   "execution_count": 312,
   "metadata": {},
   "outputs": [
    {
     "name": "stdout",
     "output_type": "stream",
     "text": [
      "<class 'pandas.core.series.Series'>\n",
      "RangeIndex: 8021 entries, 0 to 8020\n",
      "Series name: bathrooms_text\n",
      "Non-Null Count  Dtype  \n",
      "--------------  -----  \n",
      "0 non-null      float64\n",
      "dtypes: float64(1)\n",
      "memory usage: 62.8 KB\n"
     ]
    },
    {
     "name": "stderr",
     "output_type": "stream",
     "text": [
      "<>:2: SyntaxWarning: invalid escape sequence '\\d'\n",
      "<>:2: SyntaxWarning: invalid escape sequence '\\d'\n",
      "C:\\Users\\ramos\\AppData\\Local\\Temp\\ipykernel_9832\\3848644113.py:2: SyntaxWarning: invalid escape sequence '\\d'\n",
      "  Micro_Retailer_1[\"bathrooms_text\"] = Micro_Retailer_1[\"bathrooms_text\"].str.extract(\"(\\d+\\.?\\d*)\").astype(float)\n"
     ]
    }
   ],
   "source": [
    "# Extraer número de baños de bathrooms_text\n",
    "Micro_Retailer_1[\"bathrooms_text\"] = Micro_Retailer_1[\"bathrooms_text\"].str.extract(\"(\\d+\\.?\\d*)\").astype(float)\n",
    "Micro_Retailer_1['bathrooms_text'].info()\n",
    "n = 8021\n"
   ]
  },
  {
   "cell_type": "code",
   "execution_count": 313,
   "metadata": {},
   "outputs": [
    {
     "data": {
      "text/plain": [
       "['Categoría1', 'Categoría12']"
      ]
     },
     "execution_count": 313,
     "metadata": {},
     "output_type": "execute_result"
    }
   ],
   "source": [
    "Min = Micro_Retailer[\"bathrooms_text\"].min()  \n",
    "Max = Micro_Retailer[\"bathrooms_text\"].max()  \n",
    "Limites = [Min,Max]\n",
    "Limites"
   ]
  },
  {
   "cell_type": "code",
   "execution_count": 314,
   "metadata": {},
   "outputs": [
    {
     "ename": "TypeError",
     "evalue": "unsupported operand type(s) for -: 'str' and 'str'",
     "output_type": "error",
     "traceback": [
      "\u001b[1;31m---------------------------------------------------------------------------\u001b[0m",
      "\u001b[1;31mTypeError\u001b[0m                                 Traceback (most recent call last)",
      "Cell \u001b[1;32mIn[314], line 1\u001b[0m\n\u001b[1;32m----> 1\u001b[0m R \u001b[38;5;241m=\u001b[39m \u001b[43mMax\u001b[49m\u001b[43m \u001b[49m\u001b[38;5;241;43m-\u001b[39;49m\u001b[43m \u001b[49m\u001b[43mMin\u001b[49m\n\u001b[0;32m      2\u001b[0m R\n",
      "\u001b[1;31mTypeError\u001b[0m: unsupported operand type(s) for -: 'str' and 'str'"
     ]
    }
   ],
   "source": [
    "R = Max - Min\n",
    "R"
   ]
  },
  {
   "cell_type": "code",
   "execution_count": 138,
   "metadata": {},
   "outputs": [
    {
     "data": {
      "text/plain": [
       "13.96203867424906"
      ]
     },
     "execution_count": 138,
     "metadata": {},
     "output_type": "execute_result"
    }
   ],
   "source": [
    "#Calcular el número de Intervalos de Clase (ni). Se aplica la regla de Sturges (Donde “n” el tamaño de la muestra.):\n",
    "ni = 1+3.32*np.log10(n)\n",
    "ni"
   ]
  },
  {
   "cell_type": "code",
   "execution_count": 139,
   "metadata": {},
   "outputs": [
    {
     "data": {
      "text/plain": [
       "1.9338150129749716"
      ]
     },
     "execution_count": 139,
     "metadata": {},
     "output_type": "execute_result"
    }
   ],
   "source": [
    "#Calcular el Ancho del Intervalo ( i )\n",
    "i = R/ni\n",
    "i"
   ]
  },
  {
   "cell_type": "code",
   "execution_count": 140,
   "metadata": {},
   "outputs": [
    {
     "data": {
      "text/plain": [
       "array([ 0.  ,  2.25,  4.5 ,  6.75,  9.  , 11.25, 13.5 , 15.75, 18.  ,\n",
       "       20.25, 22.5 , 24.75, 27.  ])"
      ]
     },
     "execution_count": 140,
     "metadata": {},
     "output_type": "execute_result"
    }
   ],
   "source": [
    "# Ver resultado\n",
    "intervalos = np.linspace(0.0, 27.0, 13) #Número de clases más uno\n",
    "intervalos"
   ]
  },
  {
   "cell_type": "code",
   "execution_count": 141,
   "metadata": {},
   "outputs": [],
   "source": [
    "categorias = [\"Categoría1\", \"Categoría2\", \"Categoría3\", \"Categoría4\",\n",
    "              \"Categoría5\", \"Categoría6\", \"Categoría7\", \"Categoría8\",\n",
    "              \"Categoría9\",\"Categoría10\",\"Categoría11\",\"Categoría12\"]"
   ]
  },
  {
   "cell_type": "code",
   "execution_count": 142,
   "metadata": {},
   "outputs": [
    {
     "data": {
      "text/plain": [
       "0       Categoría1\n",
       "1       Categoría1\n",
       "2       Categoría1\n",
       "3       Categoría1\n",
       "4       Categoría1\n",
       "           ...    \n",
       "8016    Categoría1\n",
       "8017    Categoría1\n",
       "8018    Categoría1\n",
       "8019    Categoría1\n",
       "8020    Categoría1\n",
       "Name: bathrooms_text, Length: 8021, dtype: category\n",
       "Categories (12, object): ['Categoría1' < 'Categoría2' < 'Categoría3' < 'Categoría4' ... 'Categoría9' < 'Categoría10' < 'Categoría11' < 'Categoría12']"
      ]
     },
     "execution_count": 142,
     "metadata": {},
     "output_type": "execute_result"
    }
   ],
   "source": [
    "Micro_Retailer[\"bathrooms_text\"] = pd.cut(x = Micro_Retailer[\"bathrooms_text\"], bins = intervalos, labels = categorias)\n",
    "Micro_Retailer[\"bathrooms_text\"]"
   ]
  },
  {
   "cell_type": "code",
   "execution_count": 144,
   "metadata": {},
   "outputs": [
    {
     "data": {
      "text/html": [
       "<div>\n",
       "<style scoped>\n",
       "    .dataframe tbody tr th:only-of-type {\n",
       "        vertical-align: middle;\n",
       "    }\n",
       "\n",
       "    .dataframe tbody tr th {\n",
       "        vertical-align: top;\n",
       "    }\n",
       "\n",
       "    .dataframe thead th {\n",
       "        text-align: right;\n",
       "    }\n",
       "</style>\n",
       "<table border=\"1\" class=\"dataframe\">\n",
       "  <thead>\n",
       "    <tr style=\"text-align: right;\">\n",
       "      <th></th>\n",
       "      <th>bathrooms_text</th>\n",
       "      <th>frequency</th>\n",
       "      <th>percentage</th>\n",
       "      <th>cumulative_perc</th>\n",
       "    </tr>\n",
       "  </thead>\n",
       "  <tbody>\n",
       "    <tr>\n",
       "      <th>0</th>\n",
       "      <td>Categoría1</td>\n",
       "      <td>0</td>\n",
       "      <td>0.0</td>\n",
       "      <td>NaN</td>\n",
       "    </tr>\n",
       "    <tr>\n",
       "      <th>1</th>\n",
       "      <td>Categoría2</td>\n",
       "      <td>0</td>\n",
       "      <td>0.0</td>\n",
       "      <td>NaN</td>\n",
       "    </tr>\n",
       "    <tr>\n",
       "      <th>2</th>\n",
       "      <td>Categoría3</td>\n",
       "      <td>0</td>\n",
       "      <td>0.0</td>\n",
       "      <td>NaN</td>\n",
       "    </tr>\n",
       "    <tr>\n",
       "      <th>3</th>\n",
       "      <td>Categoría4</td>\n",
       "      <td>0</td>\n",
       "      <td>0.0</td>\n",
       "      <td>NaN</td>\n",
       "    </tr>\n",
       "    <tr>\n",
       "      <th>4</th>\n",
       "      <td>Categoría5</td>\n",
       "      <td>0</td>\n",
       "      <td>0.0</td>\n",
       "      <td>NaN</td>\n",
       "    </tr>\n",
       "    <tr>\n",
       "      <th>5</th>\n",
       "      <td>Categoría6</td>\n",
       "      <td>0</td>\n",
       "      <td>0.0</td>\n",
       "      <td>NaN</td>\n",
       "    </tr>\n",
       "    <tr>\n",
       "      <th>6</th>\n",
       "      <td>Categoría7</td>\n",
       "      <td>0</td>\n",
       "      <td>0.0</td>\n",
       "      <td>NaN</td>\n",
       "    </tr>\n",
       "    <tr>\n",
       "      <th>7</th>\n",
       "      <td>Categoría8</td>\n",
       "      <td>0</td>\n",
       "      <td>0.0</td>\n",
       "      <td>NaN</td>\n",
       "    </tr>\n",
       "    <tr>\n",
       "      <th>8</th>\n",
       "      <td>Categoría9</td>\n",
       "      <td>0</td>\n",
       "      <td>0.0</td>\n",
       "      <td>NaN</td>\n",
       "    </tr>\n",
       "    <tr>\n",
       "      <th>9</th>\n",
       "      <td>Categoría10</td>\n",
       "      <td>0</td>\n",
       "      <td>0.0</td>\n",
       "      <td>NaN</td>\n",
       "    </tr>\n",
       "    <tr>\n",
       "      <th>10</th>\n",
       "      <td>Categoría11</td>\n",
       "      <td>0</td>\n",
       "      <td>0.0</td>\n",
       "      <td>NaN</td>\n",
       "    </tr>\n",
       "    <tr>\n",
       "      <th>11</th>\n",
       "      <td>Categoría12</td>\n",
       "      <td>0</td>\n",
       "      <td>0.0</td>\n",
       "      <td>NaN</td>\n",
       "    </tr>\n",
       "  </tbody>\n",
       "</table>\n",
       "</div>"
      ],
      "text/plain": [
       "   bathrooms_text  frequency  percentage  cumulative_perc\n",
       "0      Categoría1          0         0.0              NaN\n",
       "1      Categoría2          0         0.0              NaN\n",
       "2      Categoría3          0         0.0              NaN\n",
       "3      Categoría4          0         0.0              NaN\n",
       "4      Categoría5          0         0.0              NaN\n",
       "5      Categoría6          0         0.0              NaN\n",
       "6      Categoría7          0         0.0              NaN\n",
       "7      Categoría8          0         0.0              NaN\n",
       "8      Categoría9          0         0.0              NaN\n",
       "9     Categoría10          0         0.0              NaN\n",
       "10    Categoría11          0         0.0              NaN\n",
       "11    Categoría12          0         0.0              NaN"
      ]
     },
     "execution_count": 144,
     "metadata": {},
     "output_type": "execute_result"
    }
   ],
   "source": [
    "#Obtengo un análisis univariado de una variable categórica en específico  \n",
    "table9 = freq_tbl(Micro_Retailer_1[\"bathrooms_text\"])\n",
    "table9"
   ]
  },
  {
   "cell_type": "markdown",
   "metadata": {},
   "source": [
    "**Nosé**"
   ]
  },
  {
   "cell_type": "code",
   "execution_count": 145,
   "metadata": {},
   "outputs": [
    {
     "name": "stdout",
     "output_type": "stream",
     "text": [
      "<class 'pandas.core.series.Series'>\n",
      "RangeIndex: 8021 entries, 0 to 8020\n",
      "Series name: beds\n",
      "Non-Null Count  Dtype  \n",
      "--------------  -----  \n",
      "8021 non-null   float64\n",
      "dtypes: float64(1)\n",
      "memory usage: 62.8 KB\n"
     ]
    }
   ],
   "source": [
    "Micro_Retailer_1['beds'].info()\n",
    "n = 8021"
   ]
  },
  {
   "cell_type": "code",
   "execution_count": 146,
   "metadata": {},
   "outputs": [
    {
     "data": {
      "text/plain": [
       "[0.0, 3.0]"
      ]
     },
     "execution_count": 146,
     "metadata": {},
     "output_type": "execute_result"
    }
   ],
   "source": [
    "Min = Micro_Retailer_1[\"beds\"].min()  \n",
    "Max = Micro_Retailer_1[\"beds\"].max()  \n",
    "Limites = [Min,Max]\n",
    "Limites"
   ]
  },
  {
   "cell_type": "code",
   "execution_count": 147,
   "metadata": {},
   "outputs": [
    {
     "data": {
      "text/plain": [
       "3.0"
      ]
     },
     "execution_count": 147,
     "metadata": {},
     "output_type": "execute_result"
    }
   ],
   "source": [
    "#Calcula el rango\n",
    "R = Max - Min\n",
    "R"
   ]
  },
  {
   "cell_type": "code",
   "execution_count": 148,
   "metadata": {},
   "outputs": [
    {
     "data": {
      "text/plain": [
       "13.96203867424906"
      ]
     },
     "execution_count": 148,
     "metadata": {},
     "output_type": "execute_result"
    }
   ],
   "source": [
    "#Calcular el número de Intervalos de Clase (ni). Se aplica la regla de Sturges (Donde “n” el tamaño de la muestra.):\n",
    "ni = 1+3.32*np.log10(n)\n",
    "ni"
   ]
  },
  {
   "cell_type": "code",
   "execution_count": 149,
   "metadata": {},
   "outputs": [
    {
     "data": {
      "text/plain": [
       "0.21486833477499684"
      ]
     },
     "execution_count": 149,
     "metadata": {},
     "output_type": "execute_result"
    }
   ],
   "source": [
    "#Calcular el Ancho del Intervalo ( i )\n",
    "i = R/ni\n",
    "i"
   ]
  },
  {
   "cell_type": "code",
   "execution_count": 150,
   "metadata": {},
   "outputs": [
    {
     "data": {
      "text/plain": [
       "array([0.  , 0.25, 0.5 , 0.75, 1.  , 1.25, 1.5 , 1.75, 2.  , 2.25, 2.5 ,\n",
       "       2.75, 3.  ])"
      ]
     },
     "execution_count": 150,
     "metadata": {},
     "output_type": "execute_result"
    }
   ],
   "source": [
    "# Ver resultado\n",
    "intervalos = np.linspace(0.0, 3.0, 13) #Número de clases más uno\n",
    "intervalos"
   ]
  },
  {
   "cell_type": "code",
   "execution_count": 151,
   "metadata": {},
   "outputs": [],
   "source": [
    "categorias = [\"Categoría1\", \"Categoría2\", \"Categoría3\", \"Categoría4\",\n",
    "              \"Categoría5\", \"Categoría6\", \"Categoría7\", \"Categoría8\",\n",
    "              \"Categoría9\",\"Categoría10\",\"Categoría11\",\"Categoría12\"]"
   ]
  },
  {
   "cell_type": "code",
   "execution_count": 152,
   "metadata": {},
   "outputs": [
    {
     "data": {
      "text/plain": [
       "0       Categoría4\n",
       "1       Categoría4\n",
       "2       Categoría7\n",
       "3       Categoría4\n",
       "4       Categoría8\n",
       "           ...    \n",
       "8016    Categoría4\n",
       "8017    Categoría6\n",
       "8018    Categoría4\n",
       "8019    Categoría4\n",
       "8020    Categoría4\n",
       "Name: beds, Length: 8021, dtype: category\n",
       "Categories (12, object): ['Categoría1' < 'Categoría2' < 'Categoría3' < 'Categoría4' ... 'Categoría9' < 'Categoría10' < 'Categoría11' < 'Categoría12']"
      ]
     },
     "execution_count": 152,
     "metadata": {},
     "output_type": "execute_result"
    }
   ],
   "source": [
    "Micro_Retailer_1[\"beds\"] = pd.cut(x = Micro_Retailer_1[\"beds\"], bins = intervalos, labels = categorias)\n",
    "Micro_Retailer_1[\"beds\"]"
   ]
  },
  {
   "cell_type": "code",
   "execution_count": 153,
   "metadata": {},
   "outputs": [
    {
     "data": {
      "text/html": [
       "<div>\n",
       "<style scoped>\n",
       "    .dataframe tbody tr th:only-of-type {\n",
       "        vertical-align: middle;\n",
       "    }\n",
       "\n",
       "    .dataframe tbody tr th {\n",
       "        vertical-align: top;\n",
       "    }\n",
       "\n",
       "    .dataframe thead th {\n",
       "        text-align: right;\n",
       "    }\n",
       "</style>\n",
       "<table border=\"1\" class=\"dataframe\">\n",
       "  <thead>\n",
       "    <tr style=\"text-align: right;\">\n",
       "      <th></th>\n",
       "      <th>beds</th>\n",
       "      <th>frequency</th>\n",
       "      <th>percentage</th>\n",
       "      <th>cumulative_perc</th>\n",
       "    </tr>\n",
       "  </thead>\n",
       "  <tbody>\n",
       "    <tr>\n",
       "      <th>0</th>\n",
       "      <td>Categoría4</td>\n",
       "      <td>3466</td>\n",
       "      <td>0.432116</td>\n",
       "      <td>0.440575</td>\n",
       "    </tr>\n",
       "    <tr>\n",
       "      <th>1</th>\n",
       "      <td>Categoría7</td>\n",
       "      <td>2201</td>\n",
       "      <td>0.274405</td>\n",
       "      <td>0.720351</td>\n",
       "    </tr>\n",
       "    <tr>\n",
       "      <th>2</th>\n",
       "      <td>Categoría8</td>\n",
       "      <td>1412</td>\n",
       "      <td>0.176038</td>\n",
       "      <td>0.899835</td>\n",
       "    </tr>\n",
       "    <tr>\n",
       "      <th>3</th>\n",
       "      <td>Categoría12</td>\n",
       "      <td>412</td>\n",
       "      <td>0.051365</td>\n",
       "      <td>0.952205</td>\n",
       "    </tr>\n",
       "    <tr>\n",
       "      <th>4</th>\n",
       "      <td>Categoría6</td>\n",
       "      <td>376</td>\n",
       "      <td>0.046877</td>\n",
       "      <td>1.000000</td>\n",
       "    </tr>\n",
       "    <tr>\n",
       "      <th>5</th>\n",
       "      <td>Categoría1</td>\n",
       "      <td>0</td>\n",
       "      <td>0.000000</td>\n",
       "      <td>1.000000</td>\n",
       "    </tr>\n",
       "    <tr>\n",
       "      <th>6</th>\n",
       "      <td>Categoría2</td>\n",
       "      <td>0</td>\n",
       "      <td>0.000000</td>\n",
       "      <td>1.000000</td>\n",
       "    </tr>\n",
       "    <tr>\n",
       "      <th>7</th>\n",
       "      <td>Categoría3</td>\n",
       "      <td>0</td>\n",
       "      <td>0.000000</td>\n",
       "      <td>1.000000</td>\n",
       "    </tr>\n",
       "    <tr>\n",
       "      <th>8</th>\n",
       "      <td>Categoría5</td>\n",
       "      <td>0</td>\n",
       "      <td>0.000000</td>\n",
       "      <td>1.000000</td>\n",
       "    </tr>\n",
       "    <tr>\n",
       "      <th>9</th>\n",
       "      <td>Categoría9</td>\n",
       "      <td>0</td>\n",
       "      <td>0.000000</td>\n",
       "      <td>1.000000</td>\n",
       "    </tr>\n",
       "    <tr>\n",
       "      <th>10</th>\n",
       "      <td>Categoría10</td>\n",
       "      <td>0</td>\n",
       "      <td>0.000000</td>\n",
       "      <td>1.000000</td>\n",
       "    </tr>\n",
       "    <tr>\n",
       "      <th>11</th>\n",
       "      <td>Categoría11</td>\n",
       "      <td>0</td>\n",
       "      <td>0.000000</td>\n",
       "      <td>1.000000</td>\n",
       "    </tr>\n",
       "  </tbody>\n",
       "</table>\n",
       "</div>"
      ],
      "text/plain": [
       "           beds  frequency  percentage  cumulative_perc\n",
       "0    Categoría4       3466    0.432116         0.440575\n",
       "1    Categoría7       2201    0.274405         0.720351\n",
       "2    Categoría8       1412    0.176038         0.899835\n",
       "3   Categoría12        412    0.051365         0.952205\n",
       "4    Categoría6        376    0.046877         1.000000\n",
       "5    Categoría1          0    0.000000         1.000000\n",
       "6    Categoría2          0    0.000000         1.000000\n",
       "7    Categoría3          0    0.000000         1.000000\n",
       "8    Categoría5          0    0.000000         1.000000\n",
       "9    Categoría9          0    0.000000         1.000000\n",
       "10  Categoría10          0    0.000000         1.000000\n",
       "11  Categoría11          0    0.000000         1.000000"
      ]
     },
     "execution_count": 153,
     "metadata": {},
     "output_type": "execute_result"
    }
   ],
   "source": [
    "#Obtengo un análisis univariado de una variable categórica en específico  \n",
    "table11 = freq_tbl(Micro_Retailer_1[\"beds\"])\n",
    "table11"
   ]
  },
  {
   "cell_type": "code",
   "execution_count": 154,
   "metadata": {},
   "outputs": [
    {
     "data": {
      "text/html": [
       "<div>\n",
       "<style scoped>\n",
       "    .dataframe tbody tr th:only-of-type {\n",
       "        vertical-align: middle;\n",
       "    }\n",
       "\n",
       "    .dataframe tbody tr th {\n",
       "        vertical-align: top;\n",
       "    }\n",
       "\n",
       "    .dataframe thead th {\n",
       "        text-align: right;\n",
       "    }\n",
       "</style>\n",
       "<table border=\"1\" class=\"dataframe\">\n",
       "  <thead>\n",
       "    <tr style=\"text-align: right;\">\n",
       "      <th></th>\n",
       "      <th>beds</th>\n",
       "      <th>frequency</th>\n",
       "    </tr>\n",
       "  </thead>\n",
       "  <tbody>\n",
       "    <tr>\n",
       "      <th>0</th>\n",
       "      <td>Categoría4</td>\n",
       "      <td>3466</td>\n",
       "    </tr>\n",
       "    <tr>\n",
       "      <th>1</th>\n",
       "      <td>Categoría7</td>\n",
       "      <td>2201</td>\n",
       "    </tr>\n",
       "    <tr>\n",
       "      <th>2</th>\n",
       "      <td>Categoría8</td>\n",
       "      <td>1412</td>\n",
       "    </tr>\n",
       "    <tr>\n",
       "      <th>3</th>\n",
       "      <td>Categoría12</td>\n",
       "      <td>412</td>\n",
       "    </tr>\n",
       "    <tr>\n",
       "      <th>4</th>\n",
       "      <td>Categoría6</td>\n",
       "      <td>376</td>\n",
       "    </tr>\n",
       "    <tr>\n",
       "      <th>5</th>\n",
       "      <td>Categoría1</td>\n",
       "      <td>0</td>\n",
       "    </tr>\n",
       "    <tr>\n",
       "      <th>6</th>\n",
       "      <td>Categoría2</td>\n",
       "      <td>0</td>\n",
       "    </tr>\n",
       "    <tr>\n",
       "      <th>7</th>\n",
       "      <td>Categoría3</td>\n",
       "      <td>0</td>\n",
       "    </tr>\n",
       "    <tr>\n",
       "      <th>8</th>\n",
       "      <td>Categoría5</td>\n",
       "      <td>0</td>\n",
       "    </tr>\n",
       "    <tr>\n",
       "      <th>9</th>\n",
       "      <td>Categoría9</td>\n",
       "      <td>0</td>\n",
       "    </tr>\n",
       "    <tr>\n",
       "      <th>10</th>\n",
       "      <td>Categoría10</td>\n",
       "      <td>0</td>\n",
       "    </tr>\n",
       "    <tr>\n",
       "      <th>11</th>\n",
       "      <td>Categoría11</td>\n",
       "      <td>0</td>\n",
       "    </tr>\n",
       "  </tbody>\n",
       "</table>\n",
       "</div>"
      ],
      "text/plain": [
       "           beds  frequency\n",
       "0    Categoría4       3466\n",
       "1    Categoría7       2201\n",
       "2    Categoría8       1412\n",
       "3   Categoría12        412\n",
       "4    Categoría6        376\n",
       "5    Categoría1          0\n",
       "6    Categoría2          0\n",
       "7    Categoría3          0\n",
       "8    Categoría5          0\n",
       "9    Categoría9          0\n",
       "10  Categoría10          0\n",
       "11  Categoría11          0"
      ]
     },
     "execution_count": 154,
     "metadata": {},
     "output_type": "execute_result"
    }
   ],
   "source": [
    "#Elimino las columnas \"procentage\" y \"cumulative_perc\" para trabajar con las fecuencias\n",
    "table12 = table11.drop(['percentage', 'cumulative_perc'], axis=1)\n",
    "table12"
   ]
  },
  {
   "cell_type": "code",
   "execution_count": 156,
   "metadata": {},
   "outputs": [
    {
     "data": {
      "text/html": [
       "<div>\n",
       "<style scoped>\n",
       "    .dataframe tbody tr th:only-of-type {\n",
       "        vertical-align: middle;\n",
       "    }\n",
       "\n",
       "    .dataframe tbody tr th {\n",
       "        vertical-align: top;\n",
       "    }\n",
       "\n",
       "    .dataframe thead th {\n",
       "        text-align: right;\n",
       "    }\n",
       "</style>\n",
       "<table border=\"1\" class=\"dataframe\">\n",
       "  <thead>\n",
       "    <tr style=\"text-align: right;\">\n",
       "      <th></th>\n",
       "      <th>beds</th>\n",
       "      <th>frequency</th>\n",
       "    </tr>\n",
       "  </thead>\n",
       "  <tbody>\n",
       "    <tr>\n",
       "      <th>0</th>\n",
       "      <td>Categoría4</td>\n",
       "      <td>3466</td>\n",
       "    </tr>\n",
       "    <tr>\n",
       "      <th>1</th>\n",
       "      <td>Categoría7</td>\n",
       "      <td>2201</td>\n",
       "    </tr>\n",
       "    <tr>\n",
       "      <th>2</th>\n",
       "      <td>Categoría8</td>\n",
       "      <td>1412</td>\n",
       "    </tr>\n",
       "    <tr>\n",
       "      <th>3</th>\n",
       "      <td>Categoría12</td>\n",
       "      <td>412</td>\n",
       "    </tr>\n",
       "    <tr>\n",
       "      <th>4</th>\n",
       "      <td>Categoría6</td>\n",
       "      <td>376</td>\n",
       "    </tr>\n",
       "  </tbody>\n",
       "</table>\n",
       "</div>"
      ],
      "text/plain": [
       "          beds  frequency\n",
       "0   Categoría4       3466\n",
       "1   Categoría7       2201\n",
       "2   Categoría8       1412\n",
       "3  Categoría12        412\n",
       "4   Categoría6        376"
      ]
     },
     "execution_count": 156,
     "metadata": {},
     "output_type": "execute_result"
    }
   ],
   "source": [
    "filtro6 = table12[table12['frequency'] > 300]\n",
    "filtro6"
   ]
  },
  {
   "cell_type": "code",
   "execution_count": 157,
   "metadata": {},
   "outputs": [
    {
     "data": {
      "text/html": [
       "<div>\n",
       "<style scoped>\n",
       "    .dataframe tbody tr th:only-of-type {\n",
       "        vertical-align: middle;\n",
       "    }\n",
       "\n",
       "    .dataframe tbody tr th {\n",
       "        vertical-align: top;\n",
       "    }\n",
       "\n",
       "    .dataframe thead th {\n",
       "        text-align: right;\n",
       "    }\n",
       "</style>\n",
       "<table border=\"1\" class=\"dataframe\">\n",
       "  <thead>\n",
       "    <tr style=\"text-align: right;\">\n",
       "      <th></th>\n",
       "      <th>frequency</th>\n",
       "    </tr>\n",
       "    <tr>\n",
       "      <th>beds</th>\n",
       "      <th></th>\n",
       "    </tr>\n",
       "  </thead>\n",
       "  <tbody>\n",
       "    <tr>\n",
       "      <th>Categoría4</th>\n",
       "      <td>3466</td>\n",
       "    </tr>\n",
       "    <tr>\n",
       "      <th>Categoría7</th>\n",
       "      <td>2201</td>\n",
       "    </tr>\n",
       "    <tr>\n",
       "      <th>Categoría8</th>\n",
       "      <td>1412</td>\n",
       "    </tr>\n",
       "    <tr>\n",
       "      <th>Categoría12</th>\n",
       "      <td>412</td>\n",
       "    </tr>\n",
       "    <tr>\n",
       "      <th>Categoría6</th>\n",
       "      <td>376</td>\n",
       "    </tr>\n",
       "  </tbody>\n",
       "</table>\n",
       "</div>"
      ],
      "text/plain": [
       "             frequency\n",
       "beds                  \n",
       "Categoría4        3466\n",
       "Categoría7        2201\n",
       "Categoría8        1412\n",
       "Categoría12        412\n",
       "Categoría6         376"
      ]
     },
     "execution_count": 157,
     "metadata": {},
     "output_type": "execute_result"
    }
   ],
   "source": [
    "#Ajusto el indice de mi DataFrame\n",
    "Filtro_index = filtro6.set_index(\"beds\")\n",
    "Filtro_index"
   ]
  },
  {
   "cell_type": "code",
   "execution_count": 158,
   "metadata": {},
   "outputs": [
    {
     "data": {
      "text/plain": [
       "Text(0, 0.5, 'Frecuencia')"
      ]
     },
     "execution_count": 158,
     "metadata": {},
     "output_type": "execute_result"
    },
    {
     "data": {
      "image/png": "[encoded data removed]",
      "text/plain": [
       "<Figure size 1000x400 with 1 Axes>"
      ]
     },
     "metadata": {},
     "output_type": "display_data"
    }
   ],
   "source": [
    "#Realizamos grafico de barras del Dataframe filtrado\n",
    "Filtro_index.plot(kind = 'bar', width=0.8, figsize=(10,4), color = \"red\")\n",
    "plt.title('Camas')\n",
    "plt.xlabel('Categoria de las camas')\n",
    "plt.ylabel('Frecuencia')"
   ]
  },
  {
   "cell_type": "code",
   "execution_count": 159,
   "metadata": {},
   "outputs": [
    {
     "name": "stderr",
     "output_type": "stream",
     "text": [
      "<>:1: SyntaxWarning: invalid escape sequence '\\$'\n",
      "<>:1: SyntaxWarning: invalid escape sequence '\\$'\n",
      "C:\\Users\\ramos\\AppData\\Local\\Temp\\ipykernel_9832\\1362851435.py:1: SyntaxWarning: invalid escape sequence '\\$'\n",
      "  Micro_Retailer_1[\"price\"] = Micro_Retailer_1[\"price\"].replace('[\\$,]', '', regex=True).astype(float)\n"
     ]
    }
   ],
   "source": [
    "Micro_Retailer_1[\"price\"] = Micro_Retailer_1[\"price\"].replace('[\\$,]', '', regex=True).astype(float)"
   ]
  },
  {
   "cell_type": "code",
   "execution_count": 160,
   "metadata": {},
   "outputs": [
    {
     "name": "stdout",
     "output_type": "stream",
     "text": [
      "<class 'pandas.core.series.Series'>\n",
      "RangeIndex: 8021 entries, 0 to 8020\n",
      "Series name: price\n",
      "Non-Null Count  Dtype  \n",
      "--------------  -----  \n",
      "8021 non-null   float64\n",
      "dtypes: float64(1)\n",
      "memory usage: 62.8 KB\n"
     ]
    }
   ],
   "source": [
    "Micro_Retailer_1['price'].info()\n",
    "n = 8021"
   ]
  },
  {
   "cell_type": "code",
   "execution_count": 161,
   "metadata": {},
   "outputs": [
    {
     "data": {
      "text/plain": [
       "[20.0, 96274.0]"
      ]
     },
     "execution_count": 161,
     "metadata": {},
     "output_type": "execute_result"
    }
   ],
   "source": [
    "Min = Micro_Retailer_1[\"price\"].min()  \n",
    "Max = Micro_Retailer_1[\"price\"].max()  \n",
    "Limites = [Min,Max]\n",
    "Limites"
   ]
  },
  {
   "cell_type": "code",
   "execution_count": 162,
   "metadata": {},
   "outputs": [
    {
     "data": {
      "text/plain": [
       "96254.0"
      ]
     },
     "execution_count": 162,
     "metadata": {},
     "output_type": "execute_result"
    }
   ],
   "source": [
    "#Calcula el rango\n",
    "R = Max - Min\n",
    "R"
   ]
  },
  {
   "cell_type": "code",
   "execution_count": 163,
   "metadata": {},
   "outputs": [
    {
     "data": {
      "text/plain": [
       "13.96203867424906"
      ]
     },
     "execution_count": 163,
     "metadata": {},
     "output_type": "execute_result"
    }
   ],
   "source": [
    "#Calcular el número de Intervalos de Clase (ni). Se aplica la regla de Sturges (Donde “n” el tamaño de la muestra.):\n",
    "ni = 1+3.32*np.log10(n)\n",
    "ni"
   ]
  },
  {
   "cell_type": "code",
   "execution_count": 164,
   "metadata": {},
   "outputs": [
    {
     "data": {
      "text/plain": [
       "6893.978898477515"
      ]
     },
     "execution_count": 164,
     "metadata": {},
     "output_type": "execute_result"
    }
   ],
   "source": [
    "#Calcular el Ancho del Intervalo ( i )\n",
    "i = R/ni\n",
    "i"
   ]
  },
  {
   "cell_type": "code",
   "execution_count": 165,
   "metadata": {},
   "outputs": [
    {
     "data": {
      "text/plain": [
       "array([2.00000000e+01, 8.04116667e+03, 1.60623333e+04, 2.40835000e+04,\n",
       "       3.21046667e+04, 4.01258333e+04, 4.81470000e+04, 5.61681667e+04,\n",
       "       6.41893333e+04, 7.22105000e+04, 8.02316667e+04, 8.82528333e+04,\n",
       "       9.62740000e+04])"
      ]
     },
     "execution_count": 165,
     "metadata": {},
     "output_type": "execute_result"
    }
   ],
   "source": [
    "# Ver resultado\n",
    "intervalos = np.linspace(20.0, 96274.0, 13) #Número de clases más uno\n",
    "intervalos"
   ]
  },
  {
   "cell_type": "code",
   "execution_count": 166,
   "metadata": {},
   "outputs": [],
   "source": [
    "categorias = [\"Categoría1\", \"Categoría2\", \"Categoría3\", \"Categoría4\",\n",
    "              \"Categoría5\", \"Categoría6\", \"Categoría7\", \"Categoría8\",\n",
    "              \"Categoría9\",\"Categoría10\",\"Categoría11\",\"Categoría12\"]"
   ]
  },
  {
   "cell_type": "code",
   "execution_count": 167,
   "metadata": {},
   "outputs": [
    {
     "data": {
      "text/plain": [
       "0       Categoría1\n",
       "1       Categoría1\n",
       "2       Categoría1\n",
       "3       Categoría1\n",
       "4       Categoría1\n",
       "           ...    \n",
       "8016    Categoría1\n",
       "8017    Categoría1\n",
       "8018    Categoría1\n",
       "8019    Categoría1\n",
       "8020    Categoría1\n",
       "Name: price, Length: 8021, dtype: category\n",
       "Categories (12, object): ['Categoría1' < 'Categoría2' < 'Categoría3' < 'Categoría4' ... 'Categoría9' < 'Categoría10' < 'Categoría11' < 'Categoría12']"
      ]
     },
     "execution_count": 167,
     "metadata": {},
     "output_type": "execute_result"
    }
   ],
   "source": [
    "Micro_Retailer_1[\"price\"] = pd.cut(x = Micro_Retailer_1[\"price\"], bins = intervalos, labels = categorias)\n",
    "Micro_Retailer_1[\"price\"]"
   ]
  },
  {
   "cell_type": "code",
   "execution_count": 168,
   "metadata": {},
   "outputs": [
    {
     "data": {
      "text/html": [
       "<div>\n",
       "<style scoped>\n",
       "    .dataframe tbody tr th:only-of-type {\n",
       "        vertical-align: middle;\n",
       "    }\n",
       "\n",
       "    .dataframe tbody tr th {\n",
       "        vertical-align: top;\n",
       "    }\n",
       "\n",
       "    .dataframe thead th {\n",
       "        text-align: right;\n",
       "    }\n",
       "</style>\n",
       "<table border=\"1\" class=\"dataframe\">\n",
       "  <thead>\n",
       "    <tr style=\"text-align: right;\">\n",
       "      <th></th>\n",
       "      <th>price</th>\n",
       "      <th>frequency</th>\n",
       "      <th>percentage</th>\n",
       "      <th>cumulative_perc</th>\n",
       "    </tr>\n",
       "  </thead>\n",
       "  <tbody>\n",
       "    <tr>\n",
       "      <th>0</th>\n",
       "      <td>Categoría1</td>\n",
       "      <td>8014</td>\n",
       "      <td>0.999127</td>\n",
       "      <td>0.999376</td>\n",
       "    </tr>\n",
       "    <tr>\n",
       "      <th>1</th>\n",
       "      <td>Categoría2</td>\n",
       "      <td>3</td>\n",
       "      <td>0.000374</td>\n",
       "      <td>0.999751</td>\n",
       "    </tr>\n",
       "    <tr>\n",
       "      <th>2</th>\n",
       "      <td>Categoría12</td>\n",
       "      <td>2</td>\n",
       "      <td>0.000249</td>\n",
       "      <td>1.000000</td>\n",
       "    </tr>\n",
       "    <tr>\n",
       "      <th>3</th>\n",
       "      <td>Categoría3</td>\n",
       "      <td>0</td>\n",
       "      <td>0.000000</td>\n",
       "      <td>1.000000</td>\n",
       "    </tr>\n",
       "    <tr>\n",
       "      <th>4</th>\n",
       "      <td>Categoría4</td>\n",
       "      <td>0</td>\n",
       "      <td>0.000000</td>\n",
       "      <td>1.000000</td>\n",
       "    </tr>\n",
       "    <tr>\n",
       "      <th>5</th>\n",
       "      <td>Categoría5</td>\n",
       "      <td>0</td>\n",
       "      <td>0.000000</td>\n",
       "      <td>1.000000</td>\n",
       "    </tr>\n",
       "    <tr>\n",
       "      <th>6</th>\n",
       "      <td>Categoría6</td>\n",
       "      <td>0</td>\n",
       "      <td>0.000000</td>\n",
       "      <td>1.000000</td>\n",
       "    </tr>\n",
       "    <tr>\n",
       "      <th>7</th>\n",
       "      <td>Categoría7</td>\n",
       "      <td>0</td>\n",
       "      <td>0.000000</td>\n",
       "      <td>1.000000</td>\n",
       "    </tr>\n",
       "    <tr>\n",
       "      <th>8</th>\n",
       "      <td>Categoría8</td>\n",
       "      <td>0</td>\n",
       "      <td>0.000000</td>\n",
       "      <td>1.000000</td>\n",
       "    </tr>\n",
       "    <tr>\n",
       "      <th>9</th>\n",
       "      <td>Categoría9</td>\n",
       "      <td>0</td>\n",
       "      <td>0.000000</td>\n",
       "      <td>1.000000</td>\n",
       "    </tr>\n",
       "    <tr>\n",
       "      <th>10</th>\n",
       "      <td>Categoría10</td>\n",
       "      <td>0</td>\n",
       "      <td>0.000000</td>\n",
       "      <td>1.000000</td>\n",
       "    </tr>\n",
       "    <tr>\n",
       "      <th>11</th>\n",
       "      <td>Categoría11</td>\n",
       "      <td>0</td>\n",
       "      <td>0.000000</td>\n",
       "      <td>1.000000</td>\n",
       "    </tr>\n",
       "  </tbody>\n",
       "</table>\n",
       "</div>"
      ],
      "text/plain": [
       "          price  frequency  percentage  cumulative_perc\n",
       "0    Categoría1       8014    0.999127         0.999376\n",
       "1    Categoría2          3    0.000374         0.999751\n",
       "2   Categoría12          2    0.000249         1.000000\n",
       "3    Categoría3          0    0.000000         1.000000\n",
       "4    Categoría4          0    0.000000         1.000000\n",
       "5    Categoría5          0    0.000000         1.000000\n",
       "6    Categoría6          0    0.000000         1.000000\n",
       "7    Categoría7          0    0.000000         1.000000\n",
       "8    Categoría8          0    0.000000         1.000000\n",
       "9    Categoría9          0    0.000000         1.000000\n",
       "10  Categoría10          0    0.000000         1.000000\n",
       "11  Categoría11          0    0.000000         1.000000"
      ]
     },
     "execution_count": 168,
     "metadata": {},
     "output_type": "execute_result"
    }
   ],
   "source": [
    "#Obtengo un análisis univariado de una variable categórica en específico  \n",
    "table13 = freq_tbl(Micro_Retailer_1[\"price\"])\n",
    "table13"
   ]
  },
  {
   "cell_type": "code",
   "execution_count": 169,
   "metadata": {},
   "outputs": [
    {
     "data": {
      "text/html": [
       "<div>\n",
       "<style scoped>\n",
       "    .dataframe tbody tr th:only-of-type {\n",
       "        vertical-align: middle;\n",
       "    }\n",
       "\n",
       "    .dataframe tbody tr th {\n",
       "        vertical-align: top;\n",
       "    }\n",
       "\n",
       "    .dataframe thead th {\n",
       "        text-align: right;\n",
       "    }\n",
       "</style>\n",
       "<table border=\"1\" class=\"dataframe\">\n",
       "  <thead>\n",
       "    <tr style=\"text-align: right;\">\n",
       "      <th></th>\n",
       "      <th>price</th>\n",
       "      <th>frequency</th>\n",
       "    </tr>\n",
       "  </thead>\n",
       "  <tbody>\n",
       "    <tr>\n",
       "      <th>0</th>\n",
       "      <td>Categoría1</td>\n",
       "      <td>8014</td>\n",
       "    </tr>\n",
       "    <tr>\n",
       "      <th>1</th>\n",
       "      <td>Categoría2</td>\n",
       "      <td>3</td>\n",
       "    </tr>\n",
       "    <tr>\n",
       "      <th>2</th>\n",
       "      <td>Categoría12</td>\n",
       "      <td>2</td>\n",
       "    </tr>\n",
       "    <tr>\n",
       "      <th>3</th>\n",
       "      <td>Categoría3</td>\n",
       "      <td>0</td>\n",
       "    </tr>\n",
       "    <tr>\n",
       "      <th>4</th>\n",
       "      <td>Categoría4</td>\n",
       "      <td>0</td>\n",
       "    </tr>\n",
       "    <tr>\n",
       "      <th>5</th>\n",
       "      <td>Categoría5</td>\n",
       "      <td>0</td>\n",
       "    </tr>\n",
       "    <tr>\n",
       "      <th>6</th>\n",
       "      <td>Categoría6</td>\n",
       "      <td>0</td>\n",
       "    </tr>\n",
       "    <tr>\n",
       "      <th>7</th>\n",
       "      <td>Categoría7</td>\n",
       "      <td>0</td>\n",
       "    </tr>\n",
       "    <tr>\n",
       "      <th>8</th>\n",
       "      <td>Categoría8</td>\n",
       "      <td>0</td>\n",
       "    </tr>\n",
       "    <tr>\n",
       "      <th>9</th>\n",
       "      <td>Categoría9</td>\n",
       "      <td>0</td>\n",
       "    </tr>\n",
       "    <tr>\n",
       "      <th>10</th>\n",
       "      <td>Categoría10</td>\n",
       "      <td>0</td>\n",
       "    </tr>\n",
       "    <tr>\n",
       "      <th>11</th>\n",
       "      <td>Categoría11</td>\n",
       "      <td>0</td>\n",
       "    </tr>\n",
       "  </tbody>\n",
       "</table>\n",
       "</div>"
      ],
      "text/plain": [
       "          price  frequency\n",
       "0    Categoría1       8014\n",
       "1    Categoría2          3\n",
       "2   Categoría12          2\n",
       "3    Categoría3          0\n",
       "4    Categoría4          0\n",
       "5    Categoría5          0\n",
       "6    Categoría6          0\n",
       "7    Categoría7          0\n",
       "8    Categoría8          0\n",
       "9    Categoría9          0\n",
       "10  Categoría10          0\n",
       "11  Categoría11          0"
      ]
     },
     "execution_count": 169,
     "metadata": {},
     "output_type": "execute_result"
    }
   ],
   "source": [
    "#Elimino las columnas \"procentage\" y \"cumulative_perc\" para trabajar con las fecuencias\n",
    "table14 = table13.drop(['percentage', 'cumulative_perc'], axis=1)\n",
    "table14"
   ]
  },
  {
   "cell_type": "code",
   "execution_count": 170,
   "metadata": {},
   "outputs": [
    {
     "data": {
      "text/html": [
       "<div>\n",
       "<style scoped>\n",
       "    .dataframe tbody tr th:only-of-type {\n",
       "        vertical-align: middle;\n",
       "    }\n",
       "\n",
       "    .dataframe tbody tr th {\n",
       "        vertical-align: top;\n",
       "    }\n",
       "\n",
       "    .dataframe thead th {\n",
       "        text-align: right;\n",
       "    }\n",
       "</style>\n",
       "<table border=\"1\" class=\"dataframe\">\n",
       "  <thead>\n",
       "    <tr style=\"text-align: right;\">\n",
       "      <th></th>\n",
       "      <th>price</th>\n",
       "      <th>frequency</th>\n",
       "    </tr>\n",
       "  </thead>\n",
       "  <tbody>\n",
       "    <tr>\n",
       "      <th>0</th>\n",
       "      <td>Categoría1</td>\n",
       "      <td>8014</td>\n",
       "    </tr>\n",
       "    <tr>\n",
       "      <th>1</th>\n",
       "      <td>Categoría2</td>\n",
       "      <td>3</td>\n",
       "    </tr>\n",
       "    <tr>\n",
       "      <th>2</th>\n",
       "      <td>Categoría12</td>\n",
       "      <td>2</td>\n",
       "    </tr>\n",
       "  </tbody>\n",
       "</table>\n",
       "</div>"
      ],
      "text/plain": [
       "         price  frequency\n",
       "0   Categoría1       8014\n",
       "1   Categoría2          3\n",
       "2  Categoría12          2"
      ]
     },
     "execution_count": 170,
     "metadata": {},
     "output_type": "execute_result"
    }
   ],
   "source": [
    "filtro7 = table14[table14['frequency'] > 1]\n",
    "filtro7"
   ]
  },
  {
   "cell_type": "code",
   "execution_count": 173,
   "metadata": {},
   "outputs": [
    {
     "data": {
      "text/html": [
       "<div>\n",
       "<style scoped>\n",
       "    .dataframe tbody tr th:only-of-type {\n",
       "        vertical-align: middle;\n",
       "    }\n",
       "\n",
       "    .dataframe tbody tr th {\n",
       "        vertical-align: top;\n",
       "    }\n",
       "\n",
       "    .dataframe thead th {\n",
       "        text-align: right;\n",
       "    }\n",
       "</style>\n",
       "<table border=\"1\" class=\"dataframe\">\n",
       "  <thead>\n",
       "    <tr style=\"text-align: right;\">\n",
       "      <th></th>\n",
       "      <th>frequency</th>\n",
       "    </tr>\n",
       "    <tr>\n",
       "      <th>price</th>\n",
       "      <th></th>\n",
       "    </tr>\n",
       "  </thead>\n",
       "  <tbody>\n",
       "    <tr>\n",
       "      <th>Categoría1</th>\n",
       "      <td>8014</td>\n",
       "    </tr>\n",
       "    <tr>\n",
       "      <th>Categoría2</th>\n",
       "      <td>3</td>\n",
       "    </tr>\n",
       "    <tr>\n",
       "      <th>Categoría12</th>\n",
       "      <td>2</td>\n",
       "    </tr>\n",
       "  </tbody>\n",
       "</table>\n",
       "</div>"
      ],
      "text/plain": [
       "             frequency\n",
       "price                 \n",
       "Categoría1        8014\n",
       "Categoría2           3\n",
       "Categoría12          2"
      ]
     },
     "execution_count": 173,
     "metadata": {},
     "output_type": "execute_result"
    }
   ],
   "source": [
    "#Ajusto el indice de mi DataFrame\n",
    "Filtro_index = filtro7.set_index(\"price\")\n",
    "Filtro_index"
   ]
  },
  {
   "cell_type": "code",
   "execution_count": 174,
   "metadata": {},
   "outputs": [
    {
     "data": {
      "text/plain": [
       "<Axes: xlabel='price'>"
      ]
     },
     "execution_count": 174,
     "metadata": {},
     "output_type": "execute_result"
    },
    {
     "data": {
      "image/png": "[encoded data removed]",
      "text/plain": [
       "<Figure size 1000x400 with 1 Axes>"
      ]
     },
     "metadata": {},
     "output_type": "display_data"
    }
   ],
   "source": [
    "#Realizamos grafico de área del dataframe filtrado\n",
    "Filtro_index.plot(kind='area', figsize=(10,4), alpha = 0.5)"
   ]
  },
  {
   "cell_type": "code",
   "execution_count": 175,
   "metadata": {},
   "outputs": [
    {
     "name": "stdout",
     "output_type": "stream",
     "text": [
      "<class 'pandas.core.series.Series'>\n",
      "RangeIndex: 8021 entries, 0 to 8020\n",
      "Series name: maximum_nights_avg_ntm\n",
      "Non-Null Count  Dtype  \n",
      "--------------  -----  \n",
      "8021 non-null   float64\n",
      "dtypes: float64(1)\n",
      "memory usage: 62.8 KB\n"
     ]
    }
   ],
   "source": [
    "Micro_Retailer_1['maximum_nights_avg_ntm'].info()\n",
    "n = 8021"
   ]
  },
  {
   "cell_type": "code",
   "execution_count": 176,
   "metadata": {},
   "outputs": [
    {
     "data": {
      "text/plain": [
       "[1.0, 20770.8]"
      ]
     },
     "execution_count": 176,
     "metadata": {},
     "output_type": "execute_result"
    }
   ],
   "source": [
    "Min = Micro_Retailer_1[\"maximum_nights_avg_ntm\"].min()  \n",
    "Max = Micro_Retailer_1[\"maximum_nights_avg_ntm\"].max()  \n",
    "Limites = [Min,Max]\n",
    "Limites"
   ]
  },
  {
   "cell_type": "code",
   "execution_count": 177,
   "metadata": {},
   "outputs": [
    {
     "data": {
      "text/plain": [
       "20769.8"
      ]
     },
     "execution_count": 177,
     "metadata": {},
     "output_type": "execute_result"
    }
   ],
   "source": [
    "#Calcula el rango\n",
    "R = Max - Min\n",
    "R"
   ]
  },
  {
   "cell_type": "code",
   "execution_count": 178,
   "metadata": {},
   "outputs": [
    {
     "data": {
      "text/plain": [
       "13.96203867424906"
      ]
     },
     "execution_count": 178,
     "metadata": {},
     "output_type": "execute_result"
    }
   ],
   "source": [
    "#Calcular el número de Intervalos de Clase (ni). Se aplica la regla de Sturges (Donde “n” el tamaño de la muestra.):\n",
    "ni = 1+3.32*np.log10(n)\n",
    "ni"
   ]
  },
  {
   "cell_type": "code",
   "execution_count": 179,
   "metadata": {},
   "outputs": [
    {
     "data": {
      "text/plain": [
       "1487.5907798699097"
      ]
     },
     "execution_count": 179,
     "metadata": {},
     "output_type": "execute_result"
    }
   ],
   "source": [
    "#Calcular el Ancho del Intervalo ( i )\n",
    "i = R/ni\n",
    "i"
   ]
  },
  {
   "cell_type": "code",
   "execution_count": 180,
   "metadata": {},
   "outputs": [
    {
     "data": {
      "text/plain": [
       "array([1.00000000e+00, 1.73181667e+03, 3.46263333e+03, 5.19345000e+03,\n",
       "       6.92426667e+03, 8.65508333e+03, 1.03859000e+04, 1.21167167e+04,\n",
       "       1.38475333e+04, 1.55783500e+04, 1.73091667e+04, 1.90399833e+04,\n",
       "       2.07708000e+04])"
      ]
     },
     "execution_count": 180,
     "metadata": {},
     "output_type": "execute_result"
    }
   ],
   "source": [
    "# Ver resultado\n",
    "intervalos = np.linspace(1.0, 20770.8, 13) #Número de clases más uno\n",
    "intervalos"
   ]
  },
  {
   "cell_type": "code",
   "execution_count": 181,
   "metadata": {},
   "outputs": [],
   "source": [
    "categorias = [\"Categoría1\", \"Categoría2\", \"Categoría3\", \"Categoría4\",\n",
    "              \"Categoría5\", \"Categoría6\", \"Categoría7\", \"Categoría8\",\n",
    "              \"Categoría9\",\"Categoría10\",\"Categoría11\",\"Categoría12\"]"
   ]
  },
  {
   "cell_type": "code",
   "execution_count": 182,
   "metadata": {},
   "outputs": [
    {
     "data": {
      "text/plain": [
       "0       Categoría1\n",
       "1       Categoría1\n",
       "2       Categoría1\n",
       "3       Categoría1\n",
       "4       Categoría1\n",
       "           ...    \n",
       "8016    Categoría1\n",
       "8017    Categoría1\n",
       "8018    Categoría1\n",
       "8019    Categoría1\n",
       "8020    Categoría1\n",
       "Name: maximum_nights_avg_ntm, Length: 8021, dtype: category\n",
       "Categories (12, object): ['Categoría1' < 'Categoría2' < 'Categoría3' < 'Categoría4' ... 'Categoría9' < 'Categoría10' < 'Categoría11' < 'Categoría12']"
      ]
     },
     "execution_count": 182,
     "metadata": {},
     "output_type": "execute_result"
    }
   ],
   "source": [
    "Micro_Retailer_1[\"maximum_nights_avg_ntm\"] = pd.cut(x = Micro_Retailer_1[\"maximum_nights_avg_ntm\"], bins = intervalos, labels = categorias)\n",
    "Micro_Retailer_1[\"maximum_nights_avg_ntm\"]"
   ]
  },
  {
   "cell_type": "code",
   "execution_count": 183,
   "metadata": {},
   "outputs": [
    {
     "data": {
      "text/html": [
       "<div>\n",
       "<style scoped>\n",
       "    .dataframe tbody tr th:only-of-type {\n",
       "        vertical-align: middle;\n",
       "    }\n",
       "\n",
       "    .dataframe tbody tr th {\n",
       "        vertical-align: top;\n",
       "    }\n",
       "\n",
       "    .dataframe thead th {\n",
       "        text-align: right;\n",
       "    }\n",
       "</style>\n",
       "<table border=\"1\" class=\"dataframe\">\n",
       "  <thead>\n",
       "    <tr style=\"text-align: right;\">\n",
       "      <th></th>\n",
       "      <th>maximum_nights_avg_ntm</th>\n",
       "      <th>frequency</th>\n",
       "      <th>percentage</th>\n",
       "      <th>cumulative_perc</th>\n",
       "    </tr>\n",
       "  </thead>\n",
       "  <tbody>\n",
       "    <tr>\n",
       "      <th>0</th>\n",
       "      <td>Categoría1</td>\n",
       "      <td>7982</td>\n",
       "      <td>0.995138</td>\n",
       "      <td>0.997251</td>\n",
       "    </tr>\n",
       "    <tr>\n",
       "      <th>1</th>\n",
       "      <td>Categoría12</td>\n",
       "      <td>22</td>\n",
       "      <td>0.002743</td>\n",
       "      <td>1.000000</td>\n",
       "    </tr>\n",
       "    <tr>\n",
       "      <th>2</th>\n",
       "      <td>Categoría2</td>\n",
       "      <td>0</td>\n",
       "      <td>0.000000</td>\n",
       "      <td>1.000000</td>\n",
       "    </tr>\n",
       "    <tr>\n",
       "      <th>3</th>\n",
       "      <td>Categoría3</td>\n",
       "      <td>0</td>\n",
       "      <td>0.000000</td>\n",
       "      <td>1.000000</td>\n",
       "    </tr>\n",
       "    <tr>\n",
       "      <th>4</th>\n",
       "      <td>Categoría4</td>\n",
       "      <td>0</td>\n",
       "      <td>0.000000</td>\n",
       "      <td>1.000000</td>\n",
       "    </tr>\n",
       "    <tr>\n",
       "      <th>5</th>\n",
       "      <td>Categoría5</td>\n",
       "      <td>0</td>\n",
       "      <td>0.000000</td>\n",
       "      <td>1.000000</td>\n",
       "    </tr>\n",
       "    <tr>\n",
       "      <th>6</th>\n",
       "      <td>Categoría6</td>\n",
       "      <td>0</td>\n",
       "      <td>0.000000</td>\n",
       "      <td>1.000000</td>\n",
       "    </tr>\n",
       "    <tr>\n",
       "      <th>7</th>\n",
       "      <td>Categoría7</td>\n",
       "      <td>0</td>\n",
       "      <td>0.000000</td>\n",
       "      <td>1.000000</td>\n",
       "    </tr>\n",
       "    <tr>\n",
       "      <th>8</th>\n",
       "      <td>Categoría8</td>\n",
       "      <td>0</td>\n",
       "      <td>0.000000</td>\n",
       "      <td>1.000000</td>\n",
       "    </tr>\n",
       "    <tr>\n",
       "      <th>9</th>\n",
       "      <td>Categoría9</td>\n",
       "      <td>0</td>\n",
       "      <td>0.000000</td>\n",
       "      <td>1.000000</td>\n",
       "    </tr>\n",
       "    <tr>\n",
       "      <th>10</th>\n",
       "      <td>Categoría10</td>\n",
       "      <td>0</td>\n",
       "      <td>0.000000</td>\n",
       "      <td>1.000000</td>\n",
       "    </tr>\n",
       "    <tr>\n",
       "      <th>11</th>\n",
       "      <td>Categoría11</td>\n",
       "      <td>0</td>\n",
       "      <td>0.000000</td>\n",
       "      <td>1.000000</td>\n",
       "    </tr>\n",
       "  </tbody>\n",
       "</table>\n",
       "</div>"
      ],
      "text/plain": [
       "   maximum_nights_avg_ntm  frequency  percentage  cumulative_perc\n",
       "0              Categoría1       7982    0.995138         0.997251\n",
       "1             Categoría12         22    0.002743         1.000000\n",
       "2              Categoría2          0    0.000000         1.000000\n",
       "3              Categoría3          0    0.000000         1.000000\n",
       "4              Categoría4          0    0.000000         1.000000\n",
       "5              Categoría5          0    0.000000         1.000000\n",
       "6              Categoría6          0    0.000000         1.000000\n",
       "7              Categoría7          0    0.000000         1.000000\n",
       "8              Categoría8          0    0.000000         1.000000\n",
       "9              Categoría9          0    0.000000         1.000000\n",
       "10            Categoría10          0    0.000000         1.000000\n",
       "11            Categoría11          0    0.000000         1.000000"
      ]
     },
     "execution_count": 183,
     "metadata": {},
     "output_type": "execute_result"
    }
   ],
   "source": [
    "#Obtengo un análisis univariado de una variable categórica en específico  \n",
    "table15 = freq_tbl(Micro_Retailer_1[\"maximum_nights_avg_ntm\"])\n",
    "table15"
   ]
  },
  {
   "cell_type": "code",
   "execution_count": 184,
   "metadata": {},
   "outputs": [
    {
     "data": {
      "text/html": [
       "<div>\n",
       "<style scoped>\n",
       "    .dataframe tbody tr th:only-of-type {\n",
       "        vertical-align: middle;\n",
       "    }\n",
       "\n",
       "    .dataframe tbody tr th {\n",
       "        vertical-align: top;\n",
       "    }\n",
       "\n",
       "    .dataframe thead th {\n",
       "        text-align: right;\n",
       "    }\n",
       "</style>\n",
       "<table border=\"1\" class=\"dataframe\">\n",
       "  <thead>\n",
       "    <tr style=\"text-align: right;\">\n",
       "      <th></th>\n",
       "      <th>maximum_nights_avg_ntm</th>\n",
       "      <th>frequency</th>\n",
       "    </tr>\n",
       "  </thead>\n",
       "  <tbody>\n",
       "    <tr>\n",
       "      <th>0</th>\n",
       "      <td>Categoría1</td>\n",
       "      <td>7982</td>\n",
       "    </tr>\n",
       "    <tr>\n",
       "      <th>1</th>\n",
       "      <td>Categoría12</td>\n",
       "      <td>22</td>\n",
       "    </tr>\n",
       "    <tr>\n",
       "      <th>2</th>\n",
       "      <td>Categoría2</td>\n",
       "      <td>0</td>\n",
       "    </tr>\n",
       "    <tr>\n",
       "      <th>3</th>\n",
       "      <td>Categoría3</td>\n",
       "      <td>0</td>\n",
       "    </tr>\n",
       "    <tr>\n",
       "      <th>4</th>\n",
       "      <td>Categoría4</td>\n",
       "      <td>0</td>\n",
       "    </tr>\n",
       "    <tr>\n",
       "      <th>5</th>\n",
       "      <td>Categoría5</td>\n",
       "      <td>0</td>\n",
       "    </tr>\n",
       "    <tr>\n",
       "      <th>6</th>\n",
       "      <td>Categoría6</td>\n",
       "      <td>0</td>\n",
       "    </tr>\n",
       "    <tr>\n",
       "      <th>7</th>\n",
       "      <td>Categoría7</td>\n",
       "      <td>0</td>\n",
       "    </tr>\n",
       "    <tr>\n",
       "      <th>8</th>\n",
       "      <td>Categoría8</td>\n",
       "      <td>0</td>\n",
       "    </tr>\n",
       "    <tr>\n",
       "      <th>9</th>\n",
       "      <td>Categoría9</td>\n",
       "      <td>0</td>\n",
       "    </tr>\n",
       "    <tr>\n",
       "      <th>10</th>\n",
       "      <td>Categoría10</td>\n",
       "      <td>0</td>\n",
       "    </tr>\n",
       "    <tr>\n",
       "      <th>11</th>\n",
       "      <td>Categoría11</td>\n",
       "      <td>0</td>\n",
       "    </tr>\n",
       "  </tbody>\n",
       "</table>\n",
       "</div>"
      ],
      "text/plain": [
       "   maximum_nights_avg_ntm  frequency\n",
       "0              Categoría1       7982\n",
       "1             Categoría12         22\n",
       "2              Categoría2          0\n",
       "3              Categoría3          0\n",
       "4              Categoría4          0\n",
       "5              Categoría5          0\n",
       "6              Categoría6          0\n",
       "7              Categoría7          0\n",
       "8              Categoría8          0\n",
       "9              Categoría9          0\n",
       "10            Categoría10          0\n",
       "11            Categoría11          0"
      ]
     },
     "execution_count": 184,
     "metadata": {},
     "output_type": "execute_result"
    }
   ],
   "source": [
    "#Elimino las columnas \"procentage\" y \"cumulative_perc\" para trabajar con las fecuencias\n",
    "table16 = table15.drop(['percentage', 'cumulative_perc'], axis=1)\n",
    "table16"
   ]
  },
  {
   "cell_type": "code",
   "execution_count": 185,
   "metadata": {},
   "outputs": [
    {
     "data": {
      "text/html": [
       "<div>\n",
       "<style scoped>\n",
       "    .dataframe tbody tr th:only-of-type {\n",
       "        vertical-align: middle;\n",
       "    }\n",
       "\n",
       "    .dataframe tbody tr th {\n",
       "        vertical-align: top;\n",
       "    }\n",
       "\n",
       "    .dataframe thead th {\n",
       "        text-align: right;\n",
       "    }\n",
       "</style>\n",
       "<table border=\"1\" class=\"dataframe\">\n",
       "  <thead>\n",
       "    <tr style=\"text-align: right;\">\n",
       "      <th></th>\n",
       "      <th>maximum_nights_avg_ntm</th>\n",
       "      <th>frequency</th>\n",
       "    </tr>\n",
       "  </thead>\n",
       "  <tbody>\n",
       "    <tr>\n",
       "      <th>0</th>\n",
       "      <td>Categoría1</td>\n",
       "      <td>7982</td>\n",
       "    </tr>\n",
       "    <tr>\n",
       "      <th>1</th>\n",
       "      <td>Categoría12</td>\n",
       "      <td>22</td>\n",
       "    </tr>\n",
       "  </tbody>\n",
       "</table>\n",
       "</div>"
      ],
      "text/plain": [
       "  maximum_nights_avg_ntm  frequency\n",
       "0             Categoría1       7982\n",
       "1            Categoría12         22"
      ]
     },
     "execution_count": 185,
     "metadata": {},
     "output_type": "execute_result"
    }
   ],
   "source": [
    "filtro8 = table16[table16['frequency'] > 0]\n",
    "filtro8"
   ]
  },
  {
   "cell_type": "code",
   "execution_count": 187,
   "metadata": {},
   "outputs": [
    {
     "data": {
      "text/html": [
       "<div>\n",
       "<style scoped>\n",
       "    .dataframe tbody tr th:only-of-type {\n",
       "        vertical-align: middle;\n",
       "    }\n",
       "\n",
       "    .dataframe tbody tr th {\n",
       "        vertical-align: top;\n",
       "    }\n",
       "\n",
       "    .dataframe thead th {\n",
       "        text-align: right;\n",
       "    }\n",
       "</style>\n",
       "<table border=\"1\" class=\"dataframe\">\n",
       "  <thead>\n",
       "    <tr style=\"text-align: right;\">\n",
       "      <th></th>\n",
       "      <th>frequency</th>\n",
       "    </tr>\n",
       "    <tr>\n",
       "      <th>maximum_nights_avg_ntm</th>\n",
       "      <th></th>\n",
       "    </tr>\n",
       "  </thead>\n",
       "  <tbody>\n",
       "    <tr>\n",
       "      <th>Categoría1</th>\n",
       "      <td>7982</td>\n",
       "    </tr>\n",
       "    <tr>\n",
       "      <th>Categoría12</th>\n",
       "      <td>22</td>\n",
       "    </tr>\n",
       "  </tbody>\n",
       "</table>\n",
       "</div>"
      ],
      "text/plain": [
       "                        frequency\n",
       "maximum_nights_avg_ntm           \n",
       "Categoría1                   7982\n",
       "Categoría12                    22"
      ]
     },
     "execution_count": 187,
     "metadata": {},
     "output_type": "execute_result"
    }
   ],
   "source": [
    "#Ajusto el indice de mi DataFrame\n",
    "Filtro_index = filtro8.set_index(\"maximum_nights_avg_ntm\")\n",
    "Filtro_index"
   ]
  },
  {
   "cell_type": "code",
   "execution_count": 189,
   "metadata": {},
   "outputs": [
    {
     "data": {
      "text/plain": [
       "Text(0, 0.5, 'Frecuencia')"
      ]
     },
     "execution_count": 189,
     "metadata": {},
     "output_type": "execute_result"
    },
    {
     "data": {
      "image/png": "[encoded data removed]",
      "text/plain": [
       "<Figure size 1000x400 with 1 Axes>"
      ]
     },
     "metadata": {},
     "output_type": "display_data"
    }
   ],
   "source": [
    "#Realizamos grafico de barras del Dataframe filtrado\n",
    "Filtro_index.plot(kind = 'bar', width=0.8, figsize=(10,4), color = \"red\")\n",
    "plt.title('maximum_nights_avg_ntm')\n",
    "plt.xlabel('Maxima noche')\n",
    "plt.ylabel('Frecuencia')"
   ]
  },
  {
   "cell_type": "code",
   "execution_count": 190,
   "metadata": {},
   "outputs": [
    {
     "name": "stdout",
     "output_type": "stream",
     "text": [
      "<class 'pandas.core.series.Series'>\n",
      "RangeIndex: 8021 entries, 0 to 8020\n",
      "Series name: availability_365\n",
      "Non-Null Count  Dtype\n",
      "--------------  -----\n",
      "8021 non-null   int64\n",
      "dtypes: int64(1)\n",
      "memory usage: 62.8 KB\n"
     ]
    }
   ],
   "source": [
    "Micro_Retailer_1['availability_365'].info()\n",
    "n = 8021"
   ]
  },
  {
   "cell_type": "code",
   "execution_count": 191,
   "metadata": {},
   "outputs": [
    {
     "data": {
      "text/plain": [
       "[0, 365]"
      ]
     },
     "execution_count": 191,
     "metadata": {},
     "output_type": "execute_result"
    }
   ],
   "source": [
    "Min = Micro_Retailer_1['availability_365'].min()  \n",
    "Max = Micro_Retailer_1['availability_365'].max()  \n",
    "Limites = [Min,Max]\n",
    "Limites"
   ]
  },
  {
   "cell_type": "code",
   "execution_count": 192,
   "metadata": {},
   "outputs": [
    {
     "data": {
      "text/plain": [
       "365"
      ]
     },
     "execution_count": 192,
     "metadata": {},
     "output_type": "execute_result"
    }
   ],
   "source": [
    "R = Max - Min\n",
    "R"
   ]
  },
  {
   "cell_type": "code",
   "execution_count": 193,
   "metadata": {},
   "outputs": [
    {
     "data": {
      "text/plain": [
       "13.96203867424906"
      ]
     },
     "execution_count": 193,
     "metadata": {},
     "output_type": "execute_result"
    }
   ],
   "source": [
    "ni = 1+3.32*np.log10(n)\n",
    "ni"
   ]
  },
  {
   "cell_type": "code",
   "execution_count": 194,
   "metadata": {},
   "outputs": [
    {
     "data": {
      "text/plain": [
       "26.14231406429128"
      ]
     },
     "execution_count": 194,
     "metadata": {},
     "output_type": "execute_result"
    }
   ],
   "source": [
    "i = R/ni\n",
    "i"
   ]
  },
  {
   "cell_type": "code",
   "execution_count": 195,
   "metadata": {},
   "outputs": [
    {
     "data": {
      "text/plain": [
       "array([  0.        ,  28.07692308,  56.15384615,  84.23076923,\n",
       "       112.30769231, 140.38461538, 168.46153846, 196.53846154,\n",
       "       224.61538462, 252.69230769, 280.76923077, 308.84615385,\n",
       "       336.92307692, 365.        ])"
      ]
     },
     "execution_count": 195,
     "metadata": {},
     "output_type": "execute_result"
    }
   ],
   "source": [
    "# Ver resultado\n",
    "intervalos = np.linspace(0.0, 365, 14) #Número de clases más uno\n",
    "intervalos"
   ]
  },
  {
   "cell_type": "code",
   "execution_count": 196,
   "metadata": {},
   "outputs": [],
   "source": [
    "categorias = [\"Categoría1\", \"Categoría2\", \"Categoría3\", \"Categoría4\",\n",
    "              \"Categoría5\", \"Categoría6\", \"Categoría7\", \"Categoría8\",\n",
    "              \"Categoría9\",\"Categoría10\",\"Categoría11\",\"Categoría12\",\n",
    "              \"Categoria13\"]"
   ]
  },
  {
   "cell_type": "code",
   "execution_count": 197,
   "metadata": {},
   "outputs": [
    {
     "data": {
      "text/plain": [
       "0        Categoría7\n",
       "1        Categoría4\n",
       "2               NaN\n",
       "3        Categoría2\n",
       "4        Categoría6\n",
       "           ...     \n",
       "8016     Categoría4\n",
       "8017    Categoria13\n",
       "8018    Categoria13\n",
       "8019     Categoría4\n",
       "8020     Categoría1\n",
       "Name: availability_365, Length: 8021, dtype: category\n",
       "Categories (13, object): ['Categoría1' < 'Categoría2' < 'Categoría3' < 'Categoría4' ... 'Categoría10' < 'Categoría11' < 'Categoría12' < 'Categoria13']"
      ]
     },
     "execution_count": 197,
     "metadata": {},
     "output_type": "execute_result"
    }
   ],
   "source": [
    "Micro_Retailer_1[\"availability_365\"] = pd.cut(x = Micro_Retailer_1[\"availability_365\"], bins = intervalos, labels = categorias)\n",
    "Micro_Retailer_1[\"availability_365\"]"
   ]
  },
  {
   "cell_type": "code",
   "execution_count": 199,
   "metadata": {},
   "outputs": [
    {
     "data": {
      "text/html": [
       "<div>\n",
       "<style scoped>\n",
       "    .dataframe tbody tr th:only-of-type {\n",
       "        vertical-align: middle;\n",
       "    }\n",
       "\n",
       "    .dataframe tbody tr th {\n",
       "        vertical-align: top;\n",
       "    }\n",
       "\n",
       "    .dataframe thead th {\n",
       "        text-align: right;\n",
       "    }\n",
       "</style>\n",
       "<table border=\"1\" class=\"dataframe\">\n",
       "  <thead>\n",
       "    <tr style=\"text-align: right;\">\n",
       "      <th></th>\n",
       "      <th>availability_365</th>\n",
       "      <th>frequency</th>\n",
       "      <th>percentage</th>\n",
       "      <th>cumulative_perc</th>\n",
       "    </tr>\n",
       "  </thead>\n",
       "  <tbody>\n",
       "    <tr>\n",
       "      <th>0</th>\n",
       "      <td>Categoría1</td>\n",
       "      <td>1265</td>\n",
       "      <td>0.157711</td>\n",
       "      <td>0.205224</td>\n",
       "    </tr>\n",
       "    <tr>\n",
       "      <th>1</th>\n",
       "      <td>Categoria13</td>\n",
       "      <td>926</td>\n",
       "      <td>0.115447</td>\n",
       "      <td>0.355451</td>\n",
       "    </tr>\n",
       "    <tr>\n",
       "      <th>2</th>\n",
       "      <td>Categoría3</td>\n",
       "      <td>719</td>\n",
       "      <td>0.089640</td>\n",
       "      <td>0.472096</td>\n",
       "    </tr>\n",
       "    <tr>\n",
       "      <th>3</th>\n",
       "      <td>Categoría2</td>\n",
       "      <td>548</td>\n",
       "      <td>0.068321</td>\n",
       "      <td>0.560999</td>\n",
       "    </tr>\n",
       "    <tr>\n",
       "      <th>4</th>\n",
       "      <td>Categoría10</td>\n",
       "      <td>525</td>\n",
       "      <td>0.065453</td>\n",
       "      <td>0.646171</td>\n",
       "    </tr>\n",
       "    <tr>\n",
       "      <th>5</th>\n",
       "      <td>Categoría4</td>\n",
       "      <td>412</td>\n",
       "      <td>0.051365</td>\n",
       "      <td>0.713011</td>\n",
       "    </tr>\n",
       "    <tr>\n",
       "      <th>6</th>\n",
       "      <td>Categoría7</td>\n",
       "      <td>332</td>\n",
       "      <td>0.041391</td>\n",
       "      <td>0.766872</td>\n",
       "    </tr>\n",
       "    <tr>\n",
       "      <th>7</th>\n",
       "      <td>Categoría6</td>\n",
       "      <td>328</td>\n",
       "      <td>0.040893</td>\n",
       "      <td>0.820084</td>\n",
       "    </tr>\n",
       "    <tr>\n",
       "      <th>8</th>\n",
       "      <td>Categoría12</td>\n",
       "      <td>287</td>\n",
       "      <td>0.035781</td>\n",
       "      <td>0.866645</td>\n",
       "    </tr>\n",
       "    <tr>\n",
       "      <th>9</th>\n",
       "      <td>Categoría9</td>\n",
       "      <td>255</td>\n",
       "      <td>0.031792</td>\n",
       "      <td>0.908014</td>\n",
       "    </tr>\n",
       "    <tr>\n",
       "      <th>10</th>\n",
       "      <td>Categoría5</td>\n",
       "      <td>200</td>\n",
       "      <td>0.024935</td>\n",
       "      <td>0.940461</td>\n",
       "    </tr>\n",
       "    <tr>\n",
       "      <th>11</th>\n",
       "      <td>Categoría11</td>\n",
       "      <td>197</td>\n",
       "      <td>0.024561</td>\n",
       "      <td>0.972421</td>\n",
       "    </tr>\n",
       "    <tr>\n",
       "      <th>12</th>\n",
       "      <td>Categoría8</td>\n",
       "      <td>170</td>\n",
       "      <td>0.021194</td>\n",
       "      <td>1.000000</td>\n",
       "    </tr>\n",
       "  </tbody>\n",
       "</table>\n",
       "</div>"
      ],
      "text/plain": [
       "   availability_365  frequency  percentage  cumulative_perc\n",
       "0        Categoría1       1265    0.157711         0.205224\n",
       "1       Categoria13        926    0.115447         0.355451\n",
       "2        Categoría3        719    0.089640         0.472096\n",
       "3        Categoría2        548    0.068321         0.560999\n",
       "4       Categoría10        525    0.065453         0.646171\n",
       "5        Categoría4        412    0.051365         0.713011\n",
       "6        Categoría7        332    0.041391         0.766872\n",
       "7        Categoría6        328    0.040893         0.820084\n",
       "8       Categoría12        287    0.035781         0.866645\n",
       "9        Categoría9        255    0.031792         0.908014\n",
       "10       Categoría5        200    0.024935         0.940461\n",
       "11      Categoría11        197    0.024561         0.972421\n",
       "12       Categoría8        170    0.021194         1.000000"
      ]
     },
     "execution_count": 199,
     "metadata": {},
     "output_type": "execute_result"
    }
   ],
   "source": [
    "#Obtengo un análisis univariado de una variable categórica en específico  \n",
    "table17 = freq_tbl(Micro_Retailer_1['availability_365'])\n",
    "table17"
   ]
  },
  {
   "cell_type": "code",
   "execution_count": 200,
   "metadata": {},
   "outputs": [
    {
     "data": {
      "text/html": [
       "<div>\n",
       "<style scoped>\n",
       "    .dataframe tbody tr th:only-of-type {\n",
       "        vertical-align: middle;\n",
       "    }\n",
       "\n",
       "    .dataframe tbody tr th {\n",
       "        vertical-align: top;\n",
       "    }\n",
       "\n",
       "    .dataframe thead th {\n",
       "        text-align: right;\n",
       "    }\n",
       "</style>\n",
       "<table border=\"1\" class=\"dataframe\">\n",
       "  <thead>\n",
       "    <tr style=\"text-align: right;\">\n",
       "      <th></th>\n",
       "      <th>availability_365</th>\n",
       "      <th>frequency</th>\n",
       "    </tr>\n",
       "  </thead>\n",
       "  <tbody>\n",
       "    <tr>\n",
       "      <th>0</th>\n",
       "      <td>Categoría1</td>\n",
       "      <td>1265</td>\n",
       "    </tr>\n",
       "    <tr>\n",
       "      <th>1</th>\n",
       "      <td>Categoria13</td>\n",
       "      <td>926</td>\n",
       "    </tr>\n",
       "    <tr>\n",
       "      <th>2</th>\n",
       "      <td>Categoría3</td>\n",
       "      <td>719</td>\n",
       "    </tr>\n",
       "    <tr>\n",
       "      <th>3</th>\n",
       "      <td>Categoría2</td>\n",
       "      <td>548</td>\n",
       "    </tr>\n",
       "    <tr>\n",
       "      <th>4</th>\n",
       "      <td>Categoría10</td>\n",
       "      <td>525</td>\n",
       "    </tr>\n",
       "    <tr>\n",
       "      <th>5</th>\n",
       "      <td>Categoría4</td>\n",
       "      <td>412</td>\n",
       "    </tr>\n",
       "    <tr>\n",
       "      <th>6</th>\n",
       "      <td>Categoría7</td>\n",
       "      <td>332</td>\n",
       "    </tr>\n",
       "    <tr>\n",
       "      <th>7</th>\n",
       "      <td>Categoría6</td>\n",
       "      <td>328</td>\n",
       "    </tr>\n",
       "    <tr>\n",
       "      <th>8</th>\n",
       "      <td>Categoría12</td>\n",
       "      <td>287</td>\n",
       "    </tr>\n",
       "    <tr>\n",
       "      <th>9</th>\n",
       "      <td>Categoría9</td>\n",
       "      <td>255</td>\n",
       "    </tr>\n",
       "    <tr>\n",
       "      <th>10</th>\n",
       "      <td>Categoría5</td>\n",
       "      <td>200</td>\n",
       "    </tr>\n",
       "    <tr>\n",
       "      <th>11</th>\n",
       "      <td>Categoría11</td>\n",
       "      <td>197</td>\n",
       "    </tr>\n",
       "    <tr>\n",
       "      <th>12</th>\n",
       "      <td>Categoría8</td>\n",
       "      <td>170</td>\n",
       "    </tr>\n",
       "  </tbody>\n",
       "</table>\n",
       "</div>"
      ],
      "text/plain": [
       "   availability_365  frequency\n",
       "0        Categoría1       1265\n",
       "1       Categoria13        926\n",
       "2        Categoría3        719\n",
       "3        Categoría2        548\n",
       "4       Categoría10        525\n",
       "5        Categoría4        412\n",
       "6        Categoría7        332\n",
       "7        Categoría6        328\n",
       "8       Categoría12        287\n",
       "9        Categoría9        255\n",
       "10       Categoría5        200\n",
       "11      Categoría11        197\n",
       "12       Categoría8        170"
      ]
     },
     "execution_count": 200,
     "metadata": {},
     "output_type": "execute_result"
    }
   ],
   "source": [
    "#Elimino las columnas \"procentage\" y \"cumulative_perc\" para trabajar con las fecuencias\n",
    "table18 = table17.drop(['percentage', 'cumulative_perc'], axis=1)\n",
    "table18"
   ]
  },
  {
   "cell_type": "code",
   "execution_count": 201,
   "metadata": {},
   "outputs": [
    {
     "data": {
      "text/html": [
       "<div>\n",
       "<style scoped>\n",
       "    .dataframe tbody tr th:only-of-type {\n",
       "        vertical-align: middle;\n",
       "    }\n",
       "\n",
       "    .dataframe tbody tr th {\n",
       "        vertical-align: top;\n",
       "    }\n",
       "\n",
       "    .dataframe thead th {\n",
       "        text-align: right;\n",
       "    }\n",
       "</style>\n",
       "<table border=\"1\" class=\"dataframe\">\n",
       "  <thead>\n",
       "    <tr style=\"text-align: right;\">\n",
       "      <th></th>\n",
       "      <th>availability_365</th>\n",
       "      <th>frequency</th>\n",
       "    </tr>\n",
       "  </thead>\n",
       "  <tbody>\n",
       "    <tr>\n",
       "      <th>0</th>\n",
       "      <td>Categoría1</td>\n",
       "      <td>1265</td>\n",
       "    </tr>\n",
       "    <tr>\n",
       "      <th>1</th>\n",
       "      <td>Categoria13</td>\n",
       "      <td>926</td>\n",
       "    </tr>\n",
       "    <tr>\n",
       "      <th>2</th>\n",
       "      <td>Categoría3</td>\n",
       "      <td>719</td>\n",
       "    </tr>\n",
       "    <tr>\n",
       "      <th>3</th>\n",
       "      <td>Categoría2</td>\n",
       "      <td>548</td>\n",
       "    </tr>\n",
       "    <tr>\n",
       "      <th>4</th>\n",
       "      <td>Categoría10</td>\n",
       "      <td>525</td>\n",
       "    </tr>\n",
       "    <tr>\n",
       "      <th>5</th>\n",
       "      <td>Categoría4</td>\n",
       "      <td>412</td>\n",
       "    </tr>\n",
       "    <tr>\n",
       "      <th>6</th>\n",
       "      <td>Categoría7</td>\n",
       "      <td>332</td>\n",
       "    </tr>\n",
       "    <tr>\n",
       "      <th>7</th>\n",
       "      <td>Categoría6</td>\n",
       "      <td>328</td>\n",
       "    </tr>\n",
       "    <tr>\n",
       "      <th>8</th>\n",
       "      <td>Categoría12</td>\n",
       "      <td>287</td>\n",
       "    </tr>\n",
       "    <tr>\n",
       "      <th>9</th>\n",
       "      <td>Categoría9</td>\n",
       "      <td>255</td>\n",
       "    </tr>\n",
       "    <tr>\n",
       "      <th>10</th>\n",
       "      <td>Categoría5</td>\n",
       "      <td>200</td>\n",
       "    </tr>\n",
       "    <tr>\n",
       "      <th>11</th>\n",
       "      <td>Categoría11</td>\n",
       "      <td>197</td>\n",
       "    </tr>\n",
       "    <tr>\n",
       "      <th>12</th>\n",
       "      <td>Categoría8</td>\n",
       "      <td>170</td>\n",
       "    </tr>\n",
       "  </tbody>\n",
       "</table>\n",
       "</div>"
      ],
      "text/plain": [
       "   availability_365  frequency\n",
       "0        Categoría1       1265\n",
       "1       Categoria13        926\n",
       "2        Categoría3        719\n",
       "3        Categoría2        548\n",
       "4       Categoría10        525\n",
       "5        Categoría4        412\n",
       "6        Categoría7        332\n",
       "7        Categoría6        328\n",
       "8       Categoría12        287\n",
       "9        Categoría9        255\n",
       "10       Categoría5        200\n",
       "11      Categoría11        197\n",
       "12       Categoría8        170"
      ]
     },
     "execution_count": 201,
     "metadata": {},
     "output_type": "execute_result"
    }
   ],
   "source": [
    "filtro9 = table18[table18['frequency'] > 0]\n",
    "filtro9"
   ]
  },
  {
   "cell_type": "code",
   "execution_count": 202,
   "metadata": {},
   "outputs": [
    {
     "data": {
      "text/html": [
       "<div>\n",
       "<style scoped>\n",
       "    .dataframe tbody tr th:only-of-type {\n",
       "        vertical-align: middle;\n",
       "    }\n",
       "\n",
       "    .dataframe tbody tr th {\n",
       "        vertical-align: top;\n",
       "    }\n",
       "\n",
       "    .dataframe thead th {\n",
       "        text-align: right;\n",
       "    }\n",
       "</style>\n",
       "<table border=\"1\" class=\"dataframe\">\n",
       "  <thead>\n",
       "    <tr style=\"text-align: right;\">\n",
       "      <th></th>\n",
       "      <th>frequency</th>\n",
       "    </tr>\n",
       "    <tr>\n",
       "      <th>availability_365</th>\n",
       "      <th></th>\n",
       "    </tr>\n",
       "  </thead>\n",
       "  <tbody>\n",
       "    <tr>\n",
       "      <th>Categoría1</th>\n",
       "      <td>1265</td>\n",
       "    </tr>\n",
       "    <tr>\n",
       "      <th>Categoria13</th>\n",
       "      <td>926</td>\n",
       "    </tr>\n",
       "    <tr>\n",
       "      <th>Categoría3</th>\n",
       "      <td>719</td>\n",
       "    </tr>\n",
       "    <tr>\n",
       "      <th>Categoría2</th>\n",
       "      <td>548</td>\n",
       "    </tr>\n",
       "    <tr>\n",
       "      <th>Categoría10</th>\n",
       "      <td>525</td>\n",
       "    </tr>\n",
       "    <tr>\n",
       "      <th>Categoría4</th>\n",
       "      <td>412</td>\n",
       "    </tr>\n",
       "    <tr>\n",
       "      <th>Categoría7</th>\n",
       "      <td>332</td>\n",
       "    </tr>\n",
       "    <tr>\n",
       "      <th>Categoría6</th>\n",
       "      <td>328</td>\n",
       "    </tr>\n",
       "    <tr>\n",
       "      <th>Categoría12</th>\n",
       "      <td>287</td>\n",
       "    </tr>\n",
       "    <tr>\n",
       "      <th>Categoría9</th>\n",
       "      <td>255</td>\n",
       "    </tr>\n",
       "    <tr>\n",
       "      <th>Categoría5</th>\n",
       "      <td>200</td>\n",
       "    </tr>\n",
       "    <tr>\n",
       "      <th>Categoría11</th>\n",
       "      <td>197</td>\n",
       "    </tr>\n",
       "    <tr>\n",
       "      <th>Categoría8</th>\n",
       "      <td>170</td>\n",
       "    </tr>\n",
       "  </tbody>\n",
       "</table>\n",
       "</div>"
      ],
      "text/plain": [
       "                  frequency\n",
       "availability_365           \n",
       "Categoría1             1265\n",
       "Categoria13             926\n",
       "Categoría3              719\n",
       "Categoría2              548\n",
       "Categoría10             525\n",
       "Categoría4              412\n",
       "Categoría7              332\n",
       "Categoría6              328\n",
       "Categoría12             287\n",
       "Categoría9              255\n",
       "Categoría5              200\n",
       "Categoría11             197\n",
       "Categoría8              170"
      ]
     },
     "execution_count": 202,
     "metadata": {},
     "output_type": "execute_result"
    }
   ],
   "source": [
    "#Ajusto el indice de mi DataFrame\n",
    "Filtro_index = filtro9.set_index(\"availability_365\")\n",
    "Filtro_index"
   ]
  },
  {
   "cell_type": "code",
   "execution_count": 203,
   "metadata": {},
   "outputs": [
    {
     "data": {
      "text/plain": [
       "Text(0, 0.5, 'Frecuencia')"
      ]
     },
     "execution_count": 203,
     "metadata": {},
     "output_type": "execute_result"
    },
    {
     "data": {
      "image/png": "[encoded data removed]",
      "text/plain": [
       "<Figure size 1000x400 with 1 Axes>"
      ]
     },
     "metadata": {},
     "output_type": "display_data"
    }
   ],
   "source": [
    "#Realizamos grafico de barras del Dataframe filtrado\n",
    "Filtro_index.plot(kind = 'bar', width=0.8, figsize=(10,4), color = \"red\")\n",
    "plt.title('Disponible 365')\n",
    "plt.xlabel('Categoria')\n",
    "plt.ylabel('Frecuencia')"
   ]
  },
  {
   "cell_type": "code",
   "execution_count": 204,
   "metadata": {},
   "outputs": [
    {
     "name": "stdout",
     "output_type": "stream",
     "text": [
      "<class 'pandas.core.series.Series'>\n",
      "RangeIndex: 8021 entries, 0 to 8020\n",
      "Series name: number_of_reviews\n",
      "Non-Null Count  Dtype  \n",
      "--------------  -----  \n",
      "8021 non-null   float64\n",
      "dtypes: float64(1)\n",
      "memory usage: 62.8 KB\n"
     ]
    }
   ],
   "source": [
    "Micro_Retailer_1['number_of_reviews'].info()\n",
    "n = 8021"
   ]
  },
  {
   "cell_type": "code",
   "execution_count": 205,
   "metadata": {},
   "outputs": [
    {
     "data": {
      "text/plain": [
       "[0.0, 42.0]"
      ]
     },
     "execution_count": 205,
     "metadata": {},
     "output_type": "execute_result"
    }
   ],
   "source": [
    "Min = Micro_Retailer_1['number_of_reviews'].min()  \n",
    "Max = Micro_Retailer_1['number_of_reviews'].max()  \n",
    "Limites = [Min,Max]\n",
    "Limites"
   ]
  },
  {
   "cell_type": "code",
   "execution_count": 206,
   "metadata": {},
   "outputs": [
    {
     "data": {
      "text/plain": [
       "42.0"
      ]
     },
     "execution_count": 206,
     "metadata": {},
     "output_type": "execute_result"
    }
   ],
   "source": [
    "R = Max - Min\n",
    "R"
   ]
  },
  {
   "cell_type": "code",
   "execution_count": 207,
   "metadata": {},
   "outputs": [
    {
     "data": {
      "text/plain": [
       "13.96203867424906"
      ]
     },
     "execution_count": 207,
     "metadata": {},
     "output_type": "execute_result"
    }
   ],
   "source": [
    "ni = 1+3.32*np.log10(n)\n",
    "ni"
   ]
  },
  {
   "cell_type": "code",
   "execution_count": 208,
   "metadata": {},
   "outputs": [
    {
     "data": {
      "text/plain": [
       "3.0081566868499556"
      ]
     },
     "execution_count": 208,
     "metadata": {},
     "output_type": "execute_result"
    }
   ],
   "source": [
    "i = R/ni\n",
    "i\n"
   ]
  },
  {
   "cell_type": "code",
   "execution_count": 209,
   "metadata": {},
   "outputs": [
    {
     "data": {
      "text/plain": [
       "array([ 0.        ,  3.23076923,  6.46153846,  9.69230769, 12.92307692,\n",
       "       16.15384615, 19.38461538, 22.61538462, 25.84615385, 29.07692308,\n",
       "       32.30769231, 35.53846154, 38.76923077, 42.        ])"
      ]
     },
     "execution_count": 209,
     "metadata": {},
     "output_type": "execute_result"
    }
   ],
   "source": [
    "# Ver resultado\n",
    "intervalos = np.linspace(0.0, 42.0, 14) #Número de clases más uno\n",
    "intervalos"
   ]
  },
  {
   "cell_type": "code",
   "execution_count": 210,
   "metadata": {},
   "outputs": [],
   "source": [
    "categorias = [\"Categoría1\", \"Categoría2\", \"Categoría3\", \"Categoría4\",\n",
    "              \"Categoría5\", \"Categoría6\", \"Categoría7\", \"Categoría8\",\n",
    "              \"Categoría9\",\"Categoría10\",\"Categoría11\",\"Categoría12\",\n",
    "              \"Categoria13\"]"
   ]
  },
  {
   "cell_type": "code",
   "execution_count": 211,
   "metadata": {},
   "outputs": [
    {
     "data": {
      "text/plain": [
       "0        Categoría6\n",
       "1        Categoría6\n",
       "2        Categoría6\n",
       "3       Categoria13\n",
       "4        Categoría6\n",
       "           ...     \n",
       "8016            NaN\n",
       "8017            NaN\n",
       "8018            NaN\n",
       "8019            NaN\n",
       "8020            NaN\n",
       "Name: number_of_reviews, Length: 8021, dtype: category\n",
       "Categories (13, object): ['Categoría1' < 'Categoría2' < 'Categoría3' < 'Categoría4' ... 'Categoría10' < 'Categoría11' < 'Categoría12' < 'Categoria13']"
      ]
     },
     "execution_count": 211,
     "metadata": {},
     "output_type": "execute_result"
    }
   ],
   "source": [
    "Micro_Retailer_1[\"number_of_reviews\"] = pd.cut(x = Micro_Retailer_1[\"number_of_reviews\"], bins = intervalos, labels = categorias)\n",
    "Micro_Retailer_1[\"number_of_reviews\"]"
   ]
  },
  {
   "cell_type": "code",
   "execution_count": 212,
   "metadata": {},
   "outputs": [
    {
     "data": {
      "text/html": [
       "<div>\n",
       "<style scoped>\n",
       "    .dataframe tbody tr th:only-of-type {\n",
       "        vertical-align: middle;\n",
       "    }\n",
       "\n",
       "    .dataframe tbody tr th {\n",
       "        vertical-align: top;\n",
       "    }\n",
       "\n",
       "    .dataframe thead th {\n",
       "        text-align: right;\n",
       "    }\n",
       "</style>\n",
       "<table border=\"1\" class=\"dataframe\">\n",
       "  <thead>\n",
       "    <tr style=\"text-align: right;\">\n",
       "      <th></th>\n",
       "      <th>number_of_reviews</th>\n",
       "      <th>frequency</th>\n",
       "      <th>percentage</th>\n",
       "      <th>cumulative_perc</th>\n",
       "    </tr>\n",
       "  </thead>\n",
       "  <tbody>\n",
       "    <tr>\n",
       "      <th>0</th>\n",
       "      <td>Categoría1</td>\n",
       "      <td>1693</td>\n",
       "      <td>0.211071</td>\n",
       "      <td>0.284538</td>\n",
       "    </tr>\n",
       "    <tr>\n",
       "      <th>1</th>\n",
       "      <td>Categoría6</td>\n",
       "      <td>1210</td>\n",
       "      <td>0.150854</td>\n",
       "      <td>0.487899</td>\n",
       "    </tr>\n",
       "    <tr>\n",
       "      <th>2</th>\n",
       "      <td>Categoría2</td>\n",
       "      <td>886</td>\n",
       "      <td>0.110460</td>\n",
       "      <td>0.636807</td>\n",
       "    </tr>\n",
       "    <tr>\n",
       "      <th>3</th>\n",
       "      <td>Categoría3</td>\n",
       "      <td>566</td>\n",
       "      <td>0.070565</td>\n",
       "      <td>0.731933</td>\n",
       "    </tr>\n",
       "    <tr>\n",
       "      <th>4</th>\n",
       "      <td>Categoría4</td>\n",
       "      <td>402</td>\n",
       "      <td>0.050118</td>\n",
       "      <td>0.799496</td>\n",
       "    </tr>\n",
       "    <tr>\n",
       "      <th>5</th>\n",
       "      <td>Categoría5</td>\n",
       "      <td>374</td>\n",
       "      <td>0.046628</td>\n",
       "      <td>0.862353</td>\n",
       "    </tr>\n",
       "    <tr>\n",
       "      <th>6</th>\n",
       "      <td>Categoría7</td>\n",
       "      <td>179</td>\n",
       "      <td>0.022316</td>\n",
       "      <td>0.892437</td>\n",
       "    </tr>\n",
       "    <tr>\n",
       "      <th>7</th>\n",
       "      <td>Categoría9</td>\n",
       "      <td>159</td>\n",
       "      <td>0.019823</td>\n",
       "      <td>0.919160</td>\n",
       "    </tr>\n",
       "    <tr>\n",
       "      <th>8</th>\n",
       "      <td>Categoría8</td>\n",
       "      <td>139</td>\n",
       "      <td>0.017330</td>\n",
       "      <td>0.942521</td>\n",
       "    </tr>\n",
       "    <tr>\n",
       "      <th>9</th>\n",
       "      <td>Categoría11</td>\n",
       "      <td>92</td>\n",
       "      <td>0.011470</td>\n",
       "      <td>0.957983</td>\n",
       "    </tr>\n",
       "    <tr>\n",
       "      <th>10</th>\n",
       "      <td>Categoría10</td>\n",
       "      <td>91</td>\n",
       "      <td>0.011345</td>\n",
       "      <td>0.973277</td>\n",
       "    </tr>\n",
       "    <tr>\n",
       "      <th>11</th>\n",
       "      <td>Categoria13</td>\n",
       "      <td>86</td>\n",
       "      <td>0.010722</td>\n",
       "      <td>0.987731</td>\n",
       "    </tr>\n",
       "    <tr>\n",
       "      <th>12</th>\n",
       "      <td>Categoría12</td>\n",
       "      <td>73</td>\n",
       "      <td>0.009101</td>\n",
       "      <td>1.000000</td>\n",
       "    </tr>\n",
       "  </tbody>\n",
       "</table>\n",
       "</div>"
      ],
      "text/plain": [
       "   number_of_reviews  frequency  percentage  cumulative_perc\n",
       "0         Categoría1       1693    0.211071         0.284538\n",
       "1         Categoría6       1210    0.150854         0.487899\n",
       "2         Categoría2        886    0.110460         0.636807\n",
       "3         Categoría3        566    0.070565         0.731933\n",
       "4         Categoría4        402    0.050118         0.799496\n",
       "5         Categoría5        374    0.046628         0.862353\n",
       "6         Categoría7        179    0.022316         0.892437\n",
       "7         Categoría9        159    0.019823         0.919160\n",
       "8         Categoría8        139    0.017330         0.942521\n",
       "9        Categoría11         92    0.011470         0.957983\n",
       "10       Categoría10         91    0.011345         0.973277\n",
       "11       Categoria13         86    0.010722         0.987731\n",
       "12       Categoría12         73    0.009101         1.000000"
      ]
     },
     "execution_count": 212,
     "metadata": {},
     "output_type": "execute_result"
    }
   ],
   "source": [
    "#Obtengo un análisis univariado de una variable categórica en específico  \n",
    "table19 = freq_tbl(Micro_Retailer_1['number_of_reviews'])\n",
    "table19"
   ]
  },
  {
   "cell_type": "code",
   "execution_count": 213,
   "metadata": {},
   "outputs": [
    {
     "data": {
      "text/html": [
       "<div>\n",
       "<style scoped>\n",
       "    .dataframe tbody tr th:only-of-type {\n",
       "        vertical-align: middle;\n",
       "    }\n",
       "\n",
       "    .dataframe tbody tr th {\n",
       "        vertical-align: top;\n",
       "    }\n",
       "\n",
       "    .dataframe thead th {\n",
       "        text-align: right;\n",
       "    }\n",
       "</style>\n",
       "<table border=\"1\" class=\"dataframe\">\n",
       "  <thead>\n",
       "    <tr style=\"text-align: right;\">\n",
       "      <th></th>\n",
       "      <th>number_of_reviews</th>\n",
       "      <th>frequency</th>\n",
       "    </tr>\n",
       "  </thead>\n",
       "  <tbody>\n",
       "    <tr>\n",
       "      <th>0</th>\n",
       "      <td>Categoría1</td>\n",
       "      <td>1693</td>\n",
       "    </tr>\n",
       "    <tr>\n",
       "      <th>1</th>\n",
       "      <td>Categoría6</td>\n",
       "      <td>1210</td>\n",
       "    </tr>\n",
       "    <tr>\n",
       "      <th>2</th>\n",
       "      <td>Categoría2</td>\n",
       "      <td>886</td>\n",
       "    </tr>\n",
       "    <tr>\n",
       "      <th>3</th>\n",
       "      <td>Categoría3</td>\n",
       "      <td>566</td>\n",
       "    </tr>\n",
       "    <tr>\n",
       "      <th>4</th>\n",
       "      <td>Categoría4</td>\n",
       "      <td>402</td>\n",
       "    </tr>\n",
       "    <tr>\n",
       "      <th>5</th>\n",
       "      <td>Categoría5</td>\n",
       "      <td>374</td>\n",
       "    </tr>\n",
       "    <tr>\n",
       "      <th>6</th>\n",
       "      <td>Categoría7</td>\n",
       "      <td>179</td>\n",
       "    </tr>\n",
       "    <tr>\n",
       "      <th>7</th>\n",
       "      <td>Categoría9</td>\n",
       "      <td>159</td>\n",
       "    </tr>\n",
       "    <tr>\n",
       "      <th>8</th>\n",
       "      <td>Categoría8</td>\n",
       "      <td>139</td>\n",
       "    </tr>\n",
       "    <tr>\n",
       "      <th>9</th>\n",
       "      <td>Categoría11</td>\n",
       "      <td>92</td>\n",
       "    </tr>\n",
       "    <tr>\n",
       "      <th>10</th>\n",
       "      <td>Categoría10</td>\n",
       "      <td>91</td>\n",
       "    </tr>\n",
       "    <tr>\n",
       "      <th>11</th>\n",
       "      <td>Categoria13</td>\n",
       "      <td>86</td>\n",
       "    </tr>\n",
       "    <tr>\n",
       "      <th>12</th>\n",
       "      <td>Categoría12</td>\n",
       "      <td>73</td>\n",
       "    </tr>\n",
       "  </tbody>\n",
       "</table>\n",
       "</div>"
      ],
      "text/plain": [
       "   number_of_reviews  frequency\n",
       "0         Categoría1       1693\n",
       "1         Categoría6       1210\n",
       "2         Categoría2        886\n",
       "3         Categoría3        566\n",
       "4         Categoría4        402\n",
       "5         Categoría5        374\n",
       "6         Categoría7        179\n",
       "7         Categoría9        159\n",
       "8         Categoría8        139\n",
       "9        Categoría11         92\n",
       "10       Categoría10         91\n",
       "11       Categoria13         86\n",
       "12       Categoría12         73"
      ]
     },
     "execution_count": 213,
     "metadata": {},
     "output_type": "execute_result"
    }
   ],
   "source": [
    "#Elimino las columnas \"procentage\" y \"cumulative_perc\" para trabajar con las fecuencias\n",
    "table20 = table19.drop(['percentage', 'cumulative_perc'], axis=1)\n",
    "table20\n"
   ]
  },
  {
   "cell_type": "code",
   "execution_count": 214,
   "metadata": {},
   "outputs": [
    {
     "data": {
      "text/html": [
       "<div>\n",
       "<style scoped>\n",
       "    .dataframe tbody tr th:only-of-type {\n",
       "        vertical-align: middle;\n",
       "    }\n",
       "\n",
       "    .dataframe tbody tr th {\n",
       "        vertical-align: top;\n",
       "    }\n",
       "\n",
       "    .dataframe thead th {\n",
       "        text-align: right;\n",
       "    }\n",
       "</style>\n",
       "<table border=\"1\" class=\"dataframe\">\n",
       "  <thead>\n",
       "    <tr style=\"text-align: right;\">\n",
       "      <th></th>\n",
       "      <th>number_of_reviews</th>\n",
       "      <th>frequency</th>\n",
       "    </tr>\n",
       "  </thead>\n",
       "  <tbody>\n",
       "    <tr>\n",
       "      <th>0</th>\n",
       "      <td>Categoría1</td>\n",
       "      <td>1693</td>\n",
       "    </tr>\n",
       "    <tr>\n",
       "      <th>1</th>\n",
       "      <td>Categoría6</td>\n",
       "      <td>1210</td>\n",
       "    </tr>\n",
       "    <tr>\n",
       "      <th>2</th>\n",
       "      <td>Categoría2</td>\n",
       "      <td>886</td>\n",
       "    </tr>\n",
       "    <tr>\n",
       "      <th>3</th>\n",
       "      <td>Categoría3</td>\n",
       "      <td>566</td>\n",
       "    </tr>\n",
       "    <tr>\n",
       "      <th>4</th>\n",
       "      <td>Categoría4</td>\n",
       "      <td>402</td>\n",
       "    </tr>\n",
       "    <tr>\n",
       "      <th>5</th>\n",
       "      <td>Categoría5</td>\n",
       "      <td>374</td>\n",
       "    </tr>\n",
       "    <tr>\n",
       "      <th>6</th>\n",
       "      <td>Categoría7</td>\n",
       "      <td>179</td>\n",
       "    </tr>\n",
       "    <tr>\n",
       "      <th>7</th>\n",
       "      <td>Categoría9</td>\n",
       "      <td>159</td>\n",
       "    </tr>\n",
       "    <tr>\n",
       "      <th>8</th>\n",
       "      <td>Categoría8</td>\n",
       "      <td>139</td>\n",
       "    </tr>\n",
       "  </tbody>\n",
       "</table>\n",
       "</div>"
      ],
      "text/plain": [
       "  number_of_reviews  frequency\n",
       "0        Categoría1       1693\n",
       "1        Categoría6       1210\n",
       "2        Categoría2        886\n",
       "3        Categoría3        566\n",
       "4        Categoría4        402\n",
       "5        Categoría5        374\n",
       "6        Categoría7        179\n",
       "7        Categoría9        159\n",
       "8        Categoría8        139"
      ]
     },
     "execution_count": 214,
     "metadata": {},
     "output_type": "execute_result"
    }
   ],
   "source": [
    "filtro10 = table20[table20['frequency'] > 100]\n",
    "filtro10"
   ]
  },
  {
   "cell_type": "code",
   "execution_count": 215,
   "metadata": {},
   "outputs": [
    {
     "data": {
      "text/html": [
       "<div>\n",
       "<style scoped>\n",
       "    .dataframe tbody tr th:only-of-type {\n",
       "        vertical-align: middle;\n",
       "    }\n",
       "\n",
       "    .dataframe tbody tr th {\n",
       "        vertical-align: top;\n",
       "    }\n",
       "\n",
       "    .dataframe thead th {\n",
       "        text-align: right;\n",
       "    }\n",
       "</style>\n",
       "<table border=\"1\" class=\"dataframe\">\n",
       "  <thead>\n",
       "    <tr style=\"text-align: right;\">\n",
       "      <th></th>\n",
       "      <th>frequency</th>\n",
       "    </tr>\n",
       "    <tr>\n",
       "      <th>number_of_reviews</th>\n",
       "      <th></th>\n",
       "    </tr>\n",
       "  </thead>\n",
       "  <tbody>\n",
       "    <tr>\n",
       "      <th>Categoría1</th>\n",
       "      <td>1693</td>\n",
       "    </tr>\n",
       "    <tr>\n",
       "      <th>Categoría6</th>\n",
       "      <td>1210</td>\n",
       "    </tr>\n",
       "    <tr>\n",
       "      <th>Categoría2</th>\n",
       "      <td>886</td>\n",
       "    </tr>\n",
       "    <tr>\n",
       "      <th>Categoría3</th>\n",
       "      <td>566</td>\n",
       "    </tr>\n",
       "    <tr>\n",
       "      <th>Categoría4</th>\n",
       "      <td>402</td>\n",
       "    </tr>\n",
       "    <tr>\n",
       "      <th>Categoría5</th>\n",
       "      <td>374</td>\n",
       "    </tr>\n",
       "    <tr>\n",
       "      <th>Categoría7</th>\n",
       "      <td>179</td>\n",
       "    </tr>\n",
       "    <tr>\n",
       "      <th>Categoría9</th>\n",
       "      <td>159</td>\n",
       "    </tr>\n",
       "    <tr>\n",
       "      <th>Categoría8</th>\n",
       "      <td>139</td>\n",
       "    </tr>\n",
       "  </tbody>\n",
       "</table>\n",
       "</div>"
      ],
      "text/plain": [
       "                   frequency\n",
       "number_of_reviews           \n",
       "Categoría1              1693\n",
       "Categoría6              1210\n",
       "Categoría2               886\n",
       "Categoría3               566\n",
       "Categoría4               402\n",
       "Categoría5               374\n",
       "Categoría7               179\n",
       "Categoría9               159\n",
       "Categoría8               139"
      ]
     },
     "execution_count": 215,
     "metadata": {},
     "output_type": "execute_result"
    }
   ],
   "source": [
    "#Ajusto el indice de mi DataFrame\n",
    "Filtro_index = filtro10.set_index(\"number_of_reviews\")\n",
    "Filtro_index"
   ]
  },
  {
   "cell_type": "code",
   "execution_count": 216,
   "metadata": {},
   "outputs": [
    {
     "data": {
      "text/plain": [
       "Text(0, 0.5, 'Frecuencia')"
      ]
     },
     "execution_count": 216,
     "metadata": {},
     "output_type": "execute_result"
    },
    {
     "data": {
      "image/png": "[encoded data removed]",
      "text/plain": [
       "<Figure size 1000x400 with 1 Axes>"
      ]
     },
     "metadata": {},
     "output_type": "display_data"
    }
   ],
   "source": [
    "#Realizamos grafico de barras del Dataframe filtrado\n",
    "Filtro_index.plot(kind = 'bar', width=0.8, figsize=(10,4), color = \"red\")\n",
    "plt.title('Numero de reseñas')\n",
    "plt.xlabel('Categoria')\n",
    "plt.ylabel('Frecuencia')"
   ]
  },
  {
   "cell_type": "code",
   "execution_count": 217,
   "metadata": {},
   "outputs": [
    {
     "name": "stdout",
     "output_type": "stream",
     "text": [
      "<class 'pandas.core.series.Series'>\n",
      "RangeIndex: 8021 entries, 0 to 8020\n",
      "Series name: review_scores_location\n",
      "Non-Null Count  Dtype  \n",
      "--------------  -----  \n",
      "8021 non-null   float64\n",
      "dtypes: float64(1)\n",
      "memory usage: 62.8 KB\n"
     ]
    }
   ],
   "source": [
    "Micro_Retailer_1['review_scores_location'].info()\n",
    "n = 8021"
   ]
  },
  {
   "cell_type": "code",
   "execution_count": 218,
   "metadata": {},
   "outputs": [
    {
     "data": {
      "text/plain": [
       "[4.46, 5.0]"
      ]
     },
     "execution_count": 218,
     "metadata": {},
     "output_type": "execute_result"
    }
   ],
   "source": [
    "Min = Micro_Retailer_1['review_scores_location'].min()  \n",
    "Max = Micro_Retailer_1['review_scores_location'].max()  \n",
    "Limites = [Min,Max]\n",
    "Limites"
   ]
  },
  {
   "cell_type": "code",
   "execution_count": 219,
   "metadata": {},
   "outputs": [
    {
     "data": {
      "text/plain": [
       "0.54"
      ]
     },
     "execution_count": 219,
     "metadata": {},
     "output_type": "execute_result"
    }
   ],
   "source": [
    "R = Max - Min\n",
    "R"
   ]
  },
  {
   "cell_type": "code",
   "execution_count": 220,
   "metadata": {},
   "outputs": [
    {
     "data": {
      "text/plain": [
       "13.96203867424906"
      ]
     },
     "execution_count": 220,
     "metadata": {},
     "output_type": "execute_result"
    }
   ],
   "source": [
    "ni = 1+3.32*np.log10(n)\n",
    "ni"
   ]
  },
  {
   "cell_type": "code",
   "execution_count": 221,
   "metadata": {},
   "outputs": [
    {
     "data": {
      "text/plain": [
       "0.03867630025949943"
      ]
     },
     "execution_count": 221,
     "metadata": {},
     "output_type": "execute_result"
    }
   ],
   "source": [
    "i = R/ni\n",
    "i"
   ]
  },
  {
   "cell_type": "code",
   "execution_count": 222,
   "metadata": {},
   "outputs": [
    {
     "data": {
      "text/plain": [
       "array([4.6       , 4.63076923, 4.66153846, 4.69230769, 4.72307692,\n",
       "       4.75384615, 4.78461538, 4.81538462, 4.84615385, 4.87692308,\n",
       "       4.90769231, 4.93846154, 4.96923077, 5.        ])"
      ]
     },
     "execution_count": 222,
     "metadata": {},
     "output_type": "execute_result"
    }
   ],
   "source": [
    "# Ver resultado\n",
    "intervalos = np.linspace(4.6, 5.0, 14) #Número de clases más uno\n",
    "intervalos"
   ]
  },
  {
   "cell_type": "code",
   "execution_count": 223,
   "metadata": {},
   "outputs": [],
   "source": [
    "categorias = [\"Categoría1\", \"Categoría2\", \"Categoría3\", \"Categoría4\",\n",
    "              \"Categoría5\", \"Categoría6\", \"Categoría7\", \"Categoría8\",\n",
    "              \"Categoría9\",\"Categoría10\",\"Categoría11\",\"Categoría12\",\n",
    "              \"Categoria13\"]"
   ]
  },
  {
   "cell_type": "code",
   "execution_count": 224,
   "metadata": {},
   "outputs": [
    {
     "data": {
      "text/plain": [
       "0        Categoría6\n",
       "1        Categoría2\n",
       "2       Categoría11\n",
       "3               NaN\n",
       "4        Categoría6\n",
       "           ...     \n",
       "8016    Categoría10\n",
       "8017    Categoría10\n",
       "8018    Categoría10\n",
       "8019    Categoría10\n",
       "8020    Categoría10\n",
       "Name: review_scores_location, Length: 8021, dtype: category\n",
       "Categories (13, object): ['Categoría1' < 'Categoría2' < 'Categoría3' < 'Categoría4' ... 'Categoría10' < 'Categoría11' < 'Categoría12' < 'Categoria13']"
      ]
     },
     "execution_count": 224,
     "metadata": {},
     "output_type": "execute_result"
    }
   ],
   "source": [
    "Micro_Retailer_1[\"review_scores_location\"] = pd.cut(x = Micro_Retailer_1[\"review_scores_location\"], bins = intervalos, labels = categorias)\n",
    "Micro_Retailer_1[\"review_scores_location\"]"
   ]
  },
  {
   "cell_type": "code",
   "execution_count": 225,
   "metadata": {},
   "outputs": [
    {
     "data": {
      "text/html": [
       "<div>\n",
       "<style scoped>\n",
       "    .dataframe tbody tr th:only-of-type {\n",
       "        vertical-align: middle;\n",
       "    }\n",
       "\n",
       "    .dataframe tbody tr th {\n",
       "        vertical-align: top;\n",
       "    }\n",
       "\n",
       "    .dataframe thead th {\n",
       "        text-align: right;\n",
       "    }\n",
       "</style>\n",
       "<table border=\"1\" class=\"dataframe\">\n",
       "  <thead>\n",
       "    <tr style=\"text-align: right;\">\n",
       "      <th></th>\n",
       "      <th>review_scores_location</th>\n",
       "      <th>frequency</th>\n",
       "      <th>percentage</th>\n",
       "      <th>cumulative_perc</th>\n",
       "    </tr>\n",
       "  </thead>\n",
       "  <tbody>\n",
       "    <tr>\n",
       "      <th>0</th>\n",
       "      <td>Categoría10</td>\n",
       "      <td>2429</td>\n",
       "      <td>0.302830</td>\n",
       "      <td>0.321935</td>\n",
       "    </tr>\n",
       "    <tr>\n",
       "      <th>1</th>\n",
       "      <td>Categoria13</td>\n",
       "      <td>2246</td>\n",
       "      <td>0.280015</td>\n",
       "      <td>0.619616</td>\n",
       "    </tr>\n",
       "    <tr>\n",
       "      <th>2</th>\n",
       "      <td>Categoría7</td>\n",
       "      <td>781</td>\n",
       "      <td>0.097369</td>\n",
       "      <td>0.723128</td>\n",
       "    </tr>\n",
       "    <tr>\n",
       "      <th>3</th>\n",
       "      <td>Categoría5</td>\n",
       "      <td>302</td>\n",
       "      <td>0.037651</td>\n",
       "      <td>0.763154</td>\n",
       "    </tr>\n",
       "    <tr>\n",
       "      <th>4</th>\n",
       "      <td>Categoría3</td>\n",
       "      <td>286</td>\n",
       "      <td>0.035656</td>\n",
       "      <td>0.801060</td>\n",
       "    </tr>\n",
       "    <tr>\n",
       "      <th>5</th>\n",
       "      <td>Categoría8</td>\n",
       "      <td>279</td>\n",
       "      <td>0.034784</td>\n",
       "      <td>0.838038</td>\n",
       "    </tr>\n",
       "    <tr>\n",
       "      <th>6</th>\n",
       "      <td>Categoría9</td>\n",
       "      <td>264</td>\n",
       "      <td>0.032914</td>\n",
       "      <td>0.873028</td>\n",
       "    </tr>\n",
       "    <tr>\n",
       "      <th>7</th>\n",
       "      <td>Categoría11</td>\n",
       "      <td>261</td>\n",
       "      <td>0.032540</td>\n",
       "      <td>0.907621</td>\n",
       "    </tr>\n",
       "    <tr>\n",
       "      <th>8</th>\n",
       "      <td>Categoría12</td>\n",
       "      <td>210</td>\n",
       "      <td>0.026181</td>\n",
       "      <td>0.935454</td>\n",
       "    </tr>\n",
       "    <tr>\n",
       "      <th>9</th>\n",
       "      <td>Categoría6</td>\n",
       "      <td>181</td>\n",
       "      <td>0.022566</td>\n",
       "      <td>0.959443</td>\n",
       "    </tr>\n",
       "    <tr>\n",
       "      <th>10</th>\n",
       "      <td>Categoría4</td>\n",
       "      <td>144</td>\n",
       "      <td>0.017953</td>\n",
       "      <td>0.978529</td>\n",
       "    </tr>\n",
       "    <tr>\n",
       "      <th>11</th>\n",
       "      <td>Categoría1</td>\n",
       "      <td>90</td>\n",
       "      <td>0.011221</td>\n",
       "      <td>0.990457</td>\n",
       "    </tr>\n",
       "    <tr>\n",
       "      <th>12</th>\n",
       "      <td>Categoría2</td>\n",
       "      <td>72</td>\n",
       "      <td>0.008976</td>\n",
       "      <td>1.000000</td>\n",
       "    </tr>\n",
       "  </tbody>\n",
       "</table>\n",
       "</div>"
      ],
      "text/plain": [
       "   review_scores_location  frequency  percentage  cumulative_perc\n",
       "0             Categoría10       2429    0.302830         0.321935\n",
       "1             Categoria13       2246    0.280015         0.619616\n",
       "2              Categoría7        781    0.097369         0.723128\n",
       "3              Categoría5        302    0.037651         0.763154\n",
       "4              Categoría3        286    0.035656         0.801060\n",
       "5              Categoría8        279    0.034784         0.838038\n",
       "6              Categoría9        264    0.032914         0.873028\n",
       "7             Categoría11        261    0.032540         0.907621\n",
       "8             Categoría12        210    0.026181         0.935454\n",
       "9              Categoría6        181    0.022566         0.959443\n",
       "10             Categoría4        144    0.017953         0.978529\n",
       "11             Categoría1         90    0.011221         0.990457\n",
       "12             Categoría2         72    0.008976         1.000000"
      ]
     },
     "execution_count": 225,
     "metadata": {},
     "output_type": "execute_result"
    }
   ],
   "source": [
    "#Obtengo un análisis univariado de una variable categórica en específico  \n",
    "table21 = freq_tbl(Micro_Retailer_1['review_scores_location'])\n",
    "table21"
   ]
  },
  {
   "cell_type": "code",
   "execution_count": 226,
   "metadata": {},
   "outputs": [
    {
     "data": {
      "text/html": [
       "<div>\n",
       "<style scoped>\n",
       "    .dataframe tbody tr th:only-of-type {\n",
       "        vertical-align: middle;\n",
       "    }\n",
       "\n",
       "    .dataframe tbody tr th {\n",
       "        vertical-align: top;\n",
       "    }\n",
       "\n",
       "    .dataframe thead th {\n",
       "        text-align: right;\n",
       "    }\n",
       "</style>\n",
       "<table border=\"1\" class=\"dataframe\">\n",
       "  <thead>\n",
       "    <tr style=\"text-align: right;\">\n",
       "      <th></th>\n",
       "      <th>review_scores_location</th>\n",
       "      <th>frequency</th>\n",
       "    </tr>\n",
       "  </thead>\n",
       "  <tbody>\n",
       "    <tr>\n",
       "      <th>0</th>\n",
       "      <td>Categoría10</td>\n",
       "      <td>2429</td>\n",
       "    </tr>\n",
       "    <tr>\n",
       "      <th>1</th>\n",
       "      <td>Categoria13</td>\n",
       "      <td>2246</td>\n",
       "    </tr>\n",
       "    <tr>\n",
       "      <th>2</th>\n",
       "      <td>Categoría7</td>\n",
       "      <td>781</td>\n",
       "    </tr>\n",
       "    <tr>\n",
       "      <th>3</th>\n",
       "      <td>Categoría5</td>\n",
       "      <td>302</td>\n",
       "    </tr>\n",
       "    <tr>\n",
       "      <th>4</th>\n",
       "      <td>Categoría3</td>\n",
       "      <td>286</td>\n",
       "    </tr>\n",
       "    <tr>\n",
       "      <th>5</th>\n",
       "      <td>Categoría8</td>\n",
       "      <td>279</td>\n",
       "    </tr>\n",
       "    <tr>\n",
       "      <th>6</th>\n",
       "      <td>Categoría9</td>\n",
       "      <td>264</td>\n",
       "    </tr>\n",
       "    <tr>\n",
       "      <th>7</th>\n",
       "      <td>Categoría11</td>\n",
       "      <td>261</td>\n",
       "    </tr>\n",
       "    <tr>\n",
       "      <th>8</th>\n",
       "      <td>Categoría12</td>\n",
       "      <td>210</td>\n",
       "    </tr>\n",
       "    <tr>\n",
       "      <th>9</th>\n",
       "      <td>Categoría6</td>\n",
       "      <td>181</td>\n",
       "    </tr>\n",
       "    <tr>\n",
       "      <th>10</th>\n",
       "      <td>Categoría4</td>\n",
       "      <td>144</td>\n",
       "    </tr>\n",
       "    <tr>\n",
       "      <th>11</th>\n",
       "      <td>Categoría1</td>\n",
       "      <td>90</td>\n",
       "    </tr>\n",
       "    <tr>\n",
       "      <th>12</th>\n",
       "      <td>Categoría2</td>\n",
       "      <td>72</td>\n",
       "    </tr>\n",
       "  </tbody>\n",
       "</table>\n",
       "</div>"
      ],
      "text/plain": [
       "   review_scores_location  frequency\n",
       "0             Categoría10       2429\n",
       "1             Categoria13       2246\n",
       "2              Categoría7        781\n",
       "3              Categoría5        302\n",
       "4              Categoría3        286\n",
       "5              Categoría8        279\n",
       "6              Categoría9        264\n",
       "7             Categoría11        261\n",
       "8             Categoría12        210\n",
       "9              Categoría6        181\n",
       "10             Categoría4        144\n",
       "11             Categoría1         90\n",
       "12             Categoría2         72"
      ]
     },
     "execution_count": 226,
     "metadata": {},
     "output_type": "execute_result"
    }
   ],
   "source": [
    "#Elimino las columnas \"procentage\" y \"cumulative_perc\" para trabajar con las fecuencias\n",
    "table22 = table21.drop(['percentage', 'cumulative_perc'], axis=1)\n",
    "table22"
   ]
  },
  {
   "cell_type": "code",
   "execution_count": 227,
   "metadata": {},
   "outputs": [
    {
     "data": {
      "text/html": [
       "<div>\n",
       "<style scoped>\n",
       "    .dataframe tbody tr th:only-of-type {\n",
       "        vertical-align: middle;\n",
       "    }\n",
       "\n",
       "    .dataframe tbody tr th {\n",
       "        vertical-align: top;\n",
       "    }\n",
       "\n",
       "    .dataframe thead th {\n",
       "        text-align: right;\n",
       "    }\n",
       "</style>\n",
       "<table border=\"1\" class=\"dataframe\">\n",
       "  <thead>\n",
       "    <tr style=\"text-align: right;\">\n",
       "      <th></th>\n",
       "      <th>review_scores_location</th>\n",
       "      <th>frequency</th>\n",
       "    </tr>\n",
       "  </thead>\n",
       "  <tbody>\n",
       "    <tr>\n",
       "      <th>0</th>\n",
       "      <td>Categoría10</td>\n",
       "      <td>2429</td>\n",
       "    </tr>\n",
       "    <tr>\n",
       "      <th>1</th>\n",
       "      <td>Categoria13</td>\n",
       "      <td>2246</td>\n",
       "    </tr>\n",
       "    <tr>\n",
       "      <th>2</th>\n",
       "      <td>Categoría7</td>\n",
       "      <td>781</td>\n",
       "    </tr>\n",
       "    <tr>\n",
       "      <th>3</th>\n",
       "      <td>Categoría5</td>\n",
       "      <td>302</td>\n",
       "    </tr>\n",
       "    <tr>\n",
       "      <th>4</th>\n",
       "      <td>Categoría3</td>\n",
       "      <td>286</td>\n",
       "    </tr>\n",
       "    <tr>\n",
       "      <th>5</th>\n",
       "      <td>Categoría8</td>\n",
       "      <td>279</td>\n",
       "    </tr>\n",
       "    <tr>\n",
       "      <th>6</th>\n",
       "      <td>Categoría9</td>\n",
       "      <td>264</td>\n",
       "    </tr>\n",
       "    <tr>\n",
       "      <th>7</th>\n",
       "      <td>Categoría11</td>\n",
       "      <td>261</td>\n",
       "    </tr>\n",
       "    <tr>\n",
       "      <th>8</th>\n",
       "      <td>Categoría12</td>\n",
       "      <td>210</td>\n",
       "    </tr>\n",
       "    <tr>\n",
       "      <th>9</th>\n",
       "      <td>Categoría6</td>\n",
       "      <td>181</td>\n",
       "    </tr>\n",
       "    <tr>\n",
       "      <th>10</th>\n",
       "      <td>Categoría4</td>\n",
       "      <td>144</td>\n",
       "    </tr>\n",
       "  </tbody>\n",
       "</table>\n",
       "</div>"
      ],
      "text/plain": [
       "   review_scores_location  frequency\n",
       "0             Categoría10       2429\n",
       "1             Categoria13       2246\n",
       "2              Categoría7        781\n",
       "3              Categoría5        302\n",
       "4              Categoría3        286\n",
       "5              Categoría8        279\n",
       "6              Categoría9        264\n",
       "7             Categoría11        261\n",
       "8             Categoría12        210\n",
       "9              Categoría6        181\n",
       "10             Categoría4        144"
      ]
     },
     "execution_count": 227,
     "metadata": {},
     "output_type": "execute_result"
    }
   ],
   "source": [
    "filtro11 = table22[table22['frequency'] > 100]\n",
    "filtro11"
   ]
  },
  {
   "cell_type": "code",
   "execution_count": 228,
   "metadata": {},
   "outputs": [
    {
     "data": {
      "text/html": [
       "<div>\n",
       "<style scoped>\n",
       "    .dataframe tbody tr th:only-of-type {\n",
       "        vertical-align: middle;\n",
       "    }\n",
       "\n",
       "    .dataframe tbody tr th {\n",
       "        vertical-align: top;\n",
       "    }\n",
       "\n",
       "    .dataframe thead th {\n",
       "        text-align: right;\n",
       "    }\n",
       "</style>\n",
       "<table border=\"1\" class=\"dataframe\">\n",
       "  <thead>\n",
       "    <tr style=\"text-align: right;\">\n",
       "      <th></th>\n",
       "      <th>frequency</th>\n",
       "    </tr>\n",
       "    <tr>\n",
       "      <th>review_scores_location</th>\n",
       "      <th></th>\n",
       "    </tr>\n",
       "  </thead>\n",
       "  <tbody>\n",
       "    <tr>\n",
       "      <th>Categoría10</th>\n",
       "      <td>2429</td>\n",
       "    </tr>\n",
       "    <tr>\n",
       "      <th>Categoria13</th>\n",
       "      <td>2246</td>\n",
       "    </tr>\n",
       "    <tr>\n",
       "      <th>Categoría7</th>\n",
       "      <td>781</td>\n",
       "    </tr>\n",
       "    <tr>\n",
       "      <th>Categoría5</th>\n",
       "      <td>302</td>\n",
       "    </tr>\n",
       "    <tr>\n",
       "      <th>Categoría3</th>\n",
       "      <td>286</td>\n",
       "    </tr>\n",
       "    <tr>\n",
       "      <th>Categoría8</th>\n",
       "      <td>279</td>\n",
       "    </tr>\n",
       "    <tr>\n",
       "      <th>Categoría9</th>\n",
       "      <td>264</td>\n",
       "    </tr>\n",
       "    <tr>\n",
       "      <th>Categoría11</th>\n",
       "      <td>261</td>\n",
       "    </tr>\n",
       "    <tr>\n",
       "      <th>Categoría12</th>\n",
       "      <td>210</td>\n",
       "    </tr>\n",
       "    <tr>\n",
       "      <th>Categoría6</th>\n",
       "      <td>181</td>\n",
       "    </tr>\n",
       "    <tr>\n",
       "      <th>Categoría4</th>\n",
       "      <td>144</td>\n",
       "    </tr>\n",
       "  </tbody>\n",
       "</table>\n",
       "</div>"
      ],
      "text/plain": [
       "                        frequency\n",
       "review_scores_location           \n",
       "Categoría10                  2429\n",
       "Categoria13                  2246\n",
       "Categoría7                    781\n",
       "Categoría5                    302\n",
       "Categoría3                    286\n",
       "Categoría8                    279\n",
       "Categoría9                    264\n",
       "Categoría11                   261\n",
       "Categoría12                   210\n",
       "Categoría6                    181\n",
       "Categoría4                    144"
      ]
     },
     "execution_count": 228,
     "metadata": {},
     "output_type": "execute_result"
    }
   ],
   "source": [
    "#Ajusto el indice de mi DataFrame\n",
    "Filtro_index = filtro11.set_index(\"review_scores_location\")\n",
    "Filtro_index"
   ]
  },
  {
   "cell_type": "code",
   "execution_count": 229,
   "metadata": {},
   "outputs": [
    {
     "data": {
      "text/plain": [
       "Text(0, 0.5, 'Frecuencia')"
      ]
     },
     "execution_count": 229,
     "metadata": {},
     "output_type": "execute_result"
    },
    {
     "data": {
      "image/png": "[encoded data removed]",
      "text/plain": [
       "<Figure size 1000x400 with 1 Axes>"
      ]
     },
     "metadata": {},
     "output_type": "display_data"
    }
   ],
   "source": [
    "#Realizamos grafico de barras del Dataframe filtrado\n",
    "Filtro_index.plot(kind = 'bar', width=0.8, figsize=(10,4), color = \"red\")\n",
    "plt.title('Puntuacion de locacion')\n",
    "plt.xlabel('Categoria')\n",
    "plt.ylabel('Frecuencia')"
   ]
  },
  {
   "cell_type": "code",
   "execution_count": 230,
   "metadata": {},
   "outputs": [
    {
     "name": "stdout",
     "output_type": "stream",
     "text": [
      "<class 'pandas.core.series.Series'>\n",
      "RangeIndex: 8021 entries, 0 to 8020\n",
      "Series name: review_scores_value\n",
      "Non-Null Count  Dtype  \n",
      "--------------  -----  \n",
      "8021 non-null   float64\n",
      "dtypes: float64(1)\n",
      "memory usage: 62.8 KB\n"
     ]
    }
   ],
   "source": [
    "Micro_Retailer_1['review_scores_value'].info()\n",
    "n = 8021"
   ]
  },
  {
   "cell_type": "code",
   "execution_count": 231,
   "metadata": {},
   "outputs": [
    {
     "data": {
      "text/plain": [
       "[3.75, 5.0]"
      ]
     },
     "execution_count": 231,
     "metadata": {},
     "output_type": "execute_result"
    }
   ],
   "source": [
    "Min = Micro_Retailer_1['review_scores_value'].min()  \n",
    "Max = Micro_Retailer_1['review_scores_value'].max()  \n",
    "Limites = [Min,Max]\n",
    "Limites"
   ]
  },
  {
   "cell_type": "code",
   "execution_count": 232,
   "metadata": {},
   "outputs": [
    {
     "data": {
      "text/plain": [
       "1.25"
      ]
     },
     "execution_count": 232,
     "metadata": {},
     "output_type": "execute_result"
    }
   ],
   "source": [
    "R = Max - Min\n",
    "R"
   ]
  },
  {
   "cell_type": "code",
   "execution_count": 233,
   "metadata": {},
   "outputs": [
    {
     "data": {
      "text/plain": [
       "13.96203867424906"
      ]
     },
     "execution_count": 233,
     "metadata": {},
     "output_type": "execute_result"
    }
   ],
   "source": [
    "ni = 1+3.32*np.log10(n)\n",
    "ni"
   ]
  },
  {
   "cell_type": "code",
   "execution_count": 235,
   "metadata": {},
   "outputs": [
    {
     "data": {
      "text/plain": [
       "array([3.75      , 3.84615385, 3.94230769, 4.03846154, 4.13461538,\n",
       "       4.23076923, 4.32692308, 4.42307692, 4.51923077, 4.61538462,\n",
       "       4.71153846, 4.80769231, 4.90384615, 5.        ])"
      ]
     },
     "execution_count": 235,
     "metadata": {},
     "output_type": "execute_result"
    }
   ],
   "source": [
    "# Ver resultado\n",
    "intervalos = np.linspace(3.75, 5.0, 14) #Número de clases más uno\n",
    "intervalos"
   ]
  },
  {
   "cell_type": "code",
   "execution_count": 236,
   "metadata": {},
   "outputs": [],
   "source": [
    "categorias = [\"Categoría1\", \"Categoría2\", \"Categoría3\", \"Categoría4\",\n",
    "              \"Categoría5\", \"Categoría6\", \"Categoría7\", \"Categoría8\",\n",
    "              \"Categoría9\",\"Categoría10\",\"Categoría11\",\"Categoría12\",\n",
    "              \"Categoria13\"]"
   ]
  },
  {
   "cell_type": "code",
   "execution_count": 237,
   "metadata": {},
   "outputs": [
    {
     "data": {
      "text/plain": [
       "0       Categoría11\n",
       "1        Categoría9\n",
       "2       Categoría12\n",
       "3        Categoría8\n",
       "4       Categoria13\n",
       "           ...     \n",
       "8016    Categoria13\n",
       "8017    Categoria13\n",
       "8018    Categoria13\n",
       "8019    Categoria13\n",
       "8020    Categoria13\n",
       "Name: review_scores_value, Length: 8021, dtype: category\n",
       "Categories (13, object): ['Categoría1' < 'Categoría2' < 'Categoría3' < 'Categoría4' ... 'Categoría10' < 'Categoría11' < 'Categoría12' < 'Categoria13']"
      ]
     },
     "execution_count": 237,
     "metadata": {},
     "output_type": "execute_result"
    }
   ],
   "source": [
    "Micro_Retailer_1['review_scores_value'] = pd.cut(x = Micro_Retailer_1['review_scores_value'], bins = intervalos, labels = categorias)\n",
    "Micro_Retailer_1['review_scores_value']"
   ]
  },
  {
   "cell_type": "code",
   "execution_count": 238,
   "metadata": {},
   "outputs": [
    {
     "data": {
      "text/html": [
       "<div>\n",
       "<style scoped>\n",
       "    .dataframe tbody tr th:only-of-type {\n",
       "        vertical-align: middle;\n",
       "    }\n",
       "\n",
       "    .dataframe tbody tr th {\n",
       "        vertical-align: top;\n",
       "    }\n",
       "\n",
       "    .dataframe thead th {\n",
       "        text-align: right;\n",
       "    }\n",
       "</style>\n",
       "<table border=\"1\" class=\"dataframe\">\n",
       "  <thead>\n",
       "    <tr style=\"text-align: right;\">\n",
       "      <th></th>\n",
       "      <th>review_scores_value</th>\n",
       "      <th>frequency</th>\n",
       "      <th>percentage</th>\n",
       "      <th>cumulative_perc</th>\n",
       "    </tr>\n",
       "  </thead>\n",
       "  <tbody>\n",
       "    <tr>\n",
       "      <th>0</th>\n",
       "      <td>Categoria13</td>\n",
       "      <td>2453</td>\n",
       "      <td>0.305822</td>\n",
       "      <td>0.306472</td>\n",
       "    </tr>\n",
       "    <tr>\n",
       "      <th>1</th>\n",
       "      <td>Categoría10</td>\n",
       "      <td>1311</td>\n",
       "      <td>0.163446</td>\n",
       "      <td>0.470265</td>\n",
       "    </tr>\n",
       "    <tr>\n",
       "      <th>2</th>\n",
       "      <td>Categoría11</td>\n",
       "      <td>949</td>\n",
       "      <td>0.118314</td>\n",
       "      <td>0.588831</td>\n",
       "    </tr>\n",
       "    <tr>\n",
       "      <th>3</th>\n",
       "      <td>Categoría12</td>\n",
       "      <td>826</td>\n",
       "      <td>0.102980</td>\n",
       "      <td>0.692029</td>\n",
       "    </tr>\n",
       "    <tr>\n",
       "      <th>4</th>\n",
       "      <td>Categoría8</td>\n",
       "      <td>684</td>\n",
       "      <td>0.085276</td>\n",
       "      <td>0.777486</td>\n",
       "    </tr>\n",
       "    <tr>\n",
       "      <th>5</th>\n",
       "      <td>Categoría9</td>\n",
       "      <td>536</td>\n",
       "      <td>0.066825</td>\n",
       "      <td>0.844453</td>\n",
       "    </tr>\n",
       "    <tr>\n",
       "      <th>6</th>\n",
       "      <td>Categoría3</td>\n",
       "      <td>442</td>\n",
       "      <td>0.055105</td>\n",
       "      <td>0.899675</td>\n",
       "    </tr>\n",
       "    <tr>\n",
       "      <th>7</th>\n",
       "      <td>Categoría7</td>\n",
       "      <td>374</td>\n",
       "      <td>0.046628</td>\n",
       "      <td>0.946402</td>\n",
       "    </tr>\n",
       "    <tr>\n",
       "      <th>8</th>\n",
       "      <td>Categoría6</td>\n",
       "      <td>179</td>\n",
       "      <td>0.022316</td>\n",
       "      <td>0.968766</td>\n",
       "    </tr>\n",
       "    <tr>\n",
       "      <th>9</th>\n",
       "      <td>Categoría5</td>\n",
       "      <td>133</td>\n",
       "      <td>0.016581</td>\n",
       "      <td>0.985382</td>\n",
       "    </tr>\n",
       "    <tr>\n",
       "      <th>10</th>\n",
       "      <td>Categoría4</td>\n",
       "      <td>61</td>\n",
       "      <td>0.007605</td>\n",
       "      <td>0.993003</td>\n",
       "    </tr>\n",
       "    <tr>\n",
       "      <th>11</th>\n",
       "      <td>Categoría1</td>\n",
       "      <td>34</td>\n",
       "      <td>0.004239</td>\n",
       "      <td>0.997251</td>\n",
       "    </tr>\n",
       "    <tr>\n",
       "      <th>12</th>\n",
       "      <td>Categoría2</td>\n",
       "      <td>22</td>\n",
       "      <td>0.002743</td>\n",
       "      <td>1.000000</td>\n",
       "    </tr>\n",
       "  </tbody>\n",
       "</table>\n",
       "</div>"
      ],
      "text/plain": [
       "   review_scores_value  frequency  percentage  cumulative_perc\n",
       "0          Categoria13       2453    0.305822         0.306472\n",
       "1          Categoría10       1311    0.163446         0.470265\n",
       "2          Categoría11        949    0.118314         0.588831\n",
       "3          Categoría12        826    0.102980         0.692029\n",
       "4           Categoría8        684    0.085276         0.777486\n",
       "5           Categoría9        536    0.066825         0.844453\n",
       "6           Categoría3        442    0.055105         0.899675\n",
       "7           Categoría7        374    0.046628         0.946402\n",
       "8           Categoría6        179    0.022316         0.968766\n",
       "9           Categoría5        133    0.016581         0.985382\n",
       "10          Categoría4         61    0.007605         0.993003\n",
       "11          Categoría1         34    0.004239         0.997251\n",
       "12          Categoría2         22    0.002743         1.000000"
      ]
     },
     "execution_count": 238,
     "metadata": {},
     "output_type": "execute_result"
    }
   ],
   "source": [
    "#Obtengo un análisis univariado de una variable categórica en específico  \n",
    "table23 = freq_tbl(Micro_Retailer_1['review_scores_value'])\n",
    "table23"
   ]
  },
  {
   "cell_type": "code",
   "execution_count": 239,
   "metadata": {},
   "outputs": [
    {
     "data": {
      "text/html": [
       "<div>\n",
       "<style scoped>\n",
       "    .dataframe tbody tr th:only-of-type {\n",
       "        vertical-align: middle;\n",
       "    }\n",
       "\n",
       "    .dataframe tbody tr th {\n",
       "        vertical-align: top;\n",
       "    }\n",
       "\n",
       "    .dataframe thead th {\n",
       "        text-align: right;\n",
       "    }\n",
       "</style>\n",
       "<table border=\"1\" class=\"dataframe\">\n",
       "  <thead>\n",
       "    <tr style=\"text-align: right;\">\n",
       "      <th></th>\n",
       "      <th>review_scores_value</th>\n",
       "      <th>frequency</th>\n",
       "    </tr>\n",
       "  </thead>\n",
       "  <tbody>\n",
       "    <tr>\n",
       "      <th>0</th>\n",
       "      <td>Categoria13</td>\n",
       "      <td>2453</td>\n",
       "    </tr>\n",
       "    <tr>\n",
       "      <th>1</th>\n",
       "      <td>Categoría10</td>\n",
       "      <td>1311</td>\n",
       "    </tr>\n",
       "    <tr>\n",
       "      <th>2</th>\n",
       "      <td>Categoría11</td>\n",
       "      <td>949</td>\n",
       "    </tr>\n",
       "    <tr>\n",
       "      <th>3</th>\n",
       "      <td>Categoría12</td>\n",
       "      <td>826</td>\n",
       "    </tr>\n",
       "    <tr>\n",
       "      <th>4</th>\n",
       "      <td>Categoría8</td>\n",
       "      <td>684</td>\n",
       "    </tr>\n",
       "    <tr>\n",
       "      <th>5</th>\n",
       "      <td>Categoría9</td>\n",
       "      <td>536</td>\n",
       "    </tr>\n",
       "    <tr>\n",
       "      <th>6</th>\n",
       "      <td>Categoría3</td>\n",
       "      <td>442</td>\n",
       "    </tr>\n",
       "    <tr>\n",
       "      <th>7</th>\n",
       "      <td>Categoría7</td>\n",
       "      <td>374</td>\n",
       "    </tr>\n",
       "    <tr>\n",
       "      <th>8</th>\n",
       "      <td>Categoría6</td>\n",
       "      <td>179</td>\n",
       "    </tr>\n",
       "    <tr>\n",
       "      <th>9</th>\n",
       "      <td>Categoría5</td>\n",
       "      <td>133</td>\n",
       "    </tr>\n",
       "    <tr>\n",
       "      <th>10</th>\n",
       "      <td>Categoría4</td>\n",
       "      <td>61</td>\n",
       "    </tr>\n",
       "    <tr>\n",
       "      <th>11</th>\n",
       "      <td>Categoría1</td>\n",
       "      <td>34</td>\n",
       "    </tr>\n",
       "    <tr>\n",
       "      <th>12</th>\n",
       "      <td>Categoría2</td>\n",
       "      <td>22</td>\n",
       "    </tr>\n",
       "  </tbody>\n",
       "</table>\n",
       "</div>"
      ],
      "text/plain": [
       "   review_scores_value  frequency\n",
       "0          Categoria13       2453\n",
       "1          Categoría10       1311\n",
       "2          Categoría11        949\n",
       "3          Categoría12        826\n",
       "4           Categoría8        684\n",
       "5           Categoría9        536\n",
       "6           Categoría3        442\n",
       "7           Categoría7        374\n",
       "8           Categoría6        179\n",
       "9           Categoría5        133\n",
       "10          Categoría4         61\n",
       "11          Categoría1         34\n",
       "12          Categoría2         22"
      ]
     },
     "execution_count": 239,
     "metadata": {},
     "output_type": "execute_result"
    }
   ],
   "source": [
    "#Elimino las columnas \"procentage\" y \"cumulative_perc\" para trabajar con las fecuencias\n",
    "table24 = table23.drop(['percentage', 'cumulative_perc'], axis=1)\n",
    "table24"
   ]
  },
  {
   "cell_type": "code",
   "execution_count": 240,
   "metadata": {},
   "outputs": [
    {
     "data": {
      "text/html": [
       "<div>\n",
       "<style scoped>\n",
       "    .dataframe tbody tr th:only-of-type {\n",
       "        vertical-align: middle;\n",
       "    }\n",
       "\n",
       "    .dataframe tbody tr th {\n",
       "        vertical-align: top;\n",
       "    }\n",
       "\n",
       "    .dataframe thead th {\n",
       "        text-align: right;\n",
       "    }\n",
       "</style>\n",
       "<table border=\"1\" class=\"dataframe\">\n",
       "  <thead>\n",
       "    <tr style=\"text-align: right;\">\n",
       "      <th></th>\n",
       "      <th>review_scores_value</th>\n",
       "      <th>frequency</th>\n",
       "    </tr>\n",
       "  </thead>\n",
       "  <tbody>\n",
       "    <tr>\n",
       "      <th>0</th>\n",
       "      <td>Categoria13</td>\n",
       "      <td>2453</td>\n",
       "    </tr>\n",
       "    <tr>\n",
       "      <th>1</th>\n",
       "      <td>Categoría10</td>\n",
       "      <td>1311</td>\n",
       "    </tr>\n",
       "    <tr>\n",
       "      <th>2</th>\n",
       "      <td>Categoría11</td>\n",
       "      <td>949</td>\n",
       "    </tr>\n",
       "    <tr>\n",
       "      <th>3</th>\n",
       "      <td>Categoría12</td>\n",
       "      <td>826</td>\n",
       "    </tr>\n",
       "    <tr>\n",
       "      <th>4</th>\n",
       "      <td>Categoría8</td>\n",
       "      <td>684</td>\n",
       "    </tr>\n",
       "    <tr>\n",
       "      <th>5</th>\n",
       "      <td>Categoría9</td>\n",
       "      <td>536</td>\n",
       "    </tr>\n",
       "    <tr>\n",
       "      <th>6</th>\n",
       "      <td>Categoría3</td>\n",
       "      <td>442</td>\n",
       "    </tr>\n",
       "    <tr>\n",
       "      <th>7</th>\n",
       "      <td>Categoría7</td>\n",
       "      <td>374</td>\n",
       "    </tr>\n",
       "    <tr>\n",
       "      <th>8</th>\n",
       "      <td>Categoría6</td>\n",
       "      <td>179</td>\n",
       "    </tr>\n",
       "    <tr>\n",
       "      <th>9</th>\n",
       "      <td>Categoría5</td>\n",
       "      <td>133</td>\n",
       "    </tr>\n",
       "  </tbody>\n",
       "</table>\n",
       "</div>"
      ],
      "text/plain": [
       "  review_scores_value  frequency\n",
       "0         Categoria13       2453\n",
       "1         Categoría10       1311\n",
       "2         Categoría11        949\n",
       "3         Categoría12        826\n",
       "4          Categoría8        684\n",
       "5          Categoría9        536\n",
       "6          Categoría3        442\n",
       "7          Categoría7        374\n",
       "8          Categoría6        179\n",
       "9          Categoría5        133"
      ]
     },
     "execution_count": 240,
     "metadata": {},
     "output_type": "execute_result"
    }
   ],
   "source": [
    "filtro12 = table24[table24['frequency'] > 100]\n",
    "filtro12"
   ]
  },
  {
   "cell_type": "code",
   "execution_count": 241,
   "metadata": {},
   "outputs": [
    {
     "data": {
      "text/html": [
       "<div>\n",
       "<style scoped>\n",
       "    .dataframe tbody tr th:only-of-type {\n",
       "        vertical-align: middle;\n",
       "    }\n",
       "\n",
       "    .dataframe tbody tr th {\n",
       "        vertical-align: top;\n",
       "    }\n",
       "\n",
       "    .dataframe thead th {\n",
       "        text-align: right;\n",
       "    }\n",
       "</style>\n",
       "<table border=\"1\" class=\"dataframe\">\n",
       "  <thead>\n",
       "    <tr style=\"text-align: right;\">\n",
       "      <th></th>\n",
       "      <th>frequency</th>\n",
       "    </tr>\n",
       "    <tr>\n",
       "      <th>review_scores_value</th>\n",
       "      <th></th>\n",
       "    </tr>\n",
       "  </thead>\n",
       "  <tbody>\n",
       "    <tr>\n",
       "      <th>Categoria13</th>\n",
       "      <td>2453</td>\n",
       "    </tr>\n",
       "    <tr>\n",
       "      <th>Categoría10</th>\n",
       "      <td>1311</td>\n",
       "    </tr>\n",
       "    <tr>\n",
       "      <th>Categoría11</th>\n",
       "      <td>949</td>\n",
       "    </tr>\n",
       "    <tr>\n",
       "      <th>Categoría12</th>\n",
       "      <td>826</td>\n",
       "    </tr>\n",
       "    <tr>\n",
       "      <th>Categoría8</th>\n",
       "      <td>684</td>\n",
       "    </tr>\n",
       "    <tr>\n",
       "      <th>Categoría9</th>\n",
       "      <td>536</td>\n",
       "    </tr>\n",
       "    <tr>\n",
       "      <th>Categoría3</th>\n",
       "      <td>442</td>\n",
       "    </tr>\n",
       "    <tr>\n",
       "      <th>Categoría7</th>\n",
       "      <td>374</td>\n",
       "    </tr>\n",
       "    <tr>\n",
       "      <th>Categoría6</th>\n",
       "      <td>179</td>\n",
       "    </tr>\n",
       "    <tr>\n",
       "      <th>Categoría5</th>\n",
       "      <td>133</td>\n",
       "    </tr>\n",
       "  </tbody>\n",
       "</table>\n",
       "</div>"
      ],
      "text/plain": [
       "                     frequency\n",
       "review_scores_value           \n",
       "Categoria13               2453\n",
       "Categoría10               1311\n",
       "Categoría11                949\n",
       "Categoría12                826\n",
       "Categoría8                 684\n",
       "Categoría9                 536\n",
       "Categoría3                 442\n",
       "Categoría7                 374\n",
       "Categoría6                 179\n",
       "Categoría5                 133"
      ]
     },
     "execution_count": 241,
     "metadata": {},
     "output_type": "execute_result"
    }
   ],
   "source": [
    "#Ajusto el indice de mi DataFrame\n",
    "Filtro_index = filtro12.set_index(\"review_scores_value\")\n",
    "Filtro_index"
   ]
  },
  {
   "cell_type": "code",
   "execution_count": 242,
   "metadata": {},
   "outputs": [
    {
     "data": {
      "text/plain": [
       "<Axes: xlabel='review_scores_value'>"
      ]
     },
     "execution_count": 242,
     "metadata": {},
     "output_type": "execute_result"
    },
    {
     "data": {
      "image/png": "[encoded data removed]",
      "text/plain": [
       "<Figure size 1000x400 with 1 Axes>"
      ]
     },
     "metadata": {},
     "output_type": "display_data"
    }
   ],
   "source": [
    "#Realizamos grafico de área del dataframe filtrado\n",
    "Filtro_index.plot(kind='area', figsize=(10,4), alpha = 0.5)"
   ]
  },
  {
   "cell_type": "code",
   "execution_count": 243,
   "metadata": {},
   "outputs": [
    {
     "name": "stdout",
     "output_type": "stream",
     "text": [
      "<class 'pandas.core.series.Series'>\n",
      "RangeIndex: 8021 entries, 0 to 8020\n",
      "Series name: reviews_per_month\n",
      "Non-Null Count  Dtype  \n",
      "--------------  -----  \n",
      "8021 non-null   float64\n",
      "dtypes: float64(1)\n",
      "memory usage: 62.8 KB\n"
     ]
    }
   ],
   "source": [
    "Micro_Retailer_1['reviews_per_month'].info()\n",
    "n = 8021"
   ]
  },
  {
   "cell_type": "code",
   "execution_count": 244,
   "metadata": {},
   "outputs": [
    {
     "data": {
      "text/plain": [
       "[0.01, 3.16]"
      ]
     },
     "execution_count": 244,
     "metadata": {},
     "output_type": "execute_result"
    }
   ],
   "source": [
    "Min = Micro_Retailer_1['reviews_per_month'].min()  \n",
    "Max = Micro_Retailer_1['reviews_per_month'].max()  \n",
    "Limites = [Min,Max]\n",
    "Limites"
   ]
  },
  {
   "cell_type": "code",
   "execution_count": 245,
   "metadata": {},
   "outputs": [
    {
     "data": {
      "text/plain": [
       "3.1500000000000004"
      ]
     },
     "execution_count": 245,
     "metadata": {},
     "output_type": "execute_result"
    }
   ],
   "source": [
    "R = Max - Min\n",
    "R"
   ]
  },
  {
   "cell_type": "code",
   "execution_count": 246,
   "metadata": {},
   "outputs": [
    {
     "data": {
      "text/plain": [
       "13.96203867424906"
      ]
     },
     "execution_count": 246,
     "metadata": {},
     "output_type": "execute_result"
    }
   ],
   "source": [
    "ni = 1+3.32*np.log10(n)\n",
    "ni"
   ]
  },
  {
   "cell_type": "code",
   "execution_count": 247,
   "metadata": {},
   "outputs": [
    {
     "data": {
      "text/plain": [
       "0.2256117515137467"
      ]
     },
     "execution_count": 247,
     "metadata": {},
     "output_type": "execute_result"
    }
   ],
   "source": [
    "i = R/ni\n",
    "i"
   ]
  },
  {
   "cell_type": "code",
   "execution_count": 248,
   "metadata": {},
   "outputs": [
    {
     "data": {
      "text/plain": [
       "array([0.01      , 0.25230769, 0.49461538, 0.73692308, 0.97923077,\n",
       "       1.22153846, 1.46384615, 1.70615385, 1.94846154, 2.19076923,\n",
       "       2.43307692, 2.67538462, 2.91769231, 3.16      ])"
      ]
     },
     "execution_count": 248,
     "metadata": {},
     "output_type": "execute_result"
    }
   ],
   "source": [
    "# Ver resultado\n",
    "intervalos = np.linspace(0.01, 3.16, 14) #Número de clases más uno\n",
    "intervalos"
   ]
  },
  {
   "cell_type": "code",
   "execution_count": null,
   "metadata": {},
   "outputs": [],
   "source": [
    "\n",
    "categorias = [\"Categoría1\", \"Categoría2\", \"Categoría3\", \"Categoría4\",\n",
    "              \"Categoría5\", \"Categoría6\", \"Categoría7\", \"Categoría8\",\n",
    "              \"Categoría9\",\"Categoría10\",\"Categoría11\",\"Categoría12\",\n",
    "              \"Categoria13\"]"
   ]
  },
  {
   "cell_type": "code",
   "execution_count": 249,
   "metadata": {},
   "outputs": [
    {
     "data": {
      "text/plain": [
       "0       Categoría4\n",
       "1       Categoría2\n",
       "2       Categoría3\n",
       "3       Categoría2\n",
       "4       Categoría5\n",
       "           ...    \n",
       "8016    Categoría5\n",
       "8017    Categoría5\n",
       "8018    Categoría5\n",
       "8019    Categoría5\n",
       "8020    Categoría5\n",
       "Name: reviews_per_month, Length: 8021, dtype: category\n",
       "Categories (13, object): ['Categoría1' < 'Categoría2' < 'Categoría3' < 'Categoría4' ... 'Categoría10' < 'Categoría11' < 'Categoría12' < 'Categoria13']"
      ]
     },
     "execution_count": 249,
     "metadata": {},
     "output_type": "execute_result"
    }
   ],
   "source": [
    "Micro_Retailer_1['reviews_per_month'] = pd.cut(x = Micro_Retailer_1['reviews_per_month'], bins = intervalos, labels = categorias)\n",
    "Micro_Retailer_1['reviews_per_month']"
   ]
  },
  {
   "cell_type": "code",
   "execution_count": 250,
   "metadata": {},
   "outputs": [
    {
     "data": {
      "text/html": [
       "<div>\n",
       "<style scoped>\n",
       "    .dataframe tbody tr th:only-of-type {\n",
       "        vertical-align: middle;\n",
       "    }\n",
       "\n",
       "    .dataframe tbody tr th {\n",
       "        vertical-align: top;\n",
       "    }\n",
       "\n",
       "    .dataframe thead th {\n",
       "        text-align: right;\n",
       "    }\n",
       "</style>\n",
       "<table border=\"1\" class=\"dataframe\">\n",
       "  <thead>\n",
       "    <tr style=\"text-align: right;\">\n",
       "      <th></th>\n",
       "      <th>reviews_per_month</th>\n",
       "      <th>frequency</th>\n",
       "      <th>percentage</th>\n",
       "      <th>cumulative_perc</th>\n",
       "    </tr>\n",
       "  </thead>\n",
       "  <tbody>\n",
       "    <tr>\n",
       "      <th>0</th>\n",
       "      <td>Categoría1</td>\n",
       "      <td>2226</td>\n",
       "      <td>0.277522</td>\n",
       "      <td>0.278668</td>\n",
       "    </tr>\n",
       "    <tr>\n",
       "      <th>1</th>\n",
       "      <td>Categoría5</td>\n",
       "      <td>1865</td>\n",
       "      <td>0.232515</td>\n",
       "      <td>0.512143</td>\n",
       "    </tr>\n",
       "    <tr>\n",
       "      <th>2</th>\n",
       "      <td>Categoría2</td>\n",
       "      <td>1121</td>\n",
       "      <td>0.139758</td>\n",
       "      <td>0.652479</td>\n",
       "    </tr>\n",
       "    <tr>\n",
       "      <th>3</th>\n",
       "      <td>Categoría3</td>\n",
       "      <td>686</td>\n",
       "      <td>0.085525</td>\n",
       "      <td>0.738358</td>\n",
       "    </tr>\n",
       "    <tr>\n",
       "      <th>4</th>\n",
       "      <td>Categoría4</td>\n",
       "      <td>504</td>\n",
       "      <td>0.062835</td>\n",
       "      <td>0.801452</td>\n",
       "    </tr>\n",
       "    <tr>\n",
       "      <th>5</th>\n",
       "      <td>Categoría9</td>\n",
       "      <td>346</td>\n",
       "      <td>0.043137</td>\n",
       "      <td>0.844767</td>\n",
       "    </tr>\n",
       "    <tr>\n",
       "      <th>6</th>\n",
       "      <td>Categoría6</td>\n",
       "      <td>268</td>\n",
       "      <td>0.033412</td>\n",
       "      <td>0.878317</td>\n",
       "    </tr>\n",
       "    <tr>\n",
       "      <th>7</th>\n",
       "      <td>Categoría7</td>\n",
       "      <td>265</td>\n",
       "      <td>0.033038</td>\n",
       "      <td>0.911492</td>\n",
       "    </tr>\n",
       "    <tr>\n",
       "      <th>8</th>\n",
       "      <td>Categoría8</td>\n",
       "      <td>193</td>\n",
       "      <td>0.024062</td>\n",
       "      <td>0.935653</td>\n",
       "    </tr>\n",
       "    <tr>\n",
       "      <th>9</th>\n",
       "      <td>Categoría10</td>\n",
       "      <td>154</td>\n",
       "      <td>0.019200</td>\n",
       "      <td>0.954932</td>\n",
       "    </tr>\n",
       "    <tr>\n",
       "      <th>10</th>\n",
       "      <td>Categoría11</td>\n",
       "      <td>139</td>\n",
       "      <td>0.017330</td>\n",
       "      <td>0.972334</td>\n",
       "    </tr>\n",
       "    <tr>\n",
       "      <th>11</th>\n",
       "      <td>Categoria13</td>\n",
       "      <td>118</td>\n",
       "      <td>0.014711</td>\n",
       "      <td>0.987106</td>\n",
       "    </tr>\n",
       "    <tr>\n",
       "      <th>12</th>\n",
       "      <td>Categoría12</td>\n",
       "      <td>103</td>\n",
       "      <td>0.012841</td>\n",
       "      <td>1.000000</td>\n",
       "    </tr>\n",
       "  </tbody>\n",
       "</table>\n",
       "</div>"
      ],
      "text/plain": [
       "   reviews_per_month  frequency  percentage  cumulative_perc\n",
       "0         Categoría1       2226    0.277522         0.278668\n",
       "1         Categoría5       1865    0.232515         0.512143\n",
       "2         Categoría2       1121    0.139758         0.652479\n",
       "3         Categoría3        686    0.085525         0.738358\n",
       "4         Categoría4        504    0.062835         0.801452\n",
       "5         Categoría9        346    0.043137         0.844767\n",
       "6         Categoría6        268    0.033412         0.878317\n",
       "7         Categoría7        265    0.033038         0.911492\n",
       "8         Categoría8        193    0.024062         0.935653\n",
       "9        Categoría10        154    0.019200         0.954932\n",
       "10       Categoría11        139    0.017330         0.972334\n",
       "11       Categoria13        118    0.014711         0.987106\n",
       "12       Categoría12        103    0.012841         1.000000"
      ]
     },
     "execution_count": 250,
     "metadata": {},
     "output_type": "execute_result"
    }
   ],
   "source": [
    "#Obtengo un análisis univariado de una variable categórica en específico  \n",
    "table25 = freq_tbl(Micro_Retailer_1['reviews_per_month'])\n",
    "table25"
   ]
  },
  {
   "cell_type": "code",
   "execution_count": 251,
   "metadata": {},
   "outputs": [
    {
     "data": {
      "text/html": [
       "<div>\n",
       "<style scoped>\n",
       "    .dataframe tbody tr th:only-of-type {\n",
       "        vertical-align: middle;\n",
       "    }\n",
       "\n",
       "    .dataframe tbody tr th {\n",
       "        vertical-align: top;\n",
       "    }\n",
       "\n",
       "    .dataframe thead th {\n",
       "        text-align: right;\n",
       "    }\n",
       "</style>\n",
       "<table border=\"1\" class=\"dataframe\">\n",
       "  <thead>\n",
       "    <tr style=\"text-align: right;\">\n",
       "      <th></th>\n",
       "      <th>reviews_per_month</th>\n",
       "      <th>frequency</th>\n",
       "    </tr>\n",
       "  </thead>\n",
       "  <tbody>\n",
       "    <tr>\n",
       "      <th>0</th>\n",
       "      <td>Categoría1</td>\n",
       "      <td>2226</td>\n",
       "    </tr>\n",
       "    <tr>\n",
       "      <th>1</th>\n",
       "      <td>Categoría5</td>\n",
       "      <td>1865</td>\n",
       "    </tr>\n",
       "    <tr>\n",
       "      <th>2</th>\n",
       "      <td>Categoría2</td>\n",
       "      <td>1121</td>\n",
       "    </tr>\n",
       "    <tr>\n",
       "      <th>3</th>\n",
       "      <td>Categoría3</td>\n",
       "      <td>686</td>\n",
       "    </tr>\n",
       "    <tr>\n",
       "      <th>4</th>\n",
       "      <td>Categoría4</td>\n",
       "      <td>504</td>\n",
       "    </tr>\n",
       "    <tr>\n",
       "      <th>5</th>\n",
       "      <td>Categoría9</td>\n",
       "      <td>346</td>\n",
       "    </tr>\n",
       "    <tr>\n",
       "      <th>6</th>\n",
       "      <td>Categoría6</td>\n",
       "      <td>268</td>\n",
       "    </tr>\n",
       "    <tr>\n",
       "      <th>7</th>\n",
       "      <td>Categoría7</td>\n",
       "      <td>265</td>\n",
       "    </tr>\n",
       "    <tr>\n",
       "      <th>8</th>\n",
       "      <td>Categoría8</td>\n",
       "      <td>193</td>\n",
       "    </tr>\n",
       "    <tr>\n",
       "      <th>9</th>\n",
       "      <td>Categoría10</td>\n",
       "      <td>154</td>\n",
       "    </tr>\n",
       "    <tr>\n",
       "      <th>10</th>\n",
       "      <td>Categoría11</td>\n",
       "      <td>139</td>\n",
       "    </tr>\n",
       "    <tr>\n",
       "      <th>11</th>\n",
       "      <td>Categoria13</td>\n",
       "      <td>118</td>\n",
       "    </tr>\n",
       "    <tr>\n",
       "      <th>12</th>\n",
       "      <td>Categoría12</td>\n",
       "      <td>103</td>\n",
       "    </tr>\n",
       "  </tbody>\n",
       "</table>\n",
       "</div>"
      ],
      "text/plain": [
       "   reviews_per_month  frequency\n",
       "0         Categoría1       2226\n",
       "1         Categoría5       1865\n",
       "2         Categoría2       1121\n",
       "3         Categoría3        686\n",
       "4         Categoría4        504\n",
       "5         Categoría9        346\n",
       "6         Categoría6        268\n",
       "7         Categoría7        265\n",
       "8         Categoría8        193\n",
       "9        Categoría10        154\n",
       "10       Categoría11        139\n",
       "11       Categoria13        118\n",
       "12       Categoría12        103"
      ]
     },
     "execution_count": 251,
     "metadata": {},
     "output_type": "execute_result"
    }
   ],
   "source": [
    "#Elimino las columnas \"procentage\" y \"cumulative_perc\" para trabajar con las fecuencias\n",
    "table26 = table25.drop(['percentage', 'cumulative_perc'], axis=1)\n",
    "table26"
   ]
  },
  {
   "cell_type": "code",
   "execution_count": 252,
   "metadata": {},
   "outputs": [
    {
     "data": {
      "text/html": [
       "<div>\n",
       "<style scoped>\n",
       "    .dataframe tbody tr th:only-of-type {\n",
       "        vertical-align: middle;\n",
       "    }\n",
       "\n",
       "    .dataframe tbody tr th {\n",
       "        vertical-align: top;\n",
       "    }\n",
       "\n",
       "    .dataframe thead th {\n",
       "        text-align: right;\n",
       "    }\n",
       "</style>\n",
       "<table border=\"1\" class=\"dataframe\">\n",
       "  <thead>\n",
       "    <tr style=\"text-align: right;\">\n",
       "      <th></th>\n",
       "      <th>reviews_per_month</th>\n",
       "      <th>frequency</th>\n",
       "    </tr>\n",
       "  </thead>\n",
       "  <tbody>\n",
       "    <tr>\n",
       "      <th>0</th>\n",
       "      <td>Categoría1</td>\n",
       "      <td>2226</td>\n",
       "    </tr>\n",
       "    <tr>\n",
       "      <th>1</th>\n",
       "      <td>Categoría5</td>\n",
       "      <td>1865</td>\n",
       "    </tr>\n",
       "    <tr>\n",
       "      <th>2</th>\n",
       "      <td>Categoría2</td>\n",
       "      <td>1121</td>\n",
       "    </tr>\n",
       "    <tr>\n",
       "      <th>3</th>\n",
       "      <td>Categoría3</td>\n",
       "      <td>686</td>\n",
       "    </tr>\n",
       "    <tr>\n",
       "      <th>4</th>\n",
       "      <td>Categoría4</td>\n",
       "      <td>504</td>\n",
       "    </tr>\n",
       "    <tr>\n",
       "      <th>5</th>\n",
       "      <td>Categoría9</td>\n",
       "      <td>346</td>\n",
       "    </tr>\n",
       "    <tr>\n",
       "      <th>6</th>\n",
       "      <td>Categoría6</td>\n",
       "      <td>268</td>\n",
       "    </tr>\n",
       "    <tr>\n",
       "      <th>7</th>\n",
       "      <td>Categoría7</td>\n",
       "      <td>265</td>\n",
       "    </tr>\n",
       "    <tr>\n",
       "      <th>8</th>\n",
       "      <td>Categoría8</td>\n",
       "      <td>193</td>\n",
       "    </tr>\n",
       "    <tr>\n",
       "      <th>9</th>\n",
       "      <td>Categoría10</td>\n",
       "      <td>154</td>\n",
       "    </tr>\n",
       "    <tr>\n",
       "      <th>10</th>\n",
       "      <td>Categoría11</td>\n",
       "      <td>139</td>\n",
       "    </tr>\n",
       "    <tr>\n",
       "      <th>11</th>\n",
       "      <td>Categoria13</td>\n",
       "      <td>118</td>\n",
       "    </tr>\n",
       "    <tr>\n",
       "      <th>12</th>\n",
       "      <td>Categoría12</td>\n",
       "      <td>103</td>\n",
       "    </tr>\n",
       "  </tbody>\n",
       "</table>\n",
       "</div>"
      ],
      "text/plain": [
       "   reviews_per_month  frequency\n",
       "0         Categoría1       2226\n",
       "1         Categoría5       1865\n",
       "2         Categoría2       1121\n",
       "3         Categoría3        686\n",
       "4         Categoría4        504\n",
       "5         Categoría9        346\n",
       "6         Categoría6        268\n",
       "7         Categoría7        265\n",
       "8         Categoría8        193\n",
       "9        Categoría10        154\n",
       "10       Categoría11        139\n",
       "11       Categoria13        118\n",
       "12       Categoría12        103"
      ]
     },
     "execution_count": 252,
     "metadata": {},
     "output_type": "execute_result"
    }
   ],
   "source": [
    "filtro12 = table26[table26['frequency'] > 100]\n",
    "filtro12"
   ]
  },
  {
   "cell_type": "code",
   "execution_count": 253,
   "metadata": {},
   "outputs": [
    {
     "data": {
      "text/html": [
       "<div>\n",
       "<style scoped>\n",
       "    .dataframe tbody tr th:only-of-type {\n",
       "        vertical-align: middle;\n",
       "    }\n",
       "\n",
       "    .dataframe tbody tr th {\n",
       "        vertical-align: top;\n",
       "    }\n",
       "\n",
       "    .dataframe thead th {\n",
       "        text-align: right;\n",
       "    }\n",
       "</style>\n",
       "<table border=\"1\" class=\"dataframe\">\n",
       "  <thead>\n",
       "    <tr style=\"text-align: right;\">\n",
       "      <th></th>\n",
       "      <th>frequency</th>\n",
       "    </tr>\n",
       "    <tr>\n",
       "      <th>reviews_per_month</th>\n",
       "      <th></th>\n",
       "    </tr>\n",
       "  </thead>\n",
       "  <tbody>\n",
       "    <tr>\n",
       "      <th>Categoría1</th>\n",
       "      <td>2226</td>\n",
       "    </tr>\n",
       "    <tr>\n",
       "      <th>Categoría5</th>\n",
       "      <td>1865</td>\n",
       "    </tr>\n",
       "    <tr>\n",
       "      <th>Categoría2</th>\n",
       "      <td>1121</td>\n",
       "    </tr>\n",
       "    <tr>\n",
       "      <th>Categoría3</th>\n",
       "      <td>686</td>\n",
       "    </tr>\n",
       "    <tr>\n",
       "      <th>Categoría4</th>\n",
       "      <td>504</td>\n",
       "    </tr>\n",
       "    <tr>\n",
       "      <th>Categoría9</th>\n",
       "      <td>346</td>\n",
       "    </tr>\n",
       "    <tr>\n",
       "      <th>Categoría6</th>\n",
       "      <td>268</td>\n",
       "    </tr>\n",
       "    <tr>\n",
       "      <th>Categoría7</th>\n",
       "      <td>265</td>\n",
       "    </tr>\n",
       "    <tr>\n",
       "      <th>Categoría8</th>\n",
       "      <td>193</td>\n",
       "    </tr>\n",
       "    <tr>\n",
       "      <th>Categoría10</th>\n",
       "      <td>154</td>\n",
       "    </tr>\n",
       "    <tr>\n",
       "      <th>Categoría11</th>\n",
       "      <td>139</td>\n",
       "    </tr>\n",
       "    <tr>\n",
       "      <th>Categoria13</th>\n",
       "      <td>118</td>\n",
       "    </tr>\n",
       "    <tr>\n",
       "      <th>Categoría12</th>\n",
       "      <td>103</td>\n",
       "    </tr>\n",
       "  </tbody>\n",
       "</table>\n",
       "</div>"
      ],
      "text/plain": [
       "                   frequency\n",
       "reviews_per_month           \n",
       "Categoría1              2226\n",
       "Categoría5              1865\n",
       "Categoría2              1121\n",
       "Categoría3               686\n",
       "Categoría4               504\n",
       "Categoría9               346\n",
       "Categoría6               268\n",
       "Categoría7               265\n",
       "Categoría8               193\n",
       "Categoría10              154\n",
       "Categoría11              139\n",
       "Categoria13              118\n",
       "Categoría12              103"
      ]
     },
     "execution_count": 253,
     "metadata": {},
     "output_type": "execute_result"
    }
   ],
   "source": [
    "#Ajusto el indice de mi DataFrame\n",
    "Filtro_index = filtro12.set_index('reviews_per_month')\n",
    "Filtro_index"
   ]
  },
  {
   "cell_type": "code",
   "execution_count": 256,
   "metadata": {},
   "outputs": [
    {
     "data": {
      "text/plain": [
       "<Axes: xlabel='reviews_per_month'>"
      ]
     },
     "execution_count": 256,
     "metadata": {},
     "output_type": "execute_result"
    },
    {
     "data": {
      "image/png": "[encoded data removed]",
      "text/plain": [
       "<Figure size 1000x400 with 1 Axes>"
      ]
     },
     "metadata": {},
     "output_type": "display_data"
    }
   ],
   "source": [
    "#Realizamos grafico de área del dataframe filtrado\n",
    "Filtro_index.plot(kind='area', figsize=(10,4), alpha = 0.5)"
   ]
  },
  {
   "cell_type": "code",
   "execution_count": 257,
   "metadata": {},
   "outputs": [
    {
     "name": "stdout",
     "output_type": "stream",
     "text": [
      "<class 'pandas.core.series.Series'>\n",
      "RangeIndex: 8021 entries, 0 to 8020\n",
      "Series name: review_scores_communication\n",
      "Non-Null Count  Dtype  \n",
      "--------------  -----  \n",
      "8021 non-null   float64\n",
      "dtypes: float64(1)\n",
      "memory usage: 62.8 KB\n"
     ]
    }
   ],
   "source": [
    "Micro_Retailer_1['review_scores_communication'].info()\n",
    "n = 8021"
   ]
  },
  {
   "cell_type": "code",
   "execution_count": 258,
   "metadata": {},
   "outputs": [
    {
     "data": {
      "text/plain": [
       "[4.76, 5.0]"
      ]
     },
     "execution_count": 258,
     "metadata": {},
     "output_type": "execute_result"
    }
   ],
   "source": [
    "Min = Micro_Retailer_1['review_scores_communication'].min()  \n",
    "Max = Micro_Retailer_1['review_scores_communication'].max()  \n",
    "Limites = [Min,Max]\n",
    "Limites"
   ]
  },
  {
   "cell_type": "code",
   "execution_count": 259,
   "metadata": {},
   "outputs": [
    {
     "data": {
      "text/plain": [
       "0.2400000000000002"
      ]
     },
     "execution_count": 259,
     "metadata": {},
     "output_type": "execute_result"
    }
   ],
   "source": [
    "R = Max - Min\n",
    "R"
   ]
  },
  {
   "cell_type": "code",
   "execution_count": 260,
   "metadata": {},
   "outputs": [
    {
     "data": {
      "text/plain": [
       "13.96203867424906"
      ]
     },
     "execution_count": 260,
     "metadata": {},
     "output_type": "execute_result"
    }
   ],
   "source": [
    "ni = 1+3.32*np.log10(n)\n",
    "ni"
   ]
  },
  {
   "cell_type": "code",
   "execution_count": 261,
   "metadata": {},
   "outputs": [
    {
     "data": {
      "text/plain": [
       "0.01718946678199976"
      ]
     },
     "execution_count": 261,
     "metadata": {},
     "output_type": "execute_result"
    }
   ],
   "source": [
    "i = R/ni\n",
    "i"
   ]
  },
  {
   "cell_type": "code",
   "execution_count": 262,
   "metadata": {},
   "outputs": [
    {
     "data": {
      "text/plain": [
       "array([4.76      , 4.77846154, 4.79692308, 4.81538462, 4.83384615,\n",
       "       4.85230769, 4.87076923, 4.88923077, 4.90769231, 4.92615385,\n",
       "       4.94461538, 4.96307692, 4.98153846, 5.        ])"
      ]
     },
     "execution_count": 262,
     "metadata": {},
     "output_type": "execute_result"
    }
   ],
   "source": [
    "# Ver resultado\n",
    "intervalos = np.linspace(4.76, 5.0, 14) #Número de clases más uno\n",
    "intervalos"
   ]
  },
  {
   "cell_type": "code",
   "execution_count": 263,
   "metadata": {},
   "outputs": [],
   "source": [
    "categorias = [\"Categoría1\", \"Categoría2\", \"Categoría3\", \"Categoría4\",\n",
    "              \"Categoría5\", \"Categoría6\", \"Categoría7\", \"Categoría8\",\n",
    "              \"Categoría9\",\"Categoría10\",\"Categoría11\",\"Categoría12\",\n",
    "              \"Categoria13\"]"
   ]
  },
  {
   "cell_type": "code",
   "execution_count": 264,
   "metadata": {},
   "outputs": [
    {
     "data": {
      "text/plain": [
       "0       Categoría10\n",
       "1       Categoria13\n",
       "2       Categoría11\n",
       "3        Categoría3\n",
       "4       Categoría12\n",
       "           ...     \n",
       "8016    Categoria13\n",
       "8017    Categoria13\n",
       "8018    Categoria13\n",
       "8019    Categoria13\n",
       "8020    Categoria13\n",
       "Name: review_scores_communication, Length: 8021, dtype: category\n",
       "Categories (13, object): ['Categoría1' < 'Categoría2' < 'Categoría3' < 'Categoría4' ... 'Categoría10' < 'Categoría11' < 'Categoría12' < 'Categoria13']"
      ]
     },
     "execution_count": 264,
     "metadata": {},
     "output_type": "execute_result"
    }
   ],
   "source": [
    "Micro_Retailer_1['review_scores_communication'] = pd.cut(x =    Micro_Retailer_1['review_scores_communication'], bins = intervalos, labels = categorias)\n",
    "Micro_Retailer_1['review_scores_communication']"
   ]
  },
  {
   "cell_type": "code",
   "execution_count": 265,
   "metadata": {},
   "outputs": [
    {
     "data": {
      "text/html": [
       "<div>\n",
       "<style scoped>\n",
       "    .dataframe tbody tr th:only-of-type {\n",
       "        vertical-align: middle;\n",
       "    }\n",
       "\n",
       "    .dataframe tbody tr th {\n",
       "        vertical-align: top;\n",
       "    }\n",
       "\n",
       "    .dataframe thead th {\n",
       "        text-align: right;\n",
       "    }\n",
       "</style>\n",
       "<table border=\"1\" class=\"dataframe\">\n",
       "  <thead>\n",
       "    <tr style=\"text-align: right;\">\n",
       "      <th></th>\n",
       "      <th>review_scores_communication</th>\n",
       "      <th>frequency</th>\n",
       "      <th>percentage</th>\n",
       "      <th>cumulative_perc</th>\n",
       "    </tr>\n",
       "  </thead>\n",
       "  <tbody>\n",
       "    <tr>\n",
       "      <th>0</th>\n",
       "      <td>Categoria13</td>\n",
       "      <td>5125</td>\n",
       "      <td>0.638948</td>\n",
       "      <td>0.641026</td>\n",
       "    </tr>\n",
       "    <tr>\n",
       "      <th>1</th>\n",
       "      <td>Categoría8</td>\n",
       "      <td>1248</td>\n",
       "      <td>0.155592</td>\n",
       "      <td>0.797123</td>\n",
       "    </tr>\n",
       "    <tr>\n",
       "      <th>2</th>\n",
       "      <td>Categoría11</td>\n",
       "      <td>246</td>\n",
       "      <td>0.030669</td>\n",
       "      <td>0.827892</td>\n",
       "    </tr>\n",
       "    <tr>\n",
       "      <th>3</th>\n",
       "      <td>Categoría10</td>\n",
       "      <td>225</td>\n",
       "      <td>0.028051</td>\n",
       "      <td>0.856035</td>\n",
       "    </tr>\n",
       "    <tr>\n",
       "      <th>4</th>\n",
       "      <td>Categoría9</td>\n",
       "      <td>200</td>\n",
       "      <td>0.024935</td>\n",
       "      <td>0.881051</td>\n",
       "    </tr>\n",
       "    <tr>\n",
       "      <th>5</th>\n",
       "      <td>Categoría12</td>\n",
       "      <td>184</td>\n",
       "      <td>0.022940</td>\n",
       "      <td>0.904065</td>\n",
       "    </tr>\n",
       "    <tr>\n",
       "      <th>6</th>\n",
       "      <td>Categoría4</td>\n",
       "      <td>167</td>\n",
       "      <td>0.020820</td>\n",
       "      <td>0.924953</td>\n",
       "    </tr>\n",
       "    <tr>\n",
       "      <th>7</th>\n",
       "      <td>Categoría6</td>\n",
       "      <td>141</td>\n",
       "      <td>0.017579</td>\n",
       "      <td>0.942589</td>\n",
       "    </tr>\n",
       "    <tr>\n",
       "      <th>8</th>\n",
       "      <td>Categoría7</td>\n",
       "      <td>141</td>\n",
       "      <td>0.017579</td>\n",
       "      <td>0.960225</td>\n",
       "    </tr>\n",
       "    <tr>\n",
       "      <th>9</th>\n",
       "      <td>Categoría3</td>\n",
       "      <td>127</td>\n",
       "      <td>0.015833</td>\n",
       "      <td>0.976110</td>\n",
       "    </tr>\n",
       "    <tr>\n",
       "      <th>10</th>\n",
       "      <td>Categoría5</td>\n",
       "      <td>99</td>\n",
       "      <td>0.012343</td>\n",
       "      <td>0.988493</td>\n",
       "    </tr>\n",
       "    <tr>\n",
       "      <th>11</th>\n",
       "      <td>Categoría2</td>\n",
       "      <td>71</td>\n",
       "      <td>0.008852</td>\n",
       "      <td>0.997373</td>\n",
       "    </tr>\n",
       "    <tr>\n",
       "      <th>12</th>\n",
       "      <td>Categoría1</td>\n",
       "      <td>21</td>\n",
       "      <td>0.002618</td>\n",
       "      <td>1.000000</td>\n",
       "    </tr>\n",
       "  </tbody>\n",
       "</table>\n",
       "</div>"
      ],
      "text/plain": [
       "   review_scores_communication  frequency  percentage  cumulative_perc\n",
       "0                  Categoria13       5125    0.638948         0.641026\n",
       "1                   Categoría8       1248    0.155592         0.797123\n",
       "2                  Categoría11        246    0.030669         0.827892\n",
       "3                  Categoría10        225    0.028051         0.856035\n",
       "4                   Categoría9        200    0.024935         0.881051\n",
       "5                  Categoría12        184    0.022940         0.904065\n",
       "6                   Categoría4        167    0.020820         0.924953\n",
       "7                   Categoría6        141    0.017579         0.942589\n",
       "8                   Categoría7        141    0.017579         0.960225\n",
       "9                   Categoría3        127    0.015833         0.976110\n",
       "10                  Categoría5         99    0.012343         0.988493\n",
       "11                  Categoría2         71    0.008852         0.997373\n",
       "12                  Categoría1         21    0.002618         1.000000"
      ]
     },
     "execution_count": 265,
     "metadata": {},
     "output_type": "execute_result"
    }
   ],
   "source": [
    "#Obtengo un análisis univariado de una variable categórica en específico  \n",
    "table27 = freq_tbl(Micro_Retailer_1['review_scores_communication'])\n",
    "table27"
   ]
  },
  {
   "cell_type": "code",
   "execution_count": 266,
   "metadata": {},
   "outputs": [
    {
     "data": {
      "text/html": [
       "<div>\n",
       "<style scoped>\n",
       "    .dataframe tbody tr th:only-of-type {\n",
       "        vertical-align: middle;\n",
       "    }\n",
       "\n",
       "    .dataframe tbody tr th {\n",
       "        vertical-align: top;\n",
       "    }\n",
       "\n",
       "    .dataframe thead th {\n",
       "        text-align: right;\n",
       "    }\n",
       "</style>\n",
       "<table border=\"1\" class=\"dataframe\">\n",
       "  <thead>\n",
       "    <tr style=\"text-align: right;\">\n",
       "      <th></th>\n",
       "      <th>review_scores_communication</th>\n",
       "      <th>frequency</th>\n",
       "    </tr>\n",
       "  </thead>\n",
       "  <tbody>\n",
       "    <tr>\n",
       "      <th>0</th>\n",
       "      <td>Categoria13</td>\n",
       "      <td>5125</td>\n",
       "    </tr>\n",
       "    <tr>\n",
       "      <th>1</th>\n",
       "      <td>Categoría8</td>\n",
       "      <td>1248</td>\n",
       "    </tr>\n",
       "    <tr>\n",
       "      <th>2</th>\n",
       "      <td>Categoría11</td>\n",
       "      <td>246</td>\n",
       "    </tr>\n",
       "    <tr>\n",
       "      <th>3</th>\n",
       "      <td>Categoría10</td>\n",
       "      <td>225</td>\n",
       "    </tr>\n",
       "    <tr>\n",
       "      <th>4</th>\n",
       "      <td>Categoría9</td>\n",
       "      <td>200</td>\n",
       "    </tr>\n",
       "    <tr>\n",
       "      <th>5</th>\n",
       "      <td>Categoría12</td>\n",
       "      <td>184</td>\n",
       "    </tr>\n",
       "    <tr>\n",
       "      <th>6</th>\n",
       "      <td>Categoría4</td>\n",
       "      <td>167</td>\n",
       "    </tr>\n",
       "    <tr>\n",
       "      <th>7</th>\n",
       "      <td>Categoría6</td>\n",
       "      <td>141</td>\n",
       "    </tr>\n",
       "    <tr>\n",
       "      <th>8</th>\n",
       "      <td>Categoría7</td>\n",
       "      <td>141</td>\n",
       "    </tr>\n",
       "    <tr>\n",
       "      <th>9</th>\n",
       "      <td>Categoría3</td>\n",
       "      <td>127</td>\n",
       "    </tr>\n",
       "    <tr>\n",
       "      <th>10</th>\n",
       "      <td>Categoría5</td>\n",
       "      <td>99</td>\n",
       "    </tr>\n",
       "    <tr>\n",
       "      <th>11</th>\n",
       "      <td>Categoría2</td>\n",
       "      <td>71</td>\n",
       "    </tr>\n",
       "    <tr>\n",
       "      <th>12</th>\n",
       "      <td>Categoría1</td>\n",
       "      <td>21</td>\n",
       "    </tr>\n",
       "  </tbody>\n",
       "</table>\n",
       "</div>"
      ],
      "text/plain": [
       "   review_scores_communication  frequency\n",
       "0                  Categoria13       5125\n",
       "1                   Categoría8       1248\n",
       "2                  Categoría11        246\n",
       "3                  Categoría10        225\n",
       "4                   Categoría9        200\n",
       "5                  Categoría12        184\n",
       "6                   Categoría4        167\n",
       "7                   Categoría6        141\n",
       "8                   Categoría7        141\n",
       "9                   Categoría3        127\n",
       "10                  Categoría5         99\n",
       "11                  Categoría2         71\n",
       "12                  Categoría1         21"
      ]
     },
     "execution_count": 266,
     "metadata": {},
     "output_type": "execute_result"
    }
   ],
   "source": [
    "#Elimino las columnas \"procentage\" y \"cumulative_perc\" para trabajar con las fecuencias\n",
    "table28 = table27.drop(['percentage', 'cumulative_perc'], axis=1)\n",
    "table28"
   ]
  },
  {
   "cell_type": "code",
   "execution_count": 270,
   "metadata": {},
   "outputs": [
    {
     "data": {
      "text/html": [
       "<div>\n",
       "<style scoped>\n",
       "    .dataframe tbody tr th:only-of-type {\n",
       "        vertical-align: middle;\n",
       "    }\n",
       "\n",
       "    .dataframe tbody tr th {\n",
       "        vertical-align: top;\n",
       "    }\n",
       "\n",
       "    .dataframe thead th {\n",
       "        text-align: right;\n",
       "    }\n",
       "</style>\n",
       "<table border=\"1\" class=\"dataframe\">\n",
       "  <thead>\n",
       "    <tr style=\"text-align: right;\">\n",
       "      <th></th>\n",
       "      <th>review_scores_communication</th>\n",
       "      <th>frequency</th>\n",
       "    </tr>\n",
       "  </thead>\n",
       "  <tbody>\n",
       "    <tr>\n",
       "      <th>0</th>\n",
       "      <td>Categoria13</td>\n",
       "      <td>5125</td>\n",
       "    </tr>\n",
       "    <tr>\n",
       "      <th>1</th>\n",
       "      <td>Categoría8</td>\n",
       "      <td>1248</td>\n",
       "    </tr>\n",
       "    <tr>\n",
       "      <th>2</th>\n",
       "      <td>Categoría11</td>\n",
       "      <td>246</td>\n",
       "    </tr>\n",
       "    <tr>\n",
       "      <th>3</th>\n",
       "      <td>Categoría10</td>\n",
       "      <td>225</td>\n",
       "    </tr>\n",
       "    <tr>\n",
       "      <th>4</th>\n",
       "      <td>Categoría9</td>\n",
       "      <td>200</td>\n",
       "    </tr>\n",
       "    <tr>\n",
       "      <th>5</th>\n",
       "      <td>Categoría12</td>\n",
       "      <td>184</td>\n",
       "    </tr>\n",
       "    <tr>\n",
       "      <th>6</th>\n",
       "      <td>Categoría4</td>\n",
       "      <td>167</td>\n",
       "    </tr>\n",
       "    <tr>\n",
       "      <th>7</th>\n",
       "      <td>Categoría6</td>\n",
       "      <td>141</td>\n",
       "    </tr>\n",
       "    <tr>\n",
       "      <th>8</th>\n",
       "      <td>Categoría7</td>\n",
       "      <td>141</td>\n",
       "    </tr>\n",
       "    <tr>\n",
       "      <th>9</th>\n",
       "      <td>Categoría3</td>\n",
       "      <td>127</td>\n",
       "    </tr>\n",
       "  </tbody>\n",
       "</table>\n",
       "</div>"
      ],
      "text/plain": [
       "  review_scores_communication  frequency\n",
       "0                 Categoria13       5125\n",
       "1                  Categoría8       1248\n",
       "2                 Categoría11        246\n",
       "3                 Categoría10        225\n",
       "4                  Categoría9        200\n",
       "5                 Categoría12        184\n",
       "6                  Categoría4        167\n",
       "7                  Categoría6        141\n",
       "8                  Categoría7        141\n",
       "9                  Categoría3        127"
      ]
     },
     "execution_count": 270,
     "metadata": {},
     "output_type": "execute_result"
    }
   ],
   "source": [
    "filtro13 = table28[table28['frequency'] > 100]\n",
    "filtro13"
   ]
  },
  {
   "cell_type": "code",
   "execution_count": 271,
   "metadata": {},
   "outputs": [
    {
     "data": {
      "text/html": [
       "<div>\n",
       "<style scoped>\n",
       "    .dataframe tbody tr th:only-of-type {\n",
       "        vertical-align: middle;\n",
       "    }\n",
       "\n",
       "    .dataframe tbody tr th {\n",
       "        vertical-align: top;\n",
       "    }\n",
       "\n",
       "    .dataframe thead th {\n",
       "        text-align: right;\n",
       "    }\n",
       "</style>\n",
       "<table border=\"1\" class=\"dataframe\">\n",
       "  <thead>\n",
       "    <tr style=\"text-align: right;\">\n",
       "      <th></th>\n",
       "      <th>frequency</th>\n",
       "    </tr>\n",
       "    <tr>\n",
       "      <th>review_scores_communication</th>\n",
       "      <th></th>\n",
       "    </tr>\n",
       "  </thead>\n",
       "  <tbody>\n",
       "    <tr>\n",
       "      <th>Categoria13</th>\n",
       "      <td>5125</td>\n",
       "    </tr>\n",
       "    <tr>\n",
       "      <th>Categoría8</th>\n",
       "      <td>1248</td>\n",
       "    </tr>\n",
       "    <tr>\n",
       "      <th>Categoría11</th>\n",
       "      <td>246</td>\n",
       "    </tr>\n",
       "    <tr>\n",
       "      <th>Categoría10</th>\n",
       "      <td>225</td>\n",
       "    </tr>\n",
       "    <tr>\n",
       "      <th>Categoría9</th>\n",
       "      <td>200</td>\n",
       "    </tr>\n",
       "    <tr>\n",
       "      <th>Categoría12</th>\n",
       "      <td>184</td>\n",
       "    </tr>\n",
       "    <tr>\n",
       "      <th>Categoría4</th>\n",
       "      <td>167</td>\n",
       "    </tr>\n",
       "    <tr>\n",
       "      <th>Categoría6</th>\n",
       "      <td>141</td>\n",
       "    </tr>\n",
       "    <tr>\n",
       "      <th>Categoría7</th>\n",
       "      <td>141</td>\n",
       "    </tr>\n",
       "    <tr>\n",
       "      <th>Categoría3</th>\n",
       "      <td>127</td>\n",
       "    </tr>\n",
       "  </tbody>\n",
       "</table>\n",
       "</div>"
      ],
      "text/plain": [
       "                             frequency\n",
       "review_scores_communication           \n",
       "Categoria13                       5125\n",
       "Categoría8                        1248\n",
       "Categoría11                        246\n",
       "Categoría10                        225\n",
       "Categoría9                         200\n",
       "Categoría12                        184\n",
       "Categoría4                         167\n",
       "Categoría6                         141\n",
       "Categoría7                         141\n",
       "Categoría3                         127"
      ]
     },
     "execution_count": 271,
     "metadata": {},
     "output_type": "execute_result"
    }
   ],
   "source": [
    "#Ajusto el indice de mi DataFrame\n",
    "Filtro_index = filtro13.set_index('review_scores_communication')\n",
    "Filtro_index"
   ]
  },
  {
   "cell_type": "code",
   "execution_count": 272,
   "metadata": {},
   "outputs": [
    {
     "data": {
      "text/plain": [
       "<Axes: xlabel='review_scores_communication'>"
      ]
     },
     "execution_count": 272,
     "metadata": {},
     "output_type": "execute_result"
    },
    {
     "data": {
      "image/png": "[encoded data removed]",
      "text/plain": [
       "<Figure size 1000x400 with 1 Axes>"
      ]
     },
     "metadata": {},
     "output_type": "display_data"
    }
   ],
   "source": [
    "#Realizamos grafico de área del dataframe filtrado\n",
    "Filtro_index.plot(kind='area', figsize=(10,4), alpha = 0.5)"
   ]
  },
  {
   "cell_type": "code",
   "execution_count": 273,
   "metadata": {},
   "outputs": [
    {
     "name": "stdout",
     "output_type": "stream",
     "text": [
      "<class 'pandas.core.series.Series'>\n",
      "RangeIndex: 8021 entries, 0 to 8020\n",
      "Series name: review_scores_checkin\n",
      "Non-Null Count  Dtype  \n",
      "--------------  -----  \n",
      "8021 non-null   float64\n",
      "dtypes: float64(1)\n",
      "memory usage: 62.8 KB\n"
     ]
    }
   ],
   "source": [
    "Micro_Retailer_1['review_scores_checkin'].info()\n",
    "n = 8021"
   ]
  },
  {
   "cell_type": "code",
   "execution_count": 274,
   "metadata": {},
   "outputs": [
    {
     "data": {
      "text/plain": [
       "[4.53, 5.0]"
      ]
     },
     "execution_count": 274,
     "metadata": {},
     "output_type": "execute_result"
    }
   ],
   "source": [
    "Min = Micro_Retailer_1['review_scores_checkin'].min()  \n",
    "Max = Micro_Retailer_1['review_scores_checkin'].max()  \n",
    "Limites = [Min,Max]\n",
    "Limites"
   ]
  },
  {
   "cell_type": "code",
   "execution_count": 275,
   "metadata": {},
   "outputs": [
    {
     "data": {
      "text/plain": [
       "0.46999999999999975"
      ]
     },
     "execution_count": 275,
     "metadata": {},
     "output_type": "execute_result"
    }
   ],
   "source": [
    "R = Max - Min\n",
    "R\n"
   ]
  },
  {
   "cell_type": "code",
   "execution_count": 276,
   "metadata": {},
   "outputs": [
    {
     "data": {
      "text/plain": [
       "13.96203867424906"
      ]
     },
     "execution_count": 276,
     "metadata": {},
     "output_type": "execute_result"
    }
   ],
   "source": [
    "ni = 1+3.32*np.log10(n)\n",
    "ni\n"
   ]
  },
  {
   "cell_type": "code",
   "execution_count": 277,
   "metadata": {},
   "outputs": [
    {
     "data": {
      "text/plain": [
       "0.033662705781416155"
      ]
     },
     "execution_count": 277,
     "metadata": {},
     "output_type": "execute_result"
    }
   ],
   "source": [
    "i = R/ni\n",
    "i"
   ]
  },
  {
   "cell_type": "code",
   "execution_count": 278,
   "metadata": {},
   "outputs": [
    {
     "data": {
      "text/plain": [
       "array([4.53      , 4.56615385, 4.60230769, 4.63846154, 4.67461538,\n",
       "       4.71076923, 4.74692308, 4.78307692, 4.81923077, 4.85538462,\n",
       "       4.89153846, 4.92769231, 4.96384615, 5.        ])"
      ]
     },
     "execution_count": 278,
     "metadata": {},
     "output_type": "execute_result"
    }
   ],
   "source": [
    "# Ver resultado\n",
    "intervalos = np.linspace(4.53, 5.0, 14) #Número de clases más uno\n",
    "intervalos"
   ]
  },
  {
   "cell_type": "code",
   "execution_count": null,
   "metadata": {},
   "outputs": [],
   "source": [
    "categorias = [\"Categoría1\", \"Categoría2\", \"Categoría3\", \"Categoría4\",\n",
    "              \"Categoría5\", \"Categoría6\", \"Categoría7\", \"Categoría8\",\n",
    "              \"Categoría9\",\"Categoría10\",\"Categoría11\",\"Categoría12\",\n",
    "              \"Categoria13\"]\n"
   ]
  },
  {
   "cell_type": "code",
   "execution_count": 279,
   "metadata": {},
   "outputs": [
    {
     "data": {
      "text/plain": [
       "0       Categoría11\n",
       "1       Categoria13\n",
       "2       Categoria13\n",
       "3        Categoría7\n",
       "4       Categoria13\n",
       "           ...     \n",
       "8016     Categoría8\n",
       "8017     Categoría8\n",
       "8018     Categoría8\n",
       "8019     Categoría8\n",
       "8020     Categoría8\n",
       "Name: review_scores_checkin, Length: 8021, dtype: category\n",
       "Categories (13, object): ['Categoría1' < 'Categoría2' < 'Categoría3' < 'Categoría4' ... 'Categoría10' < 'Categoría11' < 'Categoría12' < 'Categoria13']"
      ]
     },
     "execution_count": 279,
     "metadata": {},
     "output_type": "execute_result"
    }
   ],
   "source": [
    "Micro_Retailer_1['review_scores_checkin'] = pd.cut(x = Micro_Retailer_1['review_scores_checkin'], bins = intervalos, labels = categorias)\n",
    "Micro_Retailer_1['review_scores_checkin']"
   ]
  },
  {
   "cell_type": "code",
   "execution_count": 280,
   "metadata": {},
   "outputs": [
    {
     "data": {
      "text/html": [
       "<div>\n",
       "<style scoped>\n",
       "    .dataframe tbody tr th:only-of-type {\n",
       "        vertical-align: middle;\n",
       "    }\n",
       "\n",
       "    .dataframe tbody tr th {\n",
       "        vertical-align: top;\n",
       "    }\n",
       "\n",
       "    .dataframe thead th {\n",
       "        text-align: right;\n",
       "    }\n",
       "</style>\n",
       "<table border=\"1\" class=\"dataframe\">\n",
       "  <thead>\n",
       "    <tr style=\"text-align: right;\">\n",
       "      <th></th>\n",
       "      <th>review_scores_checkin</th>\n",
       "      <th>frequency</th>\n",
       "      <th>percentage</th>\n",
       "      <th>cumulative_perc</th>\n",
       "    </tr>\n",
       "  </thead>\n",
       "  <tbody>\n",
       "    <tr>\n",
       "      <th>0</th>\n",
       "      <td>Categoria13</td>\n",
       "      <td>4191</td>\n",
       "      <td>0.522503</td>\n",
       "      <td>0.522764</td>\n",
       "    </tr>\n",
       "    <tr>\n",
       "      <th>1</th>\n",
       "      <td>Categoría11</td>\n",
       "      <td>1172</td>\n",
       "      <td>0.146116</td>\n",
       "      <td>0.668953</td>\n",
       "    </tr>\n",
       "    <tr>\n",
       "      <th>2</th>\n",
       "      <td>Categoría12</td>\n",
       "      <td>570</td>\n",
       "      <td>0.071063</td>\n",
       "      <td>0.740052</td>\n",
       "    </tr>\n",
       "    <tr>\n",
       "      <th>3</th>\n",
       "      <td>Categoría10</td>\n",
       "      <td>470</td>\n",
       "      <td>0.058596</td>\n",
       "      <td>0.798678</td>\n",
       "    </tr>\n",
       "    <tr>\n",
       "      <th>4</th>\n",
       "      <td>Categoría8</td>\n",
       "      <td>377</td>\n",
       "      <td>0.047002</td>\n",
       "      <td>0.845703</td>\n",
       "    </tr>\n",
       "    <tr>\n",
       "      <th>5</th>\n",
       "      <td>Categoría9</td>\n",
       "      <td>361</td>\n",
       "      <td>0.045007</td>\n",
       "      <td>0.890732</td>\n",
       "    </tr>\n",
       "    <tr>\n",
       "      <th>6</th>\n",
       "      <td>Categoría7</td>\n",
       "      <td>285</td>\n",
       "      <td>0.035532</td>\n",
       "      <td>0.926282</td>\n",
       "    </tr>\n",
       "    <tr>\n",
       "      <th>7</th>\n",
       "      <td>Categoría4</td>\n",
       "      <td>218</td>\n",
       "      <td>0.027179</td>\n",
       "      <td>0.953474</td>\n",
       "    </tr>\n",
       "    <tr>\n",
       "      <th>8</th>\n",
       "      <td>Categoría5</td>\n",
       "      <td>129</td>\n",
       "      <td>0.016083</td>\n",
       "      <td>0.969565</td>\n",
       "    </tr>\n",
       "    <tr>\n",
       "      <th>9</th>\n",
       "      <td>Categoría2</td>\n",
       "      <td>89</td>\n",
       "      <td>0.011096</td>\n",
       "      <td>0.980666</td>\n",
       "    </tr>\n",
       "    <tr>\n",
       "      <th>10</th>\n",
       "      <td>Categoría6</td>\n",
       "      <td>70</td>\n",
       "      <td>0.008727</td>\n",
       "      <td>0.989398</td>\n",
       "    </tr>\n",
       "    <tr>\n",
       "      <th>11</th>\n",
       "      <td>Categoría3</td>\n",
       "      <td>49</td>\n",
       "      <td>0.006109</td>\n",
       "      <td>0.995510</td>\n",
       "    </tr>\n",
       "    <tr>\n",
       "      <th>12</th>\n",
       "      <td>Categoría1</td>\n",
       "      <td>36</td>\n",
       "      <td>0.004488</td>\n",
       "      <td>1.000000</td>\n",
       "    </tr>\n",
       "  </tbody>\n",
       "</table>\n",
       "</div>"
      ],
      "text/plain": [
       "   review_scores_checkin  frequency  percentage  cumulative_perc\n",
       "0            Categoria13       4191    0.522503         0.522764\n",
       "1            Categoría11       1172    0.146116         0.668953\n",
       "2            Categoría12        570    0.071063         0.740052\n",
       "3            Categoría10        470    0.058596         0.798678\n",
       "4             Categoría8        377    0.047002         0.845703\n",
       "5             Categoría9        361    0.045007         0.890732\n",
       "6             Categoría7        285    0.035532         0.926282\n",
       "7             Categoría4        218    0.027179         0.953474\n",
       "8             Categoría5        129    0.016083         0.969565\n",
       "9             Categoría2         89    0.011096         0.980666\n",
       "10            Categoría6         70    0.008727         0.989398\n",
       "11            Categoría3         49    0.006109         0.995510\n",
       "12            Categoría1         36    0.004488         1.000000"
      ]
     },
     "execution_count": 280,
     "metadata": {},
     "output_type": "execute_result"
    }
   ],
   "source": [
    "#Obtengo un análisis univariado de una variable categórica en específico  \n",
    "table29 = freq_tbl(Micro_Retailer_1['review_scores_checkin'])\n",
    "table29"
   ]
  },
  {
   "cell_type": "code",
   "execution_count": 281,
   "metadata": {},
   "outputs": [
    {
     "data": {
      "text/html": [
       "<div>\n",
       "<style scoped>\n",
       "    .dataframe tbody tr th:only-of-type {\n",
       "        vertical-align: middle;\n",
       "    }\n",
       "\n",
       "    .dataframe tbody tr th {\n",
       "        vertical-align: top;\n",
       "    }\n",
       "\n",
       "    .dataframe thead th {\n",
       "        text-align: right;\n",
       "    }\n",
       "</style>\n",
       "<table border=\"1\" class=\"dataframe\">\n",
       "  <thead>\n",
       "    <tr style=\"text-align: right;\">\n",
       "      <th></th>\n",
       "      <th>review_scores_checkin</th>\n",
       "      <th>frequency</th>\n",
       "    </tr>\n",
       "  </thead>\n",
       "  <tbody>\n",
       "    <tr>\n",
       "      <th>0</th>\n",
       "      <td>Categoria13</td>\n",
       "      <td>4191</td>\n",
       "    </tr>\n",
       "    <tr>\n",
       "      <th>1</th>\n",
       "      <td>Categoría11</td>\n",
       "      <td>1172</td>\n",
       "    </tr>\n",
       "    <tr>\n",
       "      <th>2</th>\n",
       "      <td>Categoría12</td>\n",
       "      <td>570</td>\n",
       "    </tr>\n",
       "    <tr>\n",
       "      <th>3</th>\n",
       "      <td>Categoría10</td>\n",
       "      <td>470</td>\n",
       "    </tr>\n",
       "    <tr>\n",
       "      <th>4</th>\n",
       "      <td>Categoría8</td>\n",
       "      <td>377</td>\n",
       "    </tr>\n",
       "    <tr>\n",
       "      <th>5</th>\n",
       "      <td>Categoría9</td>\n",
       "      <td>361</td>\n",
       "    </tr>\n",
       "    <tr>\n",
       "      <th>6</th>\n",
       "      <td>Categoría7</td>\n",
       "      <td>285</td>\n",
       "    </tr>\n",
       "    <tr>\n",
       "      <th>7</th>\n",
       "      <td>Categoría4</td>\n",
       "      <td>218</td>\n",
       "    </tr>\n",
       "    <tr>\n",
       "      <th>8</th>\n",
       "      <td>Categoría5</td>\n",
       "      <td>129</td>\n",
       "    </tr>\n",
       "    <tr>\n",
       "      <th>9</th>\n",
       "      <td>Categoría2</td>\n",
       "      <td>89</td>\n",
       "    </tr>\n",
       "    <tr>\n",
       "      <th>10</th>\n",
       "      <td>Categoría6</td>\n",
       "      <td>70</td>\n",
       "    </tr>\n",
       "    <tr>\n",
       "      <th>11</th>\n",
       "      <td>Categoría3</td>\n",
       "      <td>49</td>\n",
       "    </tr>\n",
       "    <tr>\n",
       "      <th>12</th>\n",
       "      <td>Categoría1</td>\n",
       "      <td>36</td>\n",
       "    </tr>\n",
       "  </tbody>\n",
       "</table>\n",
       "</div>"
      ],
      "text/plain": [
       "   review_scores_checkin  frequency\n",
       "0            Categoria13       4191\n",
       "1            Categoría11       1172\n",
       "2            Categoría12        570\n",
       "3            Categoría10        470\n",
       "4             Categoría8        377\n",
       "5             Categoría9        361\n",
       "6             Categoría7        285\n",
       "7             Categoría4        218\n",
       "8             Categoría5        129\n",
       "9             Categoría2         89\n",
       "10            Categoría6         70\n",
       "11            Categoría3         49\n",
       "12            Categoría1         36"
      ]
     },
     "execution_count": 281,
     "metadata": {},
     "output_type": "execute_result"
    }
   ],
   "source": [
    "#Elimino las columnas \"procentage\" y \"cumulative_perc\" para trabajar con las fecuencias\n",
    "table30 = table29.drop(['percentage', 'cumulative_perc'], axis=1)\n",
    "table30"
   ]
  },
  {
   "cell_type": "code",
   "execution_count": 282,
   "metadata": {},
   "outputs": [
    {
     "data": {
      "text/html": [
       "<div>\n",
       "<style scoped>\n",
       "    .dataframe tbody tr th:only-of-type {\n",
       "        vertical-align: middle;\n",
       "    }\n",
       "\n",
       "    .dataframe tbody tr th {\n",
       "        vertical-align: top;\n",
       "    }\n",
       "\n",
       "    .dataframe thead th {\n",
       "        text-align: right;\n",
       "    }\n",
       "</style>\n",
       "<table border=\"1\" class=\"dataframe\">\n",
       "  <thead>\n",
       "    <tr style=\"text-align: right;\">\n",
       "      <th></th>\n",
       "      <th>review_scores_checkin</th>\n",
       "      <th>frequency</th>\n",
       "    </tr>\n",
       "  </thead>\n",
       "  <tbody>\n",
       "    <tr>\n",
       "      <th>0</th>\n",
       "      <td>Categoria13</td>\n",
       "      <td>4191</td>\n",
       "    </tr>\n",
       "    <tr>\n",
       "      <th>1</th>\n",
       "      <td>Categoría11</td>\n",
       "      <td>1172</td>\n",
       "    </tr>\n",
       "    <tr>\n",
       "      <th>2</th>\n",
       "      <td>Categoría12</td>\n",
       "      <td>570</td>\n",
       "    </tr>\n",
       "    <tr>\n",
       "      <th>3</th>\n",
       "      <td>Categoría10</td>\n",
       "      <td>470</td>\n",
       "    </tr>\n",
       "    <tr>\n",
       "      <th>4</th>\n",
       "      <td>Categoría8</td>\n",
       "      <td>377</td>\n",
       "    </tr>\n",
       "    <tr>\n",
       "      <th>5</th>\n",
       "      <td>Categoría9</td>\n",
       "      <td>361</td>\n",
       "    </tr>\n",
       "    <tr>\n",
       "      <th>6</th>\n",
       "      <td>Categoría7</td>\n",
       "      <td>285</td>\n",
       "    </tr>\n",
       "    <tr>\n",
       "      <th>7</th>\n",
       "      <td>Categoría4</td>\n",
       "      <td>218</td>\n",
       "    </tr>\n",
       "    <tr>\n",
       "      <th>8</th>\n",
       "      <td>Categoría5</td>\n",
       "      <td>129</td>\n",
       "    </tr>\n",
       "  </tbody>\n",
       "</table>\n",
       "</div>"
      ],
      "text/plain": [
       "  review_scores_checkin  frequency\n",
       "0           Categoria13       4191\n",
       "1           Categoría11       1172\n",
       "2           Categoría12        570\n",
       "3           Categoría10        470\n",
       "4            Categoría8        377\n",
       "5            Categoría9        361\n",
       "6            Categoría7        285\n",
       "7            Categoría4        218\n",
       "8            Categoría5        129"
      ]
     },
     "execution_count": 282,
     "metadata": {},
     "output_type": "execute_result"
    }
   ],
   "source": [
    "\n",
    "filtro14 = table30[table30['frequency'] > 100]\n",
    "filtro14\n"
   ]
  },
  {
   "cell_type": "code",
   "execution_count": 283,
   "metadata": {},
   "outputs": [
    {
     "data": {
      "text/html": [
       "<div>\n",
       "<style scoped>\n",
       "    .dataframe tbody tr th:only-of-type {\n",
       "        vertical-align: middle;\n",
       "    }\n",
       "\n",
       "    .dataframe tbody tr th {\n",
       "        vertical-align: top;\n",
       "    }\n",
       "\n",
       "    .dataframe thead th {\n",
       "        text-align: right;\n",
       "    }\n",
       "</style>\n",
       "<table border=\"1\" class=\"dataframe\">\n",
       "  <thead>\n",
       "    <tr style=\"text-align: right;\">\n",
       "      <th></th>\n",
       "      <th>frequency</th>\n",
       "    </tr>\n",
       "    <tr>\n",
       "      <th>review_scores_checkin</th>\n",
       "      <th></th>\n",
       "    </tr>\n",
       "  </thead>\n",
       "  <tbody>\n",
       "    <tr>\n",
       "      <th>Categoria13</th>\n",
       "      <td>4191</td>\n",
       "    </tr>\n",
       "    <tr>\n",
       "      <th>Categoría11</th>\n",
       "      <td>1172</td>\n",
       "    </tr>\n",
       "    <tr>\n",
       "      <th>Categoría12</th>\n",
       "      <td>570</td>\n",
       "    </tr>\n",
       "    <tr>\n",
       "      <th>Categoría10</th>\n",
       "      <td>470</td>\n",
       "    </tr>\n",
       "    <tr>\n",
       "      <th>Categoría8</th>\n",
       "      <td>377</td>\n",
       "    </tr>\n",
       "    <tr>\n",
       "      <th>Categoría9</th>\n",
       "      <td>361</td>\n",
       "    </tr>\n",
       "    <tr>\n",
       "      <th>Categoría7</th>\n",
       "      <td>285</td>\n",
       "    </tr>\n",
       "    <tr>\n",
       "      <th>Categoría4</th>\n",
       "      <td>218</td>\n",
       "    </tr>\n",
       "    <tr>\n",
       "      <th>Categoría5</th>\n",
       "      <td>129</td>\n",
       "    </tr>\n",
       "  </tbody>\n",
       "</table>\n",
       "</div>"
      ],
      "text/plain": [
       "                       frequency\n",
       "review_scores_checkin           \n",
       "Categoria13                 4191\n",
       "Categoría11                 1172\n",
       "Categoría12                  570\n",
       "Categoría10                  470\n",
       "Categoría8                   377\n",
       "Categoría9                   361\n",
       "Categoría7                   285\n",
       "Categoría4                   218\n",
       "Categoría5                   129"
      ]
     },
     "execution_count": 283,
     "metadata": {},
     "output_type": "execute_result"
    }
   ],
   "source": [
    "#Ajusto el indice de mi DataFrame\n",
    "Filtro_index = filtro14.set_index('review_scores_checkin')\n",
    "Filtro_index"
   ]
  },
  {
   "cell_type": "code",
   "execution_count": 284,
   "metadata": {},
   "outputs": [
    {
     "data": {
      "text/plain": [
       "Text(0, 0.5, 'Frecuencia')"
      ]
     },
     "execution_count": 284,
     "metadata": {},
     "output_type": "execute_result"
    },
    {
     "data": {
      "image/png": "[encoded data removed]",
      "text/plain": [
       "<Figure size 1000x400 with 1 Axes>"
      ]
     },
     "metadata": {},
     "output_type": "display_data"
    }
   ],
   "source": [
    "#Realizamos grafico de barras del Dataframe filtrado\n",
    "Filtro_index.plot(kind = 'bar', width=0.8, figsize=(10,4), color = \"red\")\n",
    "plt.title('Evaluación de reseñas')\n",
    "plt.xlabel('Categoria')\n",
    "plt.ylabel('Frecuencia')"
   ]
  },
  {
   "cell_type": "code",
   "execution_count": 285,
   "metadata": {},
   "outputs": [
    {
     "name": "stdout",
     "output_type": "stream",
     "text": [
      "<class 'pandas.core.series.Series'>\n",
      "RangeIndex: 8021 entries, 0 to 8020\n",
      "Series name: review_scores_cleanliness\n",
      "Non-Null Count  Dtype  \n",
      "--------------  -----  \n",
      "8021 non-null   float64\n",
      "dtypes: float64(1)\n",
      "memory usage: 62.8 KB\n"
     ]
    }
   ],
   "source": [
    "Micro_Retailer_1['review_scores_cleanliness'].info()\n",
    "n = 8021"
   ]
  },
  {
   "cell_type": "code",
   "execution_count": 286,
   "metadata": {},
   "outputs": [
    {
     "data": {
      "text/plain": [
       "[4.13, 5.0]"
      ]
     },
     "execution_count": 286,
     "metadata": {},
     "output_type": "execute_result"
    }
   ],
   "source": [
    "Min = Micro_Retailer_1['review_scores_cleanliness'].min()  \n",
    "Max = Micro_Retailer_1['review_scores_cleanliness'].max()  \n",
    "Limites = [Min,Max]\n",
    "Limites"
   ]
  },
  {
   "cell_type": "code",
   "execution_count": 287,
   "metadata": {},
   "outputs": [
    {
     "data": {
      "text/plain": [
       "0.8700000000000001"
      ]
     },
     "execution_count": 287,
     "metadata": {},
     "output_type": "execute_result"
    }
   ],
   "source": [
    "R = Max - Min\n",
    "R"
   ]
  },
  {
   "cell_type": "code",
   "execution_count": 288,
   "metadata": {},
   "outputs": [
    {
     "data": {
      "text/plain": [
       "13.96203867424906"
      ]
     },
     "execution_count": 288,
     "metadata": {},
     "output_type": "execute_result"
    }
   ],
   "source": [
    "ni = 1+3.32*np.log10(n)\n",
    "ni"
   ]
  },
  {
   "cell_type": "code",
   "execution_count": 289,
   "metadata": {},
   "outputs": [
    {
     "data": {
      "text/plain": [
       "0.06231181708474909"
      ]
     },
     "execution_count": 289,
     "metadata": {},
     "output_type": "execute_result"
    }
   ],
   "source": [
    "i = R/ni\n",
    "i"
   ]
  },
  {
   "cell_type": "code",
   "execution_count": 290,
   "metadata": {},
   "outputs": [
    {
     "data": {
      "text/plain": [
       "array([4.13      , 4.19692308, 4.26384615, 4.33076923, 4.39769231,\n",
       "       4.46461538, 4.53153846, 4.59846154, 4.66538462, 4.73230769,\n",
       "       4.79923077, 4.86615385, 4.93307692, 5.        ])"
      ]
     },
     "execution_count": 290,
     "metadata": {},
     "output_type": "execute_result"
    }
   ],
   "source": [
    "# Ver resultado\n",
    "intervalos = np.linspace(4.13, 5.0, 14) #Número de clases más uno\n",
    "intervalos"
   ]
  },
  {
   "cell_type": "code",
   "execution_count": 291,
   "metadata": {},
   "outputs": [],
   "source": [
    "categorias = [\"Categoría1\", \"Categoría2\", \"Categoría3\", \"Categoría4\",\n",
    "              \"Categoría5\", \"Categoría6\", \"Categoría7\", \"Categoría8\",\n",
    "              \"Categoría9\",\"Categoría10\",\"Categoría11\",\"Categoría12\",\n",
    "              \"Categoria13\"]"
   ]
  },
  {
   "cell_type": "code",
   "execution_count": 292,
   "metadata": {},
   "outputs": [
    {
     "data": {
      "text/plain": [
       "0       Categoría11\n",
       "1       Categoria13\n",
       "2       Categoría11\n",
       "3        Categoría3\n",
       "4       Categoria13\n",
       "           ...     \n",
       "8016    Categoria13\n",
       "8017    Categoria13\n",
       "8018    Categoria13\n",
       "8019    Categoria13\n",
       "8020    Categoria13\n",
       "Name: review_scores_cleanliness, Length: 8021, dtype: category\n",
       "Categories (13, object): ['Categoría1' < 'Categoría2' < 'Categoría3' < 'Categoría4' ... 'Categoría10' < 'Categoría11' < 'Categoría12' < 'Categoria13']"
      ]
     },
     "execution_count": 292,
     "metadata": {},
     "output_type": "execute_result"
    }
   ],
   "source": [
    "Micro_Retailer_1['review_scores_cleanliness'] = pd.cut(x =  Micro_Retailer_1['review_scores_cleanliness'], bins = intervalos, labels = categorias)\n",
    "Micro_Retailer_1['review_scores_cleanliness']"
   ]
  },
  {
   "cell_type": "code",
   "execution_count": 293,
   "metadata": {},
   "outputs": [
    {
     "data": {
      "text/html": [
       "<div>\n",
       "<style scoped>\n",
       "    .dataframe tbody tr th:only-of-type {\n",
       "        vertical-align: middle;\n",
       "    }\n",
       "\n",
       "    .dataframe tbody tr th {\n",
       "        vertical-align: top;\n",
       "    }\n",
       "\n",
       "    .dataframe thead th {\n",
       "        text-align: right;\n",
       "    }\n",
       "</style>\n",
       "<table border=\"1\" class=\"dataframe\">\n",
       "  <thead>\n",
       "    <tr style=\"text-align: right;\">\n",
       "      <th></th>\n",
       "      <th>review_scores_cleanliness</th>\n",
       "      <th>frequency</th>\n",
       "      <th>percentage</th>\n",
       "      <th>cumulative_perc</th>\n",
       "    </tr>\n",
       "  </thead>\n",
       "  <tbody>\n",
       "    <tr>\n",
       "      <th>0</th>\n",
       "      <td>Categoria13</td>\n",
       "      <td>3637</td>\n",
       "      <td>0.453435</td>\n",
       "      <td>0.454057</td>\n",
       "    </tr>\n",
       "    <tr>\n",
       "      <th>1</th>\n",
       "      <td>Categoría11</td>\n",
       "      <td>1372</td>\n",
       "      <td>0.171051</td>\n",
       "      <td>0.625343</td>\n",
       "    </tr>\n",
       "    <tr>\n",
       "      <th>2</th>\n",
       "      <td>Categoría12</td>\n",
       "      <td>712</td>\n",
       "      <td>0.088767</td>\n",
       "      <td>0.714232</td>\n",
       "    </tr>\n",
       "    <tr>\n",
       "      <th>3</th>\n",
       "      <td>Categoría9</td>\n",
       "      <td>526</td>\n",
       "      <td>0.065578</td>\n",
       "      <td>0.779900</td>\n",
       "    </tr>\n",
       "    <tr>\n",
       "      <th>4</th>\n",
       "      <td>Categoría10</td>\n",
       "      <td>453</td>\n",
       "      <td>0.056477</td>\n",
       "      <td>0.836454</td>\n",
       "    </tr>\n",
       "    <tr>\n",
       "      <th>5</th>\n",
       "      <td>Categoría6</td>\n",
       "      <td>329</td>\n",
       "      <td>0.041017</td>\n",
       "      <td>0.877528</td>\n",
       "    </tr>\n",
       "    <tr>\n",
       "      <th>6</th>\n",
       "      <td>Categoría8</td>\n",
       "      <td>240</td>\n",
       "      <td>0.029921</td>\n",
       "      <td>0.907491</td>\n",
       "    </tr>\n",
       "    <tr>\n",
       "      <th>7</th>\n",
       "      <td>Categoría3</td>\n",
       "      <td>192</td>\n",
       "      <td>0.023937</td>\n",
       "      <td>0.931461</td>\n",
       "    </tr>\n",
       "    <tr>\n",
       "      <th>8</th>\n",
       "      <td>Categoría5</td>\n",
       "      <td>164</td>\n",
       "      <td>0.020446</td>\n",
       "      <td>0.951935</td>\n",
       "    </tr>\n",
       "    <tr>\n",
       "      <th>9</th>\n",
       "      <td>Categoría7</td>\n",
       "      <td>152</td>\n",
       "      <td>0.018950</td>\n",
       "      <td>0.970911</td>\n",
       "    </tr>\n",
       "    <tr>\n",
       "      <th>10</th>\n",
       "      <td>Categoría2</td>\n",
       "      <td>130</td>\n",
       "      <td>0.016207</td>\n",
       "      <td>0.987141</td>\n",
       "    </tr>\n",
       "    <tr>\n",
       "      <th>11</th>\n",
       "      <td>Categoría4</td>\n",
       "      <td>58</td>\n",
       "      <td>0.007231</td>\n",
       "      <td>0.994382</td>\n",
       "    </tr>\n",
       "    <tr>\n",
       "      <th>12</th>\n",
       "      <td>Categoría1</td>\n",
       "      <td>45</td>\n",
       "      <td>0.005610</td>\n",
       "      <td>1.000000</td>\n",
       "    </tr>\n",
       "  </tbody>\n",
       "</table>\n",
       "</div>"
      ],
      "text/plain": [
       "   review_scores_cleanliness  frequency  percentage  cumulative_perc\n",
       "0                Categoria13       3637    0.453435         0.454057\n",
       "1                Categoría11       1372    0.171051         0.625343\n",
       "2                Categoría12        712    0.088767         0.714232\n",
       "3                 Categoría9        526    0.065578         0.779900\n",
       "4                Categoría10        453    0.056477         0.836454\n",
       "5                 Categoría6        329    0.041017         0.877528\n",
       "6                 Categoría8        240    0.029921         0.907491\n",
       "7                 Categoría3        192    0.023937         0.931461\n",
       "8                 Categoría5        164    0.020446         0.951935\n",
       "9                 Categoría7        152    0.018950         0.970911\n",
       "10                Categoría2        130    0.016207         0.987141\n",
       "11                Categoría4         58    0.007231         0.994382\n",
       "12                Categoría1         45    0.005610         1.000000"
      ]
     },
     "execution_count": 293,
     "metadata": {},
     "output_type": "execute_result"
    }
   ],
   "source": [
    "#Obtengo un análisis univariado de una variable categórica en específico  \n",
    "variable_8 = freq_tbl(Micro_Retailer_1['review_scores_cleanliness'])\n",
    "variable_8"
   ]
  },
  {
   "cell_type": "code",
   "execution_count": 294,
   "metadata": {},
   "outputs": [
    {
     "data": {
      "text/html": [
       "<div>\n",
       "<style scoped>\n",
       "    .dataframe tbody tr th:only-of-type {\n",
       "        vertical-align: middle;\n",
       "    }\n",
       "\n",
       "    .dataframe tbody tr th {\n",
       "        vertical-align: top;\n",
       "    }\n",
       "\n",
       "    .dataframe thead th {\n",
       "        text-align: right;\n",
       "    }\n",
       "</style>\n",
       "<table border=\"1\" class=\"dataframe\">\n",
       "  <thead>\n",
       "    <tr style=\"text-align: right;\">\n",
       "      <th></th>\n",
       "      <th>review_scores_cleanliness</th>\n",
       "      <th>frequency</th>\n",
       "    </tr>\n",
       "  </thead>\n",
       "  <tbody>\n",
       "    <tr>\n",
       "      <th>0</th>\n",
       "      <td>Categoria13</td>\n",
       "      <td>3637</td>\n",
       "    </tr>\n",
       "    <tr>\n",
       "      <th>1</th>\n",
       "      <td>Categoría11</td>\n",
       "      <td>1372</td>\n",
       "    </tr>\n",
       "    <tr>\n",
       "      <th>2</th>\n",
       "      <td>Categoría12</td>\n",
       "      <td>712</td>\n",
       "    </tr>\n",
       "    <tr>\n",
       "      <th>3</th>\n",
       "      <td>Categoría9</td>\n",
       "      <td>526</td>\n",
       "    </tr>\n",
       "    <tr>\n",
       "      <th>4</th>\n",
       "      <td>Categoría10</td>\n",
       "      <td>453</td>\n",
       "    </tr>\n",
       "    <tr>\n",
       "      <th>5</th>\n",
       "      <td>Categoría6</td>\n",
       "      <td>329</td>\n",
       "    </tr>\n",
       "    <tr>\n",
       "      <th>6</th>\n",
       "      <td>Categoría8</td>\n",
       "      <td>240</td>\n",
       "    </tr>\n",
       "    <tr>\n",
       "      <th>7</th>\n",
       "      <td>Categoría3</td>\n",
       "      <td>192</td>\n",
       "    </tr>\n",
       "    <tr>\n",
       "      <th>8</th>\n",
       "      <td>Categoría5</td>\n",
       "      <td>164</td>\n",
       "    </tr>\n",
       "    <tr>\n",
       "      <th>9</th>\n",
       "      <td>Categoría7</td>\n",
       "      <td>152</td>\n",
       "    </tr>\n",
       "    <tr>\n",
       "      <th>10</th>\n",
       "      <td>Categoría2</td>\n",
       "      <td>130</td>\n",
       "    </tr>\n",
       "    <tr>\n",
       "      <th>11</th>\n",
       "      <td>Categoría4</td>\n",
       "      <td>58</td>\n",
       "    </tr>\n",
       "    <tr>\n",
       "      <th>12</th>\n",
       "      <td>Categoría1</td>\n",
       "      <td>45</td>\n",
       "    </tr>\n",
       "  </tbody>\n",
       "</table>\n",
       "</div>"
      ],
      "text/plain": [
       "   review_scores_cleanliness  frequency\n",
       "0                Categoria13       3637\n",
       "1                Categoría11       1372\n",
       "2                Categoría12        712\n",
       "3                 Categoría9        526\n",
       "4                Categoría10        453\n",
       "5                 Categoría6        329\n",
       "6                 Categoría8        240\n",
       "7                 Categoría3        192\n",
       "8                 Categoría5        164\n",
       "9                 Categoría7        152\n",
       "10                Categoría2        130\n",
       "11                Categoría4         58\n",
       "12                Categoría1         45"
      ]
     },
     "execution_count": 294,
     "metadata": {},
     "output_type": "execute_result"
    }
   ],
   "source": [
    "#Elimino las columnas \"procentage\" y \"cumulative_perc\" para trabajar con las fecuencias\n",
    "variable_8_2 = variable_8.drop(['percentage', 'cumulative_perc'], axis=1)\n",
    "variable_8_2"
   ]
  },
  {
   "cell_type": "code",
   "execution_count": 295,
   "metadata": {},
   "outputs": [
    {
     "data": {
      "text/html": [
       "<div>\n",
       "<style scoped>\n",
       "    .dataframe tbody tr th:only-of-type {\n",
       "        vertical-align: middle;\n",
       "    }\n",
       "\n",
       "    .dataframe tbody tr th {\n",
       "        vertical-align: top;\n",
       "    }\n",
       "\n",
       "    .dataframe thead th {\n",
       "        text-align: right;\n",
       "    }\n",
       "</style>\n",
       "<table border=\"1\" class=\"dataframe\">\n",
       "  <thead>\n",
       "    <tr style=\"text-align: right;\">\n",
       "      <th></th>\n",
       "      <th>review_scores_cleanliness</th>\n",
       "      <th>frequency</th>\n",
       "    </tr>\n",
       "  </thead>\n",
       "  <tbody>\n",
       "    <tr>\n",
       "      <th>0</th>\n",
       "      <td>Categoria13</td>\n",
       "      <td>3637</td>\n",
       "    </tr>\n",
       "    <tr>\n",
       "      <th>1</th>\n",
       "      <td>Categoría11</td>\n",
       "      <td>1372</td>\n",
       "    </tr>\n",
       "    <tr>\n",
       "      <th>2</th>\n",
       "      <td>Categoría12</td>\n",
       "      <td>712</td>\n",
       "    </tr>\n",
       "    <tr>\n",
       "      <th>3</th>\n",
       "      <td>Categoría9</td>\n",
       "      <td>526</td>\n",
       "    </tr>\n",
       "    <tr>\n",
       "      <th>4</th>\n",
       "      <td>Categoría10</td>\n",
       "      <td>453</td>\n",
       "    </tr>\n",
       "    <tr>\n",
       "      <th>5</th>\n",
       "      <td>Categoría6</td>\n",
       "      <td>329</td>\n",
       "    </tr>\n",
       "    <tr>\n",
       "      <th>6</th>\n",
       "      <td>Categoría8</td>\n",
       "      <td>240</td>\n",
       "    </tr>\n",
       "    <tr>\n",
       "      <th>7</th>\n",
       "      <td>Categoría3</td>\n",
       "      <td>192</td>\n",
       "    </tr>\n",
       "    <tr>\n",
       "      <th>8</th>\n",
       "      <td>Categoría5</td>\n",
       "      <td>164</td>\n",
       "    </tr>\n",
       "    <tr>\n",
       "      <th>9</th>\n",
       "      <td>Categoría7</td>\n",
       "      <td>152</td>\n",
       "    </tr>\n",
       "    <tr>\n",
       "      <th>10</th>\n",
       "      <td>Categoría2</td>\n",
       "      <td>130</td>\n",
       "    </tr>\n",
       "  </tbody>\n",
       "</table>\n",
       "</div>"
      ],
      "text/plain": [
       "   review_scores_cleanliness  frequency\n",
       "0                Categoria13       3637\n",
       "1                Categoría11       1372\n",
       "2                Categoría12        712\n",
       "3                 Categoría9        526\n",
       "4                Categoría10        453\n",
       "5                 Categoría6        329\n",
       "6                 Categoría8        240\n",
       "7                 Categoría3        192\n",
       "8                 Categoría5        164\n",
       "9                 Categoría7        152\n",
       "10                Categoría2        130"
      ]
     },
     "execution_count": 295,
     "metadata": {},
     "output_type": "execute_result"
    }
   ],
   "source": [
    "filtro_8 = variable_8_2[variable_8_2['frequency'] > 100]\n",
    "filtro_8"
   ]
  },
  {
   "cell_type": "code",
   "execution_count": 296,
   "metadata": {},
   "outputs": [
    {
     "data": {
      "text/html": [
       "<div>\n",
       "<style scoped>\n",
       "    .dataframe tbody tr th:only-of-type {\n",
       "        vertical-align: middle;\n",
       "    }\n",
       "\n",
       "    .dataframe tbody tr th {\n",
       "        vertical-align: top;\n",
       "    }\n",
       "\n",
       "    .dataframe thead th {\n",
       "        text-align: right;\n",
       "    }\n",
       "</style>\n",
       "<table border=\"1\" class=\"dataframe\">\n",
       "  <thead>\n",
       "    <tr style=\"text-align: right;\">\n",
       "      <th></th>\n",
       "      <th>frequency</th>\n",
       "    </tr>\n",
       "    <tr>\n",
       "      <th>review_scores_cleanliness</th>\n",
       "      <th></th>\n",
       "    </tr>\n",
       "  </thead>\n",
       "  <tbody>\n",
       "    <tr>\n",
       "      <th>Categoria13</th>\n",
       "      <td>3637</td>\n",
       "    </tr>\n",
       "    <tr>\n",
       "      <th>Categoría11</th>\n",
       "      <td>1372</td>\n",
       "    </tr>\n",
       "    <tr>\n",
       "      <th>Categoría12</th>\n",
       "      <td>712</td>\n",
       "    </tr>\n",
       "    <tr>\n",
       "      <th>Categoría9</th>\n",
       "      <td>526</td>\n",
       "    </tr>\n",
       "    <tr>\n",
       "      <th>Categoría10</th>\n",
       "      <td>453</td>\n",
       "    </tr>\n",
       "    <tr>\n",
       "      <th>Categoría6</th>\n",
       "      <td>329</td>\n",
       "    </tr>\n",
       "    <tr>\n",
       "      <th>Categoría8</th>\n",
       "      <td>240</td>\n",
       "    </tr>\n",
       "    <tr>\n",
       "      <th>Categoría3</th>\n",
       "      <td>192</td>\n",
       "    </tr>\n",
       "    <tr>\n",
       "      <th>Categoría5</th>\n",
       "      <td>164</td>\n",
       "    </tr>\n",
       "    <tr>\n",
       "      <th>Categoría7</th>\n",
       "      <td>152</td>\n",
       "    </tr>\n",
       "    <tr>\n",
       "      <th>Categoría2</th>\n",
       "      <td>130</td>\n",
       "    </tr>\n",
       "  </tbody>\n",
       "</table>\n",
       "</div>"
      ],
      "text/plain": [
       "                           frequency\n",
       "review_scores_cleanliness           \n",
       "Categoria13                     3637\n",
       "Categoría11                     1372\n",
       "Categoría12                      712\n",
       "Categoría9                       526\n",
       "Categoría10                      453\n",
       "Categoría6                       329\n",
       "Categoría8                       240\n",
       "Categoría3                       192\n",
       "Categoría5                       164\n",
       "Categoría7                       152\n",
       "Categoría2                       130"
      ]
     },
     "execution_count": 296,
     "metadata": {},
     "output_type": "execute_result"
    }
   ],
   "source": [
    "#Ajusto el indice de mi DataFrame\n",
    "filtro_i8 = filtro_8.set_index('review_scores_cleanliness')\n",
    "filtro_i8"
   ]
  },
  {
   "cell_type": "code",
   "execution_count": 297,
   "metadata": {},
   "outputs": [
    {
     "data": {
      "text/plain": [
       "Text(0, 0.5, 'Frecuencia')"
      ]
     },
     "execution_count": 297,
     "metadata": {},
     "output_type": "execute_result"
    },
    {
     "data": {
      "image/png": "[encoded data removed]",
      "text/plain": [
       "<Figure size 1000x400 with 1 Axes>"
      ]
     },
     "metadata": {},
     "output_type": "display_data"
    }
   ],
   "source": [
    "#Realizamos grafico de barras del Dataframe filtrado\n",
    "filtro_i8.plot(kind = 'bar', width=0.8, figsize=(10,4), color = \"red\")\n",
    "plt.title('Puntuación de limpieza')\n",
    "plt.xlabel('Categoria')\n",
    "plt.ylabel('Frecuencia')"
   ]
  },
  {
   "cell_type": "code",
   "execution_count": 298,
   "metadata": {},
   "outputs": [
    {
     "name": "stdout",
     "output_type": "stream",
     "text": [
      "<class 'pandas.core.series.Series'>\n",
      "RangeIndex: 8021 entries, 0 to 8020\n",
      "Series name: review_scores_accuracy\n",
      "Non-Null Count  Dtype  \n",
      "--------------  -----  \n",
      "8021 non-null   float64\n",
      "dtypes: float64(1)\n",
      "memory usage: 62.8 KB\n"
     ]
    }
   ],
   "source": [
    "Micro_Retailer_1['review_scores_accuracy'].info()\n",
    "n = 8021\n"
   ]
  },
  {
   "cell_type": "code",
   "execution_count": 299,
   "metadata": {},
   "outputs": [
    {
     "data": {
      "text/plain": [
       "[4.5, 5.0]"
      ]
     },
     "execution_count": 299,
     "metadata": {},
     "output_type": "execute_result"
    }
   ],
   "source": [
    "Min = Micro_Retailer_1['review_scores_accuracy'].min()  \n",
    "Max = Micro_Retailer_1['review_scores_accuracy'].max()  \n",
    "Limites = [Min,Max]\n",
    "Limites"
   ]
  },
  {
   "cell_type": "code",
   "execution_count": 300,
   "metadata": {},
   "outputs": [
    {
     "data": {
      "text/plain": [
       "0.5"
      ]
     },
     "execution_count": 300,
     "metadata": {},
     "output_type": "execute_result"
    }
   ],
   "source": [
    "R = Max - Min\n",
    "R"
   ]
  },
  {
   "cell_type": "code",
   "execution_count": 301,
   "metadata": {},
   "outputs": [
    {
     "data": {
      "text/plain": [
       "13.96203867424906"
      ]
     },
     "execution_count": 301,
     "metadata": {},
     "output_type": "execute_result"
    }
   ],
   "source": [
    "ni = 1+3.32*np.log10(n)\n",
    "ni"
   ]
  },
  {
   "cell_type": "code",
   "execution_count": 302,
   "metadata": {},
   "outputs": [
    {
     "data": {
      "text/plain": [
       "0.03581138912916614"
      ]
     },
     "execution_count": 302,
     "metadata": {},
     "output_type": "execute_result"
    }
   ],
   "source": [
    "i = R/ni\n",
    "i\n"
   ]
  },
  {
   "cell_type": "code",
   "execution_count": 303,
   "metadata": {},
   "outputs": [
    {
     "data": {
      "text/plain": [
       "array([4.4       , 4.44615385, 4.49230769, 4.53846154, 4.58461538,\n",
       "       4.63076923, 4.67692308, 4.72307692, 4.76923077, 4.81538462,\n",
       "       4.86153846, 4.90769231, 4.95384615, 5.        ])"
      ]
     },
     "execution_count": 303,
     "metadata": {},
     "output_type": "execute_result"
    }
   ],
   "source": [
    "# Ver resultado\n",
    "intervalos = np.linspace(4.4, 5.0, 14) #Número de clases más uno\n",
    "intervalos"
   ]
  },
  {
   "cell_type": "code",
   "execution_count": 304,
   "metadata": {},
   "outputs": [],
   "source": [
    "categorias = [\"Categoría1\", \"Categoría2\", \"Categoría3\", \"Categoría4\",\n",
    "              \"Categoría5\", \"Categoría6\", \"Categoría7\", \"Categoría8\",\n",
    "              \"Categoría9\",\"Categoría10\",\"Categoría11\",\"Categoría12\",\n",
    "              \"Categoria13\"]"
   ]
  },
  {
   "cell_type": "code",
   "execution_count": 305,
   "metadata": {},
   "outputs": [
    {
     "data": {
      "text/plain": [
       "0       Categoría11\n",
       "1        Categoría9\n",
       "2       Categoría12\n",
       "3        Categoría8\n",
       "4       Categoria13\n",
       "           ...     \n",
       "8016     Categoría9\n",
       "8017     Categoría9\n",
       "8018     Categoría9\n",
       "8019     Categoría9\n",
       "8020     Categoría9\n",
       "Name: review_scores_accuracy, Length: 8021, dtype: category\n",
       "Categories (13, object): ['Categoría1' < 'Categoría2' < 'Categoría3' < 'Categoría4' ... 'Categoría10' < 'Categoría11' < 'Categoría12' < 'Categoria13']"
      ]
     },
     "execution_count": 305,
     "metadata": {},
     "output_type": "execute_result"
    }
   ],
   "source": [
    "Micro_Retailer_1['review_scores_accuracy'] = pd.cut(x = Micro_Retailer_1['review_scores_accuracy'], bins = intervalos, labels = categorias)\n",
    "Micro_Retailer_1['review_scores_accuracy']"
   ]
  },
  {
   "cell_type": "code",
   "execution_count": 307,
   "metadata": {},
   "outputs": [
    {
     "data": {
      "text/html": [
       "<div>\n",
       "<style scoped>\n",
       "    .dataframe tbody tr th:only-of-type {\n",
       "        vertical-align: middle;\n",
       "    }\n",
       "\n",
       "    .dataframe tbody tr th {\n",
       "        vertical-align: top;\n",
       "    }\n",
       "\n",
       "    .dataframe thead th {\n",
       "        text-align: right;\n",
       "    }\n",
       "</style>\n",
       "<table border=\"1\" class=\"dataframe\">\n",
       "  <thead>\n",
       "    <tr style=\"text-align: right;\">\n",
       "      <th></th>\n",
       "      <th>review_scores_accuracy</th>\n",
       "      <th>frequency</th>\n",
       "      <th>percentage</th>\n",
       "      <th>cumulative_perc</th>\n",
       "    </tr>\n",
       "  </thead>\n",
       "  <tbody>\n",
       "    <tr>\n",
       "      <th>0</th>\n",
       "      <td>Categoría9</td>\n",
       "      <td>2924</td>\n",
       "      <td>0.364543</td>\n",
       "      <td>0.364543</td>\n",
       "    </tr>\n",
       "    <tr>\n",
       "      <th>1</th>\n",
       "      <td>Categoria13</td>\n",
       "      <td>2594</td>\n",
       "      <td>0.323401</td>\n",
       "      <td>0.687944</td>\n",
       "    </tr>\n",
       "    <tr>\n",
       "      <th>2</th>\n",
       "      <td>Categoría12</td>\n",
       "      <td>582</td>\n",
       "      <td>0.072560</td>\n",
       "      <td>0.760504</td>\n",
       "    </tr>\n",
       "    <tr>\n",
       "      <th>3</th>\n",
       "      <td>Categoría10</td>\n",
       "      <td>450</td>\n",
       "      <td>0.056103</td>\n",
       "      <td>0.816606</td>\n",
       "    </tr>\n",
       "    <tr>\n",
       "      <th>4</th>\n",
       "      <td>Categoría11</td>\n",
       "      <td>423</td>\n",
       "      <td>0.052737</td>\n",
       "      <td>0.869343</td>\n",
       "    </tr>\n",
       "    <tr>\n",
       "      <th>5</th>\n",
       "      <td>Categoría8</td>\n",
       "      <td>255</td>\n",
       "      <td>0.031792</td>\n",
       "      <td>0.901135</td>\n",
       "    </tr>\n",
       "    <tr>\n",
       "      <th>6</th>\n",
       "      <td>Categoría6</td>\n",
       "      <td>218</td>\n",
       "      <td>0.027179</td>\n",
       "      <td>0.928313</td>\n",
       "    </tr>\n",
       "    <tr>\n",
       "      <th>7</th>\n",
       "      <td>Categoría3</td>\n",
       "      <td>194</td>\n",
       "      <td>0.024187</td>\n",
       "      <td>0.952500</td>\n",
       "    </tr>\n",
       "    <tr>\n",
       "      <th>8</th>\n",
       "      <td>Categoría7</td>\n",
       "      <td>166</td>\n",
       "      <td>0.020696</td>\n",
       "      <td>0.973195</td>\n",
       "    </tr>\n",
       "    <tr>\n",
       "      <th>9</th>\n",
       "      <td>Categoría5</td>\n",
       "      <td>117</td>\n",
       "      <td>0.014587</td>\n",
       "      <td>0.987782</td>\n",
       "    </tr>\n",
       "    <tr>\n",
       "      <th>10</th>\n",
       "      <td>Categoría4</td>\n",
       "      <td>98</td>\n",
       "      <td>0.012218</td>\n",
       "      <td>1.000000</td>\n",
       "    </tr>\n",
       "    <tr>\n",
       "      <th>11</th>\n",
       "      <td>Categoría1</td>\n",
       "      <td>0</td>\n",
       "      <td>0.000000</td>\n",
       "      <td>1.000000</td>\n",
       "    </tr>\n",
       "    <tr>\n",
       "      <th>12</th>\n",
       "      <td>Categoría2</td>\n",
       "      <td>0</td>\n",
       "      <td>0.000000</td>\n",
       "      <td>1.000000</td>\n",
       "    </tr>\n",
       "  </tbody>\n",
       "</table>\n",
       "</div>"
      ],
      "text/plain": [
       "   review_scores_accuracy  frequency  percentage  cumulative_perc\n",
       "0              Categoría9       2924    0.364543         0.364543\n",
       "1             Categoria13       2594    0.323401         0.687944\n",
       "2             Categoría12        582    0.072560         0.760504\n",
       "3             Categoría10        450    0.056103         0.816606\n",
       "4             Categoría11        423    0.052737         0.869343\n",
       "5              Categoría8        255    0.031792         0.901135\n",
       "6              Categoría6        218    0.027179         0.928313\n",
       "7              Categoría3        194    0.024187         0.952500\n",
       "8              Categoría7        166    0.020696         0.973195\n",
       "9              Categoría5        117    0.014587         0.987782\n",
       "10             Categoría4         98    0.012218         1.000000\n",
       "11             Categoría1          0    0.000000         1.000000\n",
       "12             Categoría2          0    0.000000         1.000000"
      ]
     },
     "execution_count": 307,
     "metadata": {},
     "output_type": "execute_result"
    }
   ],
   "source": [
    "#Obtengo un análisis univariado de una variable categórica en específico  \n",
    "variable_9 = freq_tbl(Micro_Retailer_1['review_scores_accuracy'])\n",
    "variable_9"
   ]
  },
  {
   "cell_type": "code",
   "execution_count": 308,
   "metadata": {},
   "outputs": [
    {
     "data": {
      "text/html": [
       "<div>\n",
       "<style scoped>\n",
       "    .dataframe tbody tr th:only-of-type {\n",
       "        vertical-align: middle;\n",
       "    }\n",
       "\n",
       "    .dataframe tbody tr th {\n",
       "        vertical-align: top;\n",
       "    }\n",
       "\n",
       "    .dataframe thead th {\n",
       "        text-align: right;\n",
       "    }\n",
       "</style>\n",
       "<table border=\"1\" class=\"dataframe\">\n",
       "  <thead>\n",
       "    <tr style=\"text-align: right;\">\n",
       "      <th></th>\n",
       "      <th>review_scores_accuracy</th>\n",
       "      <th>frequency</th>\n",
       "    </tr>\n",
       "  </thead>\n",
       "  <tbody>\n",
       "    <tr>\n",
       "      <th>0</th>\n",
       "      <td>Categoría9</td>\n",
       "      <td>2924</td>\n",
       "    </tr>\n",
       "    <tr>\n",
       "      <th>1</th>\n",
       "      <td>Categoria13</td>\n",
       "      <td>2594</td>\n",
       "    </tr>\n",
       "    <tr>\n",
       "      <th>2</th>\n",
       "      <td>Categoría12</td>\n",
       "      <td>582</td>\n",
       "    </tr>\n",
       "    <tr>\n",
       "      <th>3</th>\n",
       "      <td>Categoría10</td>\n",
       "      <td>450</td>\n",
       "    </tr>\n",
       "    <tr>\n",
       "      <th>4</th>\n",
       "      <td>Categoría11</td>\n",
       "      <td>423</td>\n",
       "    </tr>\n",
       "    <tr>\n",
       "      <th>5</th>\n",
       "      <td>Categoría8</td>\n",
       "      <td>255</td>\n",
       "    </tr>\n",
       "    <tr>\n",
       "      <th>6</th>\n",
       "      <td>Categoría6</td>\n",
       "      <td>218</td>\n",
       "    </tr>\n",
       "    <tr>\n",
       "      <th>7</th>\n",
       "      <td>Categoría3</td>\n",
       "      <td>194</td>\n",
       "    </tr>\n",
       "    <tr>\n",
       "      <th>8</th>\n",
       "      <td>Categoría7</td>\n",
       "      <td>166</td>\n",
       "    </tr>\n",
       "    <tr>\n",
       "      <th>9</th>\n",
       "      <td>Categoría5</td>\n",
       "      <td>117</td>\n",
       "    </tr>\n",
       "    <tr>\n",
       "      <th>10</th>\n",
       "      <td>Categoría4</td>\n",
       "      <td>98</td>\n",
       "    </tr>\n",
       "    <tr>\n",
       "      <th>11</th>\n",
       "      <td>Categoría1</td>\n",
       "      <td>0</td>\n",
       "    </tr>\n",
       "    <tr>\n",
       "      <th>12</th>\n",
       "      <td>Categoría2</td>\n",
       "      <td>0</td>\n",
       "    </tr>\n",
       "  </tbody>\n",
       "</table>\n",
       "</div>"
      ],
      "text/plain": [
       "   review_scores_accuracy  frequency\n",
       "0              Categoría9       2924\n",
       "1             Categoria13       2594\n",
       "2             Categoría12        582\n",
       "3             Categoría10        450\n",
       "4             Categoría11        423\n",
       "5              Categoría8        255\n",
       "6              Categoría6        218\n",
       "7              Categoría3        194\n",
       "8              Categoría7        166\n",
       "9              Categoría5        117\n",
       "10             Categoría4         98\n",
       "11             Categoría1          0\n",
       "12             Categoría2          0"
      ]
     },
     "execution_count": 308,
     "metadata": {},
     "output_type": "execute_result"
    }
   ],
   "source": [
    "#Elimino las columnas \"procentage\" y \"cumulative_perc\" para trabajar con las fecuencias\n",
    "variable_9_2 = variable_9.drop(['percentage', 'cumulative_perc'], axis=1)\n",
    "variable_9_2\n"
   ]
  },
  {
   "cell_type": "code",
   "execution_count": 309,
   "metadata": {},
   "outputs": [
    {
     "data": {
      "text/html": [
       "<div>\n",
       "<style scoped>\n",
       "    .dataframe tbody tr th:only-of-type {\n",
       "        vertical-align: middle;\n",
       "    }\n",
       "\n",
       "    .dataframe tbody tr th {\n",
       "        vertical-align: top;\n",
       "    }\n",
       "\n",
       "    .dataframe thead th {\n",
       "        text-align: right;\n",
       "    }\n",
       "</style>\n",
       "<table border=\"1\" class=\"dataframe\">\n",
       "  <thead>\n",
       "    <tr style=\"text-align: right;\">\n",
       "      <th></th>\n",
       "      <th>review_scores_accuracy</th>\n",
       "      <th>frequency</th>\n",
       "    </tr>\n",
       "  </thead>\n",
       "  <tbody>\n",
       "    <tr>\n",
       "      <th>0</th>\n",
       "      <td>Categoría9</td>\n",
       "      <td>2924</td>\n",
       "    </tr>\n",
       "    <tr>\n",
       "      <th>1</th>\n",
       "      <td>Categoria13</td>\n",
       "      <td>2594</td>\n",
       "    </tr>\n",
       "    <tr>\n",
       "      <th>2</th>\n",
       "      <td>Categoría12</td>\n",
       "      <td>582</td>\n",
       "    </tr>\n",
       "    <tr>\n",
       "      <th>3</th>\n",
       "      <td>Categoría10</td>\n",
       "      <td>450</td>\n",
       "    </tr>\n",
       "    <tr>\n",
       "      <th>4</th>\n",
       "      <td>Categoría11</td>\n",
       "      <td>423</td>\n",
       "    </tr>\n",
       "    <tr>\n",
       "      <th>5</th>\n",
       "      <td>Categoría8</td>\n",
       "      <td>255</td>\n",
       "    </tr>\n",
       "    <tr>\n",
       "      <th>6</th>\n",
       "      <td>Categoría6</td>\n",
       "      <td>218</td>\n",
       "    </tr>\n",
       "    <tr>\n",
       "      <th>7</th>\n",
       "      <td>Categoría3</td>\n",
       "      <td>194</td>\n",
       "    </tr>\n",
       "    <tr>\n",
       "      <th>8</th>\n",
       "      <td>Categoría7</td>\n",
       "      <td>166</td>\n",
       "    </tr>\n",
       "    <tr>\n",
       "      <th>9</th>\n",
       "      <td>Categoría5</td>\n",
       "      <td>117</td>\n",
       "    </tr>\n",
       "  </tbody>\n",
       "</table>\n",
       "</div>"
      ],
      "text/plain": [
       "  review_scores_accuracy  frequency\n",
       "0             Categoría9       2924\n",
       "1            Categoria13       2594\n",
       "2            Categoría12        582\n",
       "3            Categoría10        450\n",
       "4            Categoría11        423\n",
       "5             Categoría8        255\n",
       "6             Categoría6        218\n",
       "7             Categoría3        194\n",
       "8             Categoría7        166\n",
       "9             Categoría5        117"
      ]
     },
     "execution_count": 309,
     "metadata": {},
     "output_type": "execute_result"
    }
   ],
   "source": [
    "filtro_9 = variable_9_2[variable_9_2['frequency'] > 100]\n",
    "filtro_9"
   ]
  },
  {
   "cell_type": "code",
   "execution_count": 310,
   "metadata": {},
   "outputs": [
    {
     "data": {
      "text/html": [
       "<div>\n",
       "<style scoped>\n",
       "    .dataframe tbody tr th:only-of-type {\n",
       "        vertical-align: middle;\n",
       "    }\n",
       "\n",
       "    .dataframe tbody tr th {\n",
       "        vertical-align: top;\n",
       "    }\n",
       "\n",
       "    .dataframe thead th {\n",
       "        text-align: right;\n",
       "    }\n",
       "</style>\n",
       "<table border=\"1\" class=\"dataframe\">\n",
       "  <thead>\n",
       "    <tr style=\"text-align: right;\">\n",
       "      <th></th>\n",
       "      <th>frequency</th>\n",
       "    </tr>\n",
       "    <tr>\n",
       "      <th>review_scores_accuracy</th>\n",
       "      <th></th>\n",
       "    </tr>\n",
       "  </thead>\n",
       "  <tbody>\n",
       "    <tr>\n",
       "      <th>Categoría9</th>\n",
       "      <td>2924</td>\n",
       "    </tr>\n",
       "    <tr>\n",
       "      <th>Categoria13</th>\n",
       "      <td>2594</td>\n",
       "    </tr>\n",
       "    <tr>\n",
       "      <th>Categoría12</th>\n",
       "      <td>582</td>\n",
       "    </tr>\n",
       "    <tr>\n",
       "      <th>Categoría10</th>\n",
       "      <td>450</td>\n",
       "    </tr>\n",
       "    <tr>\n",
       "      <th>Categoría11</th>\n",
       "      <td>423</td>\n",
       "    </tr>\n",
       "    <tr>\n",
       "      <th>Categoría8</th>\n",
       "      <td>255</td>\n",
       "    </tr>\n",
       "    <tr>\n",
       "      <th>Categoría6</th>\n",
       "      <td>218</td>\n",
       "    </tr>\n",
       "    <tr>\n",
       "      <th>Categoría3</th>\n",
       "      <td>194</td>\n",
       "    </tr>\n",
       "    <tr>\n",
       "      <th>Categoría7</th>\n",
       "      <td>166</td>\n",
       "    </tr>\n",
       "    <tr>\n",
       "      <th>Categoría5</th>\n",
       "      <td>117</td>\n",
       "    </tr>\n",
       "  </tbody>\n",
       "</table>\n",
       "</div>"
      ],
      "text/plain": [
       "                        frequency\n",
       "review_scores_accuracy           \n",
       "Categoría9                   2924\n",
       "Categoria13                  2594\n",
       "Categoría12                   582\n",
       "Categoría10                   450\n",
       "Categoría11                   423\n",
       "Categoría8                    255\n",
       "Categoría6                    218\n",
       "Categoría3                    194\n",
       "Categoría7                    166\n",
       "Categoría5                    117"
      ]
     },
     "execution_count": 310,
     "metadata": {},
     "output_type": "execute_result"
    }
   ],
   "source": [
    "#Ajusto el indice de mi DataFrame\n",
    "filtro_i9 = filtro_9.set_index('review_scores_accuracy')\n",
    "filtro_i9"
   ]
  },
  {
   "cell_type": "code",
   "execution_count": 311,
   "metadata": {},
   "outputs": [
    {
     "data": {
      "text/plain": [
       "Text(0, 0.5, 'Frecuencia')"
      ]
     },
     "execution_count": 311,
     "metadata": {},
     "output_type": "execute_result"
    },
    {
     "data": {
      "image/png": "[encoded data removed]",
      "text/plain": [
       "<Figure size 1000x400 with 1 Axes>"
      ]
     },
     "metadata": {},
     "output_type": "display_data"
    }
   ],
   "source": [
    "#Realizamos grafico de barras del Dataframe filtrado\n",
    "filtro_i9.plot(kind = 'bar', width=0.8, figsize=(10,4), color = \"red\")\n",
    "plt.title('Evaluación de precisión')\n",
    "plt.xlabel('Categoria')\n",
    "plt.ylabel('Frecuencia')"
   ]
  }
 ],
 "metadata": {
  "kernelspec": {
   "display_name": "Python 3",
   "language": "python",
   "name": "python3"
  },
  "language_info": {
   "codemirror_mode": {
    "name": "ipython",
    "version": 3
   },
   "file_extension": ".py",
   "mimetype": "text/x-python",
   "name": "python",
   "nbconvert_exporter": "python",
   "pygments_lexer": "ipython3",
   "version": "3.12.6"
  }
 },
 "nbformat": 4,
 "nbformat_minor": 2
}
