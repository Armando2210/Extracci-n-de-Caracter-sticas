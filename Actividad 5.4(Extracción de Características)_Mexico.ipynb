{
 "cells": [
  {
   "cell_type": "code",
   "execution_count": 1,
   "metadata": {},
   "outputs": [],
   "source": [
    "#Importamos las libreias pandas, numpy y matplolib respectivamente \n",
    "import pandas as pd\n",
    "import numpy as np\n",
    "import matplotlib.pyplot as plt\n",
    "from funpymodeling.exploratory import freq_tbl"
   ]
  },
  {
   "cell_type": "code",
   "execution_count": 2,
   "metadata": {},
   "outputs": [
    {
     "data": {
      "text/html": [
       "<div>\n",
       "<style scoped>\n",
       "    .dataframe tbody tr th:only-of-type {\n",
       "        vertical-align: middle;\n",
       "    }\n",
       "\n",
       "    .dataframe tbody tr th {\n",
       "        vertical-align: top;\n",
       "    }\n",
       "\n",
       "    .dataframe thead th {\n",
       "        text-align: right;\n",
       "    }\n",
       "</style>\n",
       "<table border=\"1\" class=\"dataframe\">\n",
       "  <thead>\n",
       "    <tr style=\"text-align: right;\">\n",
       "      <th></th>\n",
       "      <th>Unnamed: 0</th>\n",
       "      <th>listing_url</th>\n",
       "      <th>host_since</th>\n",
       "      <th>host_response_time</th>\n",
       "      <th>host_response_rate</th>\n",
       "      <th>host_acceptance_rate</th>\n",
       "      <th>host_is_superhost</th>\n",
       "      <th>host_verifications</th>\n",
       "      <th>neighbourhood_cleansed</th>\n",
       "      <th>property_type</th>\n",
       "      <th>...</th>\n",
       "      <th>review_scores_cleanliness</th>\n",
       "      <th>review_scores_checkin</th>\n",
       "      <th>review_scores_communication</th>\n",
       "      <th>review_scores_location</th>\n",
       "      <th>review_scores_value</th>\n",
       "      <th>calculated_host_listings_count</th>\n",
       "      <th>calculated_host_listings_count_entire_homes</th>\n",
       "      <th>calculated_host_listings_count_private_rooms</th>\n",
       "      <th>calculated_host_listings_count_shared_rooms</th>\n",
       "      <th>reviews_per_month</th>\n",
       "    </tr>\n",
       "  </thead>\n",
       "  <tbody>\n",
       "    <tr>\n",
       "      <th>0</th>\n",
       "      <td>0</td>\n",
       "      <td>https://www.airbnb.com/rooms/35797</td>\n",
       "      <td>2010-06-28</td>\n",
       "      <td>a few days or more</td>\n",
       "      <td>0%</td>\n",
       "      <td>92%</td>\n",
       "      <td>f</td>\n",
       "      <td>['email', 'phone', 'work_email']</td>\n",
       "      <td>Cuajimalpa de Morelos</td>\n",
       "      <td>Entire villa</td>\n",
       "      <td>...</td>\n",
       "      <td>4.84</td>\n",
       "      <td>4.80</td>\n",
       "      <td>4.80</td>\n",
       "      <td>4.80</td>\n",
       "      <td>4.70</td>\n",
       "      <td>1.0</td>\n",
       "      <td>1.0</td>\n",
       "      <td>0.0</td>\n",
       "      <td>0.0</td>\n",
       "      <td>1.70</td>\n",
       "    </tr>\n",
       "    <tr>\n",
       "      <th>1</th>\n",
       "      <td>1</td>\n",
       "      <td>https://www.airbnb.com/rooms/44616</td>\n",
       "      <td>2010-08-09</td>\n",
       "      <td>within an hour</td>\n",
       "      <td>100%</td>\n",
       "      <td>93%</td>\n",
       "      <td>t</td>\n",
       "      <td>['email', 'phone', 'work_email']</td>\n",
       "      <td>Cuauhtémoc</td>\n",
       "      <td>Entire home</td>\n",
       "      <td>...</td>\n",
       "      <td>4.70</td>\n",
       "      <td>4.87</td>\n",
       "      <td>4.78</td>\n",
       "      <td>4.98</td>\n",
       "      <td>4.48</td>\n",
       "      <td>8.0</td>\n",
       "      <td>4.0</td>\n",
       "      <td>1.0</td>\n",
       "      <td>0.0</td>\n",
       "      <td>0.41</td>\n",
       "    </tr>\n",
       "    <tr>\n",
       "      <th>2</th>\n",
       "      <td>2</td>\n",
       "      <td>https://www.airbnb.com/rooms/67703</td>\n",
       "      <td>2011-01-04</td>\n",
       "      <td>within an hour</td>\n",
       "      <td>71%</td>\n",
       "      <td>57%</td>\n",
       "      <td>t</td>\n",
       "      <td>['email', 'phone']</td>\n",
       "      <td>Cuauhtémoc</td>\n",
       "      <td>Entire rental unit</td>\n",
       "      <td>...</td>\n",
       "      <td>4.75</td>\n",
       "      <td>4.94</td>\n",
       "      <td>4.92</td>\n",
       "      <td>4.98</td>\n",
       "      <td>4.91</td>\n",
       "      <td>2.0</td>\n",
       "      <td>2.0</td>\n",
       "      <td>0.0</td>\n",
       "      <td>0.0</td>\n",
       "      <td>0.31</td>\n",
       "    </tr>\n",
       "    <tr>\n",
       "      <th>3</th>\n",
       "      <td>3</td>\n",
       "      <td>https://www.airbnb.com/rooms/70644</td>\n",
       "      <td>2010-08-24</td>\n",
       "      <td>within a few hours</td>\n",
       "      <td>100%</td>\n",
       "      <td>100%</td>\n",
       "      <td>t</td>\n",
       "      <td>['email', 'phone', 'work_email']</td>\n",
       "      <td>Coyoacán</td>\n",
       "      <td>Entire rental unit</td>\n",
       "      <td>...</td>\n",
       "      <td>4.96</td>\n",
       "      <td>4.96</td>\n",
       "      <td>4.98</td>\n",
       "      <td>4.96</td>\n",
       "      <td>4.92</td>\n",
       "      <td>3.0</td>\n",
       "      <td>2.0</td>\n",
       "      <td>1.0</td>\n",
       "      <td>0.0</td>\n",
       "      <td>0.83</td>\n",
       "    </tr>\n",
       "    <tr>\n",
       "      <th>4</th>\n",
       "      <td>4</td>\n",
       "      <td>https://www.airbnb.com/rooms/107078</td>\n",
       "      <td>2011-04-27</td>\n",
       "      <td>within an hour</td>\n",
       "      <td>100%</td>\n",
       "      <td>100%</td>\n",
       "      <td>t</td>\n",
       "      <td>['email', 'phone']</td>\n",
       "      <td>Miguel Hidalgo</td>\n",
       "      <td>Entire loft</td>\n",
       "      <td>...</td>\n",
       "      <td>5.00</td>\n",
       "      <td>5.00</td>\n",
       "      <td>4.73</td>\n",
       "      <td>4.91</td>\n",
       "      <td>4.82</td>\n",
       "      <td>3.0</td>\n",
       "      <td>3.0</td>\n",
       "      <td>0.0</td>\n",
       "      <td>0.0</td>\n",
       "      <td>0.11</td>\n",
       "    </tr>\n",
       "  </tbody>\n",
       "</table>\n",
       "<p>5 rows × 51 columns</p>\n",
       "</div>"
      ],
      "text/plain": [
       "   Unnamed: 0                          listing_url  host_since  \\\n",
       "0           0   https://www.airbnb.com/rooms/35797  2010-06-28   \n",
       "1           1   https://www.airbnb.com/rooms/44616  2010-08-09   \n",
       "2           2   https://www.airbnb.com/rooms/67703  2011-01-04   \n",
       "3           3   https://www.airbnb.com/rooms/70644  2010-08-24   \n",
       "4           4  https://www.airbnb.com/rooms/107078  2011-04-27   \n",
       "\n",
       "   host_response_time host_response_rate host_acceptance_rate  \\\n",
       "0  a few days or more                 0%                  92%   \n",
       "1      within an hour               100%                  93%   \n",
       "2      within an hour                71%                  57%   \n",
       "3  within a few hours               100%                 100%   \n",
       "4      within an hour               100%                 100%   \n",
       "\n",
       "  host_is_superhost                host_verifications neighbourhood_cleansed  \\\n",
       "0                 f  ['email', 'phone', 'work_email']  Cuajimalpa de Morelos   \n",
       "1                 t  ['email', 'phone', 'work_email']             Cuauhtémoc   \n",
       "2                 t                ['email', 'phone']             Cuauhtémoc   \n",
       "3                 t  ['email', 'phone', 'work_email']               Coyoacán   \n",
       "4                 t                ['email', 'phone']         Miguel Hidalgo   \n",
       "\n",
       "        property_type  ... review_scores_cleanliness review_scores_checkin  \\\n",
       "0        Entire villa  ...                      4.84                  4.80   \n",
       "1         Entire home  ...                      4.70                  4.87   \n",
       "2  Entire rental unit  ...                      4.75                  4.94   \n",
       "3  Entire rental unit  ...                      4.96                  4.96   \n",
       "4         Entire loft  ...                      5.00                  5.00   \n",
       "\n",
       "  review_scores_communication review_scores_location review_scores_value  \\\n",
       "0                        4.80                   4.80                4.70   \n",
       "1                        4.78                   4.98                4.48   \n",
       "2                        4.92                   4.98                4.91   \n",
       "3                        4.98                   4.96                4.92   \n",
       "4                        4.73                   4.91                4.82   \n",
       "\n",
       "  calculated_host_listings_count calculated_host_listings_count_entire_homes  \\\n",
       "0                            1.0                                         1.0   \n",
       "1                            8.0                                         4.0   \n",
       "2                            2.0                                         2.0   \n",
       "3                            3.0                                         2.0   \n",
       "4                            3.0                                         3.0   \n",
       "\n",
       "  calculated_host_listings_count_private_rooms  \\\n",
       "0                                          0.0   \n",
       "1                                          1.0   \n",
       "2                                          0.0   \n",
       "3                                          1.0   \n",
       "4                                          0.0   \n",
       "\n",
       "   calculated_host_listings_count_shared_rooms  reviews_per_month  \n",
       "0                                          0.0               1.70  \n",
       "1                                          0.0               0.41  \n",
       "2                                          0.0               0.31  \n",
       "3                                          0.0               0.83  \n",
       "4                                          0.0               0.11  \n",
       "\n",
       "[5 rows x 51 columns]"
      ]
     },
     "execution_count": 2,
     "metadata": {},
     "output_type": "execute_result"
    }
   ],
   "source": [
    "#carga desde un archivo .csv sin indice \n",
    "Micro_Retailer = pd.read_csv('Datos_Mexico_limpio.csv')\n",
    "Micro_Retailer.head(5)"
   ]
  },
  {
   "cell_type": "code",
   "execution_count": 3,
   "metadata": {},
   "outputs": [],
   "source": [
    "Micro_Retailer_1 = Micro_Retailer.drop(['Unnamed: 0'], axis=1)"
   ]
  },
  {
   "cell_type": "code",
   "execution_count": 4,
   "metadata": {},
   "outputs": [
    {
     "data": {
      "text/html": [
       "<div>\n",
       "<style scoped>\n",
       "    .dataframe tbody tr th:only-of-type {\n",
       "        vertical-align: middle;\n",
       "    }\n",
       "\n",
       "    .dataframe tbody tr th {\n",
       "        vertical-align: top;\n",
       "    }\n",
       "\n",
       "    .dataframe thead th {\n",
       "        text-align: right;\n",
       "    }\n",
       "</style>\n",
       "<table border=\"1\" class=\"dataframe\">\n",
       "  <thead>\n",
       "    <tr style=\"text-align: right;\">\n",
       "      <th></th>\n",
       "      <th>listing_url</th>\n",
       "      <th>host_since</th>\n",
       "      <th>host_response_time</th>\n",
       "      <th>host_response_rate</th>\n",
       "      <th>host_acceptance_rate</th>\n",
       "      <th>host_is_superhost</th>\n",
       "      <th>host_verifications</th>\n",
       "      <th>neighbourhood_cleansed</th>\n",
       "      <th>property_type</th>\n",
       "      <th>room_type</th>\n",
       "      <th>...</th>\n",
       "      <th>review_scores_cleanliness</th>\n",
       "      <th>review_scores_checkin</th>\n",
       "      <th>review_scores_communication</th>\n",
       "      <th>review_scores_location</th>\n",
       "      <th>review_scores_value</th>\n",
       "      <th>calculated_host_listings_count</th>\n",
       "      <th>calculated_host_listings_count_entire_homes</th>\n",
       "      <th>calculated_host_listings_count_private_rooms</th>\n",
       "      <th>calculated_host_listings_count_shared_rooms</th>\n",
       "      <th>reviews_per_month</th>\n",
       "    </tr>\n",
       "  </thead>\n",
       "  <tbody>\n",
       "    <tr>\n",
       "      <th>0</th>\n",
       "      <td>https://www.airbnb.com/rooms/35797</td>\n",
       "      <td>2010-06-28</td>\n",
       "      <td>a few days or more</td>\n",
       "      <td>0%</td>\n",
       "      <td>92%</td>\n",
       "      <td>f</td>\n",
       "      <td>['email', 'phone', 'work_email']</td>\n",
       "      <td>Cuajimalpa de Morelos</td>\n",
       "      <td>Entire villa</td>\n",
       "      <td>Entire home/apt</td>\n",
       "      <td>...</td>\n",
       "      <td>4.84</td>\n",
       "      <td>4.80</td>\n",
       "      <td>4.80</td>\n",
       "      <td>4.80</td>\n",
       "      <td>4.70</td>\n",
       "      <td>1.0</td>\n",
       "      <td>1.0</td>\n",
       "      <td>0.0</td>\n",
       "      <td>0.0</td>\n",
       "      <td>1.70</td>\n",
       "    </tr>\n",
       "    <tr>\n",
       "      <th>1</th>\n",
       "      <td>https://www.airbnb.com/rooms/44616</td>\n",
       "      <td>2010-08-09</td>\n",
       "      <td>within an hour</td>\n",
       "      <td>100%</td>\n",
       "      <td>93%</td>\n",
       "      <td>t</td>\n",
       "      <td>['email', 'phone', 'work_email']</td>\n",
       "      <td>Cuauhtémoc</td>\n",
       "      <td>Entire home</td>\n",
       "      <td>Entire home/apt</td>\n",
       "      <td>...</td>\n",
       "      <td>4.70</td>\n",
       "      <td>4.87</td>\n",
       "      <td>4.78</td>\n",
       "      <td>4.98</td>\n",
       "      <td>4.48</td>\n",
       "      <td>8.0</td>\n",
       "      <td>4.0</td>\n",
       "      <td>1.0</td>\n",
       "      <td>0.0</td>\n",
       "      <td>0.41</td>\n",
       "    </tr>\n",
       "    <tr>\n",
       "      <th>2</th>\n",
       "      <td>https://www.airbnb.com/rooms/67703</td>\n",
       "      <td>2011-01-04</td>\n",
       "      <td>within an hour</td>\n",
       "      <td>71%</td>\n",
       "      <td>57%</td>\n",
       "      <td>t</td>\n",
       "      <td>['email', 'phone']</td>\n",
       "      <td>Cuauhtémoc</td>\n",
       "      <td>Entire rental unit</td>\n",
       "      <td>Entire home/apt</td>\n",
       "      <td>...</td>\n",
       "      <td>4.75</td>\n",
       "      <td>4.94</td>\n",
       "      <td>4.92</td>\n",
       "      <td>4.98</td>\n",
       "      <td>4.91</td>\n",
       "      <td>2.0</td>\n",
       "      <td>2.0</td>\n",
       "      <td>0.0</td>\n",
       "      <td>0.0</td>\n",
       "      <td>0.31</td>\n",
       "    </tr>\n",
       "    <tr>\n",
       "      <th>3</th>\n",
       "      <td>https://www.airbnb.com/rooms/70644</td>\n",
       "      <td>2010-08-24</td>\n",
       "      <td>within a few hours</td>\n",
       "      <td>100%</td>\n",
       "      <td>100%</td>\n",
       "      <td>t</td>\n",
       "      <td>['email', 'phone', 'work_email']</td>\n",
       "      <td>Coyoacán</td>\n",
       "      <td>Entire rental unit</td>\n",
       "      <td>Entire home/apt</td>\n",
       "      <td>...</td>\n",
       "      <td>4.96</td>\n",
       "      <td>4.96</td>\n",
       "      <td>4.98</td>\n",
       "      <td>4.96</td>\n",
       "      <td>4.92</td>\n",
       "      <td>3.0</td>\n",
       "      <td>2.0</td>\n",
       "      <td>1.0</td>\n",
       "      <td>0.0</td>\n",
       "      <td>0.83</td>\n",
       "    </tr>\n",
       "    <tr>\n",
       "      <th>4</th>\n",
       "      <td>https://www.airbnb.com/rooms/107078</td>\n",
       "      <td>2011-04-27</td>\n",
       "      <td>within an hour</td>\n",
       "      <td>100%</td>\n",
       "      <td>100%</td>\n",
       "      <td>t</td>\n",
       "      <td>['email', 'phone']</td>\n",
       "      <td>Miguel Hidalgo</td>\n",
       "      <td>Entire loft</td>\n",
       "      <td>Entire home/apt</td>\n",
       "      <td>...</td>\n",
       "      <td>5.00</td>\n",
       "      <td>5.00</td>\n",
       "      <td>4.73</td>\n",
       "      <td>4.91</td>\n",
       "      <td>4.82</td>\n",
       "      <td>3.0</td>\n",
       "      <td>3.0</td>\n",
       "      <td>0.0</td>\n",
       "      <td>0.0</td>\n",
       "      <td>0.11</td>\n",
       "    </tr>\n",
       "    <tr>\n",
       "      <th>...</th>\n",
       "      <td>...</td>\n",
       "      <td>...</td>\n",
       "      <td>...</td>\n",
       "      <td>...</td>\n",
       "      <td>...</td>\n",
       "      <td>...</td>\n",
       "      <td>...</td>\n",
       "      <td>...</td>\n",
       "      <td>...</td>\n",
       "      <td>...</td>\n",
       "      <td>...</td>\n",
       "      <td>...</td>\n",
       "      <td>...</td>\n",
       "      <td>...</td>\n",
       "      <td>...</td>\n",
       "      <td>...</td>\n",
       "      <td>...</td>\n",
       "      <td>...</td>\n",
       "      <td>...</td>\n",
       "      <td>...</td>\n",
       "      <td>...</td>\n",
       "    </tr>\n",
       "    <tr>\n",
       "      <th>26577</th>\n",
       "      <td>https://www.airbnb.com/rooms/1252141718111439700</td>\n",
       "      <td>2016-04-16</td>\n",
       "      <td>within an hour</td>\n",
       "      <td>100%</td>\n",
       "      <td>100%</td>\n",
       "      <td>t</td>\n",
       "      <td>['email', 'phone']</td>\n",
       "      <td>Miguel Hidalgo</td>\n",
       "      <td>Private room in guesthouse</td>\n",
       "      <td>Private room</td>\n",
       "      <td>...</td>\n",
       "      <td>4.84</td>\n",
       "      <td>4.80</td>\n",
       "      <td>4.80</td>\n",
       "      <td>4.80</td>\n",
       "      <td>4.70</td>\n",
       "      <td>9.8</td>\n",
       "      <td>14.0</td>\n",
       "      <td>1.8</td>\n",
       "      <td>0.0</td>\n",
       "      <td>1.70</td>\n",
       "    </tr>\n",
       "    <tr>\n",
       "      <th>26578</th>\n",
       "      <td>https://www.airbnb.com/rooms/1252159821531694005</td>\n",
       "      <td>2024-08-13</td>\n",
       "      <td>within an hour</td>\n",
       "      <td>100%</td>\n",
       "      <td>100%</td>\n",
       "      <td>f</td>\n",
       "      <td>['email', 'phone']</td>\n",
       "      <td>Miguel Hidalgo</td>\n",
       "      <td>Room in hotel</td>\n",
       "      <td>Private room</td>\n",
       "      <td>...</td>\n",
       "      <td>4.84</td>\n",
       "      <td>4.80</td>\n",
       "      <td>4.80</td>\n",
       "      <td>4.80</td>\n",
       "      <td>4.70</td>\n",
       "      <td>16.0</td>\n",
       "      <td>8.0</td>\n",
       "      <td>1.8</td>\n",
       "      <td>0.0</td>\n",
       "      <td>1.70</td>\n",
       "    </tr>\n",
       "    <tr>\n",
       "      <th>26579</th>\n",
       "      <td>https://www.airbnb.com/rooms/1252185591721328995</td>\n",
       "      <td>2024-08-13</td>\n",
       "      <td>within an hour</td>\n",
       "      <td>100%</td>\n",
       "      <td>100%</td>\n",
       "      <td>f</td>\n",
       "      <td>['email', 'phone']</td>\n",
       "      <td>Miguel Hidalgo</td>\n",
       "      <td>Room in hotel</td>\n",
       "      <td>Private room</td>\n",
       "      <td>...</td>\n",
       "      <td>4.84</td>\n",
       "      <td>4.80</td>\n",
       "      <td>4.80</td>\n",
       "      <td>4.80</td>\n",
       "      <td>4.70</td>\n",
       "      <td>16.0</td>\n",
       "      <td>8.0</td>\n",
       "      <td>1.8</td>\n",
       "      <td>0.0</td>\n",
       "      <td>1.70</td>\n",
       "    </tr>\n",
       "    <tr>\n",
       "      <th>26580</th>\n",
       "      <td>https://www.airbnb.com/rooms/1252218347521498445</td>\n",
       "      <td>2024-08-13</td>\n",
       "      <td>within an hour</td>\n",
       "      <td>100%</td>\n",
       "      <td>100%</td>\n",
       "      <td>f</td>\n",
       "      <td>['email', 'phone']</td>\n",
       "      <td>Miguel Hidalgo</td>\n",
       "      <td>Room in hotel</td>\n",
       "      <td>Private room</td>\n",
       "      <td>...</td>\n",
       "      <td>4.84</td>\n",
       "      <td>4.80</td>\n",
       "      <td>4.80</td>\n",
       "      <td>4.80</td>\n",
       "      <td>4.70</td>\n",
       "      <td>16.0</td>\n",
       "      <td>8.0</td>\n",
       "      <td>1.8</td>\n",
       "      <td>0.0</td>\n",
       "      <td>1.70</td>\n",
       "    </tr>\n",
       "    <tr>\n",
       "      <th>26581</th>\n",
       "      <td>https://www.airbnb.com/rooms/1252229157495978163</td>\n",
       "      <td>2013-05-22</td>\n",
       "      <td>within an hour</td>\n",
       "      <td>100%</td>\n",
       "      <td>100%</td>\n",
       "      <td>t</td>\n",
       "      <td>['email', 'phone']</td>\n",
       "      <td>Miguel Hidalgo</td>\n",
       "      <td>Entire rental unit</td>\n",
       "      <td>Entire home/apt</td>\n",
       "      <td>...</td>\n",
       "      <td>4.84</td>\n",
       "      <td>4.80</td>\n",
       "      <td>4.80</td>\n",
       "      <td>4.80</td>\n",
       "      <td>4.70</td>\n",
       "      <td>4.0</td>\n",
       "      <td>4.0</td>\n",
       "      <td>0.0</td>\n",
       "      <td>0.0</td>\n",
       "      <td>1.70</td>\n",
       "    </tr>\n",
       "  </tbody>\n",
       "</table>\n",
       "<p>26582 rows × 50 columns</p>\n",
       "</div>"
      ],
      "text/plain": [
       "                                            listing_url  host_since  \\\n",
       "0                    https://www.airbnb.com/rooms/35797  2010-06-28   \n",
       "1                    https://www.airbnb.com/rooms/44616  2010-08-09   \n",
       "2                    https://www.airbnb.com/rooms/67703  2011-01-04   \n",
       "3                    https://www.airbnb.com/rooms/70644  2010-08-24   \n",
       "4                   https://www.airbnb.com/rooms/107078  2011-04-27   \n",
       "...                                                 ...         ...   \n",
       "26577  https://www.airbnb.com/rooms/1252141718111439700  2016-04-16   \n",
       "26578  https://www.airbnb.com/rooms/1252159821531694005  2024-08-13   \n",
       "26579  https://www.airbnb.com/rooms/1252185591721328995  2024-08-13   \n",
       "26580  https://www.airbnb.com/rooms/1252218347521498445  2024-08-13   \n",
       "26581  https://www.airbnb.com/rooms/1252229157495978163  2013-05-22   \n",
       "\n",
       "       host_response_time host_response_rate host_acceptance_rate  \\\n",
       "0      a few days or more                 0%                  92%   \n",
       "1          within an hour               100%                  93%   \n",
       "2          within an hour                71%                  57%   \n",
       "3      within a few hours               100%                 100%   \n",
       "4          within an hour               100%                 100%   \n",
       "...                   ...                ...                  ...   \n",
       "26577      within an hour               100%                 100%   \n",
       "26578      within an hour               100%                 100%   \n",
       "26579      within an hour               100%                 100%   \n",
       "26580      within an hour               100%                 100%   \n",
       "26581      within an hour               100%                 100%   \n",
       "\n",
       "      host_is_superhost                host_verifications  \\\n",
       "0                     f  ['email', 'phone', 'work_email']   \n",
       "1                     t  ['email', 'phone', 'work_email']   \n",
       "2                     t                ['email', 'phone']   \n",
       "3                     t  ['email', 'phone', 'work_email']   \n",
       "4                     t                ['email', 'phone']   \n",
       "...                 ...                               ...   \n",
       "26577                 t                ['email', 'phone']   \n",
       "26578                 f                ['email', 'phone']   \n",
       "26579                 f                ['email', 'phone']   \n",
       "26580                 f                ['email', 'phone']   \n",
       "26581                 t                ['email', 'phone']   \n",
       "\n",
       "      neighbourhood_cleansed               property_type        room_type  \\\n",
       "0      Cuajimalpa de Morelos                Entire villa  Entire home/apt   \n",
       "1                 Cuauhtémoc                 Entire home  Entire home/apt   \n",
       "2                 Cuauhtémoc          Entire rental unit  Entire home/apt   \n",
       "3                   Coyoacán          Entire rental unit  Entire home/apt   \n",
       "4             Miguel Hidalgo                 Entire loft  Entire home/apt   \n",
       "...                      ...                         ...              ...   \n",
       "26577         Miguel Hidalgo  Private room in guesthouse     Private room   \n",
       "26578         Miguel Hidalgo               Room in hotel     Private room   \n",
       "26579         Miguel Hidalgo               Room in hotel     Private room   \n",
       "26580         Miguel Hidalgo               Room in hotel     Private room   \n",
       "26581         Miguel Hidalgo          Entire rental unit  Entire home/apt   \n",
       "\n",
       "       ... review_scores_cleanliness review_scores_checkin  \\\n",
       "0      ...                      4.84                  4.80   \n",
       "1      ...                      4.70                  4.87   \n",
       "2      ...                      4.75                  4.94   \n",
       "3      ...                      4.96                  4.96   \n",
       "4      ...                      5.00                  5.00   \n",
       "...    ...                       ...                   ...   \n",
       "26577  ...                      4.84                  4.80   \n",
       "26578  ...                      4.84                  4.80   \n",
       "26579  ...                      4.84                  4.80   \n",
       "26580  ...                      4.84                  4.80   \n",
       "26581  ...                      4.84                  4.80   \n",
       "\n",
       "      review_scores_communication review_scores_location review_scores_value  \\\n",
       "0                            4.80                   4.80                4.70   \n",
       "1                            4.78                   4.98                4.48   \n",
       "2                            4.92                   4.98                4.91   \n",
       "3                            4.98                   4.96                4.92   \n",
       "4                            4.73                   4.91                4.82   \n",
       "...                           ...                    ...                 ...   \n",
       "26577                        4.80                   4.80                4.70   \n",
       "26578                        4.80                   4.80                4.70   \n",
       "26579                        4.80                   4.80                4.70   \n",
       "26580                        4.80                   4.80                4.70   \n",
       "26581                        4.80                   4.80                4.70   \n",
       "\n",
       "      calculated_host_listings_count  \\\n",
       "0                                1.0   \n",
       "1                                8.0   \n",
       "2                                2.0   \n",
       "3                                3.0   \n",
       "4                                3.0   \n",
       "...                              ...   \n",
       "26577                            9.8   \n",
       "26578                           16.0   \n",
       "26579                           16.0   \n",
       "26580                           16.0   \n",
       "26581                            4.0   \n",
       "\n",
       "      calculated_host_listings_count_entire_homes  \\\n",
       "0                                             1.0   \n",
       "1                                             4.0   \n",
       "2                                             2.0   \n",
       "3                                             2.0   \n",
       "4                                             3.0   \n",
       "...                                           ...   \n",
       "26577                                        14.0   \n",
       "26578                                         8.0   \n",
       "26579                                         8.0   \n",
       "26580                                         8.0   \n",
       "26581                                         4.0   \n",
       "\n",
       "       calculated_host_listings_count_private_rooms  \\\n",
       "0                                               0.0   \n",
       "1                                               1.0   \n",
       "2                                               0.0   \n",
       "3                                               1.0   \n",
       "4                                               0.0   \n",
       "...                                             ...   \n",
       "26577                                           1.8   \n",
       "26578                                           1.8   \n",
       "26579                                           1.8   \n",
       "26580                                           1.8   \n",
       "26581                                           0.0   \n",
       "\n",
       "       calculated_host_listings_count_shared_rooms  reviews_per_month  \n",
       "0                                              0.0               1.70  \n",
       "1                                              0.0               0.41  \n",
       "2                                              0.0               0.31  \n",
       "3                                              0.0               0.83  \n",
       "4                                              0.0               0.11  \n",
       "...                                            ...                ...  \n",
       "26577                                          0.0               1.70  \n",
       "26578                                          0.0               1.70  \n",
       "26579                                          0.0               1.70  \n",
       "26580                                          0.0               1.70  \n",
       "26581                                          0.0               1.70  \n",
       "\n",
       "[26582 rows x 50 columns]"
      ]
     },
     "execution_count": 4,
     "metadata": {},
     "output_type": "execute_result"
    }
   ],
   "source": [
    "#carga desde un archivo .csv sin indice \n",
    "Micro_Retailer_1"
   ]
  },
  {
   "cell_type": "code",
   "execution_count": 5,
   "metadata": {},
   "outputs": [
    {
     "name": "stdout",
     "output_type": "stream",
     "text": [
      "<class 'pandas.core.frame.DataFrame'>\n",
      "RangeIndex: 26582 entries, 0 to 26581\n",
      "Data columns (total 50 columns):\n",
      " #   Column                                        Non-Null Count  Dtype  \n",
      "---  ------                                        --------------  -----  \n",
      " 0   listing_url                                   26582 non-null  object \n",
      " 1   host_since                                    26582 non-null  object \n",
      " 2   host_response_time                            26582 non-null  object \n",
      " 3   host_response_rate                            26582 non-null  object \n",
      " 4   host_acceptance_rate                          26582 non-null  object \n",
      " 5   host_is_superhost                             26582 non-null  object \n",
      " 6   host_verifications                            26582 non-null  object \n",
      " 7   neighbourhood_cleansed                        26582 non-null  object \n",
      " 8   property_type                                 26582 non-null  object \n",
      " 9   room_type                                     26582 non-null  object \n",
      " 10  bathrooms_text                                26582 non-null  object \n",
      " 11  amenities                                     26582 non-null  object \n",
      " 12  price                                         26582 non-null  object \n",
      " 13  has_availability                              26582 non-null  object \n",
      " 14  first_review                                  26582 non-null  object \n",
      " 15  last_review                                   26582 non-null  object \n",
      " 16  instant_bookable                              26582 non-null  object \n",
      " 17  id                                            26582 non-null  int64  \n",
      " 18  host_id                                       26582 non-null  int64  \n",
      " 19  host_listings_count                           26582 non-null  float64\n",
      " 20  host_total_listings_count                     26582 non-null  float64\n",
      " 21  latitude                                      26582 non-null  float64\n",
      " 22  longitude                                     26582 non-null  float64\n",
      " 23  accommodates                                  26582 non-null  float64\n",
      " 24  bathrooms                                     26582 non-null  float64\n",
      " 25  bedrooms                                      26582 non-null  float64\n",
      " 26  beds                                          26582 non-null  float64\n",
      " 27  minimum_nights                                26582 non-null  float64\n",
      " 28  maximum_nights                                26582 non-null  int64  \n",
      " 29  minimum_nights_avg_ntm                        26582 non-null  float64\n",
      " 30  maximum_nights_avg_ntm                        26582 non-null  float64\n",
      " 31  availability_30                               26582 non-null  int64  \n",
      " 32  availability_60                               26582 non-null  int64  \n",
      " 33  availability_90                               26582 non-null  int64  \n",
      " 34  availability_365                              26582 non-null  int64  \n",
      " 35  number_of_reviews                             26582 non-null  float64\n",
      " 36  number_of_reviews_ltm                         26582 non-null  float64\n",
      " 37  number_of_reviews_l30d                        26582 non-null  float64\n",
      " 38  review_scores_rating                          26582 non-null  float64\n",
      " 39  review_scores_accuracy                        26582 non-null  float64\n",
      " 40  review_scores_cleanliness                     26582 non-null  float64\n",
      " 41  review_scores_checkin                         26582 non-null  float64\n",
      " 42  review_scores_communication                   26582 non-null  float64\n",
      " 43  review_scores_location                        26582 non-null  float64\n",
      " 44  review_scores_value                           26582 non-null  float64\n",
      " 45  calculated_host_listings_count                26582 non-null  float64\n",
      " 46  calculated_host_listings_count_entire_homes   26582 non-null  float64\n",
      " 47  calculated_host_listings_count_private_rooms  26582 non-null  float64\n",
      " 48  calculated_host_listings_count_shared_rooms   26582 non-null  float64\n",
      " 49  reviews_per_month                             26582 non-null  float64\n",
      "dtypes: float64(26), int64(7), object(17)\n",
      "memory usage: 10.1+ MB\n"
     ]
    }
   ],
   "source": [
    "#Verificamos información del DataFrame\n",
    "Micro_Retailer_1.info()"
   ]
  },
  {
   "cell_type": "code",
   "execution_count": 6,
   "metadata": {},
   "outputs": [
    {
     "data": {
      "text/html": [
       "<div>\n",
       "<style scoped>\n",
       "    .dataframe tbody tr th:only-of-type {\n",
       "        vertical-align: middle;\n",
       "    }\n",
       "\n",
       "    .dataframe tbody tr th {\n",
       "        vertical-align: top;\n",
       "    }\n",
       "\n",
       "    .dataframe thead th {\n",
       "        text-align: right;\n",
       "    }\n",
       "</style>\n",
       "<table border=\"1\" class=\"dataframe\">\n",
       "  <thead>\n",
       "    <tr style=\"text-align: right;\">\n",
       "      <th></th>\n",
       "      <th>listing_url</th>\n",
       "      <th>host_since</th>\n",
       "      <th>host_response_time</th>\n",
       "      <th>host_response_rate</th>\n",
       "      <th>host_acceptance_rate</th>\n",
       "      <th>host_is_superhost</th>\n",
       "      <th>host_verifications</th>\n",
       "      <th>neighbourhood_cleansed</th>\n",
       "      <th>property_type</th>\n",
       "      <th>room_type</th>\n",
       "      <th>...</th>\n",
       "      <th>review_scores_cleanliness</th>\n",
       "      <th>review_scores_checkin</th>\n",
       "      <th>review_scores_communication</th>\n",
       "      <th>review_scores_location</th>\n",
       "      <th>review_scores_value</th>\n",
       "      <th>calculated_host_listings_count</th>\n",
       "      <th>calculated_host_listings_count_entire_homes</th>\n",
       "      <th>calculated_host_listings_count_private_rooms</th>\n",
       "      <th>calculated_host_listings_count_shared_rooms</th>\n",
       "      <th>reviews_per_month</th>\n",
       "    </tr>\n",
       "  </thead>\n",
       "  <tbody>\n",
       "    <tr>\n",
       "      <th>0</th>\n",
       "      <td>https://www.airbnb.com/rooms/35797</td>\n",
       "      <td>2010-06-28</td>\n",
       "      <td>a few days or more</td>\n",
       "      <td>0%</td>\n",
       "      <td>92%</td>\n",
       "      <td>f</td>\n",
       "      <td>['email', 'phone', 'work_email']</td>\n",
       "      <td>Cuajimalpa de Morelos</td>\n",
       "      <td>Entire villa</td>\n",
       "      <td>Entire home/apt</td>\n",
       "      <td>...</td>\n",
       "      <td>4.84</td>\n",
       "      <td>4.80</td>\n",
       "      <td>4.80</td>\n",
       "      <td>4.80</td>\n",
       "      <td>4.70</td>\n",
       "      <td>1.0</td>\n",
       "      <td>1.0</td>\n",
       "      <td>0.0</td>\n",
       "      <td>0.0</td>\n",
       "      <td>1.70</td>\n",
       "    </tr>\n",
       "    <tr>\n",
       "      <th>1</th>\n",
       "      <td>https://www.airbnb.com/rooms/44616</td>\n",
       "      <td>2010-08-09</td>\n",
       "      <td>within an hour</td>\n",
       "      <td>100%</td>\n",
       "      <td>93%</td>\n",
       "      <td>t</td>\n",
       "      <td>['email', 'phone', 'work_email']</td>\n",
       "      <td>Cuauhtémoc</td>\n",
       "      <td>Entire home</td>\n",
       "      <td>Entire home/apt</td>\n",
       "      <td>...</td>\n",
       "      <td>4.70</td>\n",
       "      <td>4.87</td>\n",
       "      <td>4.78</td>\n",
       "      <td>4.98</td>\n",
       "      <td>4.48</td>\n",
       "      <td>8.0</td>\n",
       "      <td>4.0</td>\n",
       "      <td>1.0</td>\n",
       "      <td>0.0</td>\n",
       "      <td>0.41</td>\n",
       "    </tr>\n",
       "    <tr>\n",
       "      <th>2</th>\n",
       "      <td>https://www.airbnb.com/rooms/67703</td>\n",
       "      <td>2011-01-04</td>\n",
       "      <td>within an hour</td>\n",
       "      <td>71%</td>\n",
       "      <td>57%</td>\n",
       "      <td>t</td>\n",
       "      <td>['email', 'phone']</td>\n",
       "      <td>Cuauhtémoc</td>\n",
       "      <td>Entire rental unit</td>\n",
       "      <td>Entire home/apt</td>\n",
       "      <td>...</td>\n",
       "      <td>4.75</td>\n",
       "      <td>4.94</td>\n",
       "      <td>4.92</td>\n",
       "      <td>4.98</td>\n",
       "      <td>4.91</td>\n",
       "      <td>2.0</td>\n",
       "      <td>2.0</td>\n",
       "      <td>0.0</td>\n",
       "      <td>0.0</td>\n",
       "      <td>0.31</td>\n",
       "    </tr>\n",
       "    <tr>\n",
       "      <th>3</th>\n",
       "      <td>https://www.airbnb.com/rooms/70644</td>\n",
       "      <td>2010-08-24</td>\n",
       "      <td>within a few hours</td>\n",
       "      <td>100%</td>\n",
       "      <td>100%</td>\n",
       "      <td>t</td>\n",
       "      <td>['email', 'phone', 'work_email']</td>\n",
       "      <td>Coyoacán</td>\n",
       "      <td>Entire rental unit</td>\n",
       "      <td>Entire home/apt</td>\n",
       "      <td>...</td>\n",
       "      <td>4.96</td>\n",
       "      <td>4.96</td>\n",
       "      <td>4.98</td>\n",
       "      <td>4.96</td>\n",
       "      <td>4.92</td>\n",
       "      <td>3.0</td>\n",
       "      <td>2.0</td>\n",
       "      <td>1.0</td>\n",
       "      <td>0.0</td>\n",
       "      <td>0.83</td>\n",
       "    </tr>\n",
       "    <tr>\n",
       "      <th>4</th>\n",
       "      <td>https://www.airbnb.com/rooms/107078</td>\n",
       "      <td>2011-04-27</td>\n",
       "      <td>within an hour</td>\n",
       "      <td>100%</td>\n",
       "      <td>100%</td>\n",
       "      <td>t</td>\n",
       "      <td>['email', 'phone']</td>\n",
       "      <td>Miguel Hidalgo</td>\n",
       "      <td>Entire loft</td>\n",
       "      <td>Entire home/apt</td>\n",
       "      <td>...</td>\n",
       "      <td>5.00</td>\n",
       "      <td>5.00</td>\n",
       "      <td>4.73</td>\n",
       "      <td>4.91</td>\n",
       "      <td>4.82</td>\n",
       "      <td>3.0</td>\n",
       "      <td>3.0</td>\n",
       "      <td>0.0</td>\n",
       "      <td>0.0</td>\n",
       "      <td>0.11</td>\n",
       "    </tr>\n",
       "  </tbody>\n",
       "</table>\n",
       "<p>5 rows × 50 columns</p>\n",
       "</div>"
      ],
      "text/plain": [
       "                           listing_url  host_since  host_response_time  \\\n",
       "0   https://www.airbnb.com/rooms/35797  2010-06-28  a few days or more   \n",
       "1   https://www.airbnb.com/rooms/44616  2010-08-09      within an hour   \n",
       "2   https://www.airbnb.com/rooms/67703  2011-01-04      within an hour   \n",
       "3   https://www.airbnb.com/rooms/70644  2010-08-24  within a few hours   \n",
       "4  https://www.airbnb.com/rooms/107078  2011-04-27      within an hour   \n",
       "\n",
       "  host_response_rate host_acceptance_rate host_is_superhost  \\\n",
       "0                 0%                  92%                 f   \n",
       "1               100%                  93%                 t   \n",
       "2                71%                  57%                 t   \n",
       "3               100%                 100%                 t   \n",
       "4               100%                 100%                 t   \n",
       "\n",
       "                 host_verifications neighbourhood_cleansed  \\\n",
       "0  ['email', 'phone', 'work_email']  Cuajimalpa de Morelos   \n",
       "1  ['email', 'phone', 'work_email']             Cuauhtémoc   \n",
       "2                ['email', 'phone']             Cuauhtémoc   \n",
       "3  ['email', 'phone', 'work_email']               Coyoacán   \n",
       "4                ['email', 'phone']         Miguel Hidalgo   \n",
       "\n",
       "        property_type        room_type  ... review_scores_cleanliness  \\\n",
       "0        Entire villa  Entire home/apt  ...                      4.84   \n",
       "1         Entire home  Entire home/apt  ...                      4.70   \n",
       "2  Entire rental unit  Entire home/apt  ...                      4.75   \n",
       "3  Entire rental unit  Entire home/apt  ...                      4.96   \n",
       "4         Entire loft  Entire home/apt  ...                      5.00   \n",
       "\n",
       "  review_scores_checkin review_scores_communication review_scores_location  \\\n",
       "0                  4.80                        4.80                   4.80   \n",
       "1                  4.87                        4.78                   4.98   \n",
       "2                  4.94                        4.92                   4.98   \n",
       "3                  4.96                        4.98                   4.96   \n",
       "4                  5.00                        4.73                   4.91   \n",
       "\n",
       "  review_scores_value calculated_host_listings_count  \\\n",
       "0                4.70                            1.0   \n",
       "1                4.48                            8.0   \n",
       "2                4.91                            2.0   \n",
       "3                4.92                            3.0   \n",
       "4                4.82                            3.0   \n",
       "\n",
       "  calculated_host_listings_count_entire_homes  \\\n",
       "0                                         1.0   \n",
       "1                                         4.0   \n",
       "2                                         2.0   \n",
       "3                                         2.0   \n",
       "4                                         3.0   \n",
       "\n",
       "   calculated_host_listings_count_private_rooms  \\\n",
       "0                                           0.0   \n",
       "1                                           1.0   \n",
       "2                                           0.0   \n",
       "3                                           1.0   \n",
       "4                                           0.0   \n",
       "\n",
       "   calculated_host_listings_count_shared_rooms  reviews_per_month  \n",
       "0                                          0.0               1.70  \n",
       "1                                          0.0               0.41  \n",
       "2                                          0.0               0.31  \n",
       "3                                          0.0               0.83  \n",
       "4                                          0.0               0.11  \n",
       "\n",
       "[5 rows x 50 columns]"
      ]
     },
     "execution_count": 6,
     "metadata": {},
     "output_type": "execute_result"
    }
   ],
   "source": [
    "#Imprimo los primeros cinco registros del DataFrame\n",
    "Micro_Retailer_1.head(5)"
   ]
  },
  {
   "cell_type": "code",
   "execution_count": 7,
   "metadata": {},
   "outputs": [
    {
     "name": "stdout",
     "output_type": "stream",
     "text": [
      "                                            listing_url  frequency  \\\n",
      "0                    https://www.airbnb.com/rooms/35797          1   \n",
      "1       https://www.airbnb.com/rooms/897363738676670896          1   \n",
      "2       https://www.airbnb.com/rooms/897393613987324079          1   \n",
      "3       https://www.airbnb.com/rooms/894989092198576906          1   \n",
      "4       https://www.airbnb.com/rooms/894977949284306624          1   \n",
      "...                                                 ...        ...   \n",
      "26577             https://www.airbnb.com/rooms/47124933          1   \n",
      "26578             https://www.airbnb.com/rooms/47123755          1   \n",
      "26579             https://www.airbnb.com/rooms/47036712          1   \n",
      "26580             https://www.airbnb.com/rooms/47035738          1   \n",
      "26581  https://www.airbnb.com/rooms/1252229157495978163          1   \n",
      "\n",
      "       percentage  cumulative_perc  \n",
      "0        0.000038         0.000038  \n",
      "1        0.000038         0.000075  \n",
      "2        0.000038         0.000113  \n",
      "3        0.000038         0.000150  \n",
      "4        0.000038         0.000188  \n",
      "...           ...              ...  \n",
      "26577    0.000038         0.999850  \n",
      "26578    0.000038         0.999887  \n",
      "26579    0.000038         0.999925  \n",
      "26580    0.000038         0.999962  \n",
      "26581    0.000038         1.000000  \n",
      "\n",
      "[26582 rows x 4 columns]\n",
      "\n",
      "----------------------------------------------------------------\n",
      "\n",
      "      host_since  frequency  percentage  cumulative_perc\n",
      "0     2023-01-30        267    0.010044         0.010044\n",
      "1     2013-12-22        216    0.008126         0.018170\n",
      "2     2020-02-02        177    0.006659         0.024829\n",
      "3     2023-09-28        174    0.006546         0.031375\n",
      "4     2016-04-27        156    0.005869         0.037243\n",
      "...          ...        ...         ...              ...\n",
      "4045  2015-05-24          1    0.000038         0.999850\n",
      "4046  2019-01-13          1    0.000038         0.999887\n",
      "4047  2022-03-31          1    0.000038         0.999925\n",
      "4048  2014-06-05          1    0.000038         0.999962\n",
      "4049  2011-08-25          1    0.000038         1.000000\n",
      "\n",
      "[4050 rows x 4 columns]\n",
      "\n",
      "----------------------------------------------------------------\n",
      "\n",
      "   host_response_time  frequency  percentage  cumulative_perc\n",
      "0      within an hour      18792    0.706945         0.706945\n",
      "1  a few days or more       4730    0.177940         0.884885\n",
      "2  within a few hours       1957    0.073621         0.958506\n",
      "3        within a day       1103    0.041494         1.000000\n",
      "\n",
      "----------------------------------------------------------------\n",
      "\n",
      "   host_response_rate  frequency  percentage  cumulative_perc\n",
      "0                100%      21205    0.797720         0.797720\n",
      "1                 99%       1106    0.041607         0.839327\n",
      "2                  0%        567    0.021330         0.860658\n",
      "3                 90%        559    0.021029         0.881687\n",
      "4                 98%        262    0.009856         0.891543\n",
      "..                ...        ...         ...              ...\n",
      "71                18%          2    0.000075         0.999850\n",
      "72                72%          1    0.000038         0.999887\n",
      "73                46%          1    0.000038         0.999925\n",
      "74                54%          1    0.000038         0.999962\n",
      "75                 5%          1    0.000038         1.000000\n",
      "\n",
      "[76 rows x 4 columns]\n",
      "\n",
      "----------------------------------------------------------------\n",
      "\n",
      "   host_acceptance_rate  frequency  percentage  cumulative_perc\n",
      "0                  100%      10846    0.408020         0.408020\n",
      "1                   99%       3339    0.125611         0.533632\n",
      "2                   92%       3091    0.116282         0.649913\n",
      "3                   98%       1418    0.053344         0.703258\n",
      "4                   97%       1095    0.041193         0.744451\n",
      "..                  ...        ...         ...              ...\n",
      "93                  23%          2    0.000075         0.999774\n",
      "94                  27%          2    0.000075         0.999850\n",
      "95                  32%          2    0.000075         0.999925\n",
      "96                   7%          1    0.000038         0.999962\n",
      "97                  42%          1    0.000038         1.000000\n",
      "\n",
      "[98 rows x 4 columns]\n",
      "\n",
      "----------------------------------------------------------------\n",
      "\n",
      "  host_is_superhost  frequency  percentage  cumulative_perc\n",
      "0                 f      15346    0.577308         0.577308\n",
      "1                 t      11236    0.422692         1.000000\n",
      "\n",
      "----------------------------------------------------------------\n",
      "\n",
      "                 host_verifications  frequency  percentage  cumulative_perc\n",
      "0                ['email', 'phone']      20504    0.771349         0.771349\n",
      "1  ['email', 'phone', 'work_email']       3381    0.127191         0.898540\n",
      "2                         ['phone']       2527    0.095064         0.993605\n",
      "3           ['phone', 'work_email']        105    0.003950         0.997555\n",
      "4                         ['email']         33    0.001241         0.998796\n",
      "5                                []         30    0.001129         0.999925\n",
      "6           ['email', 'work_email']          1    0.000038         0.999962\n",
      "7                    ['work_email']          1    0.000038         1.000000\n",
      "\n",
      "----------------------------------------------------------------\n",
      "\n",
      "    neighbourhood_cleansed  frequency  percentage  cumulative_perc\n",
      "0               Cuauhtémoc      12231    0.460123         0.460123\n",
      "1           Miguel Hidalgo       4533    0.170529         0.630652\n",
      "2            Benito Juárez       3152    0.118576         0.749229\n",
      "3                 Coyoacán       1719    0.064668         0.813897\n",
      "4           Álvaro Obregón       1075    0.040441         0.854338\n",
      "5                  Tlalpan        812    0.030547         0.884885\n",
      "6      Venustiano Carranza        734    0.027613         0.912497\n",
      "7        Gustavo A. Madero        506    0.019035         0.931533\n",
      "8    Cuajimalpa de Morelos        442    0.016628         0.948160\n",
      "9                Iztacalco        399    0.015010         0.963171\n",
      "10            Azcapotzalco        349    0.013129         0.976300\n",
      "11              Iztapalapa        266    0.010007         0.986307\n",
      "12  La Magdalena Contreras        143    0.005380         0.991686\n",
      "13              Xochimilco        143    0.005380         0.997066\n",
      "14                 Tláhuac         50    0.001881         0.998947\n",
      "15              Milpa Alta         28    0.001053         1.000000\n",
      "\n",
      "----------------------------------------------------------------\n",
      "\n",
      "                  property_type  frequency  percentage  cumulative_perc\n",
      "0            Entire rental unit       9971    0.375103         0.375103\n",
      "1                  Entire condo       3423    0.128771         0.503875\n",
      "2   Private room in rental unit       3034    0.114137         0.618012\n",
      "3          Private room in home       2266    0.085246         0.703258\n",
      "4                   Entire loft       1515    0.056993         0.760251\n",
      "..                          ...        ...         ...              ...\n",
      "87        Private room in floor          1    0.000038         0.999850\n",
      "88                 Earthen home          1    0.000038         0.999887\n",
      "89                Entire in-law          1    0.000038         0.999925\n",
      "90          Shared room in dorm          1    0.000038         0.999962\n",
      "91                        Tower          1    0.000038         1.000000\n",
      "\n",
      "[92 rows x 4 columns]\n",
      "\n",
      "----------------------------------------------------------------\n",
      "\n",
      "         room_type  frequency  percentage  cumulative_perc\n",
      "0  Entire home/apt      17363    0.653186         0.653186\n",
      "1     Private room       8693    0.327026         0.980212\n",
      "2      Shared room        401    0.015085         0.995298\n",
      "3       Hotel room        125    0.004702         1.000000\n",
      "\n",
      "----------------------------------------------------------------\n",
      "\n",
      "       bathrooms_text  frequency  percentage  cumulative_perc\n",
      "0              1 bath      11327    0.426115         0.426115\n",
      "1             2 baths       4606    0.173275         0.599391\n",
      "2      1 private bath       3144    0.118276         0.717666\n",
      "3       1 shared bath       2482    0.093371         0.811038\n",
      "4           1.5 baths       1432    0.053871         0.864909\n",
      "5           2.5 baths        854    0.032127         0.897036\n",
      "6             3 baths        546    0.020540         0.917576\n",
      "7    1.5 shared baths        459    0.017267         0.934843\n",
      "8      2 shared baths        320    0.012038         0.946881\n",
      "9           3.5 baths        250    0.009405         0.956286\n",
      "10            4 baths        186    0.006997         0.963283\n",
      "11   2.5 shared baths        121    0.004552         0.967835\n",
      "12     3 shared baths        105    0.003950         0.971785\n",
      "13          4.5 baths        102    0.003837         0.975623\n",
      "14     4 shared baths         68    0.002558         0.978181\n",
      "15            0 baths         54    0.002031         0.980212\n",
      "16     5 shared baths         54    0.002031         0.982244\n",
      "17            5 baths         51    0.001919         0.984162\n",
      "18     0 shared baths         45    0.001693         0.985855\n",
      "19            6 baths         44    0.001655         0.987510\n",
      "20          Half-bath         41    0.001542         0.989053\n",
      "21          5.5 baths         38    0.001430         0.990482\n",
      "22   3.5 shared baths         33    0.001241         0.991724\n",
      "23            7 baths         25    0.000940         0.992664\n",
      "24   Shared half-bath         21    0.000790         0.993454\n",
      "25   4.5 shared baths         20    0.000752         0.994207\n",
      "26     6 shared baths         19    0.000715         0.994921\n",
      "27            8 baths         18    0.000677         0.995599\n",
      "28         11.5 baths         17    0.000640         0.996238\n",
      "29          6.5 baths         14    0.000527         0.996765\n",
      "30     8 shared baths         12    0.000451         0.997216\n",
      "31  Private half-bath         10    0.000376         0.997592\n",
      "32          7.5 baths         10    0.000376         0.997969\n",
      "33            9 baths          8    0.000301         0.998270\n",
      "34          8.5 baths          7    0.000263         0.998533\n",
      "35           10 baths          5    0.000188         0.998721\n",
      "36           11 baths          4    0.000150         0.998871\n",
      "37           12 baths          3    0.000113         0.998984\n",
      "38         12.5 baths          2    0.000075         0.999060\n",
      "39           13 baths          2    0.000075         0.999135\n",
      "40  11.5 shared baths          2    0.000075         0.999210\n",
      "41           14 baths          2    0.000075         0.999285\n",
      "42         10.5 baths          2    0.000075         0.999360\n",
      "43    10 shared baths          2    0.000075         0.999436\n",
      "44           16 baths          2    0.000075         0.999511\n",
      "45    11 shared baths          1    0.000038         0.999549\n",
      "46           21 baths          1    0.000038         0.999586\n",
      "47           18 baths          1    0.000038         0.999624\n",
      "48         14.5 baths          1    0.000038         0.999661\n",
      "49           49 baths          1    0.000038         0.999699\n",
      "50          9.5 baths          1    0.000038         0.999737\n",
      "51    12 shared baths          1    0.000038         0.999774\n",
      "52           17 baths          1    0.000038         0.999812\n",
      "53    13 shared baths          1    0.000038         0.999850\n",
      "54           15 baths          1    0.000038         0.999887\n",
      "55           46 baths          1    0.000038         0.999925\n",
      "56           20 baths          1    0.000038         0.999962\n",
      "57           29 baths          1    0.000038         1.000000\n",
      "\n",
      "----------------------------------------------------------------\n",
      "\n",
      "                                               amenities  frequency  \\\n",
      "0      [\"Iron\", \"Elevator\", \"High chair\", \"Wifi\", \"Re...         71   \n",
      "1      [\"Iron\", \"High chair\", \"Wifi\", \"Refrigerator\",...         41   \n",
      "2                                                     []         40   \n",
      "3      [\"Iron\", \"Wifi\", \"Heating\", \"Self check-in\", \"...         29   \n",
      "4      [\"Iron\", \"Elevator\", \"High chair\", \"Wifi\", \"Re...         25   \n",
      "...                                                  ...        ...   \n",
      "24693  [\"Host greets you\", \"Kitchen\", \"Refrigerator\",...          1   \n",
      "24694  [\"Iron\", \"Washer\", \"Private patio or balcony\",...          1   \n",
      "24695  [\"Iron\", \"Private patio or balcony\", \"Heating\"...          1   \n",
      "24696  [\"Shared patio or balcony\", \"Wifi\", \"Freezer\",...          1   \n",
      "24697  [\"Free parking on premises\", \"Washer\", \"TV\", \"...          1   \n",
      "\n",
      "       percentage  cumulative_perc  \n",
      "0        0.002671         0.002671  \n",
      "1        0.001542         0.004213  \n",
      "2        0.001505         0.005718  \n",
      "3        0.001091         0.006809  \n",
      "4        0.000940         0.007750  \n",
      "...           ...              ...  \n",
      "24693    0.000038         0.999850  \n",
      "24694    0.000038         0.999887  \n",
      "24695    0.000038         0.999925  \n",
      "24696    0.000038         0.999962  \n",
      "24697    0.000038         1.000000  \n",
      "\n",
      "[24698 rows x 4 columns]\n",
      "\n",
      "----------------------------------------------------------------\n",
      "\n",
      "          price  frequency  percentage  cumulative_perc\n",
      "0       $120.00       2928    0.110150         0.110150\n",
      "1     $1,200.00        311    0.011700         0.121849\n",
      "2     $1,000.00        291    0.010947         0.132797\n",
      "3       $600.00        288    0.010834         0.143631\n",
      "4       $500.00        284    0.010684         0.154315\n",
      "...         ...        ...         ...              ...\n",
      "3506  $1,578.00          1    0.000038         0.999850\n",
      "3507  $2,754.00          1    0.000038         0.999887\n",
      "3508  $2,037.00          1    0.000038         0.999925\n",
      "3509  $2,318.00          1    0.000038         0.999962\n",
      "3510     $50.00          1    0.000038         1.000000\n",
      "\n",
      "[3511 rows x 4 columns]\n",
      "\n",
      "----------------------------------------------------------------\n",
      "\n",
      "  has_availability  frequency  percentage  cumulative_perc\n",
      "0                t      26541    0.998458         0.998458\n",
      "1                f         41    0.001542         1.000000\n",
      "\n",
      "----------------------------------------------------------------\n",
      "\n",
      "     first_review  frequency  percentage  cumulative_perc\n",
      "0      09/11/2011       3656    0.137537         0.137537\n",
      "1      2023-08-27        105    0.003950         0.141487\n",
      "2      2022-10-31        103    0.003875         0.145362\n",
      "3      2023-10-29         82    0.003085         0.148446\n",
      "4      2023-10-30         82    0.003085         0.151531\n",
      "...           ...        ...         ...              ...\n",
      "3321   2016-04-06          1    0.000038         0.999850\n",
      "3322   2020-07-14          1    0.000038         0.999887\n",
      "3323   2016-11-12          1    0.000038         0.999925\n",
      "3324   2021-01-11          1    0.000038         0.999962\n",
      "3325   2018-12-18          1    0.000038         1.000000\n",
      "\n",
      "[3326 rows x 4 columns]\n",
      "\n",
      "----------------------------------------------------------------\n",
      "\n",
      "     last_review  frequency  percentage  cumulative_perc\n",
      "0     26/03/2023       3656    0.137537         0.137537\n",
      "1     2024-09-22       1081    0.040667         0.178203\n",
      "2     2024-09-16       1068    0.040178         0.218381\n",
      "3     2024-09-23        898    0.033782         0.252163\n",
      "4     2024-09-17        711    0.026747         0.278911\n",
      "...          ...        ...         ...              ...\n",
      "1630  2019-04-24          1    0.000038         0.999850\n",
      "1631  2021-08-09          1    0.000038         0.999887\n",
      "1632  2019-10-02          1    0.000038         0.999925\n",
      "1633  2018-07-15          1    0.000038         0.999962\n",
      "1634  2023-11-14          1    0.000038         1.000000\n",
      "\n",
      "[1635 rows x 4 columns]\n",
      "\n",
      "----------------------------------------------------------------\n",
      "\n",
      "  instant_bookable  frequency  percentage  cumulative_perc\n",
      "0                f      16080    0.604921         0.604921\n",
      "1                t      10502    0.395079         1.000000\n",
      "\n",
      "----------------------------------------------------------------\n",
      "\n"
     ]
    }
   ],
   "source": [
    "#Obtengo un análisis univariado de las variables categóricas\n",
    "freq_tbl(Micro_Retailer_1)"
   ]
  },
  {
   "cell_type": "markdown",
   "metadata": {},
   "source": [
    "**Determicación de Clases para datos agrupados**"
   ]
  },
  {
   "cell_type": "code",
   "execution_count": 8,
   "metadata": {},
   "outputs": [
    {
     "data": {
      "text/plain": [
       "listing_url                                     0\n",
       "host_since                                      0\n",
       "host_response_time                              0\n",
       "host_response_rate                              0\n",
       "host_acceptance_rate                            0\n",
       "host_is_superhost                               0\n",
       "host_verifications                              0\n",
       "neighbourhood_cleansed                          0\n",
       "property_type                                   0\n",
       "room_type                                       0\n",
       "bathrooms_text                                  0\n",
       "amenities                                       0\n",
       "price                                           0\n",
       "has_availability                                0\n",
       "first_review                                    0\n",
       "last_review                                     0\n",
       "instant_bookable                                0\n",
       "id                                              0\n",
       "host_id                                         0\n",
       "host_listings_count                             0\n",
       "host_total_listings_count                       0\n",
       "latitude                                        0\n",
       "longitude                                       0\n",
       "accommodates                                    0\n",
       "bathrooms                                       0\n",
       "bedrooms                                        0\n",
       "beds                                            0\n",
       "minimum_nights                                  0\n",
       "maximum_nights                                  0\n",
       "minimum_nights_avg_ntm                          0\n",
       "maximum_nights_avg_ntm                          0\n",
       "availability_30                                 0\n",
       "availability_60                                 0\n",
       "availability_90                                 0\n",
       "availability_365                                0\n",
       "number_of_reviews                               0\n",
       "number_of_reviews_ltm                           0\n",
       "number_of_reviews_l30d                          0\n",
       "review_scores_rating                            0\n",
       "review_scores_accuracy                          0\n",
       "review_scores_cleanliness                       0\n",
       "review_scores_checkin                           0\n",
       "review_scores_communication                     0\n",
       "review_scores_location                          0\n",
       "review_scores_value                             0\n",
       "calculated_host_listings_count                  0\n",
       "calculated_host_listings_count_entire_homes     0\n",
       "calculated_host_listings_count_private_rooms    0\n",
       "calculated_host_listings_count_shared_rooms     0\n",
       "reviews_per_month                               0\n",
       "dtype: int64"
      ]
     },
     "execution_count": 8,
     "metadata": {},
     "output_type": "execute_result"
    }
   ],
   "source": [
    "valores_nulos = Micro_Retailer_1.isnull().sum()\n",
    "valores_nulos"
   ]
  },
  {
   "cell_type": "code",
   "execution_count": 9,
   "metadata": {},
   "outputs": [],
   "source": [
    "# Eliminar % y convertir a número\n",
    "Micro_Retailer_1[\"host_response_rate\"] = Micro_Retailer_1[\"host_response_rate\"].str.replace('%', '', regex=True).astype(float) / 100  "
   ]
  },
  {
   "cell_type": "code",
   "execution_count": 10,
   "metadata": {},
   "outputs": [
    {
     "name": "stdout",
     "output_type": "stream",
     "text": [
      "<class 'pandas.core.series.Series'>\n",
      "RangeIndex: 26582 entries, 0 to 26581\n",
      "Series name: host_response_rate\n",
      "Non-Null Count  Dtype  \n",
      "--------------  -----  \n",
      "26582 non-null  float64\n",
      "dtypes: float64(1)\n",
      "memory usage: 207.8 KB\n"
     ]
    }
   ],
   "source": [
    "Micro_Retailer_1['host_response_rate'].info()\n",
    "n=8021"
   ]
  },
  {
   "cell_type": "code",
   "execution_count": 11,
   "metadata": {},
   "outputs": [
    {
     "data": {
      "text/plain": [
       "[0.0, 1.0]"
      ]
     },
     "execution_count": 11,
     "metadata": {},
     "output_type": "execute_result"
    }
   ],
   "source": [
    "Min = Micro_Retailer_1[\"host_response_rate\"].min()  \n",
    "Max = Micro_Retailer_1[\"host_response_rate\"].max()  \n",
    "Limites = [Min,Max]\n",
    "Limites"
   ]
  },
  {
   "cell_type": "code",
   "execution_count": 12,
   "metadata": {},
   "outputs": [
    {
     "data": {
      "text/plain": [
       "1.0"
      ]
     },
     "execution_count": 12,
     "metadata": {},
     "output_type": "execute_result"
    }
   ],
   "source": [
    "R = Max - Min\n",
    "R"
   ]
  },
  {
   "cell_type": "code",
   "execution_count": 13,
   "metadata": {},
   "outputs": [
    {
     "data": {
      "text/plain": [
       "13.96203867424906"
      ]
     },
     "execution_count": 13,
     "metadata": {},
     "output_type": "execute_result"
    }
   ],
   "source": [
    "ni = 1+3.32*np.log10(n)\n",
    "ni"
   ]
  },
  {
   "cell_type": "code",
   "execution_count": 14,
   "metadata": {},
   "outputs": [
    {
     "data": {
      "text/plain": [
       "0.07162277825833228"
      ]
     },
     "execution_count": 14,
     "metadata": {},
     "output_type": "execute_result"
    }
   ],
   "source": [
    "i = R/ni\n",
    "i"
   ]
  },
  {
   "cell_type": "markdown",
   "metadata": {},
   "source": [
    "**Creación de Categorias a partir de clases**"
   ]
  },
  {
   "cell_type": "code",
   "execution_count": 15,
   "metadata": {},
   "outputs": [
    {
     "data": {
      "text/plain": [
       "array([0.        , 0.08333333, 0.16666667, 0.25      , 0.33333333,\n",
       "       0.41666667, 0.5       , 0.58333333, 0.66666667, 0.75      ,\n",
       "       0.83333333, 0.91666667, 1.        ])"
      ]
     },
     "execution_count": 15,
     "metadata": {},
     "output_type": "execute_result"
    }
   ],
   "source": [
    "# Ver resultado\n",
    "intervalos = np.linspace(0.0, 1.0, 13) #Número de clases más uno\n",
    "intervalos"
   ]
  },
  {
   "cell_type": "code",
   "execution_count": 16,
   "metadata": {},
   "outputs": [],
   "source": [
    "categorias = [\"Categoría1\", \"Categoría2\", \"Categoría3\", \"Categoría4\",\n",
    "              \"Categoría5\", \"Categoría6\", \"Categoría7\", \"Categoría8\",\n",
    "              \"Categoría9\",\"Categoría10\",\"Categoría11\",\"Categoría12\",]"
   ]
  },
  {
   "cell_type": "code",
   "execution_count": 17,
   "metadata": {},
   "outputs": [
    {
     "data": {
      "text/plain": [
       "0                NaN\n",
       "1        Categoría12\n",
       "2         Categoría9\n",
       "3        Categoría12\n",
       "4        Categoría12\n",
       "            ...     \n",
       "26577    Categoría12\n",
       "26578    Categoría12\n",
       "26579    Categoría12\n",
       "26580    Categoría12\n",
       "26581    Categoría12\n",
       "Name: host_response_rate, Length: 26582, dtype: category\n",
       "Categories (12, object): ['Categoría1' < 'Categoría2' < 'Categoría3' < 'Categoría4' ... 'Categoría9' < 'Categoría10' < 'Categoría11' < 'Categoría12']"
      ]
     },
     "execution_count": 17,
     "metadata": {},
     "output_type": "execute_result"
    }
   ],
   "source": [
    "Micro_Retailer_1[\"host_response_rate\"] = pd.cut(x = Micro_Retailer_1[\"host_response_rate\"], bins = intervalos, labels = categorias)\n",
    "Micro_Retailer_1[\"host_response_rate\"]"
   ]
  },
  {
   "cell_type": "code",
   "execution_count": 18,
   "metadata": {},
   "outputs": [
    {
     "data": {
      "text/html": [
       "<div>\n",
       "<style scoped>\n",
       "    .dataframe tbody tr th:only-of-type {\n",
       "        vertical-align: middle;\n",
       "    }\n",
       "\n",
       "    .dataframe tbody tr th {\n",
       "        vertical-align: top;\n",
       "    }\n",
       "\n",
       "    .dataframe thead th {\n",
       "        text-align: right;\n",
       "    }\n",
       "</style>\n",
       "<table border=\"1\" class=\"dataframe\">\n",
       "  <thead>\n",
       "    <tr style=\"text-align: right;\">\n",
       "      <th></th>\n",
       "      <th>host_response_rate</th>\n",
       "      <th>frequency</th>\n",
       "      <th>percentage</th>\n",
       "      <th>cumulative_perc</th>\n",
       "    </tr>\n",
       "  </thead>\n",
       "  <tbody>\n",
       "    <tr>\n",
       "      <th>0</th>\n",
       "      <td>Categoría12</td>\n",
       "      <td>23477</td>\n",
       "      <td>0.883192</td>\n",
       "      <td>0.902441</td>\n",
       "    </tr>\n",
       "    <tr>\n",
       "      <th>1</th>\n",
       "      <td>Categoría11</td>\n",
       "      <td>981</td>\n",
       "      <td>0.036905</td>\n",
       "      <td>0.940150</td>\n",
       "    </tr>\n",
       "    <tr>\n",
       "      <th>2</th>\n",
       "      <td>Categoría10</td>\n",
       "      <td>373</td>\n",
       "      <td>0.014032</td>\n",
       "      <td>0.954488</td>\n",
       "    </tr>\n",
       "    <tr>\n",
       "      <th>3</th>\n",
       "      <td>Categoría9</td>\n",
       "      <td>323</td>\n",
       "      <td>0.012151</td>\n",
       "      <td>0.966904</td>\n",
       "    </tr>\n",
       "    <tr>\n",
       "      <th>4</th>\n",
       "      <td>Categoría6</td>\n",
       "      <td>224</td>\n",
       "      <td>0.008427</td>\n",
       "      <td>0.975514</td>\n",
       "    </tr>\n",
       "    <tr>\n",
       "      <th>5</th>\n",
       "      <td>Categoría4</td>\n",
       "      <td>124</td>\n",
       "      <td>0.004665</td>\n",
       "      <td>0.980281</td>\n",
       "    </tr>\n",
       "    <tr>\n",
       "      <th>6</th>\n",
       "      <td>Categoría1</td>\n",
       "      <td>119</td>\n",
       "      <td>0.004477</td>\n",
       "      <td>0.984855</td>\n",
       "    </tr>\n",
       "    <tr>\n",
       "      <th>7</th>\n",
       "      <td>Categoría8</td>\n",
       "      <td>95</td>\n",
       "      <td>0.003574</td>\n",
       "      <td>0.988507</td>\n",
       "    </tr>\n",
       "    <tr>\n",
       "      <th>8</th>\n",
       "      <td>Categoría3</td>\n",
       "      <td>94</td>\n",
       "      <td>0.003536</td>\n",
       "      <td>0.992120</td>\n",
       "    </tr>\n",
       "    <tr>\n",
       "      <th>9</th>\n",
       "      <td>Categoría2</td>\n",
       "      <td>84</td>\n",
       "      <td>0.003160</td>\n",
       "      <td>0.995349</td>\n",
       "    </tr>\n",
       "    <tr>\n",
       "      <th>10</th>\n",
       "      <td>Categoría5</td>\n",
       "      <td>68</td>\n",
       "      <td>0.002558</td>\n",
       "      <td>0.997963</td>\n",
       "    </tr>\n",
       "    <tr>\n",
       "      <th>11</th>\n",
       "      <td>Categoría7</td>\n",
       "      <td>53</td>\n",
       "      <td>0.001994</td>\n",
       "      <td>1.000000</td>\n",
       "    </tr>\n",
       "  </tbody>\n",
       "</table>\n",
       "</div>"
      ],
      "text/plain": [
       "   host_response_rate  frequency  percentage  cumulative_perc\n",
       "0         Categoría12      23477    0.883192         0.902441\n",
       "1         Categoría11        981    0.036905         0.940150\n",
       "2         Categoría10        373    0.014032         0.954488\n",
       "3          Categoría9        323    0.012151         0.966904\n",
       "4          Categoría6        224    0.008427         0.975514\n",
       "5          Categoría4        124    0.004665         0.980281\n",
       "6          Categoría1        119    0.004477         0.984855\n",
       "7          Categoría8         95    0.003574         0.988507\n",
       "8          Categoría3         94    0.003536         0.992120\n",
       "9          Categoría2         84    0.003160         0.995349\n",
       "10         Categoría5         68    0.002558         0.997963\n",
       "11         Categoría7         53    0.001994         1.000000"
      ]
     },
     "execution_count": 18,
     "metadata": {},
     "output_type": "execute_result"
    }
   ],
   "source": [
    "#Obtengo un análisis univariado de una variable categórica en específico  \n",
    "table1 = freq_tbl(Micro_Retailer_1[\"host_response_rate\"])\n",
    "table1"
   ]
  },
  {
   "cell_type": "code",
   "execution_count": 19,
   "metadata": {},
   "outputs": [
    {
     "data": {
      "text/html": [
       "<div>\n",
       "<style scoped>\n",
       "    .dataframe tbody tr th:only-of-type {\n",
       "        vertical-align: middle;\n",
       "    }\n",
       "\n",
       "    .dataframe tbody tr th {\n",
       "        vertical-align: top;\n",
       "    }\n",
       "\n",
       "    .dataframe thead th {\n",
       "        text-align: right;\n",
       "    }\n",
       "</style>\n",
       "<table border=\"1\" class=\"dataframe\">\n",
       "  <thead>\n",
       "    <tr style=\"text-align: right;\">\n",
       "      <th></th>\n",
       "      <th>host_response_rate</th>\n",
       "      <th>frequency</th>\n",
       "    </tr>\n",
       "  </thead>\n",
       "  <tbody>\n",
       "    <tr>\n",
       "      <th>0</th>\n",
       "      <td>Categoría12</td>\n",
       "      <td>23477</td>\n",
       "    </tr>\n",
       "    <tr>\n",
       "      <th>1</th>\n",
       "      <td>Categoría11</td>\n",
       "      <td>981</td>\n",
       "    </tr>\n",
       "    <tr>\n",
       "      <th>2</th>\n",
       "      <td>Categoría10</td>\n",
       "      <td>373</td>\n",
       "    </tr>\n",
       "    <tr>\n",
       "      <th>3</th>\n",
       "      <td>Categoría9</td>\n",
       "      <td>323</td>\n",
       "    </tr>\n",
       "    <tr>\n",
       "      <th>4</th>\n",
       "      <td>Categoría6</td>\n",
       "      <td>224</td>\n",
       "    </tr>\n",
       "    <tr>\n",
       "      <th>5</th>\n",
       "      <td>Categoría4</td>\n",
       "      <td>124</td>\n",
       "    </tr>\n",
       "    <tr>\n",
       "      <th>6</th>\n",
       "      <td>Categoría1</td>\n",
       "      <td>119</td>\n",
       "    </tr>\n",
       "    <tr>\n",
       "      <th>7</th>\n",
       "      <td>Categoría8</td>\n",
       "      <td>95</td>\n",
       "    </tr>\n",
       "    <tr>\n",
       "      <th>8</th>\n",
       "      <td>Categoría3</td>\n",
       "      <td>94</td>\n",
       "    </tr>\n",
       "    <tr>\n",
       "      <th>9</th>\n",
       "      <td>Categoría2</td>\n",
       "      <td>84</td>\n",
       "    </tr>\n",
       "    <tr>\n",
       "      <th>10</th>\n",
       "      <td>Categoría5</td>\n",
       "      <td>68</td>\n",
       "    </tr>\n",
       "    <tr>\n",
       "      <th>11</th>\n",
       "      <td>Categoría7</td>\n",
       "      <td>53</td>\n",
       "    </tr>\n",
       "  </tbody>\n",
       "</table>\n",
       "</div>"
      ],
      "text/plain": [
       "   host_response_rate  frequency\n",
       "0         Categoría12      23477\n",
       "1         Categoría11        981\n",
       "2         Categoría10        373\n",
       "3          Categoría9        323\n",
       "4          Categoría6        224\n",
       "5          Categoría4        124\n",
       "6          Categoría1        119\n",
       "7          Categoría8         95\n",
       "8          Categoría3         94\n",
       "9          Categoría2         84\n",
       "10         Categoría5         68\n",
       "11         Categoría7         53"
      ]
     },
     "execution_count": 19,
     "metadata": {},
     "output_type": "execute_result"
    }
   ],
   "source": [
    "#Elimino las columnas \"procentage\" y \"cumulative_perc\" para trabajar con las fecuencias\n",
    "table2 = table1.drop(['percentage', 'cumulative_perc'], axis=1)\n",
    "table2"
   ]
  },
  {
   "cell_type": "code",
   "execution_count": 20,
   "metadata": {},
   "outputs": [
    {
     "data": {
      "text/html": [
       "<div>\n",
       "<style scoped>\n",
       "    .dataframe tbody tr th:only-of-type {\n",
       "        vertical-align: middle;\n",
       "    }\n",
       "\n",
       "    .dataframe tbody tr th {\n",
       "        vertical-align: top;\n",
       "    }\n",
       "\n",
       "    .dataframe thead th {\n",
       "        text-align: right;\n",
       "    }\n",
       "</style>\n",
       "<table border=\"1\" class=\"dataframe\">\n",
       "  <thead>\n",
       "    <tr style=\"text-align: right;\">\n",
       "      <th></th>\n",
       "      <th>host_response_rate</th>\n",
       "      <th>frequency</th>\n",
       "    </tr>\n",
       "  </thead>\n",
       "  <tbody>\n",
       "    <tr>\n",
       "      <th>0</th>\n",
       "      <td>Categoría12</td>\n",
       "      <td>23477</td>\n",
       "    </tr>\n",
       "    <tr>\n",
       "      <th>1</th>\n",
       "      <td>Categoría11</td>\n",
       "      <td>981</td>\n",
       "    </tr>\n",
       "    <tr>\n",
       "      <th>2</th>\n",
       "      <td>Categoría10</td>\n",
       "      <td>373</td>\n",
       "    </tr>\n",
       "    <tr>\n",
       "      <th>3</th>\n",
       "      <td>Categoría9</td>\n",
       "      <td>323</td>\n",
       "    </tr>\n",
       "    <tr>\n",
       "      <th>4</th>\n",
       "      <td>Categoría6</td>\n",
       "      <td>224</td>\n",
       "    </tr>\n",
       "    <tr>\n",
       "      <th>5</th>\n",
       "      <td>Categoría4</td>\n",
       "      <td>124</td>\n",
       "    </tr>\n",
       "    <tr>\n",
       "      <th>6</th>\n",
       "      <td>Categoría1</td>\n",
       "      <td>119</td>\n",
       "    </tr>\n",
       "  </tbody>\n",
       "</table>\n",
       "</div>"
      ],
      "text/plain": [
       "  host_response_rate  frequency\n",
       "0        Categoría12      23477\n",
       "1        Categoría11        981\n",
       "2        Categoría10        373\n",
       "3         Categoría9        323\n",
       "4         Categoría6        224\n",
       "5         Categoría4        124\n",
       "6         Categoría1        119"
      ]
     },
     "execution_count": 20,
     "metadata": {},
     "output_type": "execute_result"
    }
   ],
   "source": [
    "filtro = table2[table2['frequency'] > 100]\n",
    "filtro"
   ]
  },
  {
   "cell_type": "code",
   "execution_count": 21,
   "metadata": {},
   "outputs": [
    {
     "data": {
      "text/html": [
       "<div>\n",
       "<style scoped>\n",
       "    .dataframe tbody tr th:only-of-type {\n",
       "        vertical-align: middle;\n",
       "    }\n",
       "\n",
       "    .dataframe tbody tr th {\n",
       "        vertical-align: top;\n",
       "    }\n",
       "\n",
       "    .dataframe thead th {\n",
       "        text-align: right;\n",
       "    }\n",
       "</style>\n",
       "<table border=\"1\" class=\"dataframe\">\n",
       "  <thead>\n",
       "    <tr style=\"text-align: right;\">\n",
       "      <th></th>\n",
       "      <th>frequency</th>\n",
       "    </tr>\n",
       "    <tr>\n",
       "      <th>host_response_rate</th>\n",
       "      <th></th>\n",
       "    </tr>\n",
       "  </thead>\n",
       "  <tbody>\n",
       "    <tr>\n",
       "      <th>Categoría12</th>\n",
       "      <td>23477</td>\n",
       "    </tr>\n",
       "    <tr>\n",
       "      <th>Categoría11</th>\n",
       "      <td>981</td>\n",
       "    </tr>\n",
       "    <tr>\n",
       "      <th>Categoría10</th>\n",
       "      <td>373</td>\n",
       "    </tr>\n",
       "    <tr>\n",
       "      <th>Categoría9</th>\n",
       "      <td>323</td>\n",
       "    </tr>\n",
       "    <tr>\n",
       "      <th>Categoría6</th>\n",
       "      <td>224</td>\n",
       "    </tr>\n",
       "    <tr>\n",
       "      <th>Categoría4</th>\n",
       "      <td>124</td>\n",
       "    </tr>\n",
       "    <tr>\n",
       "      <th>Categoría1</th>\n",
       "      <td>119</td>\n",
       "    </tr>\n",
       "  </tbody>\n",
       "</table>\n",
       "</div>"
      ],
      "text/plain": [
       "                    frequency\n",
       "host_response_rate           \n",
       "Categoría12             23477\n",
       "Categoría11               981\n",
       "Categoría10               373\n",
       "Categoría9                323\n",
       "Categoría6                224\n",
       "Categoría4                124\n",
       "Categoría1                119"
      ]
     },
     "execution_count": 21,
     "metadata": {},
     "output_type": "execute_result"
    }
   ],
   "source": [
    "#Ajusto el indice de mi DataFrame\n",
    "Filtro_index = filtro.set_index(\"host_response_rate\")\n",
    "Filtro_index"
   ]
  },
  {
   "cell_type": "code",
   "execution_count": 22,
   "metadata": {},
   "outputs": [
    {
     "data": {
      "text/plain": [
       "Text(0, 0.5, 'Frecuencia')"
      ]
     },
     "execution_count": 22,
     "metadata": {},
     "output_type": "execute_result"
    },
    {
     "data": {
      "image/png": "[encoded data removed]",
      "text/plain": [
       "<Figure size 1000x400 with 1 Axes>"
      ]
     },
     "metadata": {},
     "output_type": "display_data"
    }
   ],
   "source": [
    "#Realizamos grafico de barras del Dataframe filtrado\n",
    "Filtro_index.plot(kind = 'bar', width=0.8, figsize=(10,4), color = \"red\")\n",
    "plt.title('Tiempo de respuesta del host')\n",
    "plt.xlabel('Categoria')\n",
    "plt.ylabel('Frecuencia')"
   ]
  },
  {
   "cell_type": "markdown",
   "metadata": {},
   "source": [
    "**Variable 2**"
   ]
  },
  {
   "cell_type": "markdown",
   "metadata": {},
   "source": [
    "**Determicación de Clases para datos agrupados**"
   ]
  },
  {
   "cell_type": "code",
   "execution_count": 23,
   "metadata": {},
   "outputs": [],
   "source": [
    "# Eliminar % y convertir a número\n",
    "Micro_Retailer_1[\"host_acceptance_rate\"] = Micro_Retailer_1[\"host_acceptance_rate\"].str.replace('%', '', regex=True).astype(float) / 100 "
   ]
  },
  {
   "cell_type": "code",
   "execution_count": 24,
   "metadata": {},
   "outputs": [
    {
     "name": "stdout",
     "output_type": "stream",
     "text": [
      "<class 'pandas.core.series.Series'>\n",
      "RangeIndex: 26582 entries, 0 to 26581\n",
      "Series name: host_acceptance_rate\n",
      "Non-Null Count  Dtype  \n",
      "--------------  -----  \n",
      "26582 non-null  float64\n",
      "dtypes: float64(1)\n",
      "memory usage: 207.8 KB\n"
     ]
    }
   ],
   "source": [
    "Micro_Retailer_1['host_acceptance_rate'].info()\n",
    "n = 8021"
   ]
  },
  {
   "cell_type": "code",
   "execution_count": 25,
   "metadata": {},
   "outputs": [
    {
     "data": {
      "text/plain": [
       "[0.0, 1.0]"
      ]
     },
     "execution_count": 25,
     "metadata": {},
     "output_type": "execute_result"
    }
   ],
   "source": [
    "Min = Micro_Retailer_1[\"host_acceptance_rate\"].min()  \n",
    "Max = Micro_Retailer_1[\"host_acceptance_rate\"].max()  \n",
    "Limites = [Min,Max]\n",
    "Limites"
   ]
  },
  {
   "cell_type": "code",
   "execution_count": 26,
   "metadata": {},
   "outputs": [
    {
     "data": {
      "text/plain": [
       "1.0"
      ]
     },
     "execution_count": 26,
     "metadata": {},
     "output_type": "execute_result"
    }
   ],
   "source": [
    "R = Max - Min\n",
    "R"
   ]
  },
  {
   "cell_type": "code",
   "execution_count": 27,
   "metadata": {},
   "outputs": [
    {
     "data": {
      "text/plain": [
       "1.0"
      ]
     },
     "execution_count": 27,
     "metadata": {},
     "output_type": "execute_result"
    }
   ],
   "source": [
    "#Calcula el rango\n",
    "R = Max - Min\n",
    "R"
   ]
  },
  {
   "cell_type": "code",
   "execution_count": 28,
   "metadata": {},
   "outputs": [
    {
     "data": {
      "text/plain": [
       "13.96203867424906"
      ]
     },
     "execution_count": 28,
     "metadata": {},
     "output_type": "execute_result"
    }
   ],
   "source": [
    "#Calcular el número de Intervalos de Clase (ni). Se aplica la regla de Sturges (Donde “n” el tamaño de la muestra.):\n",
    "ni = 1+3.32*np.log10(n)\n",
    "ni"
   ]
  },
  {
   "cell_type": "code",
   "execution_count": 29,
   "metadata": {},
   "outputs": [
    {
     "data": {
      "text/plain": [
       "0.07162277825833228"
      ]
     },
     "execution_count": 29,
     "metadata": {},
     "output_type": "execute_result"
    }
   ],
   "source": [
    "#Calcular el Ancho del Intervalo ( i )\n",
    "i = R/ni\n",
    "i"
   ]
  },
  {
   "cell_type": "code",
   "execution_count": 30,
   "metadata": {},
   "outputs": [
    {
     "data": {
      "text/plain": [
       "array([0.        , 0.08333333, 0.16666667, 0.25      , 0.33333333,\n",
       "       0.41666667, 0.5       , 0.58333333, 0.66666667, 0.75      ,\n",
       "       0.83333333, 0.91666667, 1.        ])"
      ]
     },
     "execution_count": 30,
     "metadata": {},
     "output_type": "execute_result"
    }
   ],
   "source": [
    "# Ver resultado\n",
    "intervalos = np.linspace(0.0, 1.0, 13) #Número de clases más uno\n",
    "intervalos"
   ]
  },
  {
   "cell_type": "code",
   "execution_count": 31,
   "metadata": {},
   "outputs": [],
   "source": [
    "categorias = [\"Categoría1\", \"Categoría2\", \"Categoría3\", \"Categoría4\",\n",
    "              \"Categoría5\", \"Categoría6\", \"Categoría7\", \"Categoría8\",\n",
    "              \"Categoría9\",\"Categoría10\",\"Categoría11\",\"Categoría12\"]"
   ]
  },
  {
   "cell_type": "code",
   "execution_count": 32,
   "metadata": {},
   "outputs": [
    {
     "data": {
      "text/plain": [
       "0        Categoría12\n",
       "1        Categoría12\n",
       "2         Categoría7\n",
       "3        Categoría12\n",
       "4        Categoría12\n",
       "            ...     \n",
       "26577    Categoría12\n",
       "26578    Categoría12\n",
       "26579    Categoría12\n",
       "26580    Categoría12\n",
       "26581    Categoría12\n",
       "Name: host_acceptance_rate, Length: 26582, dtype: category\n",
       "Categories (12, object): ['Categoría1' < 'Categoría2' < 'Categoría3' < 'Categoría4' ... 'Categoría9' < 'Categoría10' < 'Categoría11' < 'Categoría12']"
      ]
     },
     "execution_count": 32,
     "metadata": {},
     "output_type": "execute_result"
    }
   ],
   "source": [
    "Micro_Retailer_1[\"host_acceptance_rate\"] = pd.cut(x = Micro_Retailer_1[\"host_acceptance_rate\"], bins = intervalos, labels = categorias)\n",
    "Micro_Retailer_1[\"host_acceptance_rate\"]"
   ]
  },
  {
   "cell_type": "code",
   "execution_count": 33,
   "metadata": {},
   "outputs": [
    {
     "data": {
      "text/html": [
       "<div>\n",
       "<style scoped>\n",
       "    .dataframe tbody tr th:only-of-type {\n",
       "        vertical-align: middle;\n",
       "    }\n",
       "\n",
       "    .dataframe tbody tr th {\n",
       "        vertical-align: top;\n",
       "    }\n",
       "\n",
       "    .dataframe thead th {\n",
       "        text-align: right;\n",
       "    }\n",
       "</style>\n",
       "<table border=\"1\" class=\"dataframe\">\n",
       "  <thead>\n",
       "    <tr style=\"text-align: right;\">\n",
       "      <th></th>\n",
       "      <th>host_acceptance_rate</th>\n",
       "      <th>frequency</th>\n",
       "      <th>percentage</th>\n",
       "      <th>cumulative_perc</th>\n",
       "    </tr>\n",
       "  </thead>\n",
       "  <tbody>\n",
       "    <tr>\n",
       "      <th>0</th>\n",
       "      <td>Categoría12</td>\n",
       "      <td>21390</td>\n",
       "      <td>0.804680</td>\n",
       "      <td>0.833009</td>\n",
       "    </tr>\n",
       "    <tr>\n",
       "      <th>1</th>\n",
       "      <td>Categoría11</td>\n",
       "      <td>1403</td>\n",
       "      <td>0.052780</td>\n",
       "      <td>0.887647</td>\n",
       "    </tr>\n",
       "    <tr>\n",
       "      <th>2</th>\n",
       "      <td>Categoría9</td>\n",
       "      <td>704</td>\n",
       "      <td>0.026484</td>\n",
       "      <td>0.915063</td>\n",
       "    </tr>\n",
       "    <tr>\n",
       "      <th>3</th>\n",
       "      <td>Categoría10</td>\n",
       "      <td>678</td>\n",
       "      <td>0.025506</td>\n",
       "      <td>0.941467</td>\n",
       "    </tr>\n",
       "    <tr>\n",
       "      <th>4</th>\n",
       "      <td>Categoría6</td>\n",
       "      <td>375</td>\n",
       "      <td>0.014107</td>\n",
       "      <td>0.956071</td>\n",
       "    </tr>\n",
       "    <tr>\n",
       "      <th>5</th>\n",
       "      <td>Categoría4</td>\n",
       "      <td>321</td>\n",
       "      <td>0.012076</td>\n",
       "      <td>0.968572</td>\n",
       "    </tr>\n",
       "    <tr>\n",
       "      <th>6</th>\n",
       "      <td>Categoría8</td>\n",
       "      <td>226</td>\n",
       "      <td>0.008502</td>\n",
       "      <td>0.977374</td>\n",
       "    </tr>\n",
       "    <tr>\n",
       "      <th>7</th>\n",
       "      <td>Categoría7</td>\n",
       "      <td>185</td>\n",
       "      <td>0.006960</td>\n",
       "      <td>0.984578</td>\n",
       "    </tr>\n",
       "    <tr>\n",
       "      <th>8</th>\n",
       "      <td>Categoría3</td>\n",
       "      <td>158</td>\n",
       "      <td>0.005944</td>\n",
       "      <td>0.990731</td>\n",
       "    </tr>\n",
       "    <tr>\n",
       "      <th>9</th>\n",
       "      <td>Categoría5</td>\n",
       "      <td>137</td>\n",
       "      <td>0.005154</td>\n",
       "      <td>0.996067</td>\n",
       "    </tr>\n",
       "    <tr>\n",
       "      <th>10</th>\n",
       "      <td>Categoría2</td>\n",
       "      <td>72</td>\n",
       "      <td>0.002709</td>\n",
       "      <td>0.998871</td>\n",
       "    </tr>\n",
       "    <tr>\n",
       "      <th>11</th>\n",
       "      <td>Categoría1</td>\n",
       "      <td>29</td>\n",
       "      <td>0.001091</td>\n",
       "      <td>1.000000</td>\n",
       "    </tr>\n",
       "  </tbody>\n",
       "</table>\n",
       "</div>"
      ],
      "text/plain": [
       "   host_acceptance_rate  frequency  percentage  cumulative_perc\n",
       "0           Categoría12      21390    0.804680         0.833009\n",
       "1           Categoría11       1403    0.052780         0.887647\n",
       "2            Categoría9        704    0.026484         0.915063\n",
       "3           Categoría10        678    0.025506         0.941467\n",
       "4            Categoría6        375    0.014107         0.956071\n",
       "5            Categoría4        321    0.012076         0.968572\n",
       "6            Categoría8        226    0.008502         0.977374\n",
       "7            Categoría7        185    0.006960         0.984578\n",
       "8            Categoría3        158    0.005944         0.990731\n",
       "9            Categoría5        137    0.005154         0.996067\n",
       "10           Categoría2         72    0.002709         0.998871\n",
       "11           Categoría1         29    0.001091         1.000000"
      ]
     },
     "execution_count": 33,
     "metadata": {},
     "output_type": "execute_result"
    }
   ],
   "source": [
    "#Obtengo un análisis univariado de una variable categórica en específico  \n",
    "table3 = freq_tbl(Micro_Retailer_1[\"host_acceptance_rate\"])\n",
    "table3"
   ]
  },
  {
   "cell_type": "code",
   "execution_count": 34,
   "metadata": {},
   "outputs": [
    {
     "data": {
      "text/html": [
       "<div>\n",
       "<style scoped>\n",
       "    .dataframe tbody tr th:only-of-type {\n",
       "        vertical-align: middle;\n",
       "    }\n",
       "\n",
       "    .dataframe tbody tr th {\n",
       "        vertical-align: top;\n",
       "    }\n",
       "\n",
       "    .dataframe thead th {\n",
       "        text-align: right;\n",
       "    }\n",
       "</style>\n",
       "<table border=\"1\" class=\"dataframe\">\n",
       "  <thead>\n",
       "    <tr style=\"text-align: right;\">\n",
       "      <th></th>\n",
       "      <th>host_acceptance_rate</th>\n",
       "      <th>frequency</th>\n",
       "    </tr>\n",
       "  </thead>\n",
       "  <tbody>\n",
       "    <tr>\n",
       "      <th>0</th>\n",
       "      <td>Categoría12</td>\n",
       "      <td>21390</td>\n",
       "    </tr>\n",
       "    <tr>\n",
       "      <th>1</th>\n",
       "      <td>Categoría11</td>\n",
       "      <td>1403</td>\n",
       "    </tr>\n",
       "    <tr>\n",
       "      <th>2</th>\n",
       "      <td>Categoría9</td>\n",
       "      <td>704</td>\n",
       "    </tr>\n",
       "    <tr>\n",
       "      <th>3</th>\n",
       "      <td>Categoría10</td>\n",
       "      <td>678</td>\n",
       "    </tr>\n",
       "    <tr>\n",
       "      <th>4</th>\n",
       "      <td>Categoría6</td>\n",
       "      <td>375</td>\n",
       "    </tr>\n",
       "    <tr>\n",
       "      <th>5</th>\n",
       "      <td>Categoría4</td>\n",
       "      <td>321</td>\n",
       "    </tr>\n",
       "    <tr>\n",
       "      <th>6</th>\n",
       "      <td>Categoría8</td>\n",
       "      <td>226</td>\n",
       "    </tr>\n",
       "    <tr>\n",
       "      <th>7</th>\n",
       "      <td>Categoría7</td>\n",
       "      <td>185</td>\n",
       "    </tr>\n",
       "    <tr>\n",
       "      <th>8</th>\n",
       "      <td>Categoría3</td>\n",
       "      <td>158</td>\n",
       "    </tr>\n",
       "    <tr>\n",
       "      <th>9</th>\n",
       "      <td>Categoría5</td>\n",
       "      <td>137</td>\n",
       "    </tr>\n",
       "    <tr>\n",
       "      <th>10</th>\n",
       "      <td>Categoría2</td>\n",
       "      <td>72</td>\n",
       "    </tr>\n",
       "    <tr>\n",
       "      <th>11</th>\n",
       "      <td>Categoría1</td>\n",
       "      <td>29</td>\n",
       "    </tr>\n",
       "  </tbody>\n",
       "</table>\n",
       "</div>"
      ],
      "text/plain": [
       "   host_acceptance_rate  frequency\n",
       "0           Categoría12      21390\n",
       "1           Categoría11       1403\n",
       "2            Categoría9        704\n",
       "3           Categoría10        678\n",
       "4            Categoría6        375\n",
       "5            Categoría4        321\n",
       "6            Categoría8        226\n",
       "7            Categoría7        185\n",
       "8            Categoría3        158\n",
       "9            Categoría5        137\n",
       "10           Categoría2         72\n",
       "11           Categoría1         29"
      ]
     },
     "execution_count": 34,
     "metadata": {},
     "output_type": "execute_result"
    }
   ],
   "source": [
    "#Elimino las columnas \"procentage\" y \"cumulative_perc\" para trabajar con las fecuencias\n",
    "table4 = table3.drop(['percentage', 'cumulative_perc'], axis=1)\n",
    "table4"
   ]
  },
  {
   "cell_type": "code",
   "execution_count": 35,
   "metadata": {},
   "outputs": [
    {
     "data": {
      "text/html": [
       "<div>\n",
       "<style scoped>\n",
       "    .dataframe tbody tr th:only-of-type {\n",
       "        vertical-align: middle;\n",
       "    }\n",
       "\n",
       "    .dataframe tbody tr th {\n",
       "        vertical-align: top;\n",
       "    }\n",
       "\n",
       "    .dataframe thead th {\n",
       "        text-align: right;\n",
       "    }\n",
       "</style>\n",
       "<table border=\"1\" class=\"dataframe\">\n",
       "  <thead>\n",
       "    <tr style=\"text-align: right;\">\n",
       "      <th></th>\n",
       "      <th>host_acceptance_rate</th>\n",
       "      <th>frequency</th>\n",
       "    </tr>\n",
       "  </thead>\n",
       "  <tbody>\n",
       "    <tr>\n",
       "      <th>0</th>\n",
       "      <td>Categoría12</td>\n",
       "      <td>21390</td>\n",
       "    </tr>\n",
       "    <tr>\n",
       "      <th>1</th>\n",
       "      <td>Categoría11</td>\n",
       "      <td>1403</td>\n",
       "    </tr>\n",
       "    <tr>\n",
       "      <th>2</th>\n",
       "      <td>Categoría9</td>\n",
       "      <td>704</td>\n",
       "    </tr>\n",
       "    <tr>\n",
       "      <th>3</th>\n",
       "      <td>Categoría10</td>\n",
       "      <td>678</td>\n",
       "    </tr>\n",
       "    <tr>\n",
       "      <th>4</th>\n",
       "      <td>Categoría6</td>\n",
       "      <td>375</td>\n",
       "    </tr>\n",
       "    <tr>\n",
       "      <th>5</th>\n",
       "      <td>Categoría4</td>\n",
       "      <td>321</td>\n",
       "    </tr>\n",
       "  </tbody>\n",
       "</table>\n",
       "</div>"
      ],
      "text/plain": [
       "  host_acceptance_rate  frequency\n",
       "0          Categoría12      21390\n",
       "1          Categoría11       1403\n",
       "2           Categoría9        704\n",
       "3          Categoría10        678\n",
       "4           Categoría6        375\n",
       "5           Categoría4        321"
      ]
     },
     "execution_count": 35,
     "metadata": {},
     "output_type": "execute_result"
    }
   ],
   "source": [
    "filtro2 = table4[table4['frequency'] > 300]\n",
    "filtro2"
   ]
  },
  {
   "cell_type": "code",
   "execution_count": 36,
   "metadata": {},
   "outputs": [
    {
     "data": {
      "text/html": [
       "<div>\n",
       "<style scoped>\n",
       "    .dataframe tbody tr th:only-of-type {\n",
       "        vertical-align: middle;\n",
       "    }\n",
       "\n",
       "    .dataframe tbody tr th {\n",
       "        vertical-align: top;\n",
       "    }\n",
       "\n",
       "    .dataframe thead th {\n",
       "        text-align: right;\n",
       "    }\n",
       "</style>\n",
       "<table border=\"1\" class=\"dataframe\">\n",
       "  <thead>\n",
       "    <tr style=\"text-align: right;\">\n",
       "      <th></th>\n",
       "      <th>frequency</th>\n",
       "    </tr>\n",
       "    <tr>\n",
       "      <th>host_acceptance_rate</th>\n",
       "      <th></th>\n",
       "    </tr>\n",
       "  </thead>\n",
       "  <tbody>\n",
       "    <tr>\n",
       "      <th>Categoría12</th>\n",
       "      <td>21390</td>\n",
       "    </tr>\n",
       "    <tr>\n",
       "      <th>Categoría11</th>\n",
       "      <td>1403</td>\n",
       "    </tr>\n",
       "    <tr>\n",
       "      <th>Categoría9</th>\n",
       "      <td>704</td>\n",
       "    </tr>\n",
       "    <tr>\n",
       "      <th>Categoría10</th>\n",
       "      <td>678</td>\n",
       "    </tr>\n",
       "    <tr>\n",
       "      <th>Categoría6</th>\n",
       "      <td>375</td>\n",
       "    </tr>\n",
       "    <tr>\n",
       "      <th>Categoría4</th>\n",
       "      <td>321</td>\n",
       "    </tr>\n",
       "  </tbody>\n",
       "</table>\n",
       "</div>"
      ],
      "text/plain": [
       "                      frequency\n",
       "host_acceptance_rate           \n",
       "Categoría12               21390\n",
       "Categoría11                1403\n",
       "Categoría9                  704\n",
       "Categoría10                 678\n",
       "Categoría6                  375\n",
       "Categoría4                  321"
      ]
     },
     "execution_count": 36,
     "metadata": {},
     "output_type": "execute_result"
    }
   ],
   "source": [
    "#Ajusto el indice de mi DataFrame\n",
    "Filtro_index1 = filtro2.set_index(\"host_acceptance_rate\")\n",
    "Filtro_index1"
   ]
  },
  {
   "cell_type": "code",
   "execution_count": 37,
   "metadata": {},
   "outputs": [
    {
     "data": {
      "text/plain": [
       "<Axes: xlabel='host_acceptance_rate'>"
      ]
     },
     "execution_count": 37,
     "metadata": {},
     "output_type": "execute_result"
    },
    {
     "data": {
      "image/png": "[encoded data removed]",
      "text/plain": [
       "<Figure size 1000x400 with 1 Axes>"
      ]
     },
     "metadata": {},
     "output_type": "display_data"
    }
   ],
   "source": [
    "#Realizamos grafico de área del dataframe filtrado\n",
    "Filtro_index1.plot(kind='area', figsize=(10,4), alpha = 0.5)"
   ]
  },
  {
   "cell_type": "code",
   "execution_count": 38,
   "metadata": {},
   "outputs": [
    {
     "name": "stdout",
     "output_type": "stream",
     "text": [
      "<class 'pandas.core.series.Series'>\n",
      "RangeIndex: 26582 entries, 0 to 26581\n",
      "Series name: host_total_listings_count\n",
      "Non-Null Count  Dtype  \n",
      "--------------  -----  \n",
      "26582 non-null  float64\n",
      "dtypes: float64(1)\n",
      "memory usage: 207.8 KB\n"
     ]
    }
   ],
   "source": [
    "Micro_Retailer_1['host_total_listings_count'].info()\n",
    "n = 8021"
   ]
  },
  {
   "cell_type": "code",
   "execution_count": 39,
   "metadata": {},
   "outputs": [
    {
     "data": {
      "text/plain": [
       "[1.0, 39.0]"
      ]
     },
     "execution_count": 39,
     "metadata": {},
     "output_type": "execute_result"
    }
   ],
   "source": [
    "Min = Micro_Retailer_1[\"host_total_listings_count\"].min()  \n",
    "Max = Micro_Retailer_1[\"host_total_listings_count\"].max()  \n",
    "Limites = [Min,Max]\n",
    "Limites"
   ]
  },
  {
   "cell_type": "code",
   "execution_count": 40,
   "metadata": {},
   "outputs": [
    {
     "data": {
      "text/plain": [
       "38.0"
      ]
     },
     "execution_count": 40,
     "metadata": {},
     "output_type": "execute_result"
    }
   ],
   "source": [
    "#Calcula el rango\n",
    "R = Max - Min\n",
    "R"
   ]
  },
  {
   "cell_type": "code",
   "execution_count": 41,
   "metadata": {},
   "outputs": [
    {
     "data": {
      "text/plain": [
       "13.96203867424906"
      ]
     },
     "execution_count": 41,
     "metadata": {},
     "output_type": "execute_result"
    }
   ],
   "source": [
    "#Calcular el número de Intervalos de Clase (ni). Se aplica la regla de Sturges (Donde “n” el tamaño de la muestra.):\n",
    "ni = 1+3.32*np.log10(n)\n",
    "ni"
   ]
  },
  {
   "cell_type": "code",
   "execution_count": 42,
   "metadata": {},
   "outputs": [
    {
     "data": {
      "text/plain": [
       "2.7216655738166264"
      ]
     },
     "execution_count": 42,
     "metadata": {},
     "output_type": "execute_result"
    }
   ],
   "source": [
    "#Calcular el Ancho del Intervalo ( i )\n",
    "i = R/ni\n",
    "i"
   ]
  },
  {
   "cell_type": "code",
   "execution_count": 43,
   "metadata": {},
   "outputs": [
    {
     "data": {
      "text/plain": [
       "array([1.        , 1.41666667, 1.83333333, 2.25      , 2.66666667,\n",
       "       3.08333333, 3.5       , 3.91666667, 4.33333333, 4.75      ,\n",
       "       5.16666667, 5.58333333, 6.        ])"
      ]
     },
     "execution_count": 43,
     "metadata": {},
     "output_type": "execute_result"
    }
   ],
   "source": [
    "# Ver resultado\n",
    "intervalos = np.linspace(1.0, 6.0, 13) #Número de clases más uno\n",
    "intervalos"
   ]
  },
  {
   "cell_type": "code",
   "execution_count": 44,
   "metadata": {},
   "outputs": [],
   "source": [
    "categorias = [\"Categoría1\", \"Categoría2\", \"Categoría3\", \"Categoría4\",\n",
    "              \"Categoría5\", \"Categoría6\", \"Categoría7\", \"Categoría8\",\n",
    "              \"Categoría9\",\"Categoría10\",\"Categoría11\",\"Categoría12\"]"
   ]
  },
  {
   "cell_type": "code",
   "execution_count": 45,
   "metadata": {},
   "outputs": [
    {
     "data": {
      "text/plain": [
       "0                NaN\n",
       "1                NaN\n",
       "2         Categoría8\n",
       "3         Categoría8\n",
       "4                NaN\n",
       "            ...     \n",
       "26577            NaN\n",
       "26578            NaN\n",
       "26579            NaN\n",
       "26580            NaN\n",
       "26581    Categoría12\n",
       "Name: host_total_listings_count, Length: 26582, dtype: category\n",
       "Categories (12, object): ['Categoría1' < 'Categoría2' < 'Categoría3' < 'Categoría4' ... 'Categoría9' < 'Categoría10' < 'Categoría11' < 'Categoría12']"
      ]
     },
     "execution_count": 45,
     "metadata": {},
     "output_type": "execute_result"
    }
   ],
   "source": [
    "Micro_Retailer_1[\"host_total_listings_count\"] = pd.cut(x = Micro_Retailer_1[\"host_total_listings_count\"], bins = intervalos, labels = categorias)\n",
    "Micro_Retailer_1[\"host_total_listings_count\"]"
   ]
  },
  {
   "cell_type": "code",
   "execution_count": 46,
   "metadata": {},
   "outputs": [
    {
     "data": {
      "text/html": [
       "<div>\n",
       "<style scoped>\n",
       "    .dataframe tbody tr th:only-of-type {\n",
       "        vertical-align: middle;\n",
       "    }\n",
       "\n",
       "    .dataframe tbody tr th {\n",
       "        vertical-align: top;\n",
       "    }\n",
       "\n",
       "    .dataframe thead th {\n",
       "        text-align: right;\n",
       "    }\n",
       "</style>\n",
       "<table border=\"1\" class=\"dataframe\">\n",
       "  <thead>\n",
       "    <tr style=\"text-align: right;\">\n",
       "      <th></th>\n",
       "      <th>host_total_listings_count</th>\n",
       "      <th>frequency</th>\n",
       "      <th>percentage</th>\n",
       "      <th>cumulative_perc</th>\n",
       "    </tr>\n",
       "  </thead>\n",
       "  <tbody>\n",
       "    <tr>\n",
       "      <th>0</th>\n",
       "      <td>Categoría3</td>\n",
       "      <td>3403</td>\n",
       "      <td>0.128019</td>\n",
       "      <td>0.349384</td>\n",
       "    </tr>\n",
       "    <tr>\n",
       "      <th>1</th>\n",
       "      <td>Categoría5</td>\n",
       "      <td>2221</td>\n",
       "      <td>0.083553</td>\n",
       "      <td>0.577413</td>\n",
       "    </tr>\n",
       "    <tr>\n",
       "      <th>2</th>\n",
       "      <td>Categoría8</td>\n",
       "      <td>1810</td>\n",
       "      <td>0.068091</td>\n",
       "      <td>0.763244</td>\n",
       "    </tr>\n",
       "    <tr>\n",
       "      <th>3</th>\n",
       "      <td>Categoría10</td>\n",
       "      <td>1286</td>\n",
       "      <td>0.048379</td>\n",
       "      <td>0.895277</td>\n",
       "    </tr>\n",
       "    <tr>\n",
       "      <th>4</th>\n",
       "      <td>Categoría12</td>\n",
       "      <td>1020</td>\n",
       "      <td>0.038372</td>\n",
       "      <td>1.000000</td>\n",
       "    </tr>\n",
       "    <tr>\n",
       "      <th>5</th>\n",
       "      <td>Categoría1</td>\n",
       "      <td>0</td>\n",
       "      <td>0.000000</td>\n",
       "      <td>1.000000</td>\n",
       "    </tr>\n",
       "    <tr>\n",
       "      <th>6</th>\n",
       "      <td>Categoría2</td>\n",
       "      <td>0</td>\n",
       "      <td>0.000000</td>\n",
       "      <td>1.000000</td>\n",
       "    </tr>\n",
       "    <tr>\n",
       "      <th>7</th>\n",
       "      <td>Categoría4</td>\n",
       "      <td>0</td>\n",
       "      <td>0.000000</td>\n",
       "      <td>1.000000</td>\n",
       "    </tr>\n",
       "    <tr>\n",
       "      <th>8</th>\n",
       "      <td>Categoría6</td>\n",
       "      <td>0</td>\n",
       "      <td>0.000000</td>\n",
       "      <td>1.000000</td>\n",
       "    </tr>\n",
       "    <tr>\n",
       "      <th>9</th>\n",
       "      <td>Categoría7</td>\n",
       "      <td>0</td>\n",
       "      <td>0.000000</td>\n",
       "      <td>1.000000</td>\n",
       "    </tr>\n",
       "    <tr>\n",
       "      <th>10</th>\n",
       "      <td>Categoría9</td>\n",
       "      <td>0</td>\n",
       "      <td>0.000000</td>\n",
       "      <td>1.000000</td>\n",
       "    </tr>\n",
       "    <tr>\n",
       "      <th>11</th>\n",
       "      <td>Categoría11</td>\n",
       "      <td>0</td>\n",
       "      <td>0.000000</td>\n",
       "      <td>1.000000</td>\n",
       "    </tr>\n",
       "  </tbody>\n",
       "</table>\n",
       "</div>"
      ],
      "text/plain": [
       "   host_total_listings_count  frequency  percentage  cumulative_perc\n",
       "0                 Categoría3       3403    0.128019         0.349384\n",
       "1                 Categoría5       2221    0.083553         0.577413\n",
       "2                 Categoría8       1810    0.068091         0.763244\n",
       "3                Categoría10       1286    0.048379         0.895277\n",
       "4                Categoría12       1020    0.038372         1.000000\n",
       "5                 Categoría1          0    0.000000         1.000000\n",
       "6                 Categoría2          0    0.000000         1.000000\n",
       "7                 Categoría4          0    0.000000         1.000000\n",
       "8                 Categoría6          0    0.000000         1.000000\n",
       "9                 Categoría7          0    0.000000         1.000000\n",
       "10                Categoría9          0    0.000000         1.000000\n",
       "11               Categoría11          0    0.000000         1.000000"
      ]
     },
     "execution_count": 46,
     "metadata": {},
     "output_type": "execute_result"
    }
   ],
   "source": [
    "#Obtengo un análisis univariado de una variable categórica en específico  \n",
    "table5 = freq_tbl(Micro_Retailer_1[\"host_total_listings_count\"])\n",
    "table5"
   ]
  },
  {
   "cell_type": "code",
   "execution_count": 47,
   "metadata": {},
   "outputs": [
    {
     "data": {
      "text/html": [
       "<div>\n",
       "<style scoped>\n",
       "    .dataframe tbody tr th:only-of-type {\n",
       "        vertical-align: middle;\n",
       "    }\n",
       "\n",
       "    .dataframe tbody tr th {\n",
       "        vertical-align: top;\n",
       "    }\n",
       "\n",
       "    .dataframe thead th {\n",
       "        text-align: right;\n",
       "    }\n",
       "</style>\n",
       "<table border=\"1\" class=\"dataframe\">\n",
       "  <thead>\n",
       "    <tr style=\"text-align: right;\">\n",
       "      <th></th>\n",
       "      <th>host_total_listings_count</th>\n",
       "      <th>frequency</th>\n",
       "    </tr>\n",
       "  </thead>\n",
       "  <tbody>\n",
       "    <tr>\n",
       "      <th>0</th>\n",
       "      <td>Categoría3</td>\n",
       "      <td>3403</td>\n",
       "    </tr>\n",
       "    <tr>\n",
       "      <th>1</th>\n",
       "      <td>Categoría5</td>\n",
       "      <td>2221</td>\n",
       "    </tr>\n",
       "    <tr>\n",
       "      <th>2</th>\n",
       "      <td>Categoría8</td>\n",
       "      <td>1810</td>\n",
       "    </tr>\n",
       "    <tr>\n",
       "      <th>3</th>\n",
       "      <td>Categoría10</td>\n",
       "      <td>1286</td>\n",
       "    </tr>\n",
       "    <tr>\n",
       "      <th>4</th>\n",
       "      <td>Categoría12</td>\n",
       "      <td>1020</td>\n",
       "    </tr>\n",
       "    <tr>\n",
       "      <th>5</th>\n",
       "      <td>Categoría1</td>\n",
       "      <td>0</td>\n",
       "    </tr>\n",
       "    <tr>\n",
       "      <th>6</th>\n",
       "      <td>Categoría2</td>\n",
       "      <td>0</td>\n",
       "    </tr>\n",
       "    <tr>\n",
       "      <th>7</th>\n",
       "      <td>Categoría4</td>\n",
       "      <td>0</td>\n",
       "    </tr>\n",
       "    <tr>\n",
       "      <th>8</th>\n",
       "      <td>Categoría6</td>\n",
       "      <td>0</td>\n",
       "    </tr>\n",
       "    <tr>\n",
       "      <th>9</th>\n",
       "      <td>Categoría7</td>\n",
       "      <td>0</td>\n",
       "    </tr>\n",
       "    <tr>\n",
       "      <th>10</th>\n",
       "      <td>Categoría9</td>\n",
       "      <td>0</td>\n",
       "    </tr>\n",
       "    <tr>\n",
       "      <th>11</th>\n",
       "      <td>Categoría11</td>\n",
       "      <td>0</td>\n",
       "    </tr>\n",
       "  </tbody>\n",
       "</table>\n",
       "</div>"
      ],
      "text/plain": [
       "   host_total_listings_count  frequency\n",
       "0                 Categoría3       3403\n",
       "1                 Categoría5       2221\n",
       "2                 Categoría8       1810\n",
       "3                Categoría10       1286\n",
       "4                Categoría12       1020\n",
       "5                 Categoría1          0\n",
       "6                 Categoría2          0\n",
       "7                 Categoría4          0\n",
       "8                 Categoría6          0\n",
       "9                 Categoría7          0\n",
       "10                Categoría9          0\n",
       "11               Categoría11          0"
      ]
     },
     "execution_count": 47,
     "metadata": {},
     "output_type": "execute_result"
    }
   ],
   "source": [
    "#Elimino las columnas \"procentage\" y \"cumulative_perc\" para trabajar con las fecuencias\n",
    "table6 = table5.drop(['percentage', 'cumulative_perc'], axis=1)\n",
    "table6"
   ]
  },
  {
   "cell_type": "code",
   "execution_count": 48,
   "metadata": {},
   "outputs": [
    {
     "data": {
      "text/html": [
       "<div>\n",
       "<style scoped>\n",
       "    .dataframe tbody tr th:only-of-type {\n",
       "        vertical-align: middle;\n",
       "    }\n",
       "\n",
       "    .dataframe tbody tr th {\n",
       "        vertical-align: top;\n",
       "    }\n",
       "\n",
       "    .dataframe thead th {\n",
       "        text-align: right;\n",
       "    }\n",
       "</style>\n",
       "<table border=\"1\" class=\"dataframe\">\n",
       "  <thead>\n",
       "    <tr style=\"text-align: right;\">\n",
       "      <th></th>\n",
       "      <th>host_total_listings_count</th>\n",
       "      <th>frequency</th>\n",
       "    </tr>\n",
       "  </thead>\n",
       "  <tbody>\n",
       "    <tr>\n",
       "      <th>0</th>\n",
       "      <td>Categoría3</td>\n",
       "      <td>3403</td>\n",
       "    </tr>\n",
       "    <tr>\n",
       "      <th>1</th>\n",
       "      <td>Categoría5</td>\n",
       "      <td>2221</td>\n",
       "    </tr>\n",
       "    <tr>\n",
       "      <th>2</th>\n",
       "      <td>Categoría8</td>\n",
       "      <td>1810</td>\n",
       "    </tr>\n",
       "    <tr>\n",
       "      <th>3</th>\n",
       "      <td>Categoría10</td>\n",
       "      <td>1286</td>\n",
       "    </tr>\n",
       "    <tr>\n",
       "      <th>4</th>\n",
       "      <td>Categoría12</td>\n",
       "      <td>1020</td>\n",
       "    </tr>\n",
       "  </tbody>\n",
       "</table>\n",
       "</div>"
      ],
      "text/plain": [
       "  host_total_listings_count  frequency\n",
       "0                Categoría3       3403\n",
       "1                Categoría5       2221\n",
       "2                Categoría8       1810\n",
       "3               Categoría10       1286\n",
       "4               Categoría12       1020"
      ]
     },
     "execution_count": 48,
     "metadata": {},
     "output_type": "execute_result"
    }
   ],
   "source": [
    "filtro3 = table6[table6['frequency'] > 165]\n",
    "filtro3"
   ]
  },
  {
   "cell_type": "code",
   "execution_count": 49,
   "metadata": {},
   "outputs": [
    {
     "data": {
      "text/html": [
       "<div>\n",
       "<style scoped>\n",
       "    .dataframe tbody tr th:only-of-type {\n",
       "        vertical-align: middle;\n",
       "    }\n",
       "\n",
       "    .dataframe tbody tr th {\n",
       "        vertical-align: top;\n",
       "    }\n",
       "\n",
       "    .dataframe thead th {\n",
       "        text-align: right;\n",
       "    }\n",
       "</style>\n",
       "<table border=\"1\" class=\"dataframe\">\n",
       "  <thead>\n",
       "    <tr style=\"text-align: right;\">\n",
       "      <th></th>\n",
       "      <th>frequency</th>\n",
       "    </tr>\n",
       "    <tr>\n",
       "      <th>host_total_listings_count</th>\n",
       "      <th></th>\n",
       "    </tr>\n",
       "  </thead>\n",
       "  <tbody>\n",
       "    <tr>\n",
       "      <th>Categoría3</th>\n",
       "      <td>3403</td>\n",
       "    </tr>\n",
       "    <tr>\n",
       "      <th>Categoría5</th>\n",
       "      <td>2221</td>\n",
       "    </tr>\n",
       "    <tr>\n",
       "      <th>Categoría8</th>\n",
       "      <td>1810</td>\n",
       "    </tr>\n",
       "    <tr>\n",
       "      <th>Categoría10</th>\n",
       "      <td>1286</td>\n",
       "    </tr>\n",
       "    <tr>\n",
       "      <th>Categoría12</th>\n",
       "      <td>1020</td>\n",
       "    </tr>\n",
       "  </tbody>\n",
       "</table>\n",
       "</div>"
      ],
      "text/plain": [
       "                           frequency\n",
       "host_total_listings_count           \n",
       "Categoría3                      3403\n",
       "Categoría5                      2221\n",
       "Categoría8                      1810\n",
       "Categoría10                     1286\n",
       "Categoría12                     1020"
      ]
     },
     "execution_count": 49,
     "metadata": {},
     "output_type": "execute_result"
    }
   ],
   "source": [
    "#Ajusto el indice de mi DataFrame\n",
    "Filtro_index2 = filtro3.set_index(\"host_total_listings_count\")\n",
    "Filtro_index2"
   ]
  },
  {
   "cell_type": "code",
   "execution_count": 50,
   "metadata": {},
   "outputs": [
    {
     "data": {
      "text/plain": [
       "<Axes: ylabel='frequency'>"
      ]
     },
     "execution_count": 50,
     "metadata": {},
     "output_type": "execute_result"
    },
    {
     "data": {
      "image/png": "[encoded data removed]",
      "text/plain": [
       "<Figure size 1000x500 with 1 Axes>"
      ]
     },
     "metadata": {},
     "output_type": "display_data"
    }
   ],
   "source": [
    "#Realizamos grafico de pastel del dataframe filtrado\n",
    "Filtro_index2[\"frequency\"].plot(kind='pie', figsize=(10,5), shadow=True, autopct=\"%0.1f %%\")"
   ]
  },
  {
   "cell_type": "markdown",
   "metadata": {},
   "source": [
    "**Variable 4**"
   ]
  },
  {
   "cell_type": "code",
   "execution_count": 51,
   "metadata": {},
   "outputs": [
    {
     "name": "stdout",
     "output_type": "stream",
     "text": [
      "<class 'pandas.core.series.Series'>\n",
      "RangeIndex: 26582 entries, 0 to 26581\n",
      "Series name: accommodates\n",
      "Non-Null Count  Dtype  \n",
      "--------------  -----  \n",
      "26582 non-null  float64\n",
      "dtypes: float64(1)\n",
      "memory usage: 207.8 KB\n"
     ]
    }
   ],
   "source": [
    "Micro_Retailer_1['accommodates'].info()\n",
    "n = 8021"
   ]
  },
  {
   "cell_type": "code",
   "execution_count": 52,
   "metadata": {},
   "outputs": [
    {
     "data": {
      "text/plain": [
       "[1.0, 7.0]"
      ]
     },
     "execution_count": 52,
     "metadata": {},
     "output_type": "execute_result"
    }
   ],
   "source": [
    "Min = Micro_Retailer_1[\"accommodates\"].min()  \n",
    "Max = Micro_Retailer_1[\"accommodates\"].max()  \n",
    "Limites = [Min,Max]\n",
    "Limites"
   ]
  },
  {
   "cell_type": "code",
   "execution_count": 53,
   "metadata": {},
   "outputs": [
    {
     "data": {
      "text/plain": [
       "6.0"
      ]
     },
     "execution_count": 53,
     "metadata": {},
     "output_type": "execute_result"
    }
   ],
   "source": [
    "#Calcula el rango\n",
    "R = Max - Min\n",
    "R"
   ]
  },
  {
   "cell_type": "code",
   "execution_count": 54,
   "metadata": {},
   "outputs": [
    {
     "data": {
      "text/plain": [
       "13.96203867424906"
      ]
     },
     "execution_count": 54,
     "metadata": {},
     "output_type": "execute_result"
    }
   ],
   "source": [
    "#Calcular el número de Intervalos de Clase (ni). Se aplica la regla de Sturges (Donde “n” el tamaño de la muestra.):\n",
    "ni = 1+3.32*np.log10(n)\n",
    "ni"
   ]
  },
  {
   "cell_type": "code",
   "execution_count": 55,
   "metadata": {},
   "outputs": [
    {
     "data": {
      "text/plain": [
       "0.4297366695499937"
      ]
     },
     "execution_count": 55,
     "metadata": {},
     "output_type": "execute_result"
    }
   ],
   "source": [
    "#Calcular el Ancho del Intervalo ( i )\n",
    "i = R/ni\n",
    "i"
   ]
  },
  {
   "cell_type": "code",
   "execution_count": 56,
   "metadata": {},
   "outputs": [
    {
     "data": {
      "text/plain": [
       "array([1. , 1.5, 2. , 2.5, 3. , 3.5, 4. , 4.5, 5. , 5.5, 6. , 6.5, 7. ])"
      ]
     },
     "execution_count": 56,
     "metadata": {},
     "output_type": "execute_result"
    }
   ],
   "source": [
    "# Ver resultado\n",
    "intervalos = np.linspace(1.0, 7.0, 13) #Número de clases más uno\n",
    "intervalos"
   ]
  },
  {
   "cell_type": "code",
   "execution_count": 57,
   "metadata": {},
   "outputs": [],
   "source": [
    "categorias = [\"Categoría1\", \"Categoría2\", \"Categoría3\", \"Categoría4\",\n",
    "              \"Categoría5\", \"Categoría6\", \"Categoría7\", \"Categoría8\",\n",
    "              \"Categoría9\",\"Categoría10\",\"Categoría11\",\"Categoría12\"]"
   ]
  },
  {
   "cell_type": "code",
   "execution_count": 58,
   "metadata": {},
   "outputs": [
    {
     "data": {
      "text/plain": [
       "0        Categoría2\n",
       "1        Categoría5\n",
       "2        Categoría6\n",
       "3        Categoría2\n",
       "4        Categoría2\n",
       "            ...    \n",
       "26577    Categoría6\n",
       "26578    Categoría2\n",
       "26579    Categoría2\n",
       "26580    Categoría2\n",
       "26581    Categoría2\n",
       "Name: accommodates, Length: 26582, dtype: category\n",
       "Categories (12, object): ['Categoría1' < 'Categoría2' < 'Categoría3' < 'Categoría4' ... 'Categoría9' < 'Categoría10' < 'Categoría11' < 'Categoría12']"
      ]
     },
     "execution_count": 58,
     "metadata": {},
     "output_type": "execute_result"
    }
   ],
   "source": [
    "Micro_Retailer_1[\"accommodates\"] = pd.cut(x = Micro_Retailer_1[\"accommodates\"], bins = intervalos, labels = categorias)\n",
    "Micro_Retailer_1[\"accommodates\"]"
   ]
  },
  {
   "cell_type": "code",
   "execution_count": 59,
   "metadata": {},
   "outputs": [
    {
     "data": {
      "text/html": [
       "<div>\n",
       "<style scoped>\n",
       "    .dataframe tbody tr th:only-of-type {\n",
       "        vertical-align: middle;\n",
       "    }\n",
       "\n",
       "    .dataframe tbody tr th {\n",
       "        vertical-align: top;\n",
       "    }\n",
       "\n",
       "    .dataframe thead th {\n",
       "        text-align: right;\n",
       "    }\n",
       "</style>\n",
       "<table border=\"1\" class=\"dataframe\">\n",
       "  <thead>\n",
       "    <tr style=\"text-align: right;\">\n",
       "      <th></th>\n",
       "      <th>accommodates</th>\n",
       "      <th>frequency</th>\n",
       "      <th>percentage</th>\n",
       "      <th>cumulative_perc</th>\n",
       "    </tr>\n",
       "  </thead>\n",
       "  <tbody>\n",
       "    <tr>\n",
       "      <th>0</th>\n",
       "      <td>Categoría2</td>\n",
       "      <td>10620</td>\n",
       "      <td>0.399518</td>\n",
       "      <td>0.450975</td>\n",
       "    </tr>\n",
       "    <tr>\n",
       "      <th>1</th>\n",
       "      <td>Categoría6</td>\n",
       "      <td>5690</td>\n",
       "      <td>0.214055</td>\n",
       "      <td>0.692598</td>\n",
       "    </tr>\n",
       "    <tr>\n",
       "      <th>2</th>\n",
       "      <td>Categoría4</td>\n",
       "      <td>2401</td>\n",
       "      <td>0.090324</td>\n",
       "      <td>0.794556</td>\n",
       "    </tr>\n",
       "    <tr>\n",
       "      <th>3</th>\n",
       "      <td>Categoría10</td>\n",
       "      <td>1800</td>\n",
       "      <td>0.067715</td>\n",
       "      <td>0.870992</td>\n",
       "    </tr>\n",
       "    <tr>\n",
       "      <th>4</th>\n",
       "      <td>Categoría8</td>\n",
       "      <td>1375</td>\n",
       "      <td>0.051727</td>\n",
       "      <td>0.929381</td>\n",
       "    </tr>\n",
       "    <tr>\n",
       "      <th>5</th>\n",
       "      <td>Categoría5</td>\n",
       "      <td>1352</td>\n",
       "      <td>0.050861</td>\n",
       "      <td>0.986793</td>\n",
       "    </tr>\n",
       "    <tr>\n",
       "      <th>6</th>\n",
       "      <td>Categoría12</td>\n",
       "      <td>311</td>\n",
       "      <td>0.011700</td>\n",
       "      <td>1.000000</td>\n",
       "    </tr>\n",
       "    <tr>\n",
       "      <th>7</th>\n",
       "      <td>Categoría1</td>\n",
       "      <td>0</td>\n",
       "      <td>0.000000</td>\n",
       "      <td>1.000000</td>\n",
       "    </tr>\n",
       "    <tr>\n",
       "      <th>8</th>\n",
       "      <td>Categoría3</td>\n",
       "      <td>0</td>\n",
       "      <td>0.000000</td>\n",
       "      <td>1.000000</td>\n",
       "    </tr>\n",
       "    <tr>\n",
       "      <th>9</th>\n",
       "      <td>Categoría7</td>\n",
       "      <td>0</td>\n",
       "      <td>0.000000</td>\n",
       "      <td>1.000000</td>\n",
       "    </tr>\n",
       "    <tr>\n",
       "      <th>10</th>\n",
       "      <td>Categoría9</td>\n",
       "      <td>0</td>\n",
       "      <td>0.000000</td>\n",
       "      <td>1.000000</td>\n",
       "    </tr>\n",
       "    <tr>\n",
       "      <th>11</th>\n",
       "      <td>Categoría11</td>\n",
       "      <td>0</td>\n",
       "      <td>0.000000</td>\n",
       "      <td>1.000000</td>\n",
       "    </tr>\n",
       "  </tbody>\n",
       "</table>\n",
       "</div>"
      ],
      "text/plain": [
       "   accommodates  frequency  percentage  cumulative_perc\n",
       "0    Categoría2      10620    0.399518         0.450975\n",
       "1    Categoría6       5690    0.214055         0.692598\n",
       "2    Categoría4       2401    0.090324         0.794556\n",
       "3   Categoría10       1800    0.067715         0.870992\n",
       "4    Categoría8       1375    0.051727         0.929381\n",
       "5    Categoría5       1352    0.050861         0.986793\n",
       "6   Categoría12        311    0.011700         1.000000\n",
       "7    Categoría1          0    0.000000         1.000000\n",
       "8    Categoría3          0    0.000000         1.000000\n",
       "9    Categoría7          0    0.000000         1.000000\n",
       "10   Categoría9          0    0.000000         1.000000\n",
       "11  Categoría11          0    0.000000         1.000000"
      ]
     },
     "execution_count": 59,
     "metadata": {},
     "output_type": "execute_result"
    }
   ],
   "source": [
    "#Obtengo un análisis univariado de una variable categórica en específico  \n",
    "table7 = freq_tbl(Micro_Retailer_1[\"accommodates\"])\n",
    "table7"
   ]
  },
  {
   "cell_type": "code",
   "execution_count": 60,
   "metadata": {},
   "outputs": [
    {
     "data": {
      "text/html": [
       "<div>\n",
       "<style scoped>\n",
       "    .dataframe tbody tr th:only-of-type {\n",
       "        vertical-align: middle;\n",
       "    }\n",
       "\n",
       "    .dataframe tbody tr th {\n",
       "        vertical-align: top;\n",
       "    }\n",
       "\n",
       "    .dataframe thead th {\n",
       "        text-align: right;\n",
       "    }\n",
       "</style>\n",
       "<table border=\"1\" class=\"dataframe\">\n",
       "  <thead>\n",
       "    <tr style=\"text-align: right;\">\n",
       "      <th></th>\n",
       "      <th>accommodates</th>\n",
       "      <th>frequency</th>\n",
       "    </tr>\n",
       "  </thead>\n",
       "  <tbody>\n",
       "    <tr>\n",
       "      <th>0</th>\n",
       "      <td>Categoría2</td>\n",
       "      <td>10620</td>\n",
       "    </tr>\n",
       "    <tr>\n",
       "      <th>1</th>\n",
       "      <td>Categoría6</td>\n",
       "      <td>5690</td>\n",
       "    </tr>\n",
       "    <tr>\n",
       "      <th>2</th>\n",
       "      <td>Categoría4</td>\n",
       "      <td>2401</td>\n",
       "    </tr>\n",
       "    <tr>\n",
       "      <th>3</th>\n",
       "      <td>Categoría10</td>\n",
       "      <td>1800</td>\n",
       "    </tr>\n",
       "    <tr>\n",
       "      <th>4</th>\n",
       "      <td>Categoría8</td>\n",
       "      <td>1375</td>\n",
       "    </tr>\n",
       "    <tr>\n",
       "      <th>5</th>\n",
       "      <td>Categoría5</td>\n",
       "      <td>1352</td>\n",
       "    </tr>\n",
       "    <tr>\n",
       "      <th>6</th>\n",
       "      <td>Categoría12</td>\n",
       "      <td>311</td>\n",
       "    </tr>\n",
       "    <tr>\n",
       "      <th>7</th>\n",
       "      <td>Categoría1</td>\n",
       "      <td>0</td>\n",
       "    </tr>\n",
       "    <tr>\n",
       "      <th>8</th>\n",
       "      <td>Categoría3</td>\n",
       "      <td>0</td>\n",
       "    </tr>\n",
       "    <tr>\n",
       "      <th>9</th>\n",
       "      <td>Categoría7</td>\n",
       "      <td>0</td>\n",
       "    </tr>\n",
       "    <tr>\n",
       "      <th>10</th>\n",
       "      <td>Categoría9</td>\n",
       "      <td>0</td>\n",
       "    </tr>\n",
       "    <tr>\n",
       "      <th>11</th>\n",
       "      <td>Categoría11</td>\n",
       "      <td>0</td>\n",
       "    </tr>\n",
       "  </tbody>\n",
       "</table>\n",
       "</div>"
      ],
      "text/plain": [
       "   accommodates  frequency\n",
       "0    Categoría2      10620\n",
       "1    Categoría6       5690\n",
       "2    Categoría4       2401\n",
       "3   Categoría10       1800\n",
       "4    Categoría8       1375\n",
       "5    Categoría5       1352\n",
       "6   Categoría12        311\n",
       "7    Categoría1          0\n",
       "8    Categoría3          0\n",
       "9    Categoría7          0\n",
       "10   Categoría9          0\n",
       "11  Categoría11          0"
      ]
     },
     "execution_count": 60,
     "metadata": {},
     "output_type": "execute_result"
    }
   ],
   "source": [
    "#Elimino las columnas \"procentage\" y \"cumulative_perc\" para trabajar con las fecuencias\n",
    "table8 = table7.drop(['percentage', 'cumulative_perc'], axis=1)\n",
    "table8"
   ]
  },
  {
   "cell_type": "code",
   "execution_count": 61,
   "metadata": {},
   "outputs": [
    {
     "data": {
      "text/html": [
       "<div>\n",
       "<style scoped>\n",
       "    .dataframe tbody tr th:only-of-type {\n",
       "        vertical-align: middle;\n",
       "    }\n",
       "\n",
       "    .dataframe tbody tr th {\n",
       "        vertical-align: top;\n",
       "    }\n",
       "\n",
       "    .dataframe thead th {\n",
       "        text-align: right;\n",
       "    }\n",
       "</style>\n",
       "<table border=\"1\" class=\"dataframe\">\n",
       "  <thead>\n",
       "    <tr style=\"text-align: right;\">\n",
       "      <th></th>\n",
       "      <th>accommodates</th>\n",
       "      <th>frequency</th>\n",
       "    </tr>\n",
       "  </thead>\n",
       "  <tbody>\n",
       "    <tr>\n",
       "      <th>0</th>\n",
       "      <td>Categoría2</td>\n",
       "      <td>10620</td>\n",
       "    </tr>\n",
       "    <tr>\n",
       "      <th>1</th>\n",
       "      <td>Categoría6</td>\n",
       "      <td>5690</td>\n",
       "    </tr>\n",
       "    <tr>\n",
       "      <th>2</th>\n",
       "      <td>Categoría4</td>\n",
       "      <td>2401</td>\n",
       "    </tr>\n",
       "    <tr>\n",
       "      <th>3</th>\n",
       "      <td>Categoría10</td>\n",
       "      <td>1800</td>\n",
       "    </tr>\n",
       "    <tr>\n",
       "      <th>4</th>\n",
       "      <td>Categoría8</td>\n",
       "      <td>1375</td>\n",
       "    </tr>\n",
       "    <tr>\n",
       "      <th>5</th>\n",
       "      <td>Categoría5</td>\n",
       "      <td>1352</td>\n",
       "    </tr>\n",
       "    <tr>\n",
       "      <th>6</th>\n",
       "      <td>Categoría12</td>\n",
       "      <td>311</td>\n",
       "    </tr>\n",
       "  </tbody>\n",
       "</table>\n",
       "</div>"
      ],
      "text/plain": [
       "  accommodates  frequency\n",
       "0   Categoría2      10620\n",
       "1   Categoría6       5690\n",
       "2   Categoría4       2401\n",
       "3  Categoría10       1800\n",
       "4   Categoría8       1375\n",
       "5   Categoría5       1352\n",
       "6  Categoría12        311"
      ]
     },
     "execution_count": 61,
     "metadata": {},
     "output_type": "execute_result"
    }
   ],
   "source": [
    "filtro4 = table8[table8['frequency'] > 100]\n",
    "filtro4"
   ]
  },
  {
   "cell_type": "code",
   "execution_count": 62,
   "metadata": {},
   "outputs": [
    {
     "data": {
      "text/html": [
       "<div>\n",
       "<style scoped>\n",
       "    .dataframe tbody tr th:only-of-type {\n",
       "        vertical-align: middle;\n",
       "    }\n",
       "\n",
       "    .dataframe tbody tr th {\n",
       "        vertical-align: top;\n",
       "    }\n",
       "\n",
       "    .dataframe thead th {\n",
       "        text-align: right;\n",
       "    }\n",
       "</style>\n",
       "<table border=\"1\" class=\"dataframe\">\n",
       "  <thead>\n",
       "    <tr style=\"text-align: right;\">\n",
       "      <th></th>\n",
       "      <th>frequency</th>\n",
       "    </tr>\n",
       "    <tr>\n",
       "      <th>accommodates</th>\n",
       "      <th></th>\n",
       "    </tr>\n",
       "  </thead>\n",
       "  <tbody>\n",
       "    <tr>\n",
       "      <th>Categoría2</th>\n",
       "      <td>10620</td>\n",
       "    </tr>\n",
       "    <tr>\n",
       "      <th>Categoría6</th>\n",
       "      <td>5690</td>\n",
       "    </tr>\n",
       "    <tr>\n",
       "      <th>Categoría4</th>\n",
       "      <td>2401</td>\n",
       "    </tr>\n",
       "    <tr>\n",
       "      <th>Categoría10</th>\n",
       "      <td>1800</td>\n",
       "    </tr>\n",
       "    <tr>\n",
       "      <th>Categoría8</th>\n",
       "      <td>1375</td>\n",
       "    </tr>\n",
       "    <tr>\n",
       "      <th>Categoría5</th>\n",
       "      <td>1352</td>\n",
       "    </tr>\n",
       "    <tr>\n",
       "      <th>Categoría12</th>\n",
       "      <td>311</td>\n",
       "    </tr>\n",
       "  </tbody>\n",
       "</table>\n",
       "</div>"
      ],
      "text/plain": [
       "              frequency\n",
       "accommodates           \n",
       "Categoría2        10620\n",
       "Categoría6         5690\n",
       "Categoría4         2401\n",
       "Categoría10        1800\n",
       "Categoría8         1375\n",
       "Categoría5         1352\n",
       "Categoría12         311"
      ]
     },
     "execution_count": 62,
     "metadata": {},
     "output_type": "execute_result"
    }
   ],
   "source": [
    "#Ajusto el indice de mi DataFrame\n",
    "Filtro_index3 = filtro4.set_index(\"accommodates\")\n",
    "Filtro_index3"
   ]
  },
  {
   "cell_type": "code",
   "execution_count": 63,
   "metadata": {},
   "outputs": [
    {
     "data": {
      "text/plain": [
       "<Axes: xlabel='accommodates'>"
      ]
     },
     "execution_count": 63,
     "metadata": {},
     "output_type": "execute_result"
    },
    {
     "data": {
      "image/png": "[encoded data removed]",
      "text/plain": [
       "<Figure size 1000x400 with 1 Axes>"
      ]
     },
     "metadata": {},
     "output_type": "display_data"
    }
   ],
   "source": [
    "#Realizamos grafico de área del dataframe filtrado\n",
    "Filtro_index3.plot(kind='area', figsize=(10,4), alpha = 0.5)"
   ]
  },
  {
   "cell_type": "code",
   "execution_count": 64,
   "metadata": {},
   "outputs": [],
   "source": [
    "# # Convertir a numérico (eliminar NaN y errores)\n",
    "# Micro_Retailer_1[\"bathrooms_text\"] = pd.to_numeric(Micro_Retailer_1[\"bathrooms_text\"], errors=\"coerce\")\n",
    "# Micro_Retailer_1.head(2)\n",
    "# Extraer número de baños de bathrooms_text\n",
    "# Micro_Retailer[\"bathrooms_text\"] = Micro_Retailer[\"bathrooms_text\"].str.extract(\"(\\d+\\.?\\d*)\").astype(float)"
   ]
  },
  {
   "cell_type": "code",
   "execution_count": null,
   "metadata": {},
   "outputs": [],
   "source": [
    "# Extraer número de baños de bathrooms_text\n",
    "Micro_Retailer_1[\"bathrooms_text\"] = Micro_Retailer_1[\"bathrooms_text\"].str.extract(\"(\\d+\\.?\\d*)\").astype(float)\n",
    "Micro_Retailer_1['bathrooms_text'].info()\n",
    "n = 8021\n"
   ]
  },
  {
   "cell_type": "code",
   "execution_count": 69,
   "metadata": {},
   "outputs": [
    {
     "data": {
      "text/plain": [
       "['0 baths', 'Shared half-bath']"
      ]
     },
     "execution_count": 69,
     "metadata": {},
     "output_type": "execute_result"
    }
   ],
   "source": [
    "Min = Micro_Retailer[\"bathrooms_text\"].min()  \n",
    "Max = Micro_Retailer[\"bathrooms_text\"].max()  \n",
    "Limites = [Min,Max]\n",
    "Limites"
   ]
  },
  {
   "cell_type": "code",
   "execution_count": null,
   "metadata": {},
   "outputs": [],
   "source": [
    "R = Max - Min\n",
    "R"
   ]
  },
  {
   "cell_type": "code",
   "execution_count": null,
   "metadata": {},
   "outputs": [
    {
     "data": {
      "text/plain": [
       "13.96203867424906"
      ]
     },
     "execution_count": 138,
     "metadata": {},
     "output_type": "execute_result"
    }
   ],
   "source": [
    "#Calcular el número de Intervalos de Clase (ni). Se aplica la regla de Sturges (Donde “n” el tamaño de la muestra.):\n",
    "ni = 1+3.32*np.log10(n)\n",
    "ni"
   ]
  },
  {
   "cell_type": "code",
   "execution_count": null,
   "metadata": {},
   "outputs": [
    {
     "data": {
      "text/plain": [
       "1.9338150129749716"
      ]
     },
     "execution_count": 139,
     "metadata": {},
     "output_type": "execute_result"
    }
   ],
   "source": [
    "#Calcular el Ancho del Intervalo ( i )\n",
    "i = R/ni\n",
    "i"
   ]
  },
  {
   "cell_type": "code",
   "execution_count": null,
   "metadata": {},
   "outputs": [
    {
     "data": {
      "text/plain": [
       "array([ 0.  ,  2.25,  4.5 ,  6.75,  9.  , 11.25, 13.5 , 15.75, 18.  ,\n",
       "       20.25, 22.5 , 24.75, 27.  ])"
      ]
     },
     "execution_count": 140,
     "metadata": {},
     "output_type": "execute_result"
    }
   ],
   "source": [
    "# Ver resultado\n",
    "intervalos = np.linspace(0.0, 27.0, 13) #Número de clases más uno\n",
    "intervalos"
   ]
  },
  {
   "cell_type": "code",
   "execution_count": null,
   "metadata": {},
   "outputs": [],
   "source": [
    "categorias = [\"Categoría1\", \"Categoría2\", \"Categoría3\", \"Categoría4\",\n",
    "              \"Categoría5\", \"Categoría6\", \"Categoría7\", \"Categoría8\",\n",
    "              \"Categoría9\",\"Categoría10\",\"Categoría11\",\"Categoría12\"]"
   ]
  },
  {
   "cell_type": "code",
   "execution_count": null,
   "metadata": {},
   "outputs": [
    {
     "data": {
      "text/plain": [
       "0       Categoría1\n",
       "1       Categoría1\n",
       "2       Categoría1\n",
       "3       Categoría1\n",
       "4       Categoría1\n",
       "           ...    \n",
       "8016    Categoría1\n",
       "8017    Categoría1\n",
       "8018    Categoría1\n",
       "8019    Categoría1\n",
       "8020    Categoría1\n",
       "Name: bathrooms_text, Length: 8021, dtype: category\n",
       "Categories (12, object): ['Categoría1' < 'Categoría2' < 'Categoría3' < 'Categoría4' ... 'Categoría9' < 'Categoría10' < 'Categoría11' < 'Categoría12']"
      ]
     },
     "execution_count": 142,
     "metadata": {},
     "output_type": "execute_result"
    }
   ],
   "source": [
    "Micro_Retailer[\"bathrooms_text\"] = pd.cut(x = Micro_Retailer[\"bathrooms_text\"], bins = intervalos, labels = categorias)\n",
    "Micro_Retailer[\"bathrooms_text\"]"
   ]
  },
  {
   "cell_type": "code",
   "execution_count": null,
   "metadata": {},
   "outputs": [
    {
     "data": {
      "text/html": [
       "<div>\n",
       "<style scoped>\n",
       "    .dataframe tbody tr th:only-of-type {\n",
       "        vertical-align: middle;\n",
       "    }\n",
       "\n",
       "    .dataframe tbody tr th {\n",
       "        vertical-align: top;\n",
       "    }\n",
       "\n",
       "    .dataframe thead th {\n",
       "        text-align: right;\n",
       "    }\n",
       "</style>\n",
       "<table border=\"1\" class=\"dataframe\">\n",
       "  <thead>\n",
       "    <tr style=\"text-align: right;\">\n",
       "      <th></th>\n",
       "      <th>bathrooms_text</th>\n",
       "      <th>frequency</th>\n",
       "      <th>percentage</th>\n",
       "      <th>cumulative_perc</th>\n",
       "    </tr>\n",
       "  </thead>\n",
       "  <tbody>\n",
       "    <tr>\n",
       "      <th>0</th>\n",
       "      <td>Categoría1</td>\n",
       "      <td>0</td>\n",
       "      <td>0.0</td>\n",
       "      <td>NaN</td>\n",
       "    </tr>\n",
       "    <tr>\n",
       "      <th>1</th>\n",
       "      <td>Categoría2</td>\n",
       "      <td>0</td>\n",
       "      <td>0.0</td>\n",
       "      <td>NaN</td>\n",
       "    </tr>\n",
       "    <tr>\n",
       "      <th>2</th>\n",
       "      <td>Categoría3</td>\n",
       "      <td>0</td>\n",
       "      <td>0.0</td>\n",
       "      <td>NaN</td>\n",
       "    </tr>\n",
       "    <tr>\n",
       "      <th>3</th>\n",
       "      <td>Categoría4</td>\n",
       "      <td>0</td>\n",
       "      <td>0.0</td>\n",
       "      <td>NaN</td>\n",
       "    </tr>\n",
       "    <tr>\n",
       "      <th>4</th>\n",
       "      <td>Categoría5</td>\n",
       "      <td>0</td>\n",
       "      <td>0.0</td>\n",
       "      <td>NaN</td>\n",
       "    </tr>\n",
       "    <tr>\n",
       "      <th>5</th>\n",
       "      <td>Categoría6</td>\n",
       "      <td>0</td>\n",
       "      <td>0.0</td>\n",
       "      <td>NaN</td>\n",
       "    </tr>\n",
       "    <tr>\n",
       "      <th>6</th>\n",
       "      <td>Categoría7</td>\n",
       "      <td>0</td>\n",
       "      <td>0.0</td>\n",
       "      <td>NaN</td>\n",
       "    </tr>\n",
       "    <tr>\n",
       "      <th>7</th>\n",
       "      <td>Categoría8</td>\n",
       "      <td>0</td>\n",
       "      <td>0.0</td>\n",
       "      <td>NaN</td>\n",
       "    </tr>\n",
       "    <tr>\n",
       "      <th>8</th>\n",
       "      <td>Categoría9</td>\n",
       "      <td>0</td>\n",
       "      <td>0.0</td>\n",
       "      <td>NaN</td>\n",
       "    </tr>\n",
       "    <tr>\n",
       "      <th>9</th>\n",
       "      <td>Categoría10</td>\n",
       "      <td>0</td>\n",
       "      <td>0.0</td>\n",
       "      <td>NaN</td>\n",
       "    </tr>\n",
       "    <tr>\n",
       "      <th>10</th>\n",
       "      <td>Categoría11</td>\n",
       "      <td>0</td>\n",
       "      <td>0.0</td>\n",
       "      <td>NaN</td>\n",
       "    </tr>\n",
       "    <tr>\n",
       "      <th>11</th>\n",
       "      <td>Categoría12</td>\n",
       "      <td>0</td>\n",
       "      <td>0.0</td>\n",
       "      <td>NaN</td>\n",
       "    </tr>\n",
       "  </tbody>\n",
       "</table>\n",
       "</div>"
      ],
      "text/plain": [
       "   bathrooms_text  frequency  percentage  cumulative_perc\n",
       "0      Categoría1          0         0.0              NaN\n",
       "1      Categoría2          0         0.0              NaN\n",
       "2      Categoría3          0         0.0              NaN\n",
       "3      Categoría4          0         0.0              NaN\n",
       "4      Categoría5          0         0.0              NaN\n",
       "5      Categoría6          0         0.0              NaN\n",
       "6      Categoría7          0         0.0              NaN\n",
       "7      Categoría8          0         0.0              NaN\n",
       "8      Categoría9          0         0.0              NaN\n",
       "9     Categoría10          0         0.0              NaN\n",
       "10    Categoría11          0         0.0              NaN\n",
       "11    Categoría12          0         0.0              NaN"
      ]
     },
     "execution_count": 144,
     "metadata": {},
     "output_type": "execute_result"
    }
   ],
   "source": [
    "#Obtengo un análisis univariado de una variable categórica en específico  \n",
    "table9 = freq_tbl(Micro_Retailer_1[\"bathrooms_text\"])\n",
    "table9"
   ]
  },
  {
   "cell_type": "markdown",
   "metadata": {},
   "source": [
    "**Nosé**"
   ]
  },
  {
   "cell_type": "code",
   "execution_count": 72,
   "metadata": {},
   "outputs": [
    {
     "name": "stdout",
     "output_type": "stream",
     "text": [
      "<class 'pandas.core.series.Series'>\n",
      "RangeIndex: 26582 entries, 0 to 26581\n",
      "Series name: beds\n",
      "Non-Null Count  Dtype  \n",
      "--------------  -----  \n",
      "26582 non-null  float64\n",
      "dtypes: float64(1)\n",
      "memory usage: 207.8 KB\n"
     ]
    }
   ],
   "source": [
    "Micro_Retailer_1['beds'].info()\n",
    "n = 8021"
   ]
  },
  {
   "cell_type": "code",
   "execution_count": 73,
   "metadata": {},
   "outputs": [
    {
     "data": {
      "text/plain": [
       "[0.0, 3.0]"
      ]
     },
     "execution_count": 73,
     "metadata": {},
     "output_type": "execute_result"
    }
   ],
   "source": [
    "Min = Micro_Retailer_1[\"beds\"].min()  \n",
    "Max = Micro_Retailer_1[\"beds\"].max()  \n",
    "Limites = [Min,Max]\n",
    "Limites"
   ]
  },
  {
   "cell_type": "code",
   "execution_count": 74,
   "metadata": {},
   "outputs": [
    {
     "data": {
      "text/plain": [
       "3.0"
      ]
     },
     "execution_count": 74,
     "metadata": {},
     "output_type": "execute_result"
    }
   ],
   "source": [
    "#Calcula el rango\n",
    "R = Max - Min\n",
    "R"
   ]
  },
  {
   "cell_type": "code",
   "execution_count": 75,
   "metadata": {},
   "outputs": [
    {
     "data": {
      "text/plain": [
       "13.96203867424906"
      ]
     },
     "execution_count": 75,
     "metadata": {},
     "output_type": "execute_result"
    }
   ],
   "source": [
    "#Calcular el número de Intervalos de Clase (ni). Se aplica la regla de Sturges (Donde “n” el tamaño de la muestra.):\n",
    "ni = 1+3.32*np.log10(n)\n",
    "ni"
   ]
  },
  {
   "cell_type": "code",
   "execution_count": 76,
   "metadata": {},
   "outputs": [
    {
     "data": {
      "text/plain": [
       "0.21486833477499684"
      ]
     },
     "execution_count": 76,
     "metadata": {},
     "output_type": "execute_result"
    }
   ],
   "source": [
    "#Calcular el Ancho del Intervalo ( i )\n",
    "i = R/ni\n",
    "i"
   ]
  },
  {
   "cell_type": "code",
   "execution_count": 77,
   "metadata": {},
   "outputs": [
    {
     "data": {
      "text/plain": [
       "array([0.  , 0.25, 0.5 , 0.75, 1.  , 1.25, 1.5 , 1.75, 2.  , 2.25, 2.5 ,\n",
       "       2.75, 3.  ])"
      ]
     },
     "execution_count": 77,
     "metadata": {},
     "output_type": "execute_result"
    }
   ],
   "source": [
    "# Ver resultado\n",
    "intervalos = np.linspace(0.0, 3.0, 13) #Número de clases más uno\n",
    "intervalos"
   ]
  },
  {
   "cell_type": "code",
   "execution_count": 78,
   "metadata": {},
   "outputs": [],
   "source": [
    "categorias = [\"Categoría1\", \"Categoría2\", \"Categoría3\", \"Categoría4\",\n",
    "              \"Categoría5\", \"Categoría6\", \"Categoría7\", \"Categoría8\",\n",
    "              \"Categoría9\",\"Categoría10\",\"Categoría11\",\"Categoría12\"]"
   ]
  },
  {
   "cell_type": "code",
   "execution_count": 79,
   "metadata": {},
   "outputs": [
    {
     "data": {
      "text/plain": [
       "0        Categoría4\n",
       "1        Categoría8\n",
       "2        Categoría8\n",
       "3        Categoría4\n",
       "4        Categoría4\n",
       "            ...    \n",
       "26577    Categoría8\n",
       "26578    Categoría4\n",
       "26579    Categoría4\n",
       "26580    Categoría4\n",
       "26581    Categoría4\n",
       "Name: beds, Length: 26582, dtype: category\n",
       "Categories (12, object): ['Categoría1' < 'Categoría2' < 'Categoría3' < 'Categoría4' ... 'Categoría9' < 'Categoría10' < 'Categoría11' < 'Categoría12']"
      ]
     },
     "execution_count": 79,
     "metadata": {},
     "output_type": "execute_result"
    }
   ],
   "source": [
    "Micro_Retailer_1[\"beds\"] = pd.cut(x = Micro_Retailer_1[\"beds\"], bins = intervalos, labels = categorias)\n",
    "Micro_Retailer_1[\"beds\"]"
   ]
  },
  {
   "cell_type": "code",
   "execution_count": 80,
   "metadata": {},
   "outputs": [
    {
     "data": {
      "text/html": [
       "<div>\n",
       "<style scoped>\n",
       "    .dataframe tbody tr th:only-of-type {\n",
       "        vertical-align: middle;\n",
       "    }\n",
       "\n",
       "    .dataframe tbody tr th {\n",
       "        vertical-align: top;\n",
       "    }\n",
       "\n",
       "    .dataframe thead th {\n",
       "        text-align: right;\n",
       "    }\n",
       "</style>\n",
       "<table border=\"1\" class=\"dataframe\">\n",
       "  <thead>\n",
       "    <tr style=\"text-align: right;\">\n",
       "      <th></th>\n",
       "      <th>beds</th>\n",
       "      <th>frequency</th>\n",
       "      <th>percentage</th>\n",
       "      <th>cumulative_perc</th>\n",
       "    </tr>\n",
       "  </thead>\n",
       "  <tbody>\n",
       "    <tr>\n",
       "      <th>0</th>\n",
       "      <td>Categoría8</td>\n",
       "      <td>11867</td>\n",
       "      <td>0.446430</td>\n",
       "      <td>0.454500</td>\n",
       "    </tr>\n",
       "    <tr>\n",
       "      <th>1</th>\n",
       "      <td>Categoría4</td>\n",
       "      <td>11409</td>\n",
       "      <td>0.429200</td>\n",
       "      <td>0.891459</td>\n",
       "    </tr>\n",
       "    <tr>\n",
       "      <th>2</th>\n",
       "      <td>Categoría12</td>\n",
       "      <td>2834</td>\n",
       "      <td>0.106613</td>\n",
       "      <td>1.000000</td>\n",
       "    </tr>\n",
       "    <tr>\n",
       "      <th>3</th>\n",
       "      <td>Categoría1</td>\n",
       "      <td>0</td>\n",
       "      <td>0.000000</td>\n",
       "      <td>1.000000</td>\n",
       "    </tr>\n",
       "    <tr>\n",
       "      <th>4</th>\n",
       "      <td>Categoría2</td>\n",
       "      <td>0</td>\n",
       "      <td>0.000000</td>\n",
       "      <td>1.000000</td>\n",
       "    </tr>\n",
       "    <tr>\n",
       "      <th>5</th>\n",
       "      <td>Categoría3</td>\n",
       "      <td>0</td>\n",
       "      <td>0.000000</td>\n",
       "      <td>1.000000</td>\n",
       "    </tr>\n",
       "    <tr>\n",
       "      <th>6</th>\n",
       "      <td>Categoría5</td>\n",
       "      <td>0</td>\n",
       "      <td>0.000000</td>\n",
       "      <td>1.000000</td>\n",
       "    </tr>\n",
       "    <tr>\n",
       "      <th>7</th>\n",
       "      <td>Categoría6</td>\n",
       "      <td>0</td>\n",
       "      <td>0.000000</td>\n",
       "      <td>1.000000</td>\n",
       "    </tr>\n",
       "    <tr>\n",
       "      <th>8</th>\n",
       "      <td>Categoría7</td>\n",
       "      <td>0</td>\n",
       "      <td>0.000000</td>\n",
       "      <td>1.000000</td>\n",
       "    </tr>\n",
       "    <tr>\n",
       "      <th>9</th>\n",
       "      <td>Categoría9</td>\n",
       "      <td>0</td>\n",
       "      <td>0.000000</td>\n",
       "      <td>1.000000</td>\n",
       "    </tr>\n",
       "    <tr>\n",
       "      <th>10</th>\n",
       "      <td>Categoría10</td>\n",
       "      <td>0</td>\n",
       "      <td>0.000000</td>\n",
       "      <td>1.000000</td>\n",
       "    </tr>\n",
       "    <tr>\n",
       "      <th>11</th>\n",
       "      <td>Categoría11</td>\n",
       "      <td>0</td>\n",
       "      <td>0.000000</td>\n",
       "      <td>1.000000</td>\n",
       "    </tr>\n",
       "  </tbody>\n",
       "</table>\n",
       "</div>"
      ],
      "text/plain": [
       "           beds  frequency  percentage  cumulative_perc\n",
       "0    Categoría8      11867    0.446430         0.454500\n",
       "1    Categoría4      11409    0.429200         0.891459\n",
       "2   Categoría12       2834    0.106613         1.000000\n",
       "3    Categoría1          0    0.000000         1.000000\n",
       "4    Categoría2          0    0.000000         1.000000\n",
       "5    Categoría3          0    0.000000         1.000000\n",
       "6    Categoría5          0    0.000000         1.000000\n",
       "7    Categoría6          0    0.000000         1.000000\n",
       "8    Categoría7          0    0.000000         1.000000\n",
       "9    Categoría9          0    0.000000         1.000000\n",
       "10  Categoría10          0    0.000000         1.000000\n",
       "11  Categoría11          0    0.000000         1.000000"
      ]
     },
     "execution_count": 80,
     "metadata": {},
     "output_type": "execute_result"
    }
   ],
   "source": [
    "#Obtengo un análisis univariado de una variable categórica en específico  \n",
    "table11 = freq_tbl(Micro_Retailer_1[\"beds\"])\n",
    "table11"
   ]
  },
  {
   "cell_type": "code",
   "execution_count": 81,
   "metadata": {},
   "outputs": [
    {
     "data": {
      "text/html": [
       "<div>\n",
       "<style scoped>\n",
       "    .dataframe tbody tr th:only-of-type {\n",
       "        vertical-align: middle;\n",
       "    }\n",
       "\n",
       "    .dataframe tbody tr th {\n",
       "        vertical-align: top;\n",
       "    }\n",
       "\n",
       "    .dataframe thead th {\n",
       "        text-align: right;\n",
       "    }\n",
       "</style>\n",
       "<table border=\"1\" class=\"dataframe\">\n",
       "  <thead>\n",
       "    <tr style=\"text-align: right;\">\n",
       "      <th></th>\n",
       "      <th>beds</th>\n",
       "      <th>frequency</th>\n",
       "    </tr>\n",
       "  </thead>\n",
       "  <tbody>\n",
       "    <tr>\n",
       "      <th>0</th>\n",
       "      <td>Categoría8</td>\n",
       "      <td>11867</td>\n",
       "    </tr>\n",
       "    <tr>\n",
       "      <th>1</th>\n",
       "      <td>Categoría4</td>\n",
       "      <td>11409</td>\n",
       "    </tr>\n",
       "    <tr>\n",
       "      <th>2</th>\n",
       "      <td>Categoría12</td>\n",
       "      <td>2834</td>\n",
       "    </tr>\n",
       "    <tr>\n",
       "      <th>3</th>\n",
       "      <td>Categoría1</td>\n",
       "      <td>0</td>\n",
       "    </tr>\n",
       "    <tr>\n",
       "      <th>4</th>\n",
       "      <td>Categoría2</td>\n",
       "      <td>0</td>\n",
       "    </tr>\n",
       "    <tr>\n",
       "      <th>5</th>\n",
       "      <td>Categoría3</td>\n",
       "      <td>0</td>\n",
       "    </tr>\n",
       "    <tr>\n",
       "      <th>6</th>\n",
       "      <td>Categoría5</td>\n",
       "      <td>0</td>\n",
       "    </tr>\n",
       "    <tr>\n",
       "      <th>7</th>\n",
       "      <td>Categoría6</td>\n",
       "      <td>0</td>\n",
       "    </tr>\n",
       "    <tr>\n",
       "      <th>8</th>\n",
       "      <td>Categoría7</td>\n",
       "      <td>0</td>\n",
       "    </tr>\n",
       "    <tr>\n",
       "      <th>9</th>\n",
       "      <td>Categoría9</td>\n",
       "      <td>0</td>\n",
       "    </tr>\n",
       "    <tr>\n",
       "      <th>10</th>\n",
       "      <td>Categoría10</td>\n",
       "      <td>0</td>\n",
       "    </tr>\n",
       "    <tr>\n",
       "      <th>11</th>\n",
       "      <td>Categoría11</td>\n",
       "      <td>0</td>\n",
       "    </tr>\n",
       "  </tbody>\n",
       "</table>\n",
       "</div>"
      ],
      "text/plain": [
       "           beds  frequency\n",
       "0    Categoría8      11867\n",
       "1    Categoría4      11409\n",
       "2   Categoría12       2834\n",
       "3    Categoría1          0\n",
       "4    Categoría2          0\n",
       "5    Categoría3          0\n",
       "6    Categoría5          0\n",
       "7    Categoría6          0\n",
       "8    Categoría7          0\n",
       "9    Categoría9          0\n",
       "10  Categoría10          0\n",
       "11  Categoría11          0"
      ]
     },
     "execution_count": 81,
     "metadata": {},
     "output_type": "execute_result"
    }
   ],
   "source": [
    "#Elimino las columnas \"procentage\" y \"cumulative_perc\" para trabajar con las fecuencias\n",
    "table12 = table11.drop(['percentage', 'cumulative_perc'], axis=1)\n",
    "table12"
   ]
  },
  {
   "cell_type": "code",
   "execution_count": 82,
   "metadata": {},
   "outputs": [
    {
     "data": {
      "text/html": [
       "<div>\n",
       "<style scoped>\n",
       "    .dataframe tbody tr th:only-of-type {\n",
       "        vertical-align: middle;\n",
       "    }\n",
       "\n",
       "    .dataframe tbody tr th {\n",
       "        vertical-align: top;\n",
       "    }\n",
       "\n",
       "    .dataframe thead th {\n",
       "        text-align: right;\n",
       "    }\n",
       "</style>\n",
       "<table border=\"1\" class=\"dataframe\">\n",
       "  <thead>\n",
       "    <tr style=\"text-align: right;\">\n",
       "      <th></th>\n",
       "      <th>beds</th>\n",
       "      <th>frequency</th>\n",
       "    </tr>\n",
       "  </thead>\n",
       "  <tbody>\n",
       "    <tr>\n",
       "      <th>0</th>\n",
       "      <td>Categoría8</td>\n",
       "      <td>11867</td>\n",
       "    </tr>\n",
       "    <tr>\n",
       "      <th>1</th>\n",
       "      <td>Categoría4</td>\n",
       "      <td>11409</td>\n",
       "    </tr>\n",
       "    <tr>\n",
       "      <th>2</th>\n",
       "      <td>Categoría12</td>\n",
       "      <td>2834</td>\n",
       "    </tr>\n",
       "  </tbody>\n",
       "</table>\n",
       "</div>"
      ],
      "text/plain": [
       "          beds  frequency\n",
       "0   Categoría8      11867\n",
       "1   Categoría4      11409\n",
       "2  Categoría12       2834"
      ]
     },
     "execution_count": 82,
     "metadata": {},
     "output_type": "execute_result"
    }
   ],
   "source": [
    "filtro6 = table12[table12['frequency'] > 300]\n",
    "filtro6"
   ]
  },
  {
   "cell_type": "code",
   "execution_count": 83,
   "metadata": {},
   "outputs": [
    {
     "data": {
      "text/html": [
       "<div>\n",
       "<style scoped>\n",
       "    .dataframe tbody tr th:only-of-type {\n",
       "        vertical-align: middle;\n",
       "    }\n",
       "\n",
       "    .dataframe tbody tr th {\n",
       "        vertical-align: top;\n",
       "    }\n",
       "\n",
       "    .dataframe thead th {\n",
       "        text-align: right;\n",
       "    }\n",
       "</style>\n",
       "<table border=\"1\" class=\"dataframe\">\n",
       "  <thead>\n",
       "    <tr style=\"text-align: right;\">\n",
       "      <th></th>\n",
       "      <th>frequency</th>\n",
       "    </tr>\n",
       "    <tr>\n",
       "      <th>beds</th>\n",
       "      <th></th>\n",
       "    </tr>\n",
       "  </thead>\n",
       "  <tbody>\n",
       "    <tr>\n",
       "      <th>Categoría8</th>\n",
       "      <td>11867</td>\n",
       "    </tr>\n",
       "    <tr>\n",
       "      <th>Categoría4</th>\n",
       "      <td>11409</td>\n",
       "    </tr>\n",
       "    <tr>\n",
       "      <th>Categoría12</th>\n",
       "      <td>2834</td>\n",
       "    </tr>\n",
       "  </tbody>\n",
       "</table>\n",
       "</div>"
      ],
      "text/plain": [
       "             frequency\n",
       "beds                  \n",
       "Categoría8       11867\n",
       "Categoría4       11409\n",
       "Categoría12       2834"
      ]
     },
     "execution_count": 83,
     "metadata": {},
     "output_type": "execute_result"
    }
   ],
   "source": [
    "#Ajusto el indice de mi DataFrame\n",
    "Filtro_index = filtro6.set_index(\"beds\")\n",
    "Filtro_index"
   ]
  },
  {
   "cell_type": "code",
   "execution_count": 84,
   "metadata": {},
   "outputs": [
    {
     "data": {
      "text/plain": [
       "Text(0, 0.5, 'Frecuencia')"
      ]
     },
     "execution_count": 84,
     "metadata": {},
     "output_type": "execute_result"
    },
    {
     "data": {
      "image/png": "[encoded data removed]",
      "text/plain": [
       "<Figure size 1000x400 with 1 Axes>"
      ]
     },
     "metadata": {},
     "output_type": "display_data"
    }
   ],
   "source": [
    "#Realizamos grafico de barras del Dataframe filtrado\n",
    "Filtro_index.plot(kind = 'bar', width=0.8, figsize=(10,4), color = \"red\")\n",
    "plt.title('Camas')\n",
    "plt.xlabel('Categoria de las camas')\n",
    "plt.ylabel('Frecuencia')"
   ]
  },
  {
   "cell_type": "code",
   "execution_count": 85,
   "metadata": {},
   "outputs": [
    {
     "name": "stderr",
     "output_type": "stream",
     "text": [
      "<>:1: SyntaxWarning: invalid escape sequence '\\$'\n",
      "<>:1: SyntaxWarning: invalid escape sequence '\\$'\n",
      "C:\\Users\\ramos\\AppData\\Local\\Temp\\ipykernel_26456\\1362851435.py:1: SyntaxWarning: invalid escape sequence '\\$'\n",
      "  Micro_Retailer_1[\"price\"] = Micro_Retailer_1[\"price\"].replace('[\\$,]', '', regex=True).astype(float)\n"
     ]
    }
   ],
   "source": [
    "Micro_Retailer_1[\"price\"] = Micro_Retailer_1[\"price\"].replace('[\\$,]', '', regex=True).astype(float)"
   ]
  },
  {
   "cell_type": "code",
   "execution_count": 86,
   "metadata": {},
   "outputs": [
    {
     "name": "stdout",
     "output_type": "stream",
     "text": [
      "<class 'pandas.core.series.Series'>\n",
      "RangeIndex: 26582 entries, 0 to 26581\n",
      "Series name: price\n",
      "Non-Null Count  Dtype  \n",
      "--------------  -----  \n",
      "26582 non-null  float64\n",
      "dtypes: float64(1)\n",
      "memory usage: 207.8 KB\n"
     ]
    }
   ],
   "source": [
    "Micro_Retailer_1['price'].info()\n",
    "n = 8021"
   ]
  },
  {
   "cell_type": "code",
   "execution_count": 87,
   "metadata": {},
   "outputs": [
    {
     "data": {
      "text/plain": [
       "[0.0, 435481.0]"
      ]
     },
     "execution_count": 87,
     "metadata": {},
     "output_type": "execute_result"
    }
   ],
   "source": [
    "Min = Micro_Retailer_1[\"price\"].min()  \n",
    "Max = Micro_Retailer_1[\"price\"].max()  \n",
    "Limites = [Min,Max]\n",
    "Limites"
   ]
  },
  {
   "cell_type": "code",
   "execution_count": 88,
   "metadata": {},
   "outputs": [
    {
     "data": {
      "text/plain": [
       "435481.0"
      ]
     },
     "execution_count": 88,
     "metadata": {},
     "output_type": "execute_result"
    }
   ],
   "source": [
    "#Calcula el rango\n",
    "R = Max - Min\n",
    "R"
   ]
  },
  {
   "cell_type": "code",
   "execution_count": 89,
   "metadata": {},
   "outputs": [
    {
     "data": {
      "text/plain": [
       "13.96203867424906"
      ]
     },
     "execution_count": 89,
     "metadata": {},
     "output_type": "execute_result"
    }
   ],
   "source": [
    "#Calcular el número de Intervalos de Clase (ni). Se aplica la regla de Sturges (Donde “n” el tamaño de la muestra.):\n",
    "ni = 1+3.32*np.log10(n)\n",
    "ni"
   ]
  },
  {
   "cell_type": "code",
   "execution_count": 90,
   "metadata": {},
   "outputs": [
    {
     "data": {
      "text/plain": [
       "31190.3590987168"
      ]
     },
     "execution_count": 90,
     "metadata": {},
     "output_type": "execute_result"
    }
   ],
   "source": [
    "#Calcular el Ancho del Intervalo ( i )\n",
    "i = R/ni\n",
    "i"
   ]
  },
  {
   "cell_type": "code",
   "execution_count": 91,
   "metadata": {},
   "outputs": [
    {
     "data": {
      "text/plain": [
       "array([2.00000000e+01, 8.04116667e+03, 1.60623333e+04, 2.40835000e+04,\n",
       "       3.21046667e+04, 4.01258333e+04, 4.81470000e+04, 5.61681667e+04,\n",
       "       6.41893333e+04, 7.22105000e+04, 8.02316667e+04, 8.82528333e+04,\n",
       "       9.62740000e+04])"
      ]
     },
     "execution_count": 91,
     "metadata": {},
     "output_type": "execute_result"
    }
   ],
   "source": [
    "# Ver resultado\n",
    "intervalos = np.linspace(20.0, 96274.0, 13) #Número de clases más uno\n",
    "intervalos"
   ]
  },
  {
   "cell_type": "code",
   "execution_count": 92,
   "metadata": {},
   "outputs": [],
   "source": [
    "categorias = [\"Categoría1\", \"Categoría2\", \"Categoría3\", \"Categoría4\",\n",
    "              \"Categoría5\", \"Categoría6\", \"Categoría7\", \"Categoría8\",\n",
    "              \"Categoría9\",\"Categoría10\",\"Categoría11\",\"Categoría12\"]"
   ]
  },
  {
   "cell_type": "code",
   "execution_count": 93,
   "metadata": {},
   "outputs": [
    {
     "data": {
      "text/plain": [
       "0        Categoría1\n",
       "1        Categoría1\n",
       "2        Categoría1\n",
       "3        Categoría1\n",
       "4        Categoría1\n",
       "            ...    \n",
       "26577    Categoría1\n",
       "26578    Categoría1\n",
       "26579    Categoría1\n",
       "26580    Categoría1\n",
       "26581    Categoría1\n",
       "Name: price, Length: 26582, dtype: category\n",
       "Categories (12, object): ['Categoría1' < 'Categoría2' < 'Categoría3' < 'Categoría4' ... 'Categoría9' < 'Categoría10' < 'Categoría11' < 'Categoría12']"
      ]
     },
     "execution_count": 93,
     "metadata": {},
     "output_type": "execute_result"
    }
   ],
   "source": [
    "Micro_Retailer_1[\"price\"] = pd.cut(x = Micro_Retailer_1[\"price\"], bins = intervalos, labels = categorias)\n",
    "Micro_Retailer_1[\"price\"]"
   ]
  },
  {
   "cell_type": "code",
   "execution_count": 94,
   "metadata": {},
   "outputs": [
    {
     "data": {
      "text/html": [
       "<div>\n",
       "<style scoped>\n",
       "    .dataframe tbody tr th:only-of-type {\n",
       "        vertical-align: middle;\n",
       "    }\n",
       "\n",
       "    .dataframe tbody tr th {\n",
       "        vertical-align: top;\n",
       "    }\n",
       "\n",
       "    .dataframe thead th {\n",
       "        text-align: right;\n",
       "    }\n",
       "</style>\n",
       "<table border=\"1\" class=\"dataframe\">\n",
       "  <thead>\n",
       "    <tr style=\"text-align: right;\">\n",
       "      <th></th>\n",
       "      <th>price</th>\n",
       "      <th>frequency</th>\n",
       "      <th>percentage</th>\n",
       "      <th>cumulative_perc</th>\n",
       "    </tr>\n",
       "  </thead>\n",
       "  <tbody>\n",
       "    <tr>\n",
       "      <th>0</th>\n",
       "      <td>Categoría1</td>\n",
       "      <td>26289</td>\n",
       "      <td>0.988978</td>\n",
       "      <td>0.989201</td>\n",
       "    </tr>\n",
       "    <tr>\n",
       "      <th>1</th>\n",
       "      <td>Categoría2</td>\n",
       "      <td>201</td>\n",
       "      <td>0.007562</td>\n",
       "      <td>0.996764</td>\n",
       "    </tr>\n",
       "    <tr>\n",
       "      <th>2</th>\n",
       "      <td>Categoría3</td>\n",
       "      <td>46</td>\n",
       "      <td>0.001730</td>\n",
       "      <td>0.998495</td>\n",
       "    </tr>\n",
       "    <tr>\n",
       "      <th>3</th>\n",
       "      <td>Categoría4</td>\n",
       "      <td>25</td>\n",
       "      <td>0.000940</td>\n",
       "      <td>0.999436</td>\n",
       "    </tr>\n",
       "    <tr>\n",
       "      <th>4</th>\n",
       "      <td>Categoría5</td>\n",
       "      <td>5</td>\n",
       "      <td>0.000188</td>\n",
       "      <td>0.999624</td>\n",
       "    </tr>\n",
       "    <tr>\n",
       "      <th>5</th>\n",
       "      <td>Categoría7</td>\n",
       "      <td>5</td>\n",
       "      <td>0.000188</td>\n",
       "      <td>0.999812</td>\n",
       "    </tr>\n",
       "    <tr>\n",
       "      <th>6</th>\n",
       "      <td>Categoría6</td>\n",
       "      <td>2</td>\n",
       "      <td>0.000075</td>\n",
       "      <td>0.999887</td>\n",
       "    </tr>\n",
       "    <tr>\n",
       "      <th>7</th>\n",
       "      <td>Categoría9</td>\n",
       "      <td>1</td>\n",
       "      <td>0.000038</td>\n",
       "      <td>0.999925</td>\n",
       "    </tr>\n",
       "    <tr>\n",
       "      <th>8</th>\n",
       "      <td>Categoría10</td>\n",
       "      <td>1</td>\n",
       "      <td>0.000038</td>\n",
       "      <td>0.999962</td>\n",
       "    </tr>\n",
       "    <tr>\n",
       "      <th>9</th>\n",
       "      <td>Categoría12</td>\n",
       "      <td>1</td>\n",
       "      <td>0.000038</td>\n",
       "      <td>1.000000</td>\n",
       "    </tr>\n",
       "    <tr>\n",
       "      <th>10</th>\n",
       "      <td>Categoría8</td>\n",
       "      <td>0</td>\n",
       "      <td>0.000000</td>\n",
       "      <td>1.000000</td>\n",
       "    </tr>\n",
       "    <tr>\n",
       "      <th>11</th>\n",
       "      <td>Categoría11</td>\n",
       "      <td>0</td>\n",
       "      <td>0.000000</td>\n",
       "      <td>1.000000</td>\n",
       "    </tr>\n",
       "  </tbody>\n",
       "</table>\n",
       "</div>"
      ],
      "text/plain": [
       "          price  frequency  percentage  cumulative_perc\n",
       "0    Categoría1      26289    0.988978         0.989201\n",
       "1    Categoría2        201    0.007562         0.996764\n",
       "2    Categoría3         46    0.001730         0.998495\n",
       "3    Categoría4         25    0.000940         0.999436\n",
       "4    Categoría5          5    0.000188         0.999624\n",
       "5    Categoría7          5    0.000188         0.999812\n",
       "6    Categoría6          2    0.000075         0.999887\n",
       "7    Categoría9          1    0.000038         0.999925\n",
       "8   Categoría10          1    0.000038         0.999962\n",
       "9   Categoría12          1    0.000038         1.000000\n",
       "10   Categoría8          0    0.000000         1.000000\n",
       "11  Categoría11          0    0.000000         1.000000"
      ]
     },
     "execution_count": 94,
     "metadata": {},
     "output_type": "execute_result"
    }
   ],
   "source": [
    "#Obtengo un análisis univariado de una variable categórica en específico  \n",
    "table13 = freq_tbl(Micro_Retailer_1[\"price\"])\n",
    "table13"
   ]
  },
  {
   "cell_type": "code",
   "execution_count": 95,
   "metadata": {},
   "outputs": [
    {
     "data": {
      "text/html": [
       "<div>\n",
       "<style scoped>\n",
       "    .dataframe tbody tr th:only-of-type {\n",
       "        vertical-align: middle;\n",
       "    }\n",
       "\n",
       "    .dataframe tbody tr th {\n",
       "        vertical-align: top;\n",
       "    }\n",
       "\n",
       "    .dataframe thead th {\n",
       "        text-align: right;\n",
       "    }\n",
       "</style>\n",
       "<table border=\"1\" class=\"dataframe\">\n",
       "  <thead>\n",
       "    <tr style=\"text-align: right;\">\n",
       "      <th></th>\n",
       "      <th>price</th>\n",
       "      <th>frequency</th>\n",
       "    </tr>\n",
       "  </thead>\n",
       "  <tbody>\n",
       "    <tr>\n",
       "      <th>0</th>\n",
       "      <td>Categoría1</td>\n",
       "      <td>26289</td>\n",
       "    </tr>\n",
       "    <tr>\n",
       "      <th>1</th>\n",
       "      <td>Categoría2</td>\n",
       "      <td>201</td>\n",
       "    </tr>\n",
       "    <tr>\n",
       "      <th>2</th>\n",
       "      <td>Categoría3</td>\n",
       "      <td>46</td>\n",
       "    </tr>\n",
       "    <tr>\n",
       "      <th>3</th>\n",
       "      <td>Categoría4</td>\n",
       "      <td>25</td>\n",
       "    </tr>\n",
       "    <tr>\n",
       "      <th>4</th>\n",
       "      <td>Categoría5</td>\n",
       "      <td>5</td>\n",
       "    </tr>\n",
       "    <tr>\n",
       "      <th>5</th>\n",
       "      <td>Categoría7</td>\n",
       "      <td>5</td>\n",
       "    </tr>\n",
       "    <tr>\n",
       "      <th>6</th>\n",
       "      <td>Categoría6</td>\n",
       "      <td>2</td>\n",
       "    </tr>\n",
       "    <tr>\n",
       "      <th>7</th>\n",
       "      <td>Categoría9</td>\n",
       "      <td>1</td>\n",
       "    </tr>\n",
       "    <tr>\n",
       "      <th>8</th>\n",
       "      <td>Categoría10</td>\n",
       "      <td>1</td>\n",
       "    </tr>\n",
       "    <tr>\n",
       "      <th>9</th>\n",
       "      <td>Categoría12</td>\n",
       "      <td>1</td>\n",
       "    </tr>\n",
       "    <tr>\n",
       "      <th>10</th>\n",
       "      <td>Categoría8</td>\n",
       "      <td>0</td>\n",
       "    </tr>\n",
       "    <tr>\n",
       "      <th>11</th>\n",
       "      <td>Categoría11</td>\n",
       "      <td>0</td>\n",
       "    </tr>\n",
       "  </tbody>\n",
       "</table>\n",
       "</div>"
      ],
      "text/plain": [
       "          price  frequency\n",
       "0    Categoría1      26289\n",
       "1    Categoría2        201\n",
       "2    Categoría3         46\n",
       "3    Categoría4         25\n",
       "4    Categoría5          5\n",
       "5    Categoría7          5\n",
       "6    Categoría6          2\n",
       "7    Categoría9          1\n",
       "8   Categoría10          1\n",
       "9   Categoría12          1\n",
       "10   Categoría8          0\n",
       "11  Categoría11          0"
      ]
     },
     "execution_count": 95,
     "metadata": {},
     "output_type": "execute_result"
    }
   ],
   "source": [
    "#Elimino las columnas \"procentage\" y \"cumulative_perc\" para trabajar con las fecuencias\n",
    "table14 = table13.drop(['percentage', 'cumulative_perc'], axis=1)\n",
    "table14"
   ]
  },
  {
   "cell_type": "code",
   "execution_count": 96,
   "metadata": {},
   "outputs": [
    {
     "data": {
      "text/html": [
       "<div>\n",
       "<style scoped>\n",
       "    .dataframe tbody tr th:only-of-type {\n",
       "        vertical-align: middle;\n",
       "    }\n",
       "\n",
       "    .dataframe tbody tr th {\n",
       "        vertical-align: top;\n",
       "    }\n",
       "\n",
       "    .dataframe thead th {\n",
       "        text-align: right;\n",
       "    }\n",
       "</style>\n",
       "<table border=\"1\" class=\"dataframe\">\n",
       "  <thead>\n",
       "    <tr style=\"text-align: right;\">\n",
       "      <th></th>\n",
       "      <th>price</th>\n",
       "      <th>frequency</th>\n",
       "    </tr>\n",
       "  </thead>\n",
       "  <tbody>\n",
       "    <tr>\n",
       "      <th>0</th>\n",
       "      <td>Categoría1</td>\n",
       "      <td>26289</td>\n",
       "    </tr>\n",
       "    <tr>\n",
       "      <th>1</th>\n",
       "      <td>Categoría2</td>\n",
       "      <td>201</td>\n",
       "    </tr>\n",
       "    <tr>\n",
       "      <th>2</th>\n",
       "      <td>Categoría3</td>\n",
       "      <td>46</td>\n",
       "    </tr>\n",
       "    <tr>\n",
       "      <th>3</th>\n",
       "      <td>Categoría4</td>\n",
       "      <td>25</td>\n",
       "    </tr>\n",
       "    <tr>\n",
       "      <th>4</th>\n",
       "      <td>Categoría5</td>\n",
       "      <td>5</td>\n",
       "    </tr>\n",
       "    <tr>\n",
       "      <th>5</th>\n",
       "      <td>Categoría7</td>\n",
       "      <td>5</td>\n",
       "    </tr>\n",
       "    <tr>\n",
       "      <th>6</th>\n",
       "      <td>Categoría6</td>\n",
       "      <td>2</td>\n",
       "    </tr>\n",
       "  </tbody>\n",
       "</table>\n",
       "</div>"
      ],
      "text/plain": [
       "        price  frequency\n",
       "0  Categoría1      26289\n",
       "1  Categoría2        201\n",
       "2  Categoría3         46\n",
       "3  Categoría4         25\n",
       "4  Categoría5          5\n",
       "5  Categoría7          5\n",
       "6  Categoría6          2"
      ]
     },
     "execution_count": 96,
     "metadata": {},
     "output_type": "execute_result"
    }
   ],
   "source": [
    "filtro7 = table14[table14['frequency'] > 1]\n",
    "filtro7"
   ]
  },
  {
   "cell_type": "code",
   "execution_count": 97,
   "metadata": {},
   "outputs": [
    {
     "data": {
      "text/html": [
       "<div>\n",
       "<style scoped>\n",
       "    .dataframe tbody tr th:only-of-type {\n",
       "        vertical-align: middle;\n",
       "    }\n",
       "\n",
       "    .dataframe tbody tr th {\n",
       "        vertical-align: top;\n",
       "    }\n",
       "\n",
       "    .dataframe thead th {\n",
       "        text-align: right;\n",
       "    }\n",
       "</style>\n",
       "<table border=\"1\" class=\"dataframe\">\n",
       "  <thead>\n",
       "    <tr style=\"text-align: right;\">\n",
       "      <th></th>\n",
       "      <th>frequency</th>\n",
       "    </tr>\n",
       "    <tr>\n",
       "      <th>price</th>\n",
       "      <th></th>\n",
       "    </tr>\n",
       "  </thead>\n",
       "  <tbody>\n",
       "    <tr>\n",
       "      <th>Categoría1</th>\n",
       "      <td>26289</td>\n",
       "    </tr>\n",
       "    <tr>\n",
       "      <th>Categoría2</th>\n",
       "      <td>201</td>\n",
       "    </tr>\n",
       "    <tr>\n",
       "      <th>Categoría3</th>\n",
       "      <td>46</td>\n",
       "    </tr>\n",
       "    <tr>\n",
       "      <th>Categoría4</th>\n",
       "      <td>25</td>\n",
       "    </tr>\n",
       "    <tr>\n",
       "      <th>Categoría5</th>\n",
       "      <td>5</td>\n",
       "    </tr>\n",
       "    <tr>\n",
       "      <th>Categoría7</th>\n",
       "      <td>5</td>\n",
       "    </tr>\n",
       "    <tr>\n",
       "      <th>Categoría6</th>\n",
       "      <td>2</td>\n",
       "    </tr>\n",
       "  </tbody>\n",
       "</table>\n",
       "</div>"
      ],
      "text/plain": [
       "            frequency\n",
       "price                \n",
       "Categoría1      26289\n",
       "Categoría2        201\n",
       "Categoría3         46\n",
       "Categoría4         25\n",
       "Categoría5          5\n",
       "Categoría7          5\n",
       "Categoría6          2"
      ]
     },
     "execution_count": 97,
     "metadata": {},
     "output_type": "execute_result"
    }
   ],
   "source": [
    "#Ajusto el indice de mi DataFrame\n",
    "Filtro_index = filtro7.set_index(\"price\")\n",
    "Filtro_index"
   ]
  },
  {
   "cell_type": "code",
   "execution_count": 98,
   "metadata": {},
   "outputs": [
    {
     "data": {
      "text/plain": [
       "<Axes: xlabel='price'>"
      ]
     },
     "execution_count": 98,
     "metadata": {},
     "output_type": "execute_result"
    },
    {
     "data": {
      "image/png": "[encoded data removed]",
      "text/plain": [
       "<Figure size 1000x400 with 1 Axes>"
      ]
     },
     "metadata": {},
     "output_type": "display_data"
    }
   ],
   "source": [
    "#Realizamos grafico de área del dataframe filtrado\n",
    "Filtro_index.plot(kind='area', figsize=(10,4), alpha = 0.5)"
   ]
  },
  {
   "cell_type": "code",
   "execution_count": 99,
   "metadata": {},
   "outputs": [
    {
     "name": "stdout",
     "output_type": "stream",
     "text": [
      "<class 'pandas.core.series.Series'>\n",
      "RangeIndex: 26582 entries, 0 to 26581\n",
      "Series name: maximum_nights_avg_ntm\n",
      "Non-Null Count  Dtype  \n",
      "--------------  -----  \n",
      "26582 non-null  float64\n",
      "dtypes: float64(1)\n",
      "memory usage: 207.8 KB\n"
     ]
    }
   ],
   "source": [
    "Micro_Retailer_1['maximum_nights_avg_ntm'].info()\n",
    "n = 8021"
   ]
  },
  {
   "cell_type": "code",
   "execution_count": 100,
   "metadata": {},
   "outputs": [
    {
     "data": {
      "text/plain": [
       "[1.0, 1825.0]"
      ]
     },
     "execution_count": 100,
     "metadata": {},
     "output_type": "execute_result"
    }
   ],
   "source": [
    "Min = Micro_Retailer_1[\"maximum_nights_avg_ntm\"].min()  \n",
    "Max = Micro_Retailer_1[\"maximum_nights_avg_ntm\"].max()  \n",
    "Limites = [Min,Max]\n",
    "Limites"
   ]
  },
  {
   "cell_type": "code",
   "execution_count": 101,
   "metadata": {},
   "outputs": [
    {
     "data": {
      "text/plain": [
       "1824.0"
      ]
     },
     "execution_count": 101,
     "metadata": {},
     "output_type": "execute_result"
    }
   ],
   "source": [
    "#Calcula el rango\n",
    "R = Max - Min\n",
    "R"
   ]
  },
  {
   "cell_type": "code",
   "execution_count": 102,
   "metadata": {},
   "outputs": [
    {
     "data": {
      "text/plain": [
       "13.96203867424906"
      ]
     },
     "execution_count": 102,
     "metadata": {},
     "output_type": "execute_result"
    }
   ],
   "source": [
    "#Calcular el número de Intervalos de Clase (ni). Se aplica la regla de Sturges (Donde “n” el tamaño de la muestra.):\n",
    "ni = 1+3.32*np.log10(n)\n",
    "ni"
   ]
  },
  {
   "cell_type": "code",
   "execution_count": 103,
   "metadata": {},
   "outputs": [
    {
     "data": {
      "text/plain": [
       "130.63994754319808"
      ]
     },
     "execution_count": 103,
     "metadata": {},
     "output_type": "execute_result"
    }
   ],
   "source": [
    "#Calcular el Ancho del Intervalo ( i )\n",
    "i = R/ni\n",
    "i"
   ]
  },
  {
   "cell_type": "code",
   "execution_count": 104,
   "metadata": {},
   "outputs": [
    {
     "data": {
      "text/plain": [
       "array([1.00000000e+00, 1.73181667e+03, 3.46263333e+03, 5.19345000e+03,\n",
       "       6.92426667e+03, 8.65508333e+03, 1.03859000e+04, 1.21167167e+04,\n",
       "       1.38475333e+04, 1.55783500e+04, 1.73091667e+04, 1.90399833e+04,\n",
       "       2.07708000e+04])"
      ]
     },
     "execution_count": 104,
     "metadata": {},
     "output_type": "execute_result"
    }
   ],
   "source": [
    "# Ver resultado\n",
    "intervalos = np.linspace(1.0, 20770.8, 13) #Número de clases más uno\n",
    "intervalos"
   ]
  },
  {
   "cell_type": "code",
   "execution_count": 105,
   "metadata": {},
   "outputs": [],
   "source": [
    "categorias = [\"Categoría1\", \"Categoría2\", \"Categoría3\", \"Categoría4\",\n",
    "              \"Categoría5\", \"Categoría6\", \"Categoría7\", \"Categoría8\",\n",
    "              \"Categoría9\",\"Categoría10\",\"Categoría11\",\"Categoría12\"]"
   ]
  },
  {
   "cell_type": "code",
   "execution_count": 106,
   "metadata": {},
   "outputs": [
    {
     "data": {
      "text/plain": [
       "0        Categoría1\n",
       "1        Categoría1\n",
       "2        Categoría1\n",
       "3        Categoría1\n",
       "4        Categoría1\n",
       "            ...    \n",
       "26577    Categoría1\n",
       "26578    Categoría1\n",
       "26579    Categoría1\n",
       "26580    Categoría1\n",
       "26581    Categoría1\n",
       "Name: maximum_nights_avg_ntm, Length: 26582, dtype: category\n",
       "Categories (12, object): ['Categoría1' < 'Categoría2' < 'Categoría3' < 'Categoría4' ... 'Categoría9' < 'Categoría10' < 'Categoría11' < 'Categoría12']"
      ]
     },
     "execution_count": 106,
     "metadata": {},
     "output_type": "execute_result"
    }
   ],
   "source": [
    "Micro_Retailer_1[\"maximum_nights_avg_ntm\"] = pd.cut(x = Micro_Retailer_1[\"maximum_nights_avg_ntm\"], bins = intervalos, labels = categorias)\n",
    "Micro_Retailer_1[\"maximum_nights_avg_ntm\"]"
   ]
  },
  {
   "cell_type": "code",
   "execution_count": 107,
   "metadata": {},
   "outputs": [
    {
     "data": {
      "text/html": [
       "<div>\n",
       "<style scoped>\n",
       "    .dataframe tbody tr th:only-of-type {\n",
       "        vertical-align: middle;\n",
       "    }\n",
       "\n",
       "    .dataframe tbody tr th {\n",
       "        vertical-align: top;\n",
       "    }\n",
       "\n",
       "    .dataframe thead th {\n",
       "        text-align: right;\n",
       "    }\n",
       "</style>\n",
       "<table border=\"1\" class=\"dataframe\">\n",
       "  <thead>\n",
       "    <tr style=\"text-align: right;\">\n",
       "      <th></th>\n",
       "      <th>maximum_nights_avg_ntm</th>\n",
       "      <th>frequency</th>\n",
       "      <th>percentage</th>\n",
       "      <th>cumulative_perc</th>\n",
       "    </tr>\n",
       "  </thead>\n",
       "  <tbody>\n",
       "    <tr>\n",
       "      <th>0</th>\n",
       "      <td>Categoría1</td>\n",
       "      <td>26568</td>\n",
       "      <td>0.999473</td>\n",
       "      <td>0.999962</td>\n",
       "    </tr>\n",
       "    <tr>\n",
       "      <th>1</th>\n",
       "      <td>Categoría2</td>\n",
       "      <td>1</td>\n",
       "      <td>0.000038</td>\n",
       "      <td>1.000000</td>\n",
       "    </tr>\n",
       "    <tr>\n",
       "      <th>2</th>\n",
       "      <td>Categoría3</td>\n",
       "      <td>0</td>\n",
       "      <td>0.000000</td>\n",
       "      <td>1.000000</td>\n",
       "    </tr>\n",
       "    <tr>\n",
       "      <th>3</th>\n",
       "      <td>Categoría4</td>\n",
       "      <td>0</td>\n",
       "      <td>0.000000</td>\n",
       "      <td>1.000000</td>\n",
       "    </tr>\n",
       "    <tr>\n",
       "      <th>4</th>\n",
       "      <td>Categoría5</td>\n",
       "      <td>0</td>\n",
       "      <td>0.000000</td>\n",
       "      <td>1.000000</td>\n",
       "    </tr>\n",
       "    <tr>\n",
       "      <th>5</th>\n",
       "      <td>Categoría6</td>\n",
       "      <td>0</td>\n",
       "      <td>0.000000</td>\n",
       "      <td>1.000000</td>\n",
       "    </tr>\n",
       "    <tr>\n",
       "      <th>6</th>\n",
       "      <td>Categoría7</td>\n",
       "      <td>0</td>\n",
       "      <td>0.000000</td>\n",
       "      <td>1.000000</td>\n",
       "    </tr>\n",
       "    <tr>\n",
       "      <th>7</th>\n",
       "      <td>Categoría8</td>\n",
       "      <td>0</td>\n",
       "      <td>0.000000</td>\n",
       "      <td>1.000000</td>\n",
       "    </tr>\n",
       "    <tr>\n",
       "      <th>8</th>\n",
       "      <td>Categoría9</td>\n",
       "      <td>0</td>\n",
       "      <td>0.000000</td>\n",
       "      <td>1.000000</td>\n",
       "    </tr>\n",
       "    <tr>\n",
       "      <th>9</th>\n",
       "      <td>Categoría10</td>\n",
       "      <td>0</td>\n",
       "      <td>0.000000</td>\n",
       "      <td>1.000000</td>\n",
       "    </tr>\n",
       "    <tr>\n",
       "      <th>10</th>\n",
       "      <td>Categoría11</td>\n",
       "      <td>0</td>\n",
       "      <td>0.000000</td>\n",
       "      <td>1.000000</td>\n",
       "    </tr>\n",
       "    <tr>\n",
       "      <th>11</th>\n",
       "      <td>Categoría12</td>\n",
       "      <td>0</td>\n",
       "      <td>0.000000</td>\n",
       "      <td>1.000000</td>\n",
       "    </tr>\n",
       "  </tbody>\n",
       "</table>\n",
       "</div>"
      ],
      "text/plain": [
       "   maximum_nights_avg_ntm  frequency  percentage  cumulative_perc\n",
       "0              Categoría1      26568    0.999473         0.999962\n",
       "1              Categoría2          1    0.000038         1.000000\n",
       "2              Categoría3          0    0.000000         1.000000\n",
       "3              Categoría4          0    0.000000         1.000000\n",
       "4              Categoría5          0    0.000000         1.000000\n",
       "5              Categoría6          0    0.000000         1.000000\n",
       "6              Categoría7          0    0.000000         1.000000\n",
       "7              Categoría8          0    0.000000         1.000000\n",
       "8              Categoría9          0    0.000000         1.000000\n",
       "9             Categoría10          0    0.000000         1.000000\n",
       "10            Categoría11          0    0.000000         1.000000\n",
       "11            Categoría12          0    0.000000         1.000000"
      ]
     },
     "execution_count": 107,
     "metadata": {},
     "output_type": "execute_result"
    }
   ],
   "source": [
    "#Obtengo un análisis univariado de una variable categórica en específico  \n",
    "table15 = freq_tbl(Micro_Retailer_1[\"maximum_nights_avg_ntm\"])\n",
    "table15"
   ]
  },
  {
   "cell_type": "code",
   "execution_count": 108,
   "metadata": {},
   "outputs": [
    {
     "data": {
      "text/html": [
       "<div>\n",
       "<style scoped>\n",
       "    .dataframe tbody tr th:only-of-type {\n",
       "        vertical-align: middle;\n",
       "    }\n",
       "\n",
       "    .dataframe tbody tr th {\n",
       "        vertical-align: top;\n",
       "    }\n",
       "\n",
       "    .dataframe thead th {\n",
       "        text-align: right;\n",
       "    }\n",
       "</style>\n",
       "<table border=\"1\" class=\"dataframe\">\n",
       "  <thead>\n",
       "    <tr style=\"text-align: right;\">\n",
       "      <th></th>\n",
       "      <th>maximum_nights_avg_ntm</th>\n",
       "      <th>frequency</th>\n",
       "    </tr>\n",
       "  </thead>\n",
       "  <tbody>\n",
       "    <tr>\n",
       "      <th>0</th>\n",
       "      <td>Categoría1</td>\n",
       "      <td>26568</td>\n",
       "    </tr>\n",
       "    <tr>\n",
       "      <th>1</th>\n",
       "      <td>Categoría2</td>\n",
       "      <td>1</td>\n",
       "    </tr>\n",
       "    <tr>\n",
       "      <th>2</th>\n",
       "      <td>Categoría3</td>\n",
       "      <td>0</td>\n",
       "    </tr>\n",
       "    <tr>\n",
       "      <th>3</th>\n",
       "      <td>Categoría4</td>\n",
       "      <td>0</td>\n",
       "    </tr>\n",
       "    <tr>\n",
       "      <th>4</th>\n",
       "      <td>Categoría5</td>\n",
       "      <td>0</td>\n",
       "    </tr>\n",
       "    <tr>\n",
       "      <th>5</th>\n",
       "      <td>Categoría6</td>\n",
       "      <td>0</td>\n",
       "    </tr>\n",
       "    <tr>\n",
       "      <th>6</th>\n",
       "      <td>Categoría7</td>\n",
       "      <td>0</td>\n",
       "    </tr>\n",
       "    <tr>\n",
       "      <th>7</th>\n",
       "      <td>Categoría8</td>\n",
       "      <td>0</td>\n",
       "    </tr>\n",
       "    <tr>\n",
       "      <th>8</th>\n",
       "      <td>Categoría9</td>\n",
       "      <td>0</td>\n",
       "    </tr>\n",
       "    <tr>\n",
       "      <th>9</th>\n",
       "      <td>Categoría10</td>\n",
       "      <td>0</td>\n",
       "    </tr>\n",
       "    <tr>\n",
       "      <th>10</th>\n",
       "      <td>Categoría11</td>\n",
       "      <td>0</td>\n",
       "    </tr>\n",
       "    <tr>\n",
       "      <th>11</th>\n",
       "      <td>Categoría12</td>\n",
       "      <td>0</td>\n",
       "    </tr>\n",
       "  </tbody>\n",
       "</table>\n",
       "</div>"
      ],
      "text/plain": [
       "   maximum_nights_avg_ntm  frequency\n",
       "0              Categoría1      26568\n",
       "1              Categoría2          1\n",
       "2              Categoría3          0\n",
       "3              Categoría4          0\n",
       "4              Categoría5          0\n",
       "5              Categoría6          0\n",
       "6              Categoría7          0\n",
       "7              Categoría8          0\n",
       "8              Categoría9          0\n",
       "9             Categoría10          0\n",
       "10            Categoría11          0\n",
       "11            Categoría12          0"
      ]
     },
     "execution_count": 108,
     "metadata": {},
     "output_type": "execute_result"
    }
   ],
   "source": [
    "#Elimino las columnas \"procentage\" y \"cumulative_perc\" para trabajar con las fecuencias\n",
    "table16 = table15.drop(['percentage', 'cumulative_perc'], axis=1)\n",
    "table16"
   ]
  },
  {
   "cell_type": "code",
   "execution_count": 109,
   "metadata": {},
   "outputs": [
    {
     "data": {
      "text/html": [
       "<div>\n",
       "<style scoped>\n",
       "    .dataframe tbody tr th:only-of-type {\n",
       "        vertical-align: middle;\n",
       "    }\n",
       "\n",
       "    .dataframe tbody tr th {\n",
       "        vertical-align: top;\n",
       "    }\n",
       "\n",
       "    .dataframe thead th {\n",
       "        text-align: right;\n",
       "    }\n",
       "</style>\n",
       "<table border=\"1\" class=\"dataframe\">\n",
       "  <thead>\n",
       "    <tr style=\"text-align: right;\">\n",
       "      <th></th>\n",
       "      <th>maximum_nights_avg_ntm</th>\n",
       "      <th>frequency</th>\n",
       "    </tr>\n",
       "  </thead>\n",
       "  <tbody>\n",
       "    <tr>\n",
       "      <th>0</th>\n",
       "      <td>Categoría1</td>\n",
       "      <td>26568</td>\n",
       "    </tr>\n",
       "    <tr>\n",
       "      <th>1</th>\n",
       "      <td>Categoría2</td>\n",
       "      <td>1</td>\n",
       "    </tr>\n",
       "  </tbody>\n",
       "</table>\n",
       "</div>"
      ],
      "text/plain": [
       "  maximum_nights_avg_ntm  frequency\n",
       "0             Categoría1      26568\n",
       "1             Categoría2          1"
      ]
     },
     "execution_count": 109,
     "metadata": {},
     "output_type": "execute_result"
    }
   ],
   "source": [
    "filtro8 = table16[table16['frequency'] > 0]\n",
    "filtro8"
   ]
  },
  {
   "cell_type": "code",
   "execution_count": 110,
   "metadata": {},
   "outputs": [
    {
     "data": {
      "text/html": [
       "<div>\n",
       "<style scoped>\n",
       "    .dataframe tbody tr th:only-of-type {\n",
       "        vertical-align: middle;\n",
       "    }\n",
       "\n",
       "    .dataframe tbody tr th {\n",
       "        vertical-align: top;\n",
       "    }\n",
       "\n",
       "    .dataframe thead th {\n",
       "        text-align: right;\n",
       "    }\n",
       "</style>\n",
       "<table border=\"1\" class=\"dataframe\">\n",
       "  <thead>\n",
       "    <tr style=\"text-align: right;\">\n",
       "      <th></th>\n",
       "      <th>frequency</th>\n",
       "    </tr>\n",
       "    <tr>\n",
       "      <th>maximum_nights_avg_ntm</th>\n",
       "      <th></th>\n",
       "    </tr>\n",
       "  </thead>\n",
       "  <tbody>\n",
       "    <tr>\n",
       "      <th>Categoría1</th>\n",
       "      <td>26568</td>\n",
       "    </tr>\n",
       "    <tr>\n",
       "      <th>Categoría2</th>\n",
       "      <td>1</td>\n",
       "    </tr>\n",
       "  </tbody>\n",
       "</table>\n",
       "</div>"
      ],
      "text/plain": [
       "                        frequency\n",
       "maximum_nights_avg_ntm           \n",
       "Categoría1                  26568\n",
       "Categoría2                      1"
      ]
     },
     "execution_count": 110,
     "metadata": {},
     "output_type": "execute_result"
    }
   ],
   "source": [
    "#Ajusto el indice de mi DataFrame\n",
    "Filtro_index = filtro8.set_index(\"maximum_nights_avg_ntm\")\n",
    "Filtro_index"
   ]
  },
  {
   "cell_type": "code",
   "execution_count": 111,
   "metadata": {},
   "outputs": [
    {
     "data": {
      "text/plain": [
       "Text(0, 0.5, 'Frecuencia')"
      ]
     },
     "execution_count": 111,
     "metadata": {},
     "output_type": "execute_result"
    },
    {
     "data": {
      "image/png": "[encoded data removed]",
      "text/plain": [
       "<Figure size 1000x400 with 1 Axes>"
      ]
     },
     "metadata": {},
     "output_type": "display_data"
    }
   ],
   "source": [
    "#Realizamos grafico de barras del Dataframe filtrado\n",
    "Filtro_index.plot(kind = 'bar', width=0.8, figsize=(10,4), color = \"red\")\n",
    "plt.title('maximum_nights_avg_ntm')\n",
    "plt.xlabel('Maxima noche')\n",
    "plt.ylabel('Frecuencia')"
   ]
  },
  {
   "cell_type": "code",
   "execution_count": 112,
   "metadata": {},
   "outputs": [
    {
     "name": "stdout",
     "output_type": "stream",
     "text": [
      "<class 'pandas.core.series.Series'>\n",
      "RangeIndex: 26582 entries, 0 to 26581\n",
      "Series name: availability_365\n",
      "Non-Null Count  Dtype\n",
      "--------------  -----\n",
      "26582 non-null  int64\n",
      "dtypes: int64(1)\n",
      "memory usage: 207.8 KB\n"
     ]
    }
   ],
   "source": [
    "Micro_Retailer_1['availability_365'].info()\n",
    "n = 8021"
   ]
  },
  {
   "cell_type": "code",
   "execution_count": 113,
   "metadata": {},
   "outputs": [
    {
     "data": {
      "text/plain": [
       "[0, 365]"
      ]
     },
     "execution_count": 113,
     "metadata": {},
     "output_type": "execute_result"
    }
   ],
   "source": [
    "Min = Micro_Retailer_1['availability_365'].min()  \n",
    "Max = Micro_Retailer_1['availability_365'].max()  \n",
    "Limites = [Min,Max]\n",
    "Limites"
   ]
  },
  {
   "cell_type": "code",
   "execution_count": 114,
   "metadata": {},
   "outputs": [
    {
     "data": {
      "text/plain": [
       "365"
      ]
     },
     "execution_count": 114,
     "metadata": {},
     "output_type": "execute_result"
    }
   ],
   "source": [
    "R = Max - Min\n",
    "R"
   ]
  },
  {
   "cell_type": "code",
   "execution_count": 115,
   "metadata": {},
   "outputs": [
    {
     "data": {
      "text/plain": [
       "13.96203867424906"
      ]
     },
     "execution_count": 115,
     "metadata": {},
     "output_type": "execute_result"
    }
   ],
   "source": [
    "ni = 1+3.32*np.log10(n)\n",
    "ni"
   ]
  },
  {
   "cell_type": "code",
   "execution_count": 116,
   "metadata": {},
   "outputs": [
    {
     "data": {
      "text/plain": [
       "26.14231406429128"
      ]
     },
     "execution_count": 116,
     "metadata": {},
     "output_type": "execute_result"
    }
   ],
   "source": [
    "i = R/ni\n",
    "i"
   ]
  },
  {
   "cell_type": "code",
   "execution_count": 117,
   "metadata": {},
   "outputs": [
    {
     "data": {
      "text/plain": [
       "array([  0.        ,  28.07692308,  56.15384615,  84.23076923,\n",
       "       112.30769231, 140.38461538, 168.46153846, 196.53846154,\n",
       "       224.61538462, 252.69230769, 280.76923077, 308.84615385,\n",
       "       336.92307692, 365.        ])"
      ]
     },
     "execution_count": 117,
     "metadata": {},
     "output_type": "execute_result"
    }
   ],
   "source": [
    "# Ver resultado\n",
    "intervalos = np.linspace(0.0, 365, 14) #Número de clases más uno\n",
    "intervalos"
   ]
  },
  {
   "cell_type": "code",
   "execution_count": 118,
   "metadata": {},
   "outputs": [],
   "source": [
    "categorias = [\"Categoría1\", \"Categoría2\", \"Categoría3\", \"Categoría4\",\n",
    "              \"Categoría5\", \"Categoría6\", \"Categoría7\", \"Categoría8\",\n",
    "              \"Categoría9\",\"Categoría10\",\"Categoría11\",\"Categoría12\",\n",
    "              \"Categoria13\"]"
   ]
  },
  {
   "cell_type": "code",
   "execution_count": 119,
   "metadata": {},
   "outputs": [
    {
     "data": {
      "text/plain": [
       "0        Categoria13\n",
       "1        Categoría12\n",
       "2        Categoría12\n",
       "3        Categoría10\n",
       "4        Categoría10\n",
       "            ...     \n",
       "26577    Categoria13\n",
       "26578     Categoría7\n",
       "26579     Categoría7\n",
       "26580     Categoría7\n",
       "26581     Categoría6\n",
       "Name: availability_365, Length: 26582, dtype: category\n",
       "Categories (13, object): ['Categoría1' < 'Categoría2' < 'Categoría3' < 'Categoría4' ... 'Categoría10' < 'Categoría11' < 'Categoría12' < 'Categoria13']"
      ]
     },
     "execution_count": 119,
     "metadata": {},
     "output_type": "execute_result"
    }
   ],
   "source": [
    "Micro_Retailer_1[\"availability_365\"] = pd.cut(x = Micro_Retailer_1[\"availability_365\"], bins = intervalos, labels = categorias)\n",
    "Micro_Retailer_1[\"availability_365\"]"
   ]
  },
  {
   "cell_type": "code",
   "execution_count": 120,
   "metadata": {},
   "outputs": [
    {
     "data": {
      "text/html": [
       "<div>\n",
       "<style scoped>\n",
       "    .dataframe tbody tr th:only-of-type {\n",
       "        vertical-align: middle;\n",
       "    }\n",
       "\n",
       "    .dataframe tbody tr th {\n",
       "        vertical-align: top;\n",
       "    }\n",
       "\n",
       "    .dataframe thead th {\n",
       "        text-align: right;\n",
       "    }\n",
       "</style>\n",
       "<table border=\"1\" class=\"dataframe\">\n",
       "  <thead>\n",
       "    <tr style=\"text-align: right;\">\n",
       "      <th></th>\n",
       "      <th>availability_365</th>\n",
       "      <th>frequency</th>\n",
       "      <th>percentage</th>\n",
       "      <th>cumulative_perc</th>\n",
       "    </tr>\n",
       "  </thead>\n",
       "  <tbody>\n",
       "    <tr>\n",
       "      <th>0</th>\n",
       "      <td>Categoria13</td>\n",
       "      <td>7137</td>\n",
       "      <td>0.268490</td>\n",
       "      <td>0.294649</td>\n",
       "    </tr>\n",
       "    <tr>\n",
       "      <th>1</th>\n",
       "      <td>Categoría12</td>\n",
       "      <td>2836</td>\n",
       "      <td>0.106689</td>\n",
       "      <td>0.411733</td>\n",
       "    </tr>\n",
       "    <tr>\n",
       "      <th>2</th>\n",
       "      <td>Categoría10</td>\n",
       "      <td>2669</td>\n",
       "      <td>0.100406</td>\n",
       "      <td>0.521922</td>\n",
       "    </tr>\n",
       "    <tr>\n",
       "      <th>3</th>\n",
       "      <td>Categoría3</td>\n",
       "      <td>1597</td>\n",
       "      <td>0.060078</td>\n",
       "      <td>0.587854</td>\n",
       "    </tr>\n",
       "    <tr>\n",
       "      <th>4</th>\n",
       "      <td>Categoría9</td>\n",
       "      <td>1420</td>\n",
       "      <td>0.053420</td>\n",
       "      <td>0.646478</td>\n",
       "    </tr>\n",
       "    <tr>\n",
       "      <th>5</th>\n",
       "      <td>Categoría6</td>\n",
       "      <td>1318</td>\n",
       "      <td>0.049582</td>\n",
       "      <td>0.700892</td>\n",
       "    </tr>\n",
       "    <tr>\n",
       "      <th>6</th>\n",
       "      <td>Categoría11</td>\n",
       "      <td>1276</td>\n",
       "      <td>0.048002</td>\n",
       "      <td>0.753571</td>\n",
       "    </tr>\n",
       "    <tr>\n",
       "      <th>7</th>\n",
       "      <td>Categoría4</td>\n",
       "      <td>1250</td>\n",
       "      <td>0.047024</td>\n",
       "      <td>0.805177</td>\n",
       "    </tr>\n",
       "    <tr>\n",
       "      <th>8</th>\n",
       "      <td>Categoría7</td>\n",
       "      <td>1233</td>\n",
       "      <td>0.046385</td>\n",
       "      <td>0.856081</td>\n",
       "    </tr>\n",
       "    <tr>\n",
       "      <th>9</th>\n",
       "      <td>Categoría2</td>\n",
       "      <td>996</td>\n",
       "      <td>0.037469</td>\n",
       "      <td>0.897201</td>\n",
       "    </tr>\n",
       "    <tr>\n",
       "      <th>10</th>\n",
       "      <td>Categoría5</td>\n",
       "      <td>903</td>\n",
       "      <td>0.033970</td>\n",
       "      <td>0.934481</td>\n",
       "    </tr>\n",
       "    <tr>\n",
       "      <th>11</th>\n",
       "      <td>Categoría1</td>\n",
       "      <td>874</td>\n",
       "      <td>0.032879</td>\n",
       "      <td>0.970564</td>\n",
       "    </tr>\n",
       "    <tr>\n",
       "      <th>12</th>\n",
       "      <td>Categoría8</td>\n",
       "      <td>713</td>\n",
       "      <td>0.026823</td>\n",
       "      <td>1.000000</td>\n",
       "    </tr>\n",
       "  </tbody>\n",
       "</table>\n",
       "</div>"
      ],
      "text/plain": [
       "   availability_365  frequency  percentage  cumulative_perc\n",
       "0       Categoria13       7137    0.268490         0.294649\n",
       "1       Categoría12       2836    0.106689         0.411733\n",
       "2       Categoría10       2669    0.100406         0.521922\n",
       "3        Categoría3       1597    0.060078         0.587854\n",
       "4        Categoría9       1420    0.053420         0.646478\n",
       "5        Categoría6       1318    0.049582         0.700892\n",
       "6       Categoría11       1276    0.048002         0.753571\n",
       "7        Categoría4       1250    0.047024         0.805177\n",
       "8        Categoría7       1233    0.046385         0.856081\n",
       "9        Categoría2        996    0.037469         0.897201\n",
       "10       Categoría5        903    0.033970         0.934481\n",
       "11       Categoría1        874    0.032879         0.970564\n",
       "12       Categoría8        713    0.026823         1.000000"
      ]
     },
     "execution_count": 120,
     "metadata": {},
     "output_type": "execute_result"
    }
   ],
   "source": [
    "#Obtengo un análisis univariado de una variable categórica en específico  \n",
    "table17 = freq_tbl(Micro_Retailer_1['availability_365'])\n",
    "table17"
   ]
  },
  {
   "cell_type": "code",
   "execution_count": 121,
   "metadata": {},
   "outputs": [
    {
     "data": {
      "text/html": [
       "<div>\n",
       "<style scoped>\n",
       "    .dataframe tbody tr th:only-of-type {\n",
       "        vertical-align: middle;\n",
       "    }\n",
       "\n",
       "    .dataframe tbody tr th {\n",
       "        vertical-align: top;\n",
       "    }\n",
       "\n",
       "    .dataframe thead th {\n",
       "        text-align: right;\n",
       "    }\n",
       "</style>\n",
       "<table border=\"1\" class=\"dataframe\">\n",
       "  <thead>\n",
       "    <tr style=\"text-align: right;\">\n",
       "      <th></th>\n",
       "      <th>availability_365</th>\n",
       "      <th>frequency</th>\n",
       "    </tr>\n",
       "  </thead>\n",
       "  <tbody>\n",
       "    <tr>\n",
       "      <th>0</th>\n",
       "      <td>Categoria13</td>\n",
       "      <td>7137</td>\n",
       "    </tr>\n",
       "    <tr>\n",
       "      <th>1</th>\n",
       "      <td>Categoría12</td>\n",
       "      <td>2836</td>\n",
       "    </tr>\n",
       "    <tr>\n",
       "      <th>2</th>\n",
       "      <td>Categoría10</td>\n",
       "      <td>2669</td>\n",
       "    </tr>\n",
       "    <tr>\n",
       "      <th>3</th>\n",
       "      <td>Categoría3</td>\n",
       "      <td>1597</td>\n",
       "    </tr>\n",
       "    <tr>\n",
       "      <th>4</th>\n",
       "      <td>Categoría9</td>\n",
       "      <td>1420</td>\n",
       "    </tr>\n",
       "    <tr>\n",
       "      <th>5</th>\n",
       "      <td>Categoría6</td>\n",
       "      <td>1318</td>\n",
       "    </tr>\n",
       "    <tr>\n",
       "      <th>6</th>\n",
       "      <td>Categoría11</td>\n",
       "      <td>1276</td>\n",
       "    </tr>\n",
       "    <tr>\n",
       "      <th>7</th>\n",
       "      <td>Categoría4</td>\n",
       "      <td>1250</td>\n",
       "    </tr>\n",
       "    <tr>\n",
       "      <th>8</th>\n",
       "      <td>Categoría7</td>\n",
       "      <td>1233</td>\n",
       "    </tr>\n",
       "    <tr>\n",
       "      <th>9</th>\n",
       "      <td>Categoría2</td>\n",
       "      <td>996</td>\n",
       "    </tr>\n",
       "    <tr>\n",
       "      <th>10</th>\n",
       "      <td>Categoría5</td>\n",
       "      <td>903</td>\n",
       "    </tr>\n",
       "    <tr>\n",
       "      <th>11</th>\n",
       "      <td>Categoría1</td>\n",
       "      <td>874</td>\n",
       "    </tr>\n",
       "    <tr>\n",
       "      <th>12</th>\n",
       "      <td>Categoría8</td>\n",
       "      <td>713</td>\n",
       "    </tr>\n",
       "  </tbody>\n",
       "</table>\n",
       "</div>"
      ],
      "text/plain": [
       "   availability_365  frequency\n",
       "0       Categoria13       7137\n",
       "1       Categoría12       2836\n",
       "2       Categoría10       2669\n",
       "3        Categoría3       1597\n",
       "4        Categoría9       1420\n",
       "5        Categoría6       1318\n",
       "6       Categoría11       1276\n",
       "7        Categoría4       1250\n",
       "8        Categoría7       1233\n",
       "9        Categoría2        996\n",
       "10       Categoría5        903\n",
       "11       Categoría1        874\n",
       "12       Categoría8        713"
      ]
     },
     "execution_count": 121,
     "metadata": {},
     "output_type": "execute_result"
    }
   ],
   "source": [
    "#Elimino las columnas \"procentage\" y \"cumulative_perc\" para trabajar con las fecuencias\n",
    "table18 = table17.drop(['percentage', 'cumulative_perc'], axis=1)\n",
    "table18"
   ]
  },
  {
   "cell_type": "code",
   "execution_count": 122,
   "metadata": {},
   "outputs": [
    {
     "data": {
      "text/html": [
       "<div>\n",
       "<style scoped>\n",
       "    .dataframe tbody tr th:only-of-type {\n",
       "        vertical-align: middle;\n",
       "    }\n",
       "\n",
       "    .dataframe tbody tr th {\n",
       "        vertical-align: top;\n",
       "    }\n",
       "\n",
       "    .dataframe thead th {\n",
       "        text-align: right;\n",
       "    }\n",
       "</style>\n",
       "<table border=\"1\" class=\"dataframe\">\n",
       "  <thead>\n",
       "    <tr style=\"text-align: right;\">\n",
       "      <th></th>\n",
       "      <th>availability_365</th>\n",
       "      <th>frequency</th>\n",
       "    </tr>\n",
       "  </thead>\n",
       "  <tbody>\n",
       "    <tr>\n",
       "      <th>0</th>\n",
       "      <td>Categoria13</td>\n",
       "      <td>7137</td>\n",
       "    </tr>\n",
       "    <tr>\n",
       "      <th>1</th>\n",
       "      <td>Categoría12</td>\n",
       "      <td>2836</td>\n",
       "    </tr>\n",
       "    <tr>\n",
       "      <th>2</th>\n",
       "      <td>Categoría10</td>\n",
       "      <td>2669</td>\n",
       "    </tr>\n",
       "    <tr>\n",
       "      <th>3</th>\n",
       "      <td>Categoría3</td>\n",
       "      <td>1597</td>\n",
       "    </tr>\n",
       "    <tr>\n",
       "      <th>4</th>\n",
       "      <td>Categoría9</td>\n",
       "      <td>1420</td>\n",
       "    </tr>\n",
       "    <tr>\n",
       "      <th>5</th>\n",
       "      <td>Categoría6</td>\n",
       "      <td>1318</td>\n",
       "    </tr>\n",
       "    <tr>\n",
       "      <th>6</th>\n",
       "      <td>Categoría11</td>\n",
       "      <td>1276</td>\n",
       "    </tr>\n",
       "    <tr>\n",
       "      <th>7</th>\n",
       "      <td>Categoría4</td>\n",
       "      <td>1250</td>\n",
       "    </tr>\n",
       "    <tr>\n",
       "      <th>8</th>\n",
       "      <td>Categoría7</td>\n",
       "      <td>1233</td>\n",
       "    </tr>\n",
       "    <tr>\n",
       "      <th>9</th>\n",
       "      <td>Categoría2</td>\n",
       "      <td>996</td>\n",
       "    </tr>\n",
       "    <tr>\n",
       "      <th>10</th>\n",
       "      <td>Categoría5</td>\n",
       "      <td>903</td>\n",
       "    </tr>\n",
       "    <tr>\n",
       "      <th>11</th>\n",
       "      <td>Categoría1</td>\n",
       "      <td>874</td>\n",
       "    </tr>\n",
       "    <tr>\n",
       "      <th>12</th>\n",
       "      <td>Categoría8</td>\n",
       "      <td>713</td>\n",
       "    </tr>\n",
       "  </tbody>\n",
       "</table>\n",
       "</div>"
      ],
      "text/plain": [
       "   availability_365  frequency\n",
       "0       Categoria13       7137\n",
       "1       Categoría12       2836\n",
       "2       Categoría10       2669\n",
       "3        Categoría3       1597\n",
       "4        Categoría9       1420\n",
       "5        Categoría6       1318\n",
       "6       Categoría11       1276\n",
       "7        Categoría4       1250\n",
       "8        Categoría7       1233\n",
       "9        Categoría2        996\n",
       "10       Categoría5        903\n",
       "11       Categoría1        874\n",
       "12       Categoría8        713"
      ]
     },
     "execution_count": 122,
     "metadata": {},
     "output_type": "execute_result"
    }
   ],
   "source": [
    "filtro9 = table18[table18['frequency'] > 0]\n",
    "filtro9"
   ]
  },
  {
   "cell_type": "code",
   "execution_count": 123,
   "metadata": {},
   "outputs": [
    {
     "data": {
      "text/html": [
       "<div>\n",
       "<style scoped>\n",
       "    .dataframe tbody tr th:only-of-type {\n",
       "        vertical-align: middle;\n",
       "    }\n",
       "\n",
       "    .dataframe tbody tr th {\n",
       "        vertical-align: top;\n",
       "    }\n",
       "\n",
       "    .dataframe thead th {\n",
       "        text-align: right;\n",
       "    }\n",
       "</style>\n",
       "<table border=\"1\" class=\"dataframe\">\n",
       "  <thead>\n",
       "    <tr style=\"text-align: right;\">\n",
       "      <th></th>\n",
       "      <th>frequency</th>\n",
       "    </tr>\n",
       "    <tr>\n",
       "      <th>availability_365</th>\n",
       "      <th></th>\n",
       "    </tr>\n",
       "  </thead>\n",
       "  <tbody>\n",
       "    <tr>\n",
       "      <th>Categoria13</th>\n",
       "      <td>7137</td>\n",
       "    </tr>\n",
       "    <tr>\n",
       "      <th>Categoría12</th>\n",
       "      <td>2836</td>\n",
       "    </tr>\n",
       "    <tr>\n",
       "      <th>Categoría10</th>\n",
       "      <td>2669</td>\n",
       "    </tr>\n",
       "    <tr>\n",
       "      <th>Categoría3</th>\n",
       "      <td>1597</td>\n",
       "    </tr>\n",
       "    <tr>\n",
       "      <th>Categoría9</th>\n",
       "      <td>1420</td>\n",
       "    </tr>\n",
       "    <tr>\n",
       "      <th>Categoría6</th>\n",
       "      <td>1318</td>\n",
       "    </tr>\n",
       "    <tr>\n",
       "      <th>Categoría11</th>\n",
       "      <td>1276</td>\n",
       "    </tr>\n",
       "    <tr>\n",
       "      <th>Categoría4</th>\n",
       "      <td>1250</td>\n",
       "    </tr>\n",
       "    <tr>\n",
       "      <th>Categoría7</th>\n",
       "      <td>1233</td>\n",
       "    </tr>\n",
       "    <tr>\n",
       "      <th>Categoría2</th>\n",
       "      <td>996</td>\n",
       "    </tr>\n",
       "    <tr>\n",
       "      <th>Categoría5</th>\n",
       "      <td>903</td>\n",
       "    </tr>\n",
       "    <tr>\n",
       "      <th>Categoría1</th>\n",
       "      <td>874</td>\n",
       "    </tr>\n",
       "    <tr>\n",
       "      <th>Categoría8</th>\n",
       "      <td>713</td>\n",
       "    </tr>\n",
       "  </tbody>\n",
       "</table>\n",
       "</div>"
      ],
      "text/plain": [
       "                  frequency\n",
       "availability_365           \n",
       "Categoria13            7137\n",
       "Categoría12            2836\n",
       "Categoría10            2669\n",
       "Categoría3             1597\n",
       "Categoría9             1420\n",
       "Categoría6             1318\n",
       "Categoría11            1276\n",
       "Categoría4             1250\n",
       "Categoría7             1233\n",
       "Categoría2              996\n",
       "Categoría5              903\n",
       "Categoría1              874\n",
       "Categoría8              713"
      ]
     },
     "execution_count": 123,
     "metadata": {},
     "output_type": "execute_result"
    }
   ],
   "source": [
    "#Ajusto el indice de mi DataFrame\n",
    "Filtro_index = filtro9.set_index(\"availability_365\")\n",
    "Filtro_index"
   ]
  },
  {
   "cell_type": "code",
   "execution_count": 124,
   "metadata": {},
   "outputs": [
    {
     "data": {
      "text/plain": [
       "Text(0, 0.5, 'Frecuencia')"
      ]
     },
     "execution_count": 124,
     "metadata": {},
     "output_type": "execute_result"
    },
    {
     "data": {
      "image/png": "[encoded data removed]",
      "text/plain": [
       "<Figure size 1000x400 with 1 Axes>"
      ]
     },
     "metadata": {},
     "output_type": "display_data"
    }
   ],
   "source": [
    "#Realizamos grafico de barras del Dataframe filtrado\n",
    "Filtro_index.plot(kind = 'bar', width=0.8, figsize=(10,4), color = \"red\")\n",
    "plt.title('Disponible 365')\n",
    "plt.xlabel('Categoria')\n",
    "plt.ylabel('Frecuencia')"
   ]
  },
  {
   "cell_type": "code",
   "execution_count": 125,
   "metadata": {},
   "outputs": [
    {
     "name": "stdout",
     "output_type": "stream",
     "text": [
      "<class 'pandas.core.series.Series'>\n",
      "RangeIndex: 26582 entries, 0 to 26581\n",
      "Series name: number_of_reviews\n",
      "Non-Null Count  Dtype  \n",
      "--------------  -----  \n",
      "26582 non-null  float64\n",
      "dtypes: float64(1)\n",
      "memory usage: 207.8 KB\n"
     ]
    }
   ],
   "source": [
    "Micro_Retailer_1['number_of_reviews'].info()\n",
    "n = 8021"
   ]
  },
  {
   "cell_type": "code",
   "execution_count": 126,
   "metadata": {},
   "outputs": [
    {
     "data": {
      "text/plain": [
       "[0.0, 135.0]"
      ]
     },
     "execution_count": 126,
     "metadata": {},
     "output_type": "execute_result"
    }
   ],
   "source": [
    "Min = Micro_Retailer_1['number_of_reviews'].min()  \n",
    "Max = Micro_Retailer_1['number_of_reviews'].max()  \n",
    "Limites = [Min,Max]\n",
    "Limites"
   ]
  },
  {
   "cell_type": "code",
   "execution_count": 127,
   "metadata": {},
   "outputs": [
    {
     "data": {
      "text/plain": [
       "135.0"
      ]
     },
     "execution_count": 127,
     "metadata": {},
     "output_type": "execute_result"
    }
   ],
   "source": [
    "R = Max - Min\n",
    "R"
   ]
  },
  {
   "cell_type": "code",
   "execution_count": 128,
   "metadata": {},
   "outputs": [
    {
     "data": {
      "text/plain": [
       "13.96203867424906"
      ]
     },
     "execution_count": 128,
     "metadata": {},
     "output_type": "execute_result"
    }
   ],
   "source": [
    "ni = 1+3.32*np.log10(n)\n",
    "ni"
   ]
  },
  {
   "cell_type": "code",
   "execution_count": 129,
   "metadata": {},
   "outputs": [
    {
     "data": {
      "text/plain": [
       "9.669075064874857"
      ]
     },
     "execution_count": 129,
     "metadata": {},
     "output_type": "execute_result"
    }
   ],
   "source": [
    "i = R/ni\n",
    "i\n"
   ]
  },
  {
   "cell_type": "code",
   "execution_count": 130,
   "metadata": {},
   "outputs": [
    {
     "data": {
      "text/plain": [
       "array([ 0.        ,  3.23076923,  6.46153846,  9.69230769, 12.92307692,\n",
       "       16.15384615, 19.38461538, 22.61538462, 25.84615385, 29.07692308,\n",
       "       32.30769231, 35.53846154, 38.76923077, 42.        ])"
      ]
     },
     "execution_count": 130,
     "metadata": {},
     "output_type": "execute_result"
    }
   ],
   "source": [
    "# Ver resultado\n",
    "intervalos = np.linspace(0.0, 42.0, 14) #Número de clases más uno\n",
    "intervalos"
   ]
  },
  {
   "cell_type": "code",
   "execution_count": 131,
   "metadata": {},
   "outputs": [],
   "source": [
    "categorias = [\"Categoría1\", \"Categoría2\", \"Categoría3\", \"Categoría4\",\n",
    "              \"Categoría5\", \"Categoría6\", \"Categoría7\", \"Categoría8\",\n",
    "              \"Categoría9\",\"Categoría10\",\"Categoría11\",\"Categoría12\",\n",
    "              \"Categoria13\"]"
   ]
  },
  {
   "cell_type": "code",
   "execution_count": 132,
   "metadata": {},
   "outputs": [
    {
     "data": {
      "text/plain": [
       "0               NaN\n",
       "1               NaN\n",
       "2               NaN\n",
       "3               NaN\n",
       "4        Categoría4\n",
       "            ...    \n",
       "26577           NaN\n",
       "26578           NaN\n",
       "26579           NaN\n",
       "26580           NaN\n",
       "26581           NaN\n",
       "Name: number_of_reviews, Length: 26582, dtype: category\n",
       "Categories (13, object): ['Categoría1' < 'Categoría2' < 'Categoría3' < 'Categoría4' ... 'Categoría10' < 'Categoría11' < 'Categoría12' < 'Categoria13']"
      ]
     },
     "execution_count": 132,
     "metadata": {},
     "output_type": "execute_result"
    }
   ],
   "source": [
    "Micro_Retailer_1[\"number_of_reviews\"] = pd.cut(x = Micro_Retailer_1[\"number_of_reviews\"], bins = intervalos, labels = categorias)\n",
    "Micro_Retailer_1[\"number_of_reviews\"]"
   ]
  },
  {
   "cell_type": "code",
   "execution_count": 133,
   "metadata": {},
   "outputs": [
    {
     "data": {
      "text/html": [
       "<div>\n",
       "<style scoped>\n",
       "    .dataframe tbody tr th:only-of-type {\n",
       "        vertical-align: middle;\n",
       "    }\n",
       "\n",
       "    .dataframe tbody tr th {\n",
       "        vertical-align: top;\n",
       "    }\n",
       "\n",
       "    .dataframe thead th {\n",
       "        text-align: right;\n",
       "    }\n",
       "</style>\n",
       "<table border=\"1\" class=\"dataframe\">\n",
       "  <thead>\n",
       "    <tr style=\"text-align: right;\">\n",
       "      <th></th>\n",
       "      <th>number_of_reviews</th>\n",
       "      <th>frequency</th>\n",
       "      <th>percentage</th>\n",
       "      <th>cumulative_perc</th>\n",
       "    </tr>\n",
       "  </thead>\n",
       "  <tbody>\n",
       "    <tr>\n",
       "      <th>0</th>\n",
       "      <td>Categoría1</td>\n",
       "      <td>3610</td>\n",
       "      <td>0.135806</td>\n",
       "      <td>0.211643</td>\n",
       "    </tr>\n",
       "    <tr>\n",
       "      <th>1</th>\n",
       "      <td>Categoría12</td>\n",
       "      <td>2793</td>\n",
       "      <td>0.105071</td>\n",
       "      <td>0.375388</td>\n",
       "    </tr>\n",
       "    <tr>\n",
       "      <th>2</th>\n",
       "      <td>Categoría2</td>\n",
       "      <td>2110</td>\n",
       "      <td>0.079377</td>\n",
       "      <td>0.499091</td>\n",
       "    </tr>\n",
       "    <tr>\n",
       "      <th>3</th>\n",
       "      <td>Categoría3</td>\n",
       "      <td>1522</td>\n",
       "      <td>0.057257</td>\n",
       "      <td>0.588322</td>\n",
       "    </tr>\n",
       "    <tr>\n",
       "      <th>4</th>\n",
       "      <td>Categoría5</td>\n",
       "      <td>1244</td>\n",
       "      <td>0.046799</td>\n",
       "      <td>0.661253</td>\n",
       "    </tr>\n",
       "    <tr>\n",
       "      <th>5</th>\n",
       "      <td>Categoría4</td>\n",
       "      <td>1194</td>\n",
       "      <td>0.044918</td>\n",
       "      <td>0.731254</td>\n",
       "    </tr>\n",
       "    <tr>\n",
       "      <th>6</th>\n",
       "      <td>Categoría6</td>\n",
       "      <td>830</td>\n",
       "      <td>0.031224</td>\n",
       "      <td>0.779914</td>\n",
       "    </tr>\n",
       "    <tr>\n",
       "      <th>7</th>\n",
       "      <td>Categoría9</td>\n",
       "      <td>795</td>\n",
       "      <td>0.029907</td>\n",
       "      <td>0.826523</td>\n",
       "    </tr>\n",
       "    <tr>\n",
       "      <th>8</th>\n",
       "      <td>Categoría7</td>\n",
       "      <td>689</td>\n",
       "      <td>0.025920</td>\n",
       "      <td>0.866917</td>\n",
       "    </tr>\n",
       "    <tr>\n",
       "      <th>9</th>\n",
       "      <td>Categoría8</td>\n",
       "      <td>668</td>\n",
       "      <td>0.025130</td>\n",
       "      <td>0.906080</td>\n",
       "    </tr>\n",
       "    <tr>\n",
       "      <th>10</th>\n",
       "      <td>Categoria13</td>\n",
       "      <td>559</td>\n",
       "      <td>0.021029</td>\n",
       "      <td>0.938852</td>\n",
       "    </tr>\n",
       "    <tr>\n",
       "      <th>11</th>\n",
       "      <td>Categoría10</td>\n",
       "      <td>540</td>\n",
       "      <td>0.020314</td>\n",
       "      <td>0.970511</td>\n",
       "    </tr>\n",
       "    <tr>\n",
       "      <th>12</th>\n",
       "      <td>Categoría11</td>\n",
       "      <td>503</td>\n",
       "      <td>0.018923</td>\n",
       "      <td>1.000000</td>\n",
       "    </tr>\n",
       "  </tbody>\n",
       "</table>\n",
       "</div>"
      ],
      "text/plain": [
       "   number_of_reviews  frequency  percentage  cumulative_perc\n",
       "0         Categoría1       3610    0.135806         0.211643\n",
       "1        Categoría12       2793    0.105071         0.375388\n",
       "2         Categoría2       2110    0.079377         0.499091\n",
       "3         Categoría3       1522    0.057257         0.588322\n",
       "4         Categoría5       1244    0.046799         0.661253\n",
       "5         Categoría4       1194    0.044918         0.731254\n",
       "6         Categoría6        830    0.031224         0.779914\n",
       "7         Categoría9        795    0.029907         0.826523\n",
       "8         Categoría7        689    0.025920         0.866917\n",
       "9         Categoría8        668    0.025130         0.906080\n",
       "10       Categoria13        559    0.021029         0.938852\n",
       "11       Categoría10        540    0.020314         0.970511\n",
       "12       Categoría11        503    0.018923         1.000000"
      ]
     },
     "execution_count": 133,
     "metadata": {},
     "output_type": "execute_result"
    }
   ],
   "source": [
    "#Obtengo un análisis univariado de una variable categórica en específico  \n",
    "table19 = freq_tbl(Micro_Retailer_1['number_of_reviews'])\n",
    "table19"
   ]
  },
  {
   "cell_type": "code",
   "execution_count": 134,
   "metadata": {},
   "outputs": [
    {
     "data": {
      "text/html": [
       "<div>\n",
       "<style scoped>\n",
       "    .dataframe tbody tr th:only-of-type {\n",
       "        vertical-align: middle;\n",
       "    }\n",
       "\n",
       "    .dataframe tbody tr th {\n",
       "        vertical-align: top;\n",
       "    }\n",
       "\n",
       "    .dataframe thead th {\n",
       "        text-align: right;\n",
       "    }\n",
       "</style>\n",
       "<table border=\"1\" class=\"dataframe\">\n",
       "  <thead>\n",
       "    <tr style=\"text-align: right;\">\n",
       "      <th></th>\n",
       "      <th>number_of_reviews</th>\n",
       "      <th>frequency</th>\n",
       "    </tr>\n",
       "  </thead>\n",
       "  <tbody>\n",
       "    <tr>\n",
       "      <th>0</th>\n",
       "      <td>Categoría1</td>\n",
       "      <td>3610</td>\n",
       "    </tr>\n",
       "    <tr>\n",
       "      <th>1</th>\n",
       "      <td>Categoría12</td>\n",
       "      <td>2793</td>\n",
       "    </tr>\n",
       "    <tr>\n",
       "      <th>2</th>\n",
       "      <td>Categoría2</td>\n",
       "      <td>2110</td>\n",
       "    </tr>\n",
       "    <tr>\n",
       "      <th>3</th>\n",
       "      <td>Categoría3</td>\n",
       "      <td>1522</td>\n",
       "    </tr>\n",
       "    <tr>\n",
       "      <th>4</th>\n",
       "      <td>Categoría5</td>\n",
       "      <td>1244</td>\n",
       "    </tr>\n",
       "    <tr>\n",
       "      <th>5</th>\n",
       "      <td>Categoría4</td>\n",
       "      <td>1194</td>\n",
       "    </tr>\n",
       "    <tr>\n",
       "      <th>6</th>\n",
       "      <td>Categoría6</td>\n",
       "      <td>830</td>\n",
       "    </tr>\n",
       "    <tr>\n",
       "      <th>7</th>\n",
       "      <td>Categoría9</td>\n",
       "      <td>795</td>\n",
       "    </tr>\n",
       "    <tr>\n",
       "      <th>8</th>\n",
       "      <td>Categoría7</td>\n",
       "      <td>689</td>\n",
       "    </tr>\n",
       "    <tr>\n",
       "      <th>9</th>\n",
       "      <td>Categoría8</td>\n",
       "      <td>668</td>\n",
       "    </tr>\n",
       "    <tr>\n",
       "      <th>10</th>\n",
       "      <td>Categoria13</td>\n",
       "      <td>559</td>\n",
       "    </tr>\n",
       "    <tr>\n",
       "      <th>11</th>\n",
       "      <td>Categoría10</td>\n",
       "      <td>540</td>\n",
       "    </tr>\n",
       "    <tr>\n",
       "      <th>12</th>\n",
       "      <td>Categoría11</td>\n",
       "      <td>503</td>\n",
       "    </tr>\n",
       "  </tbody>\n",
       "</table>\n",
       "</div>"
      ],
      "text/plain": [
       "   number_of_reviews  frequency\n",
       "0         Categoría1       3610\n",
       "1        Categoría12       2793\n",
       "2         Categoría2       2110\n",
       "3         Categoría3       1522\n",
       "4         Categoría5       1244\n",
       "5         Categoría4       1194\n",
       "6         Categoría6        830\n",
       "7         Categoría9        795\n",
       "8         Categoría7        689\n",
       "9         Categoría8        668\n",
       "10       Categoria13        559\n",
       "11       Categoría10        540\n",
       "12       Categoría11        503"
      ]
     },
     "execution_count": 134,
     "metadata": {},
     "output_type": "execute_result"
    }
   ],
   "source": [
    "#Elimino las columnas \"procentage\" y \"cumulative_perc\" para trabajar con las fecuencias\n",
    "table20 = table19.drop(['percentage', 'cumulative_perc'], axis=1)\n",
    "table20\n"
   ]
  },
  {
   "cell_type": "code",
   "execution_count": 135,
   "metadata": {},
   "outputs": [
    {
     "data": {
      "text/html": [
       "<div>\n",
       "<style scoped>\n",
       "    .dataframe tbody tr th:only-of-type {\n",
       "        vertical-align: middle;\n",
       "    }\n",
       "\n",
       "    .dataframe tbody tr th {\n",
       "        vertical-align: top;\n",
       "    }\n",
       "\n",
       "    .dataframe thead th {\n",
       "        text-align: right;\n",
       "    }\n",
       "</style>\n",
       "<table border=\"1\" class=\"dataframe\">\n",
       "  <thead>\n",
       "    <tr style=\"text-align: right;\">\n",
       "      <th></th>\n",
       "      <th>number_of_reviews</th>\n",
       "      <th>frequency</th>\n",
       "    </tr>\n",
       "  </thead>\n",
       "  <tbody>\n",
       "    <tr>\n",
       "      <th>0</th>\n",
       "      <td>Categoría1</td>\n",
       "      <td>3610</td>\n",
       "    </tr>\n",
       "    <tr>\n",
       "      <th>1</th>\n",
       "      <td>Categoría12</td>\n",
       "      <td>2793</td>\n",
       "    </tr>\n",
       "    <tr>\n",
       "      <th>2</th>\n",
       "      <td>Categoría2</td>\n",
       "      <td>2110</td>\n",
       "    </tr>\n",
       "    <tr>\n",
       "      <th>3</th>\n",
       "      <td>Categoría3</td>\n",
       "      <td>1522</td>\n",
       "    </tr>\n",
       "    <tr>\n",
       "      <th>4</th>\n",
       "      <td>Categoría5</td>\n",
       "      <td>1244</td>\n",
       "    </tr>\n",
       "    <tr>\n",
       "      <th>5</th>\n",
       "      <td>Categoría4</td>\n",
       "      <td>1194</td>\n",
       "    </tr>\n",
       "    <tr>\n",
       "      <th>6</th>\n",
       "      <td>Categoría6</td>\n",
       "      <td>830</td>\n",
       "    </tr>\n",
       "    <tr>\n",
       "      <th>7</th>\n",
       "      <td>Categoría9</td>\n",
       "      <td>795</td>\n",
       "    </tr>\n",
       "    <tr>\n",
       "      <th>8</th>\n",
       "      <td>Categoría7</td>\n",
       "      <td>689</td>\n",
       "    </tr>\n",
       "    <tr>\n",
       "      <th>9</th>\n",
       "      <td>Categoría8</td>\n",
       "      <td>668</td>\n",
       "    </tr>\n",
       "    <tr>\n",
       "      <th>10</th>\n",
       "      <td>Categoria13</td>\n",
       "      <td>559</td>\n",
       "    </tr>\n",
       "    <tr>\n",
       "      <th>11</th>\n",
       "      <td>Categoría10</td>\n",
       "      <td>540</td>\n",
       "    </tr>\n",
       "    <tr>\n",
       "      <th>12</th>\n",
       "      <td>Categoría11</td>\n",
       "      <td>503</td>\n",
       "    </tr>\n",
       "  </tbody>\n",
       "</table>\n",
       "</div>"
      ],
      "text/plain": [
       "   number_of_reviews  frequency\n",
       "0         Categoría1       3610\n",
       "1        Categoría12       2793\n",
       "2         Categoría2       2110\n",
       "3         Categoría3       1522\n",
       "4         Categoría5       1244\n",
       "5         Categoría4       1194\n",
       "6         Categoría6        830\n",
       "7         Categoría9        795\n",
       "8         Categoría7        689\n",
       "9         Categoría8        668\n",
       "10       Categoria13        559\n",
       "11       Categoría10        540\n",
       "12       Categoría11        503"
      ]
     },
     "execution_count": 135,
     "metadata": {},
     "output_type": "execute_result"
    }
   ],
   "source": [
    "filtro10 = table20[table20['frequency'] > 100]\n",
    "filtro10"
   ]
  },
  {
   "cell_type": "code",
   "execution_count": 136,
   "metadata": {},
   "outputs": [
    {
     "data": {
      "text/html": [
       "<div>\n",
       "<style scoped>\n",
       "    .dataframe tbody tr th:only-of-type {\n",
       "        vertical-align: middle;\n",
       "    }\n",
       "\n",
       "    .dataframe tbody tr th {\n",
       "        vertical-align: top;\n",
       "    }\n",
       "\n",
       "    .dataframe thead th {\n",
       "        text-align: right;\n",
       "    }\n",
       "</style>\n",
       "<table border=\"1\" class=\"dataframe\">\n",
       "  <thead>\n",
       "    <tr style=\"text-align: right;\">\n",
       "      <th></th>\n",
       "      <th>frequency</th>\n",
       "    </tr>\n",
       "    <tr>\n",
       "      <th>number_of_reviews</th>\n",
       "      <th></th>\n",
       "    </tr>\n",
       "  </thead>\n",
       "  <tbody>\n",
       "    <tr>\n",
       "      <th>Categoría1</th>\n",
       "      <td>3610</td>\n",
       "    </tr>\n",
       "    <tr>\n",
       "      <th>Categoría12</th>\n",
       "      <td>2793</td>\n",
       "    </tr>\n",
       "    <tr>\n",
       "      <th>Categoría2</th>\n",
       "      <td>2110</td>\n",
       "    </tr>\n",
       "    <tr>\n",
       "      <th>Categoría3</th>\n",
       "      <td>1522</td>\n",
       "    </tr>\n",
       "    <tr>\n",
       "      <th>Categoría5</th>\n",
       "      <td>1244</td>\n",
       "    </tr>\n",
       "    <tr>\n",
       "      <th>Categoría4</th>\n",
       "      <td>1194</td>\n",
       "    </tr>\n",
       "    <tr>\n",
       "      <th>Categoría6</th>\n",
       "      <td>830</td>\n",
       "    </tr>\n",
       "    <tr>\n",
       "      <th>Categoría9</th>\n",
       "      <td>795</td>\n",
       "    </tr>\n",
       "    <tr>\n",
       "      <th>Categoría7</th>\n",
       "      <td>689</td>\n",
       "    </tr>\n",
       "    <tr>\n",
       "      <th>Categoría8</th>\n",
       "      <td>668</td>\n",
       "    </tr>\n",
       "    <tr>\n",
       "      <th>Categoria13</th>\n",
       "      <td>559</td>\n",
       "    </tr>\n",
       "    <tr>\n",
       "      <th>Categoría10</th>\n",
       "      <td>540</td>\n",
       "    </tr>\n",
       "    <tr>\n",
       "      <th>Categoría11</th>\n",
       "      <td>503</td>\n",
       "    </tr>\n",
       "  </tbody>\n",
       "</table>\n",
       "</div>"
      ],
      "text/plain": [
       "                   frequency\n",
       "number_of_reviews           \n",
       "Categoría1              3610\n",
       "Categoría12             2793\n",
       "Categoría2              2110\n",
       "Categoría3              1522\n",
       "Categoría5              1244\n",
       "Categoría4              1194\n",
       "Categoría6               830\n",
       "Categoría9               795\n",
       "Categoría7               689\n",
       "Categoría8               668\n",
       "Categoria13              559\n",
       "Categoría10              540\n",
       "Categoría11              503"
      ]
     },
     "execution_count": 136,
     "metadata": {},
     "output_type": "execute_result"
    }
   ],
   "source": [
    "#Ajusto el indice de mi DataFrame\n",
    "Filtro_index = filtro10.set_index(\"number_of_reviews\")\n",
    "Filtro_index"
   ]
  },
  {
   "cell_type": "code",
   "execution_count": 137,
   "metadata": {},
   "outputs": [
    {
     "data": {
      "text/plain": [
       "Text(0, 0.5, 'Frecuencia')"
      ]
     },
     "execution_count": 137,
     "metadata": {},
     "output_type": "execute_result"
    },
    {
     "data": {
      "image/png": "[encoded data removed]",
      "text/plain": [
       "<Figure size 1000x400 with 1 Axes>"
      ]
     },
     "metadata": {},
     "output_type": "display_data"
    }
   ],
   "source": [
    "#Realizamos grafico de barras del Dataframe filtrado\n",
    "Filtro_index.plot(kind = 'bar', width=0.8, figsize=(10,4), color = \"red\")\n",
    "plt.title('Numero de reseñas')\n",
    "plt.xlabel('Categoria')\n",
    "plt.ylabel('Frecuencia')"
   ]
  },
  {
   "cell_type": "code",
   "execution_count": 138,
   "metadata": {},
   "outputs": [
    {
     "name": "stdout",
     "output_type": "stream",
     "text": [
      "<class 'pandas.core.series.Series'>\n",
      "RangeIndex: 26582 entries, 0 to 26581\n",
      "Series name: review_scores_location\n",
      "Non-Null Count  Dtype  \n",
      "--------------  -----  \n",
      "26582 non-null  float64\n",
      "dtypes: float64(1)\n",
      "memory usage: 207.8 KB\n"
     ]
    }
   ],
   "source": [
    "Micro_Retailer_1['review_scores_location'].info()\n",
    "n = 8021"
   ]
  },
  {
   "cell_type": "code",
   "execution_count": 139,
   "metadata": {},
   "outputs": [
    {
     "data": {
      "text/plain": [
       "[4.5, 5.0]"
      ]
     },
     "execution_count": 139,
     "metadata": {},
     "output_type": "execute_result"
    }
   ],
   "source": [
    "Min = Micro_Retailer_1['review_scores_location'].min()  \n",
    "Max = Micro_Retailer_1['review_scores_location'].max()  \n",
    "Limites = [Min,Max]\n",
    "Limites"
   ]
  },
  {
   "cell_type": "code",
   "execution_count": 140,
   "metadata": {},
   "outputs": [
    {
     "data": {
      "text/plain": [
       "0.5"
      ]
     },
     "execution_count": 140,
     "metadata": {},
     "output_type": "execute_result"
    }
   ],
   "source": [
    "R = Max - Min\n",
    "R"
   ]
  },
  {
   "cell_type": "code",
   "execution_count": 141,
   "metadata": {},
   "outputs": [
    {
     "data": {
      "text/plain": [
       "13.96203867424906"
      ]
     },
     "execution_count": 141,
     "metadata": {},
     "output_type": "execute_result"
    }
   ],
   "source": [
    "ni = 1+3.32*np.log10(n)\n",
    "ni"
   ]
  },
  {
   "cell_type": "code",
   "execution_count": 142,
   "metadata": {},
   "outputs": [
    {
     "data": {
      "text/plain": [
       "0.03581138912916614"
      ]
     },
     "execution_count": 142,
     "metadata": {},
     "output_type": "execute_result"
    }
   ],
   "source": [
    "i = R/ni\n",
    "i"
   ]
  },
  {
   "cell_type": "code",
   "execution_count": 143,
   "metadata": {},
   "outputs": [
    {
     "data": {
      "text/plain": [
       "array([4.6       , 4.63076923, 4.66153846, 4.69230769, 4.72307692,\n",
       "       4.75384615, 4.78461538, 4.81538462, 4.84615385, 4.87692308,\n",
       "       4.90769231, 4.93846154, 4.96923077, 5.        ])"
      ]
     },
     "execution_count": 143,
     "metadata": {},
     "output_type": "execute_result"
    }
   ],
   "source": [
    "# Ver resultado\n",
    "intervalos = np.linspace(4.6, 5.0, 14) #Número de clases más uno\n",
    "intervalos"
   ]
  },
  {
   "cell_type": "code",
   "execution_count": 144,
   "metadata": {},
   "outputs": [],
   "source": [
    "categorias = [\"Categoría1\", \"Categoría2\", \"Categoría3\", \"Categoría4\",\n",
    "              \"Categoría5\", \"Categoría6\", \"Categoría7\", \"Categoría8\",\n",
    "              \"Categoría9\",\"Categoría10\",\"Categoría11\",\"Categoría12\",\n",
    "              \"Categoria13\"]"
   ]
  },
  {
   "cell_type": "code",
   "execution_count": 145,
   "metadata": {},
   "outputs": [
    {
     "data": {
      "text/plain": [
       "0         Categoría7\n",
       "1        Categoria13\n",
       "2        Categoria13\n",
       "3        Categoría12\n",
       "4        Categoría11\n",
       "            ...     \n",
       "26577     Categoría7\n",
       "26578     Categoría7\n",
       "26579     Categoría7\n",
       "26580     Categoría7\n",
       "26581     Categoría7\n",
       "Name: review_scores_location, Length: 26582, dtype: category\n",
       "Categories (13, object): ['Categoría1' < 'Categoría2' < 'Categoría3' < 'Categoría4' ... 'Categoría10' < 'Categoría11' < 'Categoría12' < 'Categoria13']"
      ]
     },
     "execution_count": 145,
     "metadata": {},
     "output_type": "execute_result"
    }
   ],
   "source": [
    "Micro_Retailer_1[\"review_scores_location\"] = pd.cut(x = Micro_Retailer_1[\"review_scores_location\"], bins = intervalos, labels = categorias)\n",
    "Micro_Retailer_1[\"review_scores_location\"]"
   ]
  },
  {
   "cell_type": "code",
   "execution_count": 146,
   "metadata": {},
   "outputs": [
    {
     "data": {
      "text/html": [
       "<div>\n",
       "<style scoped>\n",
       "    .dataframe tbody tr th:only-of-type {\n",
       "        vertical-align: middle;\n",
       "    }\n",
       "\n",
       "    .dataframe tbody tr th {\n",
       "        vertical-align: top;\n",
       "    }\n",
       "\n",
       "    .dataframe thead th {\n",
       "        text-align: right;\n",
       "    }\n",
       "</style>\n",
       "<table border=\"1\" class=\"dataframe\">\n",
       "  <thead>\n",
       "    <tr style=\"text-align: right;\">\n",
       "      <th></th>\n",
       "      <th>review_scores_location</th>\n",
       "      <th>frequency</th>\n",
       "      <th>percentage</th>\n",
       "      <th>cumulative_perc</th>\n",
       "    </tr>\n",
       "  </thead>\n",
       "  <tbody>\n",
       "    <tr>\n",
       "      <th>0</th>\n",
       "      <td>Categoria13</td>\n",
       "      <td>8601</td>\n",
       "      <td>0.323565</td>\n",
       "      <td>0.335073</td>\n",
       "    </tr>\n",
       "    <tr>\n",
       "      <th>1</th>\n",
       "      <td>Categoría7</td>\n",
       "      <td>4556</td>\n",
       "      <td>0.171394</td>\n",
       "      <td>0.512564</td>\n",
       "    </tr>\n",
       "    <tr>\n",
       "      <th>2</th>\n",
       "      <td>Categoría10</td>\n",
       "      <td>2994</td>\n",
       "      <td>0.112633</td>\n",
       "      <td>0.629203</td>\n",
       "    </tr>\n",
       "    <tr>\n",
       "      <th>3</th>\n",
       "      <td>Categoría12</td>\n",
       "      <td>2370</td>\n",
       "      <td>0.089158</td>\n",
       "      <td>0.721532</td>\n",
       "    </tr>\n",
       "    <tr>\n",
       "      <th>4</th>\n",
       "      <td>Categoría11</td>\n",
       "      <td>1999</td>\n",
       "      <td>0.075201</td>\n",
       "      <td>0.799408</td>\n",
       "    </tr>\n",
       "    <tr>\n",
       "      <th>5</th>\n",
       "      <td>Categoría9</td>\n",
       "      <td>1212</td>\n",
       "      <td>0.045595</td>\n",
       "      <td>0.846624</td>\n",
       "    </tr>\n",
       "    <tr>\n",
       "      <th>6</th>\n",
       "      <td>Categoría8</td>\n",
       "      <td>1093</td>\n",
       "      <td>0.041118</td>\n",
       "      <td>0.889205</td>\n",
       "    </tr>\n",
       "    <tr>\n",
       "      <th>7</th>\n",
       "      <td>Categoría5</td>\n",
       "      <td>703</td>\n",
       "      <td>0.026446</td>\n",
       "      <td>0.916592</td>\n",
       "    </tr>\n",
       "    <tr>\n",
       "      <th>8</th>\n",
       "      <td>Categoría6</td>\n",
       "      <td>640</td>\n",
       "      <td>0.024076</td>\n",
       "      <td>0.941525</td>\n",
       "    </tr>\n",
       "    <tr>\n",
       "      <th>9</th>\n",
       "      <td>Categoría3</td>\n",
       "      <td>592</td>\n",
       "      <td>0.022271</td>\n",
       "      <td>0.964588</td>\n",
       "    </tr>\n",
       "    <tr>\n",
       "      <th>10</th>\n",
       "      <td>Categoría4</td>\n",
       "      <td>454</td>\n",
       "      <td>0.017079</td>\n",
       "      <td>0.982274</td>\n",
       "    </tr>\n",
       "    <tr>\n",
       "      <th>11</th>\n",
       "      <td>Categoría2</td>\n",
       "      <td>240</td>\n",
       "      <td>0.009029</td>\n",
       "      <td>0.991624</td>\n",
       "    </tr>\n",
       "    <tr>\n",
       "      <th>12</th>\n",
       "      <td>Categoría1</td>\n",
       "      <td>215</td>\n",
       "      <td>0.008088</td>\n",
       "      <td>1.000000</td>\n",
       "    </tr>\n",
       "  </tbody>\n",
       "</table>\n",
       "</div>"
      ],
      "text/plain": [
       "   review_scores_location  frequency  percentage  cumulative_perc\n",
       "0             Categoria13       8601    0.323565         0.335073\n",
       "1              Categoría7       4556    0.171394         0.512564\n",
       "2             Categoría10       2994    0.112633         0.629203\n",
       "3             Categoría12       2370    0.089158         0.721532\n",
       "4             Categoría11       1999    0.075201         0.799408\n",
       "5              Categoría9       1212    0.045595         0.846624\n",
       "6              Categoría8       1093    0.041118         0.889205\n",
       "7              Categoría5        703    0.026446         0.916592\n",
       "8              Categoría6        640    0.024076         0.941525\n",
       "9              Categoría3        592    0.022271         0.964588\n",
       "10             Categoría4        454    0.017079         0.982274\n",
       "11             Categoría2        240    0.009029         0.991624\n",
       "12             Categoría1        215    0.008088         1.000000"
      ]
     },
     "execution_count": 146,
     "metadata": {},
     "output_type": "execute_result"
    }
   ],
   "source": [
    "#Obtengo un análisis univariado de una variable categórica en específico  \n",
    "table21 = freq_tbl(Micro_Retailer_1['review_scores_location'])\n",
    "table21"
   ]
  },
  {
   "cell_type": "code",
   "execution_count": 147,
   "metadata": {},
   "outputs": [
    {
     "data": {
      "text/html": [
       "<div>\n",
       "<style scoped>\n",
       "    .dataframe tbody tr th:only-of-type {\n",
       "        vertical-align: middle;\n",
       "    }\n",
       "\n",
       "    .dataframe tbody tr th {\n",
       "        vertical-align: top;\n",
       "    }\n",
       "\n",
       "    .dataframe thead th {\n",
       "        text-align: right;\n",
       "    }\n",
       "</style>\n",
       "<table border=\"1\" class=\"dataframe\">\n",
       "  <thead>\n",
       "    <tr style=\"text-align: right;\">\n",
       "      <th></th>\n",
       "      <th>review_scores_location</th>\n",
       "      <th>frequency</th>\n",
       "    </tr>\n",
       "  </thead>\n",
       "  <tbody>\n",
       "    <tr>\n",
       "      <th>0</th>\n",
       "      <td>Categoria13</td>\n",
       "      <td>8601</td>\n",
       "    </tr>\n",
       "    <tr>\n",
       "      <th>1</th>\n",
       "      <td>Categoría7</td>\n",
       "      <td>4556</td>\n",
       "    </tr>\n",
       "    <tr>\n",
       "      <th>2</th>\n",
       "      <td>Categoría10</td>\n",
       "      <td>2994</td>\n",
       "    </tr>\n",
       "    <tr>\n",
       "      <th>3</th>\n",
       "      <td>Categoría12</td>\n",
       "      <td>2370</td>\n",
       "    </tr>\n",
       "    <tr>\n",
       "      <th>4</th>\n",
       "      <td>Categoría11</td>\n",
       "      <td>1999</td>\n",
       "    </tr>\n",
       "    <tr>\n",
       "      <th>5</th>\n",
       "      <td>Categoría9</td>\n",
       "      <td>1212</td>\n",
       "    </tr>\n",
       "    <tr>\n",
       "      <th>6</th>\n",
       "      <td>Categoría8</td>\n",
       "      <td>1093</td>\n",
       "    </tr>\n",
       "    <tr>\n",
       "      <th>7</th>\n",
       "      <td>Categoría5</td>\n",
       "      <td>703</td>\n",
       "    </tr>\n",
       "    <tr>\n",
       "      <th>8</th>\n",
       "      <td>Categoría6</td>\n",
       "      <td>640</td>\n",
       "    </tr>\n",
       "    <tr>\n",
       "      <th>9</th>\n",
       "      <td>Categoría3</td>\n",
       "      <td>592</td>\n",
       "    </tr>\n",
       "    <tr>\n",
       "      <th>10</th>\n",
       "      <td>Categoría4</td>\n",
       "      <td>454</td>\n",
       "    </tr>\n",
       "    <tr>\n",
       "      <th>11</th>\n",
       "      <td>Categoría2</td>\n",
       "      <td>240</td>\n",
       "    </tr>\n",
       "    <tr>\n",
       "      <th>12</th>\n",
       "      <td>Categoría1</td>\n",
       "      <td>215</td>\n",
       "    </tr>\n",
       "  </tbody>\n",
       "</table>\n",
       "</div>"
      ],
      "text/plain": [
       "   review_scores_location  frequency\n",
       "0             Categoria13       8601\n",
       "1              Categoría7       4556\n",
       "2             Categoría10       2994\n",
       "3             Categoría12       2370\n",
       "4             Categoría11       1999\n",
       "5              Categoría9       1212\n",
       "6              Categoría8       1093\n",
       "7              Categoría5        703\n",
       "8              Categoría6        640\n",
       "9              Categoría3        592\n",
       "10             Categoría4        454\n",
       "11             Categoría2        240\n",
       "12             Categoría1        215"
      ]
     },
     "execution_count": 147,
     "metadata": {},
     "output_type": "execute_result"
    }
   ],
   "source": [
    "#Elimino las columnas \"procentage\" y \"cumulative_perc\" para trabajar con las fecuencias\n",
    "table22 = table21.drop(['percentage', 'cumulative_perc'], axis=1)\n",
    "table22"
   ]
  },
  {
   "cell_type": "code",
   "execution_count": 148,
   "metadata": {},
   "outputs": [
    {
     "data": {
      "text/html": [
       "<div>\n",
       "<style scoped>\n",
       "    .dataframe tbody tr th:only-of-type {\n",
       "        vertical-align: middle;\n",
       "    }\n",
       "\n",
       "    .dataframe tbody tr th {\n",
       "        vertical-align: top;\n",
       "    }\n",
       "\n",
       "    .dataframe thead th {\n",
       "        text-align: right;\n",
       "    }\n",
       "</style>\n",
       "<table border=\"1\" class=\"dataframe\">\n",
       "  <thead>\n",
       "    <tr style=\"text-align: right;\">\n",
       "      <th></th>\n",
       "      <th>review_scores_location</th>\n",
       "      <th>frequency</th>\n",
       "    </tr>\n",
       "  </thead>\n",
       "  <tbody>\n",
       "    <tr>\n",
       "      <th>0</th>\n",
       "      <td>Categoria13</td>\n",
       "      <td>8601</td>\n",
       "    </tr>\n",
       "    <tr>\n",
       "      <th>1</th>\n",
       "      <td>Categoría7</td>\n",
       "      <td>4556</td>\n",
       "    </tr>\n",
       "    <tr>\n",
       "      <th>2</th>\n",
       "      <td>Categoría10</td>\n",
       "      <td>2994</td>\n",
       "    </tr>\n",
       "    <tr>\n",
       "      <th>3</th>\n",
       "      <td>Categoría12</td>\n",
       "      <td>2370</td>\n",
       "    </tr>\n",
       "    <tr>\n",
       "      <th>4</th>\n",
       "      <td>Categoría11</td>\n",
       "      <td>1999</td>\n",
       "    </tr>\n",
       "    <tr>\n",
       "      <th>5</th>\n",
       "      <td>Categoría9</td>\n",
       "      <td>1212</td>\n",
       "    </tr>\n",
       "    <tr>\n",
       "      <th>6</th>\n",
       "      <td>Categoría8</td>\n",
       "      <td>1093</td>\n",
       "    </tr>\n",
       "    <tr>\n",
       "      <th>7</th>\n",
       "      <td>Categoría5</td>\n",
       "      <td>703</td>\n",
       "    </tr>\n",
       "    <tr>\n",
       "      <th>8</th>\n",
       "      <td>Categoría6</td>\n",
       "      <td>640</td>\n",
       "    </tr>\n",
       "    <tr>\n",
       "      <th>9</th>\n",
       "      <td>Categoría3</td>\n",
       "      <td>592</td>\n",
       "    </tr>\n",
       "    <tr>\n",
       "      <th>10</th>\n",
       "      <td>Categoría4</td>\n",
       "      <td>454</td>\n",
       "    </tr>\n",
       "    <tr>\n",
       "      <th>11</th>\n",
       "      <td>Categoría2</td>\n",
       "      <td>240</td>\n",
       "    </tr>\n",
       "    <tr>\n",
       "      <th>12</th>\n",
       "      <td>Categoría1</td>\n",
       "      <td>215</td>\n",
       "    </tr>\n",
       "  </tbody>\n",
       "</table>\n",
       "</div>"
      ],
      "text/plain": [
       "   review_scores_location  frequency\n",
       "0             Categoria13       8601\n",
       "1              Categoría7       4556\n",
       "2             Categoría10       2994\n",
       "3             Categoría12       2370\n",
       "4             Categoría11       1999\n",
       "5              Categoría9       1212\n",
       "6              Categoría8       1093\n",
       "7              Categoría5        703\n",
       "8              Categoría6        640\n",
       "9              Categoría3        592\n",
       "10             Categoría4        454\n",
       "11             Categoría2        240\n",
       "12             Categoría1        215"
      ]
     },
     "execution_count": 148,
     "metadata": {},
     "output_type": "execute_result"
    }
   ],
   "source": [
    "filtro11 = table22[table22['frequency'] > 100]\n",
    "filtro11"
   ]
  },
  {
   "cell_type": "code",
   "execution_count": 149,
   "metadata": {},
   "outputs": [
    {
     "data": {
      "text/html": [
       "<div>\n",
       "<style scoped>\n",
       "    .dataframe tbody tr th:only-of-type {\n",
       "        vertical-align: middle;\n",
       "    }\n",
       "\n",
       "    .dataframe tbody tr th {\n",
       "        vertical-align: top;\n",
       "    }\n",
       "\n",
       "    .dataframe thead th {\n",
       "        text-align: right;\n",
       "    }\n",
       "</style>\n",
       "<table border=\"1\" class=\"dataframe\">\n",
       "  <thead>\n",
       "    <tr style=\"text-align: right;\">\n",
       "      <th></th>\n",
       "      <th>frequency</th>\n",
       "    </tr>\n",
       "    <tr>\n",
       "      <th>review_scores_location</th>\n",
       "      <th></th>\n",
       "    </tr>\n",
       "  </thead>\n",
       "  <tbody>\n",
       "    <tr>\n",
       "      <th>Categoria13</th>\n",
       "      <td>8601</td>\n",
       "    </tr>\n",
       "    <tr>\n",
       "      <th>Categoría7</th>\n",
       "      <td>4556</td>\n",
       "    </tr>\n",
       "    <tr>\n",
       "      <th>Categoría10</th>\n",
       "      <td>2994</td>\n",
       "    </tr>\n",
       "    <tr>\n",
       "      <th>Categoría12</th>\n",
       "      <td>2370</td>\n",
       "    </tr>\n",
       "    <tr>\n",
       "      <th>Categoría11</th>\n",
       "      <td>1999</td>\n",
       "    </tr>\n",
       "    <tr>\n",
       "      <th>Categoría9</th>\n",
       "      <td>1212</td>\n",
       "    </tr>\n",
       "    <tr>\n",
       "      <th>Categoría8</th>\n",
       "      <td>1093</td>\n",
       "    </tr>\n",
       "    <tr>\n",
       "      <th>Categoría5</th>\n",
       "      <td>703</td>\n",
       "    </tr>\n",
       "    <tr>\n",
       "      <th>Categoría6</th>\n",
       "      <td>640</td>\n",
       "    </tr>\n",
       "    <tr>\n",
       "      <th>Categoría3</th>\n",
       "      <td>592</td>\n",
       "    </tr>\n",
       "    <tr>\n",
       "      <th>Categoría4</th>\n",
       "      <td>454</td>\n",
       "    </tr>\n",
       "    <tr>\n",
       "      <th>Categoría2</th>\n",
       "      <td>240</td>\n",
       "    </tr>\n",
       "    <tr>\n",
       "      <th>Categoría1</th>\n",
       "      <td>215</td>\n",
       "    </tr>\n",
       "  </tbody>\n",
       "</table>\n",
       "</div>"
      ],
      "text/plain": [
       "                        frequency\n",
       "review_scores_location           \n",
       "Categoria13                  8601\n",
       "Categoría7                   4556\n",
       "Categoría10                  2994\n",
       "Categoría12                  2370\n",
       "Categoría11                  1999\n",
       "Categoría9                   1212\n",
       "Categoría8                   1093\n",
       "Categoría5                    703\n",
       "Categoría6                    640\n",
       "Categoría3                    592\n",
       "Categoría4                    454\n",
       "Categoría2                    240\n",
       "Categoría1                    215"
      ]
     },
     "execution_count": 149,
     "metadata": {},
     "output_type": "execute_result"
    }
   ],
   "source": [
    "#Ajusto el indice de mi DataFrame\n",
    "Filtro_index = filtro11.set_index(\"review_scores_location\")\n",
    "Filtro_index"
   ]
  },
  {
   "cell_type": "code",
   "execution_count": 150,
   "metadata": {},
   "outputs": [
    {
     "data": {
      "text/plain": [
       "Text(0, 0.5, 'Frecuencia')"
      ]
     },
     "execution_count": 150,
     "metadata": {},
     "output_type": "execute_result"
    },
    {
     "data": {
      "image/png": "[encoded data removed]",
      "text/plain": [
       "<Figure size 1000x400 with 1 Axes>"
      ]
     },
     "metadata": {},
     "output_type": "display_data"
    }
   ],
   "source": [
    "#Realizamos grafico de barras del Dataframe filtrado\n",
    "Filtro_index.plot(kind = 'bar', width=0.8, figsize=(10,4), color = \"red\")\n",
    "plt.title('Puntuacion de locacion')\n",
    "plt.xlabel('Categoria')\n",
    "plt.ylabel('Frecuencia')"
   ]
  },
  {
   "cell_type": "code",
   "execution_count": 151,
   "metadata": {},
   "outputs": [
    {
     "name": "stdout",
     "output_type": "stream",
     "text": [
      "<class 'pandas.core.series.Series'>\n",
      "RangeIndex: 26582 entries, 0 to 26581\n",
      "Series name: review_scores_value\n",
      "Non-Null Count  Dtype  \n",
      "--------------  -----  \n",
      "26582 non-null  float64\n",
      "dtypes: float64(1)\n",
      "memory usage: 207.8 KB\n"
     ]
    }
   ],
   "source": [
    "Micro_Retailer_1['review_scores_value'].info()\n",
    "n = 8021"
   ]
  },
  {
   "cell_type": "code",
   "execution_count": 152,
   "metadata": {},
   "outputs": [
    {
     "data": {
      "text/plain": [
       "[4.38, 5.0]"
      ]
     },
     "execution_count": 152,
     "metadata": {},
     "output_type": "execute_result"
    }
   ],
   "source": [
    "Min = Micro_Retailer_1['review_scores_value'].min()  \n",
    "Max = Micro_Retailer_1['review_scores_value'].max()  \n",
    "Limites = [Min,Max]\n",
    "Limites"
   ]
  },
  {
   "cell_type": "code",
   "execution_count": 153,
   "metadata": {},
   "outputs": [
    {
     "data": {
      "text/plain": [
       "0.6200000000000001"
      ]
     },
     "execution_count": 153,
     "metadata": {},
     "output_type": "execute_result"
    }
   ],
   "source": [
    "R = Max - Min\n",
    "R"
   ]
  },
  {
   "cell_type": "code",
   "execution_count": 154,
   "metadata": {},
   "outputs": [
    {
     "data": {
      "text/plain": [
       "13.96203867424906"
      ]
     },
     "execution_count": 154,
     "metadata": {},
     "output_type": "execute_result"
    }
   ],
   "source": [
    "ni = 1+3.32*np.log10(n)\n",
    "ni"
   ]
  },
  {
   "cell_type": "code",
   "execution_count": 155,
   "metadata": {},
   "outputs": [
    {
     "data": {
      "text/plain": [
       "array([3.75      , 3.84615385, 3.94230769, 4.03846154, 4.13461538,\n",
       "       4.23076923, 4.32692308, 4.42307692, 4.51923077, 4.61538462,\n",
       "       4.71153846, 4.80769231, 4.90384615, 5.        ])"
      ]
     },
     "execution_count": 155,
     "metadata": {},
     "output_type": "execute_result"
    }
   ],
   "source": [
    "# Ver resultado\n",
    "intervalos = np.linspace(3.75, 5.0, 14) #Número de clases más uno\n",
    "intervalos"
   ]
  },
  {
   "cell_type": "code",
   "execution_count": 156,
   "metadata": {},
   "outputs": [],
   "source": [
    "categorias = [\"Categoría1\", \"Categoría2\", \"Categoría3\", \"Categoría4\",\n",
    "              \"Categoría5\", \"Categoría6\", \"Categoría7\", \"Categoría8\",\n",
    "              \"Categoría9\",\"Categoría10\",\"Categoría11\",\"Categoría12\",\n",
    "              \"Categoria13\"]"
   ]
  },
  {
   "cell_type": "code",
   "execution_count": 157,
   "metadata": {},
   "outputs": [
    {
     "data": {
      "text/plain": [
       "0        Categoría10\n",
       "1         Categoría8\n",
       "2        Categoria13\n",
       "3        Categoria13\n",
       "4        Categoría12\n",
       "            ...     \n",
       "26577    Categoría10\n",
       "26578    Categoría10\n",
       "26579    Categoría10\n",
       "26580    Categoría10\n",
       "26581    Categoría10\n",
       "Name: review_scores_value, Length: 26582, dtype: category\n",
       "Categories (13, object): ['Categoría1' < 'Categoría2' < 'Categoría3' < 'Categoría4' ... 'Categoría10' < 'Categoría11' < 'Categoría12' < 'Categoria13']"
      ]
     },
     "execution_count": 157,
     "metadata": {},
     "output_type": "execute_result"
    }
   ],
   "source": [
    "Micro_Retailer_1['review_scores_value'] = pd.cut(x = Micro_Retailer_1['review_scores_value'], bins = intervalos, labels = categorias)\n",
    "Micro_Retailer_1['review_scores_value']"
   ]
  },
  {
   "cell_type": "code",
   "execution_count": 158,
   "metadata": {},
   "outputs": [
    {
     "data": {
      "text/html": [
       "<div>\n",
       "<style scoped>\n",
       "    .dataframe tbody tr th:only-of-type {\n",
       "        vertical-align: middle;\n",
       "    }\n",
       "\n",
       "    .dataframe tbody tr th {\n",
       "        vertical-align: top;\n",
       "    }\n",
       "\n",
       "    .dataframe thead th {\n",
       "        text-align: right;\n",
       "    }\n",
       "</style>\n",
       "<table border=\"1\" class=\"dataframe\">\n",
       "  <thead>\n",
       "    <tr style=\"text-align: right;\">\n",
       "      <th></th>\n",
       "      <th>review_scores_value</th>\n",
       "      <th>frequency</th>\n",
       "      <th>percentage</th>\n",
       "      <th>cumulative_perc</th>\n",
       "    </tr>\n",
       "  </thead>\n",
       "  <tbody>\n",
       "    <tr>\n",
       "      <th>0</th>\n",
       "      <td>Categoria13</td>\n",
       "      <td>6539</td>\n",
       "      <td>0.245994</td>\n",
       "      <td>0.245994</td>\n",
       "    </tr>\n",
       "    <tr>\n",
       "      <th>1</th>\n",
       "      <td>Categoría10</td>\n",
       "      <td>6457</td>\n",
       "      <td>0.242909</td>\n",
       "      <td>0.488902</td>\n",
       "    </tr>\n",
       "    <tr>\n",
       "      <th>2</th>\n",
       "      <td>Categoría11</td>\n",
       "      <td>5791</td>\n",
       "      <td>0.217854</td>\n",
       "      <td>0.706756</td>\n",
       "    </tr>\n",
       "    <tr>\n",
       "      <th>3</th>\n",
       "      <td>Categoría12</td>\n",
       "      <td>5101</td>\n",
       "      <td>0.191897</td>\n",
       "      <td>0.898653</td>\n",
       "    </tr>\n",
       "    <tr>\n",
       "      <th>4</th>\n",
       "      <td>Categoría9</td>\n",
       "      <td>1384</td>\n",
       "      <td>0.052065</td>\n",
       "      <td>0.950719</td>\n",
       "    </tr>\n",
       "    <tr>\n",
       "      <th>5</th>\n",
       "      <td>Categoría8</td>\n",
       "      <td>1028</td>\n",
       "      <td>0.038673</td>\n",
       "      <td>0.989391</td>\n",
       "    </tr>\n",
       "    <tr>\n",
       "      <th>6</th>\n",
       "      <td>Categoría7</td>\n",
       "      <td>282</td>\n",
       "      <td>0.010609</td>\n",
       "      <td>1.000000</td>\n",
       "    </tr>\n",
       "    <tr>\n",
       "      <th>7</th>\n",
       "      <td>Categoría1</td>\n",
       "      <td>0</td>\n",
       "      <td>0.000000</td>\n",
       "      <td>1.000000</td>\n",
       "    </tr>\n",
       "    <tr>\n",
       "      <th>8</th>\n",
       "      <td>Categoría2</td>\n",
       "      <td>0</td>\n",
       "      <td>0.000000</td>\n",
       "      <td>1.000000</td>\n",
       "    </tr>\n",
       "    <tr>\n",
       "      <th>9</th>\n",
       "      <td>Categoría3</td>\n",
       "      <td>0</td>\n",
       "      <td>0.000000</td>\n",
       "      <td>1.000000</td>\n",
       "    </tr>\n",
       "    <tr>\n",
       "      <th>10</th>\n",
       "      <td>Categoría4</td>\n",
       "      <td>0</td>\n",
       "      <td>0.000000</td>\n",
       "      <td>1.000000</td>\n",
       "    </tr>\n",
       "    <tr>\n",
       "      <th>11</th>\n",
       "      <td>Categoría5</td>\n",
       "      <td>0</td>\n",
       "      <td>0.000000</td>\n",
       "      <td>1.000000</td>\n",
       "    </tr>\n",
       "    <tr>\n",
       "      <th>12</th>\n",
       "      <td>Categoría6</td>\n",
       "      <td>0</td>\n",
       "      <td>0.000000</td>\n",
       "      <td>1.000000</td>\n",
       "    </tr>\n",
       "  </tbody>\n",
       "</table>\n",
       "</div>"
      ],
      "text/plain": [
       "   review_scores_value  frequency  percentage  cumulative_perc\n",
       "0          Categoria13       6539    0.245994         0.245994\n",
       "1          Categoría10       6457    0.242909         0.488902\n",
       "2          Categoría11       5791    0.217854         0.706756\n",
       "3          Categoría12       5101    0.191897         0.898653\n",
       "4           Categoría9       1384    0.052065         0.950719\n",
       "5           Categoría8       1028    0.038673         0.989391\n",
       "6           Categoría7        282    0.010609         1.000000\n",
       "7           Categoría1          0    0.000000         1.000000\n",
       "8           Categoría2          0    0.000000         1.000000\n",
       "9           Categoría3          0    0.000000         1.000000\n",
       "10          Categoría4          0    0.000000         1.000000\n",
       "11          Categoría5          0    0.000000         1.000000\n",
       "12          Categoría6          0    0.000000         1.000000"
      ]
     },
     "execution_count": 158,
     "metadata": {},
     "output_type": "execute_result"
    }
   ],
   "source": [
    "#Obtengo un análisis univariado de una variable categórica en específico  \n",
    "table23 = freq_tbl(Micro_Retailer_1['review_scores_value'])\n",
    "table23"
   ]
  },
  {
   "cell_type": "code",
   "execution_count": 159,
   "metadata": {},
   "outputs": [
    {
     "data": {
      "text/html": [
       "<div>\n",
       "<style scoped>\n",
       "    .dataframe tbody tr th:only-of-type {\n",
       "        vertical-align: middle;\n",
       "    }\n",
       "\n",
       "    .dataframe tbody tr th {\n",
       "        vertical-align: top;\n",
       "    }\n",
       "\n",
       "    .dataframe thead th {\n",
       "        text-align: right;\n",
       "    }\n",
       "</style>\n",
       "<table border=\"1\" class=\"dataframe\">\n",
       "  <thead>\n",
       "    <tr style=\"text-align: right;\">\n",
       "      <th></th>\n",
       "      <th>review_scores_value</th>\n",
       "      <th>frequency</th>\n",
       "    </tr>\n",
       "  </thead>\n",
       "  <tbody>\n",
       "    <tr>\n",
       "      <th>0</th>\n",
       "      <td>Categoria13</td>\n",
       "      <td>6539</td>\n",
       "    </tr>\n",
       "    <tr>\n",
       "      <th>1</th>\n",
       "      <td>Categoría10</td>\n",
       "      <td>6457</td>\n",
       "    </tr>\n",
       "    <tr>\n",
       "      <th>2</th>\n",
       "      <td>Categoría11</td>\n",
       "      <td>5791</td>\n",
       "    </tr>\n",
       "    <tr>\n",
       "      <th>3</th>\n",
       "      <td>Categoría12</td>\n",
       "      <td>5101</td>\n",
       "    </tr>\n",
       "    <tr>\n",
       "      <th>4</th>\n",
       "      <td>Categoría9</td>\n",
       "      <td>1384</td>\n",
       "    </tr>\n",
       "    <tr>\n",
       "      <th>5</th>\n",
       "      <td>Categoría8</td>\n",
       "      <td>1028</td>\n",
       "    </tr>\n",
       "    <tr>\n",
       "      <th>6</th>\n",
       "      <td>Categoría7</td>\n",
       "      <td>282</td>\n",
       "    </tr>\n",
       "    <tr>\n",
       "      <th>7</th>\n",
       "      <td>Categoría1</td>\n",
       "      <td>0</td>\n",
       "    </tr>\n",
       "    <tr>\n",
       "      <th>8</th>\n",
       "      <td>Categoría2</td>\n",
       "      <td>0</td>\n",
       "    </tr>\n",
       "    <tr>\n",
       "      <th>9</th>\n",
       "      <td>Categoría3</td>\n",
       "      <td>0</td>\n",
       "    </tr>\n",
       "    <tr>\n",
       "      <th>10</th>\n",
       "      <td>Categoría4</td>\n",
       "      <td>0</td>\n",
       "    </tr>\n",
       "    <tr>\n",
       "      <th>11</th>\n",
       "      <td>Categoría5</td>\n",
       "      <td>0</td>\n",
       "    </tr>\n",
       "    <tr>\n",
       "      <th>12</th>\n",
       "      <td>Categoría6</td>\n",
       "      <td>0</td>\n",
       "    </tr>\n",
       "  </tbody>\n",
       "</table>\n",
       "</div>"
      ],
      "text/plain": [
       "   review_scores_value  frequency\n",
       "0          Categoria13       6539\n",
       "1          Categoría10       6457\n",
       "2          Categoría11       5791\n",
       "3          Categoría12       5101\n",
       "4           Categoría9       1384\n",
       "5           Categoría8       1028\n",
       "6           Categoría7        282\n",
       "7           Categoría1          0\n",
       "8           Categoría2          0\n",
       "9           Categoría3          0\n",
       "10          Categoría4          0\n",
       "11          Categoría5          0\n",
       "12          Categoría6          0"
      ]
     },
     "execution_count": 159,
     "metadata": {},
     "output_type": "execute_result"
    }
   ],
   "source": [
    "#Elimino las columnas \"procentage\" y \"cumulative_perc\" para trabajar con las fecuencias\n",
    "table24 = table23.drop(['percentage', 'cumulative_perc'], axis=1)\n",
    "table24"
   ]
  },
  {
   "cell_type": "code",
   "execution_count": 160,
   "metadata": {},
   "outputs": [
    {
     "data": {
      "text/html": [
       "<div>\n",
       "<style scoped>\n",
       "    .dataframe tbody tr th:only-of-type {\n",
       "        vertical-align: middle;\n",
       "    }\n",
       "\n",
       "    .dataframe tbody tr th {\n",
       "        vertical-align: top;\n",
       "    }\n",
       "\n",
       "    .dataframe thead th {\n",
       "        text-align: right;\n",
       "    }\n",
       "</style>\n",
       "<table border=\"1\" class=\"dataframe\">\n",
       "  <thead>\n",
       "    <tr style=\"text-align: right;\">\n",
       "      <th></th>\n",
       "      <th>review_scores_value</th>\n",
       "      <th>frequency</th>\n",
       "    </tr>\n",
       "  </thead>\n",
       "  <tbody>\n",
       "    <tr>\n",
       "      <th>0</th>\n",
       "      <td>Categoria13</td>\n",
       "      <td>6539</td>\n",
       "    </tr>\n",
       "    <tr>\n",
       "      <th>1</th>\n",
       "      <td>Categoría10</td>\n",
       "      <td>6457</td>\n",
       "    </tr>\n",
       "    <tr>\n",
       "      <th>2</th>\n",
       "      <td>Categoría11</td>\n",
       "      <td>5791</td>\n",
       "    </tr>\n",
       "    <tr>\n",
       "      <th>3</th>\n",
       "      <td>Categoría12</td>\n",
       "      <td>5101</td>\n",
       "    </tr>\n",
       "    <tr>\n",
       "      <th>4</th>\n",
       "      <td>Categoría9</td>\n",
       "      <td>1384</td>\n",
       "    </tr>\n",
       "    <tr>\n",
       "      <th>5</th>\n",
       "      <td>Categoría8</td>\n",
       "      <td>1028</td>\n",
       "    </tr>\n",
       "    <tr>\n",
       "      <th>6</th>\n",
       "      <td>Categoría7</td>\n",
       "      <td>282</td>\n",
       "    </tr>\n",
       "  </tbody>\n",
       "</table>\n",
       "</div>"
      ],
      "text/plain": [
       "  review_scores_value  frequency\n",
       "0         Categoria13       6539\n",
       "1         Categoría10       6457\n",
       "2         Categoría11       5791\n",
       "3         Categoría12       5101\n",
       "4          Categoría9       1384\n",
       "5          Categoría8       1028\n",
       "6          Categoría7        282"
      ]
     },
     "execution_count": 160,
     "metadata": {},
     "output_type": "execute_result"
    }
   ],
   "source": [
    "filtro12 = table24[table24['frequency'] > 100]\n",
    "filtro12"
   ]
  },
  {
   "cell_type": "code",
   "execution_count": 161,
   "metadata": {},
   "outputs": [
    {
     "data": {
      "text/html": [
       "<div>\n",
       "<style scoped>\n",
       "    .dataframe tbody tr th:only-of-type {\n",
       "        vertical-align: middle;\n",
       "    }\n",
       "\n",
       "    .dataframe tbody tr th {\n",
       "        vertical-align: top;\n",
       "    }\n",
       "\n",
       "    .dataframe thead th {\n",
       "        text-align: right;\n",
       "    }\n",
       "</style>\n",
       "<table border=\"1\" class=\"dataframe\">\n",
       "  <thead>\n",
       "    <tr style=\"text-align: right;\">\n",
       "      <th></th>\n",
       "      <th>frequency</th>\n",
       "    </tr>\n",
       "    <tr>\n",
       "      <th>review_scores_value</th>\n",
       "      <th></th>\n",
       "    </tr>\n",
       "  </thead>\n",
       "  <tbody>\n",
       "    <tr>\n",
       "      <th>Categoria13</th>\n",
       "      <td>6539</td>\n",
       "    </tr>\n",
       "    <tr>\n",
       "      <th>Categoría10</th>\n",
       "      <td>6457</td>\n",
       "    </tr>\n",
       "    <tr>\n",
       "      <th>Categoría11</th>\n",
       "      <td>5791</td>\n",
       "    </tr>\n",
       "    <tr>\n",
       "      <th>Categoría12</th>\n",
       "      <td>5101</td>\n",
       "    </tr>\n",
       "    <tr>\n",
       "      <th>Categoría9</th>\n",
       "      <td>1384</td>\n",
       "    </tr>\n",
       "    <tr>\n",
       "      <th>Categoría8</th>\n",
       "      <td>1028</td>\n",
       "    </tr>\n",
       "    <tr>\n",
       "      <th>Categoría7</th>\n",
       "      <td>282</td>\n",
       "    </tr>\n",
       "  </tbody>\n",
       "</table>\n",
       "</div>"
      ],
      "text/plain": [
       "                     frequency\n",
       "review_scores_value           \n",
       "Categoria13               6539\n",
       "Categoría10               6457\n",
       "Categoría11               5791\n",
       "Categoría12               5101\n",
       "Categoría9                1384\n",
       "Categoría8                1028\n",
       "Categoría7                 282"
      ]
     },
     "execution_count": 161,
     "metadata": {},
     "output_type": "execute_result"
    }
   ],
   "source": [
    "#Ajusto el indice de mi DataFrame\n",
    "Filtro_index = filtro12.set_index(\"review_scores_value\")\n",
    "Filtro_index"
   ]
  },
  {
   "cell_type": "code",
   "execution_count": 162,
   "metadata": {},
   "outputs": [
    {
     "data": {
      "text/plain": [
       "<Axes: xlabel='review_scores_value'>"
      ]
     },
     "execution_count": 162,
     "metadata": {},
     "output_type": "execute_result"
    },
    {
     "data": {
      "image/png": "[encoded data removed]",
      "text/plain": [
       "<Figure size 1000x400 with 1 Axes>"
      ]
     },
     "metadata": {},
     "output_type": "display_data"
    }
   ],
   "source": [
    "#Realizamos grafico de área del dataframe filtrado\n",
    "Filtro_index.plot(kind='area', figsize=(10,4), alpha = 0.5)"
   ]
  },
  {
   "cell_type": "code",
   "execution_count": 163,
   "metadata": {},
   "outputs": [
    {
     "name": "stdout",
     "output_type": "stream",
     "text": [
      "<class 'pandas.core.series.Series'>\n",
      "RangeIndex: 26582 entries, 0 to 26581\n",
      "Series name: reviews_per_month\n",
      "Non-Null Count  Dtype  \n",
      "--------------  -----  \n",
      "26582 non-null  float64\n",
      "dtypes: float64(1)\n",
      "memory usage: 207.8 KB\n"
     ]
    }
   ],
   "source": [
    "Micro_Retailer_1['reviews_per_month'].info()\n",
    "n = 8021"
   ]
  },
  {
   "cell_type": "code",
   "execution_count": 164,
   "metadata": {},
   "outputs": [
    {
     "data": {
      "text/plain": [
       "[0.01, 4.72]"
      ]
     },
     "execution_count": 164,
     "metadata": {},
     "output_type": "execute_result"
    }
   ],
   "source": [
    "Min = Micro_Retailer_1['reviews_per_month'].min()  \n",
    "Max = Micro_Retailer_1['reviews_per_month'].max()  \n",
    "Limites = [Min,Max]\n",
    "Limites"
   ]
  },
  {
   "cell_type": "code",
   "execution_count": 165,
   "metadata": {},
   "outputs": [
    {
     "data": {
      "text/plain": [
       "4.71"
      ]
     },
     "execution_count": 165,
     "metadata": {},
     "output_type": "execute_result"
    }
   ],
   "source": [
    "R = Max - Min\n",
    "R"
   ]
  },
  {
   "cell_type": "code",
   "execution_count": 166,
   "metadata": {},
   "outputs": [
    {
     "data": {
      "text/plain": [
       "13.96203867424906"
      ]
     },
     "execution_count": 166,
     "metadata": {},
     "output_type": "execute_result"
    }
   ],
   "source": [
    "ni = 1+3.32*np.log10(n)\n",
    "ni"
   ]
  },
  {
   "cell_type": "code",
   "execution_count": 167,
   "metadata": {},
   "outputs": [
    {
     "data": {
      "text/plain": [
       "0.33734328559674504"
      ]
     },
     "execution_count": 167,
     "metadata": {},
     "output_type": "execute_result"
    }
   ],
   "source": [
    "i = R/ni\n",
    "i"
   ]
  },
  {
   "cell_type": "code",
   "execution_count": 168,
   "metadata": {},
   "outputs": [
    {
     "data": {
      "text/plain": [
       "array([0.01      , 0.25230769, 0.49461538, 0.73692308, 0.97923077,\n",
       "       1.22153846, 1.46384615, 1.70615385, 1.94846154, 2.19076923,\n",
       "       2.43307692, 2.67538462, 2.91769231, 3.16      ])"
      ]
     },
     "execution_count": 168,
     "metadata": {},
     "output_type": "execute_result"
    }
   ],
   "source": [
    "# Ver resultado\n",
    "intervalos = np.linspace(0.01, 3.16, 14) #Número de clases más uno\n",
    "intervalos"
   ]
  },
  {
   "cell_type": "code",
   "execution_count": 169,
   "metadata": {},
   "outputs": [],
   "source": [
    "\n",
    "categorias = [\"Categoría1\", \"Categoría2\", \"Categoría3\", \"Categoría4\",\n",
    "              \"Categoría5\", \"Categoría6\", \"Categoría7\", \"Categoría8\",\n",
    "              \"Categoría9\",\"Categoría10\",\"Categoría11\",\"Categoría12\",\n",
    "              \"Categoria13\"]"
   ]
  },
  {
   "cell_type": "code",
   "execution_count": 170,
   "metadata": {},
   "outputs": [
    {
     "data": {
      "text/plain": [
       "0        Categoría7\n",
       "1        Categoría2\n",
       "2        Categoría2\n",
       "3        Categoría4\n",
       "4        Categoría1\n",
       "            ...    \n",
       "26577    Categoría7\n",
       "26578    Categoría7\n",
       "26579    Categoría7\n",
       "26580    Categoría7\n",
       "26581    Categoría7\n",
       "Name: reviews_per_month, Length: 26582, dtype: category\n",
       "Categories (13, object): ['Categoría1' < 'Categoría2' < 'Categoría3' < 'Categoría4' ... 'Categoría10' < 'Categoría11' < 'Categoría12' < 'Categoria13']"
      ]
     },
     "execution_count": 170,
     "metadata": {},
     "output_type": "execute_result"
    }
   ],
   "source": [
    "Micro_Retailer_1['reviews_per_month'] = pd.cut(x = Micro_Retailer_1['reviews_per_month'], bins = intervalos, labels = categorias)\n",
    "Micro_Retailer_1['reviews_per_month']"
   ]
  },
  {
   "cell_type": "code",
   "execution_count": 171,
   "metadata": {},
   "outputs": [
    {
     "data": {
      "text/html": [
       "<div>\n",
       "<style scoped>\n",
       "    .dataframe tbody tr th:only-of-type {\n",
       "        vertical-align: middle;\n",
       "    }\n",
       "\n",
       "    .dataframe tbody tr th {\n",
       "        vertical-align: top;\n",
       "    }\n",
       "\n",
       "    .dataframe thead th {\n",
       "        text-align: right;\n",
       "    }\n",
       "</style>\n",
       "<table border=\"1\" class=\"dataframe\">\n",
       "  <thead>\n",
       "    <tr style=\"text-align: right;\">\n",
       "      <th></th>\n",
       "      <th>reviews_per_month</th>\n",
       "      <th>frequency</th>\n",
       "      <th>percentage</th>\n",
       "      <th>cumulative_perc</th>\n",
       "    </tr>\n",
       "  </thead>\n",
       "  <tbody>\n",
       "    <tr>\n",
       "      <th>0</th>\n",
       "      <td>Categoría7</td>\n",
       "      <td>6169</td>\n",
       "      <td>0.232074</td>\n",
       "      <td>0.255107</td>\n",
       "    </tr>\n",
       "    <tr>\n",
       "      <th>1</th>\n",
       "      <td>Categoría1</td>\n",
       "      <td>3788</td>\n",
       "      <td>0.142502</td>\n",
       "      <td>0.411753</td>\n",
       "    </tr>\n",
       "    <tr>\n",
       "      <th>2</th>\n",
       "      <td>Categoría2</td>\n",
       "      <td>2572</td>\n",
       "      <td>0.096757</td>\n",
       "      <td>0.518113</td>\n",
       "    </tr>\n",
       "    <tr>\n",
       "      <th>3</th>\n",
       "      <td>Categoría3</td>\n",
       "      <td>2012</td>\n",
       "      <td>0.075690</td>\n",
       "      <td>0.601315</td>\n",
       "    </tr>\n",
       "    <tr>\n",
       "      <th>4</th>\n",
       "      <td>Categoría5</td>\n",
       "      <td>1757</td>\n",
       "      <td>0.066097</td>\n",
       "      <td>0.673972</td>\n",
       "    </tr>\n",
       "    <tr>\n",
       "      <th>5</th>\n",
       "      <td>Categoría4</td>\n",
       "      <td>1634</td>\n",
       "      <td>0.061470</td>\n",
       "      <td>0.741543</td>\n",
       "    </tr>\n",
       "    <tr>\n",
       "      <th>6</th>\n",
       "      <td>Categoría6</td>\n",
       "      <td>1297</td>\n",
       "      <td>0.048792</td>\n",
       "      <td>0.795178</td>\n",
       "    </tr>\n",
       "    <tr>\n",
       "      <th>7</th>\n",
       "      <td>Categoría9</td>\n",
       "      <td>1062</td>\n",
       "      <td>0.039952</td>\n",
       "      <td>0.839095</td>\n",
       "    </tr>\n",
       "    <tr>\n",
       "      <th>8</th>\n",
       "      <td>Categoría8</td>\n",
       "      <td>999</td>\n",
       "      <td>0.037582</td>\n",
       "      <td>0.880407</td>\n",
       "    </tr>\n",
       "    <tr>\n",
       "      <th>9</th>\n",
       "      <td>Categoría10</td>\n",
       "      <td>817</td>\n",
       "      <td>0.030735</td>\n",
       "      <td>0.914192</td>\n",
       "    </tr>\n",
       "    <tr>\n",
       "      <th>10</th>\n",
       "      <td>Categoría11</td>\n",
       "      <td>736</td>\n",
       "      <td>0.027688</td>\n",
       "      <td>0.944628</td>\n",
       "    </tr>\n",
       "    <tr>\n",
       "      <th>11</th>\n",
       "      <td>Categoría12</td>\n",
       "      <td>698</td>\n",
       "      <td>0.026258</td>\n",
       "      <td>0.973493</td>\n",
       "    </tr>\n",
       "    <tr>\n",
       "      <th>12</th>\n",
       "      <td>Categoria13</td>\n",
       "      <td>641</td>\n",
       "      <td>0.024114</td>\n",
       "      <td>1.000000</td>\n",
       "    </tr>\n",
       "  </tbody>\n",
       "</table>\n",
       "</div>"
      ],
      "text/plain": [
       "   reviews_per_month  frequency  percentage  cumulative_perc\n",
       "0         Categoría7       6169    0.232074         0.255107\n",
       "1         Categoría1       3788    0.142502         0.411753\n",
       "2         Categoría2       2572    0.096757         0.518113\n",
       "3         Categoría3       2012    0.075690         0.601315\n",
       "4         Categoría5       1757    0.066097         0.673972\n",
       "5         Categoría4       1634    0.061470         0.741543\n",
       "6         Categoría6       1297    0.048792         0.795178\n",
       "7         Categoría9       1062    0.039952         0.839095\n",
       "8         Categoría8        999    0.037582         0.880407\n",
       "9        Categoría10        817    0.030735         0.914192\n",
       "10       Categoría11        736    0.027688         0.944628\n",
       "11       Categoría12        698    0.026258         0.973493\n",
       "12       Categoria13        641    0.024114         1.000000"
      ]
     },
     "execution_count": 171,
     "metadata": {},
     "output_type": "execute_result"
    }
   ],
   "source": [
    "#Obtengo un análisis univariado de una variable categórica en específico  \n",
    "table25 = freq_tbl(Micro_Retailer_1['reviews_per_month'])\n",
    "table25"
   ]
  },
  {
   "cell_type": "code",
   "execution_count": 172,
   "metadata": {},
   "outputs": [
    {
     "data": {
      "text/html": [
       "<div>\n",
       "<style scoped>\n",
       "    .dataframe tbody tr th:only-of-type {\n",
       "        vertical-align: middle;\n",
       "    }\n",
       "\n",
       "    .dataframe tbody tr th {\n",
       "        vertical-align: top;\n",
       "    }\n",
       "\n",
       "    .dataframe thead th {\n",
       "        text-align: right;\n",
       "    }\n",
       "</style>\n",
       "<table border=\"1\" class=\"dataframe\">\n",
       "  <thead>\n",
       "    <tr style=\"text-align: right;\">\n",
       "      <th></th>\n",
       "      <th>reviews_per_month</th>\n",
       "      <th>frequency</th>\n",
       "    </tr>\n",
       "  </thead>\n",
       "  <tbody>\n",
       "    <tr>\n",
       "      <th>0</th>\n",
       "      <td>Categoría7</td>\n",
       "      <td>6169</td>\n",
       "    </tr>\n",
       "    <tr>\n",
       "      <th>1</th>\n",
       "      <td>Categoría1</td>\n",
       "      <td>3788</td>\n",
       "    </tr>\n",
       "    <tr>\n",
       "      <th>2</th>\n",
       "      <td>Categoría2</td>\n",
       "      <td>2572</td>\n",
       "    </tr>\n",
       "    <tr>\n",
       "      <th>3</th>\n",
       "      <td>Categoría3</td>\n",
       "      <td>2012</td>\n",
       "    </tr>\n",
       "    <tr>\n",
       "      <th>4</th>\n",
       "      <td>Categoría5</td>\n",
       "      <td>1757</td>\n",
       "    </tr>\n",
       "    <tr>\n",
       "      <th>5</th>\n",
       "      <td>Categoría4</td>\n",
       "      <td>1634</td>\n",
       "    </tr>\n",
       "    <tr>\n",
       "      <th>6</th>\n",
       "      <td>Categoría6</td>\n",
       "      <td>1297</td>\n",
       "    </tr>\n",
       "    <tr>\n",
       "      <th>7</th>\n",
       "      <td>Categoría9</td>\n",
       "      <td>1062</td>\n",
       "    </tr>\n",
       "    <tr>\n",
       "      <th>8</th>\n",
       "      <td>Categoría8</td>\n",
       "      <td>999</td>\n",
       "    </tr>\n",
       "    <tr>\n",
       "      <th>9</th>\n",
       "      <td>Categoría10</td>\n",
       "      <td>817</td>\n",
       "    </tr>\n",
       "    <tr>\n",
       "      <th>10</th>\n",
       "      <td>Categoría11</td>\n",
       "      <td>736</td>\n",
       "    </tr>\n",
       "    <tr>\n",
       "      <th>11</th>\n",
       "      <td>Categoría12</td>\n",
       "      <td>698</td>\n",
       "    </tr>\n",
       "    <tr>\n",
       "      <th>12</th>\n",
       "      <td>Categoria13</td>\n",
       "      <td>641</td>\n",
       "    </tr>\n",
       "  </tbody>\n",
       "</table>\n",
       "</div>"
      ],
      "text/plain": [
       "   reviews_per_month  frequency\n",
       "0         Categoría7       6169\n",
       "1         Categoría1       3788\n",
       "2         Categoría2       2572\n",
       "3         Categoría3       2012\n",
       "4         Categoría5       1757\n",
       "5         Categoría4       1634\n",
       "6         Categoría6       1297\n",
       "7         Categoría9       1062\n",
       "8         Categoría8        999\n",
       "9        Categoría10        817\n",
       "10       Categoría11        736\n",
       "11       Categoría12        698\n",
       "12       Categoria13        641"
      ]
     },
     "execution_count": 172,
     "metadata": {},
     "output_type": "execute_result"
    }
   ],
   "source": [
    "#Elimino las columnas \"procentage\" y \"cumulative_perc\" para trabajar con las fecuencias\n",
    "table26 = table25.drop(['percentage', 'cumulative_perc'], axis=1)\n",
    "table26"
   ]
  },
  {
   "cell_type": "code",
   "execution_count": 173,
   "metadata": {},
   "outputs": [
    {
     "data": {
      "text/html": [
       "<div>\n",
       "<style scoped>\n",
       "    .dataframe tbody tr th:only-of-type {\n",
       "        vertical-align: middle;\n",
       "    }\n",
       "\n",
       "    .dataframe tbody tr th {\n",
       "        vertical-align: top;\n",
       "    }\n",
       "\n",
       "    .dataframe thead th {\n",
       "        text-align: right;\n",
       "    }\n",
       "</style>\n",
       "<table border=\"1\" class=\"dataframe\">\n",
       "  <thead>\n",
       "    <tr style=\"text-align: right;\">\n",
       "      <th></th>\n",
       "      <th>reviews_per_month</th>\n",
       "      <th>frequency</th>\n",
       "    </tr>\n",
       "  </thead>\n",
       "  <tbody>\n",
       "    <tr>\n",
       "      <th>0</th>\n",
       "      <td>Categoría7</td>\n",
       "      <td>6169</td>\n",
       "    </tr>\n",
       "    <tr>\n",
       "      <th>1</th>\n",
       "      <td>Categoría1</td>\n",
       "      <td>3788</td>\n",
       "    </tr>\n",
       "    <tr>\n",
       "      <th>2</th>\n",
       "      <td>Categoría2</td>\n",
       "      <td>2572</td>\n",
       "    </tr>\n",
       "    <tr>\n",
       "      <th>3</th>\n",
       "      <td>Categoría3</td>\n",
       "      <td>2012</td>\n",
       "    </tr>\n",
       "    <tr>\n",
       "      <th>4</th>\n",
       "      <td>Categoría5</td>\n",
       "      <td>1757</td>\n",
       "    </tr>\n",
       "    <tr>\n",
       "      <th>5</th>\n",
       "      <td>Categoría4</td>\n",
       "      <td>1634</td>\n",
       "    </tr>\n",
       "    <tr>\n",
       "      <th>6</th>\n",
       "      <td>Categoría6</td>\n",
       "      <td>1297</td>\n",
       "    </tr>\n",
       "    <tr>\n",
       "      <th>7</th>\n",
       "      <td>Categoría9</td>\n",
       "      <td>1062</td>\n",
       "    </tr>\n",
       "    <tr>\n",
       "      <th>8</th>\n",
       "      <td>Categoría8</td>\n",
       "      <td>999</td>\n",
       "    </tr>\n",
       "    <tr>\n",
       "      <th>9</th>\n",
       "      <td>Categoría10</td>\n",
       "      <td>817</td>\n",
       "    </tr>\n",
       "    <tr>\n",
       "      <th>10</th>\n",
       "      <td>Categoría11</td>\n",
       "      <td>736</td>\n",
       "    </tr>\n",
       "    <tr>\n",
       "      <th>11</th>\n",
       "      <td>Categoría12</td>\n",
       "      <td>698</td>\n",
       "    </tr>\n",
       "    <tr>\n",
       "      <th>12</th>\n",
       "      <td>Categoria13</td>\n",
       "      <td>641</td>\n",
       "    </tr>\n",
       "  </tbody>\n",
       "</table>\n",
       "</div>"
      ],
      "text/plain": [
       "   reviews_per_month  frequency\n",
       "0         Categoría7       6169\n",
       "1         Categoría1       3788\n",
       "2         Categoría2       2572\n",
       "3         Categoría3       2012\n",
       "4         Categoría5       1757\n",
       "5         Categoría4       1634\n",
       "6         Categoría6       1297\n",
       "7         Categoría9       1062\n",
       "8         Categoría8        999\n",
       "9        Categoría10        817\n",
       "10       Categoría11        736\n",
       "11       Categoría12        698\n",
       "12       Categoria13        641"
      ]
     },
     "execution_count": 173,
     "metadata": {},
     "output_type": "execute_result"
    }
   ],
   "source": [
    "filtro12 = table26[table26['frequency'] > 100]\n",
    "filtro12"
   ]
  },
  {
   "cell_type": "code",
   "execution_count": 174,
   "metadata": {},
   "outputs": [
    {
     "data": {
      "text/html": [
       "<div>\n",
       "<style scoped>\n",
       "    .dataframe tbody tr th:only-of-type {\n",
       "        vertical-align: middle;\n",
       "    }\n",
       "\n",
       "    .dataframe tbody tr th {\n",
       "        vertical-align: top;\n",
       "    }\n",
       "\n",
       "    .dataframe thead th {\n",
       "        text-align: right;\n",
       "    }\n",
       "</style>\n",
       "<table border=\"1\" class=\"dataframe\">\n",
       "  <thead>\n",
       "    <tr style=\"text-align: right;\">\n",
       "      <th></th>\n",
       "      <th>frequency</th>\n",
       "    </tr>\n",
       "    <tr>\n",
       "      <th>reviews_per_month</th>\n",
       "      <th></th>\n",
       "    </tr>\n",
       "  </thead>\n",
       "  <tbody>\n",
       "    <tr>\n",
       "      <th>Categoría7</th>\n",
       "      <td>6169</td>\n",
       "    </tr>\n",
       "    <tr>\n",
       "      <th>Categoría1</th>\n",
       "      <td>3788</td>\n",
       "    </tr>\n",
       "    <tr>\n",
       "      <th>Categoría2</th>\n",
       "      <td>2572</td>\n",
       "    </tr>\n",
       "    <tr>\n",
       "      <th>Categoría3</th>\n",
       "      <td>2012</td>\n",
       "    </tr>\n",
       "    <tr>\n",
       "      <th>Categoría5</th>\n",
       "      <td>1757</td>\n",
       "    </tr>\n",
       "    <tr>\n",
       "      <th>Categoría4</th>\n",
       "      <td>1634</td>\n",
       "    </tr>\n",
       "    <tr>\n",
       "      <th>Categoría6</th>\n",
       "      <td>1297</td>\n",
       "    </tr>\n",
       "    <tr>\n",
       "      <th>Categoría9</th>\n",
       "      <td>1062</td>\n",
       "    </tr>\n",
       "    <tr>\n",
       "      <th>Categoría8</th>\n",
       "      <td>999</td>\n",
       "    </tr>\n",
       "    <tr>\n",
       "      <th>Categoría10</th>\n",
       "      <td>817</td>\n",
       "    </tr>\n",
       "    <tr>\n",
       "      <th>Categoría11</th>\n",
       "      <td>736</td>\n",
       "    </tr>\n",
       "    <tr>\n",
       "      <th>Categoría12</th>\n",
       "      <td>698</td>\n",
       "    </tr>\n",
       "    <tr>\n",
       "      <th>Categoria13</th>\n",
       "      <td>641</td>\n",
       "    </tr>\n",
       "  </tbody>\n",
       "</table>\n",
       "</div>"
      ],
      "text/plain": [
       "                   frequency\n",
       "reviews_per_month           \n",
       "Categoría7              6169\n",
       "Categoría1              3788\n",
       "Categoría2              2572\n",
       "Categoría3              2012\n",
       "Categoría5              1757\n",
       "Categoría4              1634\n",
       "Categoría6              1297\n",
       "Categoría9              1062\n",
       "Categoría8               999\n",
       "Categoría10              817\n",
       "Categoría11              736\n",
       "Categoría12              698\n",
       "Categoria13              641"
      ]
     },
     "execution_count": 174,
     "metadata": {},
     "output_type": "execute_result"
    }
   ],
   "source": [
    "#Ajusto el indice de mi DataFrame\n",
    "Filtro_index = filtro12.set_index('reviews_per_month')\n",
    "Filtro_index"
   ]
  },
  {
   "cell_type": "code",
   "execution_count": 175,
   "metadata": {},
   "outputs": [
    {
     "data": {
      "text/plain": [
       "<Axes: xlabel='reviews_per_month'>"
      ]
     },
     "execution_count": 175,
     "metadata": {},
     "output_type": "execute_result"
    },
    {
     "data": {
      "image/png": "[encoded data removed]",
      "text/plain": [
       "<Figure size 1000x400 with 1 Axes>"
      ]
     },
     "metadata": {},
     "output_type": "display_data"
    }
   ],
   "source": [
    "#Realizamos grafico de área del dataframe filtrado\n",
    "Filtro_index.plot(kind='area', figsize=(10,4), alpha = 0.5)"
   ]
  },
  {
   "cell_type": "code",
   "execution_count": 176,
   "metadata": {},
   "outputs": [
    {
     "name": "stdout",
     "output_type": "stream",
     "text": [
      "<class 'pandas.core.series.Series'>\n",
      "RangeIndex: 26582 entries, 0 to 26581\n",
      "Series name: review_scores_communication\n",
      "Non-Null Count  Dtype  \n",
      "--------------  -----  \n",
      "26582 non-null  float64\n",
      "dtypes: float64(1)\n",
      "memory usage: 207.8 KB\n"
     ]
    }
   ],
   "source": [
    "Micro_Retailer_1['review_scores_communication'].info()\n",
    "n = 8021"
   ]
  },
  {
   "cell_type": "code",
   "execution_count": 177,
   "metadata": {},
   "outputs": [
    {
     "data": {
      "text/plain": [
       "[4.5, 5.0]"
      ]
     },
     "execution_count": 177,
     "metadata": {},
     "output_type": "execute_result"
    }
   ],
   "source": [
    "Min = Micro_Retailer_1['review_scores_communication'].min()  \n",
    "Max = Micro_Retailer_1['review_scores_communication'].max()  \n",
    "Limites = [Min,Max]\n",
    "Limites"
   ]
  },
  {
   "cell_type": "code",
   "execution_count": 178,
   "metadata": {},
   "outputs": [
    {
     "data": {
      "text/plain": [
       "0.5"
      ]
     },
     "execution_count": 178,
     "metadata": {},
     "output_type": "execute_result"
    }
   ],
   "source": [
    "R = Max - Min\n",
    "R"
   ]
  },
  {
   "cell_type": "code",
   "execution_count": 179,
   "metadata": {},
   "outputs": [
    {
     "data": {
      "text/plain": [
       "13.96203867424906"
      ]
     },
     "execution_count": 179,
     "metadata": {},
     "output_type": "execute_result"
    }
   ],
   "source": [
    "ni = 1+3.32*np.log10(n)\n",
    "ni"
   ]
  },
  {
   "cell_type": "code",
   "execution_count": 180,
   "metadata": {},
   "outputs": [
    {
     "data": {
      "text/plain": [
       "0.03581138912916614"
      ]
     },
     "execution_count": 180,
     "metadata": {},
     "output_type": "execute_result"
    }
   ],
   "source": [
    "i = R/ni\n",
    "i"
   ]
  },
  {
   "cell_type": "code",
   "execution_count": 181,
   "metadata": {},
   "outputs": [
    {
     "data": {
      "text/plain": [
       "array([4.76      , 4.77846154, 4.79692308, 4.81538462, 4.83384615,\n",
       "       4.85230769, 4.87076923, 4.88923077, 4.90769231, 4.92615385,\n",
       "       4.94461538, 4.96307692, 4.98153846, 5.        ])"
      ]
     },
     "execution_count": 181,
     "metadata": {},
     "output_type": "execute_result"
    }
   ],
   "source": [
    "# Ver resultado\n",
    "intervalos = np.linspace(4.76, 5.0, 14) #Número de clases más uno\n",
    "intervalos"
   ]
  },
  {
   "cell_type": "code",
   "execution_count": 182,
   "metadata": {},
   "outputs": [],
   "source": [
    "categorias = [\"Categoría1\", \"Categoría2\", \"Categoría3\", \"Categoría4\",\n",
    "              \"Categoría5\", \"Categoría6\", \"Categoría7\", \"Categoría8\",\n",
    "              \"Categoría9\",\"Categoría10\",\"Categoría11\",\"Categoría12\",\n",
    "              \"Categoria13\"]"
   ]
  },
  {
   "cell_type": "code",
   "execution_count": 183,
   "metadata": {},
   "outputs": [
    {
     "data": {
      "text/plain": [
       "0         Categoría3\n",
       "1         Categoría2\n",
       "2         Categoría9\n",
       "3        Categoría12\n",
       "4                NaN\n",
       "            ...     \n",
       "26577     Categoría3\n",
       "26578     Categoría3\n",
       "26579     Categoría3\n",
       "26580     Categoría3\n",
       "26581     Categoría3\n",
       "Name: review_scores_communication, Length: 26582, dtype: category\n",
       "Categories (13, object): ['Categoría1' < 'Categoría2' < 'Categoría3' < 'Categoría4' ... 'Categoría10' < 'Categoría11' < 'Categoría12' < 'Categoria13']"
      ]
     },
     "execution_count": 183,
     "metadata": {},
     "output_type": "execute_result"
    }
   ],
   "source": [
    "Micro_Retailer_1['review_scores_communication'] = pd.cut(x =    Micro_Retailer_1['review_scores_communication'], bins = intervalos, labels = categorias)\n",
    "Micro_Retailer_1['review_scores_communication']"
   ]
  },
  {
   "cell_type": "code",
   "execution_count": 184,
   "metadata": {},
   "outputs": [
    {
     "data": {
      "text/html": [
       "<div>\n",
       "<style scoped>\n",
       "    .dataframe tbody tr th:only-of-type {\n",
       "        vertical-align: middle;\n",
       "    }\n",
       "\n",
       "    .dataframe tbody tr th {\n",
       "        vertical-align: top;\n",
       "    }\n",
       "\n",
       "    .dataframe thead th {\n",
       "        text-align: right;\n",
       "    }\n",
       "</style>\n",
       "<table border=\"1\" class=\"dataframe\">\n",
       "  <thead>\n",
       "    <tr style=\"text-align: right;\">\n",
       "      <th></th>\n",
       "      <th>review_scores_communication</th>\n",
       "      <th>frequency</th>\n",
       "      <th>percentage</th>\n",
       "      <th>cumulative_perc</th>\n",
       "    </tr>\n",
       "  </thead>\n",
       "  <tbody>\n",
       "    <tr>\n",
       "      <th>0</th>\n",
       "      <td>Categoria13</td>\n",
       "      <td>7471</td>\n",
       "      <td>0.281055</td>\n",
       "      <td>0.318050</td>\n",
       "    </tr>\n",
       "    <tr>\n",
       "      <th>1</th>\n",
       "      <td>Categoría3</td>\n",
       "      <td>4339</td>\n",
       "      <td>0.163231</td>\n",
       "      <td>0.502767</td>\n",
       "    </tr>\n",
       "    <tr>\n",
       "      <th>2</th>\n",
       "      <td>Categoría8</td>\n",
       "      <td>2637</td>\n",
       "      <td>0.099202</td>\n",
       "      <td>0.615028</td>\n",
       "    </tr>\n",
       "    <tr>\n",
       "      <th>3</th>\n",
       "      <td>Categoría11</td>\n",
       "      <td>1417</td>\n",
       "      <td>0.053307</td>\n",
       "      <td>0.675351</td>\n",
       "    </tr>\n",
       "    <tr>\n",
       "      <th>4</th>\n",
       "      <td>Categoría10</td>\n",
       "      <td>1387</td>\n",
       "      <td>0.052178</td>\n",
       "      <td>0.734398</td>\n",
       "    </tr>\n",
       "    <tr>\n",
       "      <th>5</th>\n",
       "      <td>Categoría12</td>\n",
       "      <td>1318</td>\n",
       "      <td>0.049582</td>\n",
       "      <td>0.790507</td>\n",
       "    </tr>\n",
       "    <tr>\n",
       "      <th>6</th>\n",
       "      <td>Categoría9</td>\n",
       "      <td>1283</td>\n",
       "      <td>0.048266</td>\n",
       "      <td>0.845126</td>\n",
       "    </tr>\n",
       "    <tr>\n",
       "      <th>7</th>\n",
       "      <td>Categoría6</td>\n",
       "      <td>866</td>\n",
       "      <td>0.032578</td>\n",
       "      <td>0.881992</td>\n",
       "    </tr>\n",
       "    <tr>\n",
       "      <th>8</th>\n",
       "      <td>Categoría4</td>\n",
       "      <td>787</td>\n",
       "      <td>0.029607</td>\n",
       "      <td>0.915496</td>\n",
       "    </tr>\n",
       "    <tr>\n",
       "      <th>9</th>\n",
       "      <td>Categoría7</td>\n",
       "      <td>654</td>\n",
       "      <td>0.024603</td>\n",
       "      <td>0.943338</td>\n",
       "    </tr>\n",
       "    <tr>\n",
       "      <th>10</th>\n",
       "      <td>Categoría5</td>\n",
       "      <td>649</td>\n",
       "      <td>0.024415</td>\n",
       "      <td>0.970966</td>\n",
       "    </tr>\n",
       "    <tr>\n",
       "      <th>11</th>\n",
       "      <td>Categoría2</td>\n",
       "      <td>499</td>\n",
       "      <td>0.018772</td>\n",
       "      <td>0.992209</td>\n",
       "    </tr>\n",
       "    <tr>\n",
       "      <th>12</th>\n",
       "      <td>Categoría1</td>\n",
       "      <td>183</td>\n",
       "      <td>0.006884</td>\n",
       "      <td>1.000000</td>\n",
       "    </tr>\n",
       "  </tbody>\n",
       "</table>\n",
       "</div>"
      ],
      "text/plain": [
       "   review_scores_communication  frequency  percentage  cumulative_perc\n",
       "0                  Categoria13       7471    0.281055         0.318050\n",
       "1                   Categoría3       4339    0.163231         0.502767\n",
       "2                   Categoría8       2637    0.099202         0.615028\n",
       "3                  Categoría11       1417    0.053307         0.675351\n",
       "4                  Categoría10       1387    0.052178         0.734398\n",
       "5                  Categoría12       1318    0.049582         0.790507\n",
       "6                   Categoría9       1283    0.048266         0.845126\n",
       "7                   Categoría6        866    0.032578         0.881992\n",
       "8                   Categoría4        787    0.029607         0.915496\n",
       "9                   Categoría7        654    0.024603         0.943338\n",
       "10                  Categoría5        649    0.024415         0.970966\n",
       "11                  Categoría2        499    0.018772         0.992209\n",
       "12                  Categoría1        183    0.006884         1.000000"
      ]
     },
     "execution_count": 184,
     "metadata": {},
     "output_type": "execute_result"
    }
   ],
   "source": [
    "#Obtengo un análisis univariado de una variable categórica en específico  \n",
    "table27 = freq_tbl(Micro_Retailer_1['review_scores_communication'])\n",
    "table27"
   ]
  },
  {
   "cell_type": "code",
   "execution_count": 185,
   "metadata": {},
   "outputs": [
    {
     "data": {
      "text/html": [
       "<div>\n",
       "<style scoped>\n",
       "    .dataframe tbody tr th:only-of-type {\n",
       "        vertical-align: middle;\n",
       "    }\n",
       "\n",
       "    .dataframe tbody tr th {\n",
       "        vertical-align: top;\n",
       "    }\n",
       "\n",
       "    .dataframe thead th {\n",
       "        text-align: right;\n",
       "    }\n",
       "</style>\n",
       "<table border=\"1\" class=\"dataframe\">\n",
       "  <thead>\n",
       "    <tr style=\"text-align: right;\">\n",
       "      <th></th>\n",
       "      <th>review_scores_communication</th>\n",
       "      <th>frequency</th>\n",
       "    </tr>\n",
       "  </thead>\n",
       "  <tbody>\n",
       "    <tr>\n",
       "      <th>0</th>\n",
       "      <td>Categoria13</td>\n",
       "      <td>7471</td>\n",
       "    </tr>\n",
       "    <tr>\n",
       "      <th>1</th>\n",
       "      <td>Categoría3</td>\n",
       "      <td>4339</td>\n",
       "    </tr>\n",
       "    <tr>\n",
       "      <th>2</th>\n",
       "      <td>Categoría8</td>\n",
       "      <td>2637</td>\n",
       "    </tr>\n",
       "    <tr>\n",
       "      <th>3</th>\n",
       "      <td>Categoría11</td>\n",
       "      <td>1417</td>\n",
       "    </tr>\n",
       "    <tr>\n",
       "      <th>4</th>\n",
       "      <td>Categoría10</td>\n",
       "      <td>1387</td>\n",
       "    </tr>\n",
       "    <tr>\n",
       "      <th>5</th>\n",
       "      <td>Categoría12</td>\n",
       "      <td>1318</td>\n",
       "    </tr>\n",
       "    <tr>\n",
       "      <th>6</th>\n",
       "      <td>Categoría9</td>\n",
       "      <td>1283</td>\n",
       "    </tr>\n",
       "    <tr>\n",
       "      <th>7</th>\n",
       "      <td>Categoría6</td>\n",
       "      <td>866</td>\n",
       "    </tr>\n",
       "    <tr>\n",
       "      <th>8</th>\n",
       "      <td>Categoría4</td>\n",
       "      <td>787</td>\n",
       "    </tr>\n",
       "    <tr>\n",
       "      <th>9</th>\n",
       "      <td>Categoría7</td>\n",
       "      <td>654</td>\n",
       "    </tr>\n",
       "    <tr>\n",
       "      <th>10</th>\n",
       "      <td>Categoría5</td>\n",
       "      <td>649</td>\n",
       "    </tr>\n",
       "    <tr>\n",
       "      <th>11</th>\n",
       "      <td>Categoría2</td>\n",
       "      <td>499</td>\n",
       "    </tr>\n",
       "    <tr>\n",
       "      <th>12</th>\n",
       "      <td>Categoría1</td>\n",
       "      <td>183</td>\n",
       "    </tr>\n",
       "  </tbody>\n",
       "</table>\n",
       "</div>"
      ],
      "text/plain": [
       "   review_scores_communication  frequency\n",
       "0                  Categoria13       7471\n",
       "1                   Categoría3       4339\n",
       "2                   Categoría8       2637\n",
       "3                  Categoría11       1417\n",
       "4                  Categoría10       1387\n",
       "5                  Categoría12       1318\n",
       "6                   Categoría9       1283\n",
       "7                   Categoría6        866\n",
       "8                   Categoría4        787\n",
       "9                   Categoría7        654\n",
       "10                  Categoría5        649\n",
       "11                  Categoría2        499\n",
       "12                  Categoría1        183"
      ]
     },
     "execution_count": 185,
     "metadata": {},
     "output_type": "execute_result"
    }
   ],
   "source": [
    "#Elimino las columnas \"procentage\" y \"cumulative_perc\" para trabajar con las fecuencias\n",
    "table28 = table27.drop(['percentage', 'cumulative_perc'], axis=1)\n",
    "table28"
   ]
  },
  {
   "cell_type": "code",
   "execution_count": 186,
   "metadata": {},
   "outputs": [
    {
     "data": {
      "text/html": [
       "<div>\n",
       "<style scoped>\n",
       "    .dataframe tbody tr th:only-of-type {\n",
       "        vertical-align: middle;\n",
       "    }\n",
       "\n",
       "    .dataframe tbody tr th {\n",
       "        vertical-align: top;\n",
       "    }\n",
       "\n",
       "    .dataframe thead th {\n",
       "        text-align: right;\n",
       "    }\n",
       "</style>\n",
       "<table border=\"1\" class=\"dataframe\">\n",
       "  <thead>\n",
       "    <tr style=\"text-align: right;\">\n",
       "      <th></th>\n",
       "      <th>review_scores_communication</th>\n",
       "      <th>frequency</th>\n",
       "    </tr>\n",
       "  </thead>\n",
       "  <tbody>\n",
       "    <tr>\n",
       "      <th>0</th>\n",
       "      <td>Categoria13</td>\n",
       "      <td>7471</td>\n",
       "    </tr>\n",
       "    <tr>\n",
       "      <th>1</th>\n",
       "      <td>Categoría3</td>\n",
       "      <td>4339</td>\n",
       "    </tr>\n",
       "    <tr>\n",
       "      <th>2</th>\n",
       "      <td>Categoría8</td>\n",
       "      <td>2637</td>\n",
       "    </tr>\n",
       "    <tr>\n",
       "      <th>3</th>\n",
       "      <td>Categoría11</td>\n",
       "      <td>1417</td>\n",
       "    </tr>\n",
       "    <tr>\n",
       "      <th>4</th>\n",
       "      <td>Categoría10</td>\n",
       "      <td>1387</td>\n",
       "    </tr>\n",
       "    <tr>\n",
       "      <th>5</th>\n",
       "      <td>Categoría12</td>\n",
       "      <td>1318</td>\n",
       "    </tr>\n",
       "    <tr>\n",
       "      <th>6</th>\n",
       "      <td>Categoría9</td>\n",
       "      <td>1283</td>\n",
       "    </tr>\n",
       "    <tr>\n",
       "      <th>7</th>\n",
       "      <td>Categoría6</td>\n",
       "      <td>866</td>\n",
       "    </tr>\n",
       "    <tr>\n",
       "      <th>8</th>\n",
       "      <td>Categoría4</td>\n",
       "      <td>787</td>\n",
       "    </tr>\n",
       "    <tr>\n",
       "      <th>9</th>\n",
       "      <td>Categoría7</td>\n",
       "      <td>654</td>\n",
       "    </tr>\n",
       "    <tr>\n",
       "      <th>10</th>\n",
       "      <td>Categoría5</td>\n",
       "      <td>649</td>\n",
       "    </tr>\n",
       "    <tr>\n",
       "      <th>11</th>\n",
       "      <td>Categoría2</td>\n",
       "      <td>499</td>\n",
       "    </tr>\n",
       "    <tr>\n",
       "      <th>12</th>\n",
       "      <td>Categoría1</td>\n",
       "      <td>183</td>\n",
       "    </tr>\n",
       "  </tbody>\n",
       "</table>\n",
       "</div>"
      ],
      "text/plain": [
       "   review_scores_communication  frequency\n",
       "0                  Categoria13       7471\n",
       "1                   Categoría3       4339\n",
       "2                   Categoría8       2637\n",
       "3                  Categoría11       1417\n",
       "4                  Categoría10       1387\n",
       "5                  Categoría12       1318\n",
       "6                   Categoría9       1283\n",
       "7                   Categoría6        866\n",
       "8                   Categoría4        787\n",
       "9                   Categoría7        654\n",
       "10                  Categoría5        649\n",
       "11                  Categoría2        499\n",
       "12                  Categoría1        183"
      ]
     },
     "execution_count": 186,
     "metadata": {},
     "output_type": "execute_result"
    }
   ],
   "source": [
    "filtro13 = table28[table28['frequency'] > 100]\n",
    "filtro13"
   ]
  },
  {
   "cell_type": "code",
   "execution_count": 187,
   "metadata": {},
   "outputs": [
    {
     "data": {
      "text/html": [
       "<div>\n",
       "<style scoped>\n",
       "    .dataframe tbody tr th:only-of-type {\n",
       "        vertical-align: middle;\n",
       "    }\n",
       "\n",
       "    .dataframe tbody tr th {\n",
       "        vertical-align: top;\n",
       "    }\n",
       "\n",
       "    .dataframe thead th {\n",
       "        text-align: right;\n",
       "    }\n",
       "</style>\n",
       "<table border=\"1\" class=\"dataframe\">\n",
       "  <thead>\n",
       "    <tr style=\"text-align: right;\">\n",
       "      <th></th>\n",
       "      <th>frequency</th>\n",
       "    </tr>\n",
       "    <tr>\n",
       "      <th>review_scores_communication</th>\n",
       "      <th></th>\n",
       "    </tr>\n",
       "  </thead>\n",
       "  <tbody>\n",
       "    <tr>\n",
       "      <th>Categoria13</th>\n",
       "      <td>7471</td>\n",
       "    </tr>\n",
       "    <tr>\n",
       "      <th>Categoría3</th>\n",
       "      <td>4339</td>\n",
       "    </tr>\n",
       "    <tr>\n",
       "      <th>Categoría8</th>\n",
       "      <td>2637</td>\n",
       "    </tr>\n",
       "    <tr>\n",
       "      <th>Categoría11</th>\n",
       "      <td>1417</td>\n",
       "    </tr>\n",
       "    <tr>\n",
       "      <th>Categoría10</th>\n",
       "      <td>1387</td>\n",
       "    </tr>\n",
       "    <tr>\n",
       "      <th>Categoría12</th>\n",
       "      <td>1318</td>\n",
       "    </tr>\n",
       "    <tr>\n",
       "      <th>Categoría9</th>\n",
       "      <td>1283</td>\n",
       "    </tr>\n",
       "    <tr>\n",
       "      <th>Categoría6</th>\n",
       "      <td>866</td>\n",
       "    </tr>\n",
       "    <tr>\n",
       "      <th>Categoría4</th>\n",
       "      <td>787</td>\n",
       "    </tr>\n",
       "    <tr>\n",
       "      <th>Categoría7</th>\n",
       "      <td>654</td>\n",
       "    </tr>\n",
       "    <tr>\n",
       "      <th>Categoría5</th>\n",
       "      <td>649</td>\n",
       "    </tr>\n",
       "    <tr>\n",
       "      <th>Categoría2</th>\n",
       "      <td>499</td>\n",
       "    </tr>\n",
       "    <tr>\n",
       "      <th>Categoría1</th>\n",
       "      <td>183</td>\n",
       "    </tr>\n",
       "  </tbody>\n",
       "</table>\n",
       "</div>"
      ],
      "text/plain": [
       "                             frequency\n",
       "review_scores_communication           \n",
       "Categoria13                       7471\n",
       "Categoría3                        4339\n",
       "Categoría8                        2637\n",
       "Categoría11                       1417\n",
       "Categoría10                       1387\n",
       "Categoría12                       1318\n",
       "Categoría9                        1283\n",
       "Categoría6                         866\n",
       "Categoría4                         787\n",
       "Categoría7                         654\n",
       "Categoría5                         649\n",
       "Categoría2                         499\n",
       "Categoría1                         183"
      ]
     },
     "execution_count": 187,
     "metadata": {},
     "output_type": "execute_result"
    }
   ],
   "source": [
    "#Ajusto el indice de mi DataFrame\n",
    "Filtro_index = filtro13.set_index('review_scores_communication')\n",
    "Filtro_index"
   ]
  },
  {
   "cell_type": "code",
   "execution_count": 188,
   "metadata": {},
   "outputs": [
    {
     "data": {
      "text/plain": [
       "<Axes: xlabel='review_scores_communication'>"
      ]
     },
     "execution_count": 188,
     "metadata": {},
     "output_type": "execute_result"
    },
    {
     "data": {
      "image/png": "[encoded data removed]",
      "text/plain": [
       "<Figure size 1000x400 with 1 Axes>"
      ]
     },
     "metadata": {},
     "output_type": "display_data"
    }
   ],
   "source": [
    "#Realizamos grafico de área del dataframe filtrado\n",
    "Filtro_index.plot(kind='area', figsize=(10,4), alpha = 0.5)"
   ]
  },
  {
   "cell_type": "code",
   "execution_count": 189,
   "metadata": {},
   "outputs": [
    {
     "name": "stdout",
     "output_type": "stream",
     "text": [
      "<class 'pandas.core.series.Series'>\n",
      "RangeIndex: 26582 entries, 0 to 26581\n",
      "Series name: review_scores_checkin\n",
      "Non-Null Count  Dtype  \n",
      "--------------  -----  \n",
      "26582 non-null  float64\n",
      "dtypes: float64(1)\n",
      "memory usage: 207.8 KB\n"
     ]
    }
   ],
   "source": [
    "Micro_Retailer_1['review_scores_checkin'].info()\n",
    "n = 8021"
   ]
  },
  {
   "cell_type": "code",
   "execution_count": 190,
   "metadata": {},
   "outputs": [
    {
     "data": {
      "text/plain": [
       "[4.5, 5.0]"
      ]
     },
     "execution_count": 190,
     "metadata": {},
     "output_type": "execute_result"
    }
   ],
   "source": [
    "Min = Micro_Retailer_1['review_scores_checkin'].min()  \n",
    "Max = Micro_Retailer_1['review_scores_checkin'].max()  \n",
    "Limites = [Min,Max]\n",
    "Limites"
   ]
  },
  {
   "cell_type": "code",
   "execution_count": 191,
   "metadata": {},
   "outputs": [
    {
     "data": {
      "text/plain": [
       "0.5"
      ]
     },
     "execution_count": 191,
     "metadata": {},
     "output_type": "execute_result"
    }
   ],
   "source": [
    "R = Max - Min\n",
    "R\n"
   ]
  },
  {
   "cell_type": "code",
   "execution_count": 192,
   "metadata": {},
   "outputs": [
    {
     "data": {
      "text/plain": [
       "13.96203867424906"
      ]
     },
     "execution_count": 192,
     "metadata": {},
     "output_type": "execute_result"
    }
   ],
   "source": [
    "ni = 1+3.32*np.log10(n)\n",
    "ni\n"
   ]
  },
  {
   "cell_type": "code",
   "execution_count": 193,
   "metadata": {},
   "outputs": [
    {
     "data": {
      "text/plain": [
       "0.03581138912916614"
      ]
     },
     "execution_count": 193,
     "metadata": {},
     "output_type": "execute_result"
    }
   ],
   "source": [
    "i = R/ni\n",
    "i"
   ]
  },
  {
   "cell_type": "code",
   "execution_count": 194,
   "metadata": {},
   "outputs": [
    {
     "data": {
      "text/plain": [
       "array([4.53      , 4.56615385, 4.60230769, 4.63846154, 4.67461538,\n",
       "       4.71076923, 4.74692308, 4.78307692, 4.81923077, 4.85538462,\n",
       "       4.89153846, 4.92769231, 4.96384615, 5.        ])"
      ]
     },
     "execution_count": 194,
     "metadata": {},
     "output_type": "execute_result"
    }
   ],
   "source": [
    "# Ver resultado\n",
    "intervalos = np.linspace(4.53, 5.0, 14) #Número de clases más uno\n",
    "intervalos"
   ]
  },
  {
   "cell_type": "code",
   "execution_count": 195,
   "metadata": {},
   "outputs": [],
   "source": [
    "categorias = [\"Categoría1\", \"Categoría2\", \"Categoría3\", \"Categoría4\",\n",
    "              \"Categoría5\", \"Categoría6\", \"Categoría7\", \"Categoría8\",\n",
    "              \"Categoría9\",\"Categoría10\",\"Categoría11\",\"Categoría12\",\n",
    "              \"Categoria13\"]\n"
   ]
  },
  {
   "cell_type": "code",
   "execution_count": 196,
   "metadata": {},
   "outputs": [
    {
     "data": {
      "text/plain": [
       "0         Categoría8\n",
       "1        Categoría10\n",
       "2        Categoría12\n",
       "3        Categoría12\n",
       "4        Categoria13\n",
       "            ...     \n",
       "26577     Categoría8\n",
       "26578     Categoría8\n",
       "26579     Categoría8\n",
       "26580     Categoría8\n",
       "26581     Categoría8\n",
       "Name: review_scores_checkin, Length: 26582, dtype: category\n",
       "Categories (13, object): ['Categoría1' < 'Categoría2' < 'Categoría3' < 'Categoría4' ... 'Categoría10' < 'Categoría11' < 'Categoría12' < 'Categoria13']"
      ]
     },
     "execution_count": 196,
     "metadata": {},
     "output_type": "execute_result"
    }
   ],
   "source": [
    "Micro_Retailer_1['review_scores_checkin'] = pd.cut(x = Micro_Retailer_1['review_scores_checkin'], bins = intervalos, labels = categorias)\n",
    "Micro_Retailer_1['review_scores_checkin']"
   ]
  },
  {
   "cell_type": "code",
   "execution_count": 197,
   "metadata": {},
   "outputs": [
    {
     "data": {
      "text/html": [
       "<div>\n",
       "<style scoped>\n",
       "    .dataframe tbody tr th:only-of-type {\n",
       "        vertical-align: middle;\n",
       "    }\n",
       "\n",
       "    .dataframe tbody tr th {\n",
       "        vertical-align: top;\n",
       "    }\n",
       "\n",
       "    .dataframe thead th {\n",
       "        text-align: right;\n",
       "    }\n",
       "</style>\n",
       "<table border=\"1\" class=\"dataframe\">\n",
       "  <thead>\n",
       "    <tr style=\"text-align: right;\">\n",
       "      <th></th>\n",
       "      <th>review_scores_checkin</th>\n",
       "      <th>frequency</th>\n",
       "      <th>percentage</th>\n",
       "      <th>cumulative_perc</th>\n",
       "    </tr>\n",
       "  </thead>\n",
       "  <tbody>\n",
       "    <tr>\n",
       "      <th>0</th>\n",
       "      <td>Categoria13</td>\n",
       "      <td>8289</td>\n",
       "      <td>0.311828</td>\n",
       "      <td>0.316048</td>\n",
       "    </tr>\n",
       "    <tr>\n",
       "      <th>1</th>\n",
       "      <td>Categoría8</td>\n",
       "      <td>4649</td>\n",
       "      <td>0.174893</td>\n",
       "      <td>0.493308</td>\n",
       "    </tr>\n",
       "    <tr>\n",
       "      <th>2</th>\n",
       "      <td>Categoría11</td>\n",
       "      <td>3271</td>\n",
       "      <td>0.123053</td>\n",
       "      <td>0.618027</td>\n",
       "    </tr>\n",
       "    <tr>\n",
       "      <th>3</th>\n",
       "      <td>Categoría12</td>\n",
       "      <td>3037</td>\n",
       "      <td>0.114250</td>\n",
       "      <td>0.733824</td>\n",
       "    </tr>\n",
       "    <tr>\n",
       "      <th>4</th>\n",
       "      <td>Categoría10</td>\n",
       "      <td>2290</td>\n",
       "      <td>0.086149</td>\n",
       "      <td>0.821139</td>\n",
       "    </tr>\n",
       "    <tr>\n",
       "      <th>5</th>\n",
       "      <td>Categoría9</td>\n",
       "      <td>1578</td>\n",
       "      <td>0.059363</td>\n",
       "      <td>0.881306</td>\n",
       "    </tr>\n",
       "    <tr>\n",
       "      <th>6</th>\n",
       "      <td>Categoría7</td>\n",
       "      <td>986</td>\n",
       "      <td>0.037093</td>\n",
       "      <td>0.918900</td>\n",
       "    </tr>\n",
       "    <tr>\n",
       "      <th>7</th>\n",
       "      <td>Categoría4</td>\n",
       "      <td>566</td>\n",
       "      <td>0.021293</td>\n",
       "      <td>0.940481</td>\n",
       "    </tr>\n",
       "    <tr>\n",
       "      <th>8</th>\n",
       "      <td>Categoría5</td>\n",
       "      <td>542</td>\n",
       "      <td>0.020390</td>\n",
       "      <td>0.961147</td>\n",
       "    </tr>\n",
       "    <tr>\n",
       "      <th>9</th>\n",
       "      <td>Categoría6</td>\n",
       "      <td>425</td>\n",
       "      <td>0.015988</td>\n",
       "      <td>0.977352</td>\n",
       "    </tr>\n",
       "    <tr>\n",
       "      <th>10</th>\n",
       "      <td>Categoría2</td>\n",
       "      <td>282</td>\n",
       "      <td>0.010609</td>\n",
       "      <td>0.988104</td>\n",
       "    </tr>\n",
       "    <tr>\n",
       "      <th>11</th>\n",
       "      <td>Categoría3</td>\n",
       "      <td>189</td>\n",
       "      <td>0.007110</td>\n",
       "      <td>0.995310</td>\n",
       "    </tr>\n",
       "    <tr>\n",
       "      <th>12</th>\n",
       "      <td>Categoría1</td>\n",
       "      <td>123</td>\n",
       "      <td>0.004627</td>\n",
       "      <td>1.000000</td>\n",
       "    </tr>\n",
       "  </tbody>\n",
       "</table>\n",
       "</div>"
      ],
      "text/plain": [
       "   review_scores_checkin  frequency  percentage  cumulative_perc\n",
       "0            Categoria13       8289    0.311828         0.316048\n",
       "1             Categoría8       4649    0.174893         0.493308\n",
       "2            Categoría11       3271    0.123053         0.618027\n",
       "3            Categoría12       3037    0.114250         0.733824\n",
       "4            Categoría10       2290    0.086149         0.821139\n",
       "5             Categoría9       1578    0.059363         0.881306\n",
       "6             Categoría7        986    0.037093         0.918900\n",
       "7             Categoría4        566    0.021293         0.940481\n",
       "8             Categoría5        542    0.020390         0.961147\n",
       "9             Categoría6        425    0.015988         0.977352\n",
       "10            Categoría2        282    0.010609         0.988104\n",
       "11            Categoría3        189    0.007110         0.995310\n",
       "12            Categoría1        123    0.004627         1.000000"
      ]
     },
     "execution_count": 197,
     "metadata": {},
     "output_type": "execute_result"
    }
   ],
   "source": [
    "#Obtengo un análisis univariado de una variable categórica en específico  \n",
    "table29 = freq_tbl(Micro_Retailer_1['review_scores_checkin'])\n",
    "table29"
   ]
  },
  {
   "cell_type": "code",
   "execution_count": 198,
   "metadata": {},
   "outputs": [
    {
     "data": {
      "text/html": [
       "<div>\n",
       "<style scoped>\n",
       "    .dataframe tbody tr th:only-of-type {\n",
       "        vertical-align: middle;\n",
       "    }\n",
       "\n",
       "    .dataframe tbody tr th {\n",
       "        vertical-align: top;\n",
       "    }\n",
       "\n",
       "    .dataframe thead th {\n",
       "        text-align: right;\n",
       "    }\n",
       "</style>\n",
       "<table border=\"1\" class=\"dataframe\">\n",
       "  <thead>\n",
       "    <tr style=\"text-align: right;\">\n",
       "      <th></th>\n",
       "      <th>review_scores_checkin</th>\n",
       "      <th>frequency</th>\n",
       "    </tr>\n",
       "  </thead>\n",
       "  <tbody>\n",
       "    <tr>\n",
       "      <th>0</th>\n",
       "      <td>Categoria13</td>\n",
       "      <td>8289</td>\n",
       "    </tr>\n",
       "    <tr>\n",
       "      <th>1</th>\n",
       "      <td>Categoría8</td>\n",
       "      <td>4649</td>\n",
       "    </tr>\n",
       "    <tr>\n",
       "      <th>2</th>\n",
       "      <td>Categoría11</td>\n",
       "      <td>3271</td>\n",
       "    </tr>\n",
       "    <tr>\n",
       "      <th>3</th>\n",
       "      <td>Categoría12</td>\n",
       "      <td>3037</td>\n",
       "    </tr>\n",
       "    <tr>\n",
       "      <th>4</th>\n",
       "      <td>Categoría10</td>\n",
       "      <td>2290</td>\n",
       "    </tr>\n",
       "    <tr>\n",
       "      <th>5</th>\n",
       "      <td>Categoría9</td>\n",
       "      <td>1578</td>\n",
       "    </tr>\n",
       "    <tr>\n",
       "      <th>6</th>\n",
       "      <td>Categoría7</td>\n",
       "      <td>986</td>\n",
       "    </tr>\n",
       "    <tr>\n",
       "      <th>7</th>\n",
       "      <td>Categoría4</td>\n",
       "      <td>566</td>\n",
       "    </tr>\n",
       "    <tr>\n",
       "      <th>8</th>\n",
       "      <td>Categoría5</td>\n",
       "      <td>542</td>\n",
       "    </tr>\n",
       "    <tr>\n",
       "      <th>9</th>\n",
       "      <td>Categoría6</td>\n",
       "      <td>425</td>\n",
       "    </tr>\n",
       "    <tr>\n",
       "      <th>10</th>\n",
       "      <td>Categoría2</td>\n",
       "      <td>282</td>\n",
       "    </tr>\n",
       "    <tr>\n",
       "      <th>11</th>\n",
       "      <td>Categoría3</td>\n",
       "      <td>189</td>\n",
       "    </tr>\n",
       "    <tr>\n",
       "      <th>12</th>\n",
       "      <td>Categoría1</td>\n",
       "      <td>123</td>\n",
       "    </tr>\n",
       "  </tbody>\n",
       "</table>\n",
       "</div>"
      ],
      "text/plain": [
       "   review_scores_checkin  frequency\n",
       "0            Categoria13       8289\n",
       "1             Categoría8       4649\n",
       "2            Categoría11       3271\n",
       "3            Categoría12       3037\n",
       "4            Categoría10       2290\n",
       "5             Categoría9       1578\n",
       "6             Categoría7        986\n",
       "7             Categoría4        566\n",
       "8             Categoría5        542\n",
       "9             Categoría6        425\n",
       "10            Categoría2        282\n",
       "11            Categoría3        189\n",
       "12            Categoría1        123"
      ]
     },
     "execution_count": 198,
     "metadata": {},
     "output_type": "execute_result"
    }
   ],
   "source": [
    "#Elimino las columnas \"procentage\" y \"cumulative_perc\" para trabajar con las fecuencias\n",
    "table30 = table29.drop(['percentage', 'cumulative_perc'], axis=1)\n",
    "table30"
   ]
  },
  {
   "cell_type": "code",
   "execution_count": 199,
   "metadata": {},
   "outputs": [
    {
     "data": {
      "text/html": [
       "<div>\n",
       "<style scoped>\n",
       "    .dataframe tbody tr th:only-of-type {\n",
       "        vertical-align: middle;\n",
       "    }\n",
       "\n",
       "    .dataframe tbody tr th {\n",
       "        vertical-align: top;\n",
       "    }\n",
       "\n",
       "    .dataframe thead th {\n",
       "        text-align: right;\n",
       "    }\n",
       "</style>\n",
       "<table border=\"1\" class=\"dataframe\">\n",
       "  <thead>\n",
       "    <tr style=\"text-align: right;\">\n",
       "      <th></th>\n",
       "      <th>review_scores_checkin</th>\n",
       "      <th>frequency</th>\n",
       "    </tr>\n",
       "  </thead>\n",
       "  <tbody>\n",
       "    <tr>\n",
       "      <th>0</th>\n",
       "      <td>Categoria13</td>\n",
       "      <td>8289</td>\n",
       "    </tr>\n",
       "    <tr>\n",
       "      <th>1</th>\n",
       "      <td>Categoría8</td>\n",
       "      <td>4649</td>\n",
       "    </tr>\n",
       "    <tr>\n",
       "      <th>2</th>\n",
       "      <td>Categoría11</td>\n",
       "      <td>3271</td>\n",
       "    </tr>\n",
       "    <tr>\n",
       "      <th>3</th>\n",
       "      <td>Categoría12</td>\n",
       "      <td>3037</td>\n",
       "    </tr>\n",
       "    <tr>\n",
       "      <th>4</th>\n",
       "      <td>Categoría10</td>\n",
       "      <td>2290</td>\n",
       "    </tr>\n",
       "    <tr>\n",
       "      <th>5</th>\n",
       "      <td>Categoría9</td>\n",
       "      <td>1578</td>\n",
       "    </tr>\n",
       "    <tr>\n",
       "      <th>6</th>\n",
       "      <td>Categoría7</td>\n",
       "      <td>986</td>\n",
       "    </tr>\n",
       "    <tr>\n",
       "      <th>7</th>\n",
       "      <td>Categoría4</td>\n",
       "      <td>566</td>\n",
       "    </tr>\n",
       "    <tr>\n",
       "      <th>8</th>\n",
       "      <td>Categoría5</td>\n",
       "      <td>542</td>\n",
       "    </tr>\n",
       "    <tr>\n",
       "      <th>9</th>\n",
       "      <td>Categoría6</td>\n",
       "      <td>425</td>\n",
       "    </tr>\n",
       "    <tr>\n",
       "      <th>10</th>\n",
       "      <td>Categoría2</td>\n",
       "      <td>282</td>\n",
       "    </tr>\n",
       "    <tr>\n",
       "      <th>11</th>\n",
       "      <td>Categoría3</td>\n",
       "      <td>189</td>\n",
       "    </tr>\n",
       "    <tr>\n",
       "      <th>12</th>\n",
       "      <td>Categoría1</td>\n",
       "      <td>123</td>\n",
       "    </tr>\n",
       "  </tbody>\n",
       "</table>\n",
       "</div>"
      ],
      "text/plain": [
       "   review_scores_checkin  frequency\n",
       "0            Categoria13       8289\n",
       "1             Categoría8       4649\n",
       "2            Categoría11       3271\n",
       "3            Categoría12       3037\n",
       "4            Categoría10       2290\n",
       "5             Categoría9       1578\n",
       "6             Categoría7        986\n",
       "7             Categoría4        566\n",
       "8             Categoría5        542\n",
       "9             Categoría6        425\n",
       "10            Categoría2        282\n",
       "11            Categoría3        189\n",
       "12            Categoría1        123"
      ]
     },
     "execution_count": 199,
     "metadata": {},
     "output_type": "execute_result"
    }
   ],
   "source": [
    "\n",
    "filtro14 = table30[table30['frequency'] > 100]\n",
    "filtro14\n"
   ]
  },
  {
   "cell_type": "code",
   "execution_count": 200,
   "metadata": {},
   "outputs": [
    {
     "data": {
      "text/html": [
       "<div>\n",
       "<style scoped>\n",
       "    .dataframe tbody tr th:only-of-type {\n",
       "        vertical-align: middle;\n",
       "    }\n",
       "\n",
       "    .dataframe tbody tr th {\n",
       "        vertical-align: top;\n",
       "    }\n",
       "\n",
       "    .dataframe thead th {\n",
       "        text-align: right;\n",
       "    }\n",
       "</style>\n",
       "<table border=\"1\" class=\"dataframe\">\n",
       "  <thead>\n",
       "    <tr style=\"text-align: right;\">\n",
       "      <th></th>\n",
       "      <th>frequency</th>\n",
       "    </tr>\n",
       "    <tr>\n",
       "      <th>review_scores_checkin</th>\n",
       "      <th></th>\n",
       "    </tr>\n",
       "  </thead>\n",
       "  <tbody>\n",
       "    <tr>\n",
       "      <th>Categoria13</th>\n",
       "      <td>8289</td>\n",
       "    </tr>\n",
       "    <tr>\n",
       "      <th>Categoría8</th>\n",
       "      <td>4649</td>\n",
       "    </tr>\n",
       "    <tr>\n",
       "      <th>Categoría11</th>\n",
       "      <td>3271</td>\n",
       "    </tr>\n",
       "    <tr>\n",
       "      <th>Categoría12</th>\n",
       "      <td>3037</td>\n",
       "    </tr>\n",
       "    <tr>\n",
       "      <th>Categoría10</th>\n",
       "      <td>2290</td>\n",
       "    </tr>\n",
       "    <tr>\n",
       "      <th>Categoría9</th>\n",
       "      <td>1578</td>\n",
       "    </tr>\n",
       "    <tr>\n",
       "      <th>Categoría7</th>\n",
       "      <td>986</td>\n",
       "    </tr>\n",
       "    <tr>\n",
       "      <th>Categoría4</th>\n",
       "      <td>566</td>\n",
       "    </tr>\n",
       "    <tr>\n",
       "      <th>Categoría5</th>\n",
       "      <td>542</td>\n",
       "    </tr>\n",
       "    <tr>\n",
       "      <th>Categoría6</th>\n",
       "      <td>425</td>\n",
       "    </tr>\n",
       "    <tr>\n",
       "      <th>Categoría2</th>\n",
       "      <td>282</td>\n",
       "    </tr>\n",
       "    <tr>\n",
       "      <th>Categoría3</th>\n",
       "      <td>189</td>\n",
       "    </tr>\n",
       "    <tr>\n",
       "      <th>Categoría1</th>\n",
       "      <td>123</td>\n",
       "    </tr>\n",
       "  </tbody>\n",
       "</table>\n",
       "</div>"
      ],
      "text/plain": [
       "                       frequency\n",
       "review_scores_checkin           \n",
       "Categoria13                 8289\n",
       "Categoría8                  4649\n",
       "Categoría11                 3271\n",
       "Categoría12                 3037\n",
       "Categoría10                 2290\n",
       "Categoría9                  1578\n",
       "Categoría7                   986\n",
       "Categoría4                   566\n",
       "Categoría5                   542\n",
       "Categoría6                   425\n",
       "Categoría2                   282\n",
       "Categoría3                   189\n",
       "Categoría1                   123"
      ]
     },
     "execution_count": 200,
     "metadata": {},
     "output_type": "execute_result"
    }
   ],
   "source": [
    "#Ajusto el indice de mi DataFrame\n",
    "Filtro_index = filtro14.set_index('review_scores_checkin')\n",
    "Filtro_index"
   ]
  },
  {
   "cell_type": "code",
   "execution_count": 201,
   "metadata": {},
   "outputs": [
    {
     "data": {
      "text/plain": [
       "Text(0, 0.5, 'Frecuencia')"
      ]
     },
     "execution_count": 201,
     "metadata": {},
     "output_type": "execute_result"
    },
    {
     "data": {
      "image/png": "[encoded data removed]",
      "text/plain": [
       "<Figure size 1000x400 with 1 Axes>"
      ]
     },
     "metadata": {},
     "output_type": "display_data"
    }
   ],
   "source": [
    "#Realizamos grafico de barras del Dataframe filtrado\n",
    "Filtro_index.plot(kind = 'bar', width=0.8, figsize=(10,4), color = \"red\")\n",
    "plt.title('Evaluación de reseñas')\n",
    "plt.xlabel('Categoria')\n",
    "plt.ylabel('Frecuencia')"
   ]
  },
  {
   "cell_type": "code",
   "execution_count": 202,
   "metadata": {},
   "outputs": [
    {
     "name": "stdout",
     "output_type": "stream",
     "text": [
      "<class 'pandas.core.series.Series'>\n",
      "RangeIndex: 26582 entries, 0 to 26581\n",
      "Series name: review_scores_cleanliness\n",
      "Non-Null Count  Dtype  \n",
      "--------------  -----  \n",
      "26582 non-null  float64\n",
      "dtypes: float64(1)\n",
      "memory usage: 207.8 KB\n"
     ]
    }
   ],
   "source": [
    "Micro_Retailer_1['review_scores_cleanliness'].info()\n",
    "n = 8021"
   ]
  },
  {
   "cell_type": "code",
   "execution_count": 203,
   "metadata": {},
   "outputs": [
    {
     "data": {
      "text/plain": [
       "[4.43, 5.0]"
      ]
     },
     "execution_count": 203,
     "metadata": {},
     "output_type": "execute_result"
    }
   ],
   "source": [
    "Min = Micro_Retailer_1['review_scores_cleanliness'].min()  \n",
    "Max = Micro_Retailer_1['review_scores_cleanliness'].max()  \n",
    "Limites = [Min,Max]\n",
    "Limites"
   ]
  },
  {
   "cell_type": "code",
   "execution_count": 204,
   "metadata": {},
   "outputs": [
    {
     "data": {
      "text/plain": [
       "0.5700000000000003"
      ]
     },
     "execution_count": 204,
     "metadata": {},
     "output_type": "execute_result"
    }
   ],
   "source": [
    "R = Max - Min\n",
    "R"
   ]
  },
  {
   "cell_type": "code",
   "execution_count": 205,
   "metadata": {},
   "outputs": [
    {
     "data": {
      "text/plain": [
       "13.96203867424906"
      ]
     },
     "execution_count": 205,
     "metadata": {},
     "output_type": "execute_result"
    }
   ],
   "source": [
    "ni = 1+3.32*np.log10(n)\n",
    "ni"
   ]
  },
  {
   "cell_type": "code",
   "execution_count": 206,
   "metadata": {},
   "outputs": [
    {
     "data": {
      "text/plain": [
       "0.04082498360724942"
      ]
     },
     "execution_count": 206,
     "metadata": {},
     "output_type": "execute_result"
    }
   ],
   "source": [
    "i = R/ni\n",
    "i"
   ]
  },
  {
   "cell_type": "code",
   "execution_count": 207,
   "metadata": {},
   "outputs": [
    {
     "data": {
      "text/plain": [
       "array([4.13      , 4.19692308, 4.26384615, 4.33076923, 4.39769231,\n",
       "       4.46461538, 4.53153846, 4.59846154, 4.66538462, 4.73230769,\n",
       "       4.79923077, 4.86615385, 4.93307692, 5.        ])"
      ]
     },
     "execution_count": 207,
     "metadata": {},
     "output_type": "execute_result"
    }
   ],
   "source": [
    "# Ver resultado\n",
    "intervalos = np.linspace(4.13, 5.0, 14) #Número de clases más uno\n",
    "intervalos"
   ]
  },
  {
   "cell_type": "code",
   "execution_count": 208,
   "metadata": {},
   "outputs": [],
   "source": [
    "categorias = [\"Categoría1\", \"Categoría2\", \"Categoría3\", \"Categoría4\",\n",
    "              \"Categoría5\", \"Categoría6\", \"Categoría7\", \"Categoría8\",\n",
    "              \"Categoría9\",\"Categoría10\",\"Categoría11\",\"Categoría12\",\n",
    "              \"Categoria13\"]"
   ]
  },
  {
   "cell_type": "code",
   "execution_count": 209,
   "metadata": {},
   "outputs": [
    {
     "data": {
      "text/plain": [
       "0        Categoría11\n",
       "1         Categoría9\n",
       "2        Categoría10\n",
       "3        Categoria13\n",
       "4        Categoria13\n",
       "            ...     \n",
       "26577    Categoría11\n",
       "26578    Categoría11\n",
       "26579    Categoría11\n",
       "26580    Categoría11\n",
       "26581    Categoría11\n",
       "Name: review_scores_cleanliness, Length: 26582, dtype: category\n",
       "Categories (13, object): ['Categoría1' < 'Categoría2' < 'Categoría3' < 'Categoría4' ... 'Categoría10' < 'Categoría11' < 'Categoría12' < 'Categoria13']"
      ]
     },
     "execution_count": 209,
     "metadata": {},
     "output_type": "execute_result"
    }
   ],
   "source": [
    "Micro_Retailer_1['review_scores_cleanliness'] = pd.cut(x =  Micro_Retailer_1['review_scores_cleanliness'], bins = intervalos, labels = categorias)\n",
    "Micro_Retailer_1['review_scores_cleanliness']"
   ]
  },
  {
   "cell_type": "code",
   "execution_count": 210,
   "metadata": {},
   "outputs": [
    {
     "data": {
      "text/html": [
       "<div>\n",
       "<style scoped>\n",
       "    .dataframe tbody tr th:only-of-type {\n",
       "        vertical-align: middle;\n",
       "    }\n",
       "\n",
       "    .dataframe tbody tr th {\n",
       "        vertical-align: top;\n",
       "    }\n",
       "\n",
       "    .dataframe thead th {\n",
       "        text-align: right;\n",
       "    }\n",
       "</style>\n",
       "<table border=\"1\" class=\"dataframe\">\n",
       "  <thead>\n",
       "    <tr style=\"text-align: right;\">\n",
       "      <th></th>\n",
       "      <th>review_scores_cleanliness</th>\n",
       "      <th>frequency</th>\n",
       "      <th>percentage</th>\n",
       "      <th>cumulative_perc</th>\n",
       "    </tr>\n",
       "  </thead>\n",
       "  <tbody>\n",
       "    <tr>\n",
       "      <th>0</th>\n",
       "      <td>Categoría11</td>\n",
       "      <td>8845</td>\n",
       "      <td>0.332744</td>\n",
       "      <td>0.332744</td>\n",
       "    </tr>\n",
       "    <tr>\n",
       "      <th>1</th>\n",
       "      <td>Categoria13</td>\n",
       "      <td>7183</td>\n",
       "      <td>0.270220</td>\n",
       "      <td>0.602964</td>\n",
       "    </tr>\n",
       "    <tr>\n",
       "      <th>2</th>\n",
       "      <td>Categoría12</td>\n",
       "      <td>3830</td>\n",
       "      <td>0.144082</td>\n",
       "      <td>0.747047</td>\n",
       "    </tr>\n",
       "    <tr>\n",
       "      <th>3</th>\n",
       "      <td>Categoría10</td>\n",
       "      <td>2088</td>\n",
       "      <td>0.078549</td>\n",
       "      <td>0.825596</td>\n",
       "    </tr>\n",
       "    <tr>\n",
       "      <th>4</th>\n",
       "      <td>Categoría9</td>\n",
       "      <td>1885</td>\n",
       "      <td>0.070913</td>\n",
       "      <td>0.896509</td>\n",
       "    </tr>\n",
       "    <tr>\n",
       "      <th>5</th>\n",
       "      <td>Categoría8</td>\n",
       "      <td>1056</td>\n",
       "      <td>0.039726</td>\n",
       "      <td>0.936235</td>\n",
       "    </tr>\n",
       "    <tr>\n",
       "      <th>6</th>\n",
       "      <td>Categoría6</td>\n",
       "      <td>802</td>\n",
       "      <td>0.030171</td>\n",
       "      <td>0.966406</td>\n",
       "    </tr>\n",
       "    <tr>\n",
       "      <th>7</th>\n",
       "      <td>Categoría7</td>\n",
       "      <td>653</td>\n",
       "      <td>0.024565</td>\n",
       "      <td>0.990971</td>\n",
       "    </tr>\n",
       "    <tr>\n",
       "      <th>8</th>\n",
       "      <td>Categoría5</td>\n",
       "      <td>240</td>\n",
       "      <td>0.009029</td>\n",
       "      <td>1.000000</td>\n",
       "    </tr>\n",
       "    <tr>\n",
       "      <th>9</th>\n",
       "      <td>Categoría1</td>\n",
       "      <td>0</td>\n",
       "      <td>0.000000</td>\n",
       "      <td>1.000000</td>\n",
       "    </tr>\n",
       "    <tr>\n",
       "      <th>10</th>\n",
       "      <td>Categoría2</td>\n",
       "      <td>0</td>\n",
       "      <td>0.000000</td>\n",
       "      <td>1.000000</td>\n",
       "    </tr>\n",
       "    <tr>\n",
       "      <th>11</th>\n",
       "      <td>Categoría3</td>\n",
       "      <td>0</td>\n",
       "      <td>0.000000</td>\n",
       "      <td>1.000000</td>\n",
       "    </tr>\n",
       "    <tr>\n",
       "      <th>12</th>\n",
       "      <td>Categoría4</td>\n",
       "      <td>0</td>\n",
       "      <td>0.000000</td>\n",
       "      <td>1.000000</td>\n",
       "    </tr>\n",
       "  </tbody>\n",
       "</table>\n",
       "</div>"
      ],
      "text/plain": [
       "   review_scores_cleanliness  frequency  percentage  cumulative_perc\n",
       "0                Categoría11       8845    0.332744         0.332744\n",
       "1                Categoria13       7183    0.270220         0.602964\n",
       "2                Categoría12       3830    0.144082         0.747047\n",
       "3                Categoría10       2088    0.078549         0.825596\n",
       "4                 Categoría9       1885    0.070913         0.896509\n",
       "5                 Categoría8       1056    0.039726         0.936235\n",
       "6                 Categoría6        802    0.030171         0.966406\n",
       "7                 Categoría7        653    0.024565         0.990971\n",
       "8                 Categoría5        240    0.009029         1.000000\n",
       "9                 Categoría1          0    0.000000         1.000000\n",
       "10                Categoría2          0    0.000000         1.000000\n",
       "11                Categoría3          0    0.000000         1.000000\n",
       "12                Categoría4          0    0.000000         1.000000"
      ]
     },
     "execution_count": 210,
     "metadata": {},
     "output_type": "execute_result"
    }
   ],
   "source": [
    "#Obtengo un análisis univariado de una variable categórica en específico  \n",
    "variable_8 = freq_tbl(Micro_Retailer_1['review_scores_cleanliness'])\n",
    "variable_8"
   ]
  },
  {
   "cell_type": "code",
   "execution_count": 211,
   "metadata": {},
   "outputs": [
    {
     "data": {
      "text/html": [
       "<div>\n",
       "<style scoped>\n",
       "    .dataframe tbody tr th:only-of-type {\n",
       "        vertical-align: middle;\n",
       "    }\n",
       "\n",
       "    .dataframe tbody tr th {\n",
       "        vertical-align: top;\n",
       "    }\n",
       "\n",
       "    .dataframe thead th {\n",
       "        text-align: right;\n",
       "    }\n",
       "</style>\n",
       "<table border=\"1\" class=\"dataframe\">\n",
       "  <thead>\n",
       "    <tr style=\"text-align: right;\">\n",
       "      <th></th>\n",
       "      <th>review_scores_cleanliness</th>\n",
       "      <th>frequency</th>\n",
       "    </tr>\n",
       "  </thead>\n",
       "  <tbody>\n",
       "    <tr>\n",
       "      <th>0</th>\n",
       "      <td>Categoría11</td>\n",
       "      <td>8845</td>\n",
       "    </tr>\n",
       "    <tr>\n",
       "      <th>1</th>\n",
       "      <td>Categoria13</td>\n",
       "      <td>7183</td>\n",
       "    </tr>\n",
       "    <tr>\n",
       "      <th>2</th>\n",
       "      <td>Categoría12</td>\n",
       "      <td>3830</td>\n",
       "    </tr>\n",
       "    <tr>\n",
       "      <th>3</th>\n",
       "      <td>Categoría10</td>\n",
       "      <td>2088</td>\n",
       "    </tr>\n",
       "    <tr>\n",
       "      <th>4</th>\n",
       "      <td>Categoría9</td>\n",
       "      <td>1885</td>\n",
       "    </tr>\n",
       "    <tr>\n",
       "      <th>5</th>\n",
       "      <td>Categoría8</td>\n",
       "      <td>1056</td>\n",
       "    </tr>\n",
       "    <tr>\n",
       "      <th>6</th>\n",
       "      <td>Categoría6</td>\n",
       "      <td>802</td>\n",
       "    </tr>\n",
       "    <tr>\n",
       "      <th>7</th>\n",
       "      <td>Categoría7</td>\n",
       "      <td>653</td>\n",
       "    </tr>\n",
       "    <tr>\n",
       "      <th>8</th>\n",
       "      <td>Categoría5</td>\n",
       "      <td>240</td>\n",
       "    </tr>\n",
       "    <tr>\n",
       "      <th>9</th>\n",
       "      <td>Categoría1</td>\n",
       "      <td>0</td>\n",
       "    </tr>\n",
       "    <tr>\n",
       "      <th>10</th>\n",
       "      <td>Categoría2</td>\n",
       "      <td>0</td>\n",
       "    </tr>\n",
       "    <tr>\n",
       "      <th>11</th>\n",
       "      <td>Categoría3</td>\n",
       "      <td>0</td>\n",
       "    </tr>\n",
       "    <tr>\n",
       "      <th>12</th>\n",
       "      <td>Categoría4</td>\n",
       "      <td>0</td>\n",
       "    </tr>\n",
       "  </tbody>\n",
       "</table>\n",
       "</div>"
      ],
      "text/plain": [
       "   review_scores_cleanliness  frequency\n",
       "0                Categoría11       8845\n",
       "1                Categoria13       7183\n",
       "2                Categoría12       3830\n",
       "3                Categoría10       2088\n",
       "4                 Categoría9       1885\n",
       "5                 Categoría8       1056\n",
       "6                 Categoría6        802\n",
       "7                 Categoría7        653\n",
       "8                 Categoría5        240\n",
       "9                 Categoría1          0\n",
       "10                Categoría2          0\n",
       "11                Categoría3          0\n",
       "12                Categoría4          0"
      ]
     },
     "execution_count": 211,
     "metadata": {},
     "output_type": "execute_result"
    }
   ],
   "source": [
    "#Elimino las columnas \"procentage\" y \"cumulative_perc\" para trabajar con las fecuencias\n",
    "variable_8_2 = variable_8.drop(['percentage', 'cumulative_perc'], axis=1)\n",
    "variable_8_2"
   ]
  },
  {
   "cell_type": "code",
   "execution_count": 212,
   "metadata": {},
   "outputs": [
    {
     "data": {
      "text/html": [
       "<div>\n",
       "<style scoped>\n",
       "    .dataframe tbody tr th:only-of-type {\n",
       "        vertical-align: middle;\n",
       "    }\n",
       "\n",
       "    .dataframe tbody tr th {\n",
       "        vertical-align: top;\n",
       "    }\n",
       "\n",
       "    .dataframe thead th {\n",
       "        text-align: right;\n",
       "    }\n",
       "</style>\n",
       "<table border=\"1\" class=\"dataframe\">\n",
       "  <thead>\n",
       "    <tr style=\"text-align: right;\">\n",
       "      <th></th>\n",
       "      <th>review_scores_cleanliness</th>\n",
       "      <th>frequency</th>\n",
       "    </tr>\n",
       "  </thead>\n",
       "  <tbody>\n",
       "    <tr>\n",
       "      <th>0</th>\n",
       "      <td>Categoría11</td>\n",
       "      <td>8845</td>\n",
       "    </tr>\n",
       "    <tr>\n",
       "      <th>1</th>\n",
       "      <td>Categoria13</td>\n",
       "      <td>7183</td>\n",
       "    </tr>\n",
       "    <tr>\n",
       "      <th>2</th>\n",
       "      <td>Categoría12</td>\n",
       "      <td>3830</td>\n",
       "    </tr>\n",
       "    <tr>\n",
       "      <th>3</th>\n",
       "      <td>Categoría10</td>\n",
       "      <td>2088</td>\n",
       "    </tr>\n",
       "    <tr>\n",
       "      <th>4</th>\n",
       "      <td>Categoría9</td>\n",
       "      <td>1885</td>\n",
       "    </tr>\n",
       "    <tr>\n",
       "      <th>5</th>\n",
       "      <td>Categoría8</td>\n",
       "      <td>1056</td>\n",
       "    </tr>\n",
       "    <tr>\n",
       "      <th>6</th>\n",
       "      <td>Categoría6</td>\n",
       "      <td>802</td>\n",
       "    </tr>\n",
       "    <tr>\n",
       "      <th>7</th>\n",
       "      <td>Categoría7</td>\n",
       "      <td>653</td>\n",
       "    </tr>\n",
       "    <tr>\n",
       "      <th>8</th>\n",
       "      <td>Categoría5</td>\n",
       "      <td>240</td>\n",
       "    </tr>\n",
       "  </tbody>\n",
       "</table>\n",
       "</div>"
      ],
      "text/plain": [
       "  review_scores_cleanliness  frequency\n",
       "0               Categoría11       8845\n",
       "1               Categoria13       7183\n",
       "2               Categoría12       3830\n",
       "3               Categoría10       2088\n",
       "4                Categoría9       1885\n",
       "5                Categoría8       1056\n",
       "6                Categoría6        802\n",
       "7                Categoría7        653\n",
       "8                Categoría5        240"
      ]
     },
     "execution_count": 212,
     "metadata": {},
     "output_type": "execute_result"
    }
   ],
   "source": [
    "filtro_8 = variable_8_2[variable_8_2['frequency'] > 100]\n",
    "filtro_8"
   ]
  },
  {
   "cell_type": "code",
   "execution_count": 213,
   "metadata": {},
   "outputs": [
    {
     "data": {
      "text/html": [
       "<div>\n",
       "<style scoped>\n",
       "    .dataframe tbody tr th:only-of-type {\n",
       "        vertical-align: middle;\n",
       "    }\n",
       "\n",
       "    .dataframe tbody tr th {\n",
       "        vertical-align: top;\n",
       "    }\n",
       "\n",
       "    .dataframe thead th {\n",
       "        text-align: right;\n",
       "    }\n",
       "</style>\n",
       "<table border=\"1\" class=\"dataframe\">\n",
       "  <thead>\n",
       "    <tr style=\"text-align: right;\">\n",
       "      <th></th>\n",
       "      <th>frequency</th>\n",
       "    </tr>\n",
       "    <tr>\n",
       "      <th>review_scores_cleanliness</th>\n",
       "      <th></th>\n",
       "    </tr>\n",
       "  </thead>\n",
       "  <tbody>\n",
       "    <tr>\n",
       "      <th>Categoría11</th>\n",
       "      <td>8845</td>\n",
       "    </tr>\n",
       "    <tr>\n",
       "      <th>Categoria13</th>\n",
       "      <td>7183</td>\n",
       "    </tr>\n",
       "    <tr>\n",
       "      <th>Categoría12</th>\n",
       "      <td>3830</td>\n",
       "    </tr>\n",
       "    <tr>\n",
       "      <th>Categoría10</th>\n",
       "      <td>2088</td>\n",
       "    </tr>\n",
       "    <tr>\n",
       "      <th>Categoría9</th>\n",
       "      <td>1885</td>\n",
       "    </tr>\n",
       "    <tr>\n",
       "      <th>Categoría8</th>\n",
       "      <td>1056</td>\n",
       "    </tr>\n",
       "    <tr>\n",
       "      <th>Categoría6</th>\n",
       "      <td>802</td>\n",
       "    </tr>\n",
       "    <tr>\n",
       "      <th>Categoría7</th>\n",
       "      <td>653</td>\n",
       "    </tr>\n",
       "    <tr>\n",
       "      <th>Categoría5</th>\n",
       "      <td>240</td>\n",
       "    </tr>\n",
       "  </tbody>\n",
       "</table>\n",
       "</div>"
      ],
      "text/plain": [
       "                           frequency\n",
       "review_scores_cleanliness           \n",
       "Categoría11                     8845\n",
       "Categoria13                     7183\n",
       "Categoría12                     3830\n",
       "Categoría10                     2088\n",
       "Categoría9                      1885\n",
       "Categoría8                      1056\n",
       "Categoría6                       802\n",
       "Categoría7                       653\n",
       "Categoría5                       240"
      ]
     },
     "execution_count": 213,
     "metadata": {},
     "output_type": "execute_result"
    }
   ],
   "source": [
    "#Ajusto el indice de mi DataFrame\n",
    "filtro_i8 = filtro_8.set_index('review_scores_cleanliness')\n",
    "filtro_i8"
   ]
  },
  {
   "cell_type": "code",
   "execution_count": 214,
   "metadata": {},
   "outputs": [
    {
     "data": {
      "text/plain": [
       "Text(0, 0.5, 'Frecuencia')"
      ]
     },
     "execution_count": 214,
     "metadata": {},
     "output_type": "execute_result"
    },
    {
     "data": {
      "image/png": "[encoded data removed]",
      "text/plain": [
       "<Figure size 1000x400 with 1 Axes>"
      ]
     },
     "metadata": {},
     "output_type": "display_data"
    }
   ],
   "source": [
    "#Realizamos grafico de barras del Dataframe filtrado\n",
    "filtro_i8.plot(kind = 'bar', width=0.8, figsize=(10,4), color = \"red\")\n",
    "plt.title('Puntuación de limpieza')\n",
    "plt.xlabel('Categoria')\n",
    "plt.ylabel('Frecuencia')"
   ]
  },
  {
   "cell_type": "code",
   "execution_count": 215,
   "metadata": {},
   "outputs": [
    {
     "name": "stdout",
     "output_type": "stream",
     "text": [
      "<class 'pandas.core.series.Series'>\n",
      "RangeIndex: 26582 entries, 0 to 26581\n",
      "Series name: review_scores_accuracy\n",
      "Non-Null Count  Dtype  \n",
      "--------------  -----  \n",
      "26582 non-null  float64\n",
      "dtypes: float64(1)\n",
      "memory usage: 207.8 KB\n"
     ]
    }
   ],
   "source": [
    "Micro_Retailer_1['review_scores_accuracy'].info()\n",
    "n = 8021\n"
   ]
  },
  {
   "cell_type": "code",
   "execution_count": 216,
   "metadata": {},
   "outputs": [
    {
     "data": {
      "text/plain": [
       "[4.52, 5.0]"
      ]
     },
     "execution_count": 216,
     "metadata": {},
     "output_type": "execute_result"
    }
   ],
   "source": [
    "Min = Micro_Retailer_1['review_scores_accuracy'].min()  \n",
    "Max = Micro_Retailer_1['review_scores_accuracy'].max()  \n",
    "Limites = [Min,Max]\n",
    "Limites"
   ]
  },
  {
   "cell_type": "code",
   "execution_count": 217,
   "metadata": {},
   "outputs": [
    {
     "data": {
      "text/plain": [
       "0.4800000000000004"
      ]
     },
     "execution_count": 217,
     "metadata": {},
     "output_type": "execute_result"
    }
   ],
   "source": [
    "R = Max - Min\n",
    "R"
   ]
  },
  {
   "cell_type": "code",
   "execution_count": 218,
   "metadata": {},
   "outputs": [
    {
     "data": {
      "text/plain": [
       "13.96203867424906"
      ]
     },
     "execution_count": 218,
     "metadata": {},
     "output_type": "execute_result"
    }
   ],
   "source": [
    "ni = 1+3.32*np.log10(n)\n",
    "ni"
   ]
  },
  {
   "cell_type": "code",
   "execution_count": 219,
   "metadata": {},
   "outputs": [
    {
     "data": {
      "text/plain": [
       "0.03437893356399952"
      ]
     },
     "execution_count": 219,
     "metadata": {},
     "output_type": "execute_result"
    }
   ],
   "source": [
    "i = R/ni\n",
    "i\n"
   ]
  },
  {
   "cell_type": "code",
   "execution_count": 220,
   "metadata": {},
   "outputs": [
    {
     "data": {
      "text/plain": [
       "array([4.4       , 4.44615385, 4.49230769, 4.53846154, 4.58461538,\n",
       "       4.63076923, 4.67692308, 4.72307692, 4.76923077, 4.81538462,\n",
       "       4.86153846, 4.90769231, 4.95384615, 5.        ])"
      ]
     },
     "execution_count": 220,
     "metadata": {},
     "output_type": "execute_result"
    }
   ],
   "source": [
    "# Ver resultado\n",
    "intervalos = np.linspace(4.4, 5.0, 14) #Número de clases más uno\n",
    "intervalos"
   ]
  },
  {
   "cell_type": "code",
   "execution_count": 221,
   "metadata": {},
   "outputs": [],
   "source": [
    "categorias = [\"Categoría1\", \"Categoría2\", \"Categoría3\", \"Categoría4\",\n",
    "              \"Categoría5\", \"Categoría6\", \"Categoría7\", \"Categoría8\",\n",
    "              \"Categoría9\",\"Categoría10\",\"Categoría11\",\"Categoría12\",\n",
    "              \"Categoria13\"]"
   ]
  },
  {
   "cell_type": "code",
   "execution_count": 222,
   "metadata": {},
   "outputs": [
    {
     "data": {
      "text/plain": [
       "0        Categoría11\n",
       "1         Categoría4\n",
       "2         Categoría9\n",
       "3        Categoría11\n",
       "4        Categoria13\n",
       "            ...     \n",
       "26577    Categoría11\n",
       "26578    Categoría11\n",
       "26579    Categoría11\n",
       "26580    Categoría11\n",
       "26581    Categoría11\n",
       "Name: review_scores_accuracy, Length: 26582, dtype: category\n",
       "Categories (13, object): ['Categoría1' < 'Categoría2' < 'Categoría3' < 'Categoría4' ... 'Categoría10' < 'Categoría11' < 'Categoría12' < 'Categoria13']"
      ]
     },
     "execution_count": 222,
     "metadata": {},
     "output_type": "execute_result"
    }
   ],
   "source": [
    "Micro_Retailer_1['review_scores_accuracy'] = pd.cut(x = Micro_Retailer_1['review_scores_accuracy'], bins = intervalos, labels = categorias)\n",
    "Micro_Retailer_1['review_scores_accuracy']"
   ]
  },
  {
   "cell_type": "code",
   "execution_count": 223,
   "metadata": {},
   "outputs": [
    {
     "data": {
      "text/html": [
       "<div>\n",
       "<style scoped>\n",
       "    .dataframe tbody tr th:only-of-type {\n",
       "        vertical-align: middle;\n",
       "    }\n",
       "\n",
       "    .dataframe tbody tr th {\n",
       "        vertical-align: top;\n",
       "    }\n",
       "\n",
       "    .dataframe thead th {\n",
       "        text-align: right;\n",
       "    }\n",
       "</style>\n",
       "<table border=\"1\" class=\"dataframe\">\n",
       "  <thead>\n",
       "    <tr style=\"text-align: right;\">\n",
       "      <th></th>\n",
       "      <th>review_scores_accuracy</th>\n",
       "      <th>frequency</th>\n",
       "      <th>percentage</th>\n",
       "      <th>cumulative_perc</th>\n",
       "    </tr>\n",
       "  </thead>\n",
       "  <tbody>\n",
       "    <tr>\n",
       "      <th>0</th>\n",
       "      <td>Categoria13</td>\n",
       "      <td>6898</td>\n",
       "      <td>0.259499</td>\n",
       "      <td>0.259499</td>\n",
       "    </tr>\n",
       "    <tr>\n",
       "      <th>1</th>\n",
       "      <td>Categoría11</td>\n",
       "      <td>6136</td>\n",
       "      <td>0.230833</td>\n",
       "      <td>0.490332</td>\n",
       "    </tr>\n",
       "    <tr>\n",
       "      <th>2</th>\n",
       "      <td>Categoría9</td>\n",
       "      <td>3997</td>\n",
       "      <td>0.150365</td>\n",
       "      <td>0.640697</td>\n",
       "    </tr>\n",
       "    <tr>\n",
       "      <th>3</th>\n",
       "      <td>Categoría12</td>\n",
       "      <td>3130</td>\n",
       "      <td>0.117749</td>\n",
       "      <td>0.758446</td>\n",
       "    </tr>\n",
       "    <tr>\n",
       "      <th>4</th>\n",
       "      <td>Categoría10</td>\n",
       "      <td>2484</td>\n",
       "      <td>0.093447</td>\n",
       "      <td>0.851892</td>\n",
       "    </tr>\n",
       "    <tr>\n",
       "      <th>5</th>\n",
       "      <td>Categoría8</td>\n",
       "      <td>1243</td>\n",
       "      <td>0.046761</td>\n",
       "      <td>0.898653</td>\n",
       "    </tr>\n",
       "    <tr>\n",
       "      <th>6</th>\n",
       "      <td>Categoría7</td>\n",
       "      <td>901</td>\n",
       "      <td>0.033895</td>\n",
       "      <td>0.932548</td>\n",
       "    </tr>\n",
       "    <tr>\n",
       "      <th>7</th>\n",
       "      <td>Categoría6</td>\n",
       "      <td>764</td>\n",
       "      <td>0.028741</td>\n",
       "      <td>0.961290</td>\n",
       "    </tr>\n",
       "    <tr>\n",
       "      <th>8</th>\n",
       "      <td>Categoría5</td>\n",
       "      <td>551</td>\n",
       "      <td>0.020728</td>\n",
       "      <td>0.982018</td>\n",
       "    </tr>\n",
       "    <tr>\n",
       "      <th>9</th>\n",
       "      <td>Categoría4</td>\n",
       "      <td>387</td>\n",
       "      <td>0.014559</td>\n",
       "      <td>0.996577</td>\n",
       "    </tr>\n",
       "    <tr>\n",
       "      <th>10</th>\n",
       "      <td>Categoría3</td>\n",
       "      <td>91</td>\n",
       "      <td>0.003423</td>\n",
       "      <td>1.000000</td>\n",
       "    </tr>\n",
       "    <tr>\n",
       "      <th>11</th>\n",
       "      <td>Categoría1</td>\n",
       "      <td>0</td>\n",
       "      <td>0.000000</td>\n",
       "      <td>1.000000</td>\n",
       "    </tr>\n",
       "    <tr>\n",
       "      <th>12</th>\n",
       "      <td>Categoría2</td>\n",
       "      <td>0</td>\n",
       "      <td>0.000000</td>\n",
       "      <td>1.000000</td>\n",
       "    </tr>\n",
       "  </tbody>\n",
       "</table>\n",
       "</div>"
      ],
      "text/plain": [
       "   review_scores_accuracy  frequency  percentage  cumulative_perc\n",
       "0             Categoria13       6898    0.259499         0.259499\n",
       "1             Categoría11       6136    0.230833         0.490332\n",
       "2              Categoría9       3997    0.150365         0.640697\n",
       "3             Categoría12       3130    0.117749         0.758446\n",
       "4             Categoría10       2484    0.093447         0.851892\n",
       "5              Categoría8       1243    0.046761         0.898653\n",
       "6              Categoría7        901    0.033895         0.932548\n",
       "7              Categoría6        764    0.028741         0.961290\n",
       "8              Categoría5        551    0.020728         0.982018\n",
       "9              Categoría4        387    0.014559         0.996577\n",
       "10             Categoría3         91    0.003423         1.000000\n",
       "11             Categoría1          0    0.000000         1.000000\n",
       "12             Categoría2          0    0.000000         1.000000"
      ]
     },
     "execution_count": 223,
     "metadata": {},
     "output_type": "execute_result"
    }
   ],
   "source": [
    "#Obtengo un análisis univariado de una variable categórica en específico  \n",
    "variable_9 = freq_tbl(Micro_Retailer_1['review_scores_accuracy'])\n",
    "variable_9"
   ]
  },
  {
   "cell_type": "code",
   "execution_count": 224,
   "metadata": {},
   "outputs": [
    {
     "data": {
      "text/html": [
       "<div>\n",
       "<style scoped>\n",
       "    .dataframe tbody tr th:only-of-type {\n",
       "        vertical-align: middle;\n",
       "    }\n",
       "\n",
       "    .dataframe tbody tr th {\n",
       "        vertical-align: top;\n",
       "    }\n",
       "\n",
       "    .dataframe thead th {\n",
       "        text-align: right;\n",
       "    }\n",
       "</style>\n",
       "<table border=\"1\" class=\"dataframe\">\n",
       "  <thead>\n",
       "    <tr style=\"text-align: right;\">\n",
       "      <th></th>\n",
       "      <th>review_scores_accuracy</th>\n",
       "      <th>frequency</th>\n",
       "    </tr>\n",
       "  </thead>\n",
       "  <tbody>\n",
       "    <tr>\n",
       "      <th>0</th>\n",
       "      <td>Categoria13</td>\n",
       "      <td>6898</td>\n",
       "    </tr>\n",
       "    <tr>\n",
       "      <th>1</th>\n",
       "      <td>Categoría11</td>\n",
       "      <td>6136</td>\n",
       "    </tr>\n",
       "    <tr>\n",
       "      <th>2</th>\n",
       "      <td>Categoría9</td>\n",
       "      <td>3997</td>\n",
       "    </tr>\n",
       "    <tr>\n",
       "      <th>3</th>\n",
       "      <td>Categoría12</td>\n",
       "      <td>3130</td>\n",
       "    </tr>\n",
       "    <tr>\n",
       "      <th>4</th>\n",
       "      <td>Categoría10</td>\n",
       "      <td>2484</td>\n",
       "    </tr>\n",
       "    <tr>\n",
       "      <th>5</th>\n",
       "      <td>Categoría8</td>\n",
       "      <td>1243</td>\n",
       "    </tr>\n",
       "    <tr>\n",
       "      <th>6</th>\n",
       "      <td>Categoría7</td>\n",
       "      <td>901</td>\n",
       "    </tr>\n",
       "    <tr>\n",
       "      <th>7</th>\n",
       "      <td>Categoría6</td>\n",
       "      <td>764</td>\n",
       "    </tr>\n",
       "    <tr>\n",
       "      <th>8</th>\n",
       "      <td>Categoría5</td>\n",
       "      <td>551</td>\n",
       "    </tr>\n",
       "    <tr>\n",
       "      <th>9</th>\n",
       "      <td>Categoría4</td>\n",
       "      <td>387</td>\n",
       "    </tr>\n",
       "    <tr>\n",
       "      <th>10</th>\n",
       "      <td>Categoría3</td>\n",
       "      <td>91</td>\n",
       "    </tr>\n",
       "    <tr>\n",
       "      <th>11</th>\n",
       "      <td>Categoría1</td>\n",
       "      <td>0</td>\n",
       "    </tr>\n",
       "    <tr>\n",
       "      <th>12</th>\n",
       "      <td>Categoría2</td>\n",
       "      <td>0</td>\n",
       "    </tr>\n",
       "  </tbody>\n",
       "</table>\n",
       "</div>"
      ],
      "text/plain": [
       "   review_scores_accuracy  frequency\n",
       "0             Categoria13       6898\n",
       "1             Categoría11       6136\n",
       "2              Categoría9       3997\n",
       "3             Categoría12       3130\n",
       "4             Categoría10       2484\n",
       "5              Categoría8       1243\n",
       "6              Categoría7        901\n",
       "7              Categoría6        764\n",
       "8              Categoría5        551\n",
       "9              Categoría4        387\n",
       "10             Categoría3         91\n",
       "11             Categoría1          0\n",
       "12             Categoría2          0"
      ]
     },
     "execution_count": 224,
     "metadata": {},
     "output_type": "execute_result"
    }
   ],
   "source": [
    "#Elimino las columnas \"procentage\" y \"cumulative_perc\" para trabajar con las fecuencias\n",
    "variable_9_2 = variable_9.drop(['percentage', 'cumulative_perc'], axis=1)\n",
    "variable_9_2\n"
   ]
  },
  {
   "cell_type": "code",
   "execution_count": 225,
   "metadata": {},
   "outputs": [
    {
     "data": {
      "text/html": [
       "<div>\n",
       "<style scoped>\n",
       "    .dataframe tbody tr th:only-of-type {\n",
       "        vertical-align: middle;\n",
       "    }\n",
       "\n",
       "    .dataframe tbody tr th {\n",
       "        vertical-align: top;\n",
       "    }\n",
       "\n",
       "    .dataframe thead th {\n",
       "        text-align: right;\n",
       "    }\n",
       "</style>\n",
       "<table border=\"1\" class=\"dataframe\">\n",
       "  <thead>\n",
       "    <tr style=\"text-align: right;\">\n",
       "      <th></th>\n",
       "      <th>review_scores_accuracy</th>\n",
       "      <th>frequency</th>\n",
       "    </tr>\n",
       "  </thead>\n",
       "  <tbody>\n",
       "    <tr>\n",
       "      <th>0</th>\n",
       "      <td>Categoria13</td>\n",
       "      <td>6898</td>\n",
       "    </tr>\n",
       "    <tr>\n",
       "      <th>1</th>\n",
       "      <td>Categoría11</td>\n",
       "      <td>6136</td>\n",
       "    </tr>\n",
       "    <tr>\n",
       "      <th>2</th>\n",
       "      <td>Categoría9</td>\n",
       "      <td>3997</td>\n",
       "    </tr>\n",
       "    <tr>\n",
       "      <th>3</th>\n",
       "      <td>Categoría12</td>\n",
       "      <td>3130</td>\n",
       "    </tr>\n",
       "    <tr>\n",
       "      <th>4</th>\n",
       "      <td>Categoría10</td>\n",
       "      <td>2484</td>\n",
       "    </tr>\n",
       "    <tr>\n",
       "      <th>5</th>\n",
       "      <td>Categoría8</td>\n",
       "      <td>1243</td>\n",
       "    </tr>\n",
       "    <tr>\n",
       "      <th>6</th>\n",
       "      <td>Categoría7</td>\n",
       "      <td>901</td>\n",
       "    </tr>\n",
       "    <tr>\n",
       "      <th>7</th>\n",
       "      <td>Categoría6</td>\n",
       "      <td>764</td>\n",
       "    </tr>\n",
       "    <tr>\n",
       "      <th>8</th>\n",
       "      <td>Categoría5</td>\n",
       "      <td>551</td>\n",
       "    </tr>\n",
       "    <tr>\n",
       "      <th>9</th>\n",
       "      <td>Categoría4</td>\n",
       "      <td>387</td>\n",
       "    </tr>\n",
       "  </tbody>\n",
       "</table>\n",
       "</div>"
      ],
      "text/plain": [
       "  review_scores_accuracy  frequency\n",
       "0            Categoria13       6898\n",
       "1            Categoría11       6136\n",
       "2             Categoría9       3997\n",
       "3            Categoría12       3130\n",
       "4            Categoría10       2484\n",
       "5             Categoría8       1243\n",
       "6             Categoría7        901\n",
       "7             Categoría6        764\n",
       "8             Categoría5        551\n",
       "9             Categoría4        387"
      ]
     },
     "execution_count": 225,
     "metadata": {},
     "output_type": "execute_result"
    }
   ],
   "source": [
    "filtro_9 = variable_9_2[variable_9_2['frequency'] > 100]\n",
    "filtro_9"
   ]
  },
  {
   "cell_type": "code",
   "execution_count": 226,
   "metadata": {},
   "outputs": [
    {
     "data": {
      "text/html": [
       "<div>\n",
       "<style scoped>\n",
       "    .dataframe tbody tr th:only-of-type {\n",
       "        vertical-align: middle;\n",
       "    }\n",
       "\n",
       "    .dataframe tbody tr th {\n",
       "        vertical-align: top;\n",
       "    }\n",
       "\n",
       "    .dataframe thead th {\n",
       "        text-align: right;\n",
       "    }\n",
       "</style>\n",
       "<table border=\"1\" class=\"dataframe\">\n",
       "  <thead>\n",
       "    <tr style=\"text-align: right;\">\n",
       "      <th></th>\n",
       "      <th>frequency</th>\n",
       "    </tr>\n",
       "    <tr>\n",
       "      <th>review_scores_accuracy</th>\n",
       "      <th></th>\n",
       "    </tr>\n",
       "  </thead>\n",
       "  <tbody>\n",
       "    <tr>\n",
       "      <th>Categoria13</th>\n",
       "      <td>6898</td>\n",
       "    </tr>\n",
       "    <tr>\n",
       "      <th>Categoría11</th>\n",
       "      <td>6136</td>\n",
       "    </tr>\n",
       "    <tr>\n",
       "      <th>Categoría9</th>\n",
       "      <td>3997</td>\n",
       "    </tr>\n",
       "    <tr>\n",
       "      <th>Categoría12</th>\n",
       "      <td>3130</td>\n",
       "    </tr>\n",
       "    <tr>\n",
       "      <th>Categoría10</th>\n",
       "      <td>2484</td>\n",
       "    </tr>\n",
       "    <tr>\n",
       "      <th>Categoría8</th>\n",
       "      <td>1243</td>\n",
       "    </tr>\n",
       "    <tr>\n",
       "      <th>Categoría7</th>\n",
       "      <td>901</td>\n",
       "    </tr>\n",
       "    <tr>\n",
       "      <th>Categoría6</th>\n",
       "      <td>764</td>\n",
       "    </tr>\n",
       "    <tr>\n",
       "      <th>Categoría5</th>\n",
       "      <td>551</td>\n",
       "    </tr>\n",
       "    <tr>\n",
       "      <th>Categoría4</th>\n",
       "      <td>387</td>\n",
       "    </tr>\n",
       "  </tbody>\n",
       "</table>\n",
       "</div>"
      ],
      "text/plain": [
       "                        frequency\n",
       "review_scores_accuracy           \n",
       "Categoria13                  6898\n",
       "Categoría11                  6136\n",
       "Categoría9                   3997\n",
       "Categoría12                  3130\n",
       "Categoría10                  2484\n",
       "Categoría8                   1243\n",
       "Categoría7                    901\n",
       "Categoría6                    764\n",
       "Categoría5                    551\n",
       "Categoría4                    387"
      ]
     },
     "execution_count": 226,
     "metadata": {},
     "output_type": "execute_result"
    }
   ],
   "source": [
    "#Ajusto el indice de mi DataFrame\n",
    "filtro_i9 = filtro_9.set_index('review_scores_accuracy')\n",
    "filtro_i9"
   ]
  },
  {
   "cell_type": "code",
   "execution_count": 227,
   "metadata": {},
   "outputs": [
    {
     "data": {
      "text/plain": [
       "Text(0, 0.5, 'Frecuencia')"
      ]
     },
     "execution_count": 227,
     "metadata": {},
     "output_type": "execute_result"
    },
    {
     "data": {
      "image/png": "[encoded data removed]",
      "text/plain": [
       "<Figure size 1000x400 with 1 Axes>"
      ]
     },
     "metadata": {},
     "output_type": "display_data"
    }
   ],
   "source": [
    "#Realizamos grafico de barras del Dataframe filtrado\n",
    "filtro_i9.plot(kind = 'bar', width=0.8, figsize=(10,4), color = \"red\")\n",
    "plt.title('Evaluación de precisión')\n",
    "plt.xlabel('Categoria')\n",
    "plt.ylabel('Frecuencia')"
   ]
  }
 ],
 "metadata": {
  "kernelspec": {
   "display_name": "Python 3",
   "language": "python",
   "name": "python3"
  },
  "language_info": {
   "codemirror_mode": {
    "name": "ipython",
    "version": 3
   },
   "file_extension": ".py",
   "mimetype": "text/x-python",
   "name": "python",
   "nbconvert_exporter": "python",
   "pygments_lexer": "ipython3",
   "version": "3.12.6"
  }
 },
 "nbformat": 4,
 "nbformat_minor": 2
}
